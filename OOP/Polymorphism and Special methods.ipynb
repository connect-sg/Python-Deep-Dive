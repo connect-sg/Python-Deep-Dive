{
 "cells": [
  {
   "cell_type": "code",
   "execution_count": 1,
   "id": "87f086df",
   "metadata": {},
   "outputs": [],
   "source": [
    "# the ability to define a generic type of behaviour that will behave differently when applied to different types\n",
    "# python is polymorphism in nature\n",
    "# duck typing\n",
    "# Special methods  i.e. dunder methods"
   ]
  },
  {
   "cell_type": "markdown",
   "id": "674e720e",
   "metadata": {},
   "source": [
    "### __str__ and __repr__ methods"
   ]
  },
  {
   "cell_type": "code",
   "execution_count": 11,
   "id": "81505394",
   "metadata": {},
   "outputs": [],
   "source": [
    "class Person:\n",
    "    def __init__(self, name, age):\n",
    "        self.name = name\n",
    "        self.age = age\n",
    "        \n",
    "        \n",
    "    def __repr__(self):\n",
    "        print('__repr__called')\n",
    "        return f'person(name = {self.name},age={self.age})'\n",
    "    \n",
    "    def __str__(self):\n",
    "        print('__str__ called..')\n",
    "        return self.name"
   ]
  },
  {
   "cell_type": "code",
   "execution_count": 12,
   "id": "bd136309",
   "metadata": {},
   "outputs": [],
   "source": [
    "p = Person('Python', 30)"
   ]
  },
  {
   "cell_type": "code",
   "execution_count": 13,
   "id": "217e4e90",
   "metadata": {},
   "outputs": [
    {
     "name": "stdout",
     "output_type": "stream",
     "text": [
      "__repr__called\n"
     ]
    },
    {
     "data": {
      "text/plain": [
       "person(name = Python,age=30)"
      ]
     },
     "execution_count": 13,
     "metadata": {},
     "output_type": "execute_result"
    }
   ],
   "source": [
    "p"
   ]
  },
  {
   "cell_type": "code",
   "execution_count": 14,
   "id": "4039fce6",
   "metadata": {},
   "outputs": [
    {
     "name": "stdout",
     "output_type": "stream",
     "text": [
      "__str__ called..\n",
      "Python\n"
     ]
    }
   ],
   "source": [
    "print(p)"
   ]
  },
  {
   "cell_type": "code",
   "execution_count": 15,
   "id": "4bec0fae",
   "metadata": {},
   "outputs": [
    {
     "name": "stdout",
     "output_type": "stream",
     "text": [
      "__str__ called..\n"
     ]
    },
    {
     "data": {
      "text/plain": [
       "'Python'"
      ]
     },
     "execution_count": 15,
     "metadata": {},
     "output_type": "execute_result"
    }
   ],
   "source": [
    "str(p)"
   ]
  },
  {
   "cell_type": "code",
   "execution_count": 16,
   "id": "e2ef625c",
   "metadata": {},
   "outputs": [
    {
     "name": "stdout",
     "output_type": "stream",
     "text": [
      "__repr__called\n"
     ]
    },
    {
     "data": {
      "text/plain": [
       "'person(name = Python,age=30)'"
      ]
     },
     "execution_count": 16,
     "metadata": {},
     "output_type": "execute_result"
    }
   ],
   "source": [
    "repr(p)"
   ]
  },
  {
   "cell_type": "code",
   "execution_count": 17,
   "id": "10ea43b2",
   "metadata": {},
   "outputs": [],
   "source": [
    "class Person:\n",
    "    pass\n",
    "\n",
    "class Point:\n",
    "    pass"
   ]
  },
  {
   "cell_type": "code",
   "execution_count": 18,
   "id": "064077ea",
   "metadata": {},
   "outputs": [],
   "source": [
    "person = Person()\n",
    "point = Point()"
   ]
  },
  {
   "cell_type": "code",
   "execution_count": 19,
   "id": "feeadeef",
   "metadata": {},
   "outputs": [
    {
     "data": {
      "text/plain": [
       "('<__main__.Person object at 0x10b6ce650>',\n",
       " '<__main__.Point object at 0x10b6cdc10>')"
      ]
     },
     "execution_count": 19,
     "metadata": {},
     "output_type": "execute_result"
    }
   ],
   "source": [
    "repr(person), repr(point) # default repr method"
   ]
  },
  {
   "cell_type": "code",
   "execution_count": 20,
   "id": "1774e7d3",
   "metadata": {},
   "outputs": [
    {
     "data": {
      "text/plain": [
       "('<__main__.Person object at 0x10b6ce650>',\n",
       " '<__main__.Point object at 0x10b6cdc10>')"
      ]
     },
     "execution_count": 20,
     "metadata": {},
     "output_type": "execute_result"
    }
   ],
   "source": [
    "str(person), str(point) # default repr method"
   ]
  },
  {
   "cell_type": "code",
   "execution_count": 21,
   "id": "3ac54f74",
   "metadata": {},
   "outputs": [],
   "source": [
    "class Person:\n",
    "    def __init__(self, name, age):\n",
    "        self.name = name\n",
    "        self.age = age\n",
    "        \n",
    "    \n",
    "    def __str__(self):\n",
    "        print('__str__ called..')\n",
    "        return self.name"
   ]
  },
  {
   "cell_type": "code",
   "execution_count": 22,
   "id": "9058e197",
   "metadata": {},
   "outputs": [],
   "source": [
    "p = Person('Python', 30)"
   ]
  },
  {
   "cell_type": "code",
   "execution_count": 23,
   "id": "6c959109",
   "metadata": {},
   "outputs": [
    {
     "data": {
      "text/plain": [
       "<__main__.Person at 0x10b6edfd0>"
      ]
     },
     "execution_count": 23,
     "metadata": {},
     "output_type": "execute_result"
    }
   ],
   "source": [
    "p"
   ]
  },
  {
   "cell_type": "code",
   "execution_count": 24,
   "id": "c864efd8",
   "metadata": {},
   "outputs": [
    {
     "data": {
      "text/plain": [
       "'<__main__.Person object at 0x10b6edfd0>'"
      ]
     },
     "execution_count": 24,
     "metadata": {},
     "output_type": "execute_result"
    }
   ],
   "source": [
    "repr(p) # default repr method"
   ]
  },
  {
   "cell_type": "code",
   "execution_count": 25,
   "id": "7406bb98",
   "metadata": {},
   "outputs": [
    {
     "name": "stdout",
     "output_type": "stream",
     "text": [
      "__str__ called..\n",
      "Python\n"
     ]
    }
   ],
   "source": [
    "print(p)"
   ]
  },
  {
   "cell_type": "code",
   "execution_count": 26,
   "id": "939f6a85",
   "metadata": {},
   "outputs": [
    {
     "name": "stdout",
     "output_type": "stream",
     "text": [
      "__str__ called..\n"
     ]
    },
    {
     "data": {
      "text/plain": [
       "'Python'"
      ]
     },
     "execution_count": 26,
     "metadata": {},
     "output_type": "execute_result"
    }
   ],
   "source": [
    "str(p)"
   ]
  },
  {
   "cell_type": "code",
   "execution_count": 27,
   "id": "0a457061",
   "metadata": {},
   "outputs": [],
   "source": [
    "class Person:\n",
    "    def __init__(self, name, age):\n",
    "        self.name = name\n",
    "        self.age = age\n",
    "        \n",
    "        \n",
    "    def __repr__(self):\n",
    "        print('__repr__called')\n",
    "        return f'person(name = {self.name},age={self.age})'\n",
    "    \n",
    "    def __str__(self):\n",
    "        print('__str__ called..')\n",
    "        return self.name"
   ]
  },
  {
   "cell_type": "code",
   "execution_count": 28,
   "id": "09b81c7f",
   "metadata": {},
   "outputs": [],
   "source": [
    "p = Person('Python', 30)"
   ]
  },
  {
   "cell_type": "code",
   "execution_count": 29,
   "id": "87e97423",
   "metadata": {},
   "outputs": [
    {
     "name": "stdout",
     "output_type": "stream",
     "text": [
      "__str__ called..\n"
     ]
    },
    {
     "data": {
      "text/plain": [
       "'The person is Python'"
      ]
     },
     "execution_count": 29,
     "metadata": {},
     "output_type": "execute_result"
    }
   ],
   "source": [
    "f'The person is {p}'"
   ]
  },
  {
   "cell_type": "code",
   "execution_count": 30,
   "id": "b91966e9",
   "metadata": {},
   "outputs": [
    {
     "name": "stdout",
     "output_type": "stream",
     "text": [
      "__str__ called..\n"
     ]
    },
    {
     "data": {
      "text/plain": [
       "'The person is Python'"
      ]
     },
     "execution_count": 30,
     "metadata": {},
     "output_type": "execute_result"
    }
   ],
   "source": [
    "'The person is {}'.format(p)"
   ]
  },
  {
   "cell_type": "markdown",
   "id": "404aca58",
   "metadata": {},
   "source": [
    "### Arithmetic operators "
   ]
  },
  {
   "cell_type": "code",
   "execution_count": 31,
   "id": "994d1b1d",
   "metadata": {},
   "outputs": [],
   "source": [
    "## __add__\n",
    "## __sub__\n",
    "## __mul__\n",
    "## __truediv__ /\n",
    "## __floordiv__ //\n",
    "## __mod__ %\n",
    "## __pow__ **\n",
    "## __matmul__ @"
   ]
  },
  {
   "cell_type": "code",
   "execution_count": 32,
   "id": "613ed522",
   "metadata": {},
   "outputs": [
    {
     "data": {
      "text/plain": [
       "'\\nconsider a + b\\npython wil attempt to call a.__add__(b)\\n\\nif this returns NotImplemented AND operands are not of same type\\n\\npython will swap the operands and try this instead b.__add__(a)\\n\\n'"
      ]
     },
     "execution_count": 32,
     "metadata": {},
     "output_type": "execute_result"
    }
   ],
   "source": [
    "'''\n",
    "consider a + b\n",
    "python wil attempt to call a.__add__(b)\n",
    "\n",
    "if this returns NotImplemented AND operands are not of same type\n",
    "\n",
    "python will swap the operands and try this instead b.__add__(a)\n",
    "\n",
    "'''"
   ]
  },
  {
   "cell_type": "code",
   "execution_count": 33,
   "id": "d16ce749",
   "metadata": {},
   "outputs": [],
   "source": [
    "# in-place operators\n",
    "## __iadd__ +=\n",
    "## __isub__ -=\n",
    "## __imul__\n",
    "## __itruediv__\n",
    "## __ifloordiv__\n",
    "\n",
    "\n",
    "# unary operator\n",
    "## __neg__\n",
    "## __Pos__\n",
    "## __abs__"
   ]
  },
  {
   "cell_type": "code",
   "execution_count": 34,
   "id": "2e502837",
   "metadata": {},
   "outputs": [],
   "source": [
    "from numbers import Real"
   ]
  },
  {
   "cell_type": "code",
   "execution_count": 64,
   "id": "74cf4a10",
   "metadata": {},
   "outputs": [],
   "source": [
    "#### this example needs to be revisited\n",
    "class Vector:\n",
    "    def __init__(self, *components):\n",
    "        if len(components)<1:\n",
    "            raise ValueError('Cannot create an empty vector')\n",
    "            \n",
    "        for component in components:\n",
    "            if not isinstance(component, Real):\n",
    "                raise ValueError(f'Vector components must all be real numbers. {component} is invalid')\n",
    "                \n",
    "        self._components = tuple(components)\n",
    "        \n",
    "         \n",
    "        def __len__(self):\n",
    "            return len(self._components)\n",
    "        \n",
    "        @property\n",
    "        def components(self):\n",
    "            return self._components\n",
    "        \n",
    "        def __repr__(self):\n",
    "            return f'Vector{self.components}'\n",
    "        \n",
    "        def __str__(self):\n",
    "            return f'Vector{self.components}'\n",
    "        \n",
    "        \n",
    "        def validate_type_and_dimension(self, v):\n",
    "            return isinstance(v,Vector) and len(v) ==len(self)\n",
    "        \n",
    "        \n",
    "        def __add__(self, other):\n",
    "            if not self.validate_type_and_dimension(other):\n",
    "                    return NotImplemented\n",
    "                \n",
    "            components = (x + y for x,y in zip(self._components, other.components)) \n",
    "            return Vector(components)            "
   ]
  },
  {
   "cell_type": "code",
   "execution_count": 68,
   "id": "3444a6f1",
   "metadata": {},
   "outputs": [],
   "source": [
    "v1 = Vector(1,2)\n",
    "v2 = Vector(1,1)\n",
    "v3 = Vector(1,2,3,4)"
   ]
  },
  {
   "cell_type": "markdown",
   "id": "f44f355b",
   "metadata": {},
   "source": [
    "### Rich comparisons"
   ]
  },
  {
   "cell_type": "code",
   "execution_count": 70,
   "id": "ffd56ab0",
   "metadata": {},
   "outputs": [],
   "source": [
    "class Vector:\n",
    "    def __init__(self, x,y):\n",
    "        self.x = x\n",
    "        self.y = y\n",
    "        \n",
    "    def __repr__(self):\n",
    "        return f'Vector(x={self.x}, y = {self.y})'"
   ]
  },
  {
   "cell_type": "code",
   "execution_count": 72,
   "id": "bf0d2bf9",
   "metadata": {},
   "outputs": [],
   "source": [
    "v1 = Vector(0,0)\n",
    "v2 = Vector(0,0)"
   ]
  },
  {
   "cell_type": "code",
   "execution_count": 73,
   "id": "df8b58b2",
   "metadata": {},
   "outputs": [
    {
     "data": {
      "text/plain": [
       "(4487621904, 4487183888)"
      ]
     },
     "execution_count": 73,
     "metadata": {},
     "output_type": "execute_result"
    }
   ],
   "source": [
    "id(v1), id(v2)"
   ]
  },
  {
   "cell_type": "code",
   "execution_count": 74,
   "id": "e9c51003",
   "metadata": {},
   "outputs": [
    {
     "data": {
      "text/plain": [
       "False"
      ]
     },
     "execution_count": 74,
     "metadata": {},
     "output_type": "execute_result"
    }
   ],
   "source": [
    "v1 ==v2"
   ]
  },
  {
   "cell_type": "code",
   "execution_count": 75,
   "id": "b8956fd9",
   "metadata": {},
   "outputs": [
    {
     "data": {
      "text/plain": [
       "Vector(x=0, y = 0)"
      ]
     },
     "execution_count": 75,
     "metadata": {},
     "output_type": "execute_result"
    }
   ],
   "source": [
    "v1"
   ]
  },
  {
   "cell_type": "code",
   "execution_count": 78,
   "id": "116a7d88",
   "metadata": {},
   "outputs": [],
   "source": [
    "class Vector:\n",
    "    def __init__(self, x,y):\n",
    "        self.x = x\n",
    "        self.y = y\n",
    "        \n",
    "    def __repr__(self):\n",
    "        return f'Vector(x={self.x}, y={self.y})'\n",
    "    \n",
    "    \n",
    "    def __eq__(self, other):\n",
    "        if isinstance(other, Vector):\n",
    "            return self.x ==other.x and self.y == other.y\n",
    "        return NotImplemented"
   ]
  },
  {
   "cell_type": "code",
   "execution_count": 80,
   "id": "a8adf47f",
   "metadata": {},
   "outputs": [],
   "source": [
    "v1 = Vector(1,2)\n",
    "v2 = Vector(1,2)\n",
    "v3 = Vector(10,10)"
   ]
  },
  {
   "cell_type": "code",
   "execution_count": 81,
   "id": "d1f11c57",
   "metadata": {},
   "outputs": [
    {
     "data": {
      "text/plain": [
       "(True, False)"
      ]
     },
     "execution_count": 81,
     "metadata": {},
     "output_type": "execute_result"
    }
   ],
   "source": [
    "v1==v2, v1 is v2"
   ]
  },
  {
   "cell_type": "code",
   "execution_count": 82,
   "id": "5597dc21",
   "metadata": {},
   "outputs": [
    {
     "data": {
      "text/plain": [
       "False"
      ]
     },
     "execution_count": 82,
     "metadata": {},
     "output_type": "execute_result"
    }
   ],
   "source": [
    "v1==v3"
   ]
  },
  {
   "cell_type": "code",
   "execution_count": 91,
   "id": "09644786",
   "metadata": {},
   "outputs": [],
   "source": [
    "class Vector:\n",
    "    def __init__(self, x,y):\n",
    "        self.x = x\n",
    "        self.y = y\n",
    "        \n",
    "    def __repr__(self):\n",
    "        return f'Vector(x={self.x}, y={self.y})'\n",
    "    \n",
    "    \n",
    "    def __eq__(self, other):\n",
    "        print('__eq__ called..')\n",
    "        \n",
    "        if isinstance(other, tuple):\n",
    "            other = Vector(*other)\n",
    "            \n",
    "            \n",
    "        if isinstance(other, Vector):\n",
    "            return self.x ==other.x and self.y == other.y\n",
    "        return NotImplemented"
   ]
  },
  {
   "cell_type": "code",
   "execution_count": 92,
   "id": "edfe5c14",
   "metadata": {},
   "outputs": [],
   "source": [
    "v1 = Vector(10,11)"
   ]
  },
  {
   "cell_type": "code",
   "execution_count": 93,
   "id": "97ae2d19",
   "metadata": {},
   "outputs": [
    {
     "name": "stdout",
     "output_type": "stream",
     "text": [
      "__eq__ called..\n"
     ]
    },
    {
     "data": {
      "text/plain": [
       "True"
      ]
     },
     "execution_count": 93,
     "metadata": {},
     "output_type": "execute_result"
    }
   ],
   "source": [
    "v1 == (10,11)"
   ]
  },
  {
   "cell_type": "code",
   "execution_count": 94,
   "id": "b6c29acd",
   "metadata": {},
   "outputs": [
    {
     "name": "stdout",
     "output_type": "stream",
     "text": [
      "__eq__ called..\n"
     ]
    },
    {
     "data": {
      "text/plain": [
       "True"
      ]
     },
     "execution_count": 94,
     "metadata": {},
     "output_type": "execute_result"
    }
   ],
   "source": [
    "(10,11) ==v1"
   ]
  },
  {
   "cell_type": "code",
   "execution_count": 102,
   "id": "85e89938",
   "metadata": {},
   "outputs": [],
   "source": [
    "from math import sqrt\n",
    "\n",
    "class Vector:\n",
    "    def __init__(self, x,y):\n",
    "        self.x = x\n",
    "        self.y = y\n",
    "        \n",
    "    def __repr__(self):\n",
    "        return f'Vector(x={self.x}, y={self.y})'\n",
    "    \n",
    "    \n",
    "    def __eq__(self, other):\n",
    "        print('__eq__ called..')\n",
    "        \n",
    "        if isinstance(other, tuple):\n",
    "            other = Vector(*other)\n",
    "            \n",
    "            \n",
    "        if isinstance(other, Vector):\n",
    "            return self.x ==other.x and self.y == other.y\n",
    "        return NotImplemented\n",
    "    \n",
    "    def __abs__(self):\n",
    "        return sqrt(self.x**2 + self.y**2)\n",
    "    \n",
    "    def __lt__(self, other):\n",
    "        print('__lt__ called...')\n",
    "        if isinstance(other, tuple):\n",
    "            other = Vector(*other)\n",
    "            \n",
    "        if isinstance(other, Vector):\n",
    "            return abs(self)< abs(other)\n",
    "        \n",
    "        \n",
    "        "
   ]
  },
  {
   "cell_type": "code",
   "execution_count": 103,
   "id": "52779071",
   "metadata": {},
   "outputs": [],
   "source": [
    "v1 = Vector(0,0)\n",
    "v2 = Vector(1,1)"
   ]
  },
  {
   "cell_type": "code",
   "execution_count": 104,
   "id": "5f014be2",
   "metadata": {},
   "outputs": [
    {
     "name": "stdout",
     "output_type": "stream",
     "text": [
      "__lt__ called...\n"
     ]
    },
    {
     "data": {
      "text/plain": [
       "False"
      ]
     },
     "execution_count": 104,
     "metadata": {},
     "output_type": "execute_result"
    }
   ],
   "source": [
    "v2<v1"
   ]
  },
  {
   "cell_type": "code",
   "execution_count": 105,
   "id": "e3f813e6",
   "metadata": {},
   "outputs": [
    {
     "name": "stdout",
     "output_type": "stream",
     "text": [
      "__lt__ called...\n"
     ]
    },
    {
     "data": {
      "text/plain": [
       "True"
      ]
     },
     "execution_count": 105,
     "metadata": {},
     "output_type": "execute_result"
    }
   ],
   "source": [
    "v1<v2"
   ]
  },
  {
   "cell_type": "code",
   "execution_count": 106,
   "id": "35db9b3b",
   "metadata": {},
   "outputs": [
    {
     "name": "stdout",
     "output_type": "stream",
     "text": [
      "__lt__ called...\n"
     ]
    },
    {
     "data": {
      "text/plain": [
       "True"
      ]
     },
     "execution_count": 106,
     "metadata": {},
     "output_type": "execute_result"
    }
   ],
   "source": [
    "v2>v1"
   ]
  },
  {
   "cell_type": "code",
   "execution_count": 107,
   "id": "e5040e9d",
   "metadata": {},
   "outputs": [
    {
     "name": "stdout",
     "output_type": "stream",
     "text": [
      "__lt__ called...\n"
     ]
    },
    {
     "data": {
      "text/plain": [
       "True"
      ]
     },
     "execution_count": 107,
     "metadata": {},
     "output_type": "execute_result"
    }
   ],
   "source": [
    "v1<(1,1)"
   ]
  },
  {
   "cell_type": "code",
   "execution_count": 108,
   "id": "03f21dc9",
   "metadata": {},
   "outputs": [
    {
     "name": "stdout",
     "output_type": "stream",
     "text": [
      "__lt__ called...\n"
     ]
    },
    {
     "data": {
      "text/plain": [
       "True"
      ]
     },
     "execution_count": 108,
     "metadata": {},
     "output_type": "execute_result"
    }
   ],
   "source": [
    "(1,1)>v1"
   ]
  },
  {
   "cell_type": "code",
   "execution_count": 109,
   "id": "c37c29d4",
   "metadata": {},
   "outputs": [],
   "source": [
    "from math import sqrt\n",
    "\n",
    "class Vector:\n",
    "    def __init__(self, x,y):\n",
    "        self.x = x\n",
    "        self.y = y\n",
    "        \n",
    "    def __repr__(self):\n",
    "        return f'Vector(x={self.x}, y={self.y})'\n",
    "    \n",
    "    \n",
    "    def __eq__(self, other):\n",
    "        print('__eq__ called..')\n",
    "        \n",
    "        if isinstance(other, tuple):\n",
    "            other = Vector(*other)\n",
    "            \n",
    "            \n",
    "        if isinstance(other, Vector):\n",
    "            return self.x ==other.x and self.y == other.y\n",
    "        return NotImplemented\n",
    "    \n",
    "    def __abs__(self):\n",
    "        return sqrt(self.x**2 + self.y**2)\n",
    "    \n",
    "    def __lt__(self, other):\n",
    "        print('__lt__ called...')\n",
    "        if isinstance(other, tuple):\n",
    "            other = Vector(*other)\n",
    "            \n",
    "        if isinstance(other, Vector):\n",
    "            return abs(self)< abs(other)\n",
    "    \n",
    "    def __le__(self, other):\n",
    "        return self ==other or self<other\n",
    "        \n",
    "        "
   ]
  },
  {
   "cell_type": "code",
   "execution_count": 110,
   "id": "521be477",
   "metadata": {},
   "outputs": [],
   "source": [
    "v1 = Vector(0,0)\n",
    "v2 = Vector(0,0)\n",
    "v3 = Vector(1,1)"
   ]
  },
  {
   "cell_type": "code",
   "execution_count": 111,
   "id": "8d2c5dde",
   "metadata": {},
   "outputs": [
    {
     "name": "stdout",
     "output_type": "stream",
     "text": [
      "__eq__ called..\n"
     ]
    },
    {
     "data": {
      "text/plain": [
       "True"
      ]
     },
     "execution_count": 111,
     "metadata": {},
     "output_type": "execute_result"
    }
   ],
   "source": [
    "v1<=v2"
   ]
  },
  {
   "cell_type": "code",
   "execution_count": 112,
   "id": "57f7b0a5",
   "metadata": {},
   "outputs": [
    {
     "name": "stdout",
     "output_type": "stream",
     "text": [
      "__eq__ called..\n",
      "__lt__ called...\n"
     ]
    },
    {
     "data": {
      "text/plain": [
       "True"
      ]
     },
     "execution_count": 112,
     "metadata": {},
     "output_type": "execute_result"
    }
   ],
   "source": [
    "v1<=v3"
   ]
  },
  {
   "cell_type": "code",
   "execution_count": 113,
   "id": "cf4b7081",
   "metadata": {},
   "outputs": [
    {
     "name": "stdout",
     "output_type": "stream",
     "text": [
      "__eq__ called..\n",
      "__lt__ called...\n"
     ]
    },
    {
     "data": {
      "text/plain": [
       "False"
      ]
     },
     "execution_count": 113,
     "metadata": {},
     "output_type": "execute_result"
    }
   ],
   "source": [
    "v1>=v3"
   ]
  },
  {
   "cell_type": "code",
   "execution_count": 114,
   "id": "c49ec4ab",
   "metadata": {},
   "outputs": [
    {
     "name": "stdout",
     "output_type": "stream",
     "text": [
      "__eq__ called..\n"
     ]
    },
    {
     "data": {
      "text/plain": [
       "False"
      ]
     },
     "execution_count": 114,
     "metadata": {},
     "output_type": "execute_result"
    }
   ],
   "source": [
    "not(v1==v2)"
   ]
  },
  {
   "cell_type": "markdown",
   "id": "76fa24ff",
   "metadata": {},
   "source": [
    "## Hashing and Equality"
   ]
  },
  {
   "cell_type": "code",
   "execution_count": 115,
   "id": "7bf975b5",
   "metadata": {},
   "outputs": [],
   "source": [
    "# key in dictionary \n",
    "# element of a set\n",
    "# __hash__\n",
    "# __eq__"
   ]
  },
  {
   "cell_type": "code",
   "execution_count": 116,
   "id": "33cd3042",
   "metadata": {},
   "outputs": [
    {
     "data": {
      "text/plain": [
       "['__class__',\n",
       " '__delattr__',\n",
       " '__dir__',\n",
       " '__doc__',\n",
       " '__eq__',\n",
       " '__format__',\n",
       " '__ge__',\n",
       " '__getattribute__',\n",
       " '__getstate__',\n",
       " '__gt__',\n",
       " '__hash__',\n",
       " '__init__',\n",
       " '__init_subclass__',\n",
       " '__le__',\n",
       " '__lt__',\n",
       " '__ne__',\n",
       " '__new__',\n",
       " '__reduce__',\n",
       " '__reduce_ex__',\n",
       " '__repr__',\n",
       " '__setattr__',\n",
       " '__sizeof__',\n",
       " '__str__',\n",
       " '__subclasshook__']"
      ]
     },
     "execution_count": 116,
     "metadata": {},
     "output_type": "execute_result"
    }
   ],
   "source": [
    "dir(object) # every class inherits object"
   ]
  },
  {
   "cell_type": "code",
   "execution_count": 117,
   "id": "94090bdd",
   "metadata": {},
   "outputs": [],
   "source": [
    "class Person:\n",
    "    pass"
   ]
  },
  {
   "cell_type": "code",
   "execution_count": 118,
   "id": "d5e84faa",
   "metadata": {},
   "outputs": [],
   "source": [
    "p1 = Person()\n",
    "p2 = Person()"
   ]
  },
  {
   "cell_type": "code",
   "execution_count": 119,
   "id": "32443e49",
   "metadata": {},
   "outputs": [
    {
     "data": {
      "text/plain": [
       "(280438117, 280480761)"
      ]
     },
     "execution_count": 119,
     "metadata": {},
     "output_type": "execute_result"
    }
   ],
   "source": [
    "hash(p1), hash(p2)"
   ]
  },
  {
   "cell_type": "code",
   "execution_count": 120,
   "id": "ab3be080",
   "metadata": {},
   "outputs": [
    {
     "data": {
      "text/plain": [
       "False"
      ]
     },
     "execution_count": 120,
     "metadata": {},
     "output_type": "execute_result"
    }
   ],
   "source": [
    "p1 ==p2"
   ]
  },
  {
   "cell_type": "code",
   "execution_count": 121,
   "id": "1759cb04",
   "metadata": {},
   "outputs": [
    {
     "data": {
      "text/plain": [
       "False"
      ]
     },
     "execution_count": 121,
     "metadata": {},
     "output_type": "execute_result"
    }
   ],
   "source": [
    "p1 is p2"
   ]
  },
  {
   "cell_type": "code",
   "execution_count": 122,
   "id": "72bf9e46",
   "metadata": {},
   "outputs": [],
   "source": [
    "# 2 objects that are equal must have same hash"
   ]
  },
  {
   "cell_type": "code",
   "execution_count": 123,
   "id": "1c577db2",
   "metadata": {},
   "outputs": [],
   "source": [
    "class Person:\n",
    "    def __init__(self, name):\n",
    "        self.name = name\n",
    "        \n",
    "    def __eq__(self, other):\n",
    "        return isinstance(other, Person) and self.name ==other.name\n",
    "    \n",
    "    \n",
    "    def __repr__(self):\n",
    "        return f\"Person(name='{self.name}')\""
   ]
  },
  {
   "cell_type": "code",
   "execution_count": 124,
   "id": "6bae17e4",
   "metadata": {},
   "outputs": [],
   "source": [
    "p1 = Person('John')\n",
    "p2 = Person('John')\n",
    "p3 = Person('Eric')"
   ]
  },
  {
   "cell_type": "code",
   "execution_count": 125,
   "id": "fdc119dd",
   "metadata": {},
   "outputs": [
    {
     "data": {
      "text/plain": [
       "True"
      ]
     },
     "execution_count": 125,
     "metadata": {},
     "output_type": "execute_result"
    }
   ],
   "source": [
    "p1 ==p2"
   ]
  },
  {
   "cell_type": "code",
   "execution_count": 126,
   "id": "4969653b",
   "metadata": {},
   "outputs": [
    {
     "data": {
      "text/plain": [
       "False"
      ]
     },
     "execution_count": 126,
     "metadata": {},
     "output_type": "execute_result"
    }
   ],
   "source": [
    "p1 ==p3"
   ]
  },
  {
   "cell_type": "code",
   "execution_count": 129,
   "id": "fa071c8b",
   "metadata": {},
   "outputs": [
    {
     "data": {
      "text/plain": [
       "NoneType"
      ]
     },
     "execution_count": 129,
     "metadata": {},
     "output_type": "execute_result"
    }
   ],
   "source": [
    "type(p1.__hash__)"
   ]
  },
  {
   "cell_type": "code",
   "execution_count": 135,
   "id": "c6220a5c",
   "metadata": {},
   "outputs": [],
   "source": [
    "class Person:\n",
    "    def __init__(self, name):\n",
    "        self._name = name\n",
    "        \n",
    "    @property\n",
    "    def name(self):\n",
    "        return self._name\n",
    "        \n",
    "    def __eq__(self, other):\n",
    "        return isinstance(other, Person) and self.name ==other.name\n",
    "    \n",
    "    def __hash__(self):\n",
    "        return hash(self.name)\n",
    "    \n",
    "    def __repr__(self):\n",
    "        return f\"Person(name='{self.name}')\""
   ]
  },
  {
   "cell_type": "code",
   "execution_count": 136,
   "id": "cbf55ef5",
   "metadata": {},
   "outputs": [],
   "source": [
    "p1 = Person('John')\n",
    "p2 = Person('John')\n",
    "p3 = Person('Eric')"
   ]
  },
  {
   "cell_type": "code",
   "execution_count": 137,
   "id": "ce4a9dc6",
   "metadata": {},
   "outputs": [
    {
     "data": {
      "text/plain": [
       "True"
      ]
     },
     "execution_count": 137,
     "metadata": {},
     "output_type": "execute_result"
    }
   ],
   "source": [
    "p1 ==p2"
   ]
  },
  {
   "cell_type": "code",
   "execution_count": 138,
   "id": "75b84982",
   "metadata": {},
   "outputs": [
    {
     "data": {
      "text/plain": [
       "(5015393525511758069, 5015393525511758069)"
      ]
     },
     "execution_count": 138,
     "metadata": {},
     "output_type": "execute_result"
    }
   ],
   "source": [
    "hash(p1), hash(p2)"
   ]
  },
  {
   "cell_type": "markdown",
   "id": "074ba5aa",
   "metadata": {},
   "source": [
    "### Booleans"
   ]
  },
  {
   "cell_type": "code",
   "execution_count": 139,
   "id": "43f25f5a",
   "metadata": {},
   "outputs": [],
   "source": [
    "# __bool__"
   ]
  },
  {
   "cell_type": "code",
   "execution_count": 140,
   "id": "dac3e140",
   "metadata": {},
   "outputs": [],
   "source": [
    "class Person:\n",
    "    pass"
   ]
  },
  {
   "cell_type": "code",
   "execution_count": 141,
   "id": "bdcbd3d6",
   "metadata": {},
   "outputs": [],
   "source": [
    "p = Person()"
   ]
  },
  {
   "cell_type": "code",
   "execution_count": 142,
   "id": "fa0b25e4",
   "metadata": {},
   "outputs": [
    {
     "data": {
      "text/plain": [
       "True"
      ]
     },
     "execution_count": 142,
     "metadata": {},
     "output_type": "execute_result"
    }
   ],
   "source": [
    "bool(p)"
   ]
  },
  {
   "cell_type": "code",
   "execution_count": 147,
   "id": "ac507f8c",
   "metadata": {},
   "outputs": [],
   "source": [
    "class MyList:\n",
    "    def __init__(self, length):\n",
    "        self._length = length\n",
    "        \n",
    "    # if __len__ method is implemented then __bool__ will return true/false    \n",
    "    def __len__(self):\n",
    "        print('__len__ called..')\n",
    "        return self._length"
   ]
  },
  {
   "cell_type": "code",
   "execution_count": 148,
   "id": "bd464b97",
   "metadata": {},
   "outputs": [],
   "source": [
    "l1 = MyList(0)\n",
    "l2 = MyList(10)"
   ]
  },
  {
   "cell_type": "code",
   "execution_count": 149,
   "id": "9c8012ce",
   "metadata": {},
   "outputs": [
    {
     "name": "stdout",
     "output_type": "stream",
     "text": [
      "__len__ called..\n"
     ]
    },
    {
     "data": {
      "text/plain": [
       "False"
      ]
     },
     "execution_count": 149,
     "metadata": {},
     "output_type": "execute_result"
    }
   ],
   "source": [
    "bool(l1)"
   ]
  },
  {
   "cell_type": "code",
   "execution_count": 150,
   "id": "69360a97",
   "metadata": {},
   "outputs": [
    {
     "name": "stdout",
     "output_type": "stream",
     "text": [
      "__len__ called..\n"
     ]
    },
    {
     "data": {
      "text/plain": [
       "True"
      ]
     },
     "execution_count": 150,
     "metadata": {},
     "output_type": "execute_result"
    }
   ],
   "source": [
    "bool(l2)"
   ]
  },
  {
   "cell_type": "code",
   "execution_count": 154,
   "id": "f4178a5f",
   "metadata": {},
   "outputs": [],
   "source": [
    "class MyList:\n",
    "    def __init__(self, length):\n",
    "        self._length = length\n",
    "        \n",
    "    # if __len__ method is implemented then __bool__ will return true/false    \n",
    "    def __len__(self):\n",
    "        print('__len__ called..')\n",
    "        return self._length\n",
    "    \n",
    "    def __bool__(self):\n",
    "        print('__bool__ called..')\n",
    "        return self._length>0"
   ]
  },
  {
   "cell_type": "code",
   "execution_count": 155,
   "id": "45bb2fac",
   "metadata": {},
   "outputs": [],
   "source": [
    "l1 = MyList(0)\n",
    "l2 = MyList(10)"
   ]
  },
  {
   "cell_type": "code",
   "execution_count": 156,
   "id": "ac415dda",
   "metadata": {},
   "outputs": [
    {
     "name": "stdout",
     "output_type": "stream",
     "text": [
      "__bool__ called..\n"
     ]
    },
    {
     "data": {
      "text/plain": [
       "False"
      ]
     },
     "execution_count": 156,
     "metadata": {},
     "output_type": "execute_result"
    }
   ],
   "source": [
    "bool(l1)"
   ]
  },
  {
   "cell_type": "code",
   "execution_count": 157,
   "id": "7671a74c",
   "metadata": {},
   "outputs": [
    {
     "name": "stdout",
     "output_type": "stream",
     "text": [
      "__bool__ called..\n"
     ]
    },
    {
     "data": {
      "text/plain": [
       "True"
      ]
     },
     "execution_count": 157,
     "metadata": {},
     "output_type": "execute_result"
    }
   ],
   "source": [
    "bool(l2)"
   ]
  },
  {
   "cell_type": "code",
   "execution_count": 159,
   "id": "d5ae6765",
   "metadata": {},
   "outputs": [],
   "source": [
    "class Point:\n",
    "    \n",
    "    def __init__(self, x, y):\n",
    "        self.x = x\n",
    "        self.y = y\n",
    "        \n",
    "        "
   ]
  },
  {
   "cell_type": "code",
   "execution_count": 161,
   "id": "6d3ab812",
   "metadata": {},
   "outputs": [],
   "source": [
    "p1 = Point(0,0)\n",
    "p2 = Point(1,1)"
   ]
  },
  {
   "cell_type": "code",
   "execution_count": 162,
   "id": "ffc72df2",
   "metadata": {},
   "outputs": [
    {
     "data": {
      "text/plain": [
       "(True, True)"
      ]
     },
     "execution_count": 162,
     "metadata": {},
     "output_type": "execute_result"
    }
   ],
   "source": [
    "bool(p1), bool(p2)"
   ]
  },
  {
   "cell_type": "code",
   "execution_count": 163,
   "id": "f28f9737",
   "metadata": {},
   "outputs": [],
   "source": [
    "class Point:\n",
    "    \n",
    "    def __init__(self, x, y):\n",
    "        self.x = x\n",
    "        self.y = y\n",
    "        \n",
    "    def __bool__(self):\n",
    "        return self.x !=0 or self.y!=0"
   ]
  },
  {
   "cell_type": "code",
   "execution_count": 164,
   "id": "e9cfd985",
   "metadata": {},
   "outputs": [],
   "source": [
    "p1 = Point(0,0)\n",
    "p2 = Point(1,1)"
   ]
  },
  {
   "cell_type": "code",
   "execution_count": 165,
   "id": "8aa941fd",
   "metadata": {},
   "outputs": [
    {
     "data": {
      "text/plain": [
       "(False, True)"
      ]
     },
     "execution_count": 165,
     "metadata": {},
     "output_type": "execute_result"
    }
   ],
   "source": [
    "bool(p1), bool(p2)"
   ]
  },
  {
   "cell_type": "code",
   "execution_count": 166,
   "id": "fa434362",
   "metadata": {},
   "outputs": [
    {
     "data": {
      "text/plain": [
       "False"
      ]
     },
     "execution_count": 166,
     "metadata": {},
     "output_type": "execute_result"
    }
   ],
   "source": [
    "bool(p1.x or p1.y)"
   ]
  },
  {
   "cell_type": "code",
   "execution_count": 167,
   "id": "49095c47",
   "metadata": {},
   "outputs": [
    {
     "data": {
      "text/plain": [
       "True"
      ]
     },
     "execution_count": 167,
     "metadata": {},
     "output_type": "execute_result"
    }
   ],
   "source": [
    "bool(p2.x or p2.y)"
   ]
  },
  {
   "cell_type": "code",
   "execution_count": 168,
   "id": "6e8c153a",
   "metadata": {},
   "outputs": [],
   "source": [
    "p1 = Point(0,0)"
   ]
  },
  {
   "cell_type": "code",
   "execution_count": 170,
   "id": "37b7a73f",
   "metadata": {},
   "outputs": [
    {
     "data": {
      "text/plain": [
       "False"
      ]
     },
     "execution_count": 170,
     "metadata": {},
     "output_type": "execute_result"
    }
   ],
   "source": [
    "p1.__bool__()"
   ]
  },
  {
   "cell_type": "markdown",
   "id": "208a5a5b",
   "metadata": {},
   "source": [
    "## Callables"
   ]
  },
  {
   "cell_type": "code",
   "execution_count": 171,
   "id": "4ae8d833",
   "metadata": {},
   "outputs": [],
   "source": [
    "class Person:\n",
    "    \n",
    "    def __call__(self):\n",
    "        print('__call__ called ..')"
   ]
  },
  {
   "cell_type": "code",
   "execution_count": 172,
   "id": "150a2cda",
   "metadata": {},
   "outputs": [],
   "source": [
    "p = Person()"
   ]
  },
  {
   "cell_type": "code",
   "execution_count": 173,
   "id": "99374535",
   "metadata": {},
   "outputs": [
    {
     "name": "stdout",
     "output_type": "stream",
     "text": [
      "__call__ called ..\n"
     ]
    }
   ],
   "source": [
    "p()"
   ]
  },
  {
   "cell_type": "code",
   "execution_count": 174,
   "id": "d6b03c3c",
   "metadata": {},
   "outputs": [
    {
     "data": {
      "text/plain": [
       "__main__.Person"
      ]
     },
     "execution_count": 174,
     "metadata": {},
     "output_type": "execute_result"
    }
   ],
   "source": [
    "type(p)"
   ]
  },
  {
   "cell_type": "code",
   "execution_count": 175,
   "id": "d8b22a9c",
   "metadata": {},
   "outputs": [],
   "source": [
    "from functools import partial"
   ]
  },
  {
   "cell_type": "code",
   "execution_count": 176,
   "id": "90f0de0c",
   "metadata": {},
   "outputs": [
    {
     "data": {
      "text/plain": [
       "type"
      ]
     },
     "execution_count": 176,
     "metadata": {},
     "output_type": "execute_result"
    }
   ],
   "source": [
    "type(partial)"
   ]
  },
  {
   "cell_type": "code",
   "execution_count": 177,
   "id": "434e4ffa",
   "metadata": {},
   "outputs": [
    {
     "data": {
      "text/plain": [
       "type"
      ]
     },
     "execution_count": 177,
     "metadata": {},
     "output_type": "execute_result"
    }
   ],
   "source": [
    "type(Person)"
   ]
  },
  {
   "cell_type": "code",
   "execution_count": 178,
   "id": "46416655",
   "metadata": {},
   "outputs": [],
   "source": [
    "def my_func(a,b,c):\n",
    "    print(a,b,c)"
   ]
  },
  {
   "cell_type": "code",
   "execution_count": 179,
   "id": "56e6019b",
   "metadata": {},
   "outputs": [
    {
     "data": {
      "text/plain": [
       "function"
      ]
     },
     "execution_count": 179,
     "metadata": {},
     "output_type": "execute_result"
    }
   ],
   "source": [
    "type(my_func)"
   ]
  },
  {
   "cell_type": "code",
   "execution_count": 180,
   "id": "7b9a68d9",
   "metadata": {},
   "outputs": [],
   "source": [
    "partial_func = partial(my_func, 10,20)"
   ]
  },
  {
   "cell_type": "code",
   "execution_count": 181,
   "id": "b31635ec",
   "metadata": {},
   "outputs": [
    {
     "data": {
      "text/plain": [
       "functools.partial"
      ]
     },
     "execution_count": 181,
     "metadata": {},
     "output_type": "execute_result"
    }
   ],
   "source": [
    "type(partial_func)"
   ]
  },
  {
   "cell_type": "code",
   "execution_count": 182,
   "id": "b6b8dbdd",
   "metadata": {},
   "outputs": [
    {
     "name": "stdout",
     "output_type": "stream",
     "text": [
      "10 20 30\n"
     ]
    }
   ],
   "source": [
    "partial_func(30)"
   ]
  },
  {
   "cell_type": "code",
   "execution_count": 187,
   "id": "d4f53995",
   "metadata": {},
   "outputs": [],
   "source": [
    "class Partial:\n",
    "    \n",
    "    def __init__(self, func, *args):\n",
    "        self._func = func\n",
    "        self._args = args\n",
    "        \n",
    "    def __call__(self, *args):\n",
    "        return self._func(*self._args, *args)"
   ]
  },
  {
   "cell_type": "code",
   "execution_count": 188,
   "id": "7422b89e",
   "metadata": {},
   "outputs": [],
   "source": [
    "pf = Partial(my_func, 10,20)"
   ]
  },
  {
   "cell_type": "code",
   "execution_count": 189,
   "id": "8d6f58db",
   "metadata": {},
   "outputs": [
    {
     "data": {
      "text/plain": [
       "__main__.Partial"
      ]
     },
     "execution_count": 189,
     "metadata": {},
     "output_type": "execute_result"
    }
   ],
   "source": [
    "type(pf)"
   ]
  },
  {
   "cell_type": "code",
   "execution_count": 190,
   "id": "583d3585",
   "metadata": {},
   "outputs": [
    {
     "name": "stdout",
     "output_type": "stream",
     "text": [
      "10 20 30\n"
     ]
    }
   ],
   "source": [
    "pf(30)"
   ]
  },
  {
   "cell_type": "code",
   "execution_count": 191,
   "id": "837fc9d5",
   "metadata": {},
   "outputs": [
    {
     "data": {
      "text/plain": [
       "True"
      ]
     },
     "execution_count": 191,
     "metadata": {},
     "output_type": "execute_result"
    }
   ],
   "source": [
    "callable(print)"
   ]
  },
  {
   "cell_type": "code",
   "execution_count": 192,
   "id": "a8e9e640",
   "metadata": {},
   "outputs": [],
   "source": [
    "from collections import defaultdict"
   ]
  },
  {
   "cell_type": "code",
   "execution_count": 196,
   "id": "c90f8e7a",
   "metadata": {},
   "outputs": [],
   "source": [
    "def default_value():\n",
    "    return 'NA'"
   ]
  },
  {
   "cell_type": "code",
   "execution_count": 197,
   "id": "6c5a0e46",
   "metadata": {},
   "outputs": [],
   "source": [
    "d = defaultdict(default_value)"
   ]
  },
  {
   "cell_type": "code",
   "execution_count": 198,
   "id": "542b7811",
   "metadata": {},
   "outputs": [
    {
     "data": {
      "text/plain": [
       "'NA'"
      ]
     },
     "execution_count": 198,
     "metadata": {},
     "output_type": "execute_result"
    }
   ],
   "source": [
    "d['a']"
   ]
  },
  {
   "cell_type": "code",
   "execution_count": 199,
   "id": "050361bf",
   "metadata": {},
   "outputs": [],
   "source": [
    "d['b'] = 100"
   ]
  },
  {
   "cell_type": "code",
   "execution_count": 200,
   "id": "cd8e24d5",
   "metadata": {},
   "outputs": [
    {
     "data": {
      "text/plain": [
       "dict_items([('a', 'NA'), ('b', 100)])"
      ]
     },
     "execution_count": 200,
     "metadata": {},
     "output_type": "execute_result"
    }
   ],
   "source": [
    "d.items()"
   ]
  },
  {
   "cell_type": "code",
   "execution_count": 201,
   "id": "c36ecd4c",
   "metadata": {},
   "outputs": [],
   "source": [
    "miss_counter = 0 "
   ]
  },
  {
   "cell_type": "code",
   "execution_count": 202,
   "id": "38daa795",
   "metadata": {},
   "outputs": [],
   "source": [
    "def default_value():\n",
    "    global miss_counter\n",
    "    miss_counter +=1\n",
    "    return 'NA'"
   ]
  },
  {
   "cell_type": "code",
   "execution_count": 203,
   "id": "3a7e415a",
   "metadata": {},
   "outputs": [],
   "source": [
    "d = defaultdict(default_value)"
   ]
  },
  {
   "cell_type": "code",
   "execution_count": 204,
   "id": "43a6b4ce",
   "metadata": {},
   "outputs": [],
   "source": [
    "d['a'] = 1"
   ]
  },
  {
   "cell_type": "code",
   "execution_count": 205,
   "id": "c1509c55",
   "metadata": {},
   "outputs": [
    {
     "data": {
      "text/plain": [
       "0"
      ]
     },
     "execution_count": 205,
     "metadata": {},
     "output_type": "execute_result"
    }
   ],
   "source": [
    "miss_counter"
   ]
  },
  {
   "cell_type": "code",
   "execution_count": 206,
   "id": "30e235fb",
   "metadata": {},
   "outputs": [
    {
     "data": {
      "text/plain": [
       "'NA'"
      ]
     },
     "execution_count": 206,
     "metadata": {},
     "output_type": "execute_result"
    }
   ],
   "source": [
    "d['b']"
   ]
  },
  {
   "cell_type": "code",
   "execution_count": 207,
   "id": "ed16ae3d",
   "metadata": {},
   "outputs": [
    {
     "data": {
      "text/plain": [
       "1"
      ]
     },
     "execution_count": 207,
     "metadata": {},
     "output_type": "execute_result"
    }
   ],
   "source": [
    "miss_counter"
   ]
  },
  {
   "cell_type": "code",
   "execution_count": 208,
   "id": "92965f63",
   "metadata": {},
   "outputs": [],
   "source": [
    "class DefaultValue:\n",
    "    \n",
    "    def __init__(self):\n",
    "        self.counter = 0 \n",
    "        \n",
    "    def __iadd__(self, other):\n",
    "        if isinstance(other, int):\n",
    "            self.counter += other\n",
    "            return self\n",
    "        raise ValueError('can only increment with an integer value')"
   ]
  },
  {
   "cell_type": "code",
   "execution_count": 209,
   "id": "e8892f44",
   "metadata": {},
   "outputs": [],
   "source": [
    "default_value_1 = DefaultValue()"
   ]
  },
  {
   "cell_type": "code",
   "execution_count": 210,
   "id": "5cdbad1a",
   "metadata": {},
   "outputs": [
    {
     "data": {
      "text/plain": [
       "0"
      ]
     },
     "execution_count": 210,
     "metadata": {},
     "output_type": "execute_result"
    }
   ],
   "source": [
    "default_value_1.counter"
   ]
  },
  {
   "cell_type": "code",
   "execution_count": 211,
   "id": "dbfb91a1",
   "metadata": {},
   "outputs": [],
   "source": [
    "default_value_1+=1"
   ]
  },
  {
   "cell_type": "code",
   "execution_count": 212,
   "id": "f2db3ccd",
   "metadata": {},
   "outputs": [
    {
     "data": {
      "text/plain": [
       "1"
      ]
     },
     "execution_count": 212,
     "metadata": {},
     "output_type": "execute_result"
    }
   ],
   "source": [
    "default_value_1.counter"
   ]
  },
  {
   "cell_type": "code",
   "execution_count": 213,
   "id": "8cbc04ec",
   "metadata": {},
   "outputs": [],
   "source": [
    "# but for it to be used in defaultdict DefaultValue needs to be callable "
   ]
  },
  {
   "cell_type": "code",
   "execution_count": 214,
   "id": "f496f0c5",
   "metadata": {},
   "outputs": [],
   "source": [
    "# make default value as callable\n",
    "class DefaultValue:\n",
    "    \n",
    "    def __init__(self):\n",
    "        self.counter = 0 \n",
    "        \n",
    "    def __call__(self):\n",
    "        self.counter+=1\n",
    "        return 'NA'\n",
    "        \n",
    "    def __iadd__(self, other):\n",
    "        if isinstance(other, int):\n",
    "            self.counter += other\n",
    "            return self\n",
    "        raise ValueError('can only increment with an integer value')"
   ]
  },
  {
   "cell_type": "code",
   "execution_count": 215,
   "id": "0bbdf550",
   "metadata": {},
   "outputs": [],
   "source": [
    "def_1 = DefaultValue()\n",
    "def_2 = DefaultValue()\n"
   ]
  },
  {
   "cell_type": "code",
   "execution_count": 216,
   "id": "d433e82c",
   "metadata": {},
   "outputs": [],
   "source": [
    "cache_1 = defaultdict(def_1)\n",
    "cache_2 = defaultdict(def_2)"
   ]
  },
  {
   "cell_type": "code",
   "execution_count": 217,
   "id": "e86f5591",
   "metadata": {},
   "outputs": [
    {
     "data": {
      "text/plain": [
       "('NA', 'NA')"
      ]
     },
     "execution_count": 217,
     "metadata": {},
     "output_type": "execute_result"
    }
   ],
   "source": [
    "cache_1['a'], cache_1['b']"
   ]
  },
  {
   "cell_type": "code",
   "execution_count": 218,
   "id": "89022812",
   "metadata": {},
   "outputs": [
    {
     "data": {
      "text/plain": [
       "2"
      ]
     },
     "execution_count": 218,
     "metadata": {},
     "output_type": "execute_result"
    }
   ],
   "source": [
    "def_1.counter"
   ]
  },
  {
   "cell_type": "code",
   "execution_count": 219,
   "id": "7302b8a6",
   "metadata": {},
   "outputs": [
    {
     "data": {
      "text/plain": [
       "'NA'"
      ]
     },
     "execution_count": 219,
     "metadata": {},
     "output_type": "execute_result"
    }
   ],
   "source": [
    "cache_2['a']"
   ]
  },
  {
   "cell_type": "code",
   "execution_count": 220,
   "id": "66535935",
   "metadata": {},
   "outputs": [
    {
     "data": {
      "text/plain": [
       "1"
      ]
     },
     "execution_count": 220,
     "metadata": {},
     "output_type": "execute_result"
    }
   ],
   "source": [
    "def_2.counter"
   ]
  },
  {
   "cell_type": "code",
   "execution_count": 221,
   "id": "5a8e571c",
   "metadata": {},
   "outputs": [],
   "source": [
    "\n",
    "class DefaultValue:\n",
    "    \n",
    "    def __init__(self, default_value):\n",
    "        self.default_value = default_value\n",
    "        self.counter = 0 \n",
    "        \n",
    "    def __call__(self):\n",
    "        self.counter+=1\n",
    "        return 'NA'"
   ]
  },
  {
   "cell_type": "code",
   "execution_count": 222,
   "id": "c953aac5",
   "metadata": {},
   "outputs": [],
   "source": [
    "def_1 = DefaultValue(None)\n",
    "def_2 = DefaultValue(0)"
   ]
  },
  {
   "cell_type": "code",
   "execution_count": 223,
   "id": "46e992a0",
   "metadata": {},
   "outputs": [],
   "source": [
    "cache_1 = defaultdict(def_1)\n",
    "cache_2 = defaultdict(def_2)"
   ]
  },
  {
   "cell_type": "code",
   "execution_count": 224,
   "id": "4aa2ca8b",
   "metadata": {},
   "outputs": [
    {
     "data": {
      "text/plain": [
       "('NA', 'NA')"
      ]
     },
     "execution_count": 224,
     "metadata": {},
     "output_type": "execute_result"
    }
   ],
   "source": [
    "cache_1['a'], cache_1['b']"
   ]
  },
  {
   "cell_type": "code",
   "execution_count": 225,
   "id": "ef2d96af",
   "metadata": {},
   "outputs": [
    {
     "data": {
      "text/plain": [
       "2"
      ]
     },
     "execution_count": 225,
     "metadata": {},
     "output_type": "execute_result"
    }
   ],
   "source": [
    "def_1.counter"
   ]
  },
  {
   "cell_type": "code",
   "execution_count": 226,
   "id": "5b955d56",
   "metadata": {},
   "outputs": [
    {
     "data": {
      "text/plain": [
       "'NA'"
      ]
     },
     "execution_count": 226,
     "metadata": {},
     "output_type": "execute_result"
    }
   ],
   "source": [
    "cache_2['a']"
   ]
  },
  {
   "cell_type": "code",
   "execution_count": 227,
   "id": "021638f9",
   "metadata": {},
   "outputs": [
    {
     "data": {
      "text/plain": [
       "1"
      ]
     },
     "execution_count": 227,
     "metadata": {},
     "output_type": "execute_result"
    }
   ],
   "source": [
    "def_2.counter"
   ]
  },
  {
   "cell_type": "code",
   "execution_count": 231,
   "id": "8649e15e",
   "metadata": {},
   "outputs": [],
   "source": [
    "# implement the counter using decorators"
   ]
  },
  {
   "cell_type": "code",
   "execution_count": 235,
   "id": "d07e83ad",
   "metadata": {},
   "outputs": [],
   "source": [
    "from time import perf_counter\n",
    "from functools import wraps"
   ]
  },
  {
   "cell_type": "code",
   "execution_count": null,
   "id": "5a23e6ff",
   "metadata": {},
   "outputs": [],
   "source": [
    "# closure based approach"
   ]
  },
  {
   "cell_type": "code",
   "execution_count": 247,
   "id": "0a2baa7f",
   "metadata": {},
   "outputs": [],
   "source": [
    "\n",
    "def profile(fn):\n",
    "    \n",
    "    _counter = 0\n",
    "    _avg_time = 0 \n",
    "    _total_elapsed = 0 \n",
    "    \n",
    "    @wraps(fn)\n",
    "    def inner(*args, **kwargs):\n",
    "        nonlocal _counter\n",
    "        nonlocal _avg_time\n",
    "        nonlocal _total_elapsed\n",
    "        \n",
    "        _counter+=1\n",
    "        start = perf_counter()\n",
    "        result = fn(*args, ** kwargs)\n",
    "        end = perf_counter()\n",
    "        _total_elapsed += start - end\n",
    "        _avg_time  = _total_elapsed/_counter\n",
    "        \n",
    "        return result\n",
    "    \n",
    "    \n",
    "    def counter():\n",
    "        return _counter\n",
    "    \n",
    "    def avg_time():\n",
    "        return _avg_time\n",
    "    \n",
    "    inner.counter = counter\n",
    "    inner.avg_time = avg_time\n",
    "    \n",
    "    return inner\n",
    "        "
   ]
  },
  {
   "cell_type": "code",
   "execution_count": 248,
   "id": "6dd1d1fa",
   "metadata": {},
   "outputs": [],
   "source": [
    "from time import sleep\n",
    "import random\n",
    "@profile\n",
    "def func():\n",
    "    return sleep(random.random())\n",
    "    "
   ]
  },
  {
   "cell_type": "code",
   "execution_count": 249,
   "id": "edf94add",
   "metadata": {},
   "outputs": [
    {
     "data": {
      "text/plain": [
       "(None, None)"
      ]
     },
     "execution_count": 249,
     "metadata": {},
     "output_type": "execute_result"
    }
   ],
   "source": [
    "func(), func()"
   ]
  },
  {
   "cell_type": "code",
   "execution_count": 250,
   "id": "8bf51dd5",
   "metadata": {},
   "outputs": [
    {
     "data": {
      "text/plain": [
       "2"
      ]
     },
     "execution_count": 250,
     "metadata": {},
     "output_type": "execute_result"
    }
   ],
   "source": [
    "func.counter()\n"
   ]
  },
  {
   "cell_type": "code",
   "execution_count": 251,
   "id": "69a76230",
   "metadata": {},
   "outputs": [],
   "source": [
    "# writing closure for counter is complex easier would be use class for it"
   ]
  },
  {
   "cell_type": "code",
   "execution_count": 273,
   "id": "26229305",
   "metadata": {},
   "outputs": [],
   "source": [
    "#callable\n",
    "class Profiler:\n",
    "    \n",
    "    def __init__(self, fn):\n",
    "        self.counter = 0 \n",
    "        self.total_elapsed = 0\n",
    "        self.fn = fn\n",
    "        \n",
    "        \n",
    "    def __call__(self, *args, **kwargs):\n",
    "        self.counter +=1\n",
    "        start = perf_counter()\n",
    "        result = self.fn(*args, **kwargs)\n",
    "        end = perf_counter()\n",
    "        self.total_elapsed += end - start\n",
    "        return result\n",
    "    \n",
    "    @property\n",
    "    def avg_time(self):\n",
    "        return self.total_elapsed/self.counter"
   ]
  },
  {
   "cell_type": "code",
   "execution_count": 274,
   "id": "9b9dbb04",
   "metadata": {},
   "outputs": [],
   "source": [
    "@Profiler\n",
    "def func(a,b):\n",
    "    sleep(random.random())\n",
    "    return (a,b)"
   ]
  },
  {
   "cell_type": "code",
   "execution_count": 275,
   "id": "0eaed5b4",
   "metadata": {},
   "outputs": [],
   "source": [
    "# above is same as\n",
    "def func(a,b):\n",
    "    sleep(random.random())\n",
    "    return (a,b)\n",
    "\n",
    "func = Profiler(func)"
   ]
  },
  {
   "cell_type": "code",
   "execution_count": 276,
   "id": "1aff1720",
   "metadata": {},
   "outputs": [
    {
     "data": {
      "text/plain": [
       "(1, 2)"
      ]
     },
     "execution_count": 276,
     "metadata": {},
     "output_type": "execute_result"
    }
   ],
   "source": [
    "func(1,2)"
   ]
  },
  {
   "cell_type": "code",
   "execution_count": 277,
   "id": "ee405054",
   "metadata": {},
   "outputs": [
    {
     "data": {
      "text/plain": [
       "1"
      ]
     },
     "execution_count": 277,
     "metadata": {},
     "output_type": "execute_result"
    }
   ],
   "source": [
    "func.counter"
   ]
  },
  {
   "cell_type": "code",
   "execution_count": 278,
   "id": "e6ae7243",
   "metadata": {},
   "outputs": [
    {
     "data": {
      "text/plain": [
       "0.05516315400018357"
      ]
     },
     "execution_count": 278,
     "metadata": {},
     "output_type": "execute_result"
    }
   ],
   "source": [
    "func.avg_time"
   ]
  },
  {
   "cell_type": "markdown",
   "id": "4608a63f",
   "metadata": {},
   "source": [
    "## __del__ method"
   ]
  },
  {
   "cell_type": "code",
   "execution_count": 279,
   "id": "8997fb3e",
   "metadata": {},
   "outputs": [],
   "source": [
    "# __del__ method is called before object is destroyed by  garbadge collector \n",
    "# GC calling is not controlled when it will be called\n",
    "# its called when all references for objected are gone\n",
    "# context manager preferred to clean up resources"
   ]
  },
  {
   "cell_type": "code",
   "execution_count": 286,
   "id": "4e793bf5",
   "metadata": {},
   "outputs": [],
   "source": [
    "import ctypes\n",
    "\n",
    "def ref_count(address):\n",
    "    return ctypes.c_long.from_address(address).value"
   ]
  },
  {
   "cell_type": "code",
   "execution_count": 287,
   "id": "327d76f3",
   "metadata": {},
   "outputs": [],
   "source": [
    "class Person:\n",
    "    def __init__(self, name):\n",
    "        self.name = name\n",
    "        \n",
    "    def __repr__(self):\n",
    "        return f'Person({self.name})'\n",
    "    \n",
    "    def __del__(self):\n",
    "        print(f'__del__ called for {self}...')"
   ]
  },
  {
   "cell_type": "code",
   "execution_count": 288,
   "id": "aad7ab93",
   "metadata": {},
   "outputs": [
    {
     "name": "stdout",
     "output_type": "stream",
     "text": [
      "__del__ called for Person(Alex)...\n"
     ]
    }
   ],
   "source": [
    "p = Person('Alex')"
   ]
  },
  {
   "cell_type": "code",
   "execution_count": 289,
   "id": "aa738ee4",
   "metadata": {},
   "outputs": [],
   "source": [
    "id_p = id(p)"
   ]
  },
  {
   "cell_type": "code",
   "execution_count": 290,
   "id": "607571a1",
   "metadata": {},
   "outputs": [
    {
     "data": {
      "text/plain": [
       "1"
      ]
     },
     "execution_count": 290,
     "metadata": {},
     "output_type": "execute_result"
    }
   ],
   "source": [
    "ref_count(id_p)"
   ]
  },
  {
   "cell_type": "code",
   "execution_count": 291,
   "id": "137e3f5a",
   "metadata": {},
   "outputs": [
    {
     "name": "stdout",
     "output_type": "stream",
     "text": [
      "__del__ called for Person(Alex)...\n"
     ]
    }
   ],
   "source": [
    "p = None"
   ]
  },
  {
   "cell_type": "code",
   "execution_count": 292,
   "id": "df4882fe",
   "metadata": {},
   "outputs": [],
   "source": [
    "p = Person('Alex')"
   ]
  },
  {
   "cell_type": "code",
   "execution_count": 293,
   "id": "3088a641",
   "metadata": {},
   "outputs": [
    {
     "name": "stdout",
     "output_type": "stream",
     "text": [
      "__del__ called for Person(Alex)...\n"
     ]
    }
   ],
   "source": [
    "del p"
   ]
  },
  {
   "cell_type": "code",
   "execution_count": 294,
   "id": "760f43cc",
   "metadata": {},
   "outputs": [],
   "source": [
    "class Person:\n",
    "    def __init__(self, name):\n",
    "        self.name = name\n",
    "        \n",
    "    def __repr__(self):\n",
    "        return f'Person({self.name})'\n",
    "    \n",
    "    def __del__(self):\n",
    "        print(f'__del__ called for {self}...')\n",
    "        \n",
    "        \n",
    "    def gen_ex(self):\n",
    "        raise ValueError('something went bump...')"
   ]
  },
  {
   "cell_type": "code",
   "execution_count": 295,
   "id": "52bb4f85",
   "metadata": {},
   "outputs": [
    {
     "data": {
      "text/plain": [
       "1"
      ]
     },
     "execution_count": 295,
     "metadata": {},
     "output_type": "execute_result"
    }
   ],
   "source": [
    "p = Person('Eric')\n",
    "p_id = id(p)\n",
    "ref_count(p_id)"
   ]
  },
  {
   "cell_type": "code",
   "execution_count": 297,
   "id": "90312150",
   "metadata": {},
   "outputs": [
    {
     "name": "stdout",
     "output_type": "stream",
     "text": [
      "something went bump...\n"
     ]
    }
   ],
   "source": [
    "try:\n",
    "    p.gen_ex()\n",
    "except ValueError as ex:\n",
    "    error = ex\n",
    "    print(ex)"
   ]
  },
  {
   "cell_type": "code",
   "execution_count": 298,
   "id": "6bf37224",
   "metadata": {},
   "outputs": [
    {
     "data": {
      "text/plain": [
       "4"
      ]
     },
     "execution_count": 298,
     "metadata": {},
     "output_type": "execute_result"
    }
   ],
   "source": [
    "ref_count(p_id) # because exception contains reference to p"
   ]
  },
  {
   "cell_type": "code",
   "execution_count": 299,
   "id": "84929961",
   "metadata": {},
   "outputs": [
    {
     "data": {
      "text/plain": [
       "ValueError"
      ]
     },
     "execution_count": 299,
     "metadata": {},
     "output_type": "execute_result"
    }
   ],
   "source": [
    "type(error)"
   ]
  },
  {
   "cell_type": "code",
   "execution_count": 300,
   "id": "444d13d5",
   "metadata": {},
   "outputs": [
    {
     "data": {
      "text/plain": [
       "['__cause__',\n",
       " '__class__',\n",
       " '__context__',\n",
       " '__delattr__',\n",
       " '__dict__',\n",
       " '__dir__',\n",
       " '__doc__',\n",
       " '__eq__',\n",
       " '__format__',\n",
       " '__ge__',\n",
       " '__getattribute__',\n",
       " '__getstate__',\n",
       " '__gt__',\n",
       " '__hash__',\n",
       " '__init__',\n",
       " '__init_subclass__',\n",
       " '__le__',\n",
       " '__lt__',\n",
       " '__ne__',\n",
       " '__new__',\n",
       " '__reduce__',\n",
       " '__reduce_ex__',\n",
       " '__repr__',\n",
       " '__setattr__',\n",
       " '__setstate__',\n",
       " '__sizeof__',\n",
       " '__str__',\n",
       " '__subclasshook__',\n",
       " '__suppress_context__',\n",
       " '__traceback__',\n",
       " 'add_note',\n",
       " 'args',\n",
       " 'with_traceback']"
      ]
     },
     "execution_count": 300,
     "metadata": {},
     "output_type": "execute_result"
    }
   ],
   "source": [
    "dir(error)"
   ]
  },
  {
   "cell_type": "code",
   "execution_count": 302,
   "id": "d93d7ede",
   "metadata": {},
   "outputs": [
    {
     "data": {
      "text/plain": [
       "['tb_frame', 'tb_lasti', 'tb_lineno', 'tb_next']"
      ]
     },
     "execution_count": 302,
     "metadata": {},
     "output_type": "execute_result"
    }
   ],
   "source": [
    "dir(error.__traceback__)"
   ]
  },
  {
   "cell_type": "code",
   "execution_count": 303,
   "id": "3afdbd4a",
   "metadata": {},
   "outputs": [
    {
     "data": {
      "text/plain": [
       "['__class__',\n",
       " '__delattr__',\n",
       " '__dir__',\n",
       " '__doc__',\n",
       " '__eq__',\n",
       " '__format__',\n",
       " '__ge__',\n",
       " '__getattribute__',\n",
       " '__getstate__',\n",
       " '__gt__',\n",
       " '__hash__',\n",
       " '__init__',\n",
       " '__init_subclass__',\n",
       " '__le__',\n",
       " '__lt__',\n",
       " '__ne__',\n",
       " '__new__',\n",
       " '__reduce__',\n",
       " '__reduce_ex__',\n",
       " '__repr__',\n",
       " '__setattr__',\n",
       " '__sizeof__',\n",
       " '__str__',\n",
       " '__subclasshook__',\n",
       " 'clear',\n",
       " 'f_back',\n",
       " 'f_builtins',\n",
       " 'f_code',\n",
       " 'f_globals',\n",
       " 'f_lasti',\n",
       " 'f_lineno',\n",
       " 'f_locals',\n",
       " 'f_trace',\n",
       " 'f_trace_lines',\n",
       " 'f_trace_opcodes']"
      ]
     },
     "execution_count": 303,
     "metadata": {},
     "output_type": "execute_result"
    }
   ],
   "source": [
    "dir(error.__traceback__.tb_frame)"
   ]
  },
  {
   "cell_type": "code",
   "execution_count": 304,
   "id": "c060a7c3",
   "metadata": {},
   "outputs": [
    {
     "data": {
      "text/plain": [
       "['__class__',\n",
       " '__class_getitem__',\n",
       " '__contains__',\n",
       " '__delattr__',\n",
       " '__delitem__',\n",
       " '__dir__',\n",
       " '__doc__',\n",
       " '__eq__',\n",
       " '__format__',\n",
       " '__ge__',\n",
       " '__getattribute__',\n",
       " '__getitem__',\n",
       " '__getstate__',\n",
       " '__gt__',\n",
       " '__hash__',\n",
       " '__init__',\n",
       " '__init_subclass__',\n",
       " '__ior__',\n",
       " '__iter__',\n",
       " '__le__',\n",
       " '__len__',\n",
       " '__lt__',\n",
       " '__ne__',\n",
       " '__new__',\n",
       " '__or__',\n",
       " '__reduce__',\n",
       " '__reduce_ex__',\n",
       " '__repr__',\n",
       " '__reversed__',\n",
       " '__ror__',\n",
       " '__setattr__',\n",
       " '__setitem__',\n",
       " '__sizeof__',\n",
       " '__str__',\n",
       " '__subclasshook__',\n",
       " 'clear',\n",
       " 'copy',\n",
       " 'fromkeys',\n",
       " 'get',\n",
       " 'items',\n",
       " 'keys',\n",
       " 'pop',\n",
       " 'popitem',\n",
       " 'setdefault',\n",
       " 'update',\n",
       " 'values']"
      ]
     },
     "execution_count": 304,
     "metadata": {},
     "output_type": "execute_result"
    }
   ],
   "source": [
    "dir(error.__traceback__.tb_frame.f_locals)"
   ]
  },
  {
   "cell_type": "code",
   "execution_count": 305,
   "id": "315d52ac",
   "metadata": {},
   "outputs": [
    {
     "data": {
      "text/plain": [
       "dict"
      ]
     },
     "execution_count": 305,
     "metadata": {},
     "output_type": "execute_result"
    }
   ],
   "source": [
    "type(error.__traceback__.tb_frame.f_locals)"
   ]
  },
  {
   "cell_type": "code",
   "execution_count": 308,
   "id": "59aad69d",
   "metadata": {},
   "outputs": [],
   "source": [
    "# as we try to look at dcitionary its trying to modify it causing error\n",
    "for key,value in error.__traceback__.tb_frame.f_locals.items():\n",
    "    pass"
   ]
  },
  {
   "cell_type": "code",
   "execution_count": 310,
   "id": "8eccd79d",
   "metadata": {},
   "outputs": [
    {
     "name": "stdout",
     "output_type": "stream",
     "text": [
      "__name__ __main__\n",
      "__doc__ Automatically created module for IPython interactive environment\n",
      "__package__ None\n",
      "__loader__ None\n",
      "__spec__ None\n",
      "__builtin__ <module 'builtins' (built-in)>\n",
      "__builtins__ <module 'builtins' (built-in)>\n",
      "_ih ['', '# the ability to define a generic type of behaviour that will behave differently when applied to different types\\n# python is polymorphism in nature', \"class Person:\\n    def __init__(self, name, age):\\n        self.name = anme\\n        self.age = age\\n        \\n        \\n    def __repr__(self):\\n        print('__repr__called')\\n        return f'person(name = '{self.name}',age='{self.age}')'\", \"class Person:\\n    def __init__(self, name, age):\\n        self.name = anme\\n        self.age = age\\n        \\n        \\n    def __repr__(self):\\n        print('__repr__called')\\n        return f'person(name = '{self.name}',age={self.age})'\", \"class Person:\\n    def __init__(self, name, age):\\n        self.name = anme\\n        self.age = age\\n        \\n        \\n    def __repr__(self):\\n        print('__repr__called')\\n        return f'person(name = {self.name},age={self.age})'\", \"p = Person('Python', 30)\", \"class Person:\\n    def __init__(self, name, age):\\n        self.name = name\\n        self.age = age\\n        \\n        \\n    def __repr__(self):\\n        print('__repr__called')\\n        return f'person(name = {self.name},age={self.age})'\", \"p = Person('Python', 30)\", 'p', 'print(p)', 'str(p)', \"class Person:\\n    def __init__(self, name, age):\\n        self.name = name\\n        self.age = age\\n        \\n        \\n    def __repr__(self):\\n        print('__repr__called')\\n        return f'person(name = {self.name},age={self.age})'\\n    \\n    def __str__(self):\\n        print('__str__ called..')\\n        return self.name\", \"p = Person('Python', 30)\", 'p', 'print(p)', 'str(p)', 'repr(p)', 'class Person:\\n    pass\\n\\nclass Point:\\n    pass', 'person = Person()\\npoint = Point()', 'repr(person), repr(point)', 'str(person), str(point)', \"class Person:\\n    def __init__(self, name, age):\\n        self.name = name\\n        self.age = age\\n        \\n    \\n    def __str__(self):\\n        print('__str__ called..')\\n        return self.name\", \"p = Person('Python', 30)\", 'p', 'repr(p)', 'print(p)', 'str(p)', \"class Person:\\n    def __init__(self, name, age):\\n        self.name = name\\n        self.age = age\\n        \\n        \\n    def __repr__(self):\\n        print('__repr__called')\\n        return f'person(name = {self.name},age={self.age})'\\n    \\n    def __str__(self):\\n        print('__str__ called..')\\n        return self.name\", \"p = Person('Python', 30)\", \"f'The person is {p}'\", \"'The person is {}'.format(p)\", '## __add__\\n## __sub__\\n## __mul__\\n## __truediv__ /\\n## __floordiv__ //\\n## __mod__ %\\n## __pow__ **\\n## __matmul__ @', \"'''\\nconsider a + b\\npython wil attempt to call a.__add__(b)\\n\\nif this returns NotImplemented AND operands are not of same type\\n\\npython will swap the operands and try this instead b.__add__(a)\\n\\n'''\", '# in-place operators\\n## __iadd__ +=\\n## __isub__ -=\\n## __imul__\\n## __itruediv__\\n## __ifloordiv__\\n\\n\\n# unary operator\\n## __neg__\\n## __Pos__\\n## __abs__', 'from numbers import Real', \"class Vector:\\n    def __init__(self, *components):\\n        if len(components)<1:\\n            raise ValueError('Cannot create an empty vector')\\n            \\n        for component in components:\\n            if not isinstance(component, Real):\\n                raise ValueError(f'Vector components must all be real numbers. {component} is invalid')\\n                \\n        self._components = tuple(components)\\n        \\n         \\n        def __len__(self):\\n            return len(self._components)\\n        \\n        @property\\n        def components(self):\\n            return self._components\\n        \\n        def __repr(self):\\n            return f'Vector{self.components}'\\n        \\n        \\n        def validate_type_and_dimension(self, v):\\n            return isinstance(v,Vector) and len(v) ==len(self)\\n        \\n        \\n        def __add__(self, other):\\n            if not self.validate_type_and_dimension(other):\\n                    return NotImplemented\\n                \\n            components = (x + y for x,y in zip(self._components, other.components)) \\n            return Vector(*components) \\n            \\n            \\n            \\n            \\n            \\n            \\n            \\n            \\n            \\n            \\n            \\n            \", \"class Vector:\\n    def __init__(self, *components):\\n        if len(components)<1:\\n            raise ValueError('Cannot create an empty vector')\\n            \\n        for component in components:\\n            if not isinstance(component, Real):\\n                raise ValueError(f'Vector components must all be real numbers. {component} is invalid')\\n                \\n        self._components = tuple(components)\\n        \\n         \\n        def __len__(self):\\n            return len(self._components)\\n        \\n        @property\\n        def components(self):\\n            return self._components\\n        \\n        def __repr(self):\\n            return f'Vector{self.components}'\\n        \\n        \\n        def validate_type_and_dimension(self, v):\\n            return isinstance(v,Vector) and len(v) ==len(self)\\n        \\n        \\n        def __add__(self, other):\\n            if not self.validate_type_and_dimension(other):\\n                    return NotImplemented\\n                \\n            components = (x + y for x,y in zip(self._components, other.components)) \\n            return Vector(*components)            \", 'v1 = Vecotr(1,2)\\nv2 = Vector(10,10)\\nv3 = Vector(1,2,3,4)', 'v1 = Vector(1,2)\\nv2 = Vector(10,10)\\nv3 = Vector(1,2,3,4)', 'v1', \"class Vector:\\n    def __init__(self, *components):\\n        if len(components)<1:\\n            raise ValueError('Cannot create an empty vector')\\n            \\n        for component in components:\\n            if not isinstance(component, Real):\\n                raise ValueError(f'Vector components must all be real numbers. {component} is invalid')\\n                \\n        self._components = tuple(components)\\n        \\n         \\n        def __len__(self):\\n            return len(self._components)\\n        \\n        @property\\n        def components(self):\\n            return self._components\\n        \\n        def __repr(self):\\n            return f'Vector{self.components}'\\n        \\n        \\n        def validate_type_and_dimension(self, v):\\n            return isinstance(v,Vector) and len(v) ==len(self)\\n        \\n        \\n        def __add__(self, other):\\n            if not self.validate_type_and_dimension(other):\\n                    return NotImplemented\\n                \\n            components = (x + y for x,y in zip(self._components, other.components)) \\n            return Vector(*components)            \", 'v1', \"class Vector:\\n    def __init__(self, *components):\\n        if len(components)<1:\\n            raise ValueError('Cannot create an empty vector')\\n            \\n        for component in components:\\n            if not isinstance(component, Real):\\n                raise ValueError(f'Vector components must all be real numbers. {component} is invalid')\\n                \\n        self._components = tuple(components)\\n        \\n         \\n        def __len__(self):\\n            return len(self._components)\\n        \\n        @property\\n        def components(self):\\n            return self._components\\n        \\n        def __repr__(self):\\n            return f'Vector{self.components}'\\n        \\n        \\n        def validate_type_and_dimension(self, v):\\n            return isinstance(v,Vector) and len(v) ==len(self)\\n        \\n        \\n        def __add__(self, other):\\n            if not self.validate_type_and_dimension(other):\\n                    return NotImplemented\\n                \\n            components = (x + y for x,y in zip(self._components, other.components)) \\n            return Vector(*components)            \", 'v1 = Vector(1,2)\\nv2 = Vector(10,10)\\nv3 = Vector(1,2,3,4)', 'v1', \"class Vector:\\n    def __init__(self, *components):\\n        if len(components)<1:\\n            raise ValueError('Cannot create an empty vector')\\n            \\n        for component in components:\\n            if not isinstance(component, Real):\\n                raise ValueError(f'Vector components must all be real numbers. {component} is invalid')\\n                \\n        self._components = tuple(components)\\n        \\n         \\n        def __len__(self):\\n            return len(self._components)\\n        \\n        @property\\n        def components(self):\\n            return self._components\\n        \\n        def __repr__(self):\\n            return f'Vector{self.components}'\\n        \\n        \\n        def validate_type_and_dimension(self, v):\\n            return isinstance(v,Vector) and len(v) ==len(self)\\n        \\n        \\n        def __add__(self, other):\\n            if not self.validate_type_and_dimension(other):\\n                    return NotImplemented\\n                \\n            components = (x + y for x,y in zip(self._components, other.components)) \\n            return Vector(*components)            \", 'v1 = Vector(1,2)\\nv2 = Vector(10,10)\\nv3 = Vector(1,2,3,4)', 'v1', \"class Vector:\\n    def __init__(self, *components):\\n        if len(components)<1:\\n            raise ValueError('Cannot create an empty vector')\\n            \\n        for component in components:\\n            if not isinstance(component, Real):\\n                raise ValueError(f'Vector components must all be real numbers. {component} is invalid')\\n                \\n        self._components = tuple(components)\\n        \\n         \\n        def __len__(self):\\n            return len(self._components)\\n        \\n        @property\\n        def components(self):\\n            return self._components\\n        \\n        def __repr__(self):\\n            return f'Vector{self.components}'\\n        \\n        \\n        def validate_type_and_dimension(self, v):\\n            return isinstance(v,Vector) and len(v) ==len(self)\\n        \\n        \\n        def __add__(self, other):\\n            if not self.validate_type_and_dimension(other):\\n                    return NotImplemented\\n                \\n            components = (x + y for x,y in zip(self._components, other.components)) \\n            return Vector(*components)            \", 'v1 = Vector(1,2)\\nv2 = Vector(10,10)\\nv3 = Vector(1,2,3,4)', 'v1', \"class Vector:\\n    def __init__(self, *components):\\n        if len(components)<1:\\n            raise ValueError('Cannot create an empty vector')\\n            \\n        for component in components:\\n            if not isinstance(component, Real):\\n                raise ValueError(f'Vector components must all be real numbers. {component} is invalid')\\n                \\n        self._components = tuple(components)\\n        \\n         \\n        def __len__(self):\\n            return len(self._components)\\n        \\n        @property\\n        def components(self):\\n            return self._components\\n        \\n        def __repr__(self):\\n            return f'Vector{self.components}'\\n        \\n        def __str__(self):\\n            return f'Vector{self.components}'\\n        \\n        \\n        def validate_type_and_dimension(self, v):\\n            return isinstance(v,Vector) and len(v) ==len(self)\\n        \\n        \\n        def __add__(self, other):\\n            if not self.validate_type_and_dimension(other):\\n                    return NotImplemented\\n                \\n            components = (x + y for x,y in zip(self._components, other.components)) \\n            return Vector(*components)            \", 'v1 = Vector(1,2)\\nv2 = Vector(10,10)\\nv3 = Vector(1,2,3,4)', 'v1', 'v1+v2', 'v1 + v2', \"class Vector:\\n    def __init__(self, *components):\\n        if len(components)<1:\\n            raise ValueError('Cannot create an empty vector')\\n            \\n        for component in components:\\n            if not isinstance(component, Real):\\n                raise ValueError(f'Vector components must all be real numbers. {component} is invalid')\\n                \\n        self._components = tuple(components)\\n        \\n         \\n        def __len__(self):\\n            return len(self._components)\\n        \\n        @property\\n        def components(self):\\n            return self._components\\n        \\n        def __repr__(self):\\n            return f'Vector{self.components}'\\n        \\n        def __str__(self):\\n            return f'Vector{self.components}'\\n        \\n        \\n        def validate_type_and_dimension(self, v):\\n            return isinstance(v,Vector) and len(v) ==len(self)\\n        \\n        \\n        def __add__(self, other):\\n            if not self.validate_type_and_dimension(other):\\n                    return NotImplemented\\n                \\n            components = (x + y for x,y in zip(self._components, other.components)) \\n            return Vector(*components)            \", 'v1 = Vector(1,2)\\nv2 = Vector(10,10)\\nv3 = Vector(1,2,3,4)', 'v1', 'v1 + v2', \"class Vector:\\n    def __init__(self, *components):\\n        if len(components)<1:\\n            raise ValueError('Cannot create an empty vector')\\n            \\n        for component in components:\\n            if not isinstance(component, Real):\\n                raise ValueError(f'Vector components must all be real numbers. {component} is invalid')\\n                \\n        self._components = tuple(components)\\n        \\n         \\n        def __len__(self):\\n            return len(self._components)\\n        \\n        @property\\n        def components(self):\\n            return self._components\\n        \\n        def __repr__(self):\\n            return f'Vector{self.components}'\\n        \\n        def __str__(self):\\n            return f'Vector{self.components}'\\n        \\n        \\n        def validate_type_and_dimension(self, v):\\n            return isinstance(v,Vector) and len(v) ==len(self)\\n        \\n        \\n        def __add__(self, other):\\n            if not self.validate_type_and_dimension(other):\\n                    return NotImplemented\\n                \\n            components = (x + y for x,y in zip(self._components, other.components)) \\n            return Vector(*components)            \", 'v1 = Vector(1,2)\\nv2 = Vector(10,10)\\nv3 = Vector(1,2,3,4)', 'v1', 'v1 + v2', \"class Vector:\\n    def __init__(self, *components):\\n        if len(components)<1:\\n            raise ValueError('Cannot create an empty vector')\\n            \\n        for component in components:\\n            if not isinstance(component, Real):\\n                raise ValueError(f'Vector components must all be real numbers. {component} is invalid')\\n                \\n        self._components = tuple(components)\\n        \\n         \\n        def __len__(self):\\n            return len(self._components)\\n        \\n        @property\\n        def components(self):\\n            return self._components\\n        \\n        def __repr__(self):\\n            return f'Vector{self.components}'\\n        \\n        def __str__(self):\\n            return f'Vector{self.components}'\\n        \\n        \\n        def validate_type_and_dimension(self, v):\\n            return isinstance(v,Vector) and len(v) ==len(self)\\n        \\n        \\n        def __add__(self, other):\\n            if not self.validate_type_and_dimension(other):\\n                    return NotImplemented\\n                \\n            components = (x + y for x,y in zip(self._components, other.components)) \\n            return Vector(components)            \", 'v1 = Vector(1,2)\\nv2 = Vector(10,10)\\nv3 = Vector(1,2,3,4)', 'v1', 'v1+v2', 'v1 = Vector(1,2)\\nv2 = Vector(1,1)\\nv3 = Vector(1,2,3,4)', 'v1+v2', \"class Vector:\\n    def __init__(self, x,y):\\n        self.x = x\\n        self.y = y\\n        \\n    def __repr__(self):\\n        return f'Vector(x={self.x}, y = {self.y})'\", 'v1 = Vector(0,0)', 'v1 = Vector(0,0)\\nv2 = Vector(0,0)', 'id(v1), id(v2)', 'v1 ==v2', 'v1', \"class Vector:\\n    def __init__(self, x,y):\\n        self.x = x\\n        self.y = y\\n        \\n    def __repr__(self):\\n        return f'Vector(x={self.x}, y = {self.y})'\\n    \\n    \\n    def __eq__(self, other):\\n        if isinstance(other, Vector):\\n            return self.x ==other.x and self.y = other.y\\n        return NotImplemented\", \"class Vector:\\n    def __init__(self, x,y):\\n        self.x = x\\n        self.y = y\\n        \\n    def __repr__(self):\\n        return f'Vector(x={self.x}, y={self.y})'\\n    \\n    \\n    def __eq__(self, other):\\n        if isinstance(other, Vector):\\n            return self.x ==other.x and self.y = other.y\\n        return NotImplemented\", \"class Vector:\\n    def __init__(self, x,y):\\n        self.x = x\\n        self.y = y\\n        \\n    def __repr__(self):\\n        return f'Vector(x={self.x}, y={self.y})'\\n    \\n    \\n    def __eq__(self, other):\\n        if isinstance(other, Vector):\\n            return self.x ==other.x and self.y == other.y\\n        return NotImplemented\", 'v1 = Vector(1,2)\\nv2 = Vector(1,2)', 'v1 = Vector(1,2)\\nv2 = Vector(1,2)\\nv3 = Vector(10,10)', 'v1==v2, v1 is v2', 'v1==v3', \"class Vector:\\n    def __init__(self, x,y):\\n        self.x = x\\n        self.y = y\\n        \\n    def __repr__(self):\\n        return f'Vector(x={self.x}, y={self.y})'\\n    \\n    \\n    def __eq__(self, other):\\n        \\n        if isinstance(other, Vector):\\n            other = Vector(*other)\\n            \\n            \\n        if isinstance(other, Vector):\\n            return self.x ==other.x and self.y == other.y\\n        return NotImplemented\", \"class Vector:\\n    def __init__(self, x,y):\\n        self.x = x\\n        self.y = y\\n        \\n    def __repr__(self):\\n        return f'Vector(x={self.x}, y={self.y})'\\n    \\n    \\n    def __eq__(self, other):\\n        print('__eq__ called..')\\n        \\n        if isinstance(other, Vector):\\n            other = Vector(*other)\\n            \\n            \\n        if isinstance(other, Vector):\\n            return self.x ==other.x and self.y == other.y\\n        return NotImplemented\", 'v1 = Vector(10,10)\\nv1 == (10,10)', 'v1 = Vector(10,11)\\nv1 == (10,11)', 'v1 = Vector(10,11)', 'v1 == (10,11)', 'v1 = Vector(10,11)', 'v1 == (10,11)', \"class Vector:\\n    def __init__(self, x,y):\\n        self.x = x\\n        self.y = y\\n        \\n    def __repr__(self):\\n        return f'Vector(x={self.x}, y={self.y})'\\n    \\n    \\n    def __eq__(self, other):\\n        print('__eq__ called..')\\n        \\n        if isinstance(other, tuple):\\n            other = Vector(*other)\\n            \\n            \\n        if isinstance(other, Vector):\\n            return self.x ==other.x and self.y == other.y\\n        return NotImplemented\", 'v1 = Vector(10,11)', 'v1 == (10,11)', '(10,11) ==v1', \"from math import sqrt\\n\\nclass Vector:\\n    def __init__(self, x,y):\\n        self.x = x\\n        self.y = y\\n        \\n    def __repr__(self):\\n        return f'Vector(x={self.x}, y={self.y})'\\n    \\n    \\n    def __eq__(self, other):\\n        print('__eq__ called..')\\n        \\n        if isinstance(other, tuple):\\n            other = Vector(*other)\\n            \\n            \\n        if isinstance(other, Vector):\\n            return self.x ==other.x and self.y == other.y\\n        return NotImplemented\\n    \\n    def __abs(self):\\n        return sqrt(self.x**2 + self.y**2)\\n    \\n    def __lt__(self, other):\\n        \\n        if isinstance(other, tuple):\\n            other = Vector(*other)\\n            \\n        if isinstance(other, Vector):\\n            return abs(self)< abs(other)\", 'v1 = Vector(0,0)\\nv2 = Vector(1,1)', 'v2<v1', \"from math import sqrt\\n\\nclass Vector:\\n    def __init__(self, x,y):\\n        self.x = x\\n        self.y = y\\n        \\n    def __repr__(self):\\n        return f'Vector(x={self.x}, y={self.y})'\\n    \\n    \\n    def __eq__(self, other):\\n        print('__eq__ called..')\\n        \\n        if isinstance(other, tuple):\\n            other = Vector(*other)\\n            \\n            \\n        if isinstance(other, Vector):\\n            return self.x ==other.x and self.y == other.y\\n        return NotImplemented\\n    \\n    def __abs__(self):\\n        return sqrt(self.x**2 + self.y**2)\\n    \\n    def __lt__(self, other):\\n        \\n        if isinstance(other, tuple):\\n            other = Vector(*other)\\n            \\n        if isinstance(other, Vector):\\n            return abs(self)< abs(other)\", 'v1 = Vector(0,0)\\nv2 = Vector(1,1)', 'v2<v1', 'v1<v2', \"from math import sqrt\\n\\nclass Vector:\\n    def __init__(self, x,y):\\n        self.x = x\\n        self.y = y\\n        \\n    def __repr__(self):\\n        return f'Vector(x={self.x}, y={self.y})'\\n    \\n    \\n    def __eq__(self, other):\\n        print('__eq__ called..')\\n        \\n        if isinstance(other, tuple):\\n            other = Vector(*other)\\n            \\n            \\n        if isinstance(other, Vector):\\n            return self.x ==other.x and self.y == other.y\\n        return NotImplemented\\n    \\n    def __abs__(self):\\n        return sqrt(self.x**2 + self.y**2)\\n    \\n    def __lt__(self, other):\\n        print('__lt__ called...')\\n        if isinstance(other, tuple):\\n            other = Vector(*other)\\n            \\n        if isinstance(other, Vector):\\n            return abs(self)< abs(other)\", 'v1 = Vector(0,0)\\nv2 = Vector(1,1)', 'v2<v1', 'v1<v2', 'v2>v1', 'v1<(1,1)', '(1,1)>v1', \"from math import sqrt\\n\\nclass Vector:\\n    def __init__(self, x,y):\\n        self.x = x\\n        self.y = y\\n        \\n    def __repr__(self):\\n        return f'Vector(x={self.x}, y={self.y})'\\n    \\n    \\n    def __eq__(self, other):\\n        print('__eq__ called..')\\n        \\n        if isinstance(other, tuple):\\n            other = Vector(*other)\\n            \\n            \\n        if isinstance(other, Vector):\\n            return self.x ==other.x and self.y == other.y\\n        return NotImplemented\\n    \\n    def __abs__(self):\\n        return sqrt(self.x**2 + self.y**2)\\n    \\n    def __lt__(self, other):\\n        print('__lt__ called...')\\n        if isinstance(other, tuple):\\n            other = Vector(*other)\\n            \\n        if isinstance(other, Vector):\\n            return abs(self)< abs(other)\\n    \\n    def __le__(self, other):\\n        return self ==other or self<other\\n        \\n        \", 'v1 = Vector(0,0)\\nv2 = Vector(0,0)\\nv3 = Vector(1,1)', 'v1<=v2', 'v1<=v3', 'v1>=v3', 'not(v1==v2)', '# key in dictionary \\n# element of a set\\n# __hash__\\n# __eq__', 'dir(object)', 'class Person:\\n    pass', 'p1 = Person()\\np2 = Person()', 'hash(p1), hash(p2)', 'p1 ==p2', 'p1 is p2', '# 2 objects that are equal must have same hash', 'class Person:\\n    def __init__(self, name):\\n        self.name = name\\n        \\n    def __eq__(self, other):\\n        return isinstance(other, Person) and self.name ==other.name\\n    \\n    \\n    def __repr__(self):\\n        return f\"Person(name=\\'{self.name}\\')\"', \"p1 = Person('John')\\np2 = Person('John')\\np3 = Person('Eric')\", 'p1 ==p2', 'p1 ==p3', 'p1.__hash__', 'tyep(p1.__hash__)', 'type(p1.__hash__)', 'class Person:\\n    def __init__(self, name):\\n        self.name = name\\n        \\n    def __eq__(self, other):\\n        return isinstance(other, Person) and self.name ==other.name\\n    \\n    def __hash__(self):\\n        return hash(self.name)\\n    \\n    def __repr__(self):\\n        return f\"Person(name=\\'{self.name}\\')\"', \"p1 = Person('John')\\np2 = Person('John')\\np3 = Person('Eric')\", 'p1 ==p2', 'hash(p1). hash(p2)', 'hash(p1), hash(p2)', 'class Person:\\n    def __init__(self, name):\\n        self._name = name\\n        \\n    @property\\n    def name(self):\\n        return self._name\\n        \\n    def __eq__(self, other):\\n        return isinstance(other, Person) and self.name ==other.name\\n    \\n    def __hash__(self):\\n        return hash(self.name)\\n    \\n    def __repr__(self):\\n        return f\"Person(name=\\'{self.name}\\')\"', \"p1 = Person('John')\\np2 = Person('John')\\np3 = Person('Eric')\", 'p1 ==p2', 'hash(p1), hash(p2)', '# __bool__', 'class Person:\\n    pass', 'p = Person()', 'bool(p)', \"class MyList:\\n    def __init__(self, length):\\n        self._length = length\\n        \\n    def __len__(self):\\n        print('__len__ called..')\\n        return self._length\", 'l1 = MyList(0)\\nl2 = MyList(10)', 'bool(l1)', 'bool(l2)', \"class MyList:\\n    def __init__(self, length):\\n        self._length = length\\n        \\n    # if __len__ method is implemented then __bool__ will return true/false    \\n    def __len__(self):\\n        print('__len__ called..')\\n        return self._length\", 'l1 = MyList(0)\\nl2 = MyList(10)', 'bool(l1)', 'bool(l2)', \"class MyList:\\n    def __init__(self, length):\\n        self._length = length\\n        \\n    # if __len__ method is implemented then __bool__ will return true/false    \\n    def __len__(self):\\n        print('__len__ called..')\\n        return self._length\\n    \\n    def __bool__(self):\\n        print('__bool__ called..')\\n        return slef._length>0\", 'l1 = MyList(0)\\nl2 = MyList(10)', 'bool(l1)', \"class MyList:\\n    def __init__(self, length):\\n        self._length = length\\n        \\n    # if __len__ method is implemented then __bool__ will return true/false    \\n    def __len__(self):\\n        print('__len__ called..')\\n        return self._length\\n    \\n    def __bool__(self):\\n        print('__bool__ called..')\\n        return self._length>0\", 'l1 = MyList(0)\\nl2 = MyList(10)', 'bool(l1)', 'bool(l2)', 'classs Point:\\n    \\n    def __init__(self, x, y):\\n        self.x = x\\n        self.y = y\\n        \\n        ', 'class Point:\\n    \\n    def __init__(self, x, y):\\n        self.x = x\\n        self.y = y\\n        \\n        ', 'p1 = Point(0,0)', 'p1 = Point(0,0)\\np2 = Point(1,1)', 'bool(p1), bool(p2)', 'class Point:\\n    \\n    def __init__(self, x, y):\\n        self.x = x\\n        self.y = y\\n        \\n    def __bool__(self):\\n        return self.x !=0 or self.y!=0', 'p1 = Point(0,0)\\np2 = Point(1,1)', 'bool(p1), bool(p2)', 'bool(p1.x or p1.y)', 'bool(p2.x or p2.y)', 'p1 = Point(0,0)', 'p1.__bool()', 'p1.__bool__()', \"class Person:\\n    \\n    def __call__(self):\\n        print('__call__ called ..')\", 'p = Person()', 'p()', 'type(p)', 'from functools import partial', 'type(partial)', 'type(Person)', 'def my_func(a,b,c):\\n    print(a,b,c)', 'type(my_func)', 'partial_func = partial(my_func, 10,20)', 'type(partial_func)', 'partial_func(30)', 'class Partial:\\n    \\n    def __init__(self, func, *args):\\n        self._func = func\\n        self._args = args\\n        \\n    def __call__(self, *args):\\n        return self._func(*self_args, *args)', 'pf = Partial(my_func, 10,20)', 'type(pf)', 'pf(30)', 'class Partial:\\n    \\n    def __init__(self, func, *args):\\n        self._func = func\\n        self._args = args\\n        \\n    def __call__(self, *args):\\n        return self._func(*self._args, *args)', 'pf = Partial(my_func, 10,20)', 'type(pf)', 'pf(30)', 'callable(print)', 'from collections import defaultdict', \"def dafault_value():\\n    return 'NA'\", 'd = defaultdict(default_value)', 'd = defaultdict(dafault_value)', \"def default_value():\\n    return 'NA'\", 'd = defaultdict(default_value)', \"d['a']\", \"d['b'] = 100\", 'd.items()', 'miss_counter = 0 ', \"def default_value():\\n    global miss_counter\\n    miss_counter +=1\\n    return 'NA'\", 'd = defaultdict(default_value)', \"d['a'] = 1\", 'miss_counter', \"d['b']\", 'miss_counter', \"class DefaultValue:\\n    \\n    def __init__(self):\\n        self.counter = 0 \\n        \\n    def __iadd__(self, other):\\n        if isinstance(other, int):\\n            self.counter += other\\n            return self\\n        raise ValueError('can only increment with an integer value')\", 'default_value_1 = DefaultValue()', 'default_value_1.counter', 'default_value_1+=1', 'default_value_1.counter', '# but for it to be used in defaultdict DefaultValue needs to be callable ', \"# make default value as callable\\nclass DefaultValue:\\n    \\n    def __init__(self):\\n        self.counter = 0 \\n        \\n    def __call__(self):\\n        self.counter+=1\\n        return 'NA'\\n        \\n    def __iadd__(self, other):\\n        if isinstance(other, int):\\n            self.counter += other\\n            return self\\n        raise ValueError('can only increment with an integer value')\", 'def_1 = DefaultValue()\\ndef_2 = DefaultValue()', 'cache_1 = defaultdict(def_1)\\ncache_2 = defaultdict(def_2)', \"cache_1['a'], cache_1['b']\", 'def_1.counter', \"cache_2['a']\", 'def_2.counter', \"class DefaultValue:\\n    \\n    def __init__(self, default_value):\\n        self.default_value = default_value\\n        self.counter = 0 \\n        \\n    def __call__(self):\\n        self.counter+=1\\n        return 'NA'\\n        \\n   \", 'def_1 = DefaultValue(None)\\ndef_2 = DefaultValue(0)', 'cache_1 = defaultdict(def_1)\\ncache_2 = defaultdict(def_2)', \"cache_1['a'], cache_1['b']\", 'def_1.counter', \"cache_2['a']\", 'def_2.counter', 'def my_func():\\n    s = 1\\n    v = 2', 'my_func.s', 'def my_func():\\n    s = 1\\n    v = 2', 'def my_func():\\n    s = 1', 'my_func.scope = 1', 'my_func.scope', 'from time import perf_counter', 'from time import perf_counter\\nfrom functools import wraps', 'def profile(fn):\\n    \\n    _counter = 0\\n    _avg_time = 0 \\n    _total_elapsed = 0 \\n    \\n    @wraps(fn)\\n    def inner(*args, **kwargs):\\n        nonlocal _counter\\n        nonlocal _avg_time\\n        nonlocal _total_elapsed\\n        \\n        _counter+=1\\n        start = perf_counter()\\n        result = fn(*args, ** kwargs)\\n        end = perf_counter()\\n        _total_elapsed = start - end\\n        _avg_time  = _total_elapsed/_counter\\n        \\n        return result\\n    \\n    \\n    def counter():\\n        return _counter\\n    \\n    def avg_time():\\n        return _avg_time\\n    \\n    inner.counter = _counter\\n    inner.avg_time = _avg_time\\n    \\n    return inner\\n        ', 'from time import sleep\\nimport random\\n@profile\\ndef func():\\n    return sleep(random.random())\\n    ', 'func1(). func1()', 'func1(), func1()', 'func(), func()', 'func.counter', 'func.counter()', 'def profile(fn):\\n    \\n    _counter = 0\\n    _avg_time = 0 \\n    _total_elapsed = 0 \\n    \\n    @wraps(fn)\\n    def inner(*args, **kwargs):\\n        nonlocal _counter\\n        nonlocal _avg_time\\n        nonlocal _total_elapsed\\n        \\n        _counter+=1\\n        start = perf_counter()\\n        result = fn(*args, ** kwargs)\\n        end = perf_counter()\\n        _total_elapsed += start - end\\n        _avg_time  = _total_elapsed/_counter\\n        \\n        return result\\n    \\n    \\n    def counter():\\n        return _counter\\n    \\n    def avg_time():\\n        return _avg_time\\n    \\n    inner.counter = _counter\\n    inner.avg_time = _avg_time\\n    \\n    return inner\\n        ', 'from time import sleep\\nimport random\\n@profile\\ndef func():\\n    return sleep(random.random())\\n    ', 'func(), func()', 'func.counter()', 'def profile(fn):\\n    \\n    _counter = 0\\n    _avg_time = 0 \\n    _total_elapsed = 0 \\n    \\n    @wraps(fn)\\n    def inner(*args, **kwargs):\\n        nonlocal _counter\\n        nonlocal _avg_time\\n        nonlocal _total_elapsed\\n        \\n        _counter+=1\\n        start = perf_counter()\\n        result = fn(*args, ** kwargs)\\n        end = perf_counter()\\n        _total_elapsed += start - end\\n        _avg_time  = _total_elapsed/_counter\\n        \\n        return result\\n    \\n    \\n    def counter():\\n        return _counter\\n    \\n    def avg_time():\\n        return _avg_time\\n    \\n    inner.counter = counter\\n    inner.avg_time = avg_time\\n    \\n    return inner\\n        ', 'from time import sleep\\nimport random\\n@profile\\ndef func():\\n    return sleep(random.random())\\n    ', 'func(), func()', 'func.counter()', '# writing closure for counter is complex easier would be use class for it', 'class Profiler:\\n    \\n    def __init__(self, fn):\\n        self.counter = 0 \\n        self.total_elasped = 0\\n        self.fn = fn\\n        \\n        \\n    def __call__(self, *args, **kwargs):\\n        self.counter +=1\\n        start = perf_counter()\\n        result = fn(*args, **kwargs)\\n        end = perf_counter()\\n        self.total_elapsed += end - start\\n        return result\\n    \\n    @property\\n    def avg_time(self):\\n        return self.total_elapsed/self.counter', '@profiler\\ndef func(a,b):\\n    sleep(random.random())\\n    return (a,b)', '@Profiler\\ndef func(a,b):\\n    sleep(random.random())\\n    return (a,b)', '# above is same as\\ndef func(a,b):\\n    sleep(random.random())\\n    return (a,b)\\n\\nfunc = Profiler(func)', 'func(1,2)', 'class Profiler:\\n    \\n    def __init__(self, fn):\\n        self.counter = 0 \\n        self.total_elasped = 0\\n        self.fn = fn\\n        \\n        \\n    def __call__(self, *args, **kwargs):\\n        self.counter +=1\\n        start = perf_counter()\\n        result = self.fn(*args, **kwargs)\\n        end = perf_counter()\\n        self.total_elapsed += end - start\\n        return result\\n    \\n    @property\\n    def avg_time(self):\\n        return self.total_elapsed/self.counter', '@Profiler\\ndef func(a,b):\\n    sleep(random.random())\\n    return (a,b)', '# above is same as\\ndef func(a,b):\\n    sleep(random.random())\\n    return (a,b)\\n\\nfunc = Profiler(func)', 'func(1,2)', 'class Profiler:\\n    \\n    def __init__(self, fn):\\n        self.counter = 0 \\n        self.total_elasped = 0\\n        self.fn = fn\\n        \\n        \\n    def __call__(self, *args, **kwargs):\\n        self.counter +=1\\n        start = perf_counter()\\n        result = self.fn(*args, **kwargs)\\n        end = perf_counter()\\n        self.total_elasped += end - start\\n        return result\\n    \\n    @property\\n    def avg_time(self):\\n        return self.total_elapsed/self.counter', '@Profiler\\ndef func(a,b):\\n    sleep(random.random())\\n    return (a,b)', '# above is same as\\ndef func(a,b):\\n    sleep(random.random())\\n    return (a,b)\\n\\nfunc = Profiler(func)', 'func(1,2)', 'func_1.counter', 'func.counter', 'func.avg_time', 'class Profiler:\\n    \\n    def __init__(self, fn):\\n        self.counter = 0 \\n        self.total_elasped = 0\\n        self.fn = fn\\n        \\n        \\n    def __call__(self, *args, **kwargs):\\n        self.counter +=1\\n        start = perf_counter()\\n        result = self.fn(*args, **kwargs)\\n        end = perf_counter()\\n        self.total_elasped += end - start\\n        return result\\n    \\n    @property\\n    def avg_time(self):\\n        return self.total_elasped/self.counter', '@Profiler\\ndef func(a,b):\\n    sleep(random.random())\\n    return (a,b)', '# above is same as\\ndef func(a,b):\\n    sleep(random.random())\\n    return (a,b)\\n\\nfunc = Profiler(func)', 'func(1,2)', 'func.counter', 'class Profiler:\\n    \\n    def __init__(self, fn):\\n        self.counter = 0 \\n        self.total_elapsed = 0\\n        self.fn = fn\\n        \\n        \\n    def __call__(self, *args, **kwargs):\\n        self.counter +=1\\n        start = perf_counter()\\n        result = self.fn(*args, **kwargs)\\n        end = perf_counter()\\n        self.total_elapsed += end - start\\n        return result\\n    \\n    @property\\n    def avg_time(self):\\n        return self.total_elapsed/self.counter', '@Profiler\\ndef func(a,b):\\n    sleep(random.random())\\n    return (a,b)', '# above is same as\\ndef func(a,b):\\n    sleep(random.random())\\n    return (a,b)\\n\\nfunc = Profiler(func)', 'func(1,2)', 'func.counter', 'func.avg_time', '# __del__ method is called before object is destroyed by  garbadge collector \\n# GC calling is not controlled when it will be called\\n# its called when all references for objected are gone\\n# context manager preferred to clean up resources', 'import ctypes\\n\\ndef ref_count(address):\\n    return ctypes.c_long.form_address(address).value', \"class Person:\\n    def __init__(self, name):\\n        self.name = name\\n        \\n    def __repr__(self):\\n        return f'Person({self.name})'\\n    \\n    def __del__(self):\\n        print(f'__del__ called for {self}...')\", \"p = Person('Alex')\", 'id+p - id(p)', 'id_p = id(p)', 'ref_count(id_p)', 'import ctypes\\n\\ndef ref_count(address):\\n    return ctypes.c_long.from_address(address).value', \"class Person:\\n    def __init__(self, name):\\n        self.name = name\\n        \\n    def __repr__(self):\\n        return f'Person({self.name})'\\n    \\n    def __del__(self):\\n        print(f'__del__ called for {self}...')\", \"p = Person('Alex')\", 'id_p = id(p)', 'ref_count(id_p)', 'p = None', \"p = Person('Alex')\", 'del p', \"class Person:\\n    def __init__(self, name):\\n        self.name = name\\n        \\n    def __repr__(self):\\n        return f'Person({self.name})'\\n    \\n    def __del__(self):\\n        print(f'__del__ called for {self}...')\\n        \\n        \\n    def gen_ex(self):\\n        raise ValueError('something went bump...')\", \"p = Person('Eric')\\np_id = id(p)\\nref_count(p_id)\", 'try:\\n    p.gen_ex()\\nexcept ValueError as ex:\\n    error = ex\\n    pirnt(ex)', 'try:\\n    p.gen_ex()\\nexcept ValueError as ex:\\n    error = ex\\n    print(ex)', 'ref_count(p_id)', 'type(error)', 'dir(error)', 'dir(error).__traceback__', 'dir(error.__traceback__)', 'dir(error.__traceback__.tb_frame)', 'dir(error.__traceback__.tb_frame.f_locals)', 'type(error.__traceback__.tb_frame.f_locals)', 'for key,value in error.__traceback__.tb_frame.f_locals.items():\\n    pass', '# as we try to look at dcitionary its trying to modify it causing error\\nfor key,value in error.__traceback__.tb_frame.f_locals.items():\\n    pass', '# as we try to look at dcitionary its trying to modify it causing error\\nfor key,value in error.__traceback__.tb_frame.f_locals.items():\\n    pass', '# make a static copy for dict\\nfor key,value in error.__traceback__.tb_frame.f_locals.copy().items():\\n    pass', '# make a static copy for dict\\nfor key,value in error.__traceback__.tb_frame.f_locals.copy().items():\\n    print(key, value)']\n",
      "_oh __repr__called\n",
      "__repr__called\n",
      "{8: person(name = Python,age=30), 10: 'person(name = Python,age=30)', 13: person(name = Python,age=30), 15: 'Python', 16: 'person(name = Python,age=30)', 19: ('<__main__.Person object at 0x10b6ce650>', '<__main__.Point object at 0x10b6cdc10>'), 20: ('<__main__.Person object at 0x10b6ce650>', '<__main__.Point object at 0x10b6cdc10>'), 23: <__main__.Person object at 0x10b6edfd0>, 24: '<__main__.Person object at 0x10b6edfd0>', 26: 'Python', 29: 'The person is Python', 30: 'The person is Python', 32: '\\nconsider a + b\\npython wil attempt to call a.__add__(b)\\n\\nif this returns NotImplemented AND operands are not of same type\\n\\npython will swap the operands and try this instead b.__add__(a)\\n\\n', 39: <__main__.Vector object at 0x10b6ce4d0>, 41: <__main__.Vector object at 0x10b6ce4d0>, 44: <__main__.Vector object at 0x10b6cdf90>, 47: <__main__.Vector object at 0x10aa865d0>, 50: <__main__.Vector object at 0x10b748810>, 53: <__main__.Vector object at 0x10b6f1c90>, 58: <__main__.Vector object at 0x10b749250>, 62: <__main__.Vector object at 0x10b78da10>, 66: <__main__.Vector object at 0x10b7bad90>, 73: (4487621904, 4487183888), 74: False, 75: Vector(x=0, y = 0), 81: (True, False), 82: False, 85: False, 86: False, 88: False, 90: False, 93: True, 94: True, 100: False, 101: True, 104: False, 105: True, 106: True, 107: True, 108: True, 111: True, 112: True, 113: False, 114: False, 116: ['__class__', '__delattr__', '__dir__', '__doc__', '__eq__', '__format__', '__ge__', '__getattribute__', '__getstate__', '__gt__', '__hash__', '__init__', '__init_subclass__', '__le__', '__lt__', '__ne__', '__new__', '__reduce__', '__reduce_ex__', '__repr__', '__setattr__', '__sizeof__', '__str__', '__subclasshook__'], 119: (280438117, 280480761), 120: False, 121: False, 125: True, 126: False, 129: <class 'NoneType'>, 132: True, 134: (5015393525511758069, 5015393525511758069), 137: True, 138: (5015393525511758069, 5015393525511758069), 142: True, 145: False, 146: True, 149: False, 150: True, 156: False, 157: True, 162: (True, True), 165: (False, True), 166: False, 167: True, 170: False, 174: <class '__main__.Person'>, 176: <class 'type'>, 177: <class 'type'>, 179: <class 'function'>, 181: <class 'functools.partial'>, 185: <class '__main__.Partial'>, 189: <class '__main__.Partial'>, 191: True, 198: 'NA', 200: dict_items([('a', 'NA'), ('b', 100)]), 205: 0, 206: 'NA', 207: 1, 210: 0, 212: 1, 217: ('NA', 'NA'), 218: 2, 219: 'NA', 220: 1, 224: ('NA', 'NA'), 225: 2, 226: 'NA', 227: 1, 233: 1, 240: (None, None), 241: 0, 245: (None, None), 249: (None, None), 250: 2, 264: (1, 2), 266: 1, 271: (1, 2), 272: 1, 276: (1, 2), 277: 1, 278: 0.05516315400018357, 290: 1, 295: 1, 298: 4, 299: <class 'ValueError'>, 300: ['__cause__', '__class__', '__context__', '__delattr__', '__dict__', '__dir__', '__doc__', '__eq__', '__format__', '__ge__', '__getattribute__', '__getstate__', '__gt__', '__hash__', '__init__', '__init_subclass__', '__le__', '__lt__', '__ne__', '__new__', '__reduce__', '__reduce_ex__', '__repr__', '__setattr__', '__setstate__', '__sizeof__', '__str__', '__subclasshook__', '__suppress_context__', '__traceback__', 'add_note', 'args', 'with_traceback'], 302: ['tb_frame', 'tb_lasti', 'tb_lineno', 'tb_next'], 303: ['__class__', '__delattr__', '__dir__', '__doc__', '__eq__', '__format__', '__ge__', '__getattribute__', '__getstate__', '__gt__', '__hash__', '__init__', '__init_subclass__', '__le__', '__lt__', '__ne__', '__new__', '__reduce__', '__reduce_ex__', '__repr__', '__setattr__', '__sizeof__', '__str__', '__subclasshook__', 'clear', 'f_back', 'f_builtins', 'f_code', 'f_globals', 'f_lasti', 'f_lineno', 'f_locals', 'f_trace', 'f_trace_lines', 'f_trace_opcodes'], 304: ['__class__', '__class_getitem__', '__contains__', '__delattr__', '__delitem__', '__dir__', '__doc__', '__eq__', '__format__', '__ge__', '__getattribute__', '__getitem__', '__getstate__', '__gt__', '__hash__', '__init__', '__init_subclass__', '__ior__', '__iter__', '__le__', '__len__', '__lt__', '__ne__', '__new__', '__or__', '__reduce__', '__reduce_ex__', '__repr__', '__reversed__', '__ror__', '__setattr__', '__setitem__', '__sizeof__', '__str__', '__subclasshook__', 'clear', 'copy', 'fromkeys', 'get', 'items', 'keys', 'pop', 'popitem', 'setdefault', 'update', 'values'], 305: <class 'dict'>}\n",
      "_dh [PosixPath('/Users/siddharthgehlot/Documents/GitHub/Python-Deep-Dive/OOP')]\n",
      "In ['', '# the ability to define a generic type of behaviour that will behave differently when applied to different types\\n# python is polymorphism in nature', \"class Person:\\n    def __init__(self, name, age):\\n        self.name = anme\\n        self.age = age\\n        \\n        \\n    def __repr__(self):\\n        print('__repr__called')\\n        return f'person(name = '{self.name}',age='{self.age}')'\", \"class Person:\\n    def __init__(self, name, age):\\n        self.name = anme\\n        self.age = age\\n        \\n        \\n    def __repr__(self):\\n        print('__repr__called')\\n        return f'person(name = '{self.name}',age={self.age})'\", \"class Person:\\n    def __init__(self, name, age):\\n        self.name = anme\\n        self.age = age\\n        \\n        \\n    def __repr__(self):\\n        print('__repr__called')\\n        return f'person(name = {self.name},age={self.age})'\", \"p = Person('Python', 30)\", \"class Person:\\n    def __init__(self, name, age):\\n        self.name = name\\n        self.age = age\\n        \\n        \\n    def __repr__(self):\\n        print('__repr__called')\\n        return f'person(name = {self.name},age={self.age})'\", \"p = Person('Python', 30)\", 'p', 'print(p)', 'str(p)', \"class Person:\\n    def __init__(self, name, age):\\n        self.name = name\\n        self.age = age\\n        \\n        \\n    def __repr__(self):\\n        print('__repr__called')\\n        return f'person(name = {self.name},age={self.age})'\\n    \\n    def __str__(self):\\n        print('__str__ called..')\\n        return self.name\", \"p = Person('Python', 30)\", 'p', 'print(p)', 'str(p)', 'repr(p)', 'class Person:\\n    pass\\n\\nclass Point:\\n    pass', 'person = Person()\\npoint = Point()', 'repr(person), repr(point)', 'str(person), str(point)', \"class Person:\\n    def __init__(self, name, age):\\n        self.name = name\\n        self.age = age\\n        \\n    \\n    def __str__(self):\\n        print('__str__ called..')\\n        return self.name\", \"p = Person('Python', 30)\", 'p', 'repr(p)', 'print(p)', 'str(p)', \"class Person:\\n    def __init__(self, name, age):\\n        self.name = name\\n        self.age = age\\n        \\n        \\n    def __repr__(self):\\n        print('__repr__called')\\n        return f'person(name = {self.name},age={self.age})'\\n    \\n    def __str__(self):\\n        print('__str__ called..')\\n        return self.name\", \"p = Person('Python', 30)\", \"f'The person is {p}'\", \"'The person is {}'.format(p)\", '## __add__\\n## __sub__\\n## __mul__\\n## __truediv__ /\\n## __floordiv__ //\\n## __mod__ %\\n## __pow__ **\\n## __matmul__ @', \"'''\\nconsider a + b\\npython wil attempt to call a.__add__(b)\\n\\nif this returns NotImplemented AND operands are not of same type\\n\\npython will swap the operands and try this instead b.__add__(a)\\n\\n'''\", '# in-place operators\\n## __iadd__ +=\\n## __isub__ -=\\n## __imul__\\n## __itruediv__\\n## __ifloordiv__\\n\\n\\n# unary operator\\n## __neg__\\n## __Pos__\\n## __abs__', 'from numbers import Real', \"class Vector:\\n    def __init__(self, *components):\\n        if len(components)<1:\\n            raise ValueError('Cannot create an empty vector')\\n            \\n        for component in components:\\n            if not isinstance(component, Real):\\n                raise ValueError(f'Vector components must all be real numbers. {component} is invalid')\\n                \\n        self._components = tuple(components)\\n        \\n         \\n        def __len__(self):\\n            return len(self._components)\\n        \\n        @property\\n        def components(self):\\n            return self._components\\n        \\n        def __repr(self):\\n            return f'Vector{self.components}'\\n        \\n        \\n        def validate_type_and_dimension(self, v):\\n            return isinstance(v,Vector) and len(v) ==len(self)\\n        \\n        \\n        def __add__(self, other):\\n            if not self.validate_type_and_dimension(other):\\n                    return NotImplemented\\n                \\n            components = (x + y for x,y in zip(self._components, other.components)) \\n            return Vector(*components) \\n            \\n            \\n            \\n            \\n            \\n            \\n            \\n            \\n            \\n            \\n            \\n            \", \"class Vector:\\n    def __init__(self, *components):\\n        if len(components)<1:\\n            raise ValueError('Cannot create an empty vector')\\n            \\n        for component in components:\\n            if not isinstance(component, Real):\\n                raise ValueError(f'Vector components must all be real numbers. {component} is invalid')\\n                \\n        self._components = tuple(components)\\n        \\n         \\n        def __len__(self):\\n            return len(self._components)\\n        \\n        @property\\n        def components(self):\\n            return self._components\\n        \\n        def __repr(self):\\n            return f'Vector{self.components}'\\n        \\n        \\n        def validate_type_and_dimension(self, v):\\n            return isinstance(v,Vector) and len(v) ==len(self)\\n        \\n        \\n        def __add__(self, other):\\n            if not self.validate_type_and_dimension(other):\\n                    return NotImplemented\\n                \\n            components = (x + y for x,y in zip(self._components, other.components)) \\n            return Vector(*components)            \", 'v1 = Vecotr(1,2)\\nv2 = Vector(10,10)\\nv3 = Vector(1,2,3,4)', 'v1 = Vector(1,2)\\nv2 = Vector(10,10)\\nv3 = Vector(1,2,3,4)', 'v1', \"class Vector:\\n    def __init__(self, *components):\\n        if len(components)<1:\\n            raise ValueError('Cannot create an empty vector')\\n            \\n        for component in components:\\n            if not isinstance(component, Real):\\n                raise ValueError(f'Vector components must all be real numbers. {component} is invalid')\\n                \\n        self._components = tuple(components)\\n        \\n         \\n        def __len__(self):\\n            return len(self._components)\\n        \\n        @property\\n        def components(self):\\n            return self._components\\n        \\n        def __repr(self):\\n            return f'Vector{self.components}'\\n        \\n        \\n        def validate_type_and_dimension(self, v):\\n            return isinstance(v,Vector) and len(v) ==len(self)\\n        \\n        \\n        def __add__(self, other):\\n            if not self.validate_type_and_dimension(other):\\n                    return NotImplemented\\n                \\n            components = (x + y for x,y in zip(self._components, other.components)) \\n            return Vector(*components)            \", 'v1', \"class Vector:\\n    def __init__(self, *components):\\n        if len(components)<1:\\n            raise ValueError('Cannot create an empty vector')\\n            \\n        for component in components:\\n            if not isinstance(component, Real):\\n                raise ValueError(f'Vector components must all be real numbers. {component} is invalid')\\n                \\n        self._components = tuple(components)\\n        \\n         \\n        def __len__(self):\\n            return len(self._components)\\n        \\n        @property\\n        def components(self):\\n            return self._components\\n        \\n        def __repr__(self):\\n            return f'Vector{self.components}'\\n        \\n        \\n        def validate_type_and_dimension(self, v):\\n            return isinstance(v,Vector) and len(v) ==len(self)\\n        \\n        \\n        def __add__(self, other):\\n            if not self.validate_type_and_dimension(other):\\n                    return NotImplemented\\n                \\n            components = (x + y for x,y in zip(self._components, other.components)) \\n            return Vector(*components)            \", 'v1 = Vector(1,2)\\nv2 = Vector(10,10)\\nv3 = Vector(1,2,3,4)', 'v1', \"class Vector:\\n    def __init__(self, *components):\\n        if len(components)<1:\\n            raise ValueError('Cannot create an empty vector')\\n            \\n        for component in components:\\n            if not isinstance(component, Real):\\n                raise ValueError(f'Vector components must all be real numbers. {component} is invalid')\\n                \\n        self._components = tuple(components)\\n        \\n         \\n        def __len__(self):\\n            return len(self._components)\\n        \\n        @property\\n        def components(self):\\n            return self._components\\n        \\n        def __repr__(self):\\n            return f'Vector{self.components}'\\n        \\n        \\n        def validate_type_and_dimension(self, v):\\n            return isinstance(v,Vector) and len(v) ==len(self)\\n        \\n        \\n        def __add__(self, other):\\n            if not self.validate_type_and_dimension(other):\\n                    return NotImplemented\\n                \\n            components = (x + y for x,y in zip(self._components, other.components)) \\n            return Vector(*components)            \", 'v1 = Vector(1,2)\\nv2 = Vector(10,10)\\nv3 = Vector(1,2,3,4)', 'v1', \"class Vector:\\n    def __init__(self, *components):\\n        if len(components)<1:\\n            raise ValueError('Cannot create an empty vector')\\n            \\n        for component in components:\\n            if not isinstance(component, Real):\\n                raise ValueError(f'Vector components must all be real numbers. {component} is invalid')\\n                \\n        self._components = tuple(components)\\n        \\n         \\n        def __len__(self):\\n            return len(self._components)\\n        \\n        @property\\n        def components(self):\\n            return self._components\\n        \\n        def __repr__(self):\\n            return f'Vector{self.components}'\\n        \\n        \\n        def validate_type_and_dimension(self, v):\\n            return isinstance(v,Vector) and len(v) ==len(self)\\n        \\n        \\n        def __add__(self, other):\\n            if not self.validate_type_and_dimension(other):\\n                    return NotImplemented\\n                \\n            components = (x + y for x,y in zip(self._components, other.components)) \\n            return Vector(*components)            \", 'v1 = Vector(1,2)\\nv2 = Vector(10,10)\\nv3 = Vector(1,2,3,4)', 'v1', \"class Vector:\\n    def __init__(self, *components):\\n        if len(components)<1:\\n            raise ValueError('Cannot create an empty vector')\\n            \\n        for component in components:\\n            if not isinstance(component, Real):\\n                raise ValueError(f'Vector components must all be real numbers. {component} is invalid')\\n                \\n        self._components = tuple(components)\\n        \\n         \\n        def __len__(self):\\n            return len(self._components)\\n        \\n        @property\\n        def components(self):\\n            return self._components\\n        \\n        def __repr__(self):\\n            return f'Vector{self.components}'\\n        \\n        def __str__(self):\\n            return f'Vector{self.components}'\\n        \\n        \\n        def validate_type_and_dimension(self, v):\\n            return isinstance(v,Vector) and len(v) ==len(self)\\n        \\n        \\n        def __add__(self, other):\\n            if not self.validate_type_and_dimension(other):\\n                    return NotImplemented\\n                \\n            components = (x + y for x,y in zip(self._components, other.components)) \\n            return Vector(*components)            \", 'v1 = Vector(1,2)\\nv2 = Vector(10,10)\\nv3 = Vector(1,2,3,4)', 'v1', 'v1+v2', 'v1 + v2', \"class Vector:\\n    def __init__(self, *components):\\n        if len(components)<1:\\n            raise ValueError('Cannot create an empty vector')\\n            \\n        for component in components:\\n            if not isinstance(component, Real):\\n                raise ValueError(f'Vector components must all be real numbers. {component} is invalid')\\n                \\n        self._components = tuple(components)\\n        \\n         \\n        def __len__(self):\\n            return len(self._components)\\n        \\n        @property\\n        def components(self):\\n            return self._components\\n        \\n        def __repr__(self):\\n            return f'Vector{self.components}'\\n        \\n        def __str__(self):\\n            return f'Vector{self.components}'\\n        \\n        \\n        def validate_type_and_dimension(self, v):\\n            return isinstance(v,Vector) and len(v) ==len(self)\\n        \\n        \\n        def __add__(self, other):\\n            if not self.validate_type_and_dimension(other):\\n                    return NotImplemented\\n                \\n            components = (x + y for x,y in zip(self._components, other.components)) \\n            return Vector(*components)            \", 'v1 = Vector(1,2)\\nv2 = Vector(10,10)\\nv3 = Vector(1,2,3,4)', 'v1', 'v1 + v2', \"class Vector:\\n    def __init__(self, *components):\\n        if len(components)<1:\\n            raise ValueError('Cannot create an empty vector')\\n            \\n        for component in components:\\n            if not isinstance(component, Real):\\n                raise ValueError(f'Vector components must all be real numbers. {component} is invalid')\\n                \\n        self._components = tuple(components)\\n        \\n         \\n        def __len__(self):\\n            return len(self._components)\\n        \\n        @property\\n        def components(self):\\n            return self._components\\n        \\n        def __repr__(self):\\n            return f'Vector{self.components}'\\n        \\n        def __str__(self):\\n            return f'Vector{self.components}'\\n        \\n        \\n        def validate_type_and_dimension(self, v):\\n            return isinstance(v,Vector) and len(v) ==len(self)\\n        \\n        \\n        def __add__(self, other):\\n            if not self.validate_type_and_dimension(other):\\n                    return NotImplemented\\n                \\n            components = (x + y for x,y in zip(self._components, other.components)) \\n            return Vector(*components)            \", 'v1 = Vector(1,2)\\nv2 = Vector(10,10)\\nv3 = Vector(1,2,3,4)', 'v1', 'v1 + v2', \"class Vector:\\n    def __init__(self, *components):\\n        if len(components)<1:\\n            raise ValueError('Cannot create an empty vector')\\n            \\n        for component in components:\\n            if not isinstance(component, Real):\\n                raise ValueError(f'Vector components must all be real numbers. {component} is invalid')\\n                \\n        self._components = tuple(components)\\n        \\n         \\n        def __len__(self):\\n            return len(self._components)\\n        \\n        @property\\n        def components(self):\\n            return self._components\\n        \\n        def __repr__(self):\\n            return f'Vector{self.components}'\\n        \\n        def __str__(self):\\n            return f'Vector{self.components}'\\n        \\n        \\n        def validate_type_and_dimension(self, v):\\n            return isinstance(v,Vector) and len(v) ==len(self)\\n        \\n        \\n        def __add__(self, other):\\n            if not self.validate_type_and_dimension(other):\\n                    return NotImplemented\\n                \\n            components = (x + y for x,y in zip(self._components, other.components)) \\n            return Vector(components)            \", 'v1 = Vector(1,2)\\nv2 = Vector(10,10)\\nv3 = Vector(1,2,3,4)', 'v1', 'v1+v2', 'v1 = Vector(1,2)\\nv2 = Vector(1,1)\\nv3 = Vector(1,2,3,4)', 'v1+v2', \"class Vector:\\n    def __init__(self, x,y):\\n        self.x = x\\n        self.y = y\\n        \\n    def __repr__(self):\\n        return f'Vector(x={self.x}, y = {self.y})'\", 'v1 = Vector(0,0)', 'v1 = Vector(0,0)\\nv2 = Vector(0,0)', 'id(v1), id(v2)', 'v1 ==v2', 'v1', \"class Vector:\\n    def __init__(self, x,y):\\n        self.x = x\\n        self.y = y\\n        \\n    def __repr__(self):\\n        return f'Vector(x={self.x}, y = {self.y})'\\n    \\n    \\n    def __eq__(self, other):\\n        if isinstance(other, Vector):\\n            return self.x ==other.x and self.y = other.y\\n        return NotImplemented\", \"class Vector:\\n    def __init__(self, x,y):\\n        self.x = x\\n        self.y = y\\n        \\n    def __repr__(self):\\n        return f'Vector(x={self.x}, y={self.y})'\\n    \\n    \\n    def __eq__(self, other):\\n        if isinstance(other, Vector):\\n            return self.x ==other.x and self.y = other.y\\n        return NotImplemented\", \"class Vector:\\n    def __init__(self, x,y):\\n        self.x = x\\n        self.y = y\\n        \\n    def __repr__(self):\\n        return f'Vector(x={self.x}, y={self.y})'\\n    \\n    \\n    def __eq__(self, other):\\n        if isinstance(other, Vector):\\n            return self.x ==other.x and self.y == other.y\\n        return NotImplemented\", 'v1 = Vector(1,2)\\nv2 = Vector(1,2)', 'v1 = Vector(1,2)\\nv2 = Vector(1,2)\\nv3 = Vector(10,10)', 'v1==v2, v1 is v2', 'v1==v3', \"class Vector:\\n    def __init__(self, x,y):\\n        self.x = x\\n        self.y = y\\n        \\n    def __repr__(self):\\n        return f'Vector(x={self.x}, y={self.y})'\\n    \\n    \\n    def __eq__(self, other):\\n        \\n        if isinstance(other, Vector):\\n            other = Vector(*other)\\n            \\n            \\n        if isinstance(other, Vector):\\n            return self.x ==other.x and self.y == other.y\\n        return NotImplemented\", \"class Vector:\\n    def __init__(self, x,y):\\n        self.x = x\\n        self.y = y\\n        \\n    def __repr__(self):\\n        return f'Vector(x={self.x}, y={self.y})'\\n    \\n    \\n    def __eq__(self, other):\\n        print('__eq__ called..')\\n        \\n        if isinstance(other, Vector):\\n            other = Vector(*other)\\n            \\n            \\n        if isinstance(other, Vector):\\n            return self.x ==other.x and self.y == other.y\\n        return NotImplemented\", 'v1 = Vector(10,10)\\nv1 == (10,10)', 'v1 = Vector(10,11)\\nv1 == (10,11)', 'v1 = Vector(10,11)', 'v1 == (10,11)', 'v1 = Vector(10,11)', 'v1 == (10,11)', \"class Vector:\\n    def __init__(self, x,y):\\n        self.x = x\\n        self.y = y\\n        \\n    def __repr__(self):\\n        return f'Vector(x={self.x}, y={self.y})'\\n    \\n    \\n    def __eq__(self, other):\\n        print('__eq__ called..')\\n        \\n        if isinstance(other, tuple):\\n            other = Vector(*other)\\n            \\n            \\n        if isinstance(other, Vector):\\n            return self.x ==other.x and self.y == other.y\\n        return NotImplemented\", 'v1 = Vector(10,11)', 'v1 == (10,11)', '(10,11) ==v1', \"from math import sqrt\\n\\nclass Vector:\\n    def __init__(self, x,y):\\n        self.x = x\\n        self.y = y\\n        \\n    def __repr__(self):\\n        return f'Vector(x={self.x}, y={self.y})'\\n    \\n    \\n    def __eq__(self, other):\\n        print('__eq__ called..')\\n        \\n        if isinstance(other, tuple):\\n            other = Vector(*other)\\n            \\n            \\n        if isinstance(other, Vector):\\n            return self.x ==other.x and self.y == other.y\\n        return NotImplemented\\n    \\n    def __abs(self):\\n        return sqrt(self.x**2 + self.y**2)\\n    \\n    def __lt__(self, other):\\n        \\n        if isinstance(other, tuple):\\n            other = Vector(*other)\\n            \\n        if isinstance(other, Vector):\\n            return abs(self)< abs(other)\", 'v1 = Vector(0,0)\\nv2 = Vector(1,1)', 'v2<v1', \"from math import sqrt\\n\\nclass Vector:\\n    def __init__(self, x,y):\\n        self.x = x\\n        self.y = y\\n        \\n    def __repr__(self):\\n        return f'Vector(x={self.x}, y={self.y})'\\n    \\n    \\n    def __eq__(self, other):\\n        print('__eq__ called..')\\n        \\n        if isinstance(other, tuple):\\n            other = Vector(*other)\\n            \\n            \\n        if isinstance(other, Vector):\\n            return self.x ==other.x and self.y == other.y\\n        return NotImplemented\\n    \\n    def __abs__(self):\\n        return sqrt(self.x**2 + self.y**2)\\n    \\n    def __lt__(self, other):\\n        \\n        if isinstance(other, tuple):\\n            other = Vector(*other)\\n            \\n        if isinstance(other, Vector):\\n            return abs(self)< abs(other)\", 'v1 = Vector(0,0)\\nv2 = Vector(1,1)', 'v2<v1', 'v1<v2', \"from math import sqrt\\n\\nclass Vector:\\n    def __init__(self, x,y):\\n        self.x = x\\n        self.y = y\\n        \\n    def __repr__(self):\\n        return f'Vector(x={self.x}, y={self.y})'\\n    \\n    \\n    def __eq__(self, other):\\n        print('__eq__ called..')\\n        \\n        if isinstance(other, tuple):\\n            other = Vector(*other)\\n            \\n            \\n        if isinstance(other, Vector):\\n            return self.x ==other.x and self.y == other.y\\n        return NotImplemented\\n    \\n    def __abs__(self):\\n        return sqrt(self.x**2 + self.y**2)\\n    \\n    def __lt__(self, other):\\n        print('__lt__ called...')\\n        if isinstance(other, tuple):\\n            other = Vector(*other)\\n            \\n        if isinstance(other, Vector):\\n            return abs(self)< abs(other)\", 'v1 = Vector(0,0)\\nv2 = Vector(1,1)', 'v2<v1', 'v1<v2', 'v2>v1', 'v1<(1,1)', '(1,1)>v1', \"from math import sqrt\\n\\nclass Vector:\\n    def __init__(self, x,y):\\n        self.x = x\\n        self.y = y\\n        \\n    def __repr__(self):\\n        return f'Vector(x={self.x}, y={self.y})'\\n    \\n    \\n    def __eq__(self, other):\\n        print('__eq__ called..')\\n        \\n        if isinstance(other, tuple):\\n            other = Vector(*other)\\n            \\n            \\n        if isinstance(other, Vector):\\n            return self.x ==other.x and self.y == other.y\\n        return NotImplemented\\n    \\n    def __abs__(self):\\n        return sqrt(self.x**2 + self.y**2)\\n    \\n    def __lt__(self, other):\\n        print('__lt__ called...')\\n        if isinstance(other, tuple):\\n            other = Vector(*other)\\n            \\n        if isinstance(other, Vector):\\n            return abs(self)< abs(other)\\n    \\n    def __le__(self, other):\\n        return self ==other or self<other\\n        \\n        \", 'v1 = Vector(0,0)\\nv2 = Vector(0,0)\\nv3 = Vector(1,1)', 'v1<=v2', 'v1<=v3', 'v1>=v3', 'not(v1==v2)', '# key in dictionary \\n# element of a set\\n# __hash__\\n# __eq__', 'dir(object)', 'class Person:\\n    pass', 'p1 = Person()\\np2 = Person()', 'hash(p1), hash(p2)', 'p1 ==p2', 'p1 is p2', '# 2 objects that are equal must have same hash', 'class Person:\\n    def __init__(self, name):\\n        self.name = name\\n        \\n    def __eq__(self, other):\\n        return isinstance(other, Person) and self.name ==other.name\\n    \\n    \\n    def __repr__(self):\\n        return f\"Person(name=\\'{self.name}\\')\"', \"p1 = Person('John')\\np2 = Person('John')\\np3 = Person('Eric')\", 'p1 ==p2', 'p1 ==p3', 'p1.__hash__', 'tyep(p1.__hash__)', 'type(p1.__hash__)', 'class Person:\\n    def __init__(self, name):\\n        self.name = name\\n        \\n    def __eq__(self, other):\\n        return isinstance(other, Person) and self.name ==other.name\\n    \\n    def __hash__(self):\\n        return hash(self.name)\\n    \\n    def __repr__(self):\\n        return f\"Person(name=\\'{self.name}\\')\"', \"p1 = Person('John')\\np2 = Person('John')\\np3 = Person('Eric')\", 'p1 ==p2', 'hash(p1). hash(p2)', 'hash(p1), hash(p2)', 'class Person:\\n    def __init__(self, name):\\n        self._name = name\\n        \\n    @property\\n    def name(self):\\n        return self._name\\n        \\n    def __eq__(self, other):\\n        return isinstance(other, Person) and self.name ==other.name\\n    \\n    def __hash__(self):\\n        return hash(self.name)\\n    \\n    def __repr__(self):\\n        return f\"Person(name=\\'{self.name}\\')\"', \"p1 = Person('John')\\np2 = Person('John')\\np3 = Person('Eric')\", 'p1 ==p2', 'hash(p1), hash(p2)', '# __bool__', 'class Person:\\n    pass', 'p = Person()', 'bool(p)', \"class MyList:\\n    def __init__(self, length):\\n        self._length = length\\n        \\n    def __len__(self):\\n        print('__len__ called..')\\n        return self._length\", 'l1 = MyList(0)\\nl2 = MyList(10)', 'bool(l1)', 'bool(l2)', \"class MyList:\\n    def __init__(self, length):\\n        self._length = length\\n        \\n    # if __len__ method is implemented then __bool__ will return true/false    \\n    def __len__(self):\\n        print('__len__ called..')\\n        return self._length\", 'l1 = MyList(0)\\nl2 = MyList(10)', 'bool(l1)', 'bool(l2)', \"class MyList:\\n    def __init__(self, length):\\n        self._length = length\\n        \\n    # if __len__ method is implemented then __bool__ will return true/false    \\n    def __len__(self):\\n        print('__len__ called..')\\n        return self._length\\n    \\n    def __bool__(self):\\n        print('__bool__ called..')\\n        return slef._length>0\", 'l1 = MyList(0)\\nl2 = MyList(10)', 'bool(l1)', \"class MyList:\\n    def __init__(self, length):\\n        self._length = length\\n        \\n    # if __len__ method is implemented then __bool__ will return true/false    \\n    def __len__(self):\\n        print('__len__ called..')\\n        return self._length\\n    \\n    def __bool__(self):\\n        print('__bool__ called..')\\n        return self._length>0\", 'l1 = MyList(0)\\nl2 = MyList(10)', 'bool(l1)', 'bool(l2)', 'classs Point:\\n    \\n    def __init__(self, x, y):\\n        self.x = x\\n        self.y = y\\n        \\n        ', 'class Point:\\n    \\n    def __init__(self, x, y):\\n        self.x = x\\n        self.y = y\\n        \\n        ', 'p1 = Point(0,0)', 'p1 = Point(0,0)\\np2 = Point(1,1)', 'bool(p1), bool(p2)', 'class Point:\\n    \\n    def __init__(self, x, y):\\n        self.x = x\\n        self.y = y\\n        \\n    def __bool__(self):\\n        return self.x !=0 or self.y!=0', 'p1 = Point(0,0)\\np2 = Point(1,1)', 'bool(p1), bool(p2)', 'bool(p1.x or p1.y)', 'bool(p2.x or p2.y)', 'p1 = Point(0,0)', 'p1.__bool()', 'p1.__bool__()', \"class Person:\\n    \\n    def __call__(self):\\n        print('__call__ called ..')\", 'p = Person()', 'p()', 'type(p)', 'from functools import partial', 'type(partial)', 'type(Person)', 'def my_func(a,b,c):\\n    print(a,b,c)', 'type(my_func)', 'partial_func = partial(my_func, 10,20)', 'type(partial_func)', 'partial_func(30)', 'class Partial:\\n    \\n    def __init__(self, func, *args):\\n        self._func = func\\n        self._args = args\\n        \\n    def __call__(self, *args):\\n        return self._func(*self_args, *args)', 'pf = Partial(my_func, 10,20)', 'type(pf)', 'pf(30)', 'class Partial:\\n    \\n    def __init__(self, func, *args):\\n        self._func = func\\n        self._args = args\\n        \\n    def __call__(self, *args):\\n        return self._func(*self._args, *args)', 'pf = Partial(my_func, 10,20)', 'type(pf)', 'pf(30)', 'callable(print)', 'from collections import defaultdict', \"def dafault_value():\\n    return 'NA'\", 'd = defaultdict(default_value)', 'd = defaultdict(dafault_value)', \"def default_value():\\n    return 'NA'\", 'd = defaultdict(default_value)', \"d['a']\", \"d['b'] = 100\", 'd.items()', 'miss_counter = 0 ', \"def default_value():\\n    global miss_counter\\n    miss_counter +=1\\n    return 'NA'\", 'd = defaultdict(default_value)', \"d['a'] = 1\", 'miss_counter', \"d['b']\", 'miss_counter', \"class DefaultValue:\\n    \\n    def __init__(self):\\n        self.counter = 0 \\n        \\n    def __iadd__(self, other):\\n        if isinstance(other, int):\\n            self.counter += other\\n            return self\\n        raise ValueError('can only increment with an integer value')\", 'default_value_1 = DefaultValue()', 'default_value_1.counter', 'default_value_1+=1', 'default_value_1.counter', '# but for it to be used in defaultdict DefaultValue needs to be callable ', \"# make default value as callable\\nclass DefaultValue:\\n    \\n    def __init__(self):\\n        self.counter = 0 \\n        \\n    def __call__(self):\\n        self.counter+=1\\n        return 'NA'\\n        \\n    def __iadd__(self, other):\\n        if isinstance(other, int):\\n            self.counter += other\\n            return self\\n        raise ValueError('can only increment with an integer value')\", 'def_1 = DefaultValue()\\ndef_2 = DefaultValue()', 'cache_1 = defaultdict(def_1)\\ncache_2 = defaultdict(def_2)', \"cache_1['a'], cache_1['b']\", 'def_1.counter', \"cache_2['a']\", 'def_2.counter', \"class DefaultValue:\\n    \\n    def __init__(self, default_value):\\n        self.default_value = default_value\\n        self.counter = 0 \\n        \\n    def __call__(self):\\n        self.counter+=1\\n        return 'NA'\\n        \\n   \", 'def_1 = DefaultValue(None)\\ndef_2 = DefaultValue(0)', 'cache_1 = defaultdict(def_1)\\ncache_2 = defaultdict(def_2)', \"cache_1['a'], cache_1['b']\", 'def_1.counter', \"cache_2['a']\", 'def_2.counter', 'def my_func():\\n    s = 1\\n    v = 2', 'my_func.s', 'def my_func():\\n    s = 1\\n    v = 2', 'def my_func():\\n    s = 1', 'my_func.scope = 1', 'my_func.scope', 'from time import perf_counter', 'from time import perf_counter\\nfrom functools import wraps', 'def profile(fn):\\n    \\n    _counter = 0\\n    _avg_time = 0 \\n    _total_elapsed = 0 \\n    \\n    @wraps(fn)\\n    def inner(*args, **kwargs):\\n        nonlocal _counter\\n        nonlocal _avg_time\\n        nonlocal _total_elapsed\\n        \\n        _counter+=1\\n        start = perf_counter()\\n        result = fn(*args, ** kwargs)\\n        end = perf_counter()\\n        _total_elapsed = start - end\\n        _avg_time  = _total_elapsed/_counter\\n        \\n        return result\\n    \\n    \\n    def counter():\\n        return _counter\\n    \\n    def avg_time():\\n        return _avg_time\\n    \\n    inner.counter = _counter\\n    inner.avg_time = _avg_time\\n    \\n    return inner\\n        ', 'from time import sleep\\nimport random\\n@profile\\ndef func():\\n    return sleep(random.random())\\n    ', 'func1(). func1()', 'func1(), func1()', 'func(), func()', 'func.counter', 'func.counter()', 'def profile(fn):\\n    \\n    _counter = 0\\n    _avg_time = 0 \\n    _total_elapsed = 0 \\n    \\n    @wraps(fn)\\n    def inner(*args, **kwargs):\\n        nonlocal _counter\\n        nonlocal _avg_time\\n        nonlocal _total_elapsed\\n        \\n        _counter+=1\\n        start = perf_counter()\\n        result = fn(*args, ** kwargs)\\n        end = perf_counter()\\n        _total_elapsed += start - end\\n        _avg_time  = _total_elapsed/_counter\\n        \\n        return result\\n    \\n    \\n    def counter():\\n        return _counter\\n    \\n    def avg_time():\\n        return _avg_time\\n    \\n    inner.counter = _counter\\n    inner.avg_time = _avg_time\\n    \\n    return inner\\n        ', 'from time import sleep\\nimport random\\n@profile\\ndef func():\\n    return sleep(random.random())\\n    ', 'func(), func()', 'func.counter()', 'def profile(fn):\\n    \\n    _counter = 0\\n    _avg_time = 0 \\n    _total_elapsed = 0 \\n    \\n    @wraps(fn)\\n    def inner(*args, **kwargs):\\n        nonlocal _counter\\n        nonlocal _avg_time\\n        nonlocal _total_elapsed\\n        \\n        _counter+=1\\n        start = perf_counter()\\n        result = fn(*args, ** kwargs)\\n        end = perf_counter()\\n        _total_elapsed += start - end\\n        _avg_time  = _total_elapsed/_counter\\n        \\n        return result\\n    \\n    \\n    def counter():\\n        return _counter\\n    \\n    def avg_time():\\n        return _avg_time\\n    \\n    inner.counter = counter\\n    inner.avg_time = avg_time\\n    \\n    return inner\\n        ', 'from time import sleep\\nimport random\\n@profile\\ndef func():\\n    return sleep(random.random())\\n    ', 'func(), func()', 'func.counter()', '# writing closure for counter is complex easier would be use class for it', 'class Profiler:\\n    \\n    def __init__(self, fn):\\n        self.counter = 0 \\n        self.total_elasped = 0\\n        self.fn = fn\\n        \\n        \\n    def __call__(self, *args, **kwargs):\\n        self.counter +=1\\n        start = perf_counter()\\n        result = fn(*args, **kwargs)\\n        end = perf_counter()\\n        self.total_elapsed += end - start\\n        return result\\n    \\n    @property\\n    def avg_time(self):\\n        return self.total_elapsed/self.counter', '@profiler\\ndef func(a,b):\\n    sleep(random.random())\\n    return (a,b)', '@Profiler\\ndef func(a,b):\\n    sleep(random.random())\\n    return (a,b)', '# above is same as\\ndef func(a,b):\\n    sleep(random.random())\\n    return (a,b)\\n\\nfunc = Profiler(func)', 'func(1,2)', 'class Profiler:\\n    \\n    def __init__(self, fn):\\n        self.counter = 0 \\n        self.total_elasped = 0\\n        self.fn = fn\\n        \\n        \\n    def __call__(self, *args, **kwargs):\\n        self.counter +=1\\n        start = perf_counter()\\n        result = self.fn(*args, **kwargs)\\n        end = perf_counter()\\n        self.total_elapsed += end - start\\n        return result\\n    \\n    @property\\n    def avg_time(self):\\n        return self.total_elapsed/self.counter', '@Profiler\\ndef func(a,b):\\n    sleep(random.random())\\n    return (a,b)', '# above is same as\\ndef func(a,b):\\n    sleep(random.random())\\n    return (a,b)\\n\\nfunc = Profiler(func)', 'func(1,2)', 'class Profiler:\\n    \\n    def __init__(self, fn):\\n        self.counter = 0 \\n        self.total_elasped = 0\\n        self.fn = fn\\n        \\n        \\n    def __call__(self, *args, **kwargs):\\n        self.counter +=1\\n        start = perf_counter()\\n        result = self.fn(*args, **kwargs)\\n        end = perf_counter()\\n        self.total_elasped += end - start\\n        return result\\n    \\n    @property\\n    def avg_time(self):\\n        return self.total_elapsed/self.counter', '@Profiler\\ndef func(a,b):\\n    sleep(random.random())\\n    return (a,b)', '# above is same as\\ndef func(a,b):\\n    sleep(random.random())\\n    return (a,b)\\n\\nfunc = Profiler(func)', 'func(1,2)', 'func_1.counter', 'func.counter', 'func.avg_time', 'class Profiler:\\n    \\n    def __init__(self, fn):\\n        self.counter = 0 \\n        self.total_elasped = 0\\n        self.fn = fn\\n        \\n        \\n    def __call__(self, *args, **kwargs):\\n        self.counter +=1\\n        start = perf_counter()\\n        result = self.fn(*args, **kwargs)\\n        end = perf_counter()\\n        self.total_elasped += end - start\\n        return result\\n    \\n    @property\\n    def avg_time(self):\\n        return self.total_elasped/self.counter', '@Profiler\\ndef func(a,b):\\n    sleep(random.random())\\n    return (a,b)', '# above is same as\\ndef func(a,b):\\n    sleep(random.random())\\n    return (a,b)\\n\\nfunc = Profiler(func)', 'func(1,2)', 'func.counter', 'class Profiler:\\n    \\n    def __init__(self, fn):\\n        self.counter = 0 \\n        self.total_elapsed = 0\\n        self.fn = fn\\n        \\n        \\n    def __call__(self, *args, **kwargs):\\n        self.counter +=1\\n        start = perf_counter()\\n        result = self.fn(*args, **kwargs)\\n        end = perf_counter()\\n        self.total_elapsed += end - start\\n        return result\\n    \\n    @property\\n    def avg_time(self):\\n        return self.total_elapsed/self.counter', '@Profiler\\ndef func(a,b):\\n    sleep(random.random())\\n    return (a,b)', '# above is same as\\ndef func(a,b):\\n    sleep(random.random())\\n    return (a,b)\\n\\nfunc = Profiler(func)', 'func(1,2)', 'func.counter', 'func.avg_time', '# __del__ method is called before object is destroyed by  garbadge collector \\n# GC calling is not controlled when it will be called\\n# its called when all references for objected are gone\\n# context manager preferred to clean up resources', 'import ctypes\\n\\ndef ref_count(address):\\n    return ctypes.c_long.form_address(address).value', \"class Person:\\n    def __init__(self, name):\\n        self.name = name\\n        \\n    def __repr__(self):\\n        return f'Person({self.name})'\\n    \\n    def __del__(self):\\n        print(f'__del__ called for {self}...')\", \"p = Person('Alex')\", 'id+p - id(p)', 'id_p = id(p)', 'ref_count(id_p)', 'import ctypes\\n\\ndef ref_count(address):\\n    return ctypes.c_long.from_address(address).value', \"class Person:\\n    def __init__(self, name):\\n        self.name = name\\n        \\n    def __repr__(self):\\n        return f'Person({self.name})'\\n    \\n    def __del__(self):\\n        print(f'__del__ called for {self}...')\", \"p = Person('Alex')\", 'id_p = id(p)', 'ref_count(id_p)', 'p = None', \"p = Person('Alex')\", 'del p', \"class Person:\\n    def __init__(self, name):\\n        self.name = name\\n        \\n    def __repr__(self):\\n        return f'Person({self.name})'\\n    \\n    def __del__(self):\\n        print(f'__del__ called for {self}...')\\n        \\n        \\n    def gen_ex(self):\\n        raise ValueError('something went bump...')\", \"p = Person('Eric')\\np_id = id(p)\\nref_count(p_id)\", 'try:\\n    p.gen_ex()\\nexcept ValueError as ex:\\n    error = ex\\n    pirnt(ex)', 'try:\\n    p.gen_ex()\\nexcept ValueError as ex:\\n    error = ex\\n    print(ex)', 'ref_count(p_id)', 'type(error)', 'dir(error)', 'dir(error).__traceback__', 'dir(error.__traceback__)', 'dir(error.__traceback__.tb_frame)', 'dir(error.__traceback__.tb_frame.f_locals)', 'type(error.__traceback__.tb_frame.f_locals)', 'for key,value in error.__traceback__.tb_frame.f_locals.items():\\n    pass', '# as we try to look at dcitionary its trying to modify it causing error\\nfor key,value in error.__traceback__.tb_frame.f_locals.items():\\n    pass', '# as we try to look at dcitionary its trying to modify it causing error\\nfor key,value in error.__traceback__.tb_frame.f_locals.items():\\n    pass', '# make a static copy for dict\\nfor key,value in error.__traceback__.tb_frame.f_locals.copy().items():\\n    pass', '# make a static copy for dict\\nfor key,value in error.__traceback__.tb_frame.f_locals.copy().items():\\n    print(key, value)']\n",
      "Out __repr__called\n",
      "__repr__called\n",
      "{8: person(name = Python,age=30), 10: 'person(name = Python,age=30)', 13: person(name = Python,age=30), 15: 'Python', 16: 'person(name = Python,age=30)', 19: ('<__main__.Person object at 0x10b6ce650>', '<__main__.Point object at 0x10b6cdc10>'), 20: ('<__main__.Person object at 0x10b6ce650>', '<__main__.Point object at 0x10b6cdc10>'), 23: <__main__.Person object at 0x10b6edfd0>, 24: '<__main__.Person object at 0x10b6edfd0>', 26: 'Python', 29: 'The person is Python', 30: 'The person is Python', 32: '\\nconsider a + b\\npython wil attempt to call a.__add__(b)\\n\\nif this returns NotImplemented AND operands are not of same type\\n\\npython will swap the operands and try this instead b.__add__(a)\\n\\n', 39: <__main__.Vector object at 0x10b6ce4d0>, 41: <__main__.Vector object at 0x10b6ce4d0>, 44: <__main__.Vector object at 0x10b6cdf90>, 47: <__main__.Vector object at 0x10aa865d0>, 50: <__main__.Vector object at 0x10b748810>, 53: <__main__.Vector object at 0x10b6f1c90>, 58: <__main__.Vector object at 0x10b749250>, 62: <__main__.Vector object at 0x10b78da10>, 66: <__main__.Vector object at 0x10b7bad90>, 73: (4487621904, 4487183888), 74: False, 75: Vector(x=0, y = 0), 81: (True, False), 82: False, 85: False, 86: False, 88: False, 90: False, 93: True, 94: True, 100: False, 101: True, 104: False, 105: True, 106: True, 107: True, 108: True, 111: True, 112: True, 113: False, 114: False, 116: ['__class__', '__delattr__', '__dir__', '__doc__', '__eq__', '__format__', '__ge__', '__getattribute__', '__getstate__', '__gt__', '__hash__', '__init__', '__init_subclass__', '__le__', '__lt__', '__ne__', '__new__', '__reduce__', '__reduce_ex__', '__repr__', '__setattr__', '__sizeof__', '__str__', '__subclasshook__'], 119: (280438117, 280480761), 120: False, 121: False, 125: True, 126: False, 129: <class 'NoneType'>, 132: True, 134: (5015393525511758069, 5015393525511758069), 137: True, 138: (5015393525511758069, 5015393525511758069), 142: True, 145: False, 146: True, 149: False, 150: True, 156: False, 157: True, 162: (True, True), 165: (False, True), 166: False, 167: True, 170: False, 174: <class '__main__.Person'>, 176: <class 'type'>, 177: <class 'type'>, 179: <class 'function'>, 181: <class 'functools.partial'>, 185: <class '__main__.Partial'>, 189: <class '__main__.Partial'>, 191: True, 198: 'NA', 200: dict_items([('a', 'NA'), ('b', 100)]), 205: 0, 206: 'NA', 207: 1, 210: 0, 212: 1, 217: ('NA', 'NA'), 218: 2, 219: 'NA', 220: 1, 224: ('NA', 'NA'), 225: 2, 226: 'NA', 227: 1, 233: 1, 240: (None, None), 241: 0, 245: (None, None), 249: (None, None), 250: 2, 264: (1, 2), 266: 1, 271: (1, 2), 272: 1, 276: (1, 2), 277: 1, 278: 0.05516315400018357, 290: 1, 295: 1, 298: 4, 299: <class 'ValueError'>, 300: ['__cause__', '__class__', '__context__', '__delattr__', '__dict__', '__dir__', '__doc__', '__eq__', '__format__', '__ge__', '__getattribute__', '__getstate__', '__gt__', '__hash__', '__init__', '__init_subclass__', '__le__', '__lt__', '__ne__', '__new__', '__reduce__', '__reduce_ex__', '__repr__', '__setattr__', '__setstate__', '__sizeof__', '__str__', '__subclasshook__', '__suppress_context__', '__traceback__', 'add_note', 'args', 'with_traceback'], 302: ['tb_frame', 'tb_lasti', 'tb_lineno', 'tb_next'], 303: ['__class__', '__delattr__', '__dir__', '__doc__', '__eq__', '__format__', '__ge__', '__getattribute__', '__getstate__', '__gt__', '__hash__', '__init__', '__init_subclass__', '__le__', '__lt__', '__ne__', '__new__', '__reduce__', '__reduce_ex__', '__repr__', '__setattr__', '__sizeof__', '__str__', '__subclasshook__', 'clear', 'f_back', 'f_builtins', 'f_code', 'f_globals', 'f_lasti', 'f_lineno', 'f_locals', 'f_trace', 'f_trace_lines', 'f_trace_opcodes'], 304: ['__class__', '__class_getitem__', '__contains__', '__delattr__', '__delitem__', '__dir__', '__doc__', '__eq__', '__format__', '__ge__', '__getattribute__', '__getitem__', '__getstate__', '__gt__', '__hash__', '__init__', '__init_subclass__', '__ior__', '__iter__', '__le__', '__len__', '__lt__', '__ne__', '__new__', '__or__', '__reduce__', '__reduce_ex__', '__repr__', '__reversed__', '__ror__', '__setattr__', '__setitem__', '__sizeof__', '__str__', '__subclasshook__', 'clear', 'copy', 'fromkeys', 'get', 'items', 'keys', 'pop', 'popitem', 'setdefault', 'update', 'values'], 305: <class 'dict'>}\n",
      "get_ipython <bound method InteractiveShell.get_ipython of <ipykernel.zmqshell.ZMQInteractiveShell object at 0x10a7d0090>>\n",
      "exit <IPython.core.autocall.ZMQExitAutocall object at 0x10a7d8210>\n",
      "quit <IPython.core.autocall.ZMQExitAutocall object at 0x10a7d8210>\n",
      "open <function open at 0x10938b560>\n",
      "_ <class 'dict'>\n",
      "__ ['__class__', '__class_getitem__', '__contains__', '__delattr__', '__delitem__', '__dir__', '__doc__', '__eq__', '__format__', '__ge__', '__getattribute__', '__getitem__', '__getstate__', '__gt__', '__hash__', '__init__', '__init_subclass__', '__ior__', '__iter__', '__le__', '__len__', '__lt__', '__ne__', '__new__', '__or__', '__reduce__', '__reduce_ex__', '__repr__', '__reversed__', '__ror__', '__setattr__', '__setitem__', '__sizeof__', '__str__', '__subclasshook__', 'clear', 'copy', 'fromkeys', 'get', 'items', 'keys', 'pop', 'popitem', 'setdefault', 'update', 'values']\n",
      "___ ['__class__', '__delattr__', '__dir__', '__doc__', '__eq__', '__format__', '__ge__', '__getattribute__', '__getstate__', '__gt__', '__hash__', '__init__', '__init_subclass__', '__le__', '__lt__', '__ne__', '__new__', '__reduce__', '__reduce_ex__', '__repr__', '__setattr__', '__sizeof__', '__str__', '__subclasshook__', 'clear', 'f_back', 'f_builtins', 'f_code', 'f_globals', 'f_lasti', 'f_lineno', 'f_locals', 'f_trace', 'f_trace_lines', 'f_trace_opcodes']\n",
      "_i # make a static copy for dict\n",
      "for key,value in error.__traceback__.tb_frame.f_locals.copy().items():\n",
      "    pass\n",
      "_ii # as we try to look at dcitionary its trying to modify it causing error\n",
      "for key,value in error.__traceback__.tb_frame.f_locals.items():\n",
      "    pass\n",
      "_iii # as we try to look at dcitionary its trying to modify it causing error\n",
      "for key,value in error.__traceback__.tb_frame.f_locals.items():\n",
      "    pass\n",
      "_i1 # the ability to define a generic type of behaviour that will behave differently when applied to different types\n",
      "# python is polymorphism in nature\n",
      "_i2 class Person:\n",
      "    def __init__(self, name, age):\n",
      "        self.name = anme\n",
      "        self.age = age\n",
      "        \n",
      "        \n",
      "    def __repr__(self):\n",
      "        print('__repr__called')\n",
      "        return f'person(name = '{self.name}',age='{self.age}')'\n",
      "_i3 class Person:\n",
      "    def __init__(self, name, age):\n",
      "        self.name = anme\n",
      "        self.age = age\n",
      "        \n",
      "        \n",
      "    def __repr__(self):\n",
      "        print('__repr__called')\n",
      "        return f'person(name = '{self.name}',age={self.age})'\n",
      "_i4 class Person:\n",
      "    def __init__(self, name, age):\n",
      "        self.name = anme\n",
      "        self.age = age\n",
      "        \n",
      "        \n",
      "    def __repr__(self):\n",
      "        print('__repr__called')\n",
      "        return f'person(name = {self.name},age={self.age})'\n",
      "Person <class '__main__.Person'>\n",
      "_i5 p = Person('Python', 30)\n",
      "_i6 class Person:\n",
      "    def __init__(self, name, age):\n",
      "        self.name = name\n",
      "        self.age = age\n",
      "        \n",
      "        \n",
      "    def __repr__(self):\n",
      "        print('__repr__called')\n",
      "        return f'person(name = {self.name},age={self.age})'\n",
      "_i7 p = Person('Python', 30)\n",
      "_i8 p\n",
      "_8 __repr__called\n",
      "person(name = Python,age=30)\n",
      "_i9 print(p)\n",
      "_i10 str(p)\n",
      "_10 person(name = Python,age=30)\n",
      "_i11 class Person:\n",
      "    def __init__(self, name, age):\n",
      "        self.name = name\n",
      "        self.age = age\n",
      "        \n",
      "        \n",
      "    def __repr__(self):\n",
      "        print('__repr__called')\n",
      "        return f'person(name = {self.name},age={self.age})'\n",
      "    \n",
      "    def __str__(self):\n",
      "        print('__str__ called..')\n",
      "        return self.name\n",
      "_i12 p = Person('Python', 30)\n",
      "_i13 p\n",
      "_13 __str__ called..\n",
      "Python\n",
      "_i14 print(p)\n",
      "_i15 str(p)\n",
      "_15 Python\n",
      "_i16 repr(p)\n",
      "_16 person(name = Python,age=30)\n",
      "_i17 class Person:\n",
      "    pass\n",
      "\n",
      "class Point:\n",
      "    pass\n",
      "Point <class '__main__.Point'>\n",
      "_i18 person = Person()\n",
      "point = Point()\n",
      "person <__main__.Person object at 0x10b6ce650>\n",
      "point <__main__.Point object at 0x10b6cdc10>\n",
      "_i19 repr(person), repr(point)\n",
      "_19 ('<__main__.Person object at 0x10b6ce650>', '<__main__.Point object at 0x10b6cdc10>')\n",
      "_i20 str(person), str(point)\n",
      "_20 ('<__main__.Person object at 0x10b6ce650>', '<__main__.Point object at 0x10b6cdc10>')\n",
      "_i21 class Person:\n",
      "    def __init__(self, name, age):\n",
      "        self.name = name\n",
      "        self.age = age\n",
      "        \n",
      "    \n",
      "    def __str__(self):\n",
      "        print('__str__ called..')\n",
      "        return self.name\n",
      "_i22 p = Person('Python', 30)\n",
      "_i23 p\n",
      "_23 __str__ called..\n",
      "Python\n",
      "_i24 repr(p)\n",
      "_24 <__main__.Person object at 0x10b6edfd0>\n",
      "_i25 print(p)\n",
      "_i26 str(p)\n",
      "_26 Python\n",
      "_i27 class Person:\n",
      "    def __init__(self, name, age):\n",
      "        self.name = name\n",
      "        self.age = age\n",
      "        \n",
      "        \n",
      "    def __repr__(self):\n",
      "        print('__repr__called')\n",
      "        return f'person(name = {self.name},age={self.age})'\n",
      "    \n",
      "    def __str__(self):\n",
      "        print('__str__ called..')\n",
      "        return self.name\n",
      "_i28 p = Person('Python', 30)\n",
      "_i29 f'The person is {p}'\n",
      "_29 The person is Python\n",
      "_i30 'The person is {}'.format(p)\n",
      "_30 The person is Python\n",
      "_i31 ## __add__\n",
      "## __sub__\n",
      "## __mul__\n",
      "## __truediv__ /\n",
      "## __floordiv__ //\n",
      "## __mod__ %\n",
      "## __pow__ **\n",
      "## __matmul__ @\n",
      "_i32 '''\n",
      "consider a + b\n",
      "python wil attempt to call a.__add__(b)\n",
      "\n",
      "if this returns NotImplemented AND operands are not of same type\n",
      "\n",
      "python will swap the operands and try this instead b.__add__(a)\n",
      "\n",
      "'''\n",
      "_32 \n",
      "consider a + b\n",
      "python wil attempt to call a.__add__(b)\n",
      "\n",
      "if this returns NotImplemented AND operands are not of same type\n",
      "\n",
      "python will swap the operands and try this instead b.__add__(a)\n",
      "\n",
      "\n",
      "_i33 # in-place operators\n",
      "## __iadd__ +=\n",
      "## __isub__ -=\n",
      "## __imul__\n",
      "## __itruediv__\n",
      "## __ifloordiv__\n",
      "\n",
      "\n",
      "# unary operator\n",
      "## __neg__\n",
      "## __Pos__\n",
      "## __abs__\n",
      "_i34 from numbers import Real\n",
      "Real <class 'numbers.Real'>\n",
      "_i35 class Vector:\n",
      "    def __init__(self, *components):\n",
      "        if len(components)<1:\n",
      "            raise ValueError('Cannot create an empty vector')\n",
      "            \n",
      "        for component in components:\n",
      "            if not isinstance(component, Real):\n",
      "                raise ValueError(f'Vector components must all be real numbers. {component} is invalid')\n",
      "                \n",
      "        self._components = tuple(components)\n",
      "        \n",
      "         \n",
      "        def __len__(self):\n",
      "            return len(self._components)\n",
      "        \n",
      "        @property\n",
      "        def components(self):\n",
      "            return self._components\n",
      "        \n",
      "        def __repr(self):\n",
      "            return f'Vector{self.components}'\n",
      "        \n",
      "        \n",
      "        def validate_type_and_dimension(self, v):\n",
      "            return isinstance(v,Vector) and len(v) ==len(self)\n",
      "        \n",
      "        \n",
      "        def __add__(self, other):\n",
      "            if not self.validate_type_and_dimension(other):\n",
      "                    return NotImplemented\n",
      "                \n",
      "            components = (x + y for x,y in zip(self._components, other.components)) \n",
      "            return Vector(*components) \n",
      "            \n",
      "            \n",
      "            \n",
      "            \n",
      "            \n",
      "            \n",
      "            \n",
      "            \n",
      "            \n",
      "            \n",
      "            \n",
      "            \n",
      "Vector <class '__main__.Vector'>\n",
      "_i36 class Vector:\n",
      "    def __init__(self, *components):\n",
      "        if len(components)<1:\n",
      "            raise ValueError('Cannot create an empty vector')\n",
      "            \n",
      "        for component in components:\n",
      "            if not isinstance(component, Real):\n",
      "                raise ValueError(f'Vector components must all be real numbers. {component} is invalid')\n",
      "                \n",
      "        self._components = tuple(components)\n",
      "        \n",
      "         \n",
      "        def __len__(self):\n",
      "            return len(self._components)\n",
      "        \n",
      "        @property\n",
      "        def components(self):\n",
      "            return self._components\n",
      "        \n",
      "        def __repr(self):\n",
      "            return f'Vector{self.components}'\n",
      "        \n",
      "        \n",
      "        def validate_type_and_dimension(self, v):\n",
      "            return isinstance(v,Vector) and len(v) ==len(self)\n",
      "        \n",
      "        \n",
      "        def __add__(self, other):\n",
      "            if not self.validate_type_and_dimension(other):\n",
      "                    return NotImplemented\n",
      "                \n",
      "            components = (x + y for x,y in zip(self._components, other.components)) \n",
      "            return Vector(*components)            \n",
      "_i37 v1 = Vecotr(1,2)\n",
      "v2 = Vector(10,10)\n",
      "v3 = Vector(1,2,3,4)\n",
      "_i38 v1 = Vector(1,2)\n",
      "v2 = Vector(10,10)\n",
      "v3 = Vector(1,2,3,4)\n",
      "v1 Vector(x=0, y=0)\n",
      "v2 Vector(x=0, y=0)\n",
      "v3 Vector(x=1, y=1)\n",
      "_i39 v1\n",
      "_39 <__main__.Vector object at 0x10b6ce4d0>\n",
      "_i40 class Vector:\n",
      "    def __init__(self, *components):\n",
      "        if len(components)<1:\n",
      "            raise ValueError('Cannot create an empty vector')\n",
      "            \n",
      "        for component in components:\n",
      "            if not isinstance(component, Real):\n",
      "                raise ValueError(f'Vector components must all be real numbers. {component} is invalid')\n",
      "                \n",
      "        self._components = tuple(components)\n",
      "        \n",
      "         \n",
      "        def __len__(self):\n",
      "            return len(self._components)\n",
      "        \n",
      "        @property\n",
      "        def components(self):\n",
      "            return self._components\n",
      "        \n",
      "        def __repr(self):\n",
      "            return f'Vector{self.components}'\n",
      "        \n",
      "        \n",
      "        def validate_type_and_dimension(self, v):\n",
      "            return isinstance(v,Vector) and len(v) ==len(self)\n",
      "        \n",
      "        \n",
      "        def __add__(self, other):\n",
      "            if not self.validate_type_and_dimension(other):\n",
      "                    return NotImplemented\n",
      "                \n",
      "            components = (x + y for x,y in zip(self._components, other.components)) \n",
      "            return Vector(*components)            \n",
      "_i41 v1\n",
      "_41 <__main__.Vector object at 0x10b6ce4d0>\n",
      "_i42 class Vector:\n",
      "    def __init__(self, *components):\n",
      "        if len(components)<1:\n",
      "            raise ValueError('Cannot create an empty vector')\n",
      "            \n",
      "        for component in components:\n",
      "            if not isinstance(component, Real):\n",
      "                raise ValueError(f'Vector components must all be real numbers. {component} is invalid')\n",
      "                \n",
      "        self._components = tuple(components)\n",
      "        \n",
      "         \n",
      "        def __len__(self):\n",
      "            return len(self._components)\n",
      "        \n",
      "        @property\n",
      "        def components(self):\n",
      "            return self._components\n",
      "        \n",
      "        def __repr__(self):\n",
      "            return f'Vector{self.components}'\n",
      "        \n",
      "        \n",
      "        def validate_type_and_dimension(self, v):\n",
      "            return isinstance(v,Vector) and len(v) ==len(self)\n",
      "        \n",
      "        \n",
      "        def __add__(self, other):\n",
      "            if not self.validate_type_and_dimension(other):\n",
      "                    return NotImplemented\n",
      "                \n",
      "            components = (x + y for x,y in zip(self._components, other.components)) \n",
      "            return Vector(*components)            \n",
      "_i43 v1 = Vector(1,2)\n",
      "v2 = Vector(10,10)\n",
      "v3 = Vector(1,2,3,4)\n",
      "_i44 v1\n",
      "_44 <__main__.Vector object at 0x10b6cdf90>\n",
      "_i45 class Vector:\n",
      "    def __init__(self, *components):\n",
      "        if len(components)<1:\n",
      "            raise ValueError('Cannot create an empty vector')\n",
      "            \n",
      "        for component in components:\n",
      "            if not isinstance(component, Real):\n",
      "                raise ValueError(f'Vector components must all be real numbers. {component} is invalid')\n",
      "                \n",
      "        self._components = tuple(components)\n",
      "        \n",
      "         \n",
      "        def __len__(self):\n",
      "            return len(self._components)\n",
      "        \n",
      "        @property\n",
      "        def components(self):\n",
      "            return self._components\n",
      "        \n",
      "        def __repr__(self):\n",
      "            return f'Vector{self.components}'\n",
      "        \n",
      "        \n",
      "        def validate_type_and_dimension(self, v):\n",
      "            return isinstance(v,Vector) and len(v) ==len(self)\n",
      "        \n",
      "        \n",
      "        def __add__(self, other):\n",
      "            if not self.validate_type_and_dimension(other):\n",
      "                    return NotImplemented\n",
      "                \n",
      "            components = (x + y for x,y in zip(self._components, other.components)) \n",
      "            return Vector(*components)            \n",
      "_i46 v1 = Vector(1,2)\n",
      "v2 = Vector(10,10)\n",
      "v3 = Vector(1,2,3,4)\n",
      "_i47 v1\n",
      "_47 <__main__.Vector object at 0x10aa865d0>\n",
      "_i48 class Vector:\n",
      "    def __init__(self, *components):\n",
      "        if len(components)<1:\n",
      "            raise ValueError('Cannot create an empty vector')\n",
      "            \n",
      "        for component in components:\n",
      "            if not isinstance(component, Real):\n",
      "                raise ValueError(f'Vector components must all be real numbers. {component} is invalid')\n",
      "                \n",
      "        self._components = tuple(components)\n",
      "        \n",
      "         \n",
      "        def __len__(self):\n",
      "            return len(self._components)\n",
      "        \n",
      "        @property\n",
      "        def components(self):\n",
      "            return self._components\n",
      "        \n",
      "        def __repr__(self):\n",
      "            return f'Vector{self.components}'\n",
      "        \n",
      "        \n",
      "        def validate_type_and_dimension(self, v):\n",
      "            return isinstance(v,Vector) and len(v) ==len(self)\n",
      "        \n",
      "        \n",
      "        def __add__(self, other):\n",
      "            if not self.validate_type_and_dimension(other):\n",
      "                    return NotImplemented\n",
      "                \n",
      "            components = (x + y for x,y in zip(self._components, other.components)) \n",
      "            return Vector(*components)            \n",
      "_i49 v1 = Vector(1,2)\n",
      "v2 = Vector(10,10)\n",
      "v3 = Vector(1,2,3,4)\n",
      "_i50 v1\n",
      "_50 <__main__.Vector object at 0x10b748810>\n",
      "_i51 class Vector:\n",
      "    def __init__(self, *components):\n",
      "        if len(components)<1:\n",
      "            raise ValueError('Cannot create an empty vector')\n",
      "            \n",
      "        for component in components:\n",
      "            if not isinstance(component, Real):\n",
      "                raise ValueError(f'Vector components must all be real numbers. {component} is invalid')\n",
      "                \n",
      "        self._components = tuple(components)\n",
      "        \n",
      "         \n",
      "        def __len__(self):\n",
      "            return len(self._components)\n",
      "        \n",
      "        @property\n",
      "        def components(self):\n",
      "            return self._components\n",
      "        \n",
      "        def __repr__(self):\n",
      "            return f'Vector{self.components}'\n",
      "        \n",
      "        def __str__(self):\n",
      "            return f'Vector{self.components}'\n",
      "        \n",
      "        \n",
      "        def validate_type_and_dimension(self, v):\n",
      "            return isinstance(v,Vector) and len(v) ==len(self)\n",
      "        \n",
      "        \n",
      "        def __add__(self, other):\n",
      "            if not self.validate_type_and_dimension(other):\n",
      "                    return NotImplemented\n",
      "                \n",
      "            components = (x + y for x,y in zip(self._components, other.components)) \n",
      "            return Vector(*components)            \n",
      "_i52 v1 = Vector(1,2)\n",
      "v2 = Vector(10,10)\n",
      "v3 = Vector(1,2,3,4)\n",
      "_i53 v1\n",
      "_53 <__main__.Vector object at 0x10b6f1c90>\n",
      "_i54 v1+v2\n",
      "_i55 v1 + v2\n",
      "_i56 class Vector:\n",
      "    def __init__(self, *components):\n",
      "        if len(components)<1:\n",
      "            raise ValueError('Cannot create an empty vector')\n",
      "            \n",
      "        for component in components:\n",
      "            if not isinstance(component, Real):\n",
      "                raise ValueError(f'Vector components must all be real numbers. {component} is invalid')\n",
      "                \n",
      "        self._components = tuple(components)\n",
      "        \n",
      "         \n",
      "        def __len__(self):\n",
      "            return len(self._components)\n",
      "        \n",
      "        @property\n",
      "        def components(self):\n",
      "            return self._components\n",
      "        \n",
      "        def __repr__(self):\n",
      "            return f'Vector{self.components}'\n",
      "        \n",
      "        def __str__(self):\n",
      "            return f'Vector{self.components}'\n",
      "        \n",
      "        \n",
      "        def validate_type_and_dimension(self, v):\n",
      "            return isinstance(v,Vector) and len(v) ==len(self)\n",
      "        \n",
      "        \n",
      "        def __add__(self, other):\n",
      "            if not self.validate_type_and_dimension(other):\n",
      "                    return NotImplemented\n",
      "                \n",
      "            components = (x + y for x,y in zip(self._components, other.components)) \n",
      "            return Vector(*components)            \n",
      "_i57 v1 = Vector(1,2)\n",
      "v2 = Vector(10,10)\n",
      "v3 = Vector(1,2,3,4)\n",
      "_i58 v1\n",
      "_58 <__main__.Vector object at 0x10b749250>\n",
      "_i59 v1 + v2\n",
      "_i60 class Vector:\n",
      "    def __init__(self, *components):\n",
      "        if len(components)<1:\n",
      "            raise ValueError('Cannot create an empty vector')\n",
      "            \n",
      "        for component in components:\n",
      "            if not isinstance(component, Real):\n",
      "                raise ValueError(f'Vector components must all be real numbers. {component} is invalid')\n",
      "                \n",
      "        self._components = tuple(components)\n",
      "        \n",
      "         \n",
      "        def __len__(self):\n",
      "            return len(self._components)\n",
      "        \n",
      "        @property\n",
      "        def components(self):\n",
      "            return self._components\n",
      "        \n",
      "        def __repr__(self):\n",
      "            return f'Vector{self.components}'\n",
      "        \n",
      "        def __str__(self):\n",
      "            return f'Vector{self.components}'\n",
      "        \n",
      "        \n",
      "        def validate_type_and_dimension(self, v):\n",
      "            return isinstance(v,Vector) and len(v) ==len(self)\n",
      "        \n",
      "        \n",
      "        def __add__(self, other):\n",
      "            if not self.validate_type_and_dimension(other):\n",
      "                    return NotImplemented\n",
      "                \n",
      "            components = (x + y for x,y in zip(self._components, other.components)) \n",
      "            return Vector(*components)            \n",
      "_i61 v1 = Vector(1,2)\n",
      "v2 = Vector(10,10)\n",
      "v3 = Vector(1,2,3,4)\n",
      "_i62 v1\n",
      "_62 <__main__.Vector object at 0x10b78da10>\n",
      "_i63 v1 + v2\n",
      "_i64 class Vector:\n",
      "    def __init__(self, *components):\n",
      "        if len(components)<1:\n",
      "            raise ValueError('Cannot create an empty vector')\n",
      "            \n",
      "        for component in components:\n",
      "            if not isinstance(component, Real):\n",
      "                raise ValueError(f'Vector components must all be real numbers. {component} is invalid')\n",
      "                \n",
      "        self._components = tuple(components)\n",
      "        \n",
      "         \n",
      "        def __len__(self):\n",
      "            return len(self._components)\n",
      "        \n",
      "        @property\n",
      "        def components(self):\n",
      "            return self._components\n",
      "        \n",
      "        def __repr__(self):\n",
      "            return f'Vector{self.components}'\n",
      "        \n",
      "        def __str__(self):\n",
      "            return f'Vector{self.components}'\n",
      "        \n",
      "        \n",
      "        def validate_type_and_dimension(self, v):\n",
      "            return isinstance(v,Vector) and len(v) ==len(self)\n",
      "        \n",
      "        \n",
      "        def __add__(self, other):\n",
      "            if not self.validate_type_and_dimension(other):\n",
      "                    return NotImplemented\n",
      "                \n",
      "            components = (x + y for x,y in zip(self._components, other.components)) \n",
      "            return Vector(components)            \n",
      "_i65 v1 = Vector(1,2)\n",
      "v2 = Vector(10,10)\n",
      "v3 = Vector(1,2,3,4)\n",
      "_i66 v1\n",
      "_66 <__main__.Vector object at 0x10b7bad90>\n",
      "_i67 v1+v2\n",
      "_i68 v1 = Vector(1,2)\n",
      "v2 = Vector(1,1)\n",
      "v3 = Vector(1,2,3,4)\n",
      "_i69 v1+v2\n",
      "_i70 class Vector:\n",
      "    def __init__(self, x,y):\n",
      "        self.x = x\n",
      "        self.y = y\n",
      "        \n",
      "    def __repr__(self):\n",
      "        return f'Vector(x={self.x}, y = {self.y})'\n",
      "_i71 v1 = Vector(0,0)\n",
      "_i72 v1 = Vector(0,0)\n",
      "v2 = Vector(0,0)\n",
      "_i73 id(v1), id(v2)\n",
      "_73 (4487621904, 4487183888)\n",
      "_i74 v1 ==v2\n",
      "_74 False\n",
      "_i75 v1\n",
      "_75 Vector(x=0, y = 0)\n",
      "_i76 class Vector:\n",
      "    def __init__(self, x,y):\n",
      "        self.x = x\n",
      "        self.y = y\n",
      "        \n",
      "    def __repr__(self):\n",
      "        return f'Vector(x={self.x}, y = {self.y})'\n",
      "    \n",
      "    \n",
      "    def __eq__(self, other):\n",
      "        if isinstance(other, Vector):\n",
      "            return self.x ==other.x and self.y = other.y\n",
      "        return NotImplemented\n",
      "_i77 class Vector:\n",
      "    def __init__(self, x,y):\n",
      "        self.x = x\n",
      "        self.y = y\n",
      "        \n",
      "    def __repr__(self):\n",
      "        return f'Vector(x={self.x}, y={self.y})'\n",
      "    \n",
      "    \n",
      "    def __eq__(self, other):\n",
      "        if isinstance(other, Vector):\n",
      "            return self.x ==other.x and self.y = other.y\n",
      "        return NotImplemented\n",
      "_i78 class Vector:\n",
      "    def __init__(self, x,y):\n",
      "        self.x = x\n",
      "        self.y = y\n",
      "        \n",
      "    def __repr__(self):\n",
      "        return f'Vector(x={self.x}, y={self.y})'\n",
      "    \n",
      "    \n",
      "    def __eq__(self, other):\n",
      "        if isinstance(other, Vector):\n",
      "            return self.x ==other.x and self.y == other.y\n",
      "        return NotImplemented\n",
      "_i79 v1 = Vector(1,2)\n",
      "v2 = Vector(1,2)\n",
      "_i80 v1 = Vector(1,2)\n",
      "v2 = Vector(1,2)\n",
      "v3 = Vector(10,10)\n",
      "_i81 v1==v2, v1 is v2\n",
      "_81 (True, False)\n",
      "_i82 v1==v3\n",
      "_82 False\n",
      "_i83 class Vector:\n",
      "    def __init__(self, x,y):\n",
      "        self.x = x\n",
      "        self.y = y\n",
      "        \n",
      "    def __repr__(self):\n",
      "        return f'Vector(x={self.x}, y={self.y})'\n",
      "    \n",
      "    \n",
      "    def __eq__(self, other):\n",
      "        \n",
      "        if isinstance(other, Vector):\n",
      "            other = Vector(*other)\n",
      "            \n",
      "            \n",
      "        if isinstance(other, Vector):\n",
      "            return self.x ==other.x and self.y == other.y\n",
      "        return NotImplemented\n",
      "_i84 class Vector:\n",
      "    def __init__(self, x,y):\n",
      "        self.x = x\n",
      "        self.y = y\n",
      "        \n",
      "    def __repr__(self):\n",
      "        return f'Vector(x={self.x}, y={self.y})'\n",
      "    \n",
      "    \n",
      "    def __eq__(self, other):\n",
      "        print('__eq__ called..')\n",
      "        \n",
      "        if isinstance(other, Vector):\n",
      "            other = Vector(*other)\n",
      "            \n",
      "            \n",
      "        if isinstance(other, Vector):\n",
      "            return self.x ==other.x and self.y == other.y\n",
      "        return NotImplemented\n",
      "_i85 v1 = Vector(10,10)\n",
      "v1 == (10,10)\n",
      "_85 False\n",
      "_i86 v1 = Vector(10,11)\n",
      "v1 == (10,11)\n",
      "_86 False\n",
      "_i87 v1 = Vector(10,11)\n",
      "_i88 v1 == (10,11)\n",
      "_88 False\n",
      "_i89 v1 = Vector(10,11)\n",
      "_i90 v1 == (10,11)\n",
      "_90 False\n",
      "_i91 class Vector:\n",
      "    def __init__(self, x,y):\n",
      "        self.x = x\n",
      "        self.y = y\n",
      "        \n",
      "    def __repr__(self):\n",
      "        return f'Vector(x={self.x}, y={self.y})'\n",
      "    \n",
      "    \n",
      "    def __eq__(self, other):\n",
      "        print('__eq__ called..')\n",
      "        \n",
      "        if isinstance(other, tuple):\n",
      "            other = Vector(*other)\n",
      "            \n",
      "            \n",
      "        if isinstance(other, Vector):\n",
      "            return self.x ==other.x and self.y == other.y\n",
      "        return NotImplemented\n",
      "_i92 v1 = Vector(10,11)\n",
      "_i93 v1 == (10,11)\n",
      "_93 True\n",
      "_i94 (10,11) ==v1\n",
      "_94 True\n",
      "_i95 from math import sqrt\n",
      "\n",
      "class Vector:\n",
      "    def __init__(self, x,y):\n",
      "        self.x = x\n",
      "        self.y = y\n",
      "        \n",
      "    def __repr__(self):\n",
      "        return f'Vector(x={self.x}, y={self.y})'\n",
      "    \n",
      "    \n",
      "    def __eq__(self, other):\n",
      "        print('__eq__ called..')\n",
      "        \n",
      "        if isinstance(other, tuple):\n",
      "            other = Vector(*other)\n",
      "            \n",
      "            \n",
      "        if isinstance(other, Vector):\n",
      "            return self.x ==other.x and self.y == other.y\n",
      "        return NotImplemented\n",
      "    \n",
      "    def __abs(self):\n",
      "        return sqrt(self.x**2 + self.y**2)\n",
      "    \n",
      "    def __lt__(self, other):\n",
      "        \n",
      "        if isinstance(other, tuple):\n",
      "            other = Vector(*other)\n",
      "            \n",
      "        if isinstance(other, Vector):\n",
      "            return abs(self)< abs(other)\n",
      "sqrt <built-in function sqrt>\n",
      "_i96 v1 = Vector(0,0)\n",
      "v2 = Vector(1,1)\n",
      "_i97 v2<v1\n",
      "_i98 from math import sqrt\n",
      "\n",
      "class Vector:\n",
      "    def __init__(self, x,y):\n",
      "        self.x = x\n",
      "        self.y = y\n",
      "        \n",
      "    def __repr__(self):\n",
      "        return f'Vector(x={self.x}, y={self.y})'\n",
      "    \n",
      "    \n",
      "    def __eq__(self, other):\n",
      "        print('__eq__ called..')\n",
      "        \n",
      "        if isinstance(other, tuple):\n",
      "            other = Vector(*other)\n",
      "            \n",
      "            \n",
      "        if isinstance(other, Vector):\n",
      "            return self.x ==other.x and self.y == other.y\n",
      "        return NotImplemented\n",
      "    \n",
      "    def __abs__(self):\n",
      "        return sqrt(self.x**2 + self.y**2)\n",
      "    \n",
      "    def __lt__(self, other):\n",
      "        \n",
      "        if isinstance(other, tuple):\n",
      "            other = Vector(*other)\n",
      "            \n",
      "        if isinstance(other, Vector):\n",
      "            return abs(self)< abs(other)\n",
      "_i99 v1 = Vector(0,0)\n",
      "v2 = Vector(1,1)\n",
      "_i100 v2<v1\n",
      "_100 False\n",
      "_i101 v1<v2\n",
      "_101 True\n",
      "_i102 from math import sqrt\n",
      "\n",
      "class Vector:\n",
      "    def __init__(self, x,y):\n",
      "        self.x = x\n",
      "        self.y = y\n",
      "        \n",
      "    def __repr__(self):\n",
      "        return f'Vector(x={self.x}, y={self.y})'\n",
      "    \n",
      "    \n",
      "    def __eq__(self, other):\n",
      "        print('__eq__ called..')\n",
      "        \n",
      "        if isinstance(other, tuple):\n",
      "            other = Vector(*other)\n",
      "            \n",
      "            \n",
      "        if isinstance(other, Vector):\n",
      "            return self.x ==other.x and self.y == other.y\n",
      "        return NotImplemented\n",
      "    \n",
      "    def __abs__(self):\n",
      "        return sqrt(self.x**2 + self.y**2)\n",
      "    \n",
      "    def __lt__(self, other):\n",
      "        print('__lt__ called...')\n",
      "        if isinstance(other, tuple):\n",
      "            other = Vector(*other)\n",
      "            \n",
      "        if isinstance(other, Vector):\n",
      "            return abs(self)< abs(other)\n",
      "_i103 v1 = Vector(0,0)\n",
      "v2 = Vector(1,1)\n",
      "_i104 v2<v1\n",
      "_104 False\n",
      "_i105 v1<v2\n",
      "_105 True\n",
      "_i106 v2>v1\n",
      "_106 True\n",
      "_i107 v1<(1,1)\n",
      "_107 True\n",
      "_i108 (1,1)>v1\n",
      "_108 True\n",
      "_i109 from math import sqrt\n",
      "\n",
      "class Vector:\n",
      "    def __init__(self, x,y):\n",
      "        self.x = x\n",
      "        self.y = y\n",
      "        \n",
      "    def __repr__(self):\n",
      "        return f'Vector(x={self.x}, y={self.y})'\n",
      "    \n",
      "    \n",
      "    def __eq__(self, other):\n",
      "        print('__eq__ called..')\n",
      "        \n",
      "        if isinstance(other, tuple):\n",
      "            other = Vector(*other)\n",
      "            \n",
      "            \n",
      "        if isinstance(other, Vector):\n",
      "            return self.x ==other.x and self.y == other.y\n",
      "        return NotImplemented\n",
      "    \n",
      "    def __abs__(self):\n",
      "        return sqrt(self.x**2 + self.y**2)\n",
      "    \n",
      "    def __lt__(self, other):\n",
      "        print('__lt__ called...')\n",
      "        if isinstance(other, tuple):\n",
      "            other = Vector(*other)\n",
      "            \n",
      "        if isinstance(other, Vector):\n",
      "            return abs(self)< abs(other)\n",
      "    \n",
      "    def __le__(self, other):\n",
      "        return self ==other or self<other\n",
      "        \n",
      "        \n",
      "_i110 v1 = Vector(0,0)\n",
      "v2 = Vector(0,0)\n",
      "v3 = Vector(1,1)\n",
      "_i111 v1<=v2\n",
      "_111 True\n",
      "_i112 v1<=v3\n",
      "_112 True\n",
      "_i113 v1>=v3\n",
      "_113 False\n",
      "_i114 not(v1==v2)\n",
      "_114 False\n",
      "_i115 # key in dictionary \n",
      "# element of a set\n",
      "# __hash__\n",
      "# __eq__\n",
      "_i116 dir(object)\n",
      "_116 ['__class__', '__delattr__', '__dir__', '__doc__', '__eq__', '__format__', '__ge__', '__getattribute__', '__getstate__', '__gt__', '__hash__', '__init__', '__init_subclass__', '__le__', '__lt__', '__ne__', '__new__', '__reduce__', '__reduce_ex__', '__repr__', '__setattr__', '__sizeof__', '__str__', '__subclasshook__']\n",
      "_i117 class Person:\n",
      "    pass\n",
      "_i118 p1 = Person()\n",
      "p2 = Person()\n",
      "p1 <__main__.Point object at 0x10b835350>\n",
      "p2 <__main__.Point object at 0x10b87e590>\n",
      "_i119 hash(p1), hash(p2)\n",
      "_119 (280438117, 280480761)\n",
      "_i120 p1 ==p2\n",
      "_120 False\n",
      "_i121 p1 is p2\n",
      "_121 False\n",
      "_i122 # 2 objects that are equal must have same hash\n",
      "_i123 class Person:\n",
      "    def __init__(self, name):\n",
      "        self.name = name\n",
      "        \n",
      "    def __eq__(self, other):\n",
      "        return isinstance(other, Person) and self.name ==other.name\n",
      "    \n",
      "    \n",
      "    def __repr__(self):\n",
      "        return f\"Person(name='{self.name}')\"\n",
      "_i124 p1 = Person('John')\n",
      "p2 = Person('John')\n",
      "p3 = Person('Eric')\n",
      "p3 Person(name='Eric')\n",
      "_i125 p1 ==p2\n",
      "_125 True\n",
      "_i126 p1 ==p3\n",
      "_126 False\n",
      "_i127 p1.__hash__\n",
      "_i128 tyep(p1.__hash__)\n",
      "_i129 type(p1.__hash__)\n",
      "_129 <class 'NoneType'>\n",
      "_i130 class Person:\n",
      "    def __init__(self, name):\n",
      "        self.name = name\n",
      "        \n",
      "    def __eq__(self, other):\n",
      "        return isinstance(other, Person) and self.name ==other.name\n",
      "    \n",
      "    def __hash__(self):\n",
      "        return hash(self.name)\n",
      "    \n",
      "    def __repr__(self):\n",
      "        return f\"Person(name='{self.name}')\"\n",
      "_i131 p1 = Person('John')\n",
      "p2 = Person('John')\n",
      "p3 = Person('Eric')\n",
      "_i132 p1 ==p2\n",
      "_132 True\n",
      "_i133 hash(p1). hash(p2)\n",
      "_i134 hash(p1), hash(p2)\n",
      "_134 (5015393525511758069, 5015393525511758069)\n",
      "_i135 class Person:\n",
      "    def __init__(self, name):\n",
      "        self._name = name\n",
      "        \n",
      "    @property\n",
      "    def name(self):\n",
      "        return self._name\n",
      "        \n",
      "    def __eq__(self, other):\n",
      "        return isinstance(other, Person) and self.name ==other.name\n",
      "    \n",
      "    def __hash__(self):\n",
      "        return hash(self.name)\n",
      "    \n",
      "    def __repr__(self):\n",
      "        return f\"Person(name='{self.name}')\"\n",
      "_i136 p1 = Person('John')\n",
      "p2 = Person('John')\n",
      "p3 = Person('Eric')\n",
      "_i137 p1 ==p2\n",
      "_137 True\n",
      "_i138 hash(p1), hash(p2)\n",
      "_138 (5015393525511758069, 5015393525511758069)\n",
      "_i139 # __bool__\n",
      "_i140 class Person:\n",
      "    pass\n",
      "_i141 p = Person()\n",
      "_i142 bool(p)\n",
      "_142 True\n",
      "_i143 class MyList:\n",
      "    def __init__(self, length):\n",
      "        self._length = length\n",
      "        \n",
      "    def __len__(self):\n",
      "        print('__len__ called..')\n",
      "        return self._length\n",
      "MyList <class '__main__.MyList'>\n",
      "_i144 l1 = MyList(0)\n",
      "l2 = MyList(10)\n",
      "l1 <__main__.MyList object at 0x10b87f590>\n",
      "l2 <__main__.MyList object at 0x10b89f150>\n",
      "_i145 bool(l1)\n",
      "_145 False\n",
      "_i146 bool(l2)\n",
      "_146 True\n",
      "_i147 class MyList:\n",
      "    def __init__(self, length):\n",
      "        self._length = length\n",
      "        \n",
      "    # if __len__ method is implemented then __bool__ will return true/false    \n",
      "    def __len__(self):\n",
      "        print('__len__ called..')\n",
      "        return self._length\n",
      "_i148 l1 = MyList(0)\n",
      "l2 = MyList(10)\n",
      "_i149 bool(l1)\n",
      "_149 False\n",
      "_i150 bool(l2)\n",
      "_150 True\n",
      "_i151 class MyList:\n",
      "    def __init__(self, length):\n",
      "        self._length = length\n",
      "        \n",
      "    # if __len__ method is implemented then __bool__ will return true/false    \n",
      "    def __len__(self):\n",
      "        print('__len__ called..')\n",
      "        return self._length\n",
      "    \n",
      "    def __bool__(self):\n",
      "        print('__bool__ called..')\n",
      "        return slef._length>0\n",
      "_i152 l1 = MyList(0)\n",
      "l2 = MyList(10)\n",
      "_i153 bool(l1)\n",
      "_i154 class MyList:\n",
      "    def __init__(self, length):\n",
      "        self._length = length\n",
      "        \n",
      "    # if __len__ method is implemented then __bool__ will return true/false    \n",
      "    def __len__(self):\n",
      "        print('__len__ called..')\n",
      "        return self._length\n",
      "    \n",
      "    def __bool__(self):\n",
      "        print('__bool__ called..')\n",
      "        return self._length>0\n",
      "_i155 l1 = MyList(0)\n",
      "l2 = MyList(10)\n",
      "_i156 bool(l1)\n",
      "_156 False\n",
      "_i157 bool(l2)\n",
      "_157 True\n",
      "_i158 classs Point:\n",
      "    \n",
      "    def __init__(self, x, y):\n",
      "        self.x = x\n",
      "        self.y = y\n",
      "        \n",
      "        \n",
      "_i159 class Point:\n",
      "    \n",
      "    def __init__(self, x, y):\n",
      "        self.x = x\n",
      "        self.y = y\n",
      "        \n",
      "        \n",
      "_i160 p1 = Point(0,0)\n",
      "_i161 p1 = Point(0,0)\n",
      "p2 = Point(1,1)\n",
      "_i162 bool(p1), bool(p2)\n",
      "_162 (True, True)\n",
      "_i163 class Point:\n",
      "    \n",
      "    def __init__(self, x, y):\n",
      "        self.x = x\n",
      "        self.y = y\n",
      "        \n",
      "    def __bool__(self):\n",
      "        return self.x !=0 or self.y!=0\n",
      "_i164 p1 = Point(0,0)\n",
      "p2 = Point(1,1)\n",
      "_i165 bool(p1), bool(p2)\n",
      "_165 (False, True)\n",
      "_i166 bool(p1.x or p1.y)\n",
      "_166 False\n",
      "_i167 bool(p2.x or p2.y)\n",
      "_167 True\n",
      "_i168 p1 = Point(0,0)\n",
      "_i169 p1.__bool()\n",
      "_i170 p1.__bool__()\n",
      "_170 False\n",
      "_i171 class Person:\n",
      "    \n",
      "    def __call__(self):\n",
      "        print('__call__ called ..')\n",
      "_i172 p = Person()\n",
      "_i173 p()\n",
      "_i174 type(p)\n",
      "_174 <class '__main__.Person'>\n",
      "_i175 from functools import partial\n",
      "partial <class 'functools.partial'>\n",
      "_i176 type(partial)\n",
      "_176 <class 'type'>\n",
      "_i177 type(Person)\n",
      "_177 <class 'type'>\n",
      "_i178 def my_func(a,b,c):\n",
      "    print(a,b,c)\n",
      "my_func <function my_func at 0x10b8b6020>\n",
      "_i179 type(my_func)\n",
      "_179 <class 'function'>\n",
      "_i180 partial_func = partial(my_func, 10,20)\n",
      "partial_func functools.partial(<function my_func at 0x10b7f2de0>, 10, 20)\n",
      "_i181 type(partial_func)\n",
      "_181 <class 'functools.partial'>\n",
      "_i182 partial_func(30)\n",
      "_i183 class Partial:\n",
      "    \n",
      "    def __init__(self, func, *args):\n",
      "        self._func = func\n",
      "        self._args = args\n",
      "        \n",
      "    def __call__(self, *args):\n",
      "        return self._func(*self_args, *args)\n",
      "Partial <class '__main__.Partial'>\n",
      "_i184 pf = Partial(my_func, 10,20)\n",
      "pf <__main__.Partial object at 0x10b77c390>\n",
      "_i185 type(pf)\n",
      "_185 <class '__main__.Partial'>\n",
      "_i186 pf(30)\n",
      "_i187 class Partial:\n",
      "    \n",
      "    def __init__(self, func, *args):\n",
      "        self._func = func\n",
      "        self._args = args\n",
      "        \n",
      "    def __call__(self, *args):\n",
      "        return self._func(*self._args, *args)\n",
      "_i188 pf = Partial(my_func, 10,20)\n",
      "_i189 type(pf)\n",
      "_189 <class '__main__.Partial'>\n",
      "_i190 pf(30)\n",
      "_i191 callable(print)\n",
      "_191 True\n",
      "_i192 from collections import defaultdict\n",
      "defaultdict <class 'collections.defaultdict'>\n",
      "_i193 def dafault_value():\n",
      "    return 'NA'\n",
      "dafault_value <function dafault_value at 0x10b8b5b20>\n",
      "_i194 d = defaultdict(default_value)\n",
      "_i195 d = defaultdict(dafault_value)\n",
      "d defaultdict(<function default_value at 0x10b8b4b80>, {'a': 1, 'b': 'NA'})\n",
      "_i196 def default_value():\n",
      "    return 'NA'\n",
      "default_value <function default_value at 0x10b8b4b80>\n",
      "_i197 d = defaultdict(default_value)\n",
      "_i198 d['a']\n",
      "_198 NA\n",
      "_i199 d['b'] = 100\n",
      "_i200 d.items()\n",
      "_200 dict_items([('a', 'NA'), ('b', 100)])\n",
      "_i201 miss_counter = 0 \n",
      "miss_counter 1\n",
      "_i202 def default_value():\n",
      "    global miss_counter\n",
      "    miss_counter +=1\n",
      "    return 'NA'\n",
      "_i203 d = defaultdict(default_value)\n",
      "_i204 d['a'] = 1\n",
      "_i205 miss_counter\n",
      "_205 0\n",
      "_i206 d['b']\n",
      "_206 NA\n",
      "_i207 miss_counter\n",
      "_207 1\n",
      "_i208 class DefaultValue:\n",
      "    \n",
      "    def __init__(self):\n",
      "        self.counter = 0 \n",
      "        \n",
      "    def __iadd__(self, other):\n",
      "        if isinstance(other, int):\n",
      "            self.counter += other\n",
      "            return self\n",
      "        raise ValueError('can only increment with an integer value')\n",
      "DefaultValue <class '__main__.DefaultValue'>\n",
      "_i209 default_value_1 = DefaultValue()\n",
      "default_value_1 <__main__.DefaultValue object at 0x10b754890>\n",
      "_i210 default_value_1.counter\n",
      "_210 0\n",
      "_i211 default_value_1+=1\n",
      "_i212 default_value_1.counter\n",
      "_212 1\n",
      "_i213 # but for it to be used in defaultdict DefaultValue needs to be callable \n",
      "_i214 # make default value as callable\n",
      "class DefaultValue:\n",
      "    \n",
      "    def __init__(self):\n",
      "        self.counter = 0 \n",
      "        \n",
      "    def __call__(self):\n",
      "        self.counter+=1\n",
      "        return 'NA'\n",
      "        \n",
      "    def __iadd__(self, other):\n",
      "        if isinstance(other, int):\n",
      "            self.counter += other\n",
      "            return self\n",
      "        raise ValueError('can only increment with an integer value')\n",
      "_i215 def_1 = DefaultValue()\n",
      "def_2 = DefaultValue()\n",
      "def_1 <__main__.DefaultValue object at 0x10b78f910>\n",
      "def_2 <__main__.DefaultValue object at 0x10b8cca10>\n",
      "_i216 cache_1 = defaultdict(def_1)\n",
      "cache_2 = defaultdict(def_2)\n",
      "cache_1 defaultdict(<__main__.DefaultValue object at 0x10b78f910>, {'a': 'NA', 'b': 'NA'})\n",
      "cache_2 defaultdict(<__main__.DefaultValue object at 0x10b8cca10>, {'a': 'NA'})\n",
      "_i217 cache_1['a'], cache_1['b']\n",
      "_217 ('NA', 'NA')\n",
      "_i218 def_1.counter\n",
      "_218 2\n",
      "_i219 cache_2['a']\n",
      "_219 NA\n",
      "_i220 def_2.counter\n",
      "_220 1\n",
      "_i221 \n",
      "class DefaultValue:\n",
      "    \n",
      "    def __init__(self, default_value):\n",
      "        self.default_value = default_value\n",
      "        self.counter = 0 \n",
      "        \n",
      "    def __call__(self):\n",
      "        self.counter+=1\n",
      "        return 'NA'\n",
      "        \n",
      "   \n",
      "_i222 def_1 = DefaultValue(None)\n",
      "def_2 = DefaultValue(0)\n",
      "_i223 cache_1 = defaultdict(def_1)\n",
      "cache_2 = defaultdict(def_2)\n",
      "_i224 cache_1['a'], cache_1['b']\n",
      "_224 ('NA', 'NA')\n",
      "_i225 def_1.counter\n",
      "_225 2\n",
      "_i226 cache_2['a']\n",
      "_226 NA\n",
      "_i227 def_2.counter\n",
      "_227 1\n",
      "_i228 def my_func():\n",
      "    s = 1\n",
      "    v = 2\n",
      "_i229 my_func.s\n",
      "_i230 def my_func():\n",
      "    s = 1\n",
      "    v = 2\n",
      "_i231 def my_func():\n",
      "    s = 1\n",
      "_i232 my_func.scope = 1\n",
      "_i233 my_func.scope\n",
      "_233 1\n",
      "_i234 from time import perf_counter\n",
      "perf_counter <built-in function perf_counter>\n",
      "_i235 from time import perf_counter\n",
      "from functools import wraps\n",
      "wraps <function wraps at 0x107c54d60>\n",
      "_i236 def profile(fn):\n",
      "    \n",
      "    _counter = 0\n",
      "    _avg_time = 0 \n",
      "    _total_elapsed = 0 \n",
      "    \n",
      "    @wraps(fn)\n",
      "    def inner(*args, **kwargs):\n",
      "        nonlocal _counter\n",
      "        nonlocal _avg_time\n",
      "        nonlocal _total_elapsed\n",
      "        \n",
      "        _counter+=1\n",
      "        start = perf_counter()\n",
      "        result = fn(*args, ** kwargs)\n",
      "        end = perf_counter()\n",
      "        _total_elapsed = start - end\n",
      "        _avg_time  = _total_elapsed/_counter\n",
      "        \n",
      "        return result\n",
      "    \n",
      "    \n",
      "    def counter():\n",
      "        return _counter\n",
      "    \n",
      "    def avg_time():\n",
      "        return _avg_time\n",
      "    \n",
      "    inner.counter = _counter\n",
      "    inner.avg_time = _avg_time\n",
      "    \n",
      "    return inner\n",
      "        \n",
      "profile <function profile at 0x10b8b72e0>\n",
      "_i237 from time import sleep\n",
      "import random\n",
      "@profile\n",
      "def func():\n",
      "    return sleep(random.random())\n",
      "    \n",
      "sleep <built-in function sleep>\n",
      "random <module 'random' from '/Users/siddharthgehlot/anaconda3/lib/python3.11/random.py'>\n",
      "func <__main__.Profiler object at 0x10b962210>\n",
      "_i238 func1(). func1()\n",
      "_i239 func1(), func1()\n",
      "_i240 func(), func()\n",
      "_240 (None, None)\n",
      "_i241 func.counter\n",
      "_241 0\n",
      "_i242 func.counter()\n",
      "_i243 def profile(fn):\n",
      "    \n",
      "    _counter = 0\n",
      "    _avg_time = 0 \n",
      "    _total_elapsed = 0 \n",
      "    \n",
      "    @wraps(fn)\n",
      "    def inner(*args, **kwargs):\n",
      "        nonlocal _counter\n",
      "        nonlocal _avg_time\n",
      "        nonlocal _total_elapsed\n",
      "        \n",
      "        _counter+=1\n",
      "        start = perf_counter()\n",
      "        result = fn(*args, ** kwargs)\n",
      "        end = perf_counter()\n",
      "        _total_elapsed += start - end\n",
      "        _avg_time  = _total_elapsed/_counter\n",
      "        \n",
      "        return result\n",
      "    \n",
      "    \n",
      "    def counter():\n",
      "        return _counter\n",
      "    \n",
      "    def avg_time():\n",
      "        return _avg_time\n",
      "    \n",
      "    inner.counter = _counter\n",
      "    inner.avg_time = _avg_time\n",
      "    \n",
      "    return inner\n",
      "        \n",
      "_i244 from time import sleep\n",
      "import random\n",
      "@profile\n",
      "def func():\n",
      "    return sleep(random.random())\n",
      "    \n",
      "_i245 func(), func()\n",
      "_245 (None, None)\n",
      "_i246 func.counter()\n",
      "_i247 def profile(fn):\n",
      "    \n",
      "    _counter = 0\n",
      "    _avg_time = 0 \n",
      "    _total_elapsed = 0 \n",
      "    \n",
      "    @wraps(fn)\n",
      "    def inner(*args, **kwargs):\n",
      "        nonlocal _counter\n",
      "        nonlocal _avg_time\n",
      "        nonlocal _total_elapsed\n",
      "        \n",
      "        _counter+=1\n",
      "        start = perf_counter()\n",
      "        result = fn(*args, ** kwargs)\n",
      "        end = perf_counter()\n",
      "        _total_elapsed += start - end\n",
      "        _avg_time  = _total_elapsed/_counter\n",
      "        \n",
      "        return result\n",
      "    \n",
      "    \n",
      "    def counter():\n",
      "        return _counter\n",
      "    \n",
      "    def avg_time():\n",
      "        return _avg_time\n",
      "    \n",
      "    inner.counter = counter\n",
      "    inner.avg_time = avg_time\n",
      "    \n",
      "    return inner\n",
      "        \n",
      "_i248 from time import sleep\n",
      "import random\n",
      "@profile\n",
      "def func():\n",
      "    return sleep(random.random())\n",
      "    \n",
      "_i249 func(), func()\n",
      "_249 (None, None)\n",
      "_i250 func.counter()\n",
      "_250 2\n",
      "_i251 # writing closure for counter is complex easier would be use class for it\n",
      "_i252 class Profiler:\n",
      "    \n",
      "    def __init__(self, fn):\n",
      "        self.counter = 0 \n",
      "        self.total_elasped = 0\n",
      "        self.fn = fn\n",
      "        \n",
      "        \n",
      "    def __call__(self, *args, **kwargs):\n",
      "        self.counter +=1\n",
      "        start = perf_counter()\n",
      "        result = fn(*args, **kwargs)\n",
      "        end = perf_counter()\n",
      "        self.total_elapsed += end - start\n",
      "        return result\n",
      "    \n",
      "    @property\n",
      "    def avg_time(self):\n",
      "        return self.total_elapsed/self.counter\n",
      "Profiler <class '__main__.Profiler'>\n",
      "_i253 @profiler\n",
      "def func(a,b):\n",
      "    sleep(random.random())\n",
      "    return (a,b)\n",
      "_i254 @Profiler\n",
      "def func(a,b):\n",
      "    sleep(random.random())\n",
      "    return (a,b)\n",
      "_i255 # above is same as\n",
      "def func(a,b):\n",
      "    sleep(random.random())\n",
      "    return (a,b)\n",
      "\n",
      "func = Profiler(func)\n",
      "_i256 func(1,2)\n",
      "_i257 class Profiler:\n",
      "    \n",
      "    def __init__(self, fn):\n",
      "        self.counter = 0 \n",
      "        self.total_elasped = 0\n",
      "        self.fn = fn\n",
      "        \n",
      "        \n",
      "    def __call__(self, *args, **kwargs):\n",
      "        self.counter +=1\n",
      "        start = perf_counter()\n",
      "        result = self.fn(*args, **kwargs)\n",
      "        end = perf_counter()\n",
      "        self.total_elapsed += end - start\n",
      "        return result\n",
      "    \n",
      "    @property\n",
      "    def avg_time(self):\n",
      "        return self.total_elapsed/self.counter\n",
      "_i258 @Profiler\n",
      "def func(a,b):\n",
      "    sleep(random.random())\n",
      "    return (a,b)\n",
      "_i259 # above is same as\n",
      "def func(a,b):\n",
      "    sleep(random.random())\n",
      "    return (a,b)\n",
      "\n",
      "func = Profiler(func)\n",
      "_i260 func(1,2)\n",
      "_i261 class Profiler:\n",
      "    \n",
      "    def __init__(self, fn):\n",
      "        self.counter = 0 \n",
      "        self.total_elasped = 0\n",
      "        self.fn = fn\n",
      "        \n",
      "        \n",
      "    def __call__(self, *args, **kwargs):\n",
      "        self.counter +=1\n",
      "        start = perf_counter()\n",
      "        result = self.fn(*args, **kwargs)\n",
      "        end = perf_counter()\n",
      "        self.total_elasped += end - start\n",
      "        return result\n",
      "    \n",
      "    @property\n",
      "    def avg_time(self):\n",
      "        return self.total_elapsed/self.counter\n",
      "_i262 @Profiler\n",
      "def func(a,b):\n",
      "    sleep(random.random())\n",
      "    return (a,b)\n",
      "_i263 # above is same as\n",
      "def func(a,b):\n",
      "    sleep(random.random())\n",
      "    return (a,b)\n",
      "\n",
      "func = Profiler(func)\n",
      "_i264 func(1,2)\n",
      "_264 (1, 2)\n",
      "_i265 func_1.counter\n",
      "_i266 func.counter\n",
      "_266 1\n",
      "_i267 func.avg_time\n",
      "_i268 class Profiler:\n",
      "    \n",
      "    def __init__(self, fn):\n",
      "        self.counter = 0 \n",
      "        self.total_elasped = 0\n",
      "        self.fn = fn\n",
      "        \n",
      "        \n",
      "    def __call__(self, *args, **kwargs):\n",
      "        self.counter +=1\n",
      "        start = perf_counter()\n",
      "        result = self.fn(*args, **kwargs)\n",
      "        end = perf_counter()\n",
      "        self.total_elasped += end - start\n",
      "        return result\n",
      "    \n",
      "    @property\n",
      "    def avg_time(self):\n",
      "        return self.total_elasped/self.counter\n",
      "_i269 @Profiler\n",
      "def func(a,b):\n",
      "    sleep(random.random())\n",
      "    return (a,b)\n",
      "_i270 # above is same as\n",
      "def func(a,b):\n",
      "    sleep(random.random())\n",
      "    return (a,b)\n",
      "\n",
      "func = Profiler(func)\n",
      "_i271 func(1,2)\n",
      "_271 (1, 2)\n",
      "_i272 func.counter\n",
      "_272 1\n",
      "_i273 class Profiler:\n",
      "    \n",
      "    def __init__(self, fn):\n",
      "        self.counter = 0 \n",
      "        self.total_elapsed = 0\n",
      "        self.fn = fn\n",
      "        \n",
      "        \n",
      "    def __call__(self, *args, **kwargs):\n",
      "        self.counter +=1\n",
      "        start = perf_counter()\n",
      "        result = self.fn(*args, **kwargs)\n",
      "        end = perf_counter()\n",
      "        self.total_elapsed += end - start\n",
      "        return result\n",
      "    \n",
      "    @property\n",
      "    def avg_time(self):\n",
      "        return self.total_elapsed/self.counter\n",
      "_i274 @Profiler\n",
      "def func(a,b):\n",
      "    sleep(random.random())\n",
      "    return (a,b)\n",
      "_i275 # above is same as\n",
      "def func(a,b):\n",
      "    sleep(random.random())\n",
      "    return (a,b)\n",
      "\n",
      "func = Profiler(func)\n",
      "_i276 func(1,2)\n",
      "_276 (1, 2)\n",
      "_i277 func.counter\n",
      "_277 1\n",
      "_i278 func.avg_time\n",
      "_278 0.05516315400018357\n",
      "_i279 # __del__ method is called before object is destroyed by  garbadge collector \n",
      "# GC calling is not controlled when it will be called\n",
      "# its called when all references for objected are gone\n",
      "# context manager preferred to clean up resources\n",
      "_i280 import ctypes\n",
      "\n",
      "def ref_count(address):\n",
      "    return ctypes.c_long.form_address(address).value\n",
      "ctypes <module 'ctypes' from '/Users/siddharthgehlot/anaconda3/lib/python3.11/ctypes/__init__.py'>\n",
      "ref_count <function ref_count at 0x10ab932e0>\n",
      "_i281 class Person:\n",
      "    def __init__(self, name):\n",
      "        self.name = name\n",
      "        \n",
      "    def __repr__(self):\n",
      "        return f'Person({self.name})'\n",
      "    \n",
      "    def __del__(self):\n",
      "        print(f'__del__ called for {self}...')\n",
      "_i282 p = Person('Alex')\n",
      "_i283 id+p - id(p)\n",
      "_i284 id_p = id(p)\n",
      "id_p 4487185104\n",
      "_i285 ref_count(id_p)\n",
      "_i286 import ctypes\n",
      "\n",
      "def ref_count(address):\n",
      "    return ctypes.c_long.from_address(address).value\n",
      "_i287 class Person:\n",
      "    def __init__(self, name):\n",
      "        self.name = name\n",
      "        \n",
      "    def __repr__(self):\n",
      "        return f'Person({self.name})'\n",
      "    \n",
      "    def __del__(self):\n",
      "        print(f'__del__ called for {self}...')\n",
      "_i288 p = Person('Alex')\n",
      "_i289 id_p = id(p)\n",
      "_i290 ref_count(id_p)\n",
      "_290 1\n",
      "_i291 p = None\n",
      "_i292 p = Person('Alex')\n",
      "_i293 del p\n",
      "_i294 class Person:\n",
      "    def __init__(self, name):\n",
      "        self.name = name\n",
      "        \n",
      "    def __repr__(self):\n",
      "        return f'Person({self.name})'\n",
      "    \n",
      "    def __del__(self):\n",
      "        print(f'__del__ called for {self}...')\n",
      "        \n",
      "        \n",
      "    def gen_ex(self):\n",
      "        raise ValueError('something went bump...')\n",
      "_i295 p = Person('Eric')\n",
      "p_id = id(p)\n",
      "ref_count(p_id)\n",
      "p Person(Eric)\n",
      "p_id 4488971472\n",
      "_295 1\n",
      "_i296 try:\n",
      "    p.gen_ex()\n",
      "except ValueError as ex:\n",
      "    error = ex\n",
      "    pirnt(ex)\n",
      "error something went bump...\n",
      "_i297 try:\n",
      "    p.gen_ex()\n",
      "except ValueError as ex:\n",
      "    error = ex\n",
      "    print(ex)\n",
      "_i298 ref_count(p_id)\n",
      "_298 4\n",
      "_i299 type(error)\n",
      "_299 <class 'ValueError'>\n",
      "_i300 dir(error)\n",
      "_300 ['__cause__', '__class__', '__context__', '__delattr__', '__dict__', '__dir__', '__doc__', '__eq__', '__format__', '__ge__', '__getattribute__', '__getstate__', '__gt__', '__hash__', '__init__', '__init_subclass__', '__le__', '__lt__', '__ne__', '__new__', '__reduce__', '__reduce_ex__', '__repr__', '__setattr__', '__setstate__', '__sizeof__', '__str__', '__subclasshook__', '__suppress_context__', '__traceback__', 'add_note', 'args', 'with_traceback']\n",
      "_i301 dir(error).__traceback__\n",
      "_i302 dir(error.__traceback__)\n",
      "_302 ['tb_frame', 'tb_lasti', 'tb_lineno', 'tb_next']\n",
      "_i303 dir(error.__traceback__.tb_frame)\n",
      "_303 ['__class__', '__delattr__', '__dir__', '__doc__', '__eq__', '__format__', '__ge__', '__getattribute__', '__getstate__', '__gt__', '__hash__', '__init__', '__init_subclass__', '__le__', '__lt__', '__ne__', '__new__', '__reduce__', '__reduce_ex__', '__repr__', '__setattr__', '__sizeof__', '__str__', '__subclasshook__', 'clear', 'f_back', 'f_builtins', 'f_code', 'f_globals', 'f_lasti', 'f_lineno', 'f_locals', 'f_trace', 'f_trace_lines', 'f_trace_opcodes']\n",
      "_i304 dir(error.__traceback__.tb_frame.f_locals)\n",
      "_304 ['__class__', '__class_getitem__', '__contains__', '__delattr__', '__delitem__', '__dir__', '__doc__', '__eq__', '__format__', '__ge__', '__getattribute__', '__getitem__', '__getstate__', '__gt__', '__hash__', '__init__', '__init_subclass__', '__ior__', '__iter__', '__le__', '__len__', '__lt__', '__ne__', '__new__', '__or__', '__reduce__', '__reduce_ex__', '__repr__', '__reversed__', '__ror__', '__setattr__', '__setitem__', '__sizeof__', '__str__', '__subclasshook__', 'clear', 'copy', 'fromkeys', 'get', 'items', 'keys', 'pop', 'popitem', 'setdefault', 'update', 'values']\n",
      "_i305 type(error.__traceback__.tb_frame.f_locals)\n",
      "_305 <class 'dict'>\n",
      "_i306 for key,value in error.__traceback__.tb_frame.f_locals.items():\n",
      "    pass\n",
      "key _i309\n",
      "value # make a static copy for dict\n",
      "for key,value in error.__traceback__.tb_frame.f_locals.copy().items():\n",
      "    pass\n",
      "_i307 # as we try to look at dcitionary its trying to modify it causing error\n",
      "for key,value in error.__traceback__.tb_frame.f_locals.items():\n",
      "    pass\n",
      "_i308 # as we try to look at dcitionary its trying to modify it causing error\n",
      "for key,value in error.__traceback__.tb_frame.f_locals.items():\n",
      "    pass\n",
      "_i309 # make a static copy for dict\n",
      "for key,value in error.__traceback__.tb_frame.f_locals.copy().items():\n",
      "    pass\n",
      "_i310 # make a static copy for dict\n",
      "for key,value in error.__traceback__.tb_frame.f_locals.copy().items():\n",
      "    print(key, value)\n"
     ]
    }
   ],
   "source": [
    "# make a static copy for dict\n",
    "\n",
    "# there are references to Person in the error \n",
    "for key,value in error.__traceback__.tb_frame.f_locals.copy().items():\n",
    "    print(key, value)"
   ]
  },
  {
   "cell_type": "code",
   "execution_count": 311,
   "id": "d9a76e7d",
   "metadata": {},
   "outputs": [
    {
     "name": "stdout",
     "output_type": "stream",
     "text": [
      "p Person(Eric) 4488971472\n"
     ]
    }
   ],
   "source": [
    "for key,value in error.__traceback__.tb_frame.f_locals.copy().items():\n",
    "    if isinstance(value, Person):\n",
    "         print(key, value, id(value))"
   ]
  },
  {
   "cell_type": "code",
   "execution_count": 312,
   "id": "88e2b12a",
   "metadata": {},
   "outputs": [
    {
     "data": {
      "text/plain": [
       "4"
      ]
     },
     "execution_count": 312,
     "metadata": {},
     "output_type": "execute_result"
    }
   ],
   "source": [
    "ref_count(p_id)"
   ]
  },
  {
   "cell_type": "code",
   "execution_count": 313,
   "id": "6ad72603",
   "metadata": {},
   "outputs": [],
   "source": [
    "del p \n",
    "# even on exectuing del the delete method is not called. \n",
    "# Its because there are references to Person in error & other and GC doesn't call del yet\n"
   ]
  },
  {
   "cell_type": "code",
   "execution_count": 314,
   "id": "992e7535",
   "metadata": {},
   "outputs": [],
   "source": [
    "del error # delete the reference of Person by deleting error"
   ]
  },
  {
   "cell_type": "code",
   "execution_count": 315,
   "id": "59994511",
   "metadata": {},
   "outputs": [
    {
     "data": {
      "text/plain": [
       "2"
      ]
     },
     "execution_count": 315,
     "metadata": {},
     "output_type": "execute_result"
    }
   ],
   "source": [
    "ref_count(p_id) # now references to Person in error were deleted but still Person is referred in unknown object"
   ]
  },
  {
   "cell_type": "code",
   "execution_count": 316,
   "id": "2eb249fe",
   "metadata": {},
   "outputs": [],
   "source": [
    "class Person:\n",
    "    \n",
    "    def __del__(self):\n",
    "        raise ValueError('Something went bump...')"
   ]
  },
  {
   "cell_type": "code",
   "execution_count": 317,
   "id": "a430bb72",
   "metadata": {},
   "outputs": [],
   "source": [
    "p = Person()"
   ]
  },
  {
   "cell_type": "code",
   "execution_count": 318,
   "id": "91674a3c",
   "metadata": {},
   "outputs": [
    {
     "name": "stderr",
     "output_type": "stream",
     "text": [
      "Exception ignored in: <function Person.__del__ at 0x10ba2a020>\n",
      "Traceback (most recent call last):\n",
      "  File \"/var/folders/9b/5mv6x5b9487b5w_pbfdxbx5w0000gn/T/ipykernel_53544/1206829883.py\", line 4, in __del__\n",
      "ValueError: Something went bump...\n"
     ]
    }
   ],
   "source": [
    "del p\n"
   ]
  },
  {
   "cell_type": "code",
   "execution_count": 319,
   "id": "90fa520b",
   "metadata": {},
   "outputs": [],
   "source": [
    "import sys"
   ]
  },
  {
   "cell_type": "code",
   "execution_count": 320,
   "id": "a8057e81",
   "metadata": {},
   "outputs": [
    {
     "data": {
      "text/plain": [
       "(<ipykernel.iostream.OutStream at 0x10a781d50>,\n",
       " <ipykernel.iostream.OutStream at 0x10a781d80>)"
      ]
     },
     "execution_count": 320,
     "metadata": {},
     "output_type": "execute_result"
    }
   ],
   "source": [
    "sys.stderr, sys.stdout"
   ]
  },
  {
   "cell_type": "code",
   "execution_count": 324,
   "id": "5405a49a",
   "metadata": {},
   "outputs": [],
   "source": [
    "class ErrToFile:\n",
    "    def __init__(self, fname):\n",
    "        self._fname = fname\n",
    "        self._current_stderr = sys.stderr\n",
    "        \n",
    "    def __enter__(self):\n",
    "        self._file = open(self._fname, 'w')\n",
    "        sys.stderr = self._file\n",
    "        \n",
    "    def __exit__(self, exc_type, exc_value, exc_tb):\n",
    "        sys.stderr = self._current_stderr\n",
    "        if self._file:\n",
    "            self._file.close()\n",
    "            \n",
    "        return False    "
   ]
  },
  {
   "cell_type": "code",
   "execution_count": 325,
   "id": "832b5069",
   "metadata": {},
   "outputs": [],
   "source": [
    "p = Person()"
   ]
  },
  {
   "cell_type": "code",
   "execution_count": 326,
   "id": "7f9f34d4",
   "metadata": {},
   "outputs": [
    {
     "name": "stdout",
     "output_type": "stream",
     "text": [
      "100\n",
      "200\n",
      "300\n"
     ]
    }
   ],
   "source": [
    "# no exception\n",
    "with ErrToFile('err.txt'):\n",
    "    del p \n",
    "    print(100)\n",
    "print(200)\n",
    "print(300)"
   ]
  },
  {
   "cell_type": "code",
   "execution_count": 327,
   "id": "1e4af205",
   "metadata": {},
   "outputs": [
    {
     "name": "stdout",
     "output_type": "stream",
     "text": [
      "['Exception ignored in: <function Person.__del__ at 0x10ba2a020>\\n', 'Traceback (most recent call last):\\n', '  File \"/var/folders/9b/5mv6x5b9487b5w_pbfdxbx5w0000gn/T/ipykernel_53544/1206829883.py\", line 4, in __del__\\n', 'ValueError: Something went bump...\\n']\n"
     ]
    }
   ],
   "source": [
    "# can't trap exception in the __del__ because we don't know when the del will be called\n",
    "with open('err.txt') as f:\n",
    "    print(f.readlines())"
   ]
  },
  {
   "cell_type": "markdown",
   "id": "e697f875",
   "metadata": {},
   "source": [
    "### format method"
   ]
  },
  {
   "cell_type": "code",
   "execution_count": 328,
   "id": "443e29f5",
   "metadata": {},
   "outputs": [],
   "source": [
    "# __format__\n",
    "# format(value, format_spec) \n",
    "# if format_spec is not supplied it default backs to empty string\n"
   ]
  },
  {
   "cell_type": "code",
   "execution_count": 329,
   "id": "cba2decf",
   "metadata": {},
   "outputs": [],
   "source": [
    "a = 0.1"
   ]
  },
  {
   "cell_type": "code",
   "execution_count": 330,
   "id": "fc7cbe6d",
   "metadata": {},
   "outputs": [
    {
     "data": {
      "text/plain": [
       "'0.10000000000000000555'"
      ]
     },
     "execution_count": 330,
     "metadata": {},
     "output_type": "execute_result"
    }
   ],
   "source": [
    "format(a, '.20f')"
   ]
  },
  {
   "cell_type": "code",
   "execution_count": 331,
   "id": "8a372594",
   "metadata": {},
   "outputs": [
    {
     "data": {
      "text/plain": [
       "'0.10'"
      ]
     },
     "execution_count": 331,
     "metadata": {},
     "output_type": "execute_result"
    }
   ],
   "source": [
    "format(a, '.2f')"
   ]
  },
  {
   "cell_type": "code",
   "execution_count": 332,
   "id": "03cd6a1e",
   "metadata": {},
   "outputs": [],
   "source": [
    "from datetime import datetime"
   ]
  },
  {
   "cell_type": "code",
   "execution_count": 333,
   "id": "06612ff7",
   "metadata": {},
   "outputs": [],
   "source": [
    "now = datetime.utcnow()"
   ]
  },
  {
   "cell_type": "code",
   "execution_count": 334,
   "id": "cf7c2bac",
   "metadata": {},
   "outputs": [
    {
     "data": {
      "text/plain": [
       "datetime.datetime(2024, 10, 13, 18, 35, 11, 381378)"
      ]
     },
     "execution_count": 334,
     "metadata": {},
     "output_type": "execute_result"
    }
   ],
   "source": [
    "now"
   ]
  },
  {
   "cell_type": "code",
   "execution_count": 335,
   "id": "7e614c2b",
   "metadata": {},
   "outputs": [
    {
     "data": {
      "text/plain": [
       "'Sun 2024-10-13 06:35 PM'"
      ]
     },
     "execution_count": 335,
     "metadata": {},
     "output_type": "execute_result"
    }
   ],
   "source": [
    "format(now, '%a %Y-%m-%d %I:%M %p')"
   ]
  },
  {
   "cell_type": "code",
   "execution_count": 346,
   "id": "93cabab1",
   "metadata": {},
   "outputs": [],
   "source": [
    "class Person:\n",
    "    def __init__(self, name, dob):\n",
    "        self.name = name\n",
    "        self.dob = dob\n",
    "        \n",
    "    def __repr__(self):\n",
    "        print('__repr__ called...')\n",
    "        return f'Person(name= {self.name}, dob={self.dob.isoformat()})'\n",
    "    \n",
    "    \n",
    "    def __str__(self):\n",
    "        print('__str__ called..')\n",
    "        return f'Person({self.name})'\n",
    "    \n",
    "    def __format__(self, date_format_spec):\n",
    "        print('format called..')\n",
    "        dob = format(self.dob, date_format_spec)\n",
    "        return f'Person(name= {self.name}, dob={dob})'"
   ]
  },
  {
   "cell_type": "code",
   "execution_count": 347,
   "id": "3f0328a5",
   "metadata": {},
   "outputs": [],
   "source": [
    "from datetime import date\n",
    "\n",
    "p = Person('Alex', date(1900, 10,20))"
   ]
  },
  {
   "cell_type": "code",
   "execution_count": 348,
   "id": "dd7a7349",
   "metadata": {},
   "outputs": [
    {
     "name": "stdout",
     "output_type": "stream",
     "text": [
      "__str__ called..\n"
     ]
    },
    {
     "data": {
      "text/plain": [
       "'Person(Alex)'"
      ]
     },
     "execution_count": 348,
     "metadata": {},
     "output_type": "execute_result"
    }
   ],
   "source": [
    "str(p)"
   ]
  },
  {
   "cell_type": "code",
   "execution_count": 349,
   "id": "b4ebddb0",
   "metadata": {},
   "outputs": [
    {
     "name": "stdout",
     "output_type": "stream",
     "text": [
      "__repr__ called...\n"
     ]
    },
    {
     "data": {
      "text/plain": [
       "'Person(name= Alex, dob=1900-10-20)'"
      ]
     },
     "execution_count": 349,
     "metadata": {},
     "output_type": "execute_result"
    }
   ],
   "source": [
    "repr(p)"
   ]
  },
  {
   "cell_type": "code",
   "execution_count": 350,
   "id": "7fa324f4",
   "metadata": {},
   "outputs": [
    {
     "name": "stdout",
     "output_type": "stream",
     "text": [
      "format called..\n"
     ]
    },
    {
     "data": {
      "text/plain": [
       "'Person(name= Alex, dob=October 20, 1900)'"
      ]
     },
     "execution_count": 350,
     "metadata": {},
     "output_type": "execute_result"
    }
   ],
   "source": [
    "format(p, '%B %d, %Y')"
   ]
  },
  {
   "cell_type": "code",
   "execution_count": 351,
   "id": "7e356e5e",
   "metadata": {},
   "outputs": [
    {
     "name": "stdout",
     "output_type": "stream",
     "text": [
      "format called..\n"
     ]
    },
    {
     "data": {
      "text/plain": [
       "'Person(name= Alex, dob=1900-10-20)'"
      ]
     },
     "execution_count": 351,
     "metadata": {},
     "output_type": "execute_result"
    }
   ],
   "source": [
    "format(p) # if specification is not passed , it just returns as str"
   ]
  },
  {
   "cell_type": "code",
   "execution_count": null,
   "id": "6d6704cb",
   "metadata": {},
   "outputs": [],
   "source": []
  }
 ],
 "metadata": {
  "kernelspec": {
   "display_name": "Python 3 (ipykernel)",
   "language": "python",
   "name": "python3"
  },
  "language_info": {
   "codemirror_mode": {
    "name": "ipython",
    "version": 3
   },
   "file_extension": ".py",
   "mimetype": "text/x-python",
   "name": "python",
   "nbconvert_exporter": "python",
   "pygments_lexer": "ipython3",
   "version": "3.11.4"
  }
 },
 "nbformat": 4,
 "nbformat_minor": 5
}
