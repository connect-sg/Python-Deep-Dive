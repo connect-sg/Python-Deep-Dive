{
 "cells": [
  {
   "cell_type": "code",
   "execution_count": null,
   "id": "99ca3e62",
   "metadata": {},
   "outputs": [],
   "source": [
    "# Objects\n",
    "# Classes\n",
    "# Instantiating and initalization\n",
    "# class and instance attributes \n",
    "    # data\n",
    "    # functions\n",
    "# Bindings\n",
    "    # instance method\n",
    "    # class methods\n",
    "    # static methods\n",
    "# properties\n"
   ]
  },
  {
   "cell_type": "markdown",
   "id": "cff91546",
   "metadata": {},
   "source": [
    "# Objects and classes "
   ]
  },
  {
   "cell_type": "code",
   "execution_count": null,
   "id": "47a58615",
   "metadata": {},
   "outputs": [],
   "source": [
    "# object - is a container -> state -> attributes\n",
    "# contains functionality -> behaviour -> methods"
   ]
  },
  {
   "cell_type": "markdown",
   "id": "6ed903ba",
   "metadata": {},
   "source": [
    "### Class Attributes setattr, getattr, delattr"
   ]
  },
  {
   "cell_type": "code",
   "execution_count": null,
   "id": "fc582326",
   "metadata": {},
   "outputs": [],
   "source": [
    "class Person:\n",
    "    pass"
   ]
  },
  {
   "cell_type": "code",
   "execution_count": null,
   "id": "9bfbda10",
   "metadata": {},
   "outputs": [],
   "source": [
    "Person.__name__"
   ]
  },
  {
   "cell_type": "code",
   "execution_count": null,
   "id": "a1bd1f36",
   "metadata": {},
   "outputs": [],
   "source": [
    "class Program:\n",
    "    language = 'Python'\n",
    "    version = '3.6'"
   ]
  },
  {
   "cell_type": "code",
   "execution_count": null,
   "id": "9d83a2c6",
   "metadata": {},
   "outputs": [],
   "source": [
    "Program.__name__"
   ]
  },
  {
   "cell_type": "code",
   "execution_count": null,
   "id": "d7c1f988",
   "metadata": {},
   "outputs": [],
   "source": [
    "type(Program)"
   ]
  },
  {
   "cell_type": "code",
   "execution_count": null,
   "id": "1eaf55fd",
   "metadata": {},
   "outputs": [],
   "source": [
    "Program.language"
   ]
  },
  {
   "cell_type": "code",
   "execution_count": null,
   "id": "9df8d2a1",
   "metadata": {},
   "outputs": [],
   "source": [
    "Program.version"
   ]
  },
  {
   "cell_type": "code",
   "execution_count": null,
   "id": "b64f4b60",
   "metadata": {},
   "outputs": [],
   "source": [
    "# mutated value for attribute in class\n",
    "Program.version = '3.7'"
   ]
  },
  {
   "cell_type": "code",
   "execution_count": null,
   "id": "d97d6c77",
   "metadata": {},
   "outputs": [],
   "source": [
    "Program.version"
   ]
  },
  {
   "cell_type": "code",
   "execution_count": null,
   "id": "a546c781",
   "metadata": {},
   "outputs": [],
   "source": [
    "getattr(Program, 'version')"
   ]
  },
  {
   "cell_type": "code",
   "execution_count": null,
   "id": "35f8a67f",
   "metadata": {},
   "outputs": [],
   "source": [
    "setattr(Program, 'version', '3.6')"
   ]
  },
  {
   "cell_type": "code",
   "execution_count": null,
   "id": "b48a1e08",
   "metadata": {},
   "outputs": [],
   "source": [
    "getattr(Program, 'version')"
   ]
  },
  {
   "cell_type": "code",
   "execution_count": null,
   "id": "cc0b1064",
   "metadata": {},
   "outputs": [],
   "source": [
    "# try to retrieve object that doesn;t exist\n",
    "getattr(Program, 'x')"
   ]
  },
  {
   "cell_type": "code",
   "execution_count": null,
   "id": "714ced46",
   "metadata": {},
   "outputs": [],
   "source": [
    "getattr(Program, 'x','N/A') # pass default value so it doesn't throw error"
   ]
  },
  {
   "cell_type": "code",
   "execution_count": null,
   "id": "77bf9f0c",
   "metadata": {},
   "outputs": [],
   "source": [
    "getattr('hello','x','N/A')"
   ]
  },
  {
   "cell_type": "code",
   "execution_count": null,
   "id": "9f1a291f",
   "metadata": {},
   "outputs": [],
   "source": [
    "Program.x = 100"
   ]
  },
  {
   "cell_type": "code",
   "execution_count": null,
   "id": "14c8c14f",
   "metadata": {},
   "outputs": [],
   "source": [
    "Program.x"
   ]
  },
  {
   "cell_type": "code",
   "execution_count": null,
   "id": "0e2bde93",
   "metadata": {},
   "outputs": [],
   "source": [
    "Program.__dict__"
   ]
  },
  {
   "cell_type": "code",
   "execution_count": null,
   "id": "db650331",
   "metadata": {},
   "outputs": [],
   "source": [
    "Program.__dict__['language']"
   ]
  },
  {
   "cell_type": "code",
   "execution_count": null,
   "id": "93e8be9e",
   "metadata": {},
   "outputs": [],
   "source": [
    "setattr(Program, 'version', '3.8')"
   ]
  },
  {
   "cell_type": "code",
   "execution_count": null,
   "id": "125845b3",
   "metadata": {},
   "outputs": [],
   "source": [
    "Program.__dict__"
   ]
  },
  {
   "cell_type": "code",
   "execution_count": null,
   "id": "b796683b",
   "metadata": {},
   "outputs": [],
   "source": [
    "delattr(Program,'x')"
   ]
  },
  {
   "cell_type": "code",
   "execution_count": null,
   "id": "fc22fce0",
   "metadata": {},
   "outputs": [],
   "source": [
    "Program.__dict__ # x is deleted"
   ]
  },
  {
   "cell_type": "code",
   "execution_count": null,
   "id": "5da0524f",
   "metadata": {},
   "outputs": [],
   "source": [
    "Program.y = 'hello'"
   ]
  },
  {
   "cell_type": "code",
   "execution_count": null,
   "id": "b2687676",
   "metadata": {},
   "outputs": [],
   "source": [
    "Program.__dict__"
   ]
  },
  {
   "cell_type": "code",
   "execution_count": null,
   "id": "8917f6cc",
   "metadata": {},
   "outputs": [],
   "source": [
    "del Program.y"
   ]
  },
  {
   "cell_type": "code",
   "execution_count": null,
   "id": "ed11a3ad",
   "metadata": {},
   "outputs": [],
   "source": [
    "Program.__dict__"
   ]
  },
  {
   "cell_type": "code",
   "execution_count": null,
   "id": "755e0d93",
   "metadata": {},
   "outputs": [],
   "source": [
    "list(Program.__dict__.items())"
   ]
  },
  {
   "cell_type": "code",
   "execution_count": null,
   "id": "0d432650",
   "metadata": {},
   "outputs": [],
   "source": [
    "# not everything for class is stored in dictionary\n",
    "# for example __name__\n",
    "Program.__name__"
   ]
  },
  {
   "cell_type": "markdown",
   "id": "d496213a",
   "metadata": {},
   "source": [
    "### Setting an attribute value to a callable"
   ]
  },
  {
   "cell_type": "code",
   "execution_count": null,
   "id": "38dd305a",
   "metadata": {},
   "outputs": [],
   "source": [
    "# callable Class Attributes"
   ]
  },
  {
   "cell_type": "code",
   "execution_count": null,
   "id": "13c3711a",
   "metadata": {},
   "outputs": [],
   "source": [
    "class Program:\n",
    "    language = 'Python'\n",
    "    \n",
    "    \n",
    "    def say_hello():\n",
    "        print(f'Hello from {Program.language}')"
   ]
  },
  {
   "cell_type": "code",
   "execution_count": null,
   "id": "c1c309f0",
   "metadata": {},
   "outputs": [],
   "source": [
    "Program.__dict__"
   ]
  },
  {
   "cell_type": "code",
   "execution_count": null,
   "id": "795b2445",
   "metadata": {},
   "outputs": [],
   "source": [
    "Program.say_hello, getattr(Program, 'say_hello')"
   ]
  },
  {
   "cell_type": "code",
   "execution_count": null,
   "id": "6ee1d0fb",
   "metadata": {},
   "outputs": [],
   "source": [
    "Program.say_hello()"
   ]
  },
  {
   "cell_type": "code",
   "execution_count": null,
   "id": "b782def8",
   "metadata": {},
   "outputs": [],
   "source": [
    "getattr(Program, 'say_hello')()"
   ]
  },
  {
   "cell_type": "code",
   "execution_count": null,
   "id": "df2c1018",
   "metadata": {},
   "outputs": [],
   "source": [
    "Program.__dict__['say_hello']()"
   ]
  },
  {
   "cell_type": "markdown",
   "id": "41aba3a5",
   "metadata": {},
   "source": [
    "### Classes and callables"
   ]
  },
  {
   "cell_type": "code",
   "execution_count": null,
   "id": "30dde744",
   "metadata": {},
   "outputs": [],
   "source": [
    "class Program:\n",
    "    language = 'Python'\n",
    "    \n",
    "    \n",
    "    def say_hello(self):\n",
    "        print(f'Hello from {Program.language}')   "
   ]
  },
  {
   "cell_type": "code",
   "execution_count": null,
   "id": "9166c993",
   "metadata": {},
   "outputs": [],
   "source": [
    "p = Program()"
   ]
  },
  {
   "cell_type": "code",
   "execution_count": null,
   "id": "34986eff",
   "metadata": {},
   "outputs": [],
   "source": [
    "p.language"
   ]
  },
  {
   "cell_type": "code",
   "execution_count": null,
   "id": "d41734a7",
   "metadata": {},
   "outputs": [],
   "source": [
    "p.say_hello()"
   ]
  },
  {
   "cell_type": "code",
   "execution_count": null,
   "id": "f9fb12a7",
   "metadata": {},
   "outputs": [],
   "source": [
    "isinstance(p, Program)"
   ]
  },
  {
   "cell_type": "code",
   "execution_count": null,
   "id": "ee9a000e",
   "metadata": {},
   "outputs": [],
   "source": [
    "p.__dict__"
   ]
  },
  {
   "cell_type": "code",
   "execution_count": null,
   "id": "11c6c90f",
   "metadata": {},
   "outputs": [],
   "source": [
    "Program.__dict__"
   ]
  },
  {
   "cell_type": "code",
   "execution_count": null,
   "id": "b1da597b",
   "metadata": {},
   "outputs": [],
   "source": [
    "p.__class__"
   ]
  },
  {
   "cell_type": "code",
   "execution_count": null,
   "id": "b4823864",
   "metadata": {},
   "outputs": [],
   "source": [
    "type(p)"
   ]
  },
  {
   "cell_type": "code",
   "execution_count": null,
   "id": "7432de4b",
   "metadata": {},
   "outputs": [],
   "source": [
    "class Myclass:\n",
    "    pass"
   ]
  },
  {
   "cell_type": "code",
   "execution_count": null,
   "id": "6a274109",
   "metadata": {},
   "outputs": [],
   "source": [
    "m = Myclass()"
   ]
  },
  {
   "cell_type": "code",
   "execution_count": null,
   "id": "35e2cf95",
   "metadata": {},
   "outputs": [],
   "source": [
    "type(m), m.__class__"
   ]
  },
  {
   "cell_type": "code",
   "execution_count": null,
   "id": "4ea63357",
   "metadata": {},
   "outputs": [],
   "source": [
    "class Myclass:\n",
    "    __class__ = str"
   ]
  },
  {
   "cell_type": "code",
   "execution_count": null,
   "id": "8c73e1c8",
   "metadata": {},
   "outputs": [],
   "source": [
    "m = Myclass()"
   ]
  },
  {
   "cell_type": "code",
   "execution_count": null,
   "id": "5deb8116",
   "metadata": {},
   "outputs": [],
   "source": [
    "type(m), m.__class__ # type and __class__ are not always same as for this example"
   ]
  },
  {
   "cell_type": "code",
   "execution_count": null,
   "id": "8a10b85c",
   "metadata": {},
   "outputs": [],
   "source": [
    "isinstance(m, Myclass)"
   ]
  },
  {
   "cell_type": "code",
   "execution_count": null,
   "id": "d684c001",
   "metadata": {},
   "outputs": [],
   "source": [
    "isinstance(m, str)"
   ]
  },
  {
   "cell_type": "code",
   "execution_count": null,
   "id": "8516c8a2",
   "metadata": {},
   "outputs": [],
   "source": [
    "isinstance(m, int)"
   ]
  },
  {
   "cell_type": "markdown",
   "id": "f6c9fd4a",
   "metadata": {},
   "source": [
    "### Data Attributes"
   ]
  },
  {
   "cell_type": "code",
   "execution_count": null,
   "id": "57d976a4",
   "metadata": {},
   "outputs": [],
   "source": [
    "class Myclass:\n",
    "    language = 'Python'\n",
    "    "
   ]
  },
  {
   "cell_type": "code",
   "execution_count": null,
   "id": "1220c9a6",
   "metadata": {},
   "outputs": [],
   "source": [
    "my_obj = Myclass()"
   ]
  },
  {
   "cell_type": "code",
   "execution_count": null,
   "id": "f0a81eb0",
   "metadata": {},
   "outputs": [],
   "source": [
    "Myclass.__dict__"
   ]
  },
  {
   "cell_type": "code",
   "execution_count": null,
   "id": "84f4962f",
   "metadata": {},
   "outputs": [],
   "source": [
    "my_obj.__dict__"
   ]
  },
  {
   "cell_type": "code",
   "execution_count": null,
   "id": "bce87f94",
   "metadata": {},
   "outputs": [],
   "source": [
    "Myclass.language"
   ]
  },
  {
   "cell_type": "code",
   "execution_count": null,
   "id": "9b7fab91",
   "metadata": {},
   "outputs": [],
   "source": [
    "my_obj.language # it doesn't find in instance then it goes up in class and finds it there"
   ]
  },
  {
   "cell_type": "code",
   "execution_count": null,
   "id": "20fe0dc4",
   "metadata": {},
   "outputs": [],
   "source": [
    "my_obj.language = 'java' # setting attribute at instance level"
   ]
  },
  {
   "cell_type": "code",
   "execution_count": null,
   "id": "8ddb8e1e",
   "metadata": {},
   "outputs": [],
   "source": [
    "my_obj.__dict__"
   ]
  },
  {
   "cell_type": "code",
   "execution_count": null,
   "id": "235acb62",
   "metadata": {},
   "outputs": [],
   "source": [
    "Myclass.__dict__"
   ]
  },
  {
   "cell_type": "code",
   "execution_count": null,
   "id": "2e904012",
   "metadata": {},
   "outputs": [],
   "source": [
    "my_obj.language # language overridden at instance level"
   ]
  },
  {
   "cell_type": "code",
   "execution_count": null,
   "id": "befa2367",
   "metadata": {},
   "outputs": [],
   "source": [
    "class BankAccount:\n",
    "    apr = 1.2"
   ]
  },
  {
   "cell_type": "code",
   "execution_count": null,
   "id": "d8b5a2fe",
   "metadata": {},
   "outputs": [],
   "source": [
    "BankAccount.__dict__"
   ]
  },
  {
   "cell_type": "code",
   "execution_count": null,
   "id": "9ecd399a",
   "metadata": {},
   "outputs": [],
   "source": [
    "BankAccount.apr"
   ]
  },
  {
   "cell_type": "code",
   "execution_count": null,
   "id": "32a70279",
   "metadata": {},
   "outputs": [],
   "source": [
    "acc_1 = BankAccount()"
   ]
  },
  {
   "cell_type": "code",
   "execution_count": null,
   "id": "5eef534d",
   "metadata": {},
   "outputs": [],
   "source": [
    "acc_2 = BankAccount()"
   ]
  },
  {
   "cell_type": "code",
   "execution_count": null,
   "id": "a883659c",
   "metadata": {},
   "outputs": [],
   "source": [
    "acc_1.__dict__, acc_2.__dict__"
   ]
  },
  {
   "cell_type": "code",
   "execution_count": null,
   "id": "43c57073",
   "metadata": {},
   "outputs": [],
   "source": [
    "acc_1.apr, acc_2.apr"
   ]
  },
  {
   "cell_type": "code",
   "execution_count": null,
   "id": "c57c2c08",
   "metadata": {},
   "outputs": [],
   "source": [
    "BankAccount.account_type = 'savings'"
   ]
  },
  {
   "cell_type": "code",
   "execution_count": null,
   "id": "ea6de43e",
   "metadata": {},
   "outputs": [],
   "source": [
    "acc_1.account_type, acc_2.account_type"
   ]
  },
  {
   "cell_type": "code",
   "execution_count": null,
   "id": "d6c32529",
   "metadata": {},
   "outputs": [],
   "source": [
    "acc_1.apr = 0"
   ]
  },
  {
   "cell_type": "code",
   "execution_count": null,
   "id": "5eade45d",
   "metadata": {},
   "outputs": [],
   "source": [
    "acc_1.__dict__, acc_2.__dict__"
   ]
  },
  {
   "cell_type": "code",
   "execution_count": null,
   "id": "e0a08dfb",
   "metadata": {},
   "outputs": [],
   "source": [
    "acc_1.apr, acc_2.apr"
   ]
  },
  {
   "cell_type": "code",
   "execution_count": null,
   "id": "70baedb2",
   "metadata": {},
   "outputs": [],
   "source": [
    "setattr(acc_2, 'apr', 10)"
   ]
  },
  {
   "cell_type": "code",
   "execution_count": null,
   "id": "204da0d5",
   "metadata": {},
   "outputs": [],
   "source": [
    "acc_2.__dict__"
   ]
  },
  {
   "cell_type": "code",
   "execution_count": null,
   "id": "0e172536",
   "metadata": {},
   "outputs": [],
   "source": [
    "acc_1.bank = 'xyz'"
   ]
  },
  {
   "cell_type": "code",
   "execution_count": null,
   "id": "2f6b3b90",
   "metadata": {},
   "outputs": [],
   "source": [
    "acc_1.__dict__"
   ]
  },
  {
   "cell_type": "code",
   "execution_count": null,
   "id": "e4ea6990",
   "metadata": {},
   "outputs": [],
   "source": [
    "acc_2.__dict__"
   ]
  },
  {
   "cell_type": "markdown",
   "id": "f11ff94b",
   "metadata": {},
   "source": [
    "### Function attributes"
   ]
  },
  {
   "cell_type": "code",
   "execution_count": null,
   "id": "72408262",
   "metadata": {},
   "outputs": [],
   "source": [
    "class Person:\n",
    "    def say_hello():\n",
    "        print('Hello')"
   ]
  },
  {
   "cell_type": "code",
   "execution_count": null,
   "id": "4bfa746a",
   "metadata": {},
   "outputs": [],
   "source": [
    "Person.say_hello"
   ]
  },
  {
   "cell_type": "code",
   "execution_count": null,
   "id": "4048f82c",
   "metadata": {},
   "outputs": [],
   "source": [
    "type(Person.say_hello)"
   ]
  },
  {
   "cell_type": "code",
   "execution_count": null,
   "id": "7d445356",
   "metadata": {},
   "outputs": [],
   "source": [
    "Person.say_hello()"
   ]
  },
  {
   "cell_type": "code",
   "execution_count": null,
   "id": "c047c70e",
   "metadata": {},
   "outputs": [],
   "source": [
    "p = Person()"
   ]
  },
  {
   "cell_type": "code",
   "execution_count": null,
   "id": "ceeeb640",
   "metadata": {},
   "outputs": [],
   "source": [
    "hex(id(p))"
   ]
  },
  {
   "cell_type": "code",
   "execution_count": null,
   "id": "3c91ea66",
   "metadata": {},
   "outputs": [],
   "source": [
    "p.say_hello # it doesn't return a function. Its now a method. "
   ]
  },
  {
   "cell_type": "code",
   "execution_count": null,
   "id": "ecbb2653",
   "metadata": {},
   "outputs": [],
   "source": [
    "type(p.say_hello)"
   ]
  },
  {
   "cell_type": "code",
   "execution_count": null,
   "id": "f122f925",
   "metadata": {},
   "outputs": [],
   "source": [
    "type(p.say_hello) is type(Person.say_hello)"
   ]
  },
  {
   "cell_type": "code",
   "execution_count": null,
   "id": "e26b8803",
   "metadata": {},
   "outputs": [],
   "source": [
    "class Person:\n",
    "    def say_hello(*args):\n",
    "        print('Hello', args)"
   ]
  },
  {
   "cell_type": "code",
   "execution_count": null,
   "id": "ab19645b",
   "metadata": {},
   "outputs": [],
   "source": [
    "Person.say_hello() # didn't received any arguments"
   ]
  },
  {
   "cell_type": "code",
   "execution_count": null,
   "id": "09765685",
   "metadata": {},
   "outputs": [],
   "source": [
    "p = Person() "
   ]
  },
  {
   "cell_type": "code",
   "execution_count": null,
   "id": "8d795650",
   "metadata": {},
   "outputs": [],
   "source": [
    "p.say_hello() # it received an argument i.e. p is injected as an argument in say_hello"
   ]
  },
  {
   "cell_type": "code",
   "execution_count": null,
   "id": "e8188226",
   "metadata": {},
   "outputs": [],
   "source": [
    "class Person:\n",
    "    def set_name(instance_obj, new_name):\n",
    "        instance_obj.name = new_name\n",
    "        "
   ]
  },
  {
   "cell_type": "code",
   "execution_count": null,
   "id": "98d71af8",
   "metadata": {},
   "outputs": [],
   "source": [
    "p = Person()"
   ]
  },
  {
   "cell_type": "code",
   "execution_count": null,
   "id": "7b6a9e13",
   "metadata": {},
   "outputs": [],
   "source": [
    "p.set_name('Alex')"
   ]
  },
  {
   "cell_type": "code",
   "execution_count": null,
   "id": "e3a22e11",
   "metadata": {},
   "outputs": [],
   "source": [
    "p.__dict__"
   ]
  },
  {
   "cell_type": "code",
   "execution_count": null,
   "id": "6b4ee0b0",
   "metadata": {},
   "outputs": [],
   "source": [
    "class Person:\n",
    "    def say_hello(self):\n",
    "        print(f'{self} say hello')"
   ]
  },
  {
   "cell_type": "code",
   "execution_count": null,
   "id": "7afc650b",
   "metadata": {},
   "outputs": [],
   "source": [
    "Person.say_hello, hex(id(Person.say_hello))"
   ]
  },
  {
   "cell_type": "code",
   "execution_count": null,
   "id": "d106b4ff",
   "metadata": {},
   "outputs": [],
   "source": [
    "p = Person()"
   ]
  },
  {
   "cell_type": "code",
   "execution_count": null,
   "id": "7246ddcb",
   "metadata": {},
   "outputs": [],
   "source": [
    "p.say_hello"
   ]
  },
  {
   "cell_type": "code",
   "execution_count": null,
   "id": "1226411f",
   "metadata": {},
   "outputs": [],
   "source": [
    "m_hello = p.say_hello"
   ]
  },
  {
   "cell_type": "code",
   "execution_count": null,
   "id": "c2fddbe3",
   "metadata": {},
   "outputs": [],
   "source": [
    "m_hello"
   ]
  },
  {
   "cell_type": "code",
   "execution_count": null,
   "id": "e9c5e7c1",
   "metadata": {},
   "outputs": [],
   "source": [
    "m_hello.__func__"
   ]
  },
  {
   "cell_type": "code",
   "execution_count": null,
   "id": "dd8a5bc8",
   "metadata": {},
   "outputs": [],
   "source": [
    "hex(id(p))"
   ]
  },
  {
   "cell_type": "code",
   "execution_count": null,
   "id": "91cf8052",
   "metadata": {},
   "outputs": [],
   "source": [
    "m_hello.__self__"
   ]
  },
  {
   "cell_type": "code",
   "execution_count": null,
   "id": "71fdd14d",
   "metadata": {},
   "outputs": [],
   "source": [
    "Person.do_work = lambda self: f'do_work called from {self}'"
   ]
  },
  {
   "cell_type": "code",
   "execution_count": null,
   "id": "b9d57bf2",
   "metadata": {},
   "outputs": [],
   "source": [
    "Person.__dict__"
   ]
  },
  {
   "cell_type": "code",
   "execution_count": null,
   "id": "5eaa9ac5",
   "metadata": {},
   "outputs": [],
   "source": [
    "p = Person()"
   ]
  },
  {
   "cell_type": "code",
   "execution_count": null,
   "id": "5dcb9404",
   "metadata": {},
   "outputs": [],
   "source": [
    "p.do_work()"
   ]
  },
  {
   "cell_type": "markdown",
   "id": "6ca72714",
   "metadata": {},
   "source": [
    "### Initializing class instances"
   ]
  },
  {
   "cell_type": "code",
   "execution_count": null,
   "id": "fa165d7d",
   "metadata": {},
   "outputs": [],
   "source": [
    "class Person:\n",
    "    def __init__(self):\n",
    "        print(f'Initializing a new person object:{self}')"
   ]
  },
  {
   "cell_type": "code",
   "execution_count": null,
   "id": "e70d2481",
   "metadata": {},
   "outputs": [],
   "source": [
    "p = Person()"
   ]
  },
  {
   "cell_type": "code",
   "execution_count": null,
   "id": "cd37631e",
   "metadata": {},
   "outputs": [],
   "source": [
    "hex(id(p))"
   ]
  },
  {
   "cell_type": "code",
   "execution_count": null,
   "id": "e7f56a72",
   "metadata": {},
   "outputs": [],
   "source": [
    "class Person:\n",
    "    def __init__(self, name):\n",
    "        self.name = name"
   ]
  },
  {
   "cell_type": "code",
   "execution_count": null,
   "id": "3e73def7",
   "metadata": {},
   "outputs": [],
   "source": [
    "p = Person('xyz')"
   ]
  },
  {
   "cell_type": "code",
   "execution_count": null,
   "id": "fb24e214",
   "metadata": {},
   "outputs": [],
   "source": [
    "p.__dict__"
   ]
  },
  {
   "cell_type": "code",
   "execution_count": null,
   "id": "34ed05eb",
   "metadata": {},
   "outputs": [],
   "source": [
    "# init without __\n",
    "class Person:\n",
    "    def init(self, name):\n",
    "        self.name = name"
   ]
  },
  {
   "cell_type": "code",
   "execution_count": null,
   "id": "5894efac",
   "metadata": {},
   "outputs": [],
   "source": [
    "p = Person()"
   ]
  },
  {
   "cell_type": "code",
   "execution_count": null,
   "id": "d8b1de9e",
   "metadata": {},
   "outputs": [],
   "source": [
    "p.__dict__"
   ]
  },
  {
   "cell_type": "code",
   "execution_count": null,
   "id": "ec7319c4",
   "metadata": {},
   "outputs": [],
   "source": [
    "p.init('Eric')"
   ]
  },
  {
   "cell_type": "code",
   "execution_count": null,
   "id": "6d0d8caa",
   "metadata": {},
   "outputs": [],
   "source": [
    "p.__dict__"
   ]
  },
  {
   "cell_type": "markdown",
   "id": "aaf7e636",
   "metadata": {},
   "source": [
    "###  Creating attributes at Run-time"
   ]
  },
  {
   "cell_type": "code",
   "execution_count": null,
   "id": "428011b3",
   "metadata": {},
   "outputs": [],
   "source": [
    "class Person:\n",
    "    pass"
   ]
  },
  {
   "cell_type": "code",
   "execution_count": null,
   "id": "7b1b7df0",
   "metadata": {},
   "outputs": [],
   "source": [
    "p1 = Person()"
   ]
  },
  {
   "cell_type": "code",
   "execution_count": null,
   "id": "ef8fa463",
   "metadata": {},
   "outputs": [],
   "source": [
    "p2 = Person()"
   ]
  },
  {
   "cell_type": "code",
   "execution_count": null,
   "id": "0e6032dc",
   "metadata": {},
   "outputs": [],
   "source": [
    "p1.name = 'Alex'"
   ]
  },
  {
   "cell_type": "code",
   "execution_count": null,
   "id": "567a7ca6",
   "metadata": {},
   "outputs": [],
   "source": [
    "p1.__dict__"
   ]
  },
  {
   "cell_type": "code",
   "execution_count": null,
   "id": "3922ce88",
   "metadata": {},
   "outputs": [],
   "source": [
    "p2.__dict__"
   ]
  },
  {
   "cell_type": "code",
   "execution_count": null,
   "id": "3e0feaa4",
   "metadata": {},
   "outputs": [],
   "source": [
    "p1.say_hello = lambda : 'hello' "
   ]
  },
  {
   "cell_type": "code",
   "execution_count": null,
   "id": "8102a85e",
   "metadata": {},
   "outputs": [],
   "source": [
    "p1.say_hello"
   ]
  },
  {
   "cell_type": "code",
   "execution_count": null,
   "id": "6b83dfe0",
   "metadata": {},
   "outputs": [],
   "source": [
    "p1.__dict__"
   ]
  },
  {
   "cell_type": "code",
   "execution_count": null,
   "id": "bcd8751f",
   "metadata": {},
   "outputs": [],
   "source": [
    "from types import MethodType"
   ]
  },
  {
   "cell_type": "code",
   "execution_count": null,
   "id": "6a587b01",
   "metadata": {},
   "outputs": [],
   "source": [
    "class Person:\n",
    "    def __init__(self, name):\n",
    "        self.name = name"
   ]
  },
  {
   "cell_type": "code",
   "execution_count": null,
   "id": "2ef91952",
   "metadata": {},
   "outputs": [],
   "source": [
    "p1 = Person('Eric')"
   ]
  },
  {
   "cell_type": "code",
   "execution_count": null,
   "id": "bdc085ff",
   "metadata": {},
   "outputs": [],
   "source": [
    "p2 = Person('Alex')"
   ]
  },
  {
   "cell_type": "code",
   "execution_count": null,
   "id": "0676c9b8",
   "metadata": {},
   "outputs": [],
   "source": [
    "p1.__dict__, p2.__dict__"
   ]
  },
  {
   "cell_type": "code",
   "execution_count": null,
   "id": "040217ad",
   "metadata": {},
   "outputs": [],
   "source": [
    "# self is any object with name property here\n",
    "def say_hello(self):\n",
    "    return f'{self.name} says hello'"
   ]
  },
  {
   "cell_type": "code",
   "execution_count": null,
   "id": "0de5b708",
   "metadata": {},
   "outputs": [],
   "source": [
    "say_hello(p1)"
   ]
  },
  {
   "cell_type": "code",
   "execution_count": null,
   "id": "0664fa7e",
   "metadata": {},
   "outputs": [],
   "source": [
    "p1_say_hello = MethodType(say_hello, p1)"
   ]
  },
  {
   "cell_type": "code",
   "execution_count": null,
   "id": "2e6826c3",
   "metadata": {},
   "outputs": [],
   "source": [
    "p1_say_hello"
   ]
  },
  {
   "cell_type": "code",
   "execution_count": null,
   "id": "cf57e81b",
   "metadata": {},
   "outputs": [],
   "source": [
    "p1.say_hello = p1_say_hello"
   ]
  },
  {
   "cell_type": "code",
   "execution_count": null,
   "id": "a09338ae",
   "metadata": {},
   "outputs": [],
   "source": [
    "p1.__dict__"
   ]
  },
  {
   "cell_type": "code",
   "execution_count": null,
   "id": "40994d18",
   "metadata": {},
   "outputs": [],
   "source": [
    "getattr(p1, 'say_hello')()"
   ]
  },
  {
   "cell_type": "code",
   "execution_count": null,
   "id": "004ebdfd",
   "metadata": {},
   "outputs": [],
   "source": [
    "p1.say_hello()"
   ]
  },
  {
   "cell_type": "code",
   "execution_count": null,
   "id": "43777e89",
   "metadata": {},
   "outputs": [],
   "source": [
    "from types import MethodType"
   ]
  },
  {
   "cell_type": "code",
   "execution_count": null,
   "id": "f896580a",
   "metadata": {},
   "outputs": [],
   "source": [
    "class Person:\n",
    "    def __init__(self, name):\n",
    "        self.name = name\n",
    "        \n",
    "    def register_do_work(self, func):\n",
    "        setattr(self, '_do_work', MethodType(func, self))\n",
    "        \n",
    "    def do_work(self):\n",
    "        do_work_method = getattr(self, '_do_work', None)\n",
    "        \n",
    "        if do_work_method:\n",
    "            return do_work_method()\n",
    "        \n",
    "        else:\n",
    "            raise AttributeError('You must first register a do_work_method')"
   ]
  },
  {
   "cell_type": "code",
   "execution_count": null,
   "id": "c01dd37b",
   "metadata": {},
   "outputs": [],
   "source": [
    "math_teacher = Person('Eric')\n",
    "eng_teacher = Person('John')"
   ]
  },
  {
   "cell_type": "code",
   "execution_count": null,
   "id": "b844737e",
   "metadata": {},
   "outputs": [],
   "source": [
    "math_teacher.do_work() # raised the error as expected"
   ]
  },
  {
   "cell_type": "code",
   "execution_count": null,
   "id": "6ac40bee",
   "metadata": {},
   "outputs": [],
   "source": [
    "def work_math(self):\n",
    "    return f'{self.name} will teach differentials today'"
   ]
  },
  {
   "cell_type": "code",
   "execution_count": null,
   "id": "fbd853bd",
   "metadata": {},
   "outputs": [],
   "source": [
    "math_teacher.register_do_work(work_math)"
   ]
  },
  {
   "cell_type": "code",
   "execution_count": null,
   "id": "a25a19db",
   "metadata": {},
   "outputs": [],
   "source": [
    "math_teacher.do_work()"
   ]
  },
  {
   "cell_type": "code",
   "execution_count": null,
   "id": "550048b0",
   "metadata": {},
   "outputs": [],
   "source": [
    "def work_eng(self):\n",
    "    return f'{self.name} will teach grammer today'"
   ]
  },
  {
   "cell_type": "code",
   "execution_count": null,
   "id": "01ea75ea",
   "metadata": {},
   "outputs": [],
   "source": [
    "eng_teacher.register_do_work(work_eng)"
   ]
  },
  {
   "cell_type": "code",
   "execution_count": null,
   "id": "1d27f048",
   "metadata": {},
   "outputs": [],
   "source": [
    "eng_teacher.do_work()"
   ]
  },
  {
   "cell_type": "markdown",
   "id": "8808f3fd",
   "metadata": {},
   "source": [
    "### Properties "
   ]
  },
  {
   "cell_type": "code",
   "execution_count": null,
   "id": "2adf78a5",
   "metadata": {},
   "outputs": [],
   "source": [
    "class MyClass:\n",
    "    def __init__(self, language):\n",
    "        self._language = language\n",
    "        \n",
    "    def get_language(self):\n",
    "        return self._language\n",
    "    \n",
    "    def set_language(self, value):\n",
    "        self._language = value\n",
    "        \n",
    "    language = property(fget=get_language, fset = set_language)    "
   ]
  },
  {
   "cell_type": "code",
   "execution_count": null,
   "id": "25def80b",
   "metadata": {},
   "outputs": [],
   "source": [
    "m = MyClass('Python')"
   ]
  },
  {
   "cell_type": "code",
   "execution_count": null,
   "id": "b0d644b9",
   "metadata": {},
   "outputs": [],
   "source": [
    "m.__dict__"
   ]
  },
  {
   "cell_type": "code",
   "execution_count": null,
   "id": "04c09487",
   "metadata": {},
   "outputs": [],
   "source": [
    "m.language = 'Java'"
   ]
  },
  {
   "cell_type": "code",
   "execution_count": null,
   "id": "eb8239d7",
   "metadata": {},
   "outputs": [],
   "source": [
    "m.__dict__"
   ]
  },
  {
   "cell_type": "code",
   "execution_count": null,
   "id": "65274379",
   "metadata": {},
   "outputs": [],
   "source": [
    "class Person:\n",
    "    \n",
    "    def __init__(self,name):\n",
    "        self.set_name(name)\n",
    "        \n",
    "    def set_name(self, name):\n",
    "        if isinstance(name, str) and len(name.strip())>0:\n",
    "           self._name = name\n",
    "        else:\n",
    "            raise ValueError('name must be non-empty string')\n",
    "            \n",
    "    def get_name(self):\n",
    "        return self._name\n",
    "    \n",
    "    \n",
    "    "
   ]
  },
  {
   "cell_type": "code",
   "execution_count": null,
   "id": "9fbbe70a",
   "metadata": {},
   "outputs": [],
   "source": [
    "p = Person('Alex')"
   ]
  },
  {
   "cell_type": "code",
   "execution_count": null,
   "id": "d8cf055c",
   "metadata": {},
   "outputs": [],
   "source": [
    "try:\n",
    "    Person('')\n",
    "except ValueError as ex:\n",
    "    print(ex)"
   ]
  },
  {
   "cell_type": "code",
   "execution_count": null,
   "id": "3bdf3302",
   "metadata": {},
   "outputs": [],
   "source": [
    "type(property())"
   ]
  },
  {
   "cell_type": "code",
   "execution_count": null,
   "id": "d76321db",
   "metadata": {},
   "outputs": [],
   "source": [
    "class Person:\n",
    "    \n",
    "    def __init__(self,name):\n",
    "        self._name = name\n",
    "        \n",
    "    def set_name(self, name):\n",
    "        if isinstance(name, str) and len(name.strip())>0:\n",
    "           self._name = name\n",
    "        else:\n",
    "            raise ValueError('name must be non-empty string')\n",
    "            \n",
    "    def get_name(self):\n",
    "        return self._name\n",
    "    \n",
    "    name = property(fget = get_name, fset = set_name)\n",
    "    "
   ]
  },
  {
   "cell_type": "code",
   "execution_count": null,
   "id": "7cdae0e2",
   "metadata": {},
   "outputs": [],
   "source": [
    "p = Person('Alex')"
   ]
  },
  {
   "cell_type": "code",
   "execution_count": null,
   "id": "30b9c25b",
   "metadata": {},
   "outputs": [],
   "source": [
    "p.name"
   ]
  },
  {
   "cell_type": "code",
   "execution_count": null,
   "id": "958a9efb",
   "metadata": {},
   "outputs": [],
   "source": [
    "p.name  = 'John'"
   ]
  },
  {
   "cell_type": "code",
   "execution_count": null,
   "id": "5dc178ea",
   "metadata": {},
   "outputs": [],
   "source": [
    "p.name"
   ]
  },
  {
   "cell_type": "code",
   "execution_count": null,
   "id": "6e5c62e6",
   "metadata": {},
   "outputs": [],
   "source": [
    "p.__dict__"
   ]
  },
  {
   "cell_type": "code",
   "execution_count": null,
   "id": "d9d09fef",
   "metadata": {},
   "outputs": [],
   "source": [
    "p.__dict__['name'] = 'Ray'"
   ]
  },
  {
   "cell_type": "code",
   "execution_count": null,
   "id": "cc97d9f7",
   "metadata": {},
   "outputs": [],
   "source": [
    "p.__dict__  # now dict have 2 properties with same name"
   ]
  },
  {
   "cell_type": "code",
   "execution_count": null,
   "id": "1832262d",
   "metadata": {},
   "outputs": [],
   "source": [
    "getattr(p, 'name') # still return value from getter function i.e. property object"
   ]
  },
  {
   "cell_type": "code",
   "execution_count": null,
   "id": "16a0c99f",
   "metadata": {},
   "outputs": [],
   "source": [
    "p.name  # still return value from getter function"
   ]
  },
  {
   "cell_type": "code",
   "execution_count": null,
   "id": "c46ae588",
   "metadata": {},
   "outputs": [],
   "source": [
    "class Person:\n",
    "    \n",
    "    def __init__(self,name):\n",
    "        self._name = name\n",
    "        \n",
    "    def set_name(self, name):\n",
    "        if isinstance(name, str) and len(name.strip())>0:\n",
    "           self._name = name\n",
    "        else:\n",
    "            raise ValueError('name must be non-empty string')\n",
    "            \n",
    "    def get_name(self):\n",
    "        return self._name\n",
    "    \n",
    "    def del_name(self):\n",
    "        del self._name\n",
    "    \n",
    "    name = property(fget = get_name, fset = set_name, fdel = del_name, doc = 'the persons name')\n",
    "    "
   ]
  },
  {
   "cell_type": "code",
   "execution_count": null,
   "id": "0d292f8c",
   "metadata": {},
   "outputs": [],
   "source": [
    "p = Person('Alex')"
   ]
  },
  {
   "cell_type": "code",
   "execution_count": null,
   "id": "b6506025",
   "metadata": {},
   "outputs": [],
   "source": [
    "p.name"
   ]
  },
  {
   "cell_type": "code",
   "execution_count": null,
   "id": "707bc4b4",
   "metadata": {},
   "outputs": [],
   "source": [
    "p.name = 'Eric'"
   ]
  },
  {
   "cell_type": "code",
   "execution_count": null,
   "id": "0f4de5d7",
   "metadata": {},
   "outputs": [],
   "source": [
    "p.name"
   ]
  },
  {
   "cell_type": "code",
   "execution_count": null,
   "id": "ee9ac719",
   "metadata": {},
   "outputs": [],
   "source": [
    "del p.name"
   ]
  },
  {
   "cell_type": "code",
   "execution_count": null,
   "id": "11c4c856",
   "metadata": {},
   "outputs": [],
   "source": [
    "p.__dict__"
   ]
  },
  {
   "cell_type": "code",
   "execution_count": null,
   "id": "e3760352",
   "metadata": {},
   "outputs": [],
   "source": [
    "Person.__dict__ # name property still exist"
   ]
  },
  {
   "cell_type": "code",
   "execution_count": null,
   "id": "ac820b28",
   "metadata": {},
   "outputs": [],
   "source": [
    "p.name # delete remove private variable from instance but it doesn't remove it from class"
   ]
  },
  {
   "cell_type": "code",
   "execution_count": null,
   "id": "817d2da8",
   "metadata": {},
   "outputs": [],
   "source": [
    "help(Person) # doc string specified in property"
   ]
  },
  {
   "cell_type": "markdown",
   "id": "38837a1f",
   "metadata": {},
   "source": [
    "## Property decorators"
   ]
  },
  {
   "cell_type": "code",
   "execution_count": null,
   "id": "a9ebd230",
   "metadata": {},
   "outputs": [],
   "source": [
    "p = property(fget = lambda self: print('getting property'))"
   ]
  },
  {
   "cell_type": "code",
   "execution_count": null,
   "id": "b4f72bbc",
   "metadata": {},
   "outputs": [],
   "source": [
    "p.fget"
   ]
  },
  {
   "cell_type": "code",
   "execution_count": null,
   "id": "59a45a42",
   "metadata": {},
   "outputs": [],
   "source": [
    "def my_decorator(fn):\n",
    "    print('decorating function')\n",
    "    \n",
    "    def inner(*args, **kwargs):\n",
    "        print('running decoarted function')\n",
    "        return fn(*args, **kwargs)\n",
    "    return inner"
   ]
  },
  {
   "cell_type": "code",
   "execution_count": null,
   "id": "e1fe01b6",
   "metadata": {},
   "outputs": [],
   "source": [
    "def undecorated_function(a,b):\n",
    "    print('running original function')\n",
    "    return a+b"
   ]
  },
  {
   "cell_type": "code",
   "execution_count": null,
   "id": "f16893d5",
   "metadata": {},
   "outputs": [],
   "source": [
    "decorated_func = my_decorator(undecorated_function)"
   ]
  },
  {
   "cell_type": "code",
   "execution_count": null,
   "id": "258d2e42",
   "metadata": {},
   "outputs": [],
   "source": [
    "decorated_func"
   ]
  },
  {
   "cell_type": "code",
   "execution_count": null,
   "id": "0faede59",
   "metadata": {},
   "outputs": [],
   "source": [
    "decorated_func(1,2)"
   ]
  },
  {
   "cell_type": "code",
   "execution_count": null,
   "id": "e31a32f1",
   "metadata": {},
   "outputs": [],
   "source": [
    "undecorated_func = my_decorator(undecorated_function)"
   ]
  },
  {
   "cell_type": "code",
   "execution_count": null,
   "id": "688ecdad",
   "metadata": {},
   "outputs": [],
   "source": [
    "undecorated_func"
   ]
  },
  {
   "cell_type": "code",
   "execution_count": null,
   "id": "596a6fd9",
   "metadata": {},
   "outputs": [],
   "source": [
    "@my_decorator\n",
    "def my_func(a,b):\n",
    "    print('running original function')\n",
    "    return a+b"
   ]
  },
  {
   "cell_type": "code",
   "execution_count": null,
   "id": "54950a7e",
   "metadata": {},
   "outputs": [],
   "source": [
    "my_func(1,2)"
   ]
  },
  {
   "cell_type": "code",
   "execution_count": null,
   "id": "593c2feb",
   "metadata": {},
   "outputs": [],
   "source": [
    "class Person:\n",
    "    def __init__(self, name):\n",
    "        self._name = name\n",
    "        \n",
    "    def get_name(self):\n",
    "        return self._name\n",
    "    \n",
    "    name = property(get_name)"
   ]
  },
  {
   "cell_type": "code",
   "execution_count": null,
   "id": "2e5a844e",
   "metadata": {},
   "outputs": [],
   "source": [
    "# rewrite above to get decorator syntax\n",
    "class Person:\n",
    "    def __init__(self, name):\n",
    "        self._name = name\n",
    "        \n",
    "    def name(self):\n",
    "        return self._name\n",
    "    \n",
    "    name = property(name) # this is decorator syntax"
   ]
  },
  {
   "cell_type": "code",
   "execution_count": null,
   "id": "e1c37998",
   "metadata": {},
   "outputs": [],
   "source": [
    "def get_prop(self):\n",
    "    return 'getter called..'\n",
    "\n",
    "def set_prop(self, value):\n",
    "    print('setter called..')\n",
    "    return 'setter called..'\n",
    "\n",
    "def del_prop(self):\n",
    "    return 'deletor called..'"
   ]
  },
  {
   "cell_type": "code",
   "execution_count": null,
   "id": "e01c61d5",
   "metadata": {},
   "outputs": [],
   "source": [
    "p = property(get_prop)"
   ]
  },
  {
   "cell_type": "code",
   "execution_count": null,
   "id": "b36aa7d9",
   "metadata": {},
   "outputs": [],
   "source": [
    "p.fget"
   ]
  },
  {
   "cell_type": "code",
   "execution_count": null,
   "id": "88f82ffd",
   "metadata": {},
   "outputs": [],
   "source": [
    "p.__dict__ # instance doesn't dict"
   ]
  },
  {
   "cell_type": "code",
   "execution_count": null,
   "id": "db2ff717",
   "metadata": {},
   "outputs": [],
   "source": [
    "dir(p)"
   ]
  },
  {
   "cell_type": "code",
   "execution_count": null,
   "id": "faab76b7",
   "metadata": {},
   "outputs": [],
   "source": [
    "p1 = p.setter(set_prop)"
   ]
  },
  {
   "cell_type": "code",
   "execution_count": null,
   "id": "71c9a6cb",
   "metadata": {},
   "outputs": [],
   "source": [
    "p.fget is p1.fget"
   ]
  },
  {
   "cell_type": "code",
   "execution_count": null,
   "id": "b845176e",
   "metadata": {},
   "outputs": [],
   "source": [
    "p1.fget, p1.fset"
   ]
  },
  {
   "cell_type": "code",
   "execution_count": null,
   "id": "6a286755",
   "metadata": {},
   "outputs": [],
   "source": [
    "p = property(get_prop)\n",
    "p = p.setter(set_prop)\n",
    "p  = p.deleter(del_prop)"
   ]
  },
  {
   "cell_type": "code",
   "execution_count": null,
   "id": "a08618a2",
   "metadata": {},
   "outputs": [],
   "source": [
    "class Person:\n",
    "    name = p"
   ]
  },
  {
   "cell_type": "code",
   "execution_count": null,
   "id": "fe137bc8",
   "metadata": {},
   "outputs": [],
   "source": [
    "person = Person()"
   ]
  },
  {
   "cell_type": "code",
   "execution_count": null,
   "id": "e3a3ea4e",
   "metadata": {},
   "outputs": [],
   "source": [
    "person.name"
   ]
  },
  {
   "cell_type": "code",
   "execution_count": null,
   "id": "a4fdc07c",
   "metadata": {},
   "outputs": [],
   "source": [
    "person.name = 'hello'"
   ]
  },
  {
   "cell_type": "code",
   "execution_count": null,
   "id": "7df6f525",
   "metadata": {},
   "outputs": [],
   "source": [
    "p = property(get_prop)\n",
    "p = p.setter(set_prop)"
   ]
  },
  {
   "cell_type": "code",
   "execution_count": null,
   "id": "be7da2d4",
   "metadata": {},
   "outputs": [],
   "source": [
    "person.name = 'hello'"
   ]
  },
  {
   "cell_type": "code",
   "execution_count": null,
   "id": "de34d4d9",
   "metadata": {},
   "outputs": [],
   "source": [
    "del person.name"
   ]
  },
  {
   "cell_type": "code",
   "execution_count": null,
   "id": "a0f7816c",
   "metadata": {},
   "outputs": [],
   "source": [
    "def name(self):\n",
    "    print('getter...')"
   ]
  },
  {
   "cell_type": "code",
   "execution_count": null,
   "id": "3c17a943",
   "metadata": {},
   "outputs": [],
   "source": [
    "name = property(name)"
   ]
  },
  {
   "cell_type": "code",
   "execution_count": null,
   "id": "c6291541",
   "metadata": {},
   "outputs": [],
   "source": [
    "hex(id(name))"
   ]
  },
  {
   "cell_type": "code",
   "execution_count": null,
   "id": "34eef509",
   "metadata": {},
   "outputs": [],
   "source": [
    "name = property(name)"
   ]
  },
  {
   "cell_type": "code",
   "execution_count": null,
   "id": "cdd91fd8",
   "metadata": {},
   "outputs": [],
   "source": [
    "type(name), hex(id(name)), hex(id(name.fget))"
   ]
  },
  {
   "cell_type": "code",
   "execution_count": null,
   "id": "94f78a0a",
   "metadata": {},
   "outputs": [],
   "source": [
    "name_temp = name"
   ]
  },
  {
   "cell_type": "code",
   "execution_count": null,
   "id": "8b71e597",
   "metadata": {},
   "outputs": [],
   "source": [
    "name_temp"
   ]
  },
  {
   "cell_type": "code",
   "execution_count": null,
   "id": "16864782",
   "metadata": {},
   "outputs": [],
   "source": [
    "name = name_temp.setter(name)"
   ]
  },
  {
   "cell_type": "code",
   "execution_count": null,
   "id": "51cdbbfc",
   "metadata": {},
   "outputs": [],
   "source": [
    "type(name), hex(id(name)), hex(id(name.fget)),  hex(id(name.fset)) # fget id same as above"
   ]
  },
  {
   "cell_type": "code",
   "execution_count": null,
   "id": "3f9b4958",
   "metadata": {},
   "outputs": [],
   "source": [
    "class Person:\n",
    "    def __init__(self, name):\n",
    "        self._name = name\n",
    "        \n",
    "    @property    \n",
    "    def name(self):\n",
    "        return self._name\n",
    "    \n",
    "    @name.setter\n",
    "    def name_set(self, value):\n",
    "        self._name = value"
   ]
  },
  {
   "cell_type": "code",
   "execution_count": null,
   "id": "8a4f9f25",
   "metadata": {},
   "outputs": [],
   "source": [
    "p = Person('Alex')"
   ]
  },
  {
   "cell_type": "code",
   "execution_count": null,
   "id": "441aeda3",
   "metadata": {},
   "outputs": [],
   "source": [
    "Person.__dict__  # it has name and name_set property"
   ]
  },
  {
   "cell_type": "code",
   "execution_count": null,
   "id": "4d94df35",
   "metadata": {},
   "outputs": [],
   "source": [
    "class Person:\n",
    "    def __init__(self, name):\n",
    "        self._name = name\n",
    "        \n",
    "    @property    \n",
    "    def name(self):\n",
    "        return self._name\n",
    "    \n",
    "    @name.setter\n",
    "    def name(self, value):\n",
    "        self._name = value"
   ]
  },
  {
   "cell_type": "code",
   "execution_count": null,
   "id": "2a34f966",
   "metadata": {},
   "outputs": [],
   "source": [
    "p = Person('Alex')"
   ]
  },
  {
   "cell_type": "code",
   "execution_count": null,
   "id": "5d8c81fc",
   "metadata": {},
   "outputs": [],
   "source": [
    "Person.__dict__ # name is single property"
   ]
  },
  {
   "cell_type": "code",
   "execution_count": null,
   "id": "334bb740",
   "metadata": {},
   "outputs": [],
   "source": [
    "class Person:\n",
    "    \n",
    "    prop = property()\n",
    "        \n",
    "    \n",
    "    @prop.setter\n",
    "    def prop(self, value):\n",
    "        self._name = value"
   ]
  },
  {
   "cell_type": "code",
   "execution_count": null,
   "id": "b20d45d8",
   "metadata": {},
   "outputs": [],
   "source": [
    "p = Person()"
   ]
  },
  {
   "cell_type": "code",
   "execution_count": null,
   "id": "ca1b08dd",
   "metadata": {},
   "outputs": [],
   "source": [
    "p.prop = 'hello'"
   ]
  },
  {
   "cell_type": "markdown",
   "id": "7d289691",
   "metadata": {},
   "source": [
    "### Read-only and computed properties"
   ]
  },
  {
   "cell_type": "code",
   "execution_count": null,
   "id": "b36c778c",
   "metadata": {},
   "outputs": [],
   "source": []
  },
  {
   "cell_type": "code",
   "execution_count": null,
   "id": "d339d706",
   "metadata": {},
   "outputs": [],
   "source": [
    "from math import pi\n",
    "\n",
    "class Circle:\n",
    "    def __init__(self, radius):\n",
    "        self.radius = radius\n",
    "        \n",
    "    @property\n",
    "    def area(self):\n",
    "        print('calculating area...')\n",
    "        return pi*(self.radius **2)"
   ]
  },
  {
   "cell_type": "code",
   "execution_count": null,
   "id": "41da2bec",
   "metadata": {},
   "outputs": [],
   "source": [
    "c = Circle(1)"
   ]
  },
  {
   "cell_type": "code",
   "execution_count": null,
   "id": "5d35e3be",
   "metadata": {},
   "outputs": [],
   "source": [
    "c.radius"
   ]
  },
  {
   "cell_type": "code",
   "execution_count": null,
   "id": "7c539d6a",
   "metadata": {},
   "outputs": [],
   "source": [
    "c.area"
   ]
  },
  {
   "cell_type": "code",
   "execution_count": null,
   "id": "3d993811",
   "metadata": {},
   "outputs": [],
   "source": [
    "# everytime area is called it recalculate the area. This is not ideal as recalculating area is waste."
   ]
  },
  {
   "cell_type": "code",
   "execution_count": null,
   "id": "baffa3b3",
   "metadata": {},
   "outputs": [],
   "source": [
    "# cache can be used\n",
    "# if radius is same get area from cache else when radius changes calculate the area"
   ]
  },
  {
   "cell_type": "code",
   "execution_count": null,
   "id": "7e66191f",
   "metadata": {},
   "outputs": [],
   "source": [
    "class Circle:\n",
    "    def __init__(self, radius):\n",
    "        self._radius = radius\n",
    "        self._area = None\n",
    "        \n",
    "    @property\n",
    "    def radius(self):\n",
    "        return self._radius\n",
    "    \n",
    "    @radius.setter\n",
    "    def radius(self, value):\n",
    "        self._area = None\n",
    "        self._radius = value\n",
    "        \n",
    "    @property\n",
    "    def area(self):\n",
    "        if self._area is None:\n",
    "            print('calculating area...')\n",
    "            self._area = pi * (self.radius**2)    # accessing property here\n",
    "        return self._area\n",
    "    \n",
    "    "
   ]
  },
  {
   "cell_type": "code",
   "execution_count": null,
   "id": "78e28031",
   "metadata": {},
   "outputs": [],
   "source": [
    "c = Circle(1)"
   ]
  },
  {
   "cell_type": "code",
   "execution_count": null,
   "id": "b3f03c35",
   "metadata": {},
   "outputs": [],
   "source": [
    "c.area # calculating area"
   ]
  },
  {
   "cell_type": "code",
   "execution_count": null,
   "id": "f888177a",
   "metadata": {},
   "outputs": [],
   "source": [
    "c.area # area from cache"
   ]
  },
  {
   "cell_type": "code",
   "execution_count": null,
   "id": "670abad5",
   "metadata": {},
   "outputs": [],
   "source": [
    "c.radius = 2"
   ]
  },
  {
   "cell_type": "code",
   "execution_count": null,
   "id": "79987032",
   "metadata": {},
   "outputs": [],
   "source": [
    "c.area"
   ]
  },
  {
   "cell_type": "code",
   "execution_count": null,
   "id": "c857d5bf",
   "metadata": {},
   "outputs": [],
   "source": [
    "c.area"
   ]
  },
  {
   "cell_type": "code",
   "execution_count": null,
   "id": "d2d33817",
   "metadata": {},
   "outputs": [],
   "source": [
    "import urllib\n",
    "from time import perf_counter"
   ]
  },
  {
   "cell_type": "code",
   "execution_count": null,
   "id": "72a843b9",
   "metadata": {},
   "outputs": [],
   "source": [
    "class Webpage:\n",
    "    \n",
    "    def __init__(self, url):\n",
    "        self.url = url\n",
    "        self._page = None\n",
    "        self._load_time_secs = None\n",
    "        self._page_size = None\n",
    "        \n",
    "        \n",
    "    @property \n",
    "    def url(self):\n",
    "        return self._url\n",
    "    \n",
    "    @url.setter\n",
    "    def url(self, value):\n",
    "        self._url = value\n",
    "        self._page = None\n",
    "        \n",
    "        \n",
    "    @property\n",
    "    def page(self):\n",
    "        if self._page is None:\n",
    "            self.download_page()\n",
    "        return self._page\n",
    "    \n",
    "    \n",
    "    @property\n",
    "    def page_size(self):\n",
    "        if self._page is None:\n",
    "            self.download_page()\n",
    "        return self._page_size\n",
    "    \n",
    "    \n",
    "    @property\n",
    "    def time_elapsed(self):\n",
    "        if self._page is None:\n",
    "            self.download_page()\n",
    "        return self._load_time_secs\n",
    "    \n",
    "    \n",
    "    def download_page(self):\n",
    "        self._page_size = None\n",
    "        self._load_time_secs = None\n",
    "        start_time = perf_counter()\n",
    "        with urllib.request.urlopen(self.url) as f:\n",
    "            self._page = f.read()\n",
    "        end_time = perf_counter()\n",
    "        \n",
    "        self._page_size = len(self._page)\n",
    "        self._load_time_secs = start_time - end_time"
   ]
  },
  {
   "cell_type": "code",
   "execution_count": null,
   "id": "e085d90a",
   "metadata": {},
   "outputs": [],
   "source": [
    "urls  = [\n",
    "    'https://www.google.com',\n",
    "    'https://www.python.org',\n",
    "    'https://www.yahoo.com'\n",
    "]"
   ]
  },
  {
   "cell_type": "code",
   "execution_count": null,
   "id": "66ab056c",
   "metadata": {},
   "outputs": [],
   "source": [
    "for url in urls:\n",
    "    page = Webpage(url)\n",
    "    print(f'{url}\\tsize:{page.page_size} \\t time_elapsed: {page.time_elapsed}')"
   ]
  },
  {
   "cell_type": "markdown",
   "id": "e4c48bbc",
   "metadata": {},
   "source": [
    "### Deleting properties"
   ]
  },
  {
   "cell_type": "code",
   "execution_count": null,
   "id": "f661bc96",
   "metadata": {},
   "outputs": [],
   "source": [
    "class Person:\n",
    "    def __init__(self, name):\n",
    "        self.name = name\n",
    "        \n",
    "    def get_name(self):\n",
    "        print('getter..')\n",
    "        return self._name\n",
    "    \n",
    "    def set_name(self, value):\n",
    "        print('setter..')\n",
    "        self._name = value\n",
    "        \n",
    "    def del_name(self):\n",
    "        print('deleter..')\n",
    "        del self._name\n",
    "        \n",
    "        \n",
    "    name = property(fget = get_name, fset = set_name, fdel = del_name, doc = 'Person name')    "
   ]
  },
  {
   "cell_type": "code",
   "execution_count": null,
   "id": "e721b53e",
   "metadata": {},
   "outputs": [],
   "source": [
    "p = Person('abc')"
   ]
  },
  {
   "cell_type": "code",
   "execution_count": null,
   "id": "4d3625ad",
   "metadata": {},
   "outputs": [],
   "source": [
    "p.name"
   ]
  },
  {
   "cell_type": "code",
   "execution_count": null,
   "id": "d3617590",
   "metadata": {},
   "outputs": [],
   "source": [
    "#using decorator\n",
    "class Person:\n",
    "    def __init__(self, name):\n",
    "        self.name = name\n",
    "     \n",
    "    @property\n",
    "    def name(self):\n",
    "        print('getter..')\n",
    "        return self._name\n",
    "    \n",
    "    @name.setter\n",
    "    def name(self, value):\n",
    "        print('setter..')\n",
    "        self._name = value\n",
    "        \n",
    "    @name.deleter    \n",
    "    def name(self):\n",
    "        print('deleter..')\n",
    "        del self._name\n",
    "        "
   ]
  },
  {
   "cell_type": "code",
   "execution_count": null,
   "id": "10f5539b",
   "metadata": {},
   "outputs": [],
   "source": [
    "p = Person('Alex')"
   ]
  },
  {
   "cell_type": "code",
   "execution_count": null,
   "id": "27591249",
   "metadata": {},
   "outputs": [],
   "source": [
    "p.__dict__"
   ]
  },
  {
   "cell_type": "code",
   "execution_count": null,
   "id": "33004538",
   "metadata": {},
   "outputs": [],
   "source": [
    "del p.name"
   ]
  },
  {
   "cell_type": "code",
   "execution_count": null,
   "id": "1ddf7a85",
   "metadata": {},
   "outputs": [],
   "source": [
    "p.__dict__"
   ]
  },
  {
   "cell_type": "markdown",
   "id": "f8e36559",
   "metadata": {},
   "source": [
    "# Class and static methods"
   ]
  },
  {
   "cell_type": "code",
   "execution_count": null,
   "id": "21d95da7",
   "metadata": {},
   "outputs": [],
   "source": [
    "class Person:\n",
    "    def hello(arg = 'default'):\n",
    "        print(f'hello with args {arg}')"
   ]
  },
  {
   "cell_type": "code",
   "execution_count": null,
   "id": "f7e13f53",
   "metadata": {},
   "outputs": [],
   "source": [
    "Person.hello(100)"
   ]
  },
  {
   "cell_type": "code",
   "execution_count": null,
   "id": "d28f7dbe",
   "metadata": {},
   "outputs": [],
   "source": [
    "p = Person()"
   ]
  },
  {
   "cell_type": "code",
   "execution_count": null,
   "id": "22ccc4ed",
   "metadata": {},
   "outputs": [],
   "source": [
    "p.hello()"
   ]
  },
  {
   "cell_type": "code",
   "execution_count": null,
   "id": "5252b698",
   "metadata": {},
   "outputs": [],
   "source": [
    "class MyClass:\n",
    "    def hello():\n",
    "        print('hello...')\n",
    "        \n",
    "    def instance_hello(arg):\n",
    "        print(f'hello from {arg}')\n",
    "        \n",
    "    @classmethod    \n",
    "    def class_hello(arg):\n",
    "        print(f'hello from {arg}')\n",
    "        \n",
    "    @staticmethod\n",
    "    def static_hello():\n",
    "        print(f'static method hello from ')"
   ]
  },
  {
   "cell_type": "code",
   "execution_count": null,
   "id": "ebe148b8",
   "metadata": {},
   "outputs": [],
   "source": [
    "m = MyClass()"
   ]
  },
  {
   "cell_type": "code",
   "execution_count": null,
   "id": "8de167f9",
   "metadata": {},
   "outputs": [],
   "source": [
    "MyClass.hello()"
   ]
  },
  {
   "cell_type": "code",
   "execution_count": null,
   "id": "6d72c50e",
   "metadata": {},
   "outputs": [],
   "source": [
    "m.hello() #because python things its instance method"
   ]
  },
  {
   "cell_type": "code",
   "execution_count": null,
   "id": "2c501490",
   "metadata": {},
   "outputs": [],
   "source": [
    "m.instance_hello()"
   ]
  },
  {
   "cell_type": "code",
   "execution_count": null,
   "id": "326a6d65",
   "metadata": {},
   "outputs": [],
   "source": [
    "m.class_hello()"
   ]
  },
  {
   "cell_type": "code",
   "execution_count": null,
   "id": "e65de6d7",
   "metadata": {},
   "outputs": [],
   "source": [
    "MyClass.class_hello()"
   ]
  },
  {
   "cell_type": "code",
   "execution_count": null,
   "id": "73144f68",
   "metadata": {},
   "outputs": [],
   "source": [
    "MyClass.instance_hello"
   ]
  },
  {
   "cell_type": "code",
   "execution_count": null,
   "id": "46501d44",
   "metadata": {},
   "outputs": [],
   "source": [
    "MyClass.class_hello"
   ]
  },
  {
   "cell_type": "code",
   "execution_count": null,
   "id": "676d883a",
   "metadata": {},
   "outputs": [],
   "source": [
    "m.hello"
   ]
  },
  {
   "cell_type": "code",
   "execution_count": null,
   "id": "12e2611f",
   "metadata": {},
   "outputs": [],
   "source": [
    "MyClass.static_hello()"
   ]
  },
  {
   "cell_type": "code",
   "execution_count": null,
   "id": "3d04c41a",
   "metadata": {},
   "outputs": [],
   "source": [
    "m = MyClass()"
   ]
  },
  {
   "cell_type": "code",
   "execution_count": null,
   "id": "802f930f",
   "metadata": {},
   "outputs": [],
   "source": [
    "m.static_hello()"
   ]
  },
  {
   "cell_type": "code",
   "execution_count": null,
   "id": "95cc9a55",
   "metadata": {},
   "outputs": [],
   "source": [
    "m.static_hello"
   ]
  },
  {
   "cell_type": "code",
   "execution_count": null,
   "id": "072b67d5",
   "metadata": {},
   "outputs": [],
   "source": [
    "from datetime import datetime, timezone, timedelta"
   ]
  },
  {
   "cell_type": "code",
   "execution_count": null,
   "id": "1738e773",
   "metadata": {},
   "outputs": [],
   "source": [
    "class Timer:\n",
    "    tz = timezone.utc\n",
    "    \n",
    "    # to define same time zone across instances of classes\n",
    "    @classmethod\n",
    "    def set_tz(cls, offset, name):\n",
    "        cls.tz = timezone(timedelta(hours= offset), name)"
   ]
  },
  {
   "cell_type": "code",
   "execution_count": null,
   "id": "b8d4a03d",
   "metadata": {},
   "outputs": [],
   "source": [
    "Timer.set_tz(-7, 'MST')"
   ]
  },
  {
   "cell_type": "code",
   "execution_count": null,
   "id": "ffdb8098",
   "metadata": {},
   "outputs": [],
   "source": [
    "Timer.tz"
   ]
  },
  {
   "cell_type": "code",
   "execution_count": null,
   "id": "add3db8f",
   "metadata": {},
   "outputs": [],
   "source": [
    "t1 = Timer()\n",
    "t2 = Timer()"
   ]
  },
  {
   "cell_type": "code",
   "execution_count": null,
   "id": "b12c09a3",
   "metadata": {},
   "outputs": [],
   "source": [
    "t1.tz, t2.tz"
   ]
  },
  {
   "cell_type": "code",
   "execution_count": null,
   "id": "046197ca",
   "metadata": {},
   "outputs": [],
   "source": [
    "Timer.set_tz(-8, 'PST')"
   ]
  },
  {
   "cell_type": "code",
   "execution_count": null,
   "id": "defd7dce",
   "metadata": {},
   "outputs": [],
   "source": [
    "t1.tz, t2.tz"
   ]
  },
  {
   "cell_type": "code",
   "execution_count": null,
   "id": "36aaabfe",
   "metadata": {},
   "outputs": [],
   "source": [
    "class Timer:\n",
    "    tz = timezone.utc\n",
    "    \n",
    "\n",
    "    @classmethod\n",
    "    def set_tz(cls, offset, name):\n",
    "        cls.tz = timezone(timedelta(hours= offset), name)\n",
    "        \n",
    "    # not bound to class    \n",
    "    @staticmethod    \n",
    "    def current_dt_utc():\n",
    "        return datetime.now(timezone.utc)"
   ]
  },
  {
   "cell_type": "code",
   "execution_count": null,
   "id": "71fc4edb",
   "metadata": {},
   "outputs": [],
   "source": [
    "t = Timer()"
   ]
  },
  {
   "cell_type": "code",
   "execution_count": null,
   "id": "291e01e0",
   "metadata": {},
   "outputs": [],
   "source": [
    "t.current_dt_utc()"
   ]
  },
  {
   "cell_type": "code",
   "execution_count": null,
   "id": "f0f48b0e",
   "metadata": {},
   "outputs": [],
   "source": [
    "Timer.current_dt_utc()"
   ]
  },
  {
   "cell_type": "code",
   "execution_count": null,
   "id": "f14da32b",
   "metadata": {},
   "outputs": [],
   "source": [
    "current_dt_utc() # even static methods needs to be called from class"
   ]
  },
  {
   "cell_type": "code",
   "execution_count": null,
   "id": "0c7d3413",
   "metadata": {},
   "outputs": [],
   "source": [
    "class Timer:\n",
    "    tz = timezone.utc\n",
    "    \n",
    "\n",
    "    @classmethod\n",
    "    def set_tz(cls, offset, name):\n",
    "        cls.tz = timezone(timedelta(hours= offset), name)\n",
    "        \n",
    "    # not bound to class    \n",
    "    @staticmethod    \n",
    "    def current_dt_utc():\n",
    "        return datetime.now(timezone.utc)\n",
    "    \n",
    "    @classmethod\n",
    "    def current_dt(cls):\n",
    "        return datetime.now(cls.tz)"
   ]
  },
  {
   "cell_type": "code",
   "execution_count": null,
   "id": "88bffc98",
   "metadata": {},
   "outputs": [],
   "source": [
    "Timer.current_dt_utc(), Timer.current_dt()"
   ]
  },
  {
   "cell_type": "code",
   "execution_count": null,
   "id": "7eceb34e",
   "metadata": {},
   "outputs": [],
   "source": [
    "t1 = Timer()\n",
    "t2 = Timer()"
   ]
  },
  {
   "cell_type": "code",
   "execution_count": null,
   "id": "4008c55d",
   "metadata": {},
   "outputs": [],
   "source": [
    "t1.current_dt_utc(), t1.current_dt()"
   ]
  },
  {
   "cell_type": "code",
   "execution_count": null,
   "id": "997aa13c",
   "metadata": {},
   "outputs": [],
   "source": [
    "t2.set_tz(-7, 'MST') # class level method"
   ]
  },
  {
   "cell_type": "code",
   "execution_count": null,
   "id": "1e4a8993",
   "metadata": {},
   "outputs": [],
   "source": [
    "t1.tz, t2.tz"
   ]
  },
  {
   "cell_type": "code",
   "execution_count": null,
   "id": "bdb04bfe",
   "metadata": {},
   "outputs": [],
   "source": [
    "t1.__dict__, t2.__dict__"
   ]
  },
  {
   "cell_type": "code",
   "execution_count": null,
   "id": "41c1017a",
   "metadata": {},
   "outputs": [],
   "source": [
    "t1.current_dt_utc(), t1.current_dt(), t2.current_dt() \n",
    "# instance uses class method set MST timezone. \n",
    "# Static method still uses utc timezone  "
   ]
  },
  {
   "cell_type": "code",
   "execution_count": null,
   "id": "95e09048",
   "metadata": {},
   "outputs": [],
   "source": [
    "class TimerError(Exception):\n",
    "    \"\"\"A custome exception used for time class\"\"\"\n",
    "    "
   ]
  },
  {
   "cell_type": "code",
   "execution_count": null,
   "id": "c87d920d",
   "metadata": {},
   "outputs": [],
   "source": [
    "class Timer:\n",
    "    tz = timezone.utc\n",
    "    \n",
    "\n",
    "    @classmethod\n",
    "    def set_tz(cls, offset, name):\n",
    "        cls.tz = timezone(timedelta(hours= offset), name)\n",
    "        \n",
    "    # not bound to class    \n",
    "    @staticmethod    \n",
    "    def current_dt_utc():\n",
    "        return datetime.now(timezone.utc)\n",
    "    \n",
    "    @classmethod\n",
    "    def current_dt(cls):\n",
    "        return datetime.now(cls.tz)\n",
    "    \n",
    "    \n",
    "    def start(self):\n",
    "        self._time_start = self.current_dt_utc()\n",
    "        self._time_end = None\n",
    "        \n",
    "    def stop(self):\n",
    "        if self._time_start is None:\n",
    "            raise TimerError('Timer must be started before it can be stopped')\n",
    "        self._time_end = self.current_dt_utc()\n",
    "        \n",
    "    @property\n",
    "    def start_time(self):\n",
    "        if self._time_start is None:\n",
    "            raise TimerError('Timer has not been started')\n",
    "        return self._time_start.astimezone(self.tz)\n",
    "    \n",
    "    \n",
    "    @property\n",
    "    def end_time(self):\n",
    "        if self._time_end is None:\n",
    "            raise TimerError('Timer has not been stopped')\n",
    "        return self._time_end.astimezone(self.tz)\n",
    "    \n",
    "    @property\n",
    "    def elapsed(self):\n",
    "        if self._time_start is None:\n",
    "            raise TimerError('Timer must started before an elapsed time can be caluclated')\n",
    "        if self._time_end is None:\n",
    "            elapsed_time = self.current_dt_utc() - self._time_start\n",
    "            \n",
    "        else:\n",
    "            elapsed_time = self._time_end - self._time_start\n",
    "            \n",
    "        return elapsed_time.total_seconds()    "
   ]
  },
  {
   "cell_type": "code",
   "execution_count": null,
   "id": "452f6381",
   "metadata": {},
   "outputs": [],
   "source": [
    "from time import sleep\n",
    "\n",
    "t1 = Timer()\n",
    "t1.start()\n",
    "sleep(2)\n",
    "t1.stop()\n",
    "print(f'start time:{t1.start_time}')\n",
    "print(f'end time: {t1.end_time}')\n",
    "print(f'elapsed time:{t1.elapsed} seconds')"
   ]
  },
  {
   "cell_type": "code",
   "execution_count": null,
   "id": "076830a2",
   "metadata": {},
   "outputs": [],
   "source": [
    "t2 = Timer()\n",
    "t2.start()\n",
    "sleep(3)\n",
    "t2.stop()\n",
    "print(f'start time:{t2.start_time}')\n",
    "print(f'end time: {t2.end_time}')\n",
    "print(f'elapsed time:{t2.elapsed} seconds')"
   ]
  },
  {
   "cell_type": "code",
   "execution_count": null,
   "id": "ee5de6c8",
   "metadata": {},
   "outputs": [],
   "source": [
    "# use MST timezone\n",
    "Timer.set_tz(-7,'MST')"
   ]
  },
  {
   "cell_type": "code",
   "execution_count": null,
   "id": "4ac8a249",
   "metadata": {},
   "outputs": [],
   "source": [
    "# result in MST timezone\n",
    "print(f'start time:{t1.start_time}')\n",
    "print(f'end time: {t1.end_time}')\n",
    "print(f'elapsed time:{t1.elapsed} seconds')"
   ]
  },
  {
   "cell_type": "code",
   "execution_count": null,
   "id": "8196aabf",
   "metadata": {},
   "outputs": [],
   "source": [
    "# result in MST timezone\n",
    "print(f'start time:{t2.start_time}')\n",
    "print(f'end time: {t2.end_time}')\n",
    "print(f'elapsed time:{t2.elapsed} seconds')"
   ]
  },
  {
   "cell_type": "markdown",
   "id": "f698be8c",
   "metadata": {},
   "source": [
    "### Class Body scope "
   ]
  },
  {
   "cell_type": "code",
   "execution_count": null,
   "id": "7272f58e",
   "metadata": {},
   "outputs": [],
   "source": [
    "class Language:\n",
    "    MAJOR = 3\n",
    "    MINOR = 7\n",
    "    REVISION = 4\n",
    "    FULL = '{}.{}.{}'.format(MAJOR, MINOR, REVISION)"
   ]
  },
  {
   "cell_type": "code",
   "execution_count": null,
   "id": "1f441000",
   "metadata": {},
   "outputs": [],
   "source": [
    "Language.FULL"
   ]
  },
  {
   "cell_type": "code",
   "execution_count": null,
   "id": "12d51dde",
   "metadata": {},
   "outputs": [],
   "source": [
    "class Language:\n",
    "    MAJOR = 3\n",
    "    MINOR = 7\n",
    "    REVISION = 4\n",
    "   \n",
    "    @property\n",
    "    def version(self):\n",
    "        return '{}.{}.{}'.format(self.MAJOR, self.MINOR, self.REVISION)\n",
    "    \n",
    "    @classmethod\n",
    "    def cls_version(cls):\n",
    "        return '{}.{}.{}'.format(cls.MAJOR, cls.MINOR, cls.REVISION)\n",
    "    \n",
    "    @staticmethod\n",
    "    def static_version():\n",
    "        return '{}.{}.{}'.format(Language.MAJOR, Language.MINOR, Language.REVISION)"
   ]
  },
  {
   "cell_type": "code",
   "execution_count": null,
   "id": "79f6ab9e",
   "metadata": {},
   "outputs": [],
   "source": [
    "l = Language()\n",
    "l.version"
   ]
  },
  {
   "cell_type": "code",
   "execution_count": null,
   "id": "edc59820",
   "metadata": {},
   "outputs": [],
   "source": [
    "l.cls_version()"
   ]
  },
  {
   "cell_type": "code",
   "execution_count": null,
   "id": "30ba81a5",
   "metadata": {},
   "outputs": [],
   "source": [
    "l.static_version()"
   ]
  },
  {
   "cell_type": "code",
   "execution_count": null,
   "id": "ad5c0fc4",
   "metadata": {},
   "outputs": [],
   "source": [
    "class Language:\n",
    "    MAJOR = 3\n",
    "    MINOR = 7\n",
    "    REVISION = 4\n",
    "    \n",
    "def full_version():\n",
    "        return '{}.{}.{}'.format(Language.MAJOR, Language.MINOR, Language.REVISION)"
   ]
  },
  {
   "cell_type": "code",
   "execution_count": null,
   "id": "e9b229ac",
   "metadata": {},
   "outputs": [],
   "source": [
    "full_version()"
   ]
  },
  {
   "cell_type": "code",
   "execution_count": null,
   "id": "73b1ac8e",
   "metadata": {},
   "outputs": [],
   "source": [
    "class Language:\n",
    "    MAJOR = 3\n",
    "    MINOR = 7\n",
    "    REVISION = 4\n",
    "    \n",
    "    version = full_version"
   ]
  },
  {
   "cell_type": "code",
   "execution_count": null,
   "id": "9931eaf5",
   "metadata": {},
   "outputs": [],
   "source": [
    "Language.version is full_version"
   ]
  },
  {
   "cell_type": "code",
   "execution_count": null,
   "id": "477d3cc6",
   "metadata": {},
   "outputs": [],
   "source": [
    "Language.version()"
   ]
  },
  {
   "cell_type": "code",
   "execution_count": null,
   "id": "fd7b2fdf",
   "metadata": {},
   "outputs": [],
   "source": [
    "# scope of major, minor and revision is not defined in this case\n",
    "def full_version():\n",
    "        return '{}.{}.{}'.format(MAJOR, MINOR, REVISION)\n",
    "\n",
    "class Language:\n",
    "    MAJOR = 3\n",
    "    MINOR = 7\n",
    "    REVISION = 4\n",
    "    \n",
    "    version = full_version"
   ]
  },
  {
   "cell_type": "code",
   "execution_count": null,
   "id": "3f28359a",
   "metadata": {},
   "outputs": [],
   "source": [
    "full_version() # error as expected"
   ]
  },
  {
   "cell_type": "code",
   "execution_count": null,
   "id": "b6dbd6f1",
   "metadata": {},
   "outputs": [],
   "source": [
    "\n",
    "class Language:\n",
    "    MAJOR = 3\n",
    "    MINOR = 7\n",
    "    REVISION = 4\n",
    "    \n",
    "    def version(self):\n",
    "            return '{}.{}.{}'.format(MAJOR, MINOR, REVISION)"
   ]
  },
  {
   "cell_type": "code",
   "execution_count": null,
   "id": "6d3b28b9",
   "metadata": {},
   "outputs": [],
   "source": [
    "l = Language()\n",
    "l.version() # scope of major is self which is not defined"
   ]
  },
  {
   "cell_type": "code",
   "execution_count": null,
   "id": "45d8bd29",
   "metadata": {},
   "outputs": [],
   "source": [
    "MAJOR = 3\n",
    "MINOR = 7\n",
    "REVISION = 4\n",
    "\n",
    "def gen_class():\n",
    "    MAJOR = 0\n",
    "    MINOR = 4\n",
    "    REVISION = 2\n",
    "    \n",
    "    class Language:\n",
    "        MAJOR = 3\n",
    "        MINOR = 7\n",
    "        REVISION = 4\n",
    "        \n",
    "        \n",
    "        @classmethod\n",
    "        def version(cls):\n",
    "            return '{}.{}.{}'.format(MAJOR, MINOR, REVISION)\n",
    "        \n",
    "    return Language     \n",
    "        "
   ]
  },
  {
   "cell_type": "code",
   "execution_count": null,
   "id": "f367a8e6",
   "metadata": {},
   "outputs": [],
   "source": [
    "cls = gen_class()"
   ]
  },
  {
   "cell_type": "code",
   "execution_count": null,
   "id": "1a0b70e0",
   "metadata": {},
   "outputs": [],
   "source": [
    "cls.version() # gets variable from outer scope"
   ]
  },
  {
   "cell_type": "code",
   "execution_count": null,
   "id": "5869719f",
   "metadata": {},
   "outputs": [],
   "source": [
    "import inspect"
   ]
  },
  {
   "cell_type": "code",
   "execution_count": null,
   "id": "de74b810",
   "metadata": {},
   "outputs": [],
   "source": [
    "inspect.getclosurevars(cls.version)"
   ]
  },
  {
   "cell_type": "code",
   "execution_count": 1,
   "id": "215865f3",
   "metadata": {},
   "outputs": [],
   "source": [
    "### after kernel restart"
   ]
  },
  {
   "cell_type": "code",
   "execution_count": 2,
   "id": "58123de8",
   "metadata": {},
   "outputs": [],
   "source": [
    "name = 'XYZ'\n",
    "\n",
    "class MyClass:\n",
    "    name = 'abc'\n",
    "    list_1 = [name]*3\n",
    "    list_2 = [name for i in range(3)]\n",
    "    \n",
    "    \n",
    "    @classmethod\n",
    "    def hello(cls):\n",
    "        return '{} says hello'.format(name)"
   ]
  },
  {
   "cell_type": "code",
   "execution_count": 3,
   "id": "e359c0fe",
   "metadata": {},
   "outputs": [
    {
     "data": {
      "text/plain": [
       "'XYZ says hello'"
      ]
     },
     "execution_count": 3,
     "metadata": {},
     "output_type": "execute_result"
    }
   ],
   "source": [
    "MyClass.hello() # name comes from out of class"
   ]
  },
  {
   "cell_type": "code",
   "execution_count": 4,
   "id": "9989f70c",
   "metadata": {},
   "outputs": [
    {
     "data": {
      "text/plain": [
       "['abc', 'abc', 'abc']"
      ]
     },
     "execution_count": 4,
     "metadata": {},
     "output_type": "execute_result"
    }
   ],
   "source": [
    "MyClass.list_1 # comes from class"
   ]
  },
  {
   "cell_type": "code",
   "execution_count": 5,
   "id": "c8c52c82",
   "metadata": {},
   "outputs": [
    {
     "data": {
      "text/plain": [
       "['XYZ', 'XYZ', 'XYZ']"
      ]
     },
     "execution_count": 5,
     "metadata": {},
     "output_type": "execute_result"
    }
   ],
   "source": [
    "MyClass.list_2 # list_2 is comprehension i.e. function which references name from out of class"
   ]
  },
  {
   "cell_type": "code",
   "execution_count": null,
   "id": "ef3024f4",
   "metadata": {},
   "outputs": [],
   "source": []
  }
 ],
 "metadata": {
  "kernelspec": {
   "display_name": "Python 3 (ipykernel)",
   "language": "python",
   "name": "python3"
  },
  "language_info": {
   "codemirror_mode": {
    "name": "ipython",
    "version": 3
   },
   "file_extension": ".py",
   "mimetype": "text/x-python",
   "name": "python",
   "nbconvert_exporter": "python",
   "pygments_lexer": "ipython3",
   "version": "3.11.4"
  }
 },
 "nbformat": 4,
 "nbformat_minor": 5
}
