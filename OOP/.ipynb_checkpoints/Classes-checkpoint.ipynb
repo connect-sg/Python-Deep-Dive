{
 "cells": [
  {
   "cell_type": "code",
   "execution_count": 1,
   "id": "99ca3e62",
   "metadata": {},
   "outputs": [],
   "source": [
    "# Objects\n",
    "# Classes\n",
    "# Instantiating and initalization\n",
    "# class and instance attributes \n",
    "    # data\n",
    "    # functions\n",
    "# Bindings\n",
    "    # instance method\n",
    "    # class methods\n",
    "    # static methods\n",
    "# properties\n"
   ]
  },
  {
   "cell_type": "markdown",
   "id": "cff91546",
   "metadata": {},
   "source": [
    "# Objects and classes "
   ]
  },
  {
   "cell_type": "code",
   "execution_count": 2,
   "id": "47a58615",
   "metadata": {},
   "outputs": [],
   "source": [
    "# object - is a container -> state -> attributes\n",
    "# contains functionality -> behaviour -> methods"
   ]
  },
  {
   "cell_type": "markdown",
   "id": "6ed903ba",
   "metadata": {},
   "source": [
    "### Class Attributes setattr, getattr, delattr"
   ]
  },
  {
   "cell_type": "code",
   "execution_count": 4,
   "id": "fc582326",
   "metadata": {},
   "outputs": [],
   "source": [
    "class Person:\n",
    "    pass"
   ]
  },
  {
   "cell_type": "code",
   "execution_count": 5,
   "id": "9bfbda10",
   "metadata": {},
   "outputs": [
    {
     "data": {
      "text/plain": [
       "'Person'"
      ]
     },
     "execution_count": 5,
     "metadata": {},
     "output_type": "execute_result"
    }
   ],
   "source": [
    "Person.__name__"
   ]
  },
  {
   "cell_type": "code",
   "execution_count": 6,
   "id": "a1bd1f36",
   "metadata": {},
   "outputs": [],
   "source": [
    "class Program:\n",
    "    language = 'Python'\n",
    "    version = '3.6'"
   ]
  },
  {
   "cell_type": "code",
   "execution_count": 7,
   "id": "9d83a2c6",
   "metadata": {},
   "outputs": [
    {
     "data": {
      "text/plain": [
       "'Program'"
      ]
     },
     "execution_count": 7,
     "metadata": {},
     "output_type": "execute_result"
    }
   ],
   "source": [
    "Program.__name__"
   ]
  },
  {
   "cell_type": "code",
   "execution_count": 8,
   "id": "d7c1f988",
   "metadata": {},
   "outputs": [
    {
     "data": {
      "text/plain": [
       "type"
      ]
     },
     "execution_count": 8,
     "metadata": {},
     "output_type": "execute_result"
    }
   ],
   "source": [
    "type(Program)"
   ]
  },
  {
   "cell_type": "code",
   "execution_count": 9,
   "id": "1eaf55fd",
   "metadata": {},
   "outputs": [
    {
     "data": {
      "text/plain": [
       "'Python'"
      ]
     },
     "execution_count": 9,
     "metadata": {},
     "output_type": "execute_result"
    }
   ],
   "source": [
    "Program.language"
   ]
  },
  {
   "cell_type": "code",
   "execution_count": 10,
   "id": "9df8d2a1",
   "metadata": {},
   "outputs": [
    {
     "data": {
      "text/plain": [
       "'3.6'"
      ]
     },
     "execution_count": 10,
     "metadata": {},
     "output_type": "execute_result"
    }
   ],
   "source": [
    "Program.version"
   ]
  },
  {
   "cell_type": "code",
   "execution_count": 11,
   "id": "b64f4b60",
   "metadata": {},
   "outputs": [],
   "source": [
    "# mutated value for attribute in class\n",
    "Program.version = '3.7'"
   ]
  },
  {
   "cell_type": "code",
   "execution_count": 12,
   "id": "d97d6c77",
   "metadata": {},
   "outputs": [
    {
     "data": {
      "text/plain": [
       "'3.7'"
      ]
     },
     "execution_count": 12,
     "metadata": {},
     "output_type": "execute_result"
    }
   ],
   "source": [
    "Program.version"
   ]
  },
  {
   "cell_type": "code",
   "execution_count": 13,
   "id": "a546c781",
   "metadata": {},
   "outputs": [
    {
     "data": {
      "text/plain": [
       "'3.7'"
      ]
     },
     "execution_count": 13,
     "metadata": {},
     "output_type": "execute_result"
    }
   ],
   "source": [
    "getattr(Program, 'version')"
   ]
  },
  {
   "cell_type": "code",
   "execution_count": 14,
   "id": "35f8a67f",
   "metadata": {},
   "outputs": [],
   "source": [
    "setattr(Program, 'version', '3.6')"
   ]
  },
  {
   "cell_type": "code",
   "execution_count": 15,
   "id": "b48a1e08",
   "metadata": {},
   "outputs": [
    {
     "data": {
      "text/plain": [
       "'3.6'"
      ]
     },
     "execution_count": 15,
     "metadata": {},
     "output_type": "execute_result"
    }
   ],
   "source": [
    "getattr(Program, 'version')"
   ]
  },
  {
   "cell_type": "code",
   "execution_count": 16,
   "id": "cc0b1064",
   "metadata": {},
   "outputs": [
    {
     "ename": "AttributeError",
     "evalue": "type object 'Program' has no attribute 'x'",
     "output_type": "error",
     "traceback": [
      "\u001b[0;31m---------------------------------------------------------------------------\u001b[0m",
      "\u001b[0;31mAttributeError\u001b[0m                            Traceback (most recent call last)",
      "Cell \u001b[0;32mIn[16], line 2\u001b[0m\n\u001b[1;32m      1\u001b[0m \u001b[38;5;66;03m# try to retrieve object that doesn;t exist\u001b[39;00m\n\u001b[0;32m----> 2\u001b[0m \u001b[38;5;28mgetattr\u001b[39m(Program, \u001b[38;5;124m'\u001b[39m\u001b[38;5;124mx\u001b[39m\u001b[38;5;124m'\u001b[39m)\n",
      "\u001b[0;31mAttributeError\u001b[0m: type object 'Program' has no attribute 'x'"
     ]
    }
   ],
   "source": [
    "# try to retrieve object that doesn;t exist\n",
    "getattr(Program, 'x')"
   ]
  },
  {
   "cell_type": "code",
   "execution_count": 17,
   "id": "714ced46",
   "metadata": {},
   "outputs": [
    {
     "data": {
      "text/plain": [
       "'N/A'"
      ]
     },
     "execution_count": 17,
     "metadata": {},
     "output_type": "execute_result"
    }
   ],
   "source": [
    "getattr(Program, 'x','N/A') # pass default value so it doesn't throw error"
   ]
  },
  {
   "cell_type": "code",
   "execution_count": 18,
   "id": "77bf9f0c",
   "metadata": {},
   "outputs": [
    {
     "data": {
      "text/plain": [
       "'N/A'"
      ]
     },
     "execution_count": 18,
     "metadata": {},
     "output_type": "execute_result"
    }
   ],
   "source": [
    "getattr('hello','x','N/A')"
   ]
  },
  {
   "cell_type": "code",
   "execution_count": 19,
   "id": "9f1a291f",
   "metadata": {},
   "outputs": [],
   "source": [
    "Program.x = 100"
   ]
  },
  {
   "cell_type": "code",
   "execution_count": 20,
   "id": "14c8c14f",
   "metadata": {},
   "outputs": [
    {
     "data": {
      "text/plain": [
       "100"
      ]
     },
     "execution_count": 20,
     "metadata": {},
     "output_type": "execute_result"
    }
   ],
   "source": [
    "Program.x"
   ]
  },
  {
   "cell_type": "code",
   "execution_count": 22,
   "id": "0e2bde93",
   "metadata": {},
   "outputs": [
    {
     "data": {
      "text/plain": [
       "mappingproxy({'__module__': '__main__',\n",
       "              'language': 'Python',\n",
       "              'version': '3.6',\n",
       "              '__dict__': <attribute '__dict__' of 'Program' objects>,\n",
       "              '__weakref__': <attribute '__weakref__' of 'Program' objects>,\n",
       "              '__doc__': None,\n",
       "              'x': 100})"
      ]
     },
     "execution_count": 22,
     "metadata": {},
     "output_type": "execute_result"
    }
   ],
   "source": [
    "Program.__dict__"
   ]
  },
  {
   "cell_type": "code",
   "execution_count": 23,
   "id": "db650331",
   "metadata": {},
   "outputs": [
    {
     "data": {
      "text/plain": [
       "'Python'"
      ]
     },
     "execution_count": 23,
     "metadata": {},
     "output_type": "execute_result"
    }
   ],
   "source": [
    "Program.__dict__['language']"
   ]
  },
  {
   "cell_type": "code",
   "execution_count": 24,
   "id": "93e8be9e",
   "metadata": {},
   "outputs": [],
   "source": [
    "setattr(Program, 'version', '3.8')"
   ]
  },
  {
   "cell_type": "code",
   "execution_count": 25,
   "id": "125845b3",
   "metadata": {},
   "outputs": [
    {
     "data": {
      "text/plain": [
       "mappingproxy({'__module__': '__main__',\n",
       "              'language': 'Python',\n",
       "              'version': '3.8',\n",
       "              '__dict__': <attribute '__dict__' of 'Program' objects>,\n",
       "              '__weakref__': <attribute '__weakref__' of 'Program' objects>,\n",
       "              '__doc__': None,\n",
       "              'x': 100})"
      ]
     },
     "execution_count": 25,
     "metadata": {},
     "output_type": "execute_result"
    }
   ],
   "source": [
    "Program.__dict__"
   ]
  },
  {
   "cell_type": "code",
   "execution_count": 26,
   "id": "b796683b",
   "metadata": {},
   "outputs": [],
   "source": [
    "delattr(Program,'x')"
   ]
  },
  {
   "cell_type": "code",
   "execution_count": 27,
   "id": "fc22fce0",
   "metadata": {},
   "outputs": [
    {
     "data": {
      "text/plain": [
       "mappingproxy({'__module__': '__main__',\n",
       "              'language': 'Python',\n",
       "              'version': '3.8',\n",
       "              '__dict__': <attribute '__dict__' of 'Program' objects>,\n",
       "              '__weakref__': <attribute '__weakref__' of 'Program' objects>,\n",
       "              '__doc__': None})"
      ]
     },
     "execution_count": 27,
     "metadata": {},
     "output_type": "execute_result"
    }
   ],
   "source": [
    "Program.__dict__ # x is deleted"
   ]
  },
  {
   "cell_type": "code",
   "execution_count": 28,
   "id": "5da0524f",
   "metadata": {},
   "outputs": [],
   "source": [
    "Program.y = 'hello'"
   ]
  },
  {
   "cell_type": "code",
   "execution_count": 29,
   "id": "b2687676",
   "metadata": {},
   "outputs": [
    {
     "data": {
      "text/plain": [
       "mappingproxy({'__module__': '__main__',\n",
       "              'language': 'Python',\n",
       "              'version': '3.8',\n",
       "              '__dict__': <attribute '__dict__' of 'Program' objects>,\n",
       "              '__weakref__': <attribute '__weakref__' of 'Program' objects>,\n",
       "              '__doc__': None,\n",
       "              'y': 'hello'})"
      ]
     },
     "execution_count": 29,
     "metadata": {},
     "output_type": "execute_result"
    }
   ],
   "source": [
    "Program.__dict__"
   ]
  },
  {
   "cell_type": "code",
   "execution_count": 30,
   "id": "8917f6cc",
   "metadata": {},
   "outputs": [],
   "source": [
    "del Program.y"
   ]
  },
  {
   "cell_type": "code",
   "execution_count": 31,
   "id": "ed11a3ad",
   "metadata": {},
   "outputs": [
    {
     "data": {
      "text/plain": [
       "mappingproxy({'__module__': '__main__',\n",
       "              'language': 'Python',\n",
       "              'version': '3.8',\n",
       "              '__dict__': <attribute '__dict__' of 'Program' objects>,\n",
       "              '__weakref__': <attribute '__weakref__' of 'Program' objects>,\n",
       "              '__doc__': None})"
      ]
     },
     "execution_count": 31,
     "metadata": {},
     "output_type": "execute_result"
    }
   ],
   "source": [
    "Program.__dict__"
   ]
  },
  {
   "cell_type": "code",
   "execution_count": 32,
   "id": "755e0d93",
   "metadata": {},
   "outputs": [
    {
     "data": {
      "text/plain": [
       "[('__module__', '__main__'),\n",
       " ('language', 'Python'),\n",
       " ('version', '3.8'),\n",
       " ('__dict__', <attribute '__dict__' of 'Program' objects>),\n",
       " ('__weakref__', <attribute '__weakref__' of 'Program' objects>),\n",
       " ('__doc__', None)]"
      ]
     },
     "execution_count": 32,
     "metadata": {},
     "output_type": "execute_result"
    }
   ],
   "source": [
    "list(Program.__dict__.items())"
   ]
  },
  {
   "cell_type": "code",
   "execution_count": 34,
   "id": "0d432650",
   "metadata": {},
   "outputs": [
    {
     "data": {
      "text/plain": [
       "'Program'"
      ]
     },
     "execution_count": 34,
     "metadata": {},
     "output_type": "execute_result"
    }
   ],
   "source": [
    "# not everything for class is stored in dictionary\n",
    "# for example __name__\n",
    "Program.__name__"
   ]
  },
  {
   "cell_type": "markdown",
   "id": "d496213a",
   "metadata": {},
   "source": [
    "### Setting an attribute value to a callable"
   ]
  },
  {
   "cell_type": "code",
   "execution_count": 36,
   "id": "38dd305a",
   "metadata": {},
   "outputs": [],
   "source": [
    "# callable Class Attributes"
   ]
  },
  {
   "cell_type": "code",
   "execution_count": 38,
   "id": "13c3711a",
   "metadata": {},
   "outputs": [],
   "source": [
    "class Program:\n",
    "    language = 'Python'\n",
    "    \n",
    "    \n",
    "    def say_hello():\n",
    "        print(f'Hello from {Program.language}')"
   ]
  },
  {
   "cell_type": "code",
   "execution_count": 39,
   "id": "c1c309f0",
   "metadata": {},
   "outputs": [
    {
     "data": {
      "text/plain": [
       "mappingproxy({'__module__': '__main__',\n",
       "              'language': 'Python',\n",
       "              'say_hello': <function __main__.Program.say_hello()>,\n",
       "              '__dict__': <attribute '__dict__' of 'Program' objects>,\n",
       "              '__weakref__': <attribute '__weakref__' of 'Program' objects>,\n",
       "              '__doc__': None})"
      ]
     },
     "execution_count": 39,
     "metadata": {},
     "output_type": "execute_result"
    }
   ],
   "source": [
    "Program.__dict__"
   ]
  },
  {
   "cell_type": "code",
   "execution_count": 40,
   "id": "795b2445",
   "metadata": {},
   "outputs": [
    {
     "data": {
      "text/plain": [
       "(<function __main__.Program.say_hello()>,\n",
       " <function __main__.Program.say_hello()>)"
      ]
     },
     "execution_count": 40,
     "metadata": {},
     "output_type": "execute_result"
    }
   ],
   "source": [
    "Program.say_hello, getattr(Program, 'say_hello')"
   ]
  },
  {
   "cell_type": "code",
   "execution_count": 41,
   "id": "6ee1d0fb",
   "metadata": {},
   "outputs": [
    {
     "name": "stdout",
     "output_type": "stream",
     "text": [
      "Hello from Python\n"
     ]
    }
   ],
   "source": [
    "Program.say_hello()"
   ]
  },
  {
   "cell_type": "code",
   "execution_count": 42,
   "id": "b782def8",
   "metadata": {},
   "outputs": [
    {
     "name": "stdout",
     "output_type": "stream",
     "text": [
      "Hello from Python\n"
     ]
    }
   ],
   "source": [
    "getattr(Program, 'say_hello')()"
   ]
  },
  {
   "cell_type": "code",
   "execution_count": 43,
   "id": "df2c1018",
   "metadata": {},
   "outputs": [
    {
     "name": "stdout",
     "output_type": "stream",
     "text": [
      "Hello from Python\n"
     ]
    }
   ],
   "source": [
    "Program.__dict__['say_hello']()"
   ]
  },
  {
   "cell_type": "markdown",
   "id": "41aba3a5",
   "metadata": {},
   "source": [
    "### Classes and callables"
   ]
  },
  {
   "cell_type": "code",
   "execution_count": 48,
   "id": "30dde744",
   "metadata": {},
   "outputs": [],
   "source": [
    "class Program:\n",
    "    language = 'Python'\n",
    "    \n",
    "    \n",
    "    def say_hello(self):\n",
    "        print(f'Hello from {Program.language}')   "
   ]
  },
  {
   "cell_type": "code",
   "execution_count": 49,
   "id": "9166c993",
   "metadata": {},
   "outputs": [],
   "source": [
    "p = Program()"
   ]
  },
  {
   "cell_type": "code",
   "execution_count": 50,
   "id": "34986eff",
   "metadata": {},
   "outputs": [
    {
     "data": {
      "text/plain": [
       "'Python'"
      ]
     },
     "execution_count": 50,
     "metadata": {},
     "output_type": "execute_result"
    }
   ],
   "source": [
    "p.language"
   ]
  },
  {
   "cell_type": "code",
   "execution_count": 51,
   "id": "d41734a7",
   "metadata": {},
   "outputs": [
    {
     "name": "stdout",
     "output_type": "stream",
     "text": [
      "Hello from Python\n"
     ]
    }
   ],
   "source": [
    "p.say_hello()"
   ]
  },
  {
   "cell_type": "code",
   "execution_count": 53,
   "id": "f9fb12a7",
   "metadata": {},
   "outputs": [
    {
     "data": {
      "text/plain": [
       "True"
      ]
     },
     "execution_count": 53,
     "metadata": {},
     "output_type": "execute_result"
    }
   ],
   "source": [
    "isinstance(p, Program)"
   ]
  },
  {
   "cell_type": "code",
   "execution_count": 54,
   "id": "ee9a000e",
   "metadata": {},
   "outputs": [
    {
     "data": {
      "text/plain": [
       "{}"
      ]
     },
     "execution_count": 54,
     "metadata": {},
     "output_type": "execute_result"
    }
   ],
   "source": [
    "p.__dict__"
   ]
  },
  {
   "cell_type": "code",
   "execution_count": 55,
   "id": "11c6c90f",
   "metadata": {},
   "outputs": [
    {
     "data": {
      "text/plain": [
       "mappingproxy({'__module__': '__main__',\n",
       "              'language': 'Python',\n",
       "              'say_hello': <function __main__.Program.say_hello(self)>,\n",
       "              '__dict__': <attribute '__dict__' of 'Program' objects>,\n",
       "              '__weakref__': <attribute '__weakref__' of 'Program' objects>,\n",
       "              '__doc__': None})"
      ]
     },
     "execution_count": 55,
     "metadata": {},
     "output_type": "execute_result"
    }
   ],
   "source": [
    "Program.__dict__"
   ]
  },
  {
   "cell_type": "code",
   "execution_count": 56,
   "id": "b1da597b",
   "metadata": {},
   "outputs": [
    {
     "data": {
      "text/plain": [
       "__main__.Program"
      ]
     },
     "execution_count": 56,
     "metadata": {},
     "output_type": "execute_result"
    }
   ],
   "source": [
    "p.__class__"
   ]
  },
  {
   "cell_type": "code",
   "execution_count": 57,
   "id": "b4823864",
   "metadata": {},
   "outputs": [
    {
     "data": {
      "text/plain": [
       "__main__.Program"
      ]
     },
     "execution_count": 57,
     "metadata": {},
     "output_type": "execute_result"
    }
   ],
   "source": [
    "type(p)"
   ]
  },
  {
   "cell_type": "code",
   "execution_count": 59,
   "id": "7432de4b",
   "metadata": {},
   "outputs": [],
   "source": [
    "class Myclass:\n",
    "    pass"
   ]
  },
  {
   "cell_type": "code",
   "execution_count": 60,
   "id": "6a274109",
   "metadata": {},
   "outputs": [],
   "source": [
    "m = Myclass()"
   ]
  },
  {
   "cell_type": "code",
   "execution_count": 61,
   "id": "35e2cf95",
   "metadata": {},
   "outputs": [
    {
     "data": {
      "text/plain": [
       "(__main__.Myclass, __main__.Myclass)"
      ]
     },
     "execution_count": 61,
     "metadata": {},
     "output_type": "execute_result"
    }
   ],
   "source": [
    "type(m), m.__class__"
   ]
  },
  {
   "cell_type": "code",
   "execution_count": 63,
   "id": "4ea63357",
   "metadata": {},
   "outputs": [],
   "source": [
    "class Myclass:\n",
    "    __class__ = str"
   ]
  },
  {
   "cell_type": "code",
   "execution_count": 64,
   "id": "8c73e1c8",
   "metadata": {},
   "outputs": [],
   "source": [
    "m = Myclass()"
   ]
  },
  {
   "cell_type": "code",
   "execution_count": 65,
   "id": "5deb8116",
   "metadata": {},
   "outputs": [
    {
     "data": {
      "text/plain": [
       "(__main__.Myclass, str)"
      ]
     },
     "execution_count": 65,
     "metadata": {},
     "output_type": "execute_result"
    }
   ],
   "source": [
    "type(m), m.__class__ # type and __class__ are not always same as for this example"
   ]
  },
  {
   "cell_type": "code",
   "execution_count": 67,
   "id": "8a10b85c",
   "metadata": {},
   "outputs": [
    {
     "data": {
      "text/plain": [
       "True"
      ]
     },
     "execution_count": 67,
     "metadata": {},
     "output_type": "execute_result"
    }
   ],
   "source": [
    "isinstance(m, Myclass)"
   ]
  },
  {
   "cell_type": "code",
   "execution_count": 68,
   "id": "d684c001",
   "metadata": {},
   "outputs": [
    {
     "data": {
      "text/plain": [
       "True"
      ]
     },
     "execution_count": 68,
     "metadata": {},
     "output_type": "execute_result"
    }
   ],
   "source": [
    "isinstance(m, str)"
   ]
  },
  {
   "cell_type": "code",
   "execution_count": 69,
   "id": "8516c8a2",
   "metadata": {},
   "outputs": [
    {
     "data": {
      "text/plain": [
       "False"
      ]
     },
     "execution_count": 69,
     "metadata": {},
     "output_type": "execute_result"
    }
   ],
   "source": [
    "isinstance(m, int)"
   ]
  },
  {
   "cell_type": "markdown",
   "id": "f6c9fd4a",
   "metadata": {},
   "source": [
    "### Data Attributes"
   ]
  },
  {
   "cell_type": "code",
   "execution_count": 70,
   "id": "57d976a4",
   "metadata": {},
   "outputs": [],
   "source": [
    "class Myclass:\n",
    "    language = 'Python'\n",
    "    "
   ]
  },
  {
   "cell_type": "code",
   "execution_count": 71,
   "id": "1220c9a6",
   "metadata": {},
   "outputs": [],
   "source": [
    "my_obj = Myclass()"
   ]
  },
  {
   "cell_type": "code",
   "execution_count": 72,
   "id": "f0a81eb0",
   "metadata": {},
   "outputs": [
    {
     "data": {
      "text/plain": [
       "mappingproxy({'__module__': '__main__',\n",
       "              'language': 'Python',\n",
       "              '__dict__': <attribute '__dict__' of 'Myclass' objects>,\n",
       "              '__weakref__': <attribute '__weakref__' of 'Myclass' objects>,\n",
       "              '__doc__': None})"
      ]
     },
     "execution_count": 72,
     "metadata": {},
     "output_type": "execute_result"
    }
   ],
   "source": [
    "Myclass.__dict__"
   ]
  },
  {
   "cell_type": "code",
   "execution_count": 73,
   "id": "84f4962f",
   "metadata": {},
   "outputs": [
    {
     "data": {
      "text/plain": [
       "{}"
      ]
     },
     "execution_count": 73,
     "metadata": {},
     "output_type": "execute_result"
    }
   ],
   "source": [
    "my_obj.__dict__"
   ]
  },
  {
   "cell_type": "code",
   "execution_count": 74,
   "id": "bce87f94",
   "metadata": {},
   "outputs": [
    {
     "data": {
      "text/plain": [
       "'Python'"
      ]
     },
     "execution_count": 74,
     "metadata": {},
     "output_type": "execute_result"
    }
   ],
   "source": [
    "Myclass.language"
   ]
  },
  {
   "cell_type": "code",
   "execution_count": 77,
   "id": "9b7fab91",
   "metadata": {},
   "outputs": [
    {
     "data": {
      "text/plain": [
       "'Python'"
      ]
     },
     "execution_count": 77,
     "metadata": {},
     "output_type": "execute_result"
    }
   ],
   "source": [
    "my_obj.language # it doesn't find in instance then it goes up in class and finds it there"
   ]
  },
  {
   "cell_type": "code",
   "execution_count": 80,
   "id": "20fe0dc4",
   "metadata": {},
   "outputs": [],
   "source": [
    "my_obj.language = 'java' # setting attribute at instance level"
   ]
  },
  {
   "cell_type": "code",
   "execution_count": 81,
   "id": "8ddb8e1e",
   "metadata": {},
   "outputs": [
    {
     "data": {
      "text/plain": [
       "{'language': 'java'}"
      ]
     },
     "execution_count": 81,
     "metadata": {},
     "output_type": "execute_result"
    }
   ],
   "source": [
    "my_obj.__dict__"
   ]
  },
  {
   "cell_type": "code",
   "execution_count": 82,
   "id": "235acb62",
   "metadata": {},
   "outputs": [
    {
     "data": {
      "text/plain": [
       "mappingproxy({'__module__': '__main__',\n",
       "              'language': 'Python',\n",
       "              '__dict__': <attribute '__dict__' of 'Myclass' objects>,\n",
       "              '__weakref__': <attribute '__weakref__' of 'Myclass' objects>,\n",
       "              '__doc__': None})"
      ]
     },
     "execution_count": 82,
     "metadata": {},
     "output_type": "execute_result"
    }
   ],
   "source": [
    "Myclass.__dict__"
   ]
  },
  {
   "cell_type": "code",
   "execution_count": 83,
   "id": "2e904012",
   "metadata": {},
   "outputs": [
    {
     "data": {
      "text/plain": [
       "'java'"
      ]
     },
     "execution_count": 83,
     "metadata": {},
     "output_type": "execute_result"
    }
   ],
   "source": [
    "my_obj.language # language overridden at instance level"
   ]
  },
  {
   "cell_type": "code",
   "execution_count": 84,
   "id": "befa2367",
   "metadata": {},
   "outputs": [],
   "source": [
    "class BankAccount:\n",
    "    apr = 1.2"
   ]
  },
  {
   "cell_type": "code",
   "execution_count": 85,
   "id": "d8b5a2fe",
   "metadata": {},
   "outputs": [
    {
     "data": {
      "text/plain": [
       "mappingproxy({'__module__': '__main__',\n",
       "              'apr': 1.2,\n",
       "              '__dict__': <attribute '__dict__' of 'BankAccount' objects>,\n",
       "              '__weakref__': <attribute '__weakref__' of 'BankAccount' objects>,\n",
       "              '__doc__': None})"
      ]
     },
     "execution_count": 85,
     "metadata": {},
     "output_type": "execute_result"
    }
   ],
   "source": [
    "BankAccount.__dict__"
   ]
  },
  {
   "cell_type": "code",
   "execution_count": 86,
   "id": "9ecd399a",
   "metadata": {},
   "outputs": [
    {
     "data": {
      "text/plain": [
       "1.2"
      ]
     },
     "execution_count": 86,
     "metadata": {},
     "output_type": "execute_result"
    }
   ],
   "source": [
    "BankAccount.apr"
   ]
  },
  {
   "cell_type": "code",
   "execution_count": 87,
   "id": "32a70279",
   "metadata": {},
   "outputs": [],
   "source": [
    "acc_1 = BankAccount()"
   ]
  },
  {
   "cell_type": "code",
   "execution_count": 88,
   "id": "5eef534d",
   "metadata": {},
   "outputs": [],
   "source": [
    "acc_2 = BankAccount()"
   ]
  },
  {
   "cell_type": "code",
   "execution_count": 89,
   "id": "a883659c",
   "metadata": {},
   "outputs": [
    {
     "data": {
      "text/plain": [
       "({}, {})"
      ]
     },
     "execution_count": 89,
     "metadata": {},
     "output_type": "execute_result"
    }
   ],
   "source": [
    "acc_1.__dict__, acc_2.__dict__"
   ]
  },
  {
   "cell_type": "code",
   "execution_count": 90,
   "id": "43c57073",
   "metadata": {},
   "outputs": [
    {
     "data": {
      "text/plain": [
       "(1.2, 1.2)"
      ]
     },
     "execution_count": 90,
     "metadata": {},
     "output_type": "execute_result"
    }
   ],
   "source": [
    "acc_1.apr, acc_2.apr"
   ]
  },
  {
   "cell_type": "code",
   "execution_count": 91,
   "id": "c57c2c08",
   "metadata": {},
   "outputs": [],
   "source": [
    "BankAccount.account_type = 'savings'"
   ]
  },
  {
   "cell_type": "code",
   "execution_count": 92,
   "id": "ea6de43e",
   "metadata": {},
   "outputs": [
    {
     "data": {
      "text/plain": [
       "('savings', 'savings')"
      ]
     },
     "execution_count": 92,
     "metadata": {},
     "output_type": "execute_result"
    }
   ],
   "source": [
    "acc_1.account_type, acc_2.account_type"
   ]
  },
  {
   "cell_type": "code",
   "execution_count": 93,
   "id": "d6c32529",
   "metadata": {},
   "outputs": [],
   "source": [
    "acc_1.apr = 0"
   ]
  },
  {
   "cell_type": "code",
   "execution_count": 94,
   "id": "5eade45d",
   "metadata": {},
   "outputs": [
    {
     "data": {
      "text/plain": [
       "({'apr': 0}, {})"
      ]
     },
     "execution_count": 94,
     "metadata": {},
     "output_type": "execute_result"
    }
   ],
   "source": [
    "acc_1.__dict__, acc_2.__dict__"
   ]
  },
  {
   "cell_type": "code",
   "execution_count": 95,
   "id": "e0a08dfb",
   "metadata": {},
   "outputs": [
    {
     "data": {
      "text/plain": [
       "(0, 1.2)"
      ]
     },
     "execution_count": 95,
     "metadata": {},
     "output_type": "execute_result"
    }
   ],
   "source": [
    "acc_1.apr, acc_2.apr"
   ]
  },
  {
   "cell_type": "code",
   "execution_count": 97,
   "id": "70baedb2",
   "metadata": {},
   "outputs": [],
   "source": [
    "setattr(acc_2, 'apr', 10)"
   ]
  },
  {
   "cell_type": "code",
   "execution_count": 98,
   "id": "204da0d5",
   "metadata": {},
   "outputs": [
    {
     "data": {
      "text/plain": [
       "{'apr': 10}"
      ]
     },
     "execution_count": 98,
     "metadata": {},
     "output_type": "execute_result"
    }
   ],
   "source": [
    "acc_2.__dict__"
   ]
  },
  {
   "cell_type": "code",
   "execution_count": 99,
   "id": "0e172536",
   "metadata": {},
   "outputs": [],
   "source": [
    "acc_1.bank = 'xyz'"
   ]
  },
  {
   "cell_type": "code",
   "execution_count": 100,
   "id": "2f6b3b90",
   "metadata": {},
   "outputs": [
    {
     "data": {
      "text/plain": [
       "{'apr': 0, 'bank': 'xyz'}"
      ]
     },
     "execution_count": 100,
     "metadata": {},
     "output_type": "execute_result"
    }
   ],
   "source": [
    "acc_1.__dict__"
   ]
  },
  {
   "cell_type": "code",
   "execution_count": 101,
   "id": "e4ea6990",
   "metadata": {},
   "outputs": [
    {
     "data": {
      "text/plain": [
       "{'apr': 10}"
      ]
     },
     "execution_count": 101,
     "metadata": {},
     "output_type": "execute_result"
    }
   ],
   "source": [
    "acc_2.__dict__"
   ]
  },
  {
   "cell_type": "markdown",
   "id": "f11ff94b",
   "metadata": {},
   "source": [
    "### Function attributes"
   ]
  },
  {
   "cell_type": "code",
   "execution_count": 102,
   "id": "72408262",
   "metadata": {},
   "outputs": [],
   "source": [
    "class Person:\n",
    "    def say_hello():\n",
    "        print('Hello')"
   ]
  },
  {
   "cell_type": "code",
   "execution_count": 103,
   "id": "4bfa746a",
   "metadata": {},
   "outputs": [
    {
     "data": {
      "text/plain": [
       "<function __main__.Person.say_hello()>"
      ]
     },
     "execution_count": 103,
     "metadata": {},
     "output_type": "execute_result"
    }
   ],
   "source": [
    "Person.say_hello"
   ]
  },
  {
   "cell_type": "code",
   "execution_count": 104,
   "id": "4048f82c",
   "metadata": {},
   "outputs": [
    {
     "data": {
      "text/plain": [
       "function"
      ]
     },
     "execution_count": 104,
     "metadata": {},
     "output_type": "execute_result"
    }
   ],
   "source": [
    "type(Person.say_hello)"
   ]
  },
  {
   "cell_type": "code",
   "execution_count": 105,
   "id": "7d445356",
   "metadata": {},
   "outputs": [
    {
     "name": "stdout",
     "output_type": "stream",
     "text": [
      "Hello\n"
     ]
    }
   ],
   "source": [
    "Person.say_hello()"
   ]
  },
  {
   "cell_type": "code",
   "execution_count": 106,
   "id": "c047c70e",
   "metadata": {},
   "outputs": [],
   "source": [
    "p = Person()"
   ]
  },
  {
   "cell_type": "code",
   "execution_count": 107,
   "id": "ceeeb640",
   "metadata": {},
   "outputs": [
    {
     "data": {
      "text/plain": [
       "'0x110186950'"
      ]
     },
     "execution_count": 107,
     "metadata": {},
     "output_type": "execute_result"
    }
   ],
   "source": [
    "hex(id(p))"
   ]
  },
  {
   "cell_type": "code",
   "execution_count": 109,
   "id": "3c91ea66",
   "metadata": {},
   "outputs": [
    {
     "data": {
      "text/plain": [
       "<bound method Person.say_hello of <__main__.Person object at 0x110186950>>"
      ]
     },
     "execution_count": 109,
     "metadata": {},
     "output_type": "execute_result"
    }
   ],
   "source": [
    "p.say_hello # it doesn't return a function. Its now a method. "
   ]
  },
  {
   "cell_type": "code",
   "execution_count": 110,
   "id": "ecbb2653",
   "metadata": {},
   "outputs": [
    {
     "data": {
      "text/plain": [
       "method"
      ]
     },
     "execution_count": 110,
     "metadata": {},
     "output_type": "execute_result"
    }
   ],
   "source": [
    "type(p.say_hello)"
   ]
  },
  {
   "cell_type": "code",
   "execution_count": 111,
   "id": "f122f925",
   "metadata": {},
   "outputs": [
    {
     "data": {
      "text/plain": [
       "False"
      ]
     },
     "execution_count": 111,
     "metadata": {},
     "output_type": "execute_result"
    }
   ],
   "source": [
    "type(p.say_hello) is type(Person.say_hello)"
   ]
  },
  {
   "cell_type": "code",
   "execution_count": 114,
   "id": "e26b8803",
   "metadata": {},
   "outputs": [],
   "source": [
    "class Person:\n",
    "    def say_hello(*args):\n",
    "        print('Hello', args)"
   ]
  },
  {
   "cell_type": "code",
   "execution_count": 115,
   "id": "ab19645b",
   "metadata": {},
   "outputs": [
    {
     "name": "stdout",
     "output_type": "stream",
     "text": [
      "Hello ()\n"
     ]
    }
   ],
   "source": [
    "Person.say_hello() # didn't received any arguments"
   ]
  },
  {
   "cell_type": "code",
   "execution_count": 116,
   "id": "09765685",
   "metadata": {},
   "outputs": [],
   "source": [
    "p = Person() "
   ]
  },
  {
   "cell_type": "code",
   "execution_count": 117,
   "id": "8d795650",
   "metadata": {},
   "outputs": [
    {
     "name": "stdout",
     "output_type": "stream",
     "text": [
      "Hello (<__main__.Person object at 0x1101c0b90>,)\n"
     ]
    }
   ],
   "source": [
    "p.say_hello() # it received an argument i.e. p is injected as an argument in say_hello"
   ]
  },
  {
   "cell_type": "code",
   "execution_count": 118,
   "id": "e8188226",
   "metadata": {},
   "outputs": [],
   "source": [
    "class Person:\n",
    "    def set_name(instance_obj, new_name):\n",
    "        instance_obj.name = new_name\n",
    "        "
   ]
  },
  {
   "cell_type": "code",
   "execution_count": 119,
   "id": "98d71af8",
   "metadata": {},
   "outputs": [],
   "source": [
    "p = Person()"
   ]
  },
  {
   "cell_type": "code",
   "execution_count": 120,
   "id": "7b6a9e13",
   "metadata": {},
   "outputs": [],
   "source": [
    "p.set_name('Alex')"
   ]
  },
  {
   "cell_type": "code",
   "execution_count": 121,
   "id": "e3a22e11",
   "metadata": {},
   "outputs": [
    {
     "data": {
      "text/plain": [
       "{'name': 'Alex'}"
      ]
     },
     "execution_count": 121,
     "metadata": {},
     "output_type": "execute_result"
    }
   ],
   "source": [
    "p.__dict__"
   ]
  },
  {
   "cell_type": "code",
   "execution_count": 122,
   "id": "6b4ee0b0",
   "metadata": {},
   "outputs": [],
   "source": [
    "class Person:\n",
    "    def say_hello(self):\n",
    "        print(f'{self} say hello')"
   ]
  },
  {
   "cell_type": "code",
   "execution_count": 123,
   "id": "7afc650b",
   "metadata": {},
   "outputs": [
    {
     "data": {
      "text/plain": [
       "(<function __main__.Person.say_hello(self)>, '0x10f586f20')"
      ]
     },
     "execution_count": 123,
     "metadata": {},
     "output_type": "execute_result"
    }
   ],
   "source": [
    "Person.say_hello, hex(id(Person.say_hello))"
   ]
  },
  {
   "cell_type": "code",
   "execution_count": 124,
   "id": "d106b4ff",
   "metadata": {},
   "outputs": [],
   "source": [
    "p = Person()"
   ]
  },
  {
   "cell_type": "code",
   "execution_count": 125,
   "id": "7246ddcb",
   "metadata": {},
   "outputs": [
    {
     "data": {
      "text/plain": [
       "<bound method Person.say_hello of <__main__.Person object at 0x110186510>>"
      ]
     },
     "execution_count": 125,
     "metadata": {},
     "output_type": "execute_result"
    }
   ],
   "source": [
    "p.say_hello"
   ]
  },
  {
   "cell_type": "code",
   "execution_count": 126,
   "id": "1226411f",
   "metadata": {},
   "outputs": [],
   "source": [
    "m_hello = p.say_hello"
   ]
  },
  {
   "cell_type": "code",
   "execution_count": 127,
   "id": "c2fddbe3",
   "metadata": {},
   "outputs": [
    {
     "data": {
      "text/plain": [
       "<bound method Person.say_hello of <__main__.Person object at 0x110186510>>"
      ]
     },
     "execution_count": 127,
     "metadata": {},
     "output_type": "execute_result"
    }
   ],
   "source": [
    "m_hello"
   ]
  },
  {
   "cell_type": "code",
   "execution_count": 129,
   "id": "e9c5e7c1",
   "metadata": {},
   "outputs": [
    {
     "data": {
      "text/plain": [
       "<function __main__.Person.say_hello(self)>"
      ]
     },
     "execution_count": 129,
     "metadata": {},
     "output_type": "execute_result"
    }
   ],
   "source": [
    "m_hello.__func__"
   ]
  },
  {
   "cell_type": "code",
   "execution_count": 131,
   "id": "dd8a5bc8",
   "metadata": {},
   "outputs": [
    {
     "data": {
      "text/plain": [
       "'0x110186510'"
      ]
     },
     "execution_count": 131,
     "metadata": {},
     "output_type": "execute_result"
    }
   ],
   "source": [
    "hex(id(p))"
   ]
  },
  {
   "cell_type": "code",
   "execution_count": 132,
   "id": "91cf8052",
   "metadata": {},
   "outputs": [
    {
     "data": {
      "text/plain": [
       "<__main__.Person at 0x110186510>"
      ]
     },
     "execution_count": 132,
     "metadata": {},
     "output_type": "execute_result"
    }
   ],
   "source": [
    "m_hello.__self__"
   ]
  },
  {
   "cell_type": "code",
   "execution_count": 133,
   "id": "71fdd14d",
   "metadata": {},
   "outputs": [],
   "source": [
    "Person.do_work = lambda self: f'do_work called from {self}'"
   ]
  },
  {
   "cell_type": "code",
   "execution_count": 134,
   "id": "b9d57bf2",
   "metadata": {},
   "outputs": [
    {
     "data": {
      "text/plain": [
       "mappingproxy({'__module__': '__main__',\n",
       "              'say_hello': <function __main__.Person.say_hello(self)>,\n",
       "              '__dict__': <attribute '__dict__' of 'Person' objects>,\n",
       "              '__weakref__': <attribute '__weakref__' of 'Person' objects>,\n",
       "              '__doc__': None,\n",
       "              'do_work': <function __main__.<lambda>(self)>})"
      ]
     },
     "execution_count": 134,
     "metadata": {},
     "output_type": "execute_result"
    }
   ],
   "source": [
    "Person.__dict__"
   ]
  },
  {
   "cell_type": "code",
   "execution_count": 135,
   "id": "5eaa9ac5",
   "metadata": {},
   "outputs": [],
   "source": [
    "p = Person()"
   ]
  },
  {
   "cell_type": "code",
   "execution_count": 136,
   "id": "5dcb9404",
   "metadata": {},
   "outputs": [
    {
     "data": {
      "text/plain": [
       "'do_work called from <__main__.Person object at 0x1101c6950>'"
      ]
     },
     "execution_count": 136,
     "metadata": {},
     "output_type": "execute_result"
    }
   ],
   "source": [
    "p.do_work()"
   ]
  },
  {
   "cell_type": "markdown",
   "id": "6ca72714",
   "metadata": {},
   "source": [
    "### Initializing class instances"
   ]
  },
  {
   "cell_type": "code",
   "execution_count": 137,
   "id": "fa165d7d",
   "metadata": {},
   "outputs": [],
   "source": [
    "class Person:\n",
    "    def __init__(self):\n",
    "        print(f'Initializing a new person object:{self}')"
   ]
  },
  {
   "cell_type": "code",
   "execution_count": 138,
   "id": "e70d2481",
   "metadata": {},
   "outputs": [
    {
     "name": "stdout",
     "output_type": "stream",
     "text": [
      "Initializing a new person object:<__main__.Person object at 0x110172fd0>\n"
     ]
    }
   ],
   "source": [
    "p = Person()"
   ]
  },
  {
   "cell_type": "code",
   "execution_count": 139,
   "id": "cd37631e",
   "metadata": {},
   "outputs": [
    {
     "data": {
      "text/plain": [
       "'0x110172fd0'"
      ]
     },
     "execution_count": 139,
     "metadata": {},
     "output_type": "execute_result"
    }
   ],
   "source": [
    "hex(id(p))"
   ]
  },
  {
   "cell_type": "code",
   "execution_count": 140,
   "id": "e7f56a72",
   "metadata": {},
   "outputs": [],
   "source": [
    "class Person:\n",
    "    def __init__(self, name):\n",
    "        self.name = name"
   ]
  },
  {
   "cell_type": "code",
   "execution_count": 142,
   "id": "3e73def7",
   "metadata": {},
   "outputs": [],
   "source": [
    "p = Person('xyz')"
   ]
  },
  {
   "cell_type": "code",
   "execution_count": 143,
   "id": "fb24e214",
   "metadata": {},
   "outputs": [
    {
     "data": {
      "text/plain": [
       "{'name': 'xyz'}"
      ]
     },
     "execution_count": 143,
     "metadata": {},
     "output_type": "execute_result"
    }
   ],
   "source": [
    "p.__dict__"
   ]
  },
  {
   "cell_type": "code",
   "execution_count": 144,
   "id": "34ed05eb",
   "metadata": {},
   "outputs": [],
   "source": [
    "# init without __\n",
    "class Person:\n",
    "    def init(self, name):\n",
    "        self.name = name"
   ]
  },
  {
   "cell_type": "code",
   "execution_count": 145,
   "id": "5894efac",
   "metadata": {},
   "outputs": [],
   "source": [
    "p = Person()"
   ]
  },
  {
   "cell_type": "code",
   "execution_count": 146,
   "id": "d8b1de9e",
   "metadata": {},
   "outputs": [
    {
     "data": {
      "text/plain": [
       "{}"
      ]
     },
     "execution_count": 146,
     "metadata": {},
     "output_type": "execute_result"
    }
   ],
   "source": [
    "p.__dict__"
   ]
  },
  {
   "cell_type": "code",
   "execution_count": 147,
   "id": "ec7319c4",
   "metadata": {},
   "outputs": [],
   "source": [
    "p.init('Eric')"
   ]
  },
  {
   "cell_type": "code",
   "execution_count": 148,
   "id": "6d0d8caa",
   "metadata": {},
   "outputs": [
    {
     "data": {
      "text/plain": [
       "{'name': 'Eric'}"
      ]
     },
     "execution_count": 148,
     "metadata": {},
     "output_type": "execute_result"
    }
   ],
   "source": [
    "p.__dict__"
   ]
  },
  {
   "cell_type": "markdown",
   "id": "aaf7e636",
   "metadata": {},
   "source": [
    "###  Creating attributes at Run-time"
   ]
  },
  {
   "cell_type": "code",
   "execution_count": 149,
   "id": "428011b3",
   "metadata": {},
   "outputs": [],
   "source": [
    "class Person:\n",
    "    pass"
   ]
  },
  {
   "cell_type": "code",
   "execution_count": 150,
   "id": "7b1b7df0",
   "metadata": {},
   "outputs": [],
   "source": [
    "p1 = Person()"
   ]
  },
  {
   "cell_type": "code",
   "execution_count": 151,
   "id": "ef8fa463",
   "metadata": {},
   "outputs": [],
   "source": [
    "p2 = Person()"
   ]
  },
  {
   "cell_type": "code",
   "execution_count": 152,
   "id": "0e6032dc",
   "metadata": {},
   "outputs": [],
   "source": [
    "p1.name = 'Alex'"
   ]
  },
  {
   "cell_type": "code",
   "execution_count": 153,
   "id": "567a7ca6",
   "metadata": {},
   "outputs": [
    {
     "data": {
      "text/plain": [
       "{'name': 'Alex'}"
      ]
     },
     "execution_count": 153,
     "metadata": {},
     "output_type": "execute_result"
    }
   ],
   "source": [
    "p1.__dict__"
   ]
  },
  {
   "cell_type": "code",
   "execution_count": 154,
   "id": "3922ce88",
   "metadata": {},
   "outputs": [
    {
     "data": {
      "text/plain": [
       "{}"
      ]
     },
     "execution_count": 154,
     "metadata": {},
     "output_type": "execute_result"
    }
   ],
   "source": [
    "p2.__dict__"
   ]
  },
  {
   "cell_type": "code",
   "execution_count": 155,
   "id": "3e0feaa4",
   "metadata": {},
   "outputs": [],
   "source": [
    "p1.say_hello = lambda : 'hello' "
   ]
  },
  {
   "cell_type": "code",
   "execution_count": 156,
   "id": "8102a85e",
   "metadata": {},
   "outputs": [
    {
     "data": {
      "text/plain": [
       "<function __main__.<lambda>()>"
      ]
     },
     "execution_count": 156,
     "metadata": {},
     "output_type": "execute_result"
    }
   ],
   "source": [
    "p1.say_hello"
   ]
  },
  {
   "cell_type": "code",
   "execution_count": 157,
   "id": "6b83dfe0",
   "metadata": {},
   "outputs": [
    {
     "data": {
      "text/plain": [
       "{'name': 'Alex', 'say_hello': <function __main__.<lambda>()>}"
      ]
     },
     "execution_count": 157,
     "metadata": {},
     "output_type": "execute_result"
    }
   ],
   "source": [
    "p1.__dict__"
   ]
  },
  {
   "cell_type": "code",
   "execution_count": 158,
   "id": "bcd8751f",
   "metadata": {},
   "outputs": [],
   "source": [
    "from types import MethodType"
   ]
  },
  {
   "cell_type": "code",
   "execution_count": 159,
   "id": "6a587b01",
   "metadata": {},
   "outputs": [],
   "source": [
    "class Person:\n",
    "    def __init__(self, name):\n",
    "        self.name = name"
   ]
  },
  {
   "cell_type": "code",
   "execution_count": 160,
   "id": "2ef91952",
   "metadata": {},
   "outputs": [],
   "source": [
    "p1 = Person('Eric')"
   ]
  },
  {
   "cell_type": "code",
   "execution_count": 161,
   "id": "bdc085ff",
   "metadata": {},
   "outputs": [],
   "source": [
    "p2 = Person('Alex')"
   ]
  },
  {
   "cell_type": "code",
   "execution_count": 162,
   "id": "0676c9b8",
   "metadata": {},
   "outputs": [
    {
     "data": {
      "text/plain": [
       "({'name': 'Eric'}, {'name': 'Alex'})"
      ]
     },
     "execution_count": 162,
     "metadata": {},
     "output_type": "execute_result"
    }
   ],
   "source": [
    "p1.__dict__, p2.__dict__"
   ]
  },
  {
   "cell_type": "code",
   "execution_count": 163,
   "id": "040217ad",
   "metadata": {},
   "outputs": [],
   "source": [
    "# self is any object with name property here\n",
    "def say_hello(self):\n",
    "    return f'{self.name} says hello'"
   ]
  },
  {
   "cell_type": "code",
   "execution_count": 164,
   "id": "0de5b708",
   "metadata": {},
   "outputs": [
    {
     "data": {
      "text/plain": [
       "'Eric says hello'"
      ]
     },
     "execution_count": 164,
     "metadata": {},
     "output_type": "execute_result"
    }
   ],
   "source": [
    "say_hello(p1)"
   ]
  },
  {
   "cell_type": "code",
   "execution_count": 166,
   "id": "0664fa7e",
   "metadata": {},
   "outputs": [],
   "source": [
    "p1_say_hello = MethodType(say_hello, p1)"
   ]
  },
  {
   "cell_type": "code",
   "execution_count": 167,
   "id": "2e6826c3",
   "metadata": {},
   "outputs": [
    {
     "data": {
      "text/plain": [
       "<bound method say_hello of <__main__.Person object at 0x110103d50>>"
      ]
     },
     "execution_count": 167,
     "metadata": {},
     "output_type": "execute_result"
    }
   ],
   "source": [
    "p1_say_hello"
   ]
  },
  {
   "cell_type": "code",
   "execution_count": 168,
   "id": "cf57e81b",
   "metadata": {},
   "outputs": [],
   "source": [
    "p1.say_hello = p1_say_hello"
   ]
  },
  {
   "cell_type": "code",
   "execution_count": 169,
   "id": "a09338ae",
   "metadata": {},
   "outputs": [
    {
     "data": {
      "text/plain": [
       "{'name': 'Eric',\n",
       " 'say_hello': <bound method say_hello of <__main__.Person object at 0x110103d50>>}"
      ]
     },
     "execution_count": 169,
     "metadata": {},
     "output_type": "execute_result"
    }
   ],
   "source": [
    "p1.__dict__"
   ]
  },
  {
   "cell_type": "code",
   "execution_count": 171,
   "id": "40994d18",
   "metadata": {},
   "outputs": [
    {
     "data": {
      "text/plain": [
       "'Eric says hello'"
      ]
     },
     "execution_count": 171,
     "metadata": {},
     "output_type": "execute_result"
    }
   ],
   "source": [
    "getattr(p1, 'say_hello')()"
   ]
  },
  {
   "cell_type": "code",
   "execution_count": 172,
   "id": "004ebdfd",
   "metadata": {},
   "outputs": [
    {
     "data": {
      "text/plain": [
       "'Eric says hello'"
      ]
     },
     "execution_count": 172,
     "metadata": {},
     "output_type": "execute_result"
    }
   ],
   "source": [
    "p1.say_hello()"
   ]
  },
  {
   "cell_type": "code",
   "execution_count": 173,
   "id": "43777e89",
   "metadata": {},
   "outputs": [],
   "source": [
    "from types import MethodType"
   ]
  },
  {
   "cell_type": "code",
   "execution_count": 177,
   "id": "f896580a",
   "metadata": {},
   "outputs": [],
   "source": [
    "class Person:\n",
    "    def __init__(self, name):\n",
    "        self.name = name\n",
    "        \n",
    "    def register_do_work(self, func):\n",
    "        setattr(self, '_do_work', MethodType(func, self))\n",
    "        \n",
    "    def do_work(self):\n",
    "        do_work_method = getattr(self, '_do_work', None)\n",
    "        \n",
    "        if do_work_method:\n",
    "            return do_work_method()\n",
    "        \n",
    "        else:\n",
    "            raise AttributeError('You must first register a do_work_method')"
   ]
  },
  {
   "cell_type": "code",
   "execution_count": 178,
   "id": "c01dd37b",
   "metadata": {},
   "outputs": [],
   "source": [
    "math_teacher = Person('Eric')\n",
    "eng_teacher = Person('John')"
   ]
  },
  {
   "cell_type": "code",
   "execution_count": 179,
   "id": "b844737e",
   "metadata": {},
   "outputs": [
    {
     "ename": "AttributeError",
     "evalue": "You must first register a do_work_method",
     "output_type": "error",
     "traceback": [
      "\u001b[0;31m---------------------------------------------------------------------------\u001b[0m",
      "\u001b[0;31mAttributeError\u001b[0m                            Traceback (most recent call last)",
      "Cell \u001b[0;32mIn[179], line 1\u001b[0m\n\u001b[0;32m----> 1\u001b[0m math_teacher\u001b[38;5;241m.\u001b[39mdo_work()\n",
      "Cell \u001b[0;32mIn[177], line 15\u001b[0m, in \u001b[0;36mPerson.do_work\u001b[0;34m(self)\u001b[0m\n\u001b[1;32m     12\u001b[0m     \u001b[38;5;28;01mreturn\u001b[39;00m do_work_method()\n\u001b[1;32m     14\u001b[0m \u001b[38;5;28;01melse\u001b[39;00m:\n\u001b[0;32m---> 15\u001b[0m     \u001b[38;5;28;01mraise\u001b[39;00m \u001b[38;5;167;01mAttributeError\u001b[39;00m(\u001b[38;5;124m'\u001b[39m\u001b[38;5;124mYou must first register a do_work_method\u001b[39m\u001b[38;5;124m'\u001b[39m)\n",
      "\u001b[0;31mAttributeError\u001b[0m: You must first register a do_work_method"
     ]
    }
   ],
   "source": [
    "math_teacher.do_work() # raised the error as expected"
   ]
  },
  {
   "cell_type": "code",
   "execution_count": 180,
   "id": "6ac40bee",
   "metadata": {},
   "outputs": [],
   "source": [
    "def work_math(self):\n",
    "    return f'{self.name} will teach differentials today'"
   ]
  },
  {
   "cell_type": "code",
   "execution_count": 181,
   "id": "fbd853bd",
   "metadata": {},
   "outputs": [],
   "source": [
    "math_teacher.register_do_work(work_math)"
   ]
  },
  {
   "cell_type": "code",
   "execution_count": 182,
   "id": "a25a19db",
   "metadata": {},
   "outputs": [
    {
     "data": {
      "text/plain": [
       "'Eric will teach differentials today'"
      ]
     },
     "execution_count": 182,
     "metadata": {},
     "output_type": "execute_result"
    }
   ],
   "source": [
    "math_teacher.do_work()"
   ]
  },
  {
   "cell_type": "code",
   "execution_count": 183,
   "id": "550048b0",
   "metadata": {},
   "outputs": [],
   "source": [
    "def work_eng(self):\n",
    "    return f'{self.name} will teach grammer today'"
   ]
  },
  {
   "cell_type": "code",
   "execution_count": 184,
   "id": "01ea75ea",
   "metadata": {},
   "outputs": [],
   "source": [
    "eng_teacher.register_do_work(work_eng)"
   ]
  },
  {
   "cell_type": "code",
   "execution_count": 185,
   "id": "1d27f048",
   "metadata": {},
   "outputs": [
    {
     "data": {
      "text/plain": [
       "'John will teach grammer today'"
      ]
     },
     "execution_count": 185,
     "metadata": {},
     "output_type": "execute_result"
    }
   ],
   "source": [
    "eng_teacher.do_work()"
   ]
  },
  {
   "cell_type": "markdown",
   "id": "8808f3fd",
   "metadata": {},
   "source": [
    "### Properties "
   ]
  },
  {
   "cell_type": "code",
   "execution_count": 187,
   "id": "2adf78a5",
   "metadata": {},
   "outputs": [],
   "source": [
    "class MyClass:\n",
    "    def __init__(self, language):\n",
    "        self._language = language\n",
    "        \n",
    "    def get_language(self):\n",
    "        return self._language\n",
    "    \n",
    "    def set_language(self, value):\n",
    "        self._language = value\n",
    "        \n",
    "    language = property(fget=get_language, fset = set_language)    "
   ]
  },
  {
   "cell_type": "code",
   "execution_count": 188,
   "id": "25def80b",
   "metadata": {},
   "outputs": [],
   "source": [
    "m = MyClass('Python')"
   ]
  },
  {
   "cell_type": "code",
   "execution_count": 189,
   "id": "b0d644b9",
   "metadata": {},
   "outputs": [
    {
     "data": {
      "text/plain": [
       "{'_language': 'Python'}"
      ]
     },
     "execution_count": 189,
     "metadata": {},
     "output_type": "execute_result"
    }
   ],
   "source": [
    "m.__dict__"
   ]
  },
  {
   "cell_type": "code",
   "execution_count": 190,
   "id": "04c09487",
   "metadata": {},
   "outputs": [],
   "source": [
    "m.language = 'Java'"
   ]
  },
  {
   "cell_type": "code",
   "execution_count": 191,
   "id": "eb8239d7",
   "metadata": {},
   "outputs": [
    {
     "data": {
      "text/plain": [
       "{'_language': 'Java'}"
      ]
     },
     "execution_count": 191,
     "metadata": {},
     "output_type": "execute_result"
    }
   ],
   "source": [
    "m.__dict__"
   ]
  },
  {
   "cell_type": "code",
   "execution_count": 192,
   "id": "65274379",
   "metadata": {},
   "outputs": [],
   "source": [
    "class Person:\n",
    "    \n",
    "    def __init__(self,name):\n",
    "        self.set_name(name)\n",
    "        \n",
    "    def set_name(self, name):\n",
    "        if isinstance(name, str) and len(name.strip())>0:\n",
    "           self._name = name\n",
    "        else:\n",
    "            raise ValueError('name must be non-empty string')\n",
    "            \n",
    "    def get_name(self):\n",
    "        return self._name\n",
    "    \n",
    "    \n",
    "    "
   ]
  },
  {
   "cell_type": "code",
   "execution_count": 193,
   "id": "9fbbe70a",
   "metadata": {},
   "outputs": [],
   "source": [
    "p = Person('Alex')"
   ]
  },
  {
   "cell_type": "code",
   "execution_count": 195,
   "id": "d8cf055c",
   "metadata": {},
   "outputs": [
    {
     "name": "stdout",
     "output_type": "stream",
     "text": [
      "name must be non-empty string\n"
     ]
    }
   ],
   "source": [
    "try:\n",
    "    Person('')\n",
    "except ValueError as ex:\n",
    "    print(ex)"
   ]
  },
  {
   "cell_type": "code",
   "execution_count": 196,
   "id": "3bdf3302",
   "metadata": {},
   "outputs": [
    {
     "data": {
      "text/plain": [
       "property"
      ]
     },
     "execution_count": 196,
     "metadata": {},
     "output_type": "execute_result"
    }
   ],
   "source": [
    "type(property())"
   ]
  },
  {
   "cell_type": "code",
   "execution_count": 197,
   "id": "d76321db",
   "metadata": {},
   "outputs": [],
   "source": [
    "class Person:\n",
    "    \n",
    "    def __init__(self,name):\n",
    "        self._name = name\n",
    "        \n",
    "    def set_name(self, name):\n",
    "        if isinstance(name, str) and len(name.strip())>0:\n",
    "           self._name = name\n",
    "        else:\n",
    "            raise ValueError('name must be non-empty string')\n",
    "            \n",
    "    def get_name(self):\n",
    "        return self._name\n",
    "    \n",
    "    name = property(fget = get_name, fset = set_name)\n",
    "    "
   ]
  },
  {
   "cell_type": "code",
   "execution_count": 198,
   "id": "7cdae0e2",
   "metadata": {},
   "outputs": [],
   "source": [
    "p = Person('Alex')"
   ]
  },
  {
   "cell_type": "code",
   "execution_count": 199,
   "id": "30b9c25b",
   "metadata": {},
   "outputs": [
    {
     "data": {
      "text/plain": [
       "'Alex'"
      ]
     },
     "execution_count": 199,
     "metadata": {},
     "output_type": "execute_result"
    }
   ],
   "source": [
    "p.name"
   ]
  },
  {
   "cell_type": "code",
   "execution_count": 200,
   "id": "958a9efb",
   "metadata": {},
   "outputs": [],
   "source": [
    "p.name  = 'John'"
   ]
  },
  {
   "cell_type": "code",
   "execution_count": 201,
   "id": "5dc178ea",
   "metadata": {},
   "outputs": [
    {
     "data": {
      "text/plain": [
       "'John'"
      ]
     },
     "execution_count": 201,
     "metadata": {},
     "output_type": "execute_result"
    }
   ],
   "source": [
    "p.name"
   ]
  },
  {
   "cell_type": "code",
   "execution_count": 202,
   "id": "6e5c62e6",
   "metadata": {},
   "outputs": [
    {
     "data": {
      "text/plain": [
       "{'_name': 'John'}"
      ]
     },
     "execution_count": 202,
     "metadata": {},
     "output_type": "execute_result"
    }
   ],
   "source": [
    "p.__dict__"
   ]
  },
  {
   "cell_type": "code",
   "execution_count": 203,
   "id": "d9d09fef",
   "metadata": {},
   "outputs": [],
   "source": [
    "p.__dict__['name'] = 'Ray'"
   ]
  },
  {
   "cell_type": "code",
   "execution_count": 204,
   "id": "cc97d9f7",
   "metadata": {},
   "outputs": [
    {
     "data": {
      "text/plain": [
       "{'_name': 'John', 'name': 'Ray'}"
      ]
     },
     "execution_count": 204,
     "metadata": {},
     "output_type": "execute_result"
    }
   ],
   "source": [
    "p.__dict__  # now dict have 2 properties with same name"
   ]
  },
  {
   "cell_type": "code",
   "execution_count": 206,
   "id": "1832262d",
   "metadata": {},
   "outputs": [
    {
     "data": {
      "text/plain": [
       "'John'"
      ]
     },
     "execution_count": 206,
     "metadata": {},
     "output_type": "execute_result"
    }
   ],
   "source": [
    "getattr(p, 'name') # still return value from getter function i.e. property object"
   ]
  },
  {
   "cell_type": "code",
   "execution_count": 207,
   "id": "16a0c99f",
   "metadata": {},
   "outputs": [
    {
     "data": {
      "text/plain": [
       "'John'"
      ]
     },
     "execution_count": 207,
     "metadata": {},
     "output_type": "execute_result"
    }
   ],
   "source": [
    "p.name  # still return value from getter function"
   ]
  },
  {
   "cell_type": "code",
   "execution_count": 225,
   "id": "c46ae588",
   "metadata": {},
   "outputs": [],
   "source": [
    "class Person:\n",
    "    \n",
    "    def __init__(self,name):\n",
    "        self._name = name\n",
    "        \n",
    "    def set_name(self, name):\n",
    "        if isinstance(name, str) and len(name.strip())>0:\n",
    "           self._name = name\n",
    "        else:\n",
    "            raise ValueError('name must be non-empty string')\n",
    "            \n",
    "    def get_name(self):\n",
    "        return self._name\n",
    "    \n",
    "    def del_name(self):\n",
    "        del self._name\n",
    "    \n",
    "    name = property(fget = get_name, fset = set_name, fdel = del_name, doc = 'the persons name')\n",
    "    "
   ]
  },
  {
   "cell_type": "code",
   "execution_count": 226,
   "id": "0d292f8c",
   "metadata": {},
   "outputs": [],
   "source": [
    "p = Person('Alex')"
   ]
  },
  {
   "cell_type": "code",
   "execution_count": 227,
   "id": "b6506025",
   "metadata": {},
   "outputs": [
    {
     "data": {
      "text/plain": [
       "'Alex'"
      ]
     },
     "execution_count": 227,
     "metadata": {},
     "output_type": "execute_result"
    }
   ],
   "source": [
    "p.name"
   ]
  },
  {
   "cell_type": "code",
   "execution_count": 228,
   "id": "707bc4b4",
   "metadata": {},
   "outputs": [],
   "source": [
    "p.name = 'Eric'"
   ]
  },
  {
   "cell_type": "code",
   "execution_count": 229,
   "id": "0f4de5d7",
   "metadata": {},
   "outputs": [
    {
     "data": {
      "text/plain": [
       "'Eric'"
      ]
     },
     "execution_count": 229,
     "metadata": {},
     "output_type": "execute_result"
    }
   ],
   "source": [
    "p.name"
   ]
  },
  {
   "cell_type": "code",
   "execution_count": 230,
   "id": "ee9ac719",
   "metadata": {},
   "outputs": [],
   "source": [
    "del p.name"
   ]
  },
  {
   "cell_type": "code",
   "execution_count": 231,
   "id": "11c4c856",
   "metadata": {},
   "outputs": [
    {
     "data": {
      "text/plain": [
       "{}"
      ]
     },
     "execution_count": 231,
     "metadata": {},
     "output_type": "execute_result"
    }
   ],
   "source": [
    "p.__dict__"
   ]
  },
  {
   "cell_type": "code",
   "execution_count": 232,
   "id": "e3760352",
   "metadata": {},
   "outputs": [
    {
     "data": {
      "text/plain": [
       "mappingproxy({'__module__': '__main__',\n",
       "              '__init__': <function __main__.Person.__init__(self, name)>,\n",
       "              'set_name': <function __main__.Person.set_name(self, name)>,\n",
       "              'get_name': <function __main__.Person.get_name(self)>,\n",
       "              'del_name': <function __main__.Person.del_name(self)>,\n",
       "              'name': <property at 0x1102b43b0>,\n",
       "              '__dict__': <attribute '__dict__' of 'Person' objects>,\n",
       "              '__weakref__': <attribute '__weakref__' of 'Person' objects>,\n",
       "              '__doc__': None})"
      ]
     },
     "execution_count": 232,
     "metadata": {},
     "output_type": "execute_result"
    }
   ],
   "source": [
    "Person.__dict__ # name property still exist"
   ]
  },
  {
   "cell_type": "code",
   "execution_count": 233,
   "id": "ac820b28",
   "metadata": {},
   "outputs": [
    {
     "ename": "AttributeError",
     "evalue": "'Person' object has no attribute '_name'",
     "output_type": "error",
     "traceback": [
      "\u001b[0;31m---------------------------------------------------------------------------\u001b[0m",
      "\u001b[0;31mAttributeError\u001b[0m                            Traceback (most recent call last)",
      "Cell \u001b[0;32mIn[233], line 1\u001b[0m\n\u001b[0;32m----> 1\u001b[0m p\u001b[38;5;241m.\u001b[39mname\n",
      "Cell \u001b[0;32mIn[225], line 13\u001b[0m, in \u001b[0;36mPerson.get_name\u001b[0;34m(self)\u001b[0m\n\u001b[1;32m     12\u001b[0m \u001b[38;5;28;01mdef\u001b[39;00m \u001b[38;5;21mget_name\u001b[39m(\u001b[38;5;28mself\u001b[39m):\n\u001b[0;32m---> 13\u001b[0m     \u001b[38;5;28;01mreturn\u001b[39;00m \u001b[38;5;28mself\u001b[39m\u001b[38;5;241m.\u001b[39m_name\n",
      "\u001b[0;31mAttributeError\u001b[0m: 'Person' object has no attribute '_name'"
     ]
    }
   ],
   "source": [
    "p.name # delete remove private variable from instance but it doesn't remove it from class"
   ]
  },
  {
   "cell_type": "code",
   "execution_count": 234,
   "id": "817d2da8",
   "metadata": {},
   "outputs": [
    {
     "name": "stdout",
     "output_type": "stream",
     "text": [
      "Help on class Person in module __main__:\n",
      "\n",
      "class Person(builtins.object)\n",
      " |  Person(name)\n",
      " |  \n",
      " |  Methods defined here:\n",
      " |  \n",
      " |  __init__(self, name)\n",
      " |      Initialize self.  See help(type(self)) for accurate signature.\n",
      " |  \n",
      " |  del_name(self)\n",
      " |  \n",
      " |  get_name(self)\n",
      " |  \n",
      " |  set_name(self, name)\n",
      " |  \n",
      " |  ----------------------------------------------------------------------\n",
      " |  Data descriptors defined here:\n",
      " |  \n",
      " |  __dict__\n",
      " |      dictionary for instance variables (if defined)\n",
      " |  \n",
      " |  __weakref__\n",
      " |      list of weak references to the object (if defined)\n",
      " |  \n",
      " |  name\n",
      " |      the persons name\n",
      "\n"
     ]
    }
   ],
   "source": [
    "help(Person) # doc string specified in property"
   ]
  },
  {
   "cell_type": "markdown",
   "id": "38837a1f",
   "metadata": {},
   "source": [
    "## Property decorators"
   ]
  },
  {
   "cell_type": "code",
   "execution_count": 235,
   "id": "a9ebd230",
   "metadata": {},
   "outputs": [],
   "source": [
    "p = property(fget = lambda self: print('getting property'))"
   ]
  },
  {
   "cell_type": "code",
   "execution_count": 236,
   "id": "b4f72bbc",
   "metadata": {},
   "outputs": [
    {
     "data": {
      "text/plain": [
       "<function __main__.<lambda>(self)>"
      ]
     },
     "execution_count": 236,
     "metadata": {},
     "output_type": "execute_result"
    }
   ],
   "source": [
    "p.fget"
   ]
  },
  {
   "cell_type": "code",
   "execution_count": 237,
   "id": "59a45a42",
   "metadata": {},
   "outputs": [],
   "source": [
    "def my_decorator(fn):\n",
    "    print('decorating function')\n",
    "    \n",
    "    def inner(*args, **kwargs):\n",
    "        print('running decoarted function')\n",
    "        return fn(*args, **kwargs)\n",
    "    return inner"
   ]
  },
  {
   "cell_type": "code",
   "execution_count": 238,
   "id": "e1fe01b6",
   "metadata": {},
   "outputs": [],
   "source": [
    "def undecorated_function(a,b):\n",
    "    print('running original function')\n",
    "    return a+b"
   ]
  },
  {
   "cell_type": "code",
   "execution_count": 240,
   "id": "f16893d5",
   "metadata": {},
   "outputs": [
    {
     "name": "stdout",
     "output_type": "stream",
     "text": [
      "decorating function\n"
     ]
    }
   ],
   "source": [
    "decorated_func = my_decorator(undecorated_function)"
   ]
  },
  {
   "cell_type": "code",
   "execution_count": 241,
   "id": "258d2e42",
   "metadata": {},
   "outputs": [
    {
     "data": {
      "text/plain": [
       "<function __main__.my_decorator.<locals>.inner(*args, **kwargs)>"
      ]
     },
     "execution_count": 241,
     "metadata": {},
     "output_type": "execute_result"
    }
   ],
   "source": [
    "decorated_func"
   ]
  },
  {
   "cell_type": "code",
   "execution_count": 242,
   "id": "0faede59",
   "metadata": {},
   "outputs": [
    {
     "name": "stdout",
     "output_type": "stream",
     "text": [
      "running decoarted function\n",
      "running original function\n"
     ]
    },
    {
     "data": {
      "text/plain": [
       "3"
      ]
     },
     "execution_count": 242,
     "metadata": {},
     "output_type": "execute_result"
    }
   ],
   "source": [
    "decorated_func(1,2)"
   ]
  },
  {
   "cell_type": "code",
   "execution_count": 243,
   "id": "e31a32f1",
   "metadata": {},
   "outputs": [
    {
     "name": "stdout",
     "output_type": "stream",
     "text": [
      "decorating function\n"
     ]
    }
   ],
   "source": [
    "undecorated_func = my_decorator(undecorated_function)"
   ]
  },
  {
   "cell_type": "code",
   "execution_count": 244,
   "id": "688ecdad",
   "metadata": {},
   "outputs": [
    {
     "data": {
      "text/plain": [
       "<function __main__.my_decorator.<locals>.inner(*args, **kwargs)>"
      ]
     },
     "execution_count": 244,
     "metadata": {},
     "output_type": "execute_result"
    }
   ],
   "source": [
    "undecorated_func"
   ]
  },
  {
   "cell_type": "code",
   "execution_count": 245,
   "id": "596a6fd9",
   "metadata": {},
   "outputs": [
    {
     "name": "stdout",
     "output_type": "stream",
     "text": [
      "decorating function\n"
     ]
    }
   ],
   "source": [
    "@my_decorator\n",
    "def my_func(a,b):\n",
    "    print('running original function')\n",
    "    return a+b"
   ]
  },
  {
   "cell_type": "code",
   "execution_count": 246,
   "id": "54950a7e",
   "metadata": {},
   "outputs": [
    {
     "name": "stdout",
     "output_type": "stream",
     "text": [
      "running decoarted function\n",
      "running original function\n"
     ]
    },
    {
     "data": {
      "text/plain": [
       "3"
      ]
     },
     "execution_count": 246,
     "metadata": {},
     "output_type": "execute_result"
    }
   ],
   "source": [
    "my_func(1,2)"
   ]
  },
  {
   "cell_type": "code",
   "execution_count": 247,
   "id": "593c2feb",
   "metadata": {},
   "outputs": [],
   "source": [
    "class Person:\n",
    "    def __init__(self, name):\n",
    "        self._name = name\n",
    "        \n",
    "    def get_name(self):\n",
    "        return self._name\n",
    "    \n",
    "    name = property(get_name)"
   ]
  },
  {
   "cell_type": "code",
   "execution_count": 248,
   "id": "2e5a844e",
   "metadata": {},
   "outputs": [],
   "source": [
    "# rewrite above to get decorator syntax\n",
    "class Person:\n",
    "    def __init__(self, name):\n",
    "        self._name = name\n",
    "        \n",
    "    def name(self):\n",
    "        return self._name\n",
    "    \n",
    "    name = property(name) # this is decorator syntax"
   ]
  },
  {
   "cell_type": "code",
   "execution_count": 249,
   "id": "e1c37998",
   "metadata": {},
   "outputs": [],
   "source": [
    "def get_prop(self):\n",
    "    return 'getter called..'\n",
    "\n",
    "def set_prop(self, value):\n",
    "    return 'setter called..'\n",
    "\n",
    "def del_prop(self):\n",
    "    return 'deletor called..'"
   ]
  },
  {
   "cell_type": "code",
   "execution_count": 250,
   "id": "e01c61d5",
   "metadata": {},
   "outputs": [],
   "source": [
    "p = property(get_prop)"
   ]
  },
  {
   "cell_type": "code",
   "execution_count": 251,
   "id": "b36aa7d9",
   "metadata": {},
   "outputs": [
    {
     "data": {
      "text/plain": [
       "<function __main__.get_prop(self)>"
      ]
     },
     "execution_count": 251,
     "metadata": {},
     "output_type": "execute_result"
    }
   ],
   "source": [
    "p.fget"
   ]
  },
  {
   "cell_type": "code",
   "execution_count": 252,
   "id": "88f82ffd",
   "metadata": {},
   "outputs": [
    {
     "ename": "AttributeError",
     "evalue": "'property' object has no attribute '__dict__'",
     "output_type": "error",
     "traceback": [
      "\u001b[0;31m---------------------------------------------------------------------------\u001b[0m",
      "\u001b[0;31mAttributeError\u001b[0m                            Traceback (most recent call last)",
      "Cell \u001b[0;32mIn[252], line 1\u001b[0m\n\u001b[0;32m----> 1\u001b[0m p\u001b[38;5;241m.\u001b[39m\u001b[38;5;18m__dict__\u001b[39m\n",
      "\u001b[0;31mAttributeError\u001b[0m: 'property' object has no attribute '__dict__'"
     ]
    }
   ],
   "source": [
    "p.__dict__ # instance doesn't dict"
   ]
  },
  {
   "cell_type": "code",
   "execution_count": 253,
   "id": "db2ff717",
   "metadata": {},
   "outputs": [
    {
     "data": {
      "text/plain": [
       "['__class__',\n",
       " '__delattr__',\n",
       " '__delete__',\n",
       " '__dir__',\n",
       " '__doc__',\n",
       " '__eq__',\n",
       " '__format__',\n",
       " '__ge__',\n",
       " '__get__',\n",
       " '__getattribute__',\n",
       " '__getstate__',\n",
       " '__gt__',\n",
       " '__hash__',\n",
       " '__init__',\n",
       " '__init_subclass__',\n",
       " '__isabstractmethod__',\n",
       " '__le__',\n",
       " '__lt__',\n",
       " '__ne__',\n",
       " '__new__',\n",
       " '__reduce__',\n",
       " '__reduce_ex__',\n",
       " '__repr__',\n",
       " '__set__',\n",
       " '__set_name__',\n",
       " '__setattr__',\n",
       " '__sizeof__',\n",
       " '__str__',\n",
       " '__subclasshook__',\n",
       " 'deleter',\n",
       " 'fdel',\n",
       " 'fget',\n",
       " 'fset',\n",
       " 'getter',\n",
       " 'setter']"
      ]
     },
     "execution_count": 253,
     "metadata": {},
     "output_type": "execute_result"
    }
   ],
   "source": [
    "dir(p)"
   ]
  },
  {
   "cell_type": "code",
   "execution_count": 254,
   "id": "faab76b7",
   "metadata": {},
   "outputs": [],
   "source": [
    "p1 = p.setter(set_prop)"
   ]
  },
  {
   "cell_type": "markdown",
   "id": "0daf031f",
   "metadata": {},
   "source": []
  }
 ],
 "metadata": {
  "kernelspec": {
   "display_name": "Python 3 (ipykernel)",
   "language": "python",
   "name": "python3"
  },
  "language_info": {
   "codemirror_mode": {
    "name": "ipython",
    "version": 3
   },
   "file_extension": ".py",
   "mimetype": "text/x-python",
   "name": "python",
   "nbconvert_exporter": "python",
   "pygments_lexer": "ipython3",
   "version": "3.11.4"
  }
 },
 "nbformat": 4,
 "nbformat_minor": 5
}
