{
 "cells": [
  {
   "cell_type": "markdown",
   "id": "5eafd145",
   "metadata": {},
   "source": [
    "# Single Inheritance"
   ]
  },
  {
   "cell_type": "code",
   "execution_count": 1,
   "id": "43ef5500",
   "metadata": {},
   "outputs": [],
   "source": [
    "# isinstance()\n",
    "# issubclass()"
   ]
  },
  {
   "cell_type": "code",
   "execution_count": null,
   "id": "6b8bafa9",
   "metadata": {},
   "outputs": [],
   "source": [
    "                                                shape\n",
    "                       Ellipse                                   Polygon\n",
    "               circle                                    Rectangle      Triangle\n",
    "                                                           Square"
   ]
  },
  {
   "cell_type": "code",
   "execution_count": 10,
   "id": "3c3b96f3",
   "metadata": {},
   "outputs": [],
   "source": [
    "class Shape:\n",
    "    pass"
   ]
  },
  {
   "cell_type": "code",
   "execution_count": 11,
   "id": "3e904757",
   "metadata": {},
   "outputs": [],
   "source": [
    "class Ellipse(Shape):\n",
    "    pass"
   ]
  },
  {
   "cell_type": "code",
   "execution_count": 12,
   "id": "bf9a6725",
   "metadata": {},
   "outputs": [],
   "source": [
    "class Polygon(Shape):\n",
    "    pass"
   ]
  },
  {
   "cell_type": "code",
   "execution_count": 13,
   "id": "cfbbc0d2",
   "metadata": {},
   "outputs": [],
   "source": [
    "class Rectangle(Polygon):\n",
    "    pass"
   ]
  },
  {
   "cell_type": "code",
   "execution_count": 14,
   "id": "09982671",
   "metadata": {},
   "outputs": [],
   "source": [
    "class Triangle(Polygon):\n",
    "    pass"
   ]
  },
  {
   "cell_type": "code",
   "execution_count": 15,
   "id": "2e9ee9ca",
   "metadata": {},
   "outputs": [],
   "source": [
    "class Square(Rectangle):\n",
    "    pass"
   ]
  },
  {
   "cell_type": "code",
   "execution_count": 16,
   "id": "c6e9fcd6",
   "metadata": {},
   "outputs": [],
   "source": [
    "class Circle(Ellipse):\n",
    "    pass"
   ]
  },
  {
   "cell_type": "code",
   "execution_count": 17,
   "id": "4320032e",
   "metadata": {},
   "outputs": [
    {
     "data": {
      "text/plain": [
       "True"
      ]
     },
     "execution_count": 17,
     "metadata": {},
     "output_type": "execute_result"
    }
   ],
   "source": [
    "# examine the relationship between classes\n",
    "issubclass(Ellipse, Shape)"
   ]
  },
  {
   "cell_type": "code",
   "execution_count": 18,
   "id": "89cf3d54",
   "metadata": {},
   "outputs": [
    {
     "data": {
      "text/plain": [
       "True"
      ]
     },
     "execution_count": 18,
     "metadata": {},
     "output_type": "execute_result"
    }
   ],
   "source": [
    "issubclass(Circle, Shape)"
   ]
  },
  {
   "cell_type": "code",
   "execution_count": 19,
   "id": "88801eae",
   "metadata": {},
   "outputs": [
    {
     "data": {
      "text/plain": [
       "False"
      ]
     },
     "execution_count": 19,
     "metadata": {},
     "output_type": "execute_result"
    }
   ],
   "source": [
    "issubclass(Polygon, Ellipse)"
   ]
  },
  {
   "cell_type": "code",
   "execution_count": 20,
   "id": "7cf096b5",
   "metadata": {},
   "outputs": [
    {
     "data": {
      "text/plain": [
       "True"
      ]
     },
     "execution_count": 20,
     "metadata": {},
     "output_type": "execute_result"
    }
   ],
   "source": [
    "issubclass(Square, Shape)"
   ]
  },
  {
   "cell_type": "code",
   "execution_count": 21,
   "id": "3a5d75f3",
   "metadata": {},
   "outputs": [],
   "source": [
    "s = Shape()\n",
    "c = Circle()\n",
    "sq = Square()"
   ]
  },
  {
   "cell_type": "code",
   "execution_count": 23,
   "id": "462a21e6",
   "metadata": {},
   "outputs": [
    {
     "ename": "TypeError",
     "evalue": "issubclass() arg 1 must be a class",
     "output_type": "error",
     "traceback": [
      "\u001b[0;31m---------------------------------------------------------------------------\u001b[0m",
      "\u001b[0;31mTypeError\u001b[0m                                 Traceback (most recent call last)",
      "Cell \u001b[0;32mIn[23], line 1\u001b[0m\n\u001b[0;32m----> 1\u001b[0m \u001b[38;5;28missubclass\u001b[39m(c,s)\n",
      "\u001b[0;31mTypeError\u001b[0m: issubclass() arg 1 must be a class"
     ]
    }
   ],
   "source": [
    "issubclass(c,s) # instance can't be used with issubclass"
   ]
  },
  {
   "cell_type": "code",
   "execution_count": 24,
   "id": "e83f3ec3",
   "metadata": {},
   "outputs": [
    {
     "data": {
      "text/plain": [
       "True"
      ]
     },
     "execution_count": 24,
     "metadata": {},
     "output_type": "execute_result"
    }
   ],
   "source": [
    "isinstance(s, Shape)"
   ]
  },
  {
   "cell_type": "code",
   "execution_count": 25,
   "id": "cec0fab3",
   "metadata": {},
   "outputs": [
    {
     "data": {
      "text/plain": [
       "True"
      ]
     },
     "execution_count": 25,
     "metadata": {},
     "output_type": "execute_result"
    }
   ],
   "source": [
    "isinstance(sq, Rectangle)"
   ]
  },
  {
   "cell_type": "code",
   "execution_count": 26,
   "id": "d0bf38b2",
   "metadata": {},
   "outputs": [
    {
     "data": {
      "text/plain": [
       "True"
      ]
     },
     "execution_count": 26,
     "metadata": {},
     "output_type": "execute_result"
    }
   ],
   "source": [
    "isinstance(sq, Shape)"
   ]
  },
  {
   "cell_type": "code",
   "execution_count": 27,
   "id": "7bddf64d",
   "metadata": {},
   "outputs": [],
   "source": [
    "sq = Square()\n",
    "p = Polygon()"
   ]
  },
  {
   "cell_type": "code",
   "execution_count": 28,
   "id": "cfb3c0f2",
   "metadata": {},
   "outputs": [
    {
     "data": {
      "text/plain": [
       "(<__main__.Square at 0x1103285d0>, <__main__.Polygon at 0x11032add0>)"
      ]
     },
     "execution_count": 28,
     "metadata": {},
     "output_type": "execute_result"
    }
   ],
   "source": [
    "sq, p"
   ]
  },
  {
   "cell_type": "code",
   "execution_count": 29,
   "id": "ad3a3c18",
   "metadata": {},
   "outputs": [
    {
     "data": {
      "text/plain": [
       "True"
      ]
     },
     "execution_count": 29,
     "metadata": {},
     "output_type": "execute_result"
    }
   ],
   "source": [
    "isinstance(sq, type(p))"
   ]
  },
  {
   "cell_type": "code",
   "execution_count": 30,
   "id": "999d7ccd",
   "metadata": {},
   "outputs": [
    {
     "data": {
      "text/plain": [
       "True"
      ]
     },
     "execution_count": 30,
     "metadata": {},
     "output_type": "execute_result"
    }
   ],
   "source": [
    "issubclass(type(sq), type(p))"
   ]
  },
  {
   "cell_type": "code",
   "execution_count": 31,
   "id": "ff9926fa",
   "metadata": {},
   "outputs": [
    {
     "data": {
      "text/plain": [
       "type"
      ]
     },
     "execution_count": 31,
     "metadata": {},
     "output_type": "execute_result"
    }
   ],
   "source": [
    "type(object)"
   ]
  },
  {
   "cell_type": "code",
   "execution_count": 32,
   "id": "01854119",
   "metadata": {},
   "outputs": [
    {
     "data": {
      "text/plain": [
       "True"
      ]
     },
     "execution_count": 32,
     "metadata": {},
     "output_type": "execute_result"
    }
   ],
   "source": [
    "issubclass(Square, object)"
   ]
  },
  {
   "cell_type": "markdown",
   "id": "997e39e9",
   "metadata": {},
   "source": [
    "# Object class"
   ]
  },
  {
   "cell_type": "code",
   "execution_count": 33,
   "id": "bdd51533",
   "metadata": {},
   "outputs": [],
   "source": [
    "class Person:\n",
    "    pass"
   ]
  },
  {
   "cell_type": "code",
   "execution_count": 34,
   "id": "59fa9121",
   "metadata": {},
   "outputs": [
    {
     "data": {
      "text/plain": [
       "True"
      ]
     },
     "execution_count": 34,
     "metadata": {},
     "output_type": "execute_result"
    }
   ],
   "source": [
    "issubclass(Person, object)"
   ]
  },
  {
   "cell_type": "code",
   "execution_count": 35,
   "id": "7131f485",
   "metadata": {},
   "outputs": [
    {
     "data": {
      "text/plain": [
       "True"
      ]
     },
     "execution_count": 35,
     "metadata": {},
     "output_type": "execute_result"
    }
   ],
   "source": [
    "issubclass(int, object)"
   ]
  },
  {
   "cell_type": "code",
   "execution_count": 36,
   "id": "13cff67b",
   "metadata": {},
   "outputs": [],
   "source": [
    "import math"
   ]
  },
  {
   "cell_type": "code",
   "execution_count": 37,
   "id": "b22d4884",
   "metadata": {},
   "outputs": [
    {
     "data": {
      "text/plain": [
       "module"
      ]
     },
     "execution_count": 37,
     "metadata": {},
     "output_type": "execute_result"
    }
   ],
   "source": [
    "type(math)"
   ]
  },
  {
   "cell_type": "code",
   "execution_count": 39,
   "id": "5b49bcc8",
   "metadata": {},
   "outputs": [
    {
     "data": {
      "text/plain": [
       "True"
      ]
     },
     "execution_count": 39,
     "metadata": {},
     "output_type": "execute_result"
    }
   ],
   "source": [
    "issubclass(type(math), object)"
   ]
  },
  {
   "cell_type": "code",
   "execution_count": 40,
   "id": "3c688d32",
   "metadata": {},
   "outputs": [],
   "source": [
    "def my_func():\n",
    "    pass"
   ]
  },
  {
   "cell_type": "code",
   "execution_count": 41,
   "id": "da603224",
   "metadata": {},
   "outputs": [
    {
     "data": {
      "text/plain": [
       "function"
      ]
     },
     "execution_count": 41,
     "metadata": {},
     "output_type": "execute_result"
    }
   ],
   "source": [
    "type(my_func)"
   ]
  },
  {
   "cell_type": "code",
   "execution_count": 43,
   "id": "01864980",
   "metadata": {},
   "outputs": [
    {
     "data": {
      "text/plain": [
       "True"
      ]
     },
     "execution_count": 43,
     "metadata": {},
     "output_type": "execute_result"
    }
   ],
   "source": [
    "import types\n",
    "types.FunctionType is type(my_func)"
   ]
  },
  {
   "cell_type": "code",
   "execution_count": 45,
   "id": "6f199bb8",
   "metadata": {},
   "outputs": [
    {
     "data": {
      "text/plain": [
       "True"
      ]
     },
     "execution_count": 45,
     "metadata": {},
     "output_type": "execute_result"
    }
   ],
   "source": [
    "types.ModuleType is type(math)"
   ]
  },
  {
   "cell_type": "code",
   "execution_count": 46,
   "id": "e47e9706",
   "metadata": {},
   "outputs": [
    {
     "data": {
      "text/plain": [
       "['__class__',\n",
       " '__delattr__',\n",
       " '__dir__',\n",
       " '__doc__',\n",
       " '__eq__',\n",
       " '__format__',\n",
       " '__ge__',\n",
       " '__getattribute__',\n",
       " '__getstate__',\n",
       " '__gt__',\n",
       " '__hash__',\n",
       " '__init__',\n",
       " '__init_subclass__',\n",
       " '__le__',\n",
       " '__lt__',\n",
       " '__ne__',\n",
       " '__new__',\n",
       " '__reduce__',\n",
       " '__reduce_ex__',\n",
       " '__repr__',\n",
       " '__setattr__',\n",
       " '__sizeof__',\n",
       " '__str__',\n",
       " '__subclasshook__']"
      ]
     },
     "execution_count": 46,
     "metadata": {},
     "output_type": "execute_result"
    }
   ],
   "source": [
    "dir(object)"
   ]
  },
  {
   "cell_type": "code",
   "execution_count": 47,
   "id": "cbf31625",
   "metadata": {},
   "outputs": [],
   "source": [
    "o1 = object()"
   ]
  },
  {
   "cell_type": "code",
   "execution_count": 48,
   "id": "7efbaf43",
   "metadata": {},
   "outputs": [
    {
     "data": {
      "text/plain": [
       "('<object object at 0x10f26d270>', '<object object at 0x10f26d270>')"
      ]
     },
     "execution_count": 48,
     "metadata": {},
     "output_type": "execute_result"
    }
   ],
   "source": [
    "str(o1), repr(o1)"
   ]
  },
  {
   "cell_type": "code",
   "execution_count": 49,
   "id": "2970e675",
   "metadata": {},
   "outputs": [],
   "source": [
    "class Person:\n",
    "    pass"
   ]
  },
  {
   "cell_type": "code",
   "execution_count": 50,
   "id": "5e09453e",
   "metadata": {},
   "outputs": [],
   "source": [
    "p = Person()"
   ]
  },
  {
   "cell_type": "code",
   "execution_count": 51,
   "id": "64367169",
   "metadata": {},
   "outputs": [
    {
     "data": {
      "text/plain": [
       "('<__main__.Person object at 0x1103b8790>',\n",
       " '<__main__.Person object at 0x1103b8790>')"
      ]
     },
     "execution_count": 51,
     "metadata": {},
     "output_type": "execute_result"
    }
   ],
   "source": [
    "str(p), repr(p)"
   ]
  },
  {
   "cell_type": "markdown",
   "id": "d1230e4c",
   "metadata": {},
   "source": [
    "## Overriding"
   ]
  },
  {
   "cell_type": "code",
   "execution_count": 52,
   "id": "ecb91e88",
   "metadata": {},
   "outputs": [],
   "source": [
    "class Person:\n",
    "    \n",
    "    pass"
   ]
  },
  {
   "cell_type": "code",
   "execution_count": 53,
   "id": "c108e40b",
   "metadata": {},
   "outputs": [],
   "source": [
    "p = Person()"
   ]
  },
  {
   "cell_type": "code",
   "execution_count": 54,
   "id": "a1b403a6",
   "metadata": {},
   "outputs": [
    {
     "data": {
      "text/plain": [
       "'<__main__.Person object at 0x1103ba1d0>'"
      ]
     },
     "execution_count": 54,
     "metadata": {},
     "output_type": "execute_result"
    }
   ],
   "source": [
    "str(p)"
   ]
  },
  {
   "cell_type": "code",
   "execution_count": 55,
   "id": "24036df0",
   "metadata": {},
   "outputs": [],
   "source": [
    "class Person:\n",
    "    # override str\n",
    "    def __str__(self):\n",
    "        return 'Person class'"
   ]
  },
  {
   "cell_type": "code",
   "execution_count": 56,
   "id": "a6ae7e2b",
   "metadata": {},
   "outputs": [
    {
     "data": {
      "text/plain": [
       "'Person class'"
      ]
     },
     "execution_count": 56,
     "metadata": {},
     "output_type": "execute_result"
    }
   ],
   "source": [
    "p = Person()\n",
    "str(p)"
   ]
  },
  {
   "cell_type": "code",
   "execution_count": 57,
   "id": "54583782",
   "metadata": {},
   "outputs": [],
   "source": [
    "class Person:\n",
    "    def __repr__(self):\n",
    "        return 'Person() with extra debugging info'"
   ]
  },
  {
   "cell_type": "code",
   "execution_count": 58,
   "id": "25ac6a05",
   "metadata": {},
   "outputs": [],
   "source": [
    "p = Person()"
   ]
  },
  {
   "cell_type": "code",
   "execution_count": 59,
   "id": "82571405",
   "metadata": {},
   "outputs": [
    {
     "data": {
      "text/plain": [
       "'Person() with extra debugging info'"
      ]
     },
     "execution_count": 59,
     "metadata": {},
     "output_type": "execute_result"
    }
   ],
   "source": [
    "str(p)"
   ]
  },
  {
   "cell_type": "code",
   "execution_count": 60,
   "id": "9c8c1547",
   "metadata": {},
   "outputs": [
    {
     "data": {
      "text/plain": [
       "'Person() with extra debugging info'"
      ]
     },
     "execution_count": 60,
     "metadata": {},
     "output_type": "execute_result"
    }
   ],
   "source": [
    "p.__str__()"
   ]
  },
  {
   "cell_type": "code",
   "execution_count": 61,
   "id": "91577ec7",
   "metadata": {},
   "outputs": [],
   "source": [
    "class Shape:\n",
    "    def __init__(self, name):\n",
    "        self.name = name\n",
    "        \n",
    "    def info(self):\n",
    "        return f'shape.info called for Shape({self.name})'\n",
    "    \n",
    "    def extended_info(self):\n",
    "        return f'shape.extended_info called for shape({self.name})'\n",
    "    \n",
    "class Polygon(Shape):\n",
    "    def __init__(self, name):\n",
    "        self.name = name\n",
    "        \n",
    "    def info(self):\n",
    "        return f'polygon info called for Polygon({self.name})'"
   ]
  },
  {
   "cell_type": "code",
   "execution_count": 62,
   "id": "9a809af1",
   "metadata": {},
   "outputs": [],
   "source": [
    "p = Polygon('square')"
   ]
  },
  {
   "cell_type": "code",
   "execution_count": 63,
   "id": "72bbc2e9",
   "metadata": {},
   "outputs": [
    {
     "data": {
      "text/plain": [
       "'polygon info called for Polygon(square)'"
      ]
     },
     "execution_count": 63,
     "metadata": {},
     "output_type": "execute_result"
    }
   ],
   "source": [
    "p.info()"
   ]
  },
  {
   "cell_type": "code",
   "execution_count": 64,
   "id": "5e84f390",
   "metadata": {},
   "outputs": [
    {
     "data": {
      "text/plain": [
       "'shape.extended_info called for shape(square)'"
      ]
     },
     "execution_count": 64,
     "metadata": {},
     "output_type": "execute_result"
    }
   ],
   "source": [
    "p.extended_info()"
   ]
  },
  {
   "cell_type": "code",
   "execution_count": 68,
   "id": "d9a2e255",
   "metadata": {},
   "outputs": [],
   "source": [
    "class Shape:\n",
    "    def __init__(self, name):\n",
    "        self.name = name\n",
    "        \n",
    "    def info(self):\n",
    "        return f'shape.info called for Shape({self.name})'\n",
    "    \n",
    "    def extended_info(self):\n",
    "        return f'shape.extended_info called for shape({self.name})', self.info()\n",
    "    \n",
    "class Polygon(Shape):\n",
    "    def __init__(self, name):\n",
    "        self.name = name\n",
    "        \n",
    "    def info(self):\n",
    "        return f'polygon info called for Polygon({self.name})'"
   ]
  },
  {
   "cell_type": "code",
   "execution_count": 69,
   "id": "81d06eba",
   "metadata": {},
   "outputs": [],
   "source": [
    "p = Polygon('square')"
   ]
  },
  {
   "cell_type": "code",
   "execution_count": 70,
   "id": "764990c1",
   "metadata": {},
   "outputs": [
    {
     "data": {
      "text/plain": [
       "('shape.extended_info called for shape(square)',\n",
       " 'polygon info called for Polygon(square)')"
      ]
     },
     "execution_count": 70,
     "metadata": {},
     "output_type": "execute_result"
    }
   ],
   "source": [
    "p.extended_info()"
   ]
  },
  {
   "cell_type": "code",
   "execution_count": 71,
   "id": "d783de55",
   "metadata": {},
   "outputs": [],
   "source": [
    "class Person:\n",
    "    def __str__(self):\n",
    "        return 'Person.__str__ called'\n",
    "    \n",
    "class Student(Person):\n",
    "    def __repr__(self):\n",
    "        return 'Student.__repr__ called'"
   ]
  },
  {
   "cell_type": "code",
   "execution_count": 72,
   "id": "3c6b9ce2",
   "metadata": {},
   "outputs": [],
   "source": [
    "s = Student()"
   ]
  },
  {
   "cell_type": "code",
   "execution_count": 73,
   "id": "29670d8a",
   "metadata": {},
   "outputs": [
    {
     "data": {
      "text/plain": [
       "'Person.__str__ called'"
      ]
     },
     "execution_count": 73,
     "metadata": {},
     "output_type": "execute_result"
    }
   ],
   "source": [
    "str(s)"
   ]
  },
  {
   "cell_type": "code",
   "execution_count": 74,
   "id": "7be8eb95",
   "metadata": {},
   "outputs": [
    {
     "data": {
      "text/plain": [
       "'Student.__repr__ called'"
      ]
     },
     "execution_count": 74,
     "metadata": {},
     "output_type": "execute_result"
    }
   ],
   "source": [
    "repr(s)"
   ]
  },
  {
   "cell_type": "code",
   "execution_count": 79,
   "id": "a5bd56e6",
   "metadata": {},
   "outputs": [],
   "source": [
    "class Person:\n",
    "    def __str__(self):\n",
    "        print('Person.__str__ called')\n",
    "        return self.__repr__()\n",
    "    \n",
    "    def __repr__(self):\n",
    "        return str(hex(id(self)))\n",
    "    \n",
    "    \n",
    "class Student(Person):\n",
    "    def __repr__(self):\n",
    "        return 'Student.__repr__ called'"
   ]
  },
  {
   "cell_type": "code",
   "execution_count": 80,
   "id": "852332a7",
   "metadata": {},
   "outputs": [],
   "source": [
    "s = Student()"
   ]
  },
  {
   "cell_type": "code",
   "execution_count": 81,
   "id": "104b966c",
   "metadata": {},
   "outputs": [
    {
     "data": {
      "text/plain": [
       "'Student.__repr__ called'"
      ]
     },
     "execution_count": 81,
     "metadata": {},
     "output_type": "execute_result"
    }
   ],
   "source": [
    "repr(s)"
   ]
  },
  {
   "cell_type": "code",
   "execution_count": 82,
   "id": "d8135387",
   "metadata": {},
   "outputs": [
    {
     "name": "stdout",
     "output_type": "stream",
     "text": [
      "Person.__str__ called\n"
     ]
    },
    {
     "data": {
      "text/plain": [
       "'Student.__repr__ called'"
      ]
     },
     "execution_count": 82,
     "metadata": {},
     "output_type": "execute_result"
    }
   ],
   "source": [
    "str(s)"
   ]
  },
  {
   "cell_type": "code",
   "execution_count": 83,
   "id": "87224200",
   "metadata": {},
   "outputs": [],
   "source": [
    "p = Person()"
   ]
  },
  {
   "cell_type": "code",
   "execution_count": 84,
   "id": "297b5f4b",
   "metadata": {},
   "outputs": [
    {
     "name": "stdout",
     "output_type": "stream",
     "text": [
      "Person.__str__ called\n"
     ]
    },
    {
     "data": {
      "text/plain": [
       "'0x1103c90d0'"
      ]
     },
     "execution_count": 84,
     "metadata": {},
     "output_type": "execute_result"
    }
   ],
   "source": [
    "str(p)"
   ]
  },
  {
   "cell_type": "markdown",
   "id": "59023cf2",
   "metadata": {},
   "source": [
    "## Extending "
   ]
  },
  {
   "cell_type": "code",
   "execution_count": 85,
   "id": "40726b3d",
   "metadata": {},
   "outputs": [],
   "source": [
    "class Person:\n",
    "    pass"
   ]
  },
  {
   "cell_type": "code",
   "execution_count": 86,
   "id": "feba5589",
   "metadata": {},
   "outputs": [],
   "source": [
    "class Student(Person):\n",
    "    def study(self):\n",
    "        return 'study...'*3"
   ]
  },
  {
   "cell_type": "code",
   "execution_count": 87,
   "id": "57c4a08c",
   "metadata": {},
   "outputs": [],
   "source": [
    "p = Person()"
   ]
  },
  {
   "cell_type": "code",
   "execution_count": 88,
   "id": "8e8ecc2f",
   "metadata": {},
   "outputs": [
    {
     "ename": "AttributeError",
     "evalue": "'Person' object has no attribute 'study'",
     "output_type": "error",
     "traceback": [
      "\u001b[0;31m---------------------------------------------------------------------------\u001b[0m",
      "\u001b[0;31mAttributeError\u001b[0m                            Traceback (most recent call last)",
      "Cell \u001b[0;32mIn[88], line 1\u001b[0m\n\u001b[0;32m----> 1\u001b[0m p\u001b[38;5;241m.\u001b[39mstudy()\n",
      "\u001b[0;31mAttributeError\u001b[0m: 'Person' object has no attribute 'study'"
     ]
    }
   ],
   "source": [
    "p.study()"
   ]
  },
  {
   "cell_type": "code",
   "execution_count": 89,
   "id": "07b6f809",
   "metadata": {},
   "outputs": [],
   "source": [
    "s = Student()"
   ]
  },
  {
   "cell_type": "code",
   "execution_count": 90,
   "id": "51c873d4",
   "metadata": {},
   "outputs": [
    {
     "data": {
      "text/plain": [
       "'study...study...study...'"
      ]
     },
     "execution_count": 90,
     "metadata": {},
     "output_type": "execute_result"
    }
   ],
   "source": [
    "s.study()"
   ]
  },
  {
   "cell_type": "code",
   "execution_count": 91,
   "id": "d8c8913c",
   "metadata": {},
   "outputs": [],
   "source": [
    "class Person:\n",
    "    def routine(self):\n",
    "        return self.eat() + self.study() + self.sleep()\n",
    "    \n",
    "    def eat(self):\n",
    "        return 'eat..'\n",
    "    \n",
    "    def sleep(self):\n",
    "        return 'sleep..'"
   ]
  },
  {
   "cell_type": "code",
   "execution_count": 93,
   "id": "d4d671fa",
   "metadata": {},
   "outputs": [],
   "source": [
    "p = Person()"
   ]
  },
  {
   "cell_type": "code",
   "execution_count": 94,
   "id": "7b754581",
   "metadata": {},
   "outputs": [
    {
     "ename": "AttributeError",
     "evalue": "'Person' object has no attribute 'study'",
     "output_type": "error",
     "traceback": [
      "\u001b[0;31m---------------------------------------------------------------------------\u001b[0m",
      "\u001b[0;31mAttributeError\u001b[0m                            Traceback (most recent call last)",
      "Cell \u001b[0;32mIn[94], line 1\u001b[0m\n\u001b[0;32m----> 1\u001b[0m p\u001b[38;5;241m.\u001b[39mroutine()\n",
      "Cell \u001b[0;32mIn[91], line 3\u001b[0m, in \u001b[0;36mPerson.routine\u001b[0;34m(self)\u001b[0m\n\u001b[1;32m      2\u001b[0m \u001b[38;5;28;01mdef\u001b[39;00m \u001b[38;5;21mroutine\u001b[39m(\u001b[38;5;28mself\u001b[39m):\n\u001b[0;32m----> 3\u001b[0m     \u001b[38;5;28;01mreturn\u001b[39;00m \u001b[38;5;28mself\u001b[39m\u001b[38;5;241m.\u001b[39meat() \u001b[38;5;241m+\u001b[39m \u001b[38;5;28mself\u001b[39m\u001b[38;5;241m.\u001b[39mstudy() \u001b[38;5;241m+\u001b[39m \u001b[38;5;28mself\u001b[39m\u001b[38;5;241m.\u001b[39msleep()\n",
      "\u001b[0;31mAttributeError\u001b[0m: 'Person' object has no attribute 'study'"
     ]
    }
   ],
   "source": [
    "p.routine()"
   ]
  },
  {
   "cell_type": "code",
   "execution_count": 95,
   "id": "f5df9ff4",
   "metadata": {},
   "outputs": [],
   "source": [
    "class Student(Person):\n",
    "    \n",
    "    def study(self):\n",
    "        return 'student studies....'"
   ]
  },
  {
   "cell_type": "code",
   "execution_count": 96,
   "id": "7c0f9127",
   "metadata": {},
   "outputs": [
    {
     "data": {
      "text/plain": [
       "'eat..student studies....sleep..'"
      ]
     },
     "execution_count": 96,
     "metadata": {},
     "output_type": "execute_result"
    }
   ],
   "source": [
    "s = Student()\n",
    "s.routine()"
   ]
  },
  {
   "cell_type": "code",
   "execution_count": 103,
   "id": "52122a89",
   "metadata": {},
   "outputs": [],
   "source": [
    "# resolve 1\n",
    "class Person:\n",
    "    def routine(self):\n",
    "        result  =self.eat()\n",
    "        if hasattr(self,'study'):\n",
    "            result +=self.study()\n",
    "        result += self.sleep()    \n",
    "        return result\n",
    "    \n",
    "    def eat(self):\n",
    "        return 'eat..'\n",
    "    \n",
    "    def sleep(self):\n",
    "        return 'sleep..'"
   ]
  },
  {
   "cell_type": "code",
   "execution_count": 104,
   "id": "3726893d",
   "metadata": {},
   "outputs": [
    {
     "data": {
      "text/plain": [
       "'eat..sleep..'"
      ]
     },
     "execution_count": 104,
     "metadata": {},
     "output_type": "execute_result"
    }
   ],
   "source": [
    "p = Person()\n",
    "p.routine()"
   ]
  },
  {
   "cell_type": "code",
   "execution_count": 105,
   "id": "b1679172",
   "metadata": {},
   "outputs": [],
   "source": [
    "# resolve 2\n",
    "class Person:\n",
    "    def routine(self):\n",
    "        return self.eat() + self.study() + self.sleep()\n",
    "    \n",
    "    def eat(self):\n",
    "        return 'eat..'\n",
    "    \n",
    "    def sleep(self):\n",
    "        return 'sleep..'"
   ]
  },
  {
   "cell_type": "code",
   "execution_count": 108,
   "id": "a65598f2",
   "metadata": {},
   "outputs": [],
   "source": [
    "class Account:\n",
    "    apr = 3.0\n",
    "    \n",
    "    \n",
    "    def __init__(self, account_number, balance):\n",
    "        self.account_number = account_number\n",
    "        self.balance = balance\n",
    "        self.account_type = 'General account'\n",
    "        \n",
    "    def calc_interest(self):\n",
    "        return f'calc interest on {self.account_type} with APR = {self.apr}'"
   ]
  },
  {
   "cell_type": "code",
   "execution_count": 109,
   "id": "11de993d",
   "metadata": {},
   "outputs": [],
   "source": [
    "a = Account(123, 100)"
   ]
  },
  {
   "cell_type": "code",
   "execution_count": 111,
   "id": "dd5dff0f",
   "metadata": {},
   "outputs": [
    {
     "data": {
      "text/plain": [
       "(3.0, 'General account', 'calc interest on General account with APR = 3.0')"
      ]
     },
     "execution_count": 111,
     "metadata": {},
     "output_type": "execute_result"
    }
   ],
   "source": [
    "a.apr, a.account_type, a.calc_interest()"
   ]
  },
  {
   "cell_type": "code",
   "execution_count": 115,
   "id": "e13eb3ae",
   "metadata": {},
   "outputs": [],
   "source": [
    "class SavingAccount(Account):\n",
    "    apr = 5.0\n",
    "    \n",
    "    def __init__(self, account_number, balance):\n",
    "        self.account_number = account_number\n",
    "        self.balance = balance\n",
    "        self.account_type = 'Savings account'"
   ]
  },
  {
   "cell_type": "code",
   "execution_count": 116,
   "id": "541d308b",
   "metadata": {},
   "outputs": [],
   "source": [
    "s = SavingAccount(234, 200)"
   ]
  },
  {
   "cell_type": "code",
   "execution_count": 117,
   "id": "ae39f16f",
   "metadata": {},
   "outputs": [
    {
     "data": {
      "text/plain": [
       "(5.0, 'Savings account', 'calc interest on Savings account with APR = 5.0')"
      ]
     },
     "execution_count": 117,
     "metadata": {},
     "output_type": "execute_result"
    }
   ],
   "source": [
    "s.apr, s.account_type, s.calc_interest()"
   ]
  },
  {
   "cell_type": "code",
   "execution_count": 119,
   "id": "2f1a8d55",
   "metadata": {},
   "outputs": [
    {
     "data": {
      "text/plain": [
       "(3.0, 5.0)"
      ]
     },
     "execution_count": 119,
     "metadata": {},
     "output_type": "execute_result"
    }
   ],
   "source": [
    "Account.apr, SavingAccount.apr"
   ]
  },
  {
   "cell_type": "code",
   "execution_count": 123,
   "id": "0c54746b",
   "metadata": {},
   "outputs": [],
   "source": [
    "class Account:\n",
    "    apr = 3.0\n",
    "    \n",
    "    \n",
    "    def __init__(self, account_number, balance):\n",
    "        self.account_number = account_number\n",
    "        self.balance = balance\n",
    "        self.account_type = 'General account'\n",
    "        \n",
    "    def calc_interest(self):\n",
    "        return f'calc interest on {self.account_type} with APR = {self.apr}'\n",
    "\n",
    "class SavingAccount(Account):\n",
    "    apr = 5.0\n",
    "    \n",
    "    def __init__(self, account_number, balance):\n",
    "        self.account_number = account_number\n",
    "        self.balance = balance\n",
    "        self.account_type = 'Savings account'    "
   ]
  },
  {
   "cell_type": "code",
   "execution_count": 121,
   "id": "cf8ecd43",
   "metadata": {},
   "outputs": [
    {
     "data": {
      "text/plain": [
       "'calc interest on General account with APR = 3.0'"
      ]
     },
     "execution_count": 121,
     "metadata": {},
     "output_type": "execute_result"
    }
   ],
   "source": [
    "a = Account(123, 100)\n",
    "a.calc_interest()"
   ]
  },
  {
   "cell_type": "code",
   "execution_count": 124,
   "id": "96abab80",
   "metadata": {},
   "outputs": [],
   "source": [
    "s = SavingAccount(123, 100)\n",
    "s.apr = 10"
   ]
  },
  {
   "cell_type": "code",
   "execution_count": 125,
   "id": "7a9f51b6",
   "metadata": {},
   "outputs": [
    {
     "data": {
      "text/plain": [
       "{'account_number': 123,\n",
       " 'balance': 100,\n",
       " 'account_type': 'Savings account',\n",
       " 'apr': 10}"
      ]
     },
     "execution_count": 125,
     "metadata": {},
     "output_type": "execute_result"
    }
   ],
   "source": [
    "s.__dict__"
   ]
  },
  {
   "cell_type": "code",
   "execution_count": 126,
   "id": "d046f786",
   "metadata": {},
   "outputs": [
    {
     "data": {
      "text/plain": [
       "'calc interest on Savings account with APR = 10'"
      ]
     },
     "execution_count": 126,
     "metadata": {},
     "output_type": "execute_result"
    }
   ],
   "source": [
    "s.calc_interest()"
   ]
  },
  {
   "cell_type": "code",
   "execution_count": 127,
   "id": "7481e45f",
   "metadata": {},
   "outputs": [],
   "source": [
    "class Account:\n",
    "    apr = 3.0\n",
    "    \n",
    "    \n",
    "    def __init__(self, account_number, balance):\n",
    "        self.account_number = account_number\n",
    "        self.balance = balance\n",
    "        self.account_type = 'General account'\n",
    "        \n",
    "    def calc_interest(self):\n",
    "        return f'calc interest on {self.account_type} with APR = {Account.apr}'\n",
    "\n",
    "class SavingAccount(Account):\n",
    "    apr = 5.0\n",
    "    \n",
    "    def __init__(self, account_number, balance):\n",
    "        self.account_number = account_number\n",
    "        self.balance = balance\n",
    "        self.account_type = 'Savings account'    "
   ]
  },
  {
   "cell_type": "code",
   "execution_count": 128,
   "id": "79b1b3ed",
   "metadata": {},
   "outputs": [],
   "source": [
    "s = SavingAccount(123, 100)\n",
    "s.apr = 10"
   ]
  },
  {
   "cell_type": "code",
   "execution_count": 129,
   "id": "b4b861fa",
   "metadata": {},
   "outputs": [
    {
     "data": {
      "text/plain": [
       "{'account_number': 123,\n",
       " 'balance': 100,\n",
       " 'account_type': 'Savings account',\n",
       " 'apr': 10}"
      ]
     },
     "execution_count": 129,
     "metadata": {},
     "output_type": "execute_result"
    }
   ],
   "source": [
    "s.__dict__"
   ]
  },
  {
   "cell_type": "code",
   "execution_count": 130,
   "id": "4a4674d2",
   "metadata": {},
   "outputs": [
    {
     "data": {
      "text/plain": [
       "'calc interest on Savings account with APR = 3.0'"
      ]
     },
     "execution_count": 130,
     "metadata": {},
     "output_type": "execute_result"
    }
   ],
   "source": [
    "s.calc_interest() # Account.apr uses apr defined in Account class"
   ]
  },
  {
   "cell_type": "code",
   "execution_count": 131,
   "id": "fb60a931",
   "metadata": {},
   "outputs": [],
   "source": [
    "class Account:\n",
    "    apr = 3.0\n",
    "    \n",
    "    \n",
    "    def __init__(self, account_number, balance):\n",
    "        self.account_number = account_number\n",
    "        self.balance = balance\n",
    "        self.account_type = 'General account'\n",
    "        \n",
    "    def calc_interest(self):\n",
    "        return f'calc interest on {self.account_type} with APR = {type(self).apr}'\n",
    "\n",
    "class SavingAccount(Account):\n",
    "    apr = 5.0\n",
    "    \n",
    "    def __init__(self, account_number, balance):\n",
    "        self.account_number = account_number\n",
    "        self.balance = balance\n",
    "        self.account_type = 'Savings account'    "
   ]
  },
  {
   "cell_type": "code",
   "execution_count": 132,
   "id": "531563e2",
   "metadata": {},
   "outputs": [
    {
     "data": {
      "text/plain": [
       "'calc interest on General account with APR = 3.0'"
      ]
     },
     "execution_count": 132,
     "metadata": {},
     "output_type": "execute_result"
    }
   ],
   "source": [
    "a = Account(123, 100)\n",
    "a.calc_interest()"
   ]
  },
  {
   "cell_type": "code",
   "execution_count": 133,
   "id": "63ce7721",
   "metadata": {},
   "outputs": [
    {
     "data": {
      "text/plain": [
       "'calc interest on Savings account with APR = 5.0'"
      ]
     },
     "execution_count": 133,
     "metadata": {},
     "output_type": "execute_result"
    }
   ],
   "source": [
    "s = SavingAccount(123, 100)\n",
    "s.calc_interest()"
   ]
  },
  {
   "cell_type": "code",
   "execution_count": 134,
   "id": "aa20922d",
   "metadata": {},
   "outputs": [],
   "source": [
    "s.apr = 10"
   ]
  },
  {
   "cell_type": "code",
   "execution_count": 135,
   "id": "5980d1db",
   "metadata": {},
   "outputs": [
    {
     "data": {
      "text/plain": [
       "'calc interest on Savings account with APR = 5.0'"
      ]
     },
     "execution_count": 135,
     "metadata": {},
     "output_type": "execute_result"
    }
   ],
   "source": [
    "s.calc_interest()"
   ]
  },
  {
   "cell_type": "code",
   "execution_count": 136,
   "id": "6fdee362",
   "metadata": {},
   "outputs": [],
   "source": [
    "class Account:\n",
    "    apr = 3.0\n",
    "    \n",
    "    \n",
    "    def __init__(self, account_number, balance):\n",
    "        self.account_number = account_number\n",
    "        self.balance = balance\n",
    "        self.account_type = 'General account'\n",
    "        \n",
    "    def calc_interest(self):\n",
    "        return f'calc interest on {self.account_type} with APR = {self.__class__.apr}'\n",
    "\n",
    "class SavingAccount(Account):\n",
    "    apr = 5.0\n",
    "    \n",
    "    def __init__(self, account_number, balance):\n",
    "        self.account_number = account_number\n",
    "        self.balance = balance\n",
    "        self.account_type = 'Savings account'    "
   ]
  },
  {
   "cell_type": "code",
   "execution_count": 137,
   "id": "99aac2b4",
   "metadata": {},
   "outputs": [
    {
     "data": {
      "text/plain": [
       "'calc interest on Savings account with APR = 5.0'"
      ]
     },
     "execution_count": 137,
     "metadata": {},
     "output_type": "execute_result"
    }
   ],
   "source": [
    "s = SavingAccount(123, 100)\n",
    "s.calc_interest()"
   ]
  },
  {
   "cell_type": "code",
   "execution_count": 138,
   "id": "ea9a2a37",
   "metadata": {},
   "outputs": [
    {
     "data": {
      "text/plain": [
       "'calc interest on General account with APR = 3.0'"
      ]
     },
     "execution_count": 138,
     "metadata": {},
     "output_type": "execute_result"
    }
   ],
   "source": [
    "a = Account(123, 100)\n",
    "a.calc_interest()"
   ]
  },
  {
   "cell_type": "markdown",
   "id": "e465dbea",
   "metadata": {},
   "source": [
    "# Delegating to parent"
   ]
  },
  {
   "cell_type": "code",
   "execution_count": 139,
   "id": "9ffcdef5",
   "metadata": {},
   "outputs": [],
   "source": [
    "# super()\n",
    "# super().method()"
   ]
  },
  {
   "cell_type": "code",
   "execution_count": 143,
   "id": "488cf1a2",
   "metadata": {},
   "outputs": [],
   "source": [
    "class Person:\n",
    "    def work(self):\n",
    "        return 'Person works...'\n",
    "    \n",
    "class Student(Person):\n",
    "    def work(self):\n",
    "        result = super().work()\n",
    "        return f'student works...and {result}'"
   ]
  },
  {
   "cell_type": "code",
   "execution_count": 144,
   "id": "86405e27",
   "metadata": {},
   "outputs": [],
   "source": [
    "s = Student()"
   ]
  },
  {
   "cell_type": "code",
   "execution_count": 145,
   "id": "2c72f09d",
   "metadata": {},
   "outputs": [
    {
     "data": {
      "text/plain": [
       "'student works...and Person works...'"
      ]
     },
     "execution_count": 145,
     "metadata": {},
     "output_type": "execute_result"
    }
   ],
   "source": [
    "s.work()"
   ]
  },
  {
   "cell_type": "code",
   "execution_count": 147,
   "id": "aa6c74eb",
   "metadata": {},
   "outputs": [],
   "source": [
    "class Person:\n",
    "    def work(self):\n",
    "        return 'Person works...'\n",
    "    \n",
    "class Student(Person):\n",
    "    pass\n",
    "\n",
    "class PythonStudent(Student):\n",
    "    def work(self):\n",
    "        result = super().work()\n",
    "        return f'Python student codes and {result}'"
   ]
  },
  {
   "cell_type": "code",
   "execution_count": 148,
   "id": "74f2ceeb",
   "metadata": {},
   "outputs": [
    {
     "data": {
      "text/plain": [
       "'Python student codes and Person works...'"
      ]
     },
     "execution_count": 148,
     "metadata": {},
     "output_type": "execute_result"
    }
   ],
   "source": [
    "ps = PythonStudent()\n",
    "ps.work()"
   ]
  },
  {
   "cell_type": "code",
   "execution_count": 149,
   "id": "1a3ee434",
   "metadata": {},
   "outputs": [],
   "source": [
    "class Person:\n",
    "    def work(self):\n",
    "        return 'Person works...'\n",
    "    \n",
    "class Student(Person):\n",
    "    def work(self):\n",
    "        result = super().work()\n",
    "        return f'Student studies and {result}'\n",
    "\n",
    "class PythonStudent(Student):\n",
    "    def work(self):\n",
    "        result = super().work()\n",
    "        return f'Python student codes and {result}'"
   ]
  },
  {
   "cell_type": "code",
   "execution_count": 150,
   "id": "2e63814a",
   "metadata": {},
   "outputs": [
    {
     "data": {
      "text/plain": [
       "'Python student codes and Student studies and Person works...'"
      ]
     },
     "execution_count": 150,
     "metadata": {},
     "output_type": "execute_result"
    }
   ],
   "source": [
    "ps = PythonStudent()\n",
    "ps.work()"
   ]
  },
  {
   "cell_type": "code",
   "execution_count": 152,
   "id": "08e160a4",
   "metadata": {},
   "outputs": [],
   "source": [
    "class Person:\n",
    "    def work(self):\n",
    "        return 'Person works...'\n",
    "    \n",
    "class Student(Person):\n",
    "    def study(self):\n",
    "        return 'Student studies...'\n",
    "\n",
    "class PythonStudent(Student):\n",
    "    def code(self):\n",
    "        result_1 = self.work()\n",
    "        result_2 = self.study()\n",
    "        return f'{result_1} and {result_2} and PythonStudent codes..'"
   ]
  },
  {
   "cell_type": "code",
   "execution_count": 154,
   "id": "bbd9a7e3",
   "metadata": {},
   "outputs": [
    {
     "data": {
      "text/plain": [
       "'Person works... and Student studies... and PythonStudent codes..'"
      ]
     },
     "execution_count": 154,
     "metadata": {},
     "output_type": "execute_result"
    }
   ],
   "source": [
    "ps = PythonStudent()\n",
    "ps.code()"
   ]
  },
  {
   "cell_type": "code",
   "execution_count": 155,
   "id": "954974fe",
   "metadata": {},
   "outputs": [],
   "source": [
    "class Person:\n",
    "    def work(self):\n",
    "        return f'{self} works...'\n",
    "    \n",
    "class Student(Person):\n",
    "    def work(self):\n",
    "        result = super().work()\n",
    "        return f'{self} studies.... and {result}'\n",
    "\n",
    "class PythonStudent(Student):\n",
    "    def work(self):\n",
    "        result = super().work()\n",
    "        return f'{self} codes and {result}'"
   ]
  },
  {
   "cell_type": "code",
   "execution_count": 156,
   "id": "0004db69",
   "metadata": {},
   "outputs": [],
   "source": [
    "ps = PythonStudent()"
   ]
  },
  {
   "cell_type": "code",
   "execution_count": 157,
   "id": "f91d148e",
   "metadata": {},
   "outputs": [
    {
     "data": {
      "text/plain": [
       "'0x1104803d0'"
      ]
     },
     "execution_count": 157,
     "metadata": {},
     "output_type": "execute_result"
    }
   ],
   "source": [
    "hex(id(ps))"
   ]
  },
  {
   "cell_type": "code",
   "execution_count": 158,
   "id": "9375a0f0",
   "metadata": {},
   "outputs": [
    {
     "data": {
      "text/plain": [
       "'<__main__.PythonStudent object at 0x1104803d0> codes and <__main__.PythonStudent object at 0x1104803d0> studies.... and <__main__.PythonStudent object at 0x1104803d0> works...'"
      ]
     },
     "execution_count": 158,
     "metadata": {},
     "output_type": "execute_result"
    }
   ],
   "source": [
    "ps.work()"
   ]
  },
  {
   "cell_type": "code",
   "execution_count": 163,
   "id": "26207319",
   "metadata": {},
   "outputs": [],
   "source": [
    "class Person:\n",
    "    def set_name(self, value):\n",
    "        print('Setting name using person set_name method...')\n",
    "        self.name = value\n",
    "        \n",
    "class Student(Person):\n",
    "    def set_name(self, value):\n",
    "        print('Student class delegating back to parent...')\n",
    "        super().set_name(value)"
   ]
  },
  {
   "cell_type": "code",
   "execution_count": 164,
   "id": "4af359c4",
   "metadata": {},
   "outputs": [],
   "source": [
    "s = Student()"
   ]
  },
  {
   "cell_type": "code",
   "execution_count": 165,
   "id": "ebc12450",
   "metadata": {},
   "outputs": [
    {
     "name": "stdout",
     "output_type": "stream",
     "text": [
      "Student class delegating back to parent...\n",
      "Setting name using person set_name method...\n"
     ]
    }
   ],
   "source": [
    "s.set_name('Alex')"
   ]
  },
  {
   "cell_type": "code",
   "execution_count": 166,
   "id": "91b5a121",
   "metadata": {},
   "outputs": [
    {
     "data": {
      "text/plain": [
       "{'name': 'Alex'}"
      ]
     },
     "execution_count": 166,
     "metadata": {},
     "output_type": "execute_result"
    }
   ],
   "source": [
    "s.__dict__"
   ]
  },
  {
   "cell_type": "code",
   "execution_count": 167,
   "id": "fd084416",
   "metadata": {},
   "outputs": [],
   "source": [
    "class Person:\n",
    "    def __init__(self, value):\n",
    "        self.name = value\n",
    "        \n",
    "class Student(Person):\n",
    "    def __init__(self, value, student_number):\n",
    "        \n",
    "        super().__init__(value)\n",
    "        self.student_number = student_number"
   ]
  },
  {
   "cell_type": "code",
   "execution_count": 169,
   "id": "f2e9a8c7",
   "metadata": {},
   "outputs": [],
   "source": [
    "s = Student('Python',30)"
   ]
  },
  {
   "cell_type": "code",
   "execution_count": 170,
   "id": "5e989a33",
   "metadata": {},
   "outputs": [
    {
     "data": {
      "text/plain": [
       "{'name': 'Python', 'student_number': 30}"
      ]
     },
     "execution_count": 170,
     "metadata": {},
     "output_type": "execute_result"
    }
   ],
   "source": [
    "s.__dict__"
   ]
  },
  {
   "cell_type": "code",
   "execution_count": 171,
   "id": "3c0ccb3b",
   "metadata": {},
   "outputs": [],
   "source": [
    "class Person:\n",
    "    def __init__(self, value):\n",
    "        self.name = value\n",
    "        \n",
    "class Student(Person):\n",
    "    pass"
   ]
  },
  {
   "cell_type": "code",
   "execution_count": 173,
   "id": "6da4821f",
   "metadata": {},
   "outputs": [
    {
     "ename": "TypeError",
     "evalue": "Person.__init__() missing 1 required positional argument: 'value'",
     "output_type": "error",
     "traceback": [
      "\u001b[0;31m---------------------------------------------------------------------------\u001b[0m",
      "\u001b[0;31mTypeError\u001b[0m                                 Traceback (most recent call last)",
      "Cell \u001b[0;32mIn[173], line 1\u001b[0m\n\u001b[0;32m----> 1\u001b[0m s \u001b[38;5;241m=\u001b[39m Student()\n",
      "\u001b[0;31mTypeError\u001b[0m: Person.__init__() missing 1 required positional argument: 'value'"
     ]
    }
   ],
   "source": [
    "s = Student() # errored out because Student inherits the init method from Person and that init expects a parameter"
   ]
  },
  {
   "cell_type": "code",
   "execution_count": 174,
   "id": "6fc06f53",
   "metadata": {},
   "outputs": [],
   "source": [
    "s = Student('abc')"
   ]
  },
  {
   "cell_type": "code",
   "execution_count": 175,
   "id": "822c7e4a",
   "metadata": {},
   "outputs": [
    {
     "data": {
      "text/plain": [
       "{'name': 'abc'}"
      ]
     },
     "execution_count": 175,
     "metadata": {},
     "output_type": "execute_result"
    }
   ],
   "source": [
    "s.__dict__"
   ]
  },
  {
   "cell_type": "code",
   "execution_count": 176,
   "id": "51af7d6c",
   "metadata": {},
   "outputs": [],
   "source": [
    "class Person:\n",
    "    pass"
   ]
  },
  {
   "cell_type": "code",
   "execution_count": 177,
   "id": "22bb1639",
   "metadata": {},
   "outputs": [
    {
     "data": {
      "text/plain": [
       "True"
      ]
     },
     "execution_count": 177,
     "metadata": {},
     "output_type": "execute_result"
    }
   ],
   "source": [
    "Person.__init__ is object.__init__"
   ]
  },
  {
   "cell_type": "code",
   "execution_count": 178,
   "id": "4199df19",
   "metadata": {},
   "outputs": [],
   "source": [
    "p = Person()"
   ]
  },
  {
   "cell_type": "code",
   "execution_count": 186,
   "id": "acde7ff1",
   "metadata": {},
   "outputs": [],
   "source": [
    "from math import pi\n",
    "from numbers import Real\n",
    "\n",
    "class Circle:\n",
    "    def __init__(self, r):\n",
    "        self._r = r\n",
    "        self._area = None\n",
    "        self._perimeter = None\n",
    "        \n",
    "    @property\n",
    "    def radius(self):\n",
    "        return self._r\n",
    "    \n",
    "    @radius.setter\n",
    "    def radius(self, r):\n",
    "        if isinstance(r, Real) and r>0:\n",
    "            self._r = r\n",
    "            self._area = None\n",
    "            self._perimeter = None\n",
    "            \n",
    "        else:\n",
    "            raise ValueError('Radius must be a positive real number.')\n",
    "            \n",
    "    @property\n",
    "    def area(self):\n",
    "        if self._area is None:\n",
    "            self._area = pi * self.radius **2\n",
    "        return self._area\n",
    "    \n",
    "    \n",
    "    @property\n",
    "    def perimeter(self):\n",
    "        if self._perimeter is None:\n",
    "            self._perimeter = 2 * pi * self.radius\n",
    "        return self._perimeter    "
   ]
  },
  {
   "cell_type": "code",
   "execution_count": 187,
   "id": "cd86ef9a",
   "metadata": {},
   "outputs": [],
   "source": [
    "class UnitCircle(Circle):\n",
    "    def __init__(self):\n",
    "        super().__init__(1)"
   ]
  },
  {
   "cell_type": "code",
   "execution_count": 188,
   "id": "708b0b19",
   "metadata": {},
   "outputs": [],
   "source": [
    "u  = UnitCircle()"
   ]
  },
  {
   "cell_type": "code",
   "execution_count": 189,
   "id": "532263d6",
   "metadata": {},
   "outputs": [
    {
     "data": {
      "text/plain": [
       "(1, 3.141592653589793, 6.283185307179586)"
      ]
     },
     "execution_count": 189,
     "metadata": {},
     "output_type": "execute_result"
    }
   ],
   "source": [
    "u.radius, u.area, u.perimeter"
   ]
  },
  {
   "cell_type": "code",
   "execution_count": 190,
   "id": "b4695b5e",
   "metadata": {},
   "outputs": [],
   "source": [
    "u.radius = 10"
   ]
  },
  {
   "cell_type": "code",
   "execution_count": 191,
   "id": "9e59d8ac",
   "metadata": {},
   "outputs": [
    {
     "data": {
      "text/plain": [
       "{'_r': 10, '_area': None, '_perimeter': None}"
      ]
     },
     "execution_count": 191,
     "metadata": {},
     "output_type": "execute_result"
    }
   ],
   "source": [
    "u.__dict__"
   ]
  },
  {
   "cell_type": "code",
   "execution_count": 194,
   "id": "a3c02f3d",
   "metadata": {},
   "outputs": [],
   "source": [
    "class UnitCircle(Circle):\n",
    "    def __init__(self):\n",
    "        super().__init__(1)\n",
    "        \n",
    "    @property\n",
    "    def radius(self):\n",
    "        return super().radius"
   ]
  },
  {
   "cell_type": "code",
   "execution_count": 195,
   "id": "041c21f7",
   "metadata": {},
   "outputs": [],
   "source": [
    "u = UnitCircle()"
   ]
  },
  {
   "cell_type": "code",
   "execution_count": 202,
   "id": "36370063",
   "metadata": {},
   "outputs": [],
   "source": [
    "from math import pi\n",
    "from numbers import Real\n",
    "\n",
    "class Circle:\n",
    "    def __init__(self, r):\n",
    "        self.set_radius(r)\n",
    "        self._area = None\n",
    "        self._perimeter = None\n",
    "        \n",
    "    @property\n",
    "    def radius(self):\n",
    "        return self._r\n",
    "    \n",
    "    def set_radius(self, r):\n",
    "        if isinstance(r, Real) and r>0:\n",
    "            self._r = r\n",
    "            self._area = None\n",
    "            self._perimeter = None\n",
    "            \n",
    "        else:\n",
    "            raise ValueError('Radius must be a positive real number.')\n",
    "            \n",
    "    \n",
    "    @radius.setter\n",
    "    def radius(self, r):\n",
    "        return self.set_radius(r)\n",
    "            \n",
    "    @property\n",
    "    def area(self):\n",
    "        if self._area is None:\n",
    "            self._area = pi * self.radius **2\n",
    "        return self._area\n",
    "    \n",
    "    \n",
    "    @property\n",
    "    def perimeter(self):\n",
    "        if self._perimeter is None:\n",
    "            self._perimeter = 2 * pi * self.radius\n",
    "        return self._perimeter    \n",
    "    \n",
    "\n",
    "    \n",
    "class UnitCircle(Circle):\n",
    "    def __init__(self):\n",
    "        super().__init__(1)\n",
    "    \n",
    "    # radius as private property\n",
    "    @property\n",
    "    def radius(self):\n",
    "        return super().radius    \n",
    "    "
   ]
  },
  {
   "cell_type": "code",
   "execution_count": 203,
   "id": "43ab1686",
   "metadata": {},
   "outputs": [],
   "source": [
    "u = UnitCircle()"
   ]
  },
  {
   "cell_type": "code",
   "execution_count": 204,
   "id": "839cdb00",
   "metadata": {},
   "outputs": [
    {
     "data": {
      "text/plain": [
       "1"
      ]
     },
     "execution_count": 204,
     "metadata": {},
     "output_type": "execute_result"
    }
   ],
   "source": [
    "u.radius"
   ]
  },
  {
   "cell_type": "code",
   "execution_count": 205,
   "id": "27b2fe87",
   "metadata": {},
   "outputs": [
    {
     "ename": "AttributeError",
     "evalue": "property 'radius' of 'UnitCircle' object has no setter",
     "output_type": "error",
     "traceback": [
      "\u001b[0;31m---------------------------------------------------------------------------\u001b[0m",
      "\u001b[0;31mAttributeError\u001b[0m                            Traceback (most recent call last)",
      "Cell \u001b[0;32mIn[205], line 1\u001b[0m\n\u001b[0;32m----> 1\u001b[0m u\u001b[38;5;241m.\u001b[39mradius \u001b[38;5;241m=\u001b[39m \u001b[38;5;241m100\u001b[39m\n",
      "\u001b[0;31mAttributeError\u001b[0m: property 'radius' of 'UnitCircle' object has no setter"
     ]
    }
   ],
   "source": [
    "u.radius = 100"
   ]
  },
  {
   "cell_type": "code",
   "execution_count": 206,
   "id": "08d0d8e4",
   "metadata": {},
   "outputs": [],
   "source": [
    "u.set_radius(100)"
   ]
  },
  {
   "cell_type": "code",
   "execution_count": 207,
   "id": "c01c5d41",
   "metadata": {},
   "outputs": [
    {
     "data": {
      "text/plain": [
       "100"
      ]
     },
     "execution_count": 207,
     "metadata": {},
     "output_type": "execute_result"
    }
   ],
   "source": [
    "u.radius"
   ]
  },
  {
   "cell_type": "markdown",
   "id": "64dca949",
   "metadata": {},
   "source": [
    "## Slots"
   ]
  },
  {
   "cell_type": "code",
   "execution_count": 208,
   "id": "bcc5b3d9",
   "metadata": {},
   "outputs": [],
   "source": [
    "# We can tell python that a class will contain only certain pre-determined attributes\n",
    "# Python will then use a more compact data structure to store attribute values\n",
    "# memory savings\n",
    "# if we use slots, then we can't add attributes to our objects that are not definted in slots\n",
    "# slot lock down only instance attribute not class attribute"
   ]
  },
  {
   "cell_type": "code",
   "execution_count": 209,
   "id": "c00f47d4",
   "metadata": {},
   "outputs": [],
   "source": [
    "class Location:\n",
    "    __slots__ = 'name','_longitude', '_latitude'\n",
    "    \n",
    "    def __init__(self, name, longitude, latitude):\n",
    "        self._longitude = longitude\n",
    "        self._latitude = latitude\n",
    "        self.name = name\n",
    "     \n",
    "    @property\n",
    "    def longitude(self):\n",
    "        return self._longitude\n",
    "    \n",
    "    @property\n",
    "    def latitude(self):\n",
    "        return self._latitude"
   ]
  },
  {
   "cell_type": "code",
   "execution_count": 211,
   "id": "ad0c3cd9",
   "metadata": {},
   "outputs": [
    {
     "data": {
      "text/plain": [
       "mappingproxy({'__module__': '__main__',\n",
       "              '__slots__': ('name', '_longitude', '_latitude'),\n",
       "              '__init__': <function __main__.Location.__init__(self, name, longitude, latitude)>,\n",
       "              'longitude': <property at 0x10f400f40>,\n",
       "              'latitude': <property at 0x1106159e0>,\n",
       "              '_latitude': <member '_latitude' of 'Location' objects>,\n",
       "              '_longitude': <member '_longitude' of 'Location' objects>,\n",
       "              'name': <member 'name' of 'Location' objects>,\n",
       "              '__doc__': None})"
      ]
     },
     "execution_count": 211,
     "metadata": {},
     "output_type": "execute_result"
    }
   ],
   "source": [
    "Location.__dict__"
   ]
  },
  {
   "cell_type": "code",
   "execution_count": 212,
   "id": "327ac1ca",
   "metadata": {},
   "outputs": [],
   "source": [
    "Location.map_service = 'Google maps'"
   ]
  },
  {
   "cell_type": "code",
   "execution_count": 213,
   "id": "26820623",
   "metadata": {},
   "outputs": [
    {
     "data": {
      "text/plain": [
       "mappingproxy({'__module__': '__main__',\n",
       "              '__slots__': ('name', '_longitude', '_latitude'),\n",
       "              '__init__': <function __main__.Location.__init__(self, name, longitude, latitude)>,\n",
       "              'longitude': <property at 0x10f400f40>,\n",
       "              'latitude': <property at 0x1106159e0>,\n",
       "              '_latitude': <member '_latitude' of 'Location' objects>,\n",
       "              '_longitude': <member '_longitude' of 'Location' objects>,\n",
       "              'name': <member 'name' of 'Location' objects>,\n",
       "              '__doc__': None,\n",
       "              'map_service': 'Google maps'})"
      ]
     },
     "execution_count": 213,
     "metadata": {},
     "output_type": "execute_result"
    }
   ],
   "source": [
    "Location.__dict__"
   ]
  },
  {
   "cell_type": "code",
   "execution_count": 214,
   "id": "1815a25b",
   "metadata": {},
   "outputs": [],
   "source": [
    "l = Location('Mumbai', longitude = 19.0760, latitude = 72.8)"
   ]
  },
  {
   "cell_type": "code",
   "execution_count": 215,
   "id": "d26269fd",
   "metadata": {},
   "outputs": [
    {
     "ename": "AttributeError",
     "evalue": "'Location' object has no attribute '__dict__'",
     "output_type": "error",
     "traceback": [
      "\u001b[0;31m---------------------------------------------------------------------------\u001b[0m",
      "\u001b[0;31mAttributeError\u001b[0m                            Traceback (most recent call last)",
      "Cell \u001b[0;32mIn[215], line 1\u001b[0m\n\u001b[0;32m----> 1\u001b[0m l\u001b[38;5;241m.\u001b[39m\u001b[38;5;18m__dict__\u001b[39m\n",
      "\u001b[0;31mAttributeError\u001b[0m: 'Location' object has no attribute '__dict__'"
     ]
    }
   ],
   "source": [
    "l.__dict__ # l does't have instance dict because we used slots"
   ]
  },
  {
   "cell_type": "code",
   "execution_count": 216,
   "id": "6b5aa56f",
   "metadata": {},
   "outputs": [
    {
     "ename": "AttributeError",
     "evalue": "'Location' object has no attribute 'map_link'",
     "output_type": "error",
     "traceback": [
      "\u001b[0;31m---------------------------------------------------------------------------\u001b[0m",
      "\u001b[0;31mAttributeError\u001b[0m                            Traceback (most recent call last)",
      "Cell \u001b[0;32mIn[216], line 1\u001b[0m\n\u001b[0;32m----> 1\u001b[0m l\u001b[38;5;241m.\u001b[39mmap_link \u001b[38;5;241m=\u001b[39m \u001b[38;5;124m'\u001b[39m\u001b[38;5;124mhttps://...\u001b[39m\u001b[38;5;124m'\u001b[39m\n",
      "\u001b[0;31mAttributeError\u001b[0m: 'Location' object has no attribute 'map_link'"
     ]
    }
   ],
   "source": [
    "l.map_link = 'https://...' # slots locks instance attributes"
   ]
  },
  {
   "cell_type": "code",
   "execution_count": 217,
   "id": "6ac84468",
   "metadata": {},
   "outputs": [],
   "source": [
    "del l.name # can delete slots attribute in instance"
   ]
  },
  {
   "cell_type": "code",
   "execution_count": 218,
   "id": "3e753be9",
   "metadata": {},
   "outputs": [
    {
     "ename": "AttributeError",
     "evalue": "'Location' object has no attribute 'name'",
     "output_type": "error",
     "traceback": [
      "\u001b[0;31m---------------------------------------------------------------------------\u001b[0m",
      "\u001b[0;31mAttributeError\u001b[0m                            Traceback (most recent call last)",
      "Cell \u001b[0;32mIn[218], line 1\u001b[0m\n\u001b[0;32m----> 1\u001b[0m l\u001b[38;5;241m.\u001b[39mname\n",
      "\u001b[0;31mAttributeError\u001b[0m: 'Location' object has no attribute 'name'"
     ]
    }
   ],
   "source": [
    "l.name"
   ]
  },
  {
   "cell_type": "code",
   "execution_count": 219,
   "id": "3a4b2584",
   "metadata": {},
   "outputs": [],
   "source": [
    "l.name = 'Mumbai'"
   ]
  },
  {
   "cell_type": "code",
   "execution_count": 220,
   "id": "59955f2b",
   "metadata": {},
   "outputs": [
    {
     "data": {
      "text/plain": [
       "'Mumbai'"
      ]
     },
     "execution_count": 220,
     "metadata": {},
     "output_type": "execute_result"
    }
   ],
   "source": [
    "l.name"
   ]
  },
  {
   "cell_type": "code",
   "execution_count": 221,
   "id": "2e25587d",
   "metadata": {},
   "outputs": [
    {
     "ename": "AttributeError",
     "evalue": "property 'longitude' of 'Location' object has no deleter",
     "output_type": "error",
     "traceback": [
      "\u001b[0;31m---------------------------------------------------------------------------\u001b[0m",
      "\u001b[0;31mAttributeError\u001b[0m                            Traceback (most recent call last)",
      "Cell \u001b[0;32mIn[221], line 1\u001b[0m\n\u001b[0;32m----> 1\u001b[0m \u001b[38;5;28;01mdel\u001b[39;00m l\u001b[38;5;241m.\u001b[39mlongitude\n",
      "\u001b[0;31mAttributeError\u001b[0m: property 'longitude' of 'Location' object has no deleter"
     ]
    }
   ],
   "source": [
    "del l.longitude # need to define deleter for this..."
   ]
  },
  {
   "cell_type": "code",
   "execution_count": 222,
   "id": "adbae872",
   "metadata": {},
   "outputs": [],
   "source": [
    "del l._longitude"
   ]
  },
  {
   "cell_type": "markdown",
   "id": "b2c55841",
   "metadata": {},
   "source": [
    "## Slots and single inheritance"
   ]
  },
  {
   "cell_type": "code",
   "execution_count": null,
   "id": "22a1e52f",
   "metadata": {},
   "outputs": [],
   "source": []
  }
 ],
 "metadata": {
  "kernelspec": {
   "display_name": "Python 3 (ipykernel)",
   "language": "python",
   "name": "python3"
  },
  "language_info": {
   "codemirror_mode": {
    "name": "ipython",
    "version": 3
   },
   "file_extension": ".py",
   "mimetype": "text/x-python",
   "name": "python",
   "nbconvert_exporter": "python",
   "pygments_lexer": "ipython3",
   "version": "3.11.4"
  }
 },
 "nbformat": 4,
 "nbformat_minor": 5
}
