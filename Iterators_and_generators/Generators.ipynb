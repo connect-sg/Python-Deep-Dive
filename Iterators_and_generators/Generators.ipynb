{
 "cells": [
  {
   "cell_type": "markdown",
   "id": "ebfa5e92",
   "metadata": {},
   "source": [
    "# Yielding and Generators"
   ]
  },
  {
   "cell_type": "code",
   "execution_count": null,
   "id": "f9b02870",
   "metadata": {},
   "outputs": [],
   "source": [
    "# Yield emits a value\n",
    "# function is effectively suspended\n",
    "# call next on the function resume running function right after the yield statement\n",
    "# if function returns something instead of yielding -> stop interation\n",
    "\n",
    "# A function that uses yield is called generator\n",
    "# next and StopIteration \n",
    "# generators are iterators\n",
    "# gen = func() # func is generator ie. function with yield\n",
    "# gen.__iter__() or iter(gen)\n",
    "# next(gen)\n",
    "# gernarator are lazy iterator\n",
    "# generator become exhausted once they return value from function"
   ]
  },
  {
   "cell_type": "code",
   "execution_count": 1,
   "id": "eb0547e9",
   "metadata": {},
   "outputs": [],
   "source": [
    "def song():\n",
    "    print('line 1')\n",
    "    yield \"yeild 1\"\n",
    "    print('line 2')\n",
    "    yield \"yield 2\""
   ]
  },
  {
   "cell_type": "code",
   "execution_count": 7,
   "id": "fa3f604e",
   "metadata": {},
   "outputs": [],
   "source": [
    "lines = song() # no output"
   ]
  },
  {
   "cell_type": "code",
   "execution_count": 8,
   "id": "b56d7b85",
   "metadata": {},
   "outputs": [
    {
     "data": {
      "text/plain": [
       "<generator object song at 0x105791fc0>"
      ]
     },
     "execution_count": 8,
     "metadata": {},
     "output_type": "execute_result"
    }
   ],
   "source": [
    "lines"
   ]
  },
  {
   "cell_type": "code",
   "execution_count": 9,
   "id": "318c458d",
   "metadata": {},
   "outputs": [
    {
     "name": "stdout",
     "output_type": "stream",
     "text": [
      "line 1\n"
     ]
    }
   ],
   "source": [
    "line = next(lines)"
   ]
  },
  {
   "cell_type": "code",
   "execution_count": 10,
   "id": "a4c86240",
   "metadata": {},
   "outputs": [
    {
     "data": {
      "text/plain": [
       "'yeild 1'"
      ]
     },
     "execution_count": 10,
     "metadata": {},
     "output_type": "execute_result"
    }
   ],
   "source": [
    "line"
   ]
  },
  {
   "cell_type": "code",
   "execution_count": 11,
   "id": "0392bf56",
   "metadata": {},
   "outputs": [
    {
     "name": "stdout",
     "output_type": "stream",
     "text": [
      "line 2\n"
     ]
    }
   ],
   "source": [
    "line = next(lines)"
   ]
  },
  {
   "cell_type": "code",
   "execution_count": 12,
   "id": "6c8d0cb7",
   "metadata": {},
   "outputs": [
    {
     "data": {
      "text/plain": [
       "'yield 2'"
      ]
     },
     "execution_count": 12,
     "metadata": {},
     "output_type": "execute_result"
    }
   ],
   "source": [
    "line"
   ]
  },
  {
   "cell_type": "code",
   "execution_count": 13,
   "id": "b685d07e",
   "metadata": {},
   "outputs": [],
   "source": [
    "# Example 1"
   ]
  },
  {
   "cell_type": "code",
   "execution_count": 14,
   "id": "1d1c5643",
   "metadata": {},
   "outputs": [],
   "source": [
    "import math"
   ]
  },
  {
   "cell_type": "code",
   "execution_count": 15,
   "id": "a11759d7",
   "metadata": {},
   "outputs": [],
   "source": [
    "class Factiter:\n",
    "    def __init__(self, n):\n",
    "        self.n = n \n",
    "        self.i = 0\n",
    "        \n",
    "    def __iter__(self):\n",
    "        return self\n",
    "    \n",
    "    def __next__(self):\n",
    "        if self.i>=self.n:\n",
    "            raise StopIteration\n",
    "        else:\n",
    "            result = math.factorial(self.i)\n",
    "            self.i+=1 \n",
    "            return result\n",
    "        "
   ]
  },
  {
   "cell_type": "code",
   "execution_count": 16,
   "id": "7c7a0210",
   "metadata": {},
   "outputs": [],
   "source": [
    "fact_iter = Factiter(5)"
   ]
  },
  {
   "cell_type": "code",
   "execution_count": 17,
   "id": "31a08b9c",
   "metadata": {},
   "outputs": [
    {
     "data": {
      "text/plain": [
       "[1, 1, 2, 6, 24]"
      ]
     },
     "execution_count": 17,
     "metadata": {},
     "output_type": "execute_result"
    }
   ],
   "source": [
    "list(fact_iter)"
   ]
  },
  {
   "cell_type": "code",
   "execution_count": 18,
   "id": "650cc6ac",
   "metadata": {},
   "outputs": [
    {
     "data": {
      "text/plain": [
       "[]"
      ]
     },
     "execution_count": 18,
     "metadata": {},
     "output_type": "execute_result"
    }
   ],
   "source": [
    "list(fact_iter)"
   ]
  },
  {
   "cell_type": "code",
   "execution_count": 19,
   "id": "ac1ed95b",
   "metadata": {},
   "outputs": [
    {
     "ename": "StopIteration",
     "evalue": "",
     "output_type": "error",
     "traceback": [
      "\u001b[0;31m---------------------------------------------------------------------------\u001b[0m",
      "\u001b[0;31mStopIteration\u001b[0m                             Traceback (most recent call last)",
      "Cell \u001b[0;32mIn[19], line 1\u001b[0m\n\u001b[0;32m----> 1\u001b[0m \u001b[38;5;28mnext\u001b[39m(fact_iter)\n",
      "Cell \u001b[0;32mIn[15], line 11\u001b[0m, in \u001b[0;36mFactiter.__next__\u001b[0;34m(self)\u001b[0m\n\u001b[1;32m      9\u001b[0m \u001b[38;5;28;01mdef\u001b[39;00m \u001b[38;5;21m__next__\u001b[39m(\u001b[38;5;28mself\u001b[39m):\n\u001b[1;32m     10\u001b[0m     \u001b[38;5;28;01mif\u001b[39;00m \u001b[38;5;28mself\u001b[39m\u001b[38;5;241m.\u001b[39mi\u001b[38;5;241m>\u001b[39m\u001b[38;5;241m=\u001b[39m\u001b[38;5;28mself\u001b[39m\u001b[38;5;241m.\u001b[39mn:\n\u001b[0;32m---> 11\u001b[0m         \u001b[38;5;28;01mraise\u001b[39;00m \u001b[38;5;167;01mStopIteration\u001b[39;00m\n\u001b[1;32m     12\u001b[0m     \u001b[38;5;28;01melse\u001b[39;00m:\n\u001b[1;32m     13\u001b[0m         result \u001b[38;5;241m=\u001b[39m math\u001b[38;5;241m.\u001b[39mfactorial(\u001b[38;5;28mself\u001b[39m\u001b[38;5;241m.\u001b[39mi)\n",
      "\u001b[0;31mStopIteration\u001b[0m: "
     ]
    }
   ],
   "source": [
    "next(fact_iter)"
   ]
  },
  {
   "cell_type": "code",
   "execution_count": 20,
   "id": "1915fc10",
   "metadata": {},
   "outputs": [],
   "source": [
    "def fact():\n",
    "    i = 0 \n",
    "    def inner():\n",
    "        nonlocal i\n",
    "        result = math.factorial(i)\n",
    "        i = i+1\n",
    "        return result\n",
    "    return inner\n"
   ]
  },
  {
   "cell_type": "code",
   "execution_count": 21,
   "id": "b6664d34",
   "metadata": {},
   "outputs": [],
   "source": [
    "f = fact()"
   ]
  },
  {
   "cell_type": "code",
   "execution_count": 22,
   "id": "6c36f19d",
   "metadata": {},
   "outputs": [
    {
     "data": {
      "text/plain": [
       "1"
      ]
     },
     "execution_count": 22,
     "metadata": {},
     "output_type": "execute_result"
    }
   ],
   "source": [
    "f()"
   ]
  },
  {
   "cell_type": "code",
   "execution_count": 23,
   "id": "6a317250",
   "metadata": {},
   "outputs": [
    {
     "data": {
      "text/plain": [
       "1"
      ]
     },
     "execution_count": 23,
     "metadata": {},
     "output_type": "execute_result"
    }
   ],
   "source": [
    "f()"
   ]
  },
  {
   "cell_type": "code",
   "execution_count": 24,
   "id": "e6b4621f",
   "metadata": {},
   "outputs": [
    {
     "data": {
      "text/plain": [
       "2"
      ]
     },
     "execution_count": 24,
     "metadata": {},
     "output_type": "execute_result"
    }
   ],
   "source": [
    "f()"
   ]
  },
  {
   "cell_type": "code",
   "execution_count": 25,
   "id": "ae0d339a",
   "metadata": {},
   "outputs": [
    {
     "data": {
      "text/plain": [
       "6"
      ]
     },
     "execution_count": 25,
     "metadata": {},
     "output_type": "execute_result"
    }
   ],
   "source": [
    "f()"
   ]
  },
  {
   "cell_type": "code",
   "execution_count": 26,
   "id": "aad5c0bd",
   "metadata": {},
   "outputs": [
    {
     "data": {
      "text/plain": [
       "24"
      ]
     },
     "execution_count": 26,
     "metadata": {},
     "output_type": "execute_result"
    }
   ],
   "source": [
    "f()"
   ]
  },
  {
   "cell_type": "code",
   "execution_count": 27,
   "id": "03947723",
   "metadata": {},
   "outputs": [
    {
     "data": {
      "text/plain": [
       "120"
      ]
     },
     "execution_count": 27,
     "metadata": {},
     "output_type": "execute_result"
    }
   ],
   "source": [
    "f()"
   ]
  },
  {
   "cell_type": "code",
   "execution_count": 31,
   "id": "5e2b9142",
   "metadata": {},
   "outputs": [],
   "source": [
    "fact_iter = iter(fact(), math.factorial(5))"
   ]
  },
  {
   "cell_type": "code",
   "execution_count": 33,
   "id": "63d7a844",
   "metadata": {},
   "outputs": [
    {
     "data": {
      "text/plain": [
       "[1, 1, 2, 6, 24]"
      ]
     },
     "execution_count": 33,
     "metadata": {},
     "output_type": "execute_result"
    }
   ],
   "source": [
    "list(fact_iter)"
   ]
  },
  {
   "cell_type": "code",
   "execution_count": 34,
   "id": "6862e271",
   "metadata": {},
   "outputs": [
    {
     "data": {
      "text/plain": [
       "[]"
      ]
     },
     "execution_count": 34,
     "metadata": {},
     "output_type": "execute_result"
    }
   ],
   "source": [
    "list(fact_iter)"
   ]
  },
  {
   "cell_type": "code",
   "execution_count": 35,
   "id": "7d0d029c",
   "metadata": {},
   "outputs": [],
   "source": [
    "def my_func():\n",
    "    print('line 1')\n",
    "    yield \"Flying\"\n",
    "    print('line 2')\n",
    "    yield \"Circus\""
   ]
  },
  {
   "cell_type": "code",
   "execution_count": 36,
   "id": "7a7f4378",
   "metadata": {},
   "outputs": [
    {
     "data": {
      "text/plain": [
       "function"
      ]
     },
     "execution_count": 36,
     "metadata": {},
     "output_type": "execute_result"
    }
   ],
   "source": [
    "type(my_func)"
   ]
  },
  {
   "cell_type": "code",
   "execution_count": 37,
   "id": "350b7f51",
   "metadata": {},
   "outputs": [],
   "source": [
    "f = my_func()"
   ]
  },
  {
   "cell_type": "code",
   "execution_count": 38,
   "id": "ad2ff32f",
   "metadata": {},
   "outputs": [
    {
     "data": {
      "text/plain": [
       "generator"
      ]
     },
     "execution_count": 38,
     "metadata": {},
     "output_type": "execute_result"
    }
   ],
   "source": [
    "type(f)"
   ]
  },
  {
   "cell_type": "code",
   "execution_count": 39,
   "id": "070004bf",
   "metadata": {},
   "outputs": [
    {
     "data": {
      "text/plain": [
       "True"
      ]
     },
     "execution_count": 39,
     "metadata": {},
     "output_type": "execute_result"
    }
   ],
   "source": [
    "'__iter__' in dir(f)"
   ]
  },
  {
   "cell_type": "code",
   "execution_count": 40,
   "id": "30fa1007",
   "metadata": {},
   "outputs": [
    {
     "data": {
      "text/plain": [
       "True"
      ]
     },
     "execution_count": 40,
     "metadata": {},
     "output_type": "execute_result"
    }
   ],
   "source": [
    "iter(f) is f"
   ]
  },
  {
   "cell_type": "code",
   "execution_count": 41,
   "id": "678d6c57",
   "metadata": {},
   "outputs": [
    {
     "name": "stdout",
     "output_type": "stream",
     "text": [
      "line 1\n"
     ]
    },
    {
     "data": {
      "text/plain": [
       "'Flying'"
      ]
     },
     "execution_count": 41,
     "metadata": {},
     "output_type": "execute_result"
    }
   ],
   "source": [
    "f.__next__() # after this the funciton is in suspended state"
   ]
  },
  {
   "cell_type": "code",
   "execution_count": 42,
   "id": "ef3b4cf7",
   "metadata": {},
   "outputs": [
    {
     "name": "stdout",
     "output_type": "stream",
     "text": [
      "line 2\n"
     ]
    },
    {
     "data": {
      "text/plain": [
       "'Circus'"
      ]
     },
     "execution_count": 42,
     "metadata": {},
     "output_type": "execute_result"
    }
   ],
   "source": [
    "f.__next__() # function resumes"
   ]
  },
  {
   "cell_type": "code",
   "execution_count": 43,
   "id": "f9f964ae",
   "metadata": {},
   "outputs": [
    {
     "ename": "StopIteration",
     "evalue": "",
     "output_type": "error",
     "traceback": [
      "\u001b[0;31m---------------------------------------------------------------------------\u001b[0m",
      "\u001b[0;31mStopIteration\u001b[0m                             Traceback (most recent call last)",
      "Cell \u001b[0;32mIn[43], line 1\u001b[0m\n\u001b[0;32m----> 1\u001b[0m f\u001b[38;5;241m.\u001b[39m\u001b[38;5;21m__next__\u001b[39m()\n",
      "\u001b[0;31mStopIteration\u001b[0m: "
     ]
    }
   ],
   "source": [
    "f.__next__() # exhausted"
   ]
  },
  {
   "cell_type": "code",
   "execution_count": 44,
   "id": "735cf7cd",
   "metadata": {},
   "outputs": [],
   "source": [
    "def fact(n):\n",
    "    for i in range(n):\n",
    "        print(math.factorial(i))"
   ]
  },
  {
   "cell_type": "code",
   "execution_count": 45,
   "id": "ca4a0ec9",
   "metadata": {},
   "outputs": [
    {
     "name": "stdout",
     "output_type": "stream",
     "text": [
      "1\n",
      "1\n",
      "2\n",
      "6\n",
      "24\n"
     ]
    }
   ],
   "source": [
    "fact(5)"
   ]
  },
  {
   "cell_type": "code",
   "execution_count": 46,
   "id": "eed3e1be",
   "metadata": {},
   "outputs": [],
   "source": [
    "def fact(n):\n",
    "    for i in range(n):\n",
    "        yield math.factorial(i)"
   ]
  },
  {
   "cell_type": "code",
   "execution_count": 48,
   "id": "781c2e78",
   "metadata": {},
   "outputs": [
    {
     "data": {
      "text/plain": [
       "<function __main__.fact(n)>"
      ]
     },
     "execution_count": 48,
     "metadata": {},
     "output_type": "execute_result"
    }
   ],
   "source": [
    "fact"
   ]
  },
  {
   "cell_type": "code",
   "execution_count": 49,
   "id": "690cd342",
   "metadata": {},
   "outputs": [],
   "source": [
    "gen = fact(5)"
   ]
  },
  {
   "cell_type": "code",
   "execution_count": 50,
   "id": "29089894",
   "metadata": {},
   "outputs": [
    {
     "data": {
      "text/plain": [
       "<generator object fact at 0x104b93680>"
      ]
     },
     "execution_count": 50,
     "metadata": {},
     "output_type": "execute_result"
    }
   ],
   "source": [
    "gen"
   ]
  },
  {
   "cell_type": "code",
   "execution_count": 51,
   "id": "f6577637",
   "metadata": {},
   "outputs": [
    {
     "data": {
      "text/plain": [
       "1"
      ]
     },
     "execution_count": 51,
     "metadata": {},
     "output_type": "execute_result"
    }
   ],
   "source": [
    "next(gen)"
   ]
  },
  {
   "cell_type": "code",
   "execution_count": 52,
   "id": "7e648544",
   "metadata": {},
   "outputs": [
    {
     "data": {
      "text/plain": [
       "1"
      ]
     },
     "execution_count": 52,
     "metadata": {},
     "output_type": "execute_result"
    }
   ],
   "source": [
    "next(gen)"
   ]
  },
  {
   "cell_type": "code",
   "execution_count": 53,
   "id": "9d4edd53",
   "metadata": {},
   "outputs": [
    {
     "data": {
      "text/plain": [
       "2"
      ]
     },
     "execution_count": 53,
     "metadata": {},
     "output_type": "execute_result"
    }
   ],
   "source": [
    "next(gen)"
   ]
  },
  {
   "cell_type": "code",
   "execution_count": 54,
   "id": "87859d8b",
   "metadata": {},
   "outputs": [
    {
     "data": {
      "text/plain": [
       "6"
      ]
     },
     "execution_count": 54,
     "metadata": {},
     "output_type": "execute_result"
    }
   ],
   "source": [
    "next(gen)"
   ]
  },
  {
   "cell_type": "code",
   "execution_count": 55,
   "id": "7f24beb3",
   "metadata": {},
   "outputs": [
    {
     "data": {
      "text/plain": [
       "[24]"
      ]
     },
     "execution_count": 55,
     "metadata": {},
     "output_type": "execute_result"
    }
   ],
   "source": [
    "list(gen) # exhausted will 3 runs and just returns the 4th value in list"
   ]
  },
  {
   "cell_type": "code",
   "execution_count": 56,
   "id": "db02e540",
   "metadata": {},
   "outputs": [],
   "source": [
    "# Example: Fibonnaci sequence"
   ]
  },
  {
   "cell_type": "code",
   "execution_count": 57,
   "id": "67335eb3",
   "metadata": {},
   "outputs": [],
   "source": [
    "def fib_recursive(n):\n",
    "    if n<=1:\n",
    "        return 1\n",
    "    else:\n",
    "        return fib_recursive(n-1) + fib_recursive(n-2)"
   ]
  },
  {
   "cell_type": "code",
   "execution_count": 58,
   "id": "bc17820a",
   "metadata": {},
   "outputs": [
    {
     "data": {
      "text/plain": [
       "[1, 1, 2, 3, 5, 8, 13]"
      ]
     },
     "execution_count": 58,
     "metadata": {},
     "output_type": "execute_result"
    }
   ],
   "source": [
    "[fib_recursive(i) for i in range(7)]"
   ]
  },
  {
   "cell_type": "code",
   "execution_count": 59,
   "id": "4e88e5e1",
   "metadata": {},
   "outputs": [],
   "source": [
    "from timeit import timeit"
   ]
  },
  {
   "cell_type": "code",
   "execution_count": 60,
   "id": "4795b958",
   "metadata": {},
   "outputs": [
    {
     "data": {
      "text/plain": [
       "0.0001307689817622304"
      ]
     },
     "execution_count": 60,
     "metadata": {},
     "output_type": "execute_result"
    }
   ],
   "source": [
    "timeit('fib_recursive(10)', globals = globals(), number = 10)"
   ]
  },
  {
   "cell_type": "code",
   "execution_count": 61,
   "id": "f94d1b9f",
   "metadata": {},
   "outputs": [],
   "source": [
    "from functools import lru_cache"
   ]
  },
  {
   "cell_type": "code",
   "execution_count": 62,
   "id": "f20eeb9d",
   "metadata": {},
   "outputs": [],
   "source": [
    "@lru_cache\n",
    "def fib_recursive(n):\n",
    "    if n<=1:\n",
    "        return 1\n",
    "    else:\n",
    "        return fib_recursive(n-1) + fib_recursive(n-2)"
   ]
  },
  {
   "cell_type": "code",
   "execution_count": 63,
   "id": "c182010c",
   "metadata": {},
   "outputs": [
    {
     "data": {
      "text/plain": [
       "9.403011063113809e-06"
      ]
     },
     "execution_count": 63,
     "metadata": {},
     "output_type": "execute_result"
    }
   ],
   "source": [
    "timeit('fib_recursive(10)', globals = globals(), number = 10)"
   ]
  },
  {
   "cell_type": "code",
   "execution_count": 64,
   "id": "7f2aae80",
   "metadata": {},
   "outputs": [
    {
     "data": {
      "text/plain": [
       "3.5349803511053324e-06"
      ]
     },
     "execution_count": 64,
     "metadata": {},
     "output_type": "execute_result"
    }
   ],
   "source": [
    "timeit('fib_recursive(10)', globals = globals(), number = 10)"
   ]
  },
  {
   "cell_type": "code",
   "execution_count": 65,
   "id": "404a153a",
   "metadata": {},
   "outputs": [
    {
     "data": {
      "text/plain": [
       "3.396009560674429e-06"
      ]
     },
     "execution_count": 65,
     "metadata": {},
     "output_type": "execute_result"
    }
   ],
   "source": [
    "timeit('fib_recursive(10)', globals = globals(), number = 10)"
   ]
  },
  {
   "cell_type": "code",
   "execution_count": 66,
   "id": "a7e97bbe",
   "metadata": {},
   "outputs": [],
   "source": [
    "def fib(n):\n",
    "    fib_0 = 1\n",
    "    fib_1 = 1\n",
    "    \n",
    "    for i in range(n-1):\n",
    "        fib_0,fib_1 = fib_1, fib_0+fib_1\n",
    "    return fib_1"
   ]
  },
  {
   "cell_type": "code",
   "execution_count": 67,
   "id": "c7c4d6c3",
   "metadata": {},
   "outputs": [
    {
     "data": {
      "text/plain": [
       "[1, 1, 2, 3, 5, 8, 13]"
      ]
     },
     "execution_count": 67,
     "metadata": {},
     "output_type": "execute_result"
    }
   ],
   "source": [
    "[fib(i) for i in range(7)]"
   ]
  },
  {
   "cell_type": "code",
   "execution_count": 68,
   "id": "d8b0aa26",
   "metadata": {},
   "outputs": [],
   "source": [
    "class FibIter:\n",
    "    def __init__(self, n):\n",
    "        self.n = n\n",
    "        self.i = 0\n",
    "        \n",
    "    def __iter__(self):\n",
    "        return self\n",
    "    \n",
    "    def __next__(self):\n",
    "        if self.i>=self.n:\n",
    "            raise StopIteration\n",
    "        else:\n",
    "            result = fib(self.i)\n",
    "            self.i +=1\n",
    "            return result"
   ]
  },
  {
   "cell_type": "code",
   "execution_count": 69,
   "id": "96c233b6",
   "metadata": {},
   "outputs": [],
   "source": [
    "fib_iter = FibIter(7)"
   ]
  },
  {
   "cell_type": "code",
   "execution_count": 70,
   "id": "2bfcaf41",
   "metadata": {},
   "outputs": [
    {
     "name": "stdout",
     "output_type": "stream",
     "text": [
      "1\n",
      "1\n",
      "2\n",
      "3\n",
      "5\n",
      "8\n",
      "13\n"
     ]
    }
   ],
   "source": [
    "for num in fib_iter:\n",
    "    print(num)"
   ]
  },
  {
   "cell_type": "code",
   "execution_count": 78,
   "id": "7656c6ed",
   "metadata": {},
   "outputs": [],
   "source": [
    "def fib(n):\n",
    "    fib_0 = 1\n",
    "    yield fib_0\n",
    "    fib_1 = 1\n",
    "    yield fib_1\n",
    "    for i in range(n-2):\n",
    "        fib_0,fib_1 = fib_1, fib_0+fib_1\n",
    "        yield fib_1"
   ]
  },
  {
   "cell_type": "code",
   "execution_count": 79,
   "id": "540eb43b",
   "metadata": {},
   "outputs": [],
   "source": [
    "gen = fib(7)"
   ]
  },
  {
   "cell_type": "code",
   "execution_count": 80,
   "id": "6f89a238",
   "metadata": {},
   "outputs": [
    {
     "name": "stdout",
     "output_type": "stream",
     "text": [
      "1\n",
      "1\n",
      "2\n",
      "3\n",
      "5\n",
      "8\n",
      "13\n"
     ]
    }
   ],
   "source": [
    "for num in gen:\n",
    "    print(num)"
   ]
  },
  {
   "cell_type": "markdown",
   "id": "b07f8558",
   "metadata": {},
   "source": [
    "# Making an Iterable from generator"
   ]
  },
  {
   "cell_type": "code",
   "execution_count": 81,
   "id": "dec6008e",
   "metadata": {},
   "outputs": [],
   "source": [
    "def squares(n):\n",
    "    for i in range(n):\n",
    "        yield i**2"
   ]
  },
  {
   "cell_type": "code",
   "execution_count": 83,
   "id": "09c4f3a0",
   "metadata": {},
   "outputs": [],
   "source": [
    "sq = squares(5)"
   ]
  },
  {
   "cell_type": "code",
   "execution_count": 84,
   "id": "da2ed452",
   "metadata": {},
   "outputs": [],
   "source": [
    "l = list(sq)"
   ]
  },
  {
   "cell_type": "code",
   "execution_count": 85,
   "id": "0ecd2238",
   "metadata": {},
   "outputs": [
    {
     "data": {
      "text/plain": [
       "[0, 1, 4, 9, 16]"
      ]
     },
     "execution_count": 85,
     "metadata": {},
     "output_type": "execute_result"
    }
   ],
   "source": [
    "l"
   ]
  },
  {
   "cell_type": "code",
   "execution_count": 91,
   "id": "be96eefc",
   "metadata": {},
   "outputs": [
    {
     "data": {
      "text/plain": [
       "[0, 1, 4, 9, 16]"
      ]
     },
     "execution_count": 91,
     "metadata": {},
     "output_type": "execute_result"
    }
   ],
   "source": [
    "list(sq)"
   ]
  },
  {
   "cell_type": "code",
   "execution_count": 87,
   "id": "5276645d",
   "metadata": {},
   "outputs": [],
   "source": [
    "# converting it to iterables\n",
    "class Squares:\n",
    "    def __init__(self, n):\n",
    "        self.n = n \n",
    "    \n",
    "    def __iter__(self):\n",
    "        return squares(self.n)"
   ]
  },
  {
   "cell_type": "code",
   "execution_count": 88,
   "id": "8904ee9b",
   "metadata": {},
   "outputs": [],
   "source": [
    "sq = Squares(5)"
   ]
  },
  {
   "cell_type": "code",
   "execution_count": 89,
   "id": "e00e9d5f",
   "metadata": {},
   "outputs": [
    {
     "name": "stdout",
     "output_type": "stream",
     "text": [
      "0\n",
      "1\n",
      "4\n",
      "9\n",
      "16\n"
     ]
    }
   ],
   "source": [
    "for num in sq:\n",
    "    print(num)"
   ]
  },
  {
   "cell_type": "code",
   "execution_count": 90,
   "id": "c659de3b",
   "metadata": {},
   "outputs": [
    {
     "data": {
      "text/plain": [
       "[0, 1, 4, 9, 16]"
      ]
     },
     "execution_count": 90,
     "metadata": {},
     "output_type": "execute_result"
    }
   ],
   "source": [
    "list(sq)"
   ]
  },
  {
   "cell_type": "code",
   "execution_count": 96,
   "id": "fc381ea0",
   "metadata": {},
   "outputs": [],
   "source": [
    "# another way - converting it to iterables\n",
    "class Squares:\n",
    "    def __init__(self, n):\n",
    "        self.n = n \n",
    "    \n",
    "    def __iter__(self):\n",
    "        return Squares.square_gen(self.n)\n",
    "    \n",
    "    \n",
    "    def square_gen(n):\n",
    "        for i in range(n):\n",
    "            yield i**2"
   ]
  },
  {
   "cell_type": "code",
   "execution_count": 97,
   "id": "c0b6e828",
   "metadata": {},
   "outputs": [],
   "source": [
    "sq = Squares(5)"
   ]
  },
  {
   "cell_type": "code",
   "execution_count": 98,
   "id": "8e5c85bf",
   "metadata": {},
   "outputs": [
    {
     "data": {
      "text/plain": [
       "[0, 1, 4, 9, 16]"
      ]
     },
     "execution_count": 98,
     "metadata": {},
     "output_type": "execute_result"
    }
   ],
   "source": [
    "list(sq)"
   ]
  },
  {
   "cell_type": "code",
   "execution_count": 99,
   "id": "b7c787b0",
   "metadata": {},
   "outputs": [
    {
     "data": {
      "text/plain": [
       "[0, 1, 4, 9, 16]"
      ]
     },
     "execution_count": 99,
     "metadata": {},
     "output_type": "execute_result"
    }
   ],
   "source": [
    "list(sq)"
   ]
  },
  {
   "cell_type": "code",
   "execution_count": 100,
   "id": "f5bfedb2",
   "metadata": {},
   "outputs": [],
   "source": [
    "def squares(n):\n",
    "    for i in range(n):\n",
    "        yield i**2"
   ]
  },
  {
   "cell_type": "code",
   "execution_count": 101,
   "id": "d6cab766",
   "metadata": {},
   "outputs": [],
   "source": [
    "sq = Squares(5)"
   ]
  },
  {
   "cell_type": "code",
   "execution_count": 102,
   "id": "543a9667",
   "metadata": {},
   "outputs": [],
   "source": [
    "enum_sq = enumerate(sq) # its iterator"
   ]
  },
  {
   "cell_type": "code",
   "execution_count": 103,
   "id": "ce3d2eae",
   "metadata": {},
   "outputs": [
    {
     "data": {
      "text/plain": [
       "[(0, 0), (1, 1), (2, 4), (3, 9), (4, 16)]"
      ]
     },
     "execution_count": 103,
     "metadata": {},
     "output_type": "execute_result"
    }
   ],
   "source": [
    "list(enum_sq)"
   ]
  },
  {
   "cell_type": "code",
   "execution_count": 104,
   "id": "3a191936",
   "metadata": {},
   "outputs": [
    {
     "data": {
      "text/plain": [
       "[]"
      ]
     },
     "execution_count": 104,
     "metadata": {},
     "output_type": "execute_result"
    }
   ],
   "source": [
    "list(enum_sq)"
   ]
  },
  {
   "cell_type": "code",
   "execution_count": 107,
   "id": "921c0810",
   "metadata": {},
   "outputs": [],
   "source": [
    "# Example Card Deck"
   ]
  },
  {
   "cell_type": "code",
   "execution_count": 108,
   "id": "22b9ee0c",
   "metadata": {},
   "outputs": [],
   "source": [
    "from collections import namedtuple"
   ]
  },
  {
   "cell_type": "code",
   "execution_count": 109,
   "id": "c5732faa",
   "metadata": {},
   "outputs": [],
   "source": [
    "Card = namedtuple('Card', 'rank suit')"
   ]
  },
  {
   "cell_type": "code",
   "execution_count": 110,
   "id": "06da9b8c",
   "metadata": {},
   "outputs": [],
   "source": [
    "SUITS = ('Spades', 'Hearts', 'Diamonds', 'Clubs')\n",
    "RANKS = tuple(range(2,11))+ tuple('JQKA')"
   ]
  },
  {
   "cell_type": "code",
   "execution_count": 111,
   "id": "b6c572d5",
   "metadata": {},
   "outputs": [],
   "source": [
    "def card_gen():\n",
    "    for i in range(len(SUITS)*len(RANKS)):\n",
    "        suit = SUITS[i//len(RANKS)]\n",
    "        rank = RANKS[i%len(RANKS)]\n",
    "        card = Card(rank, suit)\n",
    "        yield card"
   ]
  },
  {
   "cell_type": "code",
   "execution_count": 112,
   "id": "44055350",
   "metadata": {},
   "outputs": [
    {
     "name": "stdout",
     "output_type": "stream",
     "text": [
      "Card(rank=2, suit='Spades')\n",
      "Card(rank=3, suit='Spades')\n",
      "Card(rank=4, suit='Spades')\n",
      "Card(rank=5, suit='Spades')\n",
      "Card(rank=6, suit='Spades')\n",
      "Card(rank=7, suit='Spades')\n",
      "Card(rank=8, suit='Spades')\n",
      "Card(rank=9, suit='Spades')\n",
      "Card(rank=10, suit='Spades')\n",
      "Card(rank='J', suit='Spades')\n",
      "Card(rank='Q', suit='Spades')\n",
      "Card(rank='K', suit='Spades')\n",
      "Card(rank='A', suit='Spades')\n",
      "Card(rank=2, suit='Hearts')\n",
      "Card(rank=3, suit='Hearts')\n",
      "Card(rank=4, suit='Hearts')\n",
      "Card(rank=5, suit='Hearts')\n",
      "Card(rank=6, suit='Hearts')\n",
      "Card(rank=7, suit='Hearts')\n",
      "Card(rank=8, suit='Hearts')\n",
      "Card(rank=9, suit='Hearts')\n",
      "Card(rank=10, suit='Hearts')\n",
      "Card(rank='J', suit='Hearts')\n",
      "Card(rank='Q', suit='Hearts')\n",
      "Card(rank='K', suit='Hearts')\n",
      "Card(rank='A', suit='Hearts')\n",
      "Card(rank=2, suit='Diamonds')\n",
      "Card(rank=3, suit='Diamonds')\n",
      "Card(rank=4, suit='Diamonds')\n",
      "Card(rank=5, suit='Diamonds')\n",
      "Card(rank=6, suit='Diamonds')\n",
      "Card(rank=7, suit='Diamonds')\n",
      "Card(rank=8, suit='Diamonds')\n",
      "Card(rank=9, suit='Diamonds')\n",
      "Card(rank=10, suit='Diamonds')\n",
      "Card(rank='J', suit='Diamonds')\n",
      "Card(rank='Q', suit='Diamonds')\n",
      "Card(rank='K', suit='Diamonds')\n",
      "Card(rank='A', suit='Diamonds')\n",
      "Card(rank=2, suit='Clubs')\n",
      "Card(rank=3, suit='Clubs')\n",
      "Card(rank=4, suit='Clubs')\n",
      "Card(rank=5, suit='Clubs')\n",
      "Card(rank=6, suit='Clubs')\n",
      "Card(rank=7, suit='Clubs')\n",
      "Card(rank=8, suit='Clubs')\n",
      "Card(rank=9, suit='Clubs')\n",
      "Card(rank=10, suit='Clubs')\n",
      "Card(rank='J', suit='Clubs')\n",
      "Card(rank='Q', suit='Clubs')\n",
      "Card(rank='K', suit='Clubs')\n",
      "Card(rank='A', suit='Clubs')\n"
     ]
    }
   ],
   "source": [
    "for card in card_gen():\n",
    "    print(card)"
   ]
  },
  {
   "cell_type": "code",
   "execution_count": 113,
   "id": "d443ea1a",
   "metadata": {},
   "outputs": [],
   "source": [
    "def card_gen():\n",
    "    for suit in SUITS:\n",
    "        for rank in RANKS:\n",
    "            yield Card(rank, suit)"
   ]
  },
  {
   "cell_type": "code",
   "execution_count": 114,
   "id": "57c4182f",
   "metadata": {},
   "outputs": [
    {
     "name": "stdout",
     "output_type": "stream",
     "text": [
      "Card(rank=2, suit='Spades')\n",
      "Card(rank=3, suit='Spades')\n",
      "Card(rank=4, suit='Spades')\n",
      "Card(rank=5, suit='Spades')\n",
      "Card(rank=6, suit='Spades')\n",
      "Card(rank=7, suit='Spades')\n",
      "Card(rank=8, suit='Spades')\n",
      "Card(rank=9, suit='Spades')\n",
      "Card(rank=10, suit='Spades')\n",
      "Card(rank='J', suit='Spades')\n",
      "Card(rank='Q', suit='Spades')\n",
      "Card(rank='K', suit='Spades')\n",
      "Card(rank='A', suit='Spades')\n",
      "Card(rank=2, suit='Hearts')\n",
      "Card(rank=3, suit='Hearts')\n",
      "Card(rank=4, suit='Hearts')\n",
      "Card(rank=5, suit='Hearts')\n",
      "Card(rank=6, suit='Hearts')\n",
      "Card(rank=7, suit='Hearts')\n",
      "Card(rank=8, suit='Hearts')\n",
      "Card(rank=9, suit='Hearts')\n",
      "Card(rank=10, suit='Hearts')\n",
      "Card(rank='J', suit='Hearts')\n",
      "Card(rank='Q', suit='Hearts')\n",
      "Card(rank='K', suit='Hearts')\n",
      "Card(rank='A', suit='Hearts')\n",
      "Card(rank=2, suit='Diamonds')\n",
      "Card(rank=3, suit='Diamonds')\n",
      "Card(rank=4, suit='Diamonds')\n",
      "Card(rank=5, suit='Diamonds')\n",
      "Card(rank=6, suit='Diamonds')\n",
      "Card(rank=7, suit='Diamonds')\n",
      "Card(rank=8, suit='Diamonds')\n",
      "Card(rank=9, suit='Diamonds')\n",
      "Card(rank=10, suit='Diamonds')\n",
      "Card(rank='J', suit='Diamonds')\n",
      "Card(rank='Q', suit='Diamonds')\n",
      "Card(rank='K', suit='Diamonds')\n",
      "Card(rank='A', suit='Diamonds')\n",
      "Card(rank=2, suit='Clubs')\n",
      "Card(rank=3, suit='Clubs')\n",
      "Card(rank=4, suit='Clubs')\n",
      "Card(rank=5, suit='Clubs')\n",
      "Card(rank=6, suit='Clubs')\n",
      "Card(rank=7, suit='Clubs')\n",
      "Card(rank=8, suit='Clubs')\n",
      "Card(rank=9, suit='Clubs')\n",
      "Card(rank=10, suit='Clubs')\n",
      "Card(rank='J', suit='Clubs')\n",
      "Card(rank='Q', suit='Clubs')\n",
      "Card(rank='K', suit='Clubs')\n",
      "Card(rank='A', suit='Clubs')\n"
     ]
    }
   ],
   "source": [
    "for card in card_gen():\n",
    "    print(card)"
   ]
  },
  {
   "cell_type": "code",
   "execution_count": 118,
   "id": "4c1e5ec0",
   "metadata": {},
   "outputs": [],
   "source": [
    "class CardDeck:\n",
    "    SUITS = ('Spades', 'Hearts', 'Diamonds', 'Clubs')\n",
    "    RANKS = tuple(range(2,11))+ tuple('JQKA')\n",
    "    \n",
    "    def __iter__(self):\n",
    "        return  CardDeck.card_gen()\n",
    "    @staticmethod\n",
    "    def card_gen():\n",
    "        for suit in CardDeck.SUITS:\n",
    "            for rank in CardDeck.RANKS:\n",
    "                yield Card(rank,suit)"
   ]
  },
  {
   "cell_type": "code",
   "execution_count": 119,
   "id": "0dd9cc88",
   "metadata": {},
   "outputs": [],
   "source": [
    "deck = CardDeck()"
   ]
  },
  {
   "cell_type": "code",
   "execution_count": 120,
   "id": "7c8fc60f",
   "metadata": {},
   "outputs": [
    {
     "data": {
      "text/plain": [
       "[Card(rank=2, suit='Spades'),\n",
       " Card(rank=3, suit='Spades'),\n",
       " Card(rank=4, suit='Spades'),\n",
       " Card(rank=5, suit='Spades'),\n",
       " Card(rank=6, suit='Spades'),\n",
       " Card(rank=7, suit='Spades'),\n",
       " Card(rank=8, suit='Spades'),\n",
       " Card(rank=9, suit='Spades'),\n",
       " Card(rank=10, suit='Spades'),\n",
       " Card(rank='J', suit='Spades'),\n",
       " Card(rank='Q', suit='Spades'),\n",
       " Card(rank='K', suit='Spades'),\n",
       " Card(rank='A', suit='Spades'),\n",
       " Card(rank=2, suit='Hearts'),\n",
       " Card(rank=3, suit='Hearts'),\n",
       " Card(rank=4, suit='Hearts'),\n",
       " Card(rank=5, suit='Hearts'),\n",
       " Card(rank=6, suit='Hearts'),\n",
       " Card(rank=7, suit='Hearts'),\n",
       " Card(rank=8, suit='Hearts'),\n",
       " Card(rank=9, suit='Hearts'),\n",
       " Card(rank=10, suit='Hearts'),\n",
       " Card(rank='J', suit='Hearts'),\n",
       " Card(rank='Q', suit='Hearts'),\n",
       " Card(rank='K', suit='Hearts'),\n",
       " Card(rank='A', suit='Hearts'),\n",
       " Card(rank=2, suit='Diamonds'),\n",
       " Card(rank=3, suit='Diamonds'),\n",
       " Card(rank=4, suit='Diamonds'),\n",
       " Card(rank=5, suit='Diamonds'),\n",
       " Card(rank=6, suit='Diamonds'),\n",
       " Card(rank=7, suit='Diamonds'),\n",
       " Card(rank=8, suit='Diamonds'),\n",
       " Card(rank=9, suit='Diamonds'),\n",
       " Card(rank=10, suit='Diamonds'),\n",
       " Card(rank='J', suit='Diamonds'),\n",
       " Card(rank='Q', suit='Diamonds'),\n",
       " Card(rank='K', suit='Diamonds'),\n",
       " Card(rank='A', suit='Diamonds'),\n",
       " Card(rank=2, suit='Clubs'),\n",
       " Card(rank=3, suit='Clubs'),\n",
       " Card(rank=4, suit='Clubs'),\n",
       " Card(rank=5, suit='Clubs'),\n",
       " Card(rank=6, suit='Clubs'),\n",
       " Card(rank=7, suit='Clubs'),\n",
       " Card(rank=8, suit='Clubs'),\n",
       " Card(rank=9, suit='Clubs'),\n",
       " Card(rank=10, suit='Clubs'),\n",
       " Card(rank='J', suit='Clubs'),\n",
       " Card(rank='Q', suit='Clubs'),\n",
       " Card(rank='K', suit='Clubs'),\n",
       " Card(rank='A', suit='Clubs')]"
      ]
     },
     "execution_count": 120,
     "metadata": {},
     "output_type": "execute_result"
    }
   ],
   "source": [
    "list(deck)"
   ]
  },
  {
   "cell_type": "code",
   "execution_count": 121,
   "id": "5e4ad34d",
   "metadata": {},
   "outputs": [
    {
     "ename": "TypeError",
     "evalue": "'CardDeck' object is not reversible",
     "output_type": "error",
     "traceback": [
      "\u001b[0;31m---------------------------------------------------------------------------\u001b[0m",
      "\u001b[0;31mTypeError\u001b[0m                                 Traceback (most recent call last)",
      "Cell \u001b[0;32mIn[121], line 1\u001b[0m\n\u001b[0;32m----> 1\u001b[0m \u001b[38;5;28mreversed\u001b[39m(CardDeck())\n",
      "\u001b[0;31mTypeError\u001b[0m: 'CardDeck' object is not reversible"
     ]
    }
   ],
   "source": [
    "reversed(CardDeck())"
   ]
  },
  {
   "cell_type": "code",
   "execution_count": 125,
   "id": "584b6a21",
   "metadata": {},
   "outputs": [],
   "source": [
    "# implement reverse method \n",
    "\n",
    "class CardDeck:\n",
    "    SUITS = ('Spades', 'Hearts', 'Diamonds', 'Clubs')\n",
    "    RANKS = tuple(range(2,11))+ tuple('JQKA')\n",
    "    \n",
    "    def __iter__(self):\n",
    "        return  CardDeck.card_gen()\n",
    "    \n",
    "    def __reversed__(self):\n",
    "        return CardDeck.reversed_card_gen()\n",
    "    \n",
    "    @staticmethod\n",
    "    def card_gen():\n",
    "        for suit in CardDeck.SUITS:\n",
    "            for rank in CardDeck.RANKS:\n",
    "                yield Card(rank,suit)\n",
    "                \n",
    "    @staticmethod\n",
    "    def reversed_card_gen():\n",
    "        for suit in reversed(CardDeck.SUITS):\n",
    "            for rank in reversed(CardDeck.RANKS):\n",
    "                yield Card(rank,suit)"
   ]
  },
  {
   "cell_type": "code",
   "execution_count": 128,
   "id": "c5112766",
   "metadata": {},
   "outputs": [],
   "source": [
    "rev_deck = reversed(CardDeck())"
   ]
  },
  {
   "cell_type": "code",
   "execution_count": 129,
   "id": "8716182e",
   "metadata": {},
   "outputs": [
    {
     "data": {
      "text/plain": [
       "[Card(rank='A', suit='Clubs'),\n",
       " Card(rank='K', suit='Clubs'),\n",
       " Card(rank='Q', suit='Clubs'),\n",
       " Card(rank='J', suit='Clubs'),\n",
       " Card(rank=10, suit='Clubs'),\n",
       " Card(rank=9, suit='Clubs'),\n",
       " Card(rank=8, suit='Clubs'),\n",
       " Card(rank=7, suit='Clubs'),\n",
       " Card(rank=6, suit='Clubs'),\n",
       " Card(rank=5, suit='Clubs'),\n",
       " Card(rank=4, suit='Clubs'),\n",
       " Card(rank=3, suit='Clubs'),\n",
       " Card(rank=2, suit='Clubs'),\n",
       " Card(rank='A', suit='Diamonds'),\n",
       " Card(rank='K', suit='Diamonds'),\n",
       " Card(rank='Q', suit='Diamonds'),\n",
       " Card(rank='J', suit='Diamonds'),\n",
       " Card(rank=10, suit='Diamonds'),\n",
       " Card(rank=9, suit='Diamonds'),\n",
       " Card(rank=8, suit='Diamonds'),\n",
       " Card(rank=7, suit='Diamonds'),\n",
       " Card(rank=6, suit='Diamonds'),\n",
       " Card(rank=5, suit='Diamonds'),\n",
       " Card(rank=4, suit='Diamonds'),\n",
       " Card(rank=3, suit='Diamonds'),\n",
       " Card(rank=2, suit='Diamonds'),\n",
       " Card(rank='A', suit='Hearts'),\n",
       " Card(rank='K', suit='Hearts'),\n",
       " Card(rank='Q', suit='Hearts'),\n",
       " Card(rank='J', suit='Hearts'),\n",
       " Card(rank=10, suit='Hearts'),\n",
       " Card(rank=9, suit='Hearts'),\n",
       " Card(rank=8, suit='Hearts'),\n",
       " Card(rank=7, suit='Hearts'),\n",
       " Card(rank=6, suit='Hearts'),\n",
       " Card(rank=5, suit='Hearts'),\n",
       " Card(rank=4, suit='Hearts'),\n",
       " Card(rank=3, suit='Hearts'),\n",
       " Card(rank=2, suit='Hearts'),\n",
       " Card(rank='A', suit='Spades'),\n",
       " Card(rank='K', suit='Spades'),\n",
       " Card(rank='Q', suit='Spades'),\n",
       " Card(rank='J', suit='Spades'),\n",
       " Card(rank=10, suit='Spades'),\n",
       " Card(rank=9, suit='Spades'),\n",
       " Card(rank=8, suit='Spades'),\n",
       " Card(rank=7, suit='Spades'),\n",
       " Card(rank=6, suit='Spades'),\n",
       " Card(rank=5, suit='Spades'),\n",
       " Card(rank=4, suit='Spades'),\n",
       " Card(rank=3, suit='Spades'),\n",
       " Card(rank=2, suit='Spades')]"
      ]
     },
     "execution_count": 129,
     "metadata": {},
     "output_type": "execute_result"
    }
   ],
   "source": [
    "list(rev_deck)"
   ]
  },
  {
   "cell_type": "markdown",
   "id": "b7f102d8",
   "metadata": {},
   "source": [
    "# Generator expression & Performance"
   ]
  },
  {
   "cell_type": "code",
   "execution_count": 130,
   "id": "d7cff26a",
   "metadata": {},
   "outputs": [],
   "source": [
    "l = [i**2 for i in range(5)]"
   ]
  },
  {
   "cell_type": "code",
   "execution_count": 131,
   "id": "27977c03",
   "metadata": {},
   "outputs": [
    {
     "data": {
      "text/plain": [
       "[0, 1, 4, 9, 16]"
      ]
     },
     "execution_count": 131,
     "metadata": {},
     "output_type": "execute_result"
    }
   ],
   "source": [
    "l"
   ]
  },
  {
   "cell_type": "code",
   "execution_count": 132,
   "id": "373802ee",
   "metadata": {},
   "outputs": [
    {
     "data": {
      "text/plain": [
       "list"
      ]
     },
     "execution_count": 132,
     "metadata": {},
     "output_type": "execute_result"
    }
   ],
   "source": [
    "type(l)"
   ]
  },
  {
   "cell_type": "code",
   "execution_count": 133,
   "id": "a393e4b5",
   "metadata": {},
   "outputs": [],
   "source": [
    "g = (i**2 for i in range(5))"
   ]
  },
  {
   "cell_type": "code",
   "execution_count": 134,
   "id": "6f6ea308",
   "metadata": {},
   "outputs": [
    {
     "data": {
      "text/plain": [
       "generator"
      ]
     },
     "execution_count": 134,
     "metadata": {},
     "output_type": "execute_result"
    }
   ],
   "source": [
    "type(g)"
   ]
  },
  {
   "cell_type": "code",
   "execution_count": 135,
   "id": "bcdef447",
   "metadata": {},
   "outputs": [],
   "source": [
    "import dis"
   ]
  },
  {
   "cell_type": "code",
   "execution_count": 136,
   "id": "34e7d481",
   "metadata": {},
   "outputs": [],
   "source": [
    "exp = compile('[i**2 for i in range(5)]', filename = '<string>', mode = 'eval')"
   ]
  },
  {
   "cell_type": "code",
   "execution_count": 137,
   "id": "301a204e",
   "metadata": {},
   "outputs": [
    {
     "name": "stdout",
     "output_type": "stream",
     "text": [
      "  0           0 RESUME                   0\n",
      "\n",
      "  1           2 LOAD_CONST               0 (<code object <listcomp> at 0x1059702a0, file \"<string>\", line 1>)\n",
      "              4 MAKE_FUNCTION            0\n",
      "              6 PUSH_NULL\n",
      "              8 LOAD_NAME                0 (range)\n",
      "             10 LOAD_CONST               1 (5)\n",
      "             12 PRECALL                  1\n",
      "             16 CALL                     1\n",
      "             26 GET_ITER\n",
      "             28 PRECALL                  0\n",
      "             32 CALL                     0\n",
      "             42 RETURN_VALUE\n",
      "\n",
      "Disassembly of <code object <listcomp> at 0x1059702a0, file \"<string>\", line 1>:\n",
      "  1           0 RESUME                   0\n",
      "              2 BUILD_LIST               0\n",
      "              4 LOAD_FAST                0 (.0)\n",
      "        >>    6 FOR_ITER                 7 (to 22)\n",
      "              8 STORE_FAST               1 (i)\n",
      "             10 LOAD_FAST                1 (i)\n",
      "             12 LOAD_CONST               0 (2)\n",
      "             14 BINARY_OP                8 (**)\n",
      "             18 LIST_APPEND              2\n",
      "             20 JUMP_BACKWARD            8 (to 6)\n",
      "        >>   22 RETURN_VALUE\n"
     ]
    }
   ],
   "source": [
    "dis.dis(exp)"
   ]
  },
  {
   "cell_type": "code",
   "execution_count": 138,
   "id": "d881bc8f",
   "metadata": {},
   "outputs": [],
   "source": [
    "exp = compile('(i**2 for i in range(5))', filename = '<string>', mode = 'eval')"
   ]
  },
  {
   "cell_type": "code",
   "execution_count": 139,
   "id": "dc36a2c4",
   "metadata": {},
   "outputs": [
    {
     "name": "stdout",
     "output_type": "stream",
     "text": [
      "  0           0 RESUME                   0\n",
      "\n",
      "  1           2 LOAD_CONST               0 (<code object <genexpr> at 0x1058c02d0, file \"<string>\", line 1>)\n",
      "              4 MAKE_FUNCTION            0\n",
      "              6 PUSH_NULL\n",
      "              8 LOAD_NAME                0 (range)\n",
      "             10 LOAD_CONST               1 (5)\n",
      "             12 PRECALL                  1\n",
      "             16 CALL                     1\n",
      "             26 GET_ITER\n",
      "             28 PRECALL                  0\n",
      "             32 CALL                     0\n",
      "             42 RETURN_VALUE\n",
      "\n",
      "Disassembly of <code object <genexpr> at 0x1058c02d0, file \"<string>\", line 1>:\n",
      "  1           0 RETURN_GENERATOR\n",
      "              2 POP_TOP\n",
      "              4 RESUME                   0\n",
      "              6 LOAD_FAST                0 (.0)\n",
      "        >>    8 FOR_ITER                 9 (to 28)\n",
      "             10 STORE_FAST               1 (i)\n",
      "             12 LOAD_FAST                1 (i)\n",
      "             14 LOAD_CONST               0 (2)\n",
      "             16 BINARY_OP                8 (**)\n",
      "             20 YIELD_VALUE\n",
      "             22 RESUME                   1\n",
      "             24 POP_TOP\n",
      "             26 JUMP_BACKWARD           10 (to 8)\n",
      "        >>   28 LOAD_CONST               1 (None)\n",
      "             30 RETURN_VALUE\n"
     ]
    }
   ],
   "source": [
    "dis.dis(exp)"
   ]
  },
  {
   "cell_type": "code",
   "execution_count": 140,
   "id": "dc53bdc2",
   "metadata": {},
   "outputs": [],
   "source": [
    "start = 1 \n",
    "stop = 10\n",
    "mult_list = [[i*j for j in range(start, stop)] for i in range(start, stop)]"
   ]
  },
  {
   "cell_type": "code",
   "execution_count": 141,
   "id": "0f3d1f29",
   "metadata": {},
   "outputs": [
    {
     "data": {
      "text/plain": [
       "[[1, 2, 3, 4, 5, 6, 7, 8, 9],\n",
       " [2, 4, 6, 8, 10, 12, 14, 16, 18],\n",
       " [3, 6, 9, 12, 15, 18, 21, 24, 27],\n",
       " [4, 8, 12, 16, 20, 24, 28, 32, 36],\n",
       " [5, 10, 15, 20, 25, 30, 35, 40, 45],\n",
       " [6, 12, 18, 24, 30, 36, 42, 48, 54],\n",
       " [7, 14, 21, 28, 35, 42, 49, 56, 63],\n",
       " [8, 16, 24, 32, 40, 48, 56, 64, 72],\n",
       " [9, 18, 27, 36, 45, 54, 63, 72, 81]]"
      ]
     },
     "execution_count": 141,
     "metadata": {},
     "output_type": "execute_result"
    }
   ],
   "source": [
    "list(mult_list)"
   ]
  },
  {
   "cell_type": "code",
   "execution_count": 145,
   "id": "e8cbc97e",
   "metadata": {},
   "outputs": [],
   "source": [
    "start = 1 \n",
    "stop = 10\n",
    "mult_list = ((i*j for j in range(start, stop)) for i in range(start, stop))"
   ]
  },
  {
   "cell_type": "code",
   "execution_count": 143,
   "id": "2afbe679",
   "metadata": {},
   "outputs": [
    {
     "data": {
      "text/plain": [
       "[<generator object <genexpr>.<genexpr> at 0x1058c0ac0>,\n",
       " <generator object <genexpr>.<genexpr> at 0x1058c04a0>,\n",
       " <generator object <genexpr>.<genexpr> at 0x1058c0740>,\n",
       " <generator object <genexpr>.<genexpr> at 0x1058c1380>,\n",
       " <generator object <genexpr>.<genexpr> at 0x1058c17e0>,\n",
       " <generator object <genexpr>.<genexpr> at 0x1058c0ba0>,\n",
       " <generator object <genexpr>.<genexpr> at 0x1058c12a0>,\n",
       " <generator object <genexpr>.<genexpr> at 0x1058c1000>,\n",
       " <generator object <genexpr>.<genexpr> at 0x1058c0f20>]"
      ]
     },
     "execution_count": 143,
     "metadata": {},
     "output_type": "execute_result"
    }
   ],
   "source": [
    "list(mult_list)"
   ]
  },
  {
   "cell_type": "code",
   "execution_count": 146,
   "id": "bf64ee44",
   "metadata": {},
   "outputs": [
    {
     "name": "stdout",
     "output_type": "stream",
     "text": [
      "1 2 3 4 5 6 7 8 9 \n",
      "2 4 6 8 10 12 14 16 18 \n",
      "3 6 9 12 15 18 21 24 27 \n",
      "4 8 12 16 20 24 28 32 36 \n",
      "5 10 15 20 25 30 35 40 45 \n",
      "6 12 18 24 30 36 42 48 54 \n",
      "7 14 21 28 35 42 49 56 63 \n",
      "8 16 24 32 40 48 56 64 72 \n",
      "9 18 27 36 45 54 63 72 81 \n"
     ]
    }
   ],
   "source": [
    "for row in mult_list:\n",
    "    for item in row:\n",
    "        print(item, end = ' ')\n",
    "    print('')"
   ]
  },
  {
   "cell_type": "code",
   "execution_count": 147,
   "id": "ee5fcf83",
   "metadata": {},
   "outputs": [],
   "source": [
    "start = 1 \n",
    "stop = 10\n",
    "mult_list = ([i*j for j in range(start, stop)] for i in range(start, stop))"
   ]
  },
  {
   "cell_type": "code",
   "execution_count": 148,
   "id": "00ea50f2",
   "metadata": {},
   "outputs": [
    {
     "data": {
      "text/plain": [
       "[[1, 2, 3, 4, 5, 6, 7, 8, 9],\n",
       " [2, 4, 6, 8, 10, 12, 14, 16, 18],\n",
       " [3, 6, 9, 12, 15, 18, 21, 24, 27],\n",
       " [4, 8, 12, 16, 20, 24, 28, 32, 36],\n",
       " [5, 10, 15, 20, 25, 30, 35, 40, 45],\n",
       " [6, 12, 18, 24, 30, 36, 42, 48, 54],\n",
       " [7, 14, 21, 28, 35, 42, 49, 56, 63],\n",
       " [8, 16, 24, 32, 40, 48, 56, 64, 72],\n",
       " [9, 18, 27, 36, 45, 54, 63, 72, 81]]"
      ]
     },
     "execution_count": 148,
     "metadata": {},
     "output_type": "execute_result"
    }
   ],
   "source": [
    "list(mult_list)"
   ]
  },
  {
   "cell_type": "code",
   "execution_count": 149,
   "id": "d652e1ba",
   "metadata": {},
   "outputs": [],
   "source": [
    "from math import factorial"
   ]
  },
  {
   "cell_type": "code",
   "execution_count": 151,
   "id": "8c3c2d37",
   "metadata": {},
   "outputs": [],
   "source": [
    "def combo(n,k):\n",
    "    return factorial(n)//(factorial(k) * factorial(n-k))"
   ]
  },
  {
   "cell_type": "code",
   "execution_count": 161,
   "id": "2dd8df0d",
   "metadata": {},
   "outputs": [],
   "source": [
    "size = 10 "
   ]
  },
  {
   "cell_type": "code",
   "execution_count": 154,
   "id": "8faf609f",
   "metadata": {},
   "outputs": [],
   "source": [
    "pascal = [[combo(n,k) for k in range(n+1)] for n in range(size+1)]"
   ]
  },
  {
   "cell_type": "code",
   "execution_count": 155,
   "id": "f9054dba",
   "metadata": {},
   "outputs": [
    {
     "data": {
      "text/plain": [
       "[[1],\n",
       " [1, 1],\n",
       " [1, 2, 1],\n",
       " [1, 3, 3, 1],\n",
       " [1, 4, 6, 4, 1],\n",
       " [1, 5, 10, 10, 5, 1],\n",
       " [1, 6, 15, 20, 15, 6, 1],\n",
       " [1, 7, 21, 35, 35, 21, 7, 1],\n",
       " [1, 8, 28, 56, 70, 56, 28, 8, 1],\n",
       " [1, 9, 36, 84, 126, 126, 84, 36, 9, 1],\n",
       " [1, 10, 45, 120, 210, 252, 210, 120, 45, 10, 1]]"
      ]
     },
     "execution_count": 155,
     "metadata": {},
     "output_type": "execute_result"
    }
   ],
   "source": [
    "pascal"
   ]
  },
  {
   "cell_type": "code",
   "execution_count": 165,
   "id": "df1fe27a",
   "metadata": {},
   "outputs": [],
   "source": [
    "pascal = ((combo(n,k) for k in range(n+1)) for n in range(size+1))"
   ]
  },
  {
   "cell_type": "code",
   "execution_count": 166,
   "id": "90eb138f",
   "metadata": {},
   "outputs": [
    {
     "data": {
      "text/plain": [
       "[[1],\n",
       " [1, 1],\n",
       " [1, 2, 1],\n",
       " [1, 3, 3, 1],\n",
       " [1, 4, 6, 4, 1],\n",
       " [1, 5, 10, 10, 5, 1],\n",
       " [1, 6, 15, 20, 15, 6, 1],\n",
       " [1, 7, 21, 35, 35, 21, 7, 1],\n",
       " [1, 8, 28, 56, 70, 56, 28, 8, 1],\n",
       " [1, 9, 36, 84, 126, 126, 84, 36, 9, 1],\n",
       " [1, 10, 45, 120, 210, 252, 210, 120, 45, 10, 1]]"
      ]
     },
     "execution_count": 166,
     "metadata": {},
     "output_type": "execute_result"
    }
   ],
   "source": [
    "[list(row) for row in pascal]"
   ]
  },
  {
   "cell_type": "code",
   "execution_count": 169,
   "id": "705fc3c6",
   "metadata": {},
   "outputs": [],
   "source": [
    "import tracemalloc"
   ]
  },
  {
   "cell_type": "markdown",
   "id": "4aa6e85f",
   "metadata": {},
   "source": [
    "# Yield From "
   ]
  },
  {
   "cell_type": "code",
   "execution_count": 170,
   "id": "b80e708c",
   "metadata": {},
   "outputs": [],
   "source": [
    "def matrix(n):\n",
    "    gen = ( (i*j for j in range(1, n+1))\n",
    "           for i in range(1, n+1)\n",
    "    )\n",
    "    return gen"
   ]
  },
  {
   "cell_type": "code",
   "execution_count": 171,
   "id": "7c32c78a",
   "metadata": {},
   "outputs": [],
   "source": [
    "m = list(matrix(5))"
   ]
  },
  {
   "cell_type": "code",
   "execution_count": 172,
   "id": "85c0cd05",
   "metadata": {},
   "outputs": [
    {
     "data": {
      "text/plain": [
       "[<generator object matrix.<locals>.<genexpr>.<genexpr> at 0x1058c25e0>,\n",
       " <generator object matrix.<locals>.<genexpr>.<genexpr> at 0x1058c0820>,\n",
       " <generator object matrix.<locals>.<genexpr>.<genexpr> at 0x1058c2880>,\n",
       " <generator object matrix.<locals>.<genexpr>.<genexpr> at 0x1058c2420>,\n",
       " <generator object matrix.<locals>.<genexpr>.<genexpr> at 0x1058c26c0>]"
      ]
     },
     "execution_count": 172,
     "metadata": {},
     "output_type": "execute_result"
    }
   ],
   "source": [
    "m"
   ]
  },
  {
   "cell_type": "code",
   "execution_count": 173,
   "id": "bdfc8e5d",
   "metadata": {},
   "outputs": [],
   "source": [
    "def matrix_iter(n):\n",
    "     for row in matrix(n):\n",
    "             for item in row:\n",
    "                    yield item"
   ]
  },
  {
   "cell_type": "code",
   "execution_count": 174,
   "id": "b487dd14",
   "metadata": {},
   "outputs": [
    {
     "name": "stdout",
     "output_type": "stream",
     "text": [
      "1\n",
      "2\n",
      "3\n",
      "2\n",
      "4\n",
      "6\n",
      "3\n",
      "6\n",
      "9\n"
     ]
    }
   ],
   "source": [
    "for item in matrix_iter(3):\n",
    "    print(item)"
   ]
  },
  {
   "cell_type": "code",
   "execution_count": 175,
   "id": "737467e5",
   "metadata": {},
   "outputs": [],
   "source": [
    "def matrix_iter(n):\n",
    "     for row in matrix(n):\n",
    "            yield from row"
   ]
  },
  {
   "cell_type": "code",
   "execution_count": 176,
   "id": "73d31cd6",
   "metadata": {},
   "outputs": [
    {
     "name": "stdout",
     "output_type": "stream",
     "text": [
      "1\n",
      "2\n",
      "3\n",
      "2\n",
      "4\n",
      "6\n",
      "3\n",
      "6\n",
      "9\n"
     ]
    }
   ],
   "source": [
    "for item in matrix_iter(3):\n",
    "    print(item)"
   ]
  },
  {
   "cell_type": "code",
   "execution_count": null,
   "id": "e79d2ca6",
   "metadata": {},
   "outputs": [],
   "source": []
  }
 ],
 "metadata": {
  "kernelspec": {
   "display_name": "Python 3 (ipykernel)",
   "language": "python",
   "name": "python3"
  },
  "language_info": {
   "codemirror_mode": {
    "name": "ipython",
    "version": 3
   },
   "file_extension": ".py",
   "mimetype": "text/x-python",
   "name": "python",
   "nbconvert_exporter": "python",
   "pygments_lexer": "ipython3",
   "version": "3.11.4"
  }
 },
 "nbformat": 4,
 "nbformat_minor": 5
}
