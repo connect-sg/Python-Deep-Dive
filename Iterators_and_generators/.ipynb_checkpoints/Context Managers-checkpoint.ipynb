{
 "cells": [
  {
   "cell_type": "code",
   "execution_count": 2,
   "id": "117bce72",
   "metadata": {},
   "outputs": [],
   "source": [
    "# context managers\n",
    "    # create a context\n",
    "    # execute some code \n",
    "    # clean context    "
   ]
  },
  {
   "cell_type": "code",
   "execution_count": 2,
   "id": "b1a5ad4c",
   "metadata": {},
   "outputs": [],
   "source": [
    "# __enter__\n",
    "# __exit__\n",
    "\n",
    "# use cases \n",
    "    # open a file \n",
    "    # close a file\n",
    "    # Lock/release\n",
    "    # change/reset\n",
    "    # start/stop\n",
    "    # enter/exit\n",
    "\n",
    "# example\n",
    "    # file context managers\n",
    "    # decimal contexts\n",
    "\n",
    "    # works in conjunction with a with statement"
   ]
  },
  {
   "cell_type": "code",
   "execution_count": 5,
   "id": "c68ce9f3",
   "metadata": {},
   "outputs": [
    {
     "name": "stdout",
     "output_type": "stream",
     "text": [
      "finally ran!\n"
     ]
    }
   ],
   "source": [
    "try: \n",
    "    10/2\n",
    "except ZeroDivisionError:\n",
    "    print('zero division exception occured')\n",
    "finally:\n",
    "    print('finally ran!')"
   ]
  },
  {
   "cell_type": "code",
   "execution_count": 7,
   "id": "fcdd0623",
   "metadata": {},
   "outputs": [
    {
     "name": "stdout",
     "output_type": "stream",
     "text": [
      "zero division exception occured\n",
      "finally ran!\n"
     ]
    }
   ],
   "source": [
    "try: \n",
    "    10/0\n",
    "except ZeroDivisionError:\n",
    "    print('zero division exception occured')\n",
    "finally:\n",
    "    print('finally ran!')"
   ]
  },
  {
   "cell_type": "code",
   "execution_count": 8,
   "id": "ec3d6c1c",
   "metadata": {},
   "outputs": [],
   "source": [
    "def func():\n",
    "    try: \n",
    "        10/2\n",
    "    except ZeroDivisionError:\n",
    "        print('zero division exception occured')\n",
    "    finally:\n",
    "        print('finally ran!')"
   ]
  },
  {
   "cell_type": "code",
   "execution_count": 9,
   "id": "993207f7",
   "metadata": {},
   "outputs": [
    {
     "name": "stdout",
     "output_type": "stream",
     "text": [
      "finally ran!\n"
     ]
    }
   ],
   "source": [
    "func()"
   ]
  },
  {
   "cell_type": "code",
   "execution_count": 10,
   "id": "96134140",
   "metadata": {},
   "outputs": [
    {
     "name": "stdout",
     "output_type": "stream",
     "text": [
      "opening file...\n",
      "exception occured\n",
      "closing file\n"
     ]
    }
   ],
   "source": [
    "try:\n",
    "    print('opening file...')\n",
    "    f = open('test.txt','w')\n",
    "    a = 1/0\n",
    "except:\n",
    "    print('exception occured')\n",
    "finally:\n",
    "    print('closing file')\n",
    "    f.close()"
   ]
  },
  {
   "cell_type": "code",
   "execution_count": 12,
   "id": "06a8364d",
   "metadata": {},
   "outputs": [],
   "source": [
    "with open('test.txt','w') as f:\n",
    "    f.writelines('this is a test')\n",
    "    "
   ]
  },
  {
   "cell_type": "code",
   "execution_count": 13,
   "id": "26d45f74",
   "metadata": {},
   "outputs": [],
   "source": [
    "with open('test.txt') as f:\n",
    "   row = next(f)"
   ]
  },
  {
   "cell_type": "code",
   "execution_count": 14,
   "id": "b54d8895",
   "metadata": {},
   "outputs": [
    {
     "data": {
      "text/plain": [
       "'this is a test'"
      ]
     },
     "execution_count": 14,
     "metadata": {},
     "output_type": "execute_result"
    }
   ],
   "source": [
    "row"
   ]
  },
  {
   "cell_type": "code",
   "execution_count": 15,
   "id": "302a6fa1",
   "metadata": {},
   "outputs": [
    {
     "data": {
      "text/plain": [
       "True"
      ]
     },
     "execution_count": 15,
     "metadata": {},
     "output_type": "execute_result"
    }
   ],
   "source": [
    "f.closed # context closed after reading file"
   ]
  },
  {
   "cell_type": "code",
   "execution_count": 16,
   "id": "d55335ec",
   "metadata": {},
   "outputs": [],
   "source": [
    "# exit method\n",
    "class MyContext:\n",
    "    def __init__(self):\n",
    "        self.obj = None\n",
    "        \n",
    "        \n",
    "    def __enter__(self):\n",
    "        print('entering context ')\n",
    "        self.obj = 'the return object'\n",
    "        return self.obj\n",
    "    \n",
    "    def __exit__(self, exc_type, exc_value, exc_tb):\n",
    "        print('exiting context...')\n",
    "        \n",
    "        if exc_type:\n",
    "            print(f'**error occured:{exc_type},{exc_value}')\n",
    "        return False    "
   ]
  },
  {
   "cell_type": "code",
   "execution_count": 17,
   "id": "7b98bc14",
   "metadata": {},
   "outputs": [
    {
     "name": "stdout",
     "output_type": "stream",
     "text": [
      "entering context \n",
      "inside with block\n",
      "exiting context...\n",
      "**error occured:<class 'ValueError'>,custom message\n"
     ]
    },
    {
     "ename": "ValueError",
     "evalue": "custom message",
     "output_type": "error",
     "traceback": [
      "\u001b[0;31m---------------------------------------------------------------------------\u001b[0m",
      "\u001b[0;31mValueError\u001b[0m                                Traceback (most recent call last)",
      "Cell \u001b[0;32mIn[17], line 5\u001b[0m\n\u001b[1;32m      3\u001b[0m \u001b[38;5;28;01mwith\u001b[39;00m MyContext() \u001b[38;5;28;01mas\u001b[39;00m obj:\n\u001b[1;32m      4\u001b[0m     \u001b[38;5;28mprint\u001b[39m(\u001b[38;5;124m'\u001b[39m\u001b[38;5;124minside with block\u001b[39m\u001b[38;5;124m'\u001b[39m)\n\u001b[0;32m----> 5\u001b[0m     \u001b[38;5;28;01mraise\u001b[39;00m \u001b[38;5;167;01mValueError\u001b[39;00m(\u001b[38;5;124m'\u001b[39m\u001b[38;5;124mcustom message\u001b[39m\u001b[38;5;124m'\u001b[39m)\n",
      "\u001b[0;31mValueError\u001b[0m: custom message"
     ]
    }
   ],
   "source": [
    "#ctx = MyContext()\n",
    "# with cts as obj:\n",
    "with MyContext() as obj:\n",
    "    print('inside with block')\n",
    "    raise ValueError('custom message')\n",
    "    "
   ]
  },
  {
   "cell_type": "code",
   "execution_count": 19,
   "id": "68453217",
   "metadata": {},
   "outputs": [
    {
     "name": "stdout",
     "output_type": "stream",
     "text": [
      "create context..\n",
      "entering context \n",
      "inside with block\n",
      "exiting context...\n",
      "**error occured:<class 'ValueError'>,custom message\n"
     ]
    },
    {
     "ename": "ValueError",
     "evalue": "custom message",
     "output_type": "error",
     "traceback": [
      "\u001b[0;31m---------------------------------------------------------------------------\u001b[0m",
      "\u001b[0;31mValueError\u001b[0m                                Traceback (most recent call last)",
      "Cell \u001b[0;32mIn[19], line 5\u001b[0m\n\u001b[1;32m      3\u001b[0m \u001b[38;5;28;01mwith\u001b[39;00m ctx \u001b[38;5;28;01mas\u001b[39;00m obj:\n\u001b[1;32m      4\u001b[0m     \u001b[38;5;28mprint\u001b[39m(\u001b[38;5;124m'\u001b[39m\u001b[38;5;124minside with block\u001b[39m\u001b[38;5;124m'\u001b[39m)\n\u001b[0;32m----> 5\u001b[0m     \u001b[38;5;28;01mraise\u001b[39;00m \u001b[38;5;167;01mValueError\u001b[39;00m(\u001b[38;5;124m'\u001b[39m\u001b[38;5;124mcustom message\u001b[39m\u001b[38;5;124m'\u001b[39m)\n",
      "\u001b[0;31mValueError\u001b[0m: custom message"
     ]
    }
   ],
   "source": [
    "ctx = MyContext()\n",
    "print('create context..')\n",
    "with ctx as obj:\n",
    "    print('inside with block')\n",
    "    raise ValueError('custom message')"
   ]
  },
  {
   "cell_type": "code",
   "execution_count": 20,
   "id": "aead851e",
   "metadata": {},
   "outputs": [],
   "source": [
    "# exit method and supress exception\n",
    "class MyContext:\n",
    "    def __init__(self):\n",
    "        self.obj = None\n",
    "        \n",
    "        \n",
    "    def __enter__(self):\n",
    "        print('entering context ')\n",
    "        self.obj = 'the return object'\n",
    "        return self.obj\n",
    "    \n",
    "    def __exit__(self, exc_type, exc_value, exc_tb):\n",
    "        print('exiting context...')\n",
    "        \n",
    "        if exc_type:\n",
    "            print(f'**error occured:{exc_type},{exc_value}')\n",
    "        return True    "
   ]
  },
  {
   "cell_type": "code",
   "execution_count": 21,
   "id": "5e0dd911",
   "metadata": {},
   "outputs": [
    {
     "name": "stdout",
     "output_type": "stream",
     "text": [
      "create context..\n",
      "entering context \n",
      "inside with block\n",
      "exiting context...\n",
      "**error occured:<class 'ValueError'>,custom message\n"
     ]
    }
   ],
   "source": [
    "\n",
    "ctx = MyContext()\n",
    "print('create context..')\n",
    "with ctx as obj:\n",
    "    print('inside with block')\n",
    "    raise ValueError('custom message')"
   ]
  },
  {
   "cell_type": "code",
   "execution_count": 22,
   "id": "aeee4cdb",
   "metadata": {},
   "outputs": [],
   "source": [
    "class Resource:\n",
    "    def __init__(self, name):\n",
    "        self.name = name\n",
    "        self.stats = None"
   ]
  },
  {
   "cell_type": "code",
   "execution_count": 26,
   "id": "908bf256",
   "metadata": {},
   "outputs": [],
   "source": [
    "class ResourceManager:\n",
    "    def __init__(self, name):\n",
    "        self.name = name\n",
    "        self.resource = None\n",
    "        \n",
    "    def __enter__(self):\n",
    "        print('entering context')\n",
    "        self.resource = Resource(self.name)\n",
    "        self.resource.state = 'created'\n",
    "        return self.resource\n",
    "    \n",
    "    def __exit__(self,exc_type, exc_value, exc_tb):\n",
    "        print('exiting context')\n",
    "        self.resource.state = 'destroyed'\n",
    "        if exc_type:\n",
    "            print('error occured')\n",
    "        return False    "
   ]
  },
  {
   "cell_type": "code",
   "execution_count": 28,
   "id": "5cac1523",
   "metadata": {},
   "outputs": [
    {
     "name": "stdout",
     "output_type": "stream",
     "text": [
      "entering context\n",
      "spam = created\n",
      "exiting context\n",
      "file closed..\n",
      "spam = destroyed\n"
     ]
    }
   ],
   "source": [
    "with ResourceManager('spam') as res:\n",
    "    print(f'{res.name} = {res.state}')\n",
    "print('file closed..')    \n",
    "print(f'{res.name} = {res.state}')          "
   ]
  },
  {
   "cell_type": "code",
   "execution_count": 29,
   "id": "9e40d221",
   "metadata": {},
   "outputs": [],
   "source": [
    "class File:\n",
    "    \n",
    "    def __init__(self, name, mode):\n",
    "        self.name = name\n",
    "        self.mode = mode\n",
    "    \n",
    "    def __enter__(self):\n",
    "        print('opening file..')\n",
    "        self.file = open(self.name, self.mode)\n",
    "        return self.file\n",
    "    \n",
    "    def __exit__(self, exc_type, exc_value, exc_tb):\n",
    "        print('closing file')\n",
    "        self.file.close()\n",
    "        return False"
   ]
  },
  {
   "cell_type": "code",
   "execution_count": 30,
   "id": "3548c127",
   "metadata": {},
   "outputs": [
    {
     "name": "stdout",
     "output_type": "stream",
     "text": [
      "opening file..\n",
      "closing file\n"
     ]
    }
   ],
   "source": [
    "with File('test.txt','w') as f:\n",
    "    f.write('this is a later parrot')"
   ]
  },
  {
   "cell_type": "code",
   "execution_count": 32,
   "id": "0f53f51a",
   "metadata": {},
   "outputs": [
    {
     "name": "stdout",
     "output_type": "stream",
     "text": [
      "opening file..\n",
      "['this is a later parrot']\n",
      "closing file\n"
     ]
    }
   ],
   "source": [
    "with File('test.txt','r') as f:\n",
    "    print(f.readlines())"
   ]
  },
  {
   "cell_type": "code",
   "execution_count": 33,
   "id": "9aaa2288",
   "metadata": {},
   "outputs": [],
   "source": [
    "class File:\n",
    "    \n",
    "    def __init__(self, name, mode):\n",
    "        self.name = name\n",
    "        self.mode = mode\n",
    "    \n",
    "    def __enter__(self):\n",
    "        print('opening file..')\n",
    "        self.file = open(self.name, self.mode)\n",
    "        return self\n",
    "    \n",
    "    def __exit__(self, exc_type, exc_value, exc_tb):\n",
    "        print('closing file')\n",
    "        self.file.close()\n",
    "        return False"
   ]
  },
  {
   "cell_type": "code",
   "execution_count": 35,
   "id": "75457a50",
   "metadata": {},
   "outputs": [
    {
     "name": "stdout",
     "output_type": "stream",
     "text": [
      "opening file..\n",
      "this is a later parrot\n",
      "test.txt\n",
      "r\n",
      "closing file\n"
     ]
    }
   ],
   "source": [
    "with File('test.txt','r') as f_ctx:\n",
    "    print(next(f_ctx.file))\n",
    "    print(f_ctx.name)\n",
    "    print(f_ctx.mode)"
   ]
  },
  {
   "cell_type": "markdown",
   "id": "3989f52d",
   "metadata": {},
   "source": [
    "# Caveat with lazy iterators"
   ]
  },
  {
   "cell_type": "code",
   "execution_count": 37,
   "id": "8be0c800",
   "metadata": {},
   "outputs": [],
   "source": [
    "import csv\n",
    "\n",
    "def read_data():\n",
    "    with open('park_ticket.csv') as f:\n",
    "        return csv.reader(f, delimiter = ',', quotechar = '\"')"
   ]
  },
  {
   "cell_type": "code",
   "execution_count": null,
   "id": "0002b283",
   "metadata": {},
   "outputs": [],
   "source": [
    "reader = read_data()"
   ]
  },
  {
   "cell_type": "code",
   "execution_count": null,
   "id": "65c4600a",
   "metadata": {},
   "outputs": [],
   "source": [
    "from row in reader: # this will error out as file will close before the iteration completes\n",
    "    print(row)"
   ]
  },
  {
   "cell_type": "code",
   "execution_count": null,
   "id": "33d8176c",
   "metadata": {},
   "outputs": [],
   "source": [
    "# RESOLVE 1\n",
    "import csv\n",
    "\n",
    "def read_data():\n",
    "    with open('park_ticket.csv') as f:\n",
    "         yield from csv.reader(f, delimiter = ',', quotechar = '\"')\n"
   ]
  },
  {
   "cell_type": "code",
   "execution_count": null,
   "id": "a8ae66e9",
   "metadata": {},
   "outputs": [],
   "source": [
    "# RESOLVE 2 \n",
    "\n",
    "import csv\n",
    "\n",
    "def read_data():\n",
    "    with open('park_ticket.csv') as f:\n",
    "        return list(csv.reader(f, delimiter = ',', quotechar = '\"'))"
   ]
  },
  {
   "cell_type": "markdown",
   "id": "440cd8c4",
   "metadata": {},
   "source": [
    "# Not just a ContextManager"
   ]
  },
  {
   "cell_type": "code",
   "execution_count": 39,
   "id": "3cb29f06",
   "metadata": {},
   "outputs": [],
   "source": [
    "# context manager class can be used for other functions i.e. not just context functions"
   ]
  },
  {
   "cell_type": "code",
   "execution_count": 40,
   "id": "200d2216",
   "metadata": {},
   "outputs": [],
   "source": [
    "with open('test.txt', 'w') as f:\n",
    "    f.writelines('this is a test')"
   ]
  },
  {
   "cell_type": "code",
   "execution_count": 41,
   "id": "d6d11694",
   "metadata": {},
   "outputs": [
    {
     "name": "stdout",
     "output_type": "stream",
     "text": [
      "['this is a test']\n"
     ]
    }
   ],
   "source": [
    "f = open('test.txt')\n",
    "print(f.readlines())\n",
    "f.close()"
   ]
  },
  {
   "cell_type": "code",
   "execution_count": 42,
   "id": "32c04929",
   "metadata": {},
   "outputs": [],
   "source": [
    "class DataIterator:\n",
    "    def __init__(self, fname):\n",
    "        self._fname = fname \n",
    "        self._f = None\n",
    "        \n",
    "    def __iter__(self):\n",
    "        return self\n",
    "    \n",
    "    def __next__(self):\n",
    "        row = next(self._f)\n",
    "        return row.strip('\\n').split(',')\n",
    "    \n",
    "    def __enter__(self):\n",
    "        self._f = open(self._fname)\n",
    "        return self\n",
    "    \n",
    "    def __exit__(self, exc_type, exc_value, exc_tb):\n",
    "        if not self._f.closed:\n",
    "            self._f.close()\n",
    "        return False    "
   ]
  },
  {
   "cell_type": "code",
   "execution_count": 43,
   "id": "b324a412",
   "metadata": {},
   "outputs": [
    {
     "name": "stdout",
     "output_type": "stream",
     "text": [
      "['this is a test']\n"
     ]
    }
   ],
   "source": [
    "with DataIterator('test.txt') as data:\n",
    "    for row in data:\n",
    "        print(row)"
   ]
  },
  {
   "cell_type": "markdown",
   "id": "117d0f02",
   "metadata": {},
   "source": [
    "# Additional Usecases"
   ]
  },
  {
   "cell_type": "code",
   "execution_count": 44,
   "id": "ba626d9a",
   "metadata": {},
   "outputs": [],
   "source": [
    "import decimal "
   ]
  },
  {
   "cell_type": "code",
   "execution_count": 45,
   "id": "8aeb6c2c",
   "metadata": {},
   "outputs": [
    {
     "data": {
      "text/plain": [
       "Context(prec=28, rounding=ROUND_HALF_EVEN, Emin=-999999, Emax=999999, capitals=1, clamp=0, flags=[], traps=[InvalidOperation, DivisionByZero, Overflow])"
      ]
     },
     "execution_count": 45,
     "metadata": {},
     "output_type": "execute_result"
    }
   ],
   "source": [
    "decimal.getcontext()"
   ]
  },
  {
   "cell_type": "code",
   "execution_count": 47,
   "id": "3789a33e",
   "metadata": {},
   "outputs": [],
   "source": [
    "decimal.getcontext().prec = 14"
   ]
  },
  {
   "cell_type": "code",
   "execution_count": 48,
   "id": "46604972",
   "metadata": {},
   "outputs": [
    {
     "data": {
      "text/plain": [
       "Context(prec=14, rounding=ROUND_HALF_EVEN, Emin=-999999, Emax=999999, capitals=1, clamp=0, flags=[], traps=[InvalidOperation, DivisionByZero, Overflow])"
      ]
     },
     "execution_count": 48,
     "metadata": {},
     "output_type": "execute_result"
    }
   ],
   "source": [
    "decimal.getcontext()"
   ]
  },
  {
   "cell_type": "code",
   "execution_count": 49,
   "id": "b1d80490",
   "metadata": {},
   "outputs": [],
   "source": [
    "decimal.getcontext().prec = 28"
   ]
  },
  {
   "cell_type": "code",
   "execution_count": 50,
   "id": "94db0ebb",
   "metadata": {},
   "outputs": [
    {
     "data": {
      "text/plain": [
       "Context(prec=28, rounding=ROUND_HALF_EVEN, Emin=-999999, Emax=999999, capitals=1, clamp=0, flags=[], traps=[InvalidOperation, DivisionByZero, Overflow])"
      ]
     },
     "execution_count": 50,
     "metadata": {},
     "output_type": "execute_result"
    }
   ],
   "source": [
    "decimal.getcontext()"
   ]
  },
  {
   "cell_type": "code",
   "execution_count": 51,
   "id": "c68a8653",
   "metadata": {},
   "outputs": [
    {
     "name": "stdout",
     "output_type": "stream",
     "text": [
      "0.3333\n",
      "0.3333333333333333333333333333\n"
     ]
    }
   ],
   "source": [
    "old_prec = decimal.getcontext().prec\n",
    "decimal.getcontext().prec = 4\n",
    "print(decimal.Decimal(1)/decimal.Decimal(3))\n",
    "decimal.getcontext().prec = old_prec\n",
    "print(decimal.Decimal(1)/decimal.Decimal(3))"
   ]
  },
  {
   "cell_type": "code",
   "execution_count": 52,
   "id": "f0208a73",
   "metadata": {},
   "outputs": [],
   "source": [
    "class Precision:\n",
    "    def __init__(self,prec):\n",
    "        self.prec = prec\n",
    "        self.current_prec = decimal.getcontext().prec\n",
    "        \n",
    "        \n",
    "    def __enter__(self):\n",
    "        decimal.getcontext().prec = self.prec\n",
    "        \n",
    "    def __exit__(self, exc_type, exc_value, exc_tb):\n",
    "        decimal.getcontext().prec = self.current_prec\n",
    "        return False\n",
    "    \n",
    "    \n",
    "    "
   ]
  },
  {
   "cell_type": "code",
   "execution_count": 53,
   "id": "70fdca15",
   "metadata": {},
   "outputs": [
    {
     "name": "stdout",
     "output_type": "stream",
     "text": [
      "0.333\n",
      "0.3333333333333333333333333333\n"
     ]
    }
   ],
   "source": [
    "with Precision(3):\n",
    "    print(decimal.Decimal(1)/decimal.Decimal(3))\n",
    "print(decimal.Decimal(1)/decimal.Decimal(3))    "
   ]
  },
  {
   "cell_type": "code",
   "execution_count": 54,
   "id": "01ab56bd",
   "metadata": {},
   "outputs": [
    {
     "name": "stdout",
     "output_type": "stream",
     "text": [
      "0.333\n",
      "0.3333333333333333333333333333\n"
     ]
    }
   ],
   "source": [
    "with decimal.localcontext() as cts:\n",
    "    cts.prec = 3\n",
    "    print(decimal.Decimal(1)/decimal.Decimal(3))\n",
    "print(decimal.Decimal(1)/decimal.Decimal(3))"
   ]
  },
  {
   "cell_type": "code",
   "execution_count": 55,
   "id": "b02f0ea5",
   "metadata": {},
   "outputs": [],
   "source": [
    "from time import perf_counter, sleep\n"
   ]
  },
  {
   "cell_type": "code",
   "execution_count": 57,
   "id": "d9374b3a",
   "metadata": {},
   "outputs": [],
   "source": [
    "class Timer:\n",
    "    def __init__(self):\n",
    "        self.elapsed = 0 \n",
    "        \n",
    "    def __enter__(self):\n",
    "        self.start = perf_counter()\n",
    "        return self\n",
    "    \n",
    "    def __exit__(self, exc_type, exc_value, exc_tb):\n",
    "        self.stop = perf_counter()\n",
    "        self.elapsed = self.stop = self.start\n",
    "        return False"
   ]
  },
  {
   "cell_type": "code",
   "execution_count": 59,
   "id": "5786153e",
   "metadata": {},
   "outputs": [
    {
     "name": "stdout",
     "output_type": "stream",
     "text": [
      "7568.791847151\n"
     ]
    }
   ],
   "source": [
    "with Timer() as timer:\n",
    "    sleep(1)\n",
    "print(timer.elapsed)"
   ]
  },
  {
   "cell_type": "code",
   "execution_count": 60,
   "id": "b4f5ed71",
   "metadata": {},
   "outputs": [],
   "source": [
    "import sys\n",
    "\n",
    "class OutToFile:\n",
    "    def __init__(self, fname):\n",
    "        self._fname = fname\n",
    "        self._current_stdout = sys.stdout\n",
    "        \n",
    "    def __enter__(self):\n",
    "        self._file = open(self._fname, 'w')\n",
    "        sys.stdout = self._file\n",
    "        \n",
    "    def __exit__(self, exc_type, exc_value, exc_tb):\n",
    "        sys.stdout = self._current_stdout\n",
    "        self._file.close()\n",
    "        return False"
   ]
  },
  {
   "cell_type": "code",
   "execution_count": 61,
   "id": "6e4ffdb4",
   "metadata": {},
   "outputs": [],
   "source": [
    "with OutToFile('test.txt'):\n",
    "    print('Line 1')\n",
    "    print('Line 2')"
   ]
  },
  {
   "cell_type": "code",
   "execution_count": 63,
   "id": "cf1983e0",
   "metadata": {},
   "outputs": [],
   "source": [
    "class Tag:\n",
    "    def __init__(self, tag):\n",
    "        self._tag = tag\n",
    "        \n",
    "    def __enter__(self):\n",
    "        print(f'<{self._tag}>', end = '')\n",
    "        \n",
    "    def __exit__(self, exc_type, exc_value, exc_tb):\n",
    "        print(f'</{self._tag}>', end = '')\n",
    "        return False"
   ]
  },
  {
   "cell_type": "code",
   "execution_count": 64,
   "id": "6d559359",
   "metadata": {},
   "outputs": [
    {
     "name": "stdout",
     "output_type": "stream",
     "text": [
      "<p>some <b>bold</b>text </p>"
     ]
    }
   ],
   "source": [
    "with Tag('p'):\n",
    "    print('some ', end= '')\n",
    "    with Tag('b'):\n",
    "        print('bold', end = '')\n",
    "    print('text ', end= '')    "
   ]
  },
  {
   "cell_type": "code",
   "execution_count": 67,
   "id": "fb87e61a",
   "metadata": {},
   "outputs": [],
   "source": [
    "class ListMaker:\n",
    "    def __init__(self, title, prefix = '- ', indent = 3):\n",
    "        self._title = title\n",
    "        self._prefix = prefix\n",
    "        self._indent = indent\n",
    "        self._current_indent = 0\n",
    "        print(title)\n",
    "        \n",
    "    def __enter__(self):\n",
    "        self._current_indent += self._indent\n",
    "        return self\n",
    "    \n",
    "    def __exit__(self, exc_type, exc_value, exc_tb):\n",
    "        self._current_indent -= self._indent\n",
    "        return False\n",
    "    \n",
    "    def print(self, arg):\n",
    "        s = ' '*self._current_indent + self._prefix + str(arg)\n",
    "        print(s)"
   ]
  },
  {
   "cell_type": "code",
   "execution_count": 68,
   "id": "5cf081ae",
   "metadata": {},
   "outputs": [
    {
     "name": "stdout",
     "output_type": "stream",
     "text": [
      "Items\n"
     ]
    }
   ],
   "source": [
    "lm = ListMaker('Items')"
   ]
  },
  {
   "cell_type": "code",
   "execution_count": 69,
   "id": "05099cb5",
   "metadata": {},
   "outputs": [
    {
     "name": "stdout",
     "output_type": "stream",
     "text": [
      "Items\n",
      "   - Item 1\n",
      "   - Item 2\n"
     ]
    }
   ],
   "source": [
    "with ListMaker('Items') as lm:\n",
    "    lm.print('Item 1')\n",
    "    lm.print('Item 2')"
   ]
  },
  {
   "cell_type": "code",
   "execution_count": 72,
   "id": "b92e0f34",
   "metadata": {},
   "outputs": [
    {
     "name": "stdout",
     "output_type": "stream",
     "text": [
      "Items\n",
      "   - Item 1\n",
      "      - subitem 1a\n",
      "      - subitem 1b\n",
      "   - Item 2\n",
      "      - subitem 2a\n",
      "      - subitem 2b\n"
     ]
    }
   ],
   "source": [
    "with ListMaker('Items') as lm:\n",
    "    lm.print('Item 1')\n",
    "    with lm:\n",
    "        lm.print('subitem 1a')\n",
    "        lm.print('subitem 1b')\n",
    "    lm.print('Item 2')\n",
    "    with lm:\n",
    "        lm.print('subitem 2a')\n",
    "        lm.print('subitem 2b')"
   ]
  },
  {
   "cell_type": "code",
   "execution_count": 78,
   "id": "ce992122",
   "metadata": {},
   "outputs": [],
   "source": [
    "with OutToFile('mylist.txt'):\n",
    "    with ListMaker('Items') as lm:\n",
    "        lm.print('Item 1')\n",
    "        with lm:\n",
    "            lm.print('subitem 1a')\n",
    "            lm.print('subitem 1b')\n",
    "        lm.print('Item 2')\n",
    "        with lm:\n",
    "            lm.print('subitem 2a')\n",
    "            lm.print('subitem 2b')"
   ]
  },
  {
   "cell_type": "code",
   "execution_count": 79,
   "id": "76f6fc53",
   "metadata": {},
   "outputs": [
    {
     "name": "stdout",
     "output_type": "stream",
     "text": [
      "test\n"
     ]
    }
   ],
   "source": [
    "print('test')"
   ]
  },
  {
   "cell_type": "code",
   "execution_count": 81,
   "id": "af9e0e1a",
   "metadata": {},
   "outputs": [
    {
     "name": "stdout",
     "output_type": "stream",
     "text": [
      "Items\n",
      "   - Item 1\n",
      "      - subitem 1a\n",
      "      - subitem 1b\n",
      "   - Item 2\n",
      "      - subitem 2a\n",
      "      - subitem 2b\n"
     ]
    }
   ],
   "source": [
    "with open('mylist.txt') as f:\n",
    "    for row in f:\n",
    "        print(row, end = '')"
   ]
  },
  {
   "cell_type": "markdown",
   "id": "b6c69c8a",
   "metadata": {},
   "source": [
    "# Generators and context managers"
   ]
  },
  {
   "cell_type": "code",
   "execution_count": null,
   "id": "be6d8b7a",
   "metadata": {},
   "outputs": [],
   "source": []
  }
 ],
 "metadata": {
  "kernelspec": {
   "display_name": "Python 3 (ipykernel)",
   "language": "python",
   "name": "python3"
  },
  "language_info": {
   "codemirror_mode": {
    "name": "ipython",
    "version": 3
   },
   "file_extension": ".py",
   "mimetype": "text/x-python",
   "name": "python",
   "nbconvert_exporter": "python",
   "pygments_lexer": "ipython3",
   "version": "3.11.4"
  }
 },
 "nbformat": 4,
 "nbformat_minor": 5
}
