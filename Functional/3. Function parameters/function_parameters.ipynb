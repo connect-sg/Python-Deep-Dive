{
 "cells": [
  {
   "cell_type": "markdown",
   "id": "9158c9fd",
   "metadata": {},
   "source": [
    "# Arguments vs Parameters"
   ]
  },
  {
   "cell_type": "code",
   "execution_count": null,
   "id": "8d9180e4",
   "metadata": {},
   "outputs": [],
   "source": [
    "###NOTES###\n",
    "\n",
    "# Semantics\n",
    "'''\n",
    "    def my_func(a, b):\n",
    "        #code\n",
    "        \n",
    "        a & b are parameters\n",
    "        \n",
    "        \n",
    "    # when funciton is called then we call input as arguments\n",
    "    \n",
    "    my_func(x,y)\n",
    "       x & y are arguments\n",
    "    \n",
    "#module scope \n",
    "\n",
    "x & y variables\n",
    "'''\n"
   ]
  },
  {
   "cell_type": "markdown",
   "id": "86492f00",
   "metadata": {},
   "source": [
    "# Positional and keyword arguments"
   ]
  },
  {
   "cell_type": "code",
   "execution_count": null,
   "id": "0a77a7cc",
   "metadata": {},
   "outputs": [],
   "source": [
    "# Default parameters values\n",
    "# keyword arguments or named arguments"
   ]
  },
  {
   "cell_type": "markdown",
   "id": "2bfdadc9",
   "metadata": {},
   "source": [
    "# Unpacking iterables"
   ]
  },
  {
   "cell_type": "code",
   "execution_count": null,
   "id": "a942e063",
   "metadata": {},
   "outputs": [],
   "source": [
    "# 1,2,3 is also a tuple i.e.  same as (1,2,3)\n",
    "# (1) is int not tuple\n",
    "# 1, will create a tuple\n",
    "# () empty tuple or tuple() for empty tuple\n",
    "\n",
    "\n",
    "# Packed values\n",
    "    ### values bundled together\n",
    "    # string is packed value as well i.e. s = 'python' is packed value\n",
    "    \n",
    "# Unpacked packed values\n",
    "    # a,b,c = [1,2,3]\n",
    "    # unpacked as a= 1, b= 2, c= 3\n",
    "    # a,b,c = 'xyz' will be a = x, b = y, c = z\n",
    "    \n",
    "    # swap values a,b = b,a\n",
    "    \n",
    "    # swap works because RHS is evaluated in python first followed by LHS\n",
    "    \n",
    "# unpacking set and dict\n",
    "    # for e in d: e iterated thorugh keys\n",
    "    # a,b,c = d then  a = k1 , b = k2, c = k3\n",
    "    # set and dict are unordered types\n",
    "    \n"
   ]
  },
  {
   "cell_type": "code",
   "execution_count": 1,
   "id": "86e513f8",
   "metadata": {},
   "outputs": [],
   "source": [
    " a = (1, 2, 3)"
   ]
  },
  {
   "cell_type": "code",
   "execution_count": 2,
   "id": "60f76af5",
   "metadata": {},
   "outputs": [
    {
     "data": {
      "text/plain": [
       "tuple"
      ]
     },
     "execution_count": 2,
     "metadata": {},
     "output_type": "execute_result"
    }
   ],
   "source": [
    "type(a)"
   ]
  },
  {
   "cell_type": "code",
   "execution_count": 3,
   "id": "93c4be4d",
   "metadata": {},
   "outputs": [],
   "source": [
    "a = 1,2,3 # tuple can be created with out paranthesis"
   ]
  },
  {
   "cell_type": "code",
   "execution_count": 4,
   "id": "ceebb908",
   "metadata": {},
   "outputs": [
    {
     "data": {
      "text/plain": [
       "tuple"
      ]
     },
     "execution_count": 4,
     "metadata": {},
     "output_type": "execute_result"
    }
   ],
   "source": [
    "type(a)"
   ]
  },
  {
   "cell_type": "code",
   "execution_count": 5,
   "id": "5ccb4025",
   "metadata": {},
   "outputs": [
    {
     "data": {
      "text/plain": [
       "(1, 2, 3)"
      ]
     },
     "execution_count": 5,
     "metadata": {},
     "output_type": "execute_result"
    }
   ],
   "source": [
    "a"
   ]
  },
  {
   "cell_type": "code",
   "execution_count": 6,
   "id": "241618c5",
   "metadata": {},
   "outputs": [],
   "source": [
    "a = (1) # this is int"
   ]
  },
  {
   "cell_type": "code",
   "execution_count": 7,
   "id": "ce4876ca",
   "metadata": {},
   "outputs": [
    {
     "data": {
      "text/plain": [
       "1"
      ]
     },
     "execution_count": 7,
     "metadata": {},
     "output_type": "execute_result"
    }
   ],
   "source": [
    "a"
   ]
  },
  {
   "cell_type": "code",
   "execution_count": 8,
   "id": "e42888c6",
   "metadata": {},
   "outputs": [],
   "source": [
    "a = 1, # comma creates the tuple"
   ]
  },
  {
   "cell_type": "code",
   "execution_count": 9,
   "id": "79e7054d",
   "metadata": {},
   "outputs": [
    {
     "data": {
      "text/plain": [
       "(1,)"
      ]
     },
     "execution_count": 9,
     "metadata": {},
     "output_type": "execute_result"
    }
   ],
   "source": [
    "a"
   ]
  },
  {
   "cell_type": "code",
   "execution_count": 10,
   "id": "95e1ba61",
   "metadata": {},
   "outputs": [
    {
     "data": {
      "text/plain": [
       "tuple"
      ]
     },
     "execution_count": 10,
     "metadata": {},
     "output_type": "execute_result"
    }
   ],
   "source": [
    "type(a)"
   ]
  },
  {
   "cell_type": "code",
   "execution_count": 13,
   "id": "1e86f7f7",
   "metadata": {},
   "outputs": [],
   "source": [
    "a =() #empty tuple"
   ]
  },
  {
   "cell_type": "code",
   "execution_count": 14,
   "id": "fc392d7c",
   "metadata": {},
   "outputs": [
    {
     "data": {
      "text/plain": [
       "tuple"
      ]
     },
     "execution_count": 14,
     "metadata": {},
     "output_type": "execute_result"
    }
   ],
   "source": [
    "type(a)"
   ]
  },
  {
   "cell_type": "code",
   "execution_count": null,
   "id": "bcdaef7e",
   "metadata": {},
   "outputs": [],
   "source": [
    "# unpacking code"
   ]
  },
  {
   "cell_type": "code",
   "execution_count": 15,
   "id": "5c3a8707",
   "metadata": {},
   "outputs": [],
   "source": [
    "a, b, c = [1, 2, 3]"
   ]
  },
  {
   "cell_type": "code",
   "execution_count": 16,
   "id": "44d1307e",
   "metadata": {},
   "outputs": [
    {
     "data": {
      "text/plain": [
       "1"
      ]
     },
     "execution_count": 16,
     "metadata": {},
     "output_type": "execute_result"
    }
   ],
   "source": [
    "a"
   ]
  },
  {
   "cell_type": "code",
   "execution_count": 17,
   "id": "73cf87a8",
   "metadata": {},
   "outputs": [
    {
     "data": {
      "text/plain": [
       "2"
      ]
     },
     "execution_count": 17,
     "metadata": {},
     "output_type": "execute_result"
    }
   ],
   "source": [
    "b"
   ]
  },
  {
   "cell_type": "code",
   "execution_count": 18,
   "id": "d2dd58e7",
   "metadata": {},
   "outputs": [
    {
     "data": {
      "text/plain": [
       "3"
      ]
     },
     "execution_count": 18,
     "metadata": {},
     "output_type": "execute_result"
    }
   ],
   "source": [
    "c"
   ]
  },
  {
   "cell_type": "code",
   "execution_count": 19,
   "id": "fbe52877",
   "metadata": {},
   "outputs": [],
   "source": [
    "a,b = (1,2)"
   ]
  },
  {
   "cell_type": "code",
   "execution_count": 20,
   "id": "cde78f36",
   "metadata": {},
   "outputs": [
    {
     "data": {
      "text/plain": [
       "1"
      ]
     },
     "execution_count": 20,
     "metadata": {},
     "output_type": "execute_result"
    }
   ],
   "source": [
    "a"
   ]
  },
  {
   "cell_type": "code",
   "execution_count": 21,
   "id": "03724d9f",
   "metadata": {},
   "outputs": [
    {
     "data": {
      "text/plain": [
       "2"
      ]
     },
     "execution_count": 21,
     "metadata": {},
     "output_type": "execute_result"
    }
   ],
   "source": [
    "b"
   ]
  },
  {
   "cell_type": "markdown",
   "id": "ac15de17",
   "metadata": {},
   "source": [
    "# *args"
   ]
  },
  {
   "cell_type": "code",
   "execution_count": null,
   "id": "5b215129",
   "metadata": {},
   "outputs": [],
   "source": [
    "#### NOTES ####\n",
    "def func1(a,b,*c):\n",
    "    # code\n",
    "    \n",
    "func1(10,20,'a','b')\n",
    "\n",
    "a = 10, b = 20 , c = ('a','b')\n",
    "\n",
    "\n",
    "#*args exhaust the positional argument\n"
   ]
  },
  {
   "cell_type": "code",
   "execution_count": 29,
   "id": "b1c28301",
   "metadata": {},
   "outputs": [],
   "source": [
    "def avg(*args):\n",
    "    count = len(args)\n",
    "    total = sum(args)\n",
    "    if count==0:\n",
    "       return 0\n",
    "    else:\n",
    "       return total/count"
   ]
  },
  {
   "cell_type": "code",
   "execution_count": 30,
   "id": "d6ada15f",
   "metadata": {},
   "outputs": [
    {
     "data": {
      "text/plain": [
       "3.0"
      ]
     },
     "execution_count": 30,
     "metadata": {},
     "output_type": "execute_result"
    }
   ],
   "source": [
    "avg(2,2,4,4)"
   ]
  },
  {
   "cell_type": "code",
   "execution_count": 31,
   "id": "9b3382a6",
   "metadata": {},
   "outputs": [
    {
     "data": {
      "text/plain": [
       "0"
      ]
     },
     "execution_count": 31,
     "metadata": {},
     "output_type": "execute_result"
    }
   ],
   "source": [
    "avg()"
   ]
  },
  {
   "cell_type": "code",
   "execution_count": 32,
   "id": "8fd2c134",
   "metadata": {},
   "outputs": [],
   "source": [
    "def avg(*args):\n",
    "    count = len(args)\n",
    "    total = sum(args)\n",
    "    \n",
    "    return count and total/count"
   ]
  },
  {
   "cell_type": "code",
   "execution_count": 33,
   "id": "9b214a70",
   "metadata": {},
   "outputs": [
    {
     "data": {
      "text/plain": [
       "0"
      ]
     },
     "execution_count": 33,
     "metadata": {},
     "output_type": "execute_result"
    }
   ],
   "source": [
    "avg()"
   ]
  },
  {
   "cell_type": "code",
   "execution_count": 34,
   "id": "9078c985",
   "metadata": {},
   "outputs": [
    {
     "data": {
      "text/plain": [
       "2.5"
      ]
     },
     "execution_count": 34,
     "metadata": {},
     "output_type": "execute_result"
    }
   ],
   "source": [
    "avg(1,2,3,4)"
   ]
  },
  {
   "cell_type": "code",
   "execution_count": 36,
   "id": "4b4c1566",
   "metadata": {},
   "outputs": [],
   "source": [
    "def avg(a, *args):\n",
    "    count = len(args)+1\n",
    "    total = sum(args)+a\n",
    "    \n",
    "    return total/count"
   ]
  },
  {
   "cell_type": "code",
   "execution_count": 37,
   "id": "6152e34d",
   "metadata": {},
   "outputs": [
    {
     "data": {
      "text/plain": [
       "1.0"
      ]
     },
     "execution_count": 37,
     "metadata": {},
     "output_type": "execute_result"
    }
   ],
   "source": [
    "avg(1)"
   ]
  },
  {
   "cell_type": "code",
   "execution_count": 38,
   "id": "b526fd02",
   "metadata": {},
   "outputs": [],
   "source": [
    "def func1(a,b,c):\n",
    "    print(a)\n",
    "    print(b)\n",
    "    print(c)"
   ]
  },
  {
   "cell_type": "code",
   "execution_count": 39,
   "id": "fc36b297",
   "metadata": {},
   "outputs": [],
   "source": [
    "l = [10,20,30]"
   ]
  },
  {
   "cell_type": "code",
   "execution_count": 40,
   "id": "3c12b70f",
   "metadata": {},
   "outputs": [
    {
     "name": "stdout",
     "output_type": "stream",
     "text": [
      "10\n",
      "20\n",
      "30\n"
     ]
    }
   ],
   "source": [
    "func1(*l) # unpack l in argument"
   ]
  },
  {
   "cell_type": "markdown",
   "id": "ecae7062",
   "metadata": {},
   "source": [
    "# Keyword arguments"
   ]
  },
  {
   "cell_type": "code",
   "execution_count": 41,
   "id": "5f4b69cc",
   "metadata": {},
   "outputs": [],
   "source": [
    "def func1(a, b, **kwargs):\n",
    "    print(a)\n",
    "    print(b)\n",
    "    print(kwargs)"
   ]
  },
  {
   "cell_type": "code",
   "execution_count": 42,
   "id": "d6220ef6",
   "metadata": {},
   "outputs": [
    {
     "name": "stdout",
     "output_type": "stream",
     "text": [
      "10\n",
      "20\n",
      "{'c': 30, 'd': 40}\n"
     ]
    }
   ],
   "source": [
    "func1(10,20,c = 30, d = 40)"
   ]
  },
  {
   "cell_type": "code",
   "execution_count": 46,
   "id": "b05cddf3",
   "metadata": {},
   "outputs": [],
   "source": [
    "def func2(*, d):\n",
    "    pass\n",
    "    #* indicates end of positional arguments"
   ]
  },
  {
   "cell_type": "code",
   "execution_count": 47,
   "id": "8930c5ba",
   "metadata": {},
   "outputs": [
    {
     "ename": "TypeError",
     "evalue": "func2() takes 0 positional arguments but 3 positional arguments (and 1 keyword-only argument) were given",
     "output_type": "error",
     "traceback": [
      "\u001b[0;31m---------------------------------------------------------------------------\u001b[0m",
      "\u001b[0;31mTypeError\u001b[0m                                 Traceback (most recent call last)",
      "Cell \u001b[0;32mIn[47], line 1\u001b[0m\n\u001b[0;32m----> 1\u001b[0m func2(\u001b[38;5;241m1\u001b[39m,\u001b[38;5;241m2\u001b[39m,\u001b[38;5;241m3\u001b[39m,d\u001b[38;5;241m=\u001b[39m\u001b[38;5;241m100\u001b[39m)\n",
      "\u001b[0;31mTypeError\u001b[0m: func2() takes 0 positional arguments but 3 positional arguments (and 1 keyword-only argument) were given"
     ]
    }
   ],
   "source": [
    "func2(1,2,3,d=100) # fails as * indicates end of position arguments and no positional arguments were expected there"
   ]
  },
  {
   "cell_type": "code",
   "execution_count": 48,
   "id": "737b92a7",
   "metadata": {},
   "outputs": [],
   "source": [
    "func2(d=100) # works as no positional arguments were passed"
   ]
  },
  {
   "cell_type": "code",
   "execution_count": 50,
   "id": "c84b02e3",
   "metadata": {},
   "outputs": [],
   "source": [
    "def func1(a,b,c):\n",
    "    print(a,b,c)"
   ]
  },
  {
   "cell_type": "code",
   "execution_count": 51,
   "id": "0530ed28",
   "metadata": {},
   "outputs": [
    {
     "name": "stdout",
     "output_type": "stream",
     "text": [
      "1 2 3\n"
     ]
    }
   ],
   "source": [
    "func1(1,2,3)"
   ]
  },
  {
   "cell_type": "code",
   "execution_count": 52,
   "id": "9a0b2e18",
   "metadata": {},
   "outputs": [
    {
     "name": "stdout",
     "output_type": "stream",
     "text": [
      "1 2 3\n"
     ]
    }
   ],
   "source": [
    "func1(1, c = 3, b = 2)"
   ]
  },
  {
   "cell_type": "code",
   "execution_count": 53,
   "id": "6f91edfa",
   "metadata": {},
   "outputs": [],
   "source": [
    "def func1(a, b, *args):\n",
    "    print(a,b,args)"
   ]
  },
  {
   "cell_type": "code",
   "execution_count": 54,
   "id": "21e2183e",
   "metadata": {},
   "outputs": [
    {
     "name": "stdout",
     "output_type": "stream",
     "text": [
      "1 2 (3, 4)\n"
     ]
    }
   ],
   "source": [
    "func1(1,2,3,4)"
   ]
  },
  {
   "cell_type": "code",
   "execution_count": 55,
   "id": "6c278f1a",
   "metadata": {},
   "outputs": [],
   "source": [
    "def func1(a, b, *args, d):\n",
    "    print(a,b,args,d)"
   ]
  },
  {
   "cell_type": "code",
   "execution_count": 57,
   "id": "daf220c6",
   "metadata": {},
   "outputs": [
    {
     "name": "stdout",
     "output_type": "stream",
     "text": [
      "1 2 (3, 4) 5\n"
     ]
    }
   ],
   "source": [
    "func1(1,2,3,4, d= 5)"
   ]
  },
  {
   "cell_type": "code",
   "execution_count": 58,
   "id": "0a360b1f",
   "metadata": {},
   "outputs": [],
   "source": [
    "def func1(*args,d):\n",
    "    print(args, d)"
   ]
  },
  {
   "cell_type": "code",
   "execution_count": 59,
   "id": "009343d1",
   "metadata": {},
   "outputs": [
    {
     "name": "stdout",
     "output_type": "stream",
     "text": [
      "(1, 2, 3) 4\n"
     ]
    }
   ],
   "source": [
    "func1(1,2,3, d = 4)"
   ]
  },
  {
   "cell_type": "code",
   "execution_count": 60,
   "id": "19a4413f",
   "metadata": {},
   "outputs": [
    {
     "name": "stdout",
     "output_type": "stream",
     "text": [
      "() 4\n"
     ]
    }
   ],
   "source": [
    "func1(d = 4)"
   ]
  },
  {
   "cell_type": "code",
   "execution_count": 62,
   "id": "0b1959cf",
   "metadata": {},
   "outputs": [],
   "source": [
    "def func(*, d):\n",
    "    print(d)"
   ]
  },
  {
   "cell_type": "code",
   "execution_count": 63,
   "id": "9840af07",
   "metadata": {},
   "outputs": [
    {
     "name": "stdout",
     "output_type": "stream",
     "text": [
      "4\n"
     ]
    }
   ],
   "source": [
    "func(d = 4)"
   ]
  },
  {
   "cell_type": "code",
   "execution_count": 64,
   "id": "4e24e6af",
   "metadata": {},
   "outputs": [],
   "source": [
    "def func2(a, b, *args, d = 0, e):\n",
    "    print(a,b,args,d,e)"
   ]
  },
  {
   "cell_type": "code",
   "execution_count": 65,
   "id": "db26e568",
   "metadata": {},
   "outputs": [
    {
     "name": "stdout",
     "output_type": "stream",
     "text": [
      "1 2 (7, 89) 0 9\n"
     ]
    }
   ],
   "source": [
    "func2(1,2,7,89, e = 9)"
   ]
  },
  {
   "cell_type": "markdown",
   "id": "3a0e9934",
   "metadata": {},
   "source": [
    "# **kwargs"
   ]
  },
  {
   "cell_type": "code",
   "execution_count": null,
   "id": "35883020",
   "metadata": {},
   "outputs": [],
   "source": [
    "  "
   ]
  }
 ],
 "metadata": {
  "kernelspec": {
   "display_name": "Python 3 (ipykernel)",
   "language": "python",
   "name": "python3"
  },
  "language_info": {
   "codemirror_mode": {
    "name": "ipython",
    "version": 3
   },
   "file_extension": ".py",
   "mimetype": "text/x-python",
   "name": "python",
   "nbconvert_exporter": "python",
   "pygments_lexer": "ipython3",
   "version": "3.11.4"
  }
 },
 "nbformat": 4,
 "nbformat_minor": 5
}
