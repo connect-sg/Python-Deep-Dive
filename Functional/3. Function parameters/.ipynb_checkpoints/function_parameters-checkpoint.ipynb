{
 "cells": [
  {
   "cell_type": "markdown",
   "id": "8d038a71",
   "metadata": {},
   "source": [
    "# Arguments vs Parameters"
   ]
  },
  {
   "cell_type": "code",
   "execution_count": null,
   "id": "9cff9a5b",
   "metadata": {},
   "outputs": [],
   "source": [
    "###NOTES###\n",
    "\n",
    "# Semantics\n",
    "'''\n",
    "    def my_func(a, b):\n",
    "        #code\n",
    "        \n",
    "        a & b are parameters\n",
    "        \n",
    "        \n",
    "    # when funciton is called then we call input as arguments\n",
    "    \n",
    "    my_func(x,y)\n",
    "       x & y are arguments\n",
    "    \n",
    "#module scope \n",
    "\n",
    "x & y variables\n",
    "'''\n"
   ]
  },
  {
   "cell_type": "markdown",
   "id": "b5650137",
   "metadata": {},
   "source": [
    "# Positional and keyword arguments"
   ]
  },
  {
   "cell_type": "code",
   "execution_count": null,
   "id": "54c828ae",
   "metadata": {},
   "outputs": [],
   "source": [
    "# Default parameters values\n",
    "# keyword arguments or named arguments"
   ]
  },
  {
   "cell_type": "markdown",
   "id": "b459f6bb",
   "metadata": {},
   "source": [
    "# Unpacking iterables"
   ]
  },
  {
   "cell_type": "code",
   "execution_count": null,
   "id": "6a68d409",
   "metadata": {},
   "outputs": [],
   "source": [
    "# 1,2,3 is also a tuple i.e.  same as (1,2,3)\n",
    "# (1) is int not tuple\n",
    "# 1, will create a tuple\n",
    "# () empty tuple or tuple() for empty tuple\n",
    "\n",
    "\n",
    "# Packed values\n",
    "    ### values bundled together\n",
    "    # string is packed value as well i.e. s = 'python' is packed value\n",
    "    \n",
    "# Unpacked packed values\n",
    "    # a,b,c = [1,2,3]\n",
    "    # unpacked as a= 1, b= 2, c= 3\n",
    "    # a,b,c = 'xyz' will be a = x, b = y, c = z\n",
    "    \n",
    "    # swap values a,b = b,a\n",
    "    \n",
    "    # swap works because RHS is evaluated in python first followed by LHS\n",
    "    \n",
    "# unpacking set and dict\n",
    "    # for e in d: e iterated thorugh keys\n",
    "    # a,b,c = d then  a = k1 , b = k2, c = k3\n",
    "    # set and dict are unordered types\n",
    "    \n"
   ]
  },
  {
   "cell_type": "code",
   "execution_count": 1,
   "id": "381dc138",
   "metadata": {},
   "outputs": [],
   "source": [
    " a = (1, 2, 3)"
   ]
  },
  {
   "cell_type": "code",
   "execution_count": 2,
   "id": "3d455d1a",
   "metadata": {},
   "outputs": [
    {
     "data": {
      "text/plain": [
       "tuple"
      ]
     },
     "execution_count": 2,
     "metadata": {},
     "output_type": "execute_result"
    }
   ],
   "source": [
    "type(a)"
   ]
  },
  {
   "cell_type": "code",
   "execution_count": 3,
   "id": "eff4474a",
   "metadata": {},
   "outputs": [],
   "source": [
    "a = 1,2,3 # tuple can be created with out paranthesis"
   ]
  },
  {
   "cell_type": "code",
   "execution_count": 4,
   "id": "5d238bc9",
   "metadata": {},
   "outputs": [
    {
     "data": {
      "text/plain": [
       "tuple"
      ]
     },
     "execution_count": 4,
     "metadata": {},
     "output_type": "execute_result"
    }
   ],
   "source": [
    "type(a)"
   ]
  },
  {
   "cell_type": "code",
   "execution_count": 5,
   "id": "bec10a3e",
   "metadata": {},
   "outputs": [
    {
     "data": {
      "text/plain": [
       "(1, 2, 3)"
      ]
     },
     "execution_count": 5,
     "metadata": {},
     "output_type": "execute_result"
    }
   ],
   "source": [
    "a"
   ]
  },
  {
   "cell_type": "code",
   "execution_count": 6,
   "id": "a5bd03bd",
   "metadata": {},
   "outputs": [],
   "source": [
    "a = (1) # this is int"
   ]
  },
  {
   "cell_type": "code",
   "execution_count": 7,
   "id": "dc981a47",
   "metadata": {},
   "outputs": [
    {
     "data": {
      "text/plain": [
       "1"
      ]
     },
     "execution_count": 7,
     "metadata": {},
     "output_type": "execute_result"
    }
   ],
   "source": [
    "a"
   ]
  },
  {
   "cell_type": "code",
   "execution_count": 8,
   "id": "82a0fbcf",
   "metadata": {},
   "outputs": [],
   "source": [
    "a = 1, # comma creates the tuple"
   ]
  },
  {
   "cell_type": "code",
   "execution_count": 9,
   "id": "631c057e",
   "metadata": {},
   "outputs": [
    {
     "data": {
      "text/plain": [
       "(1,)"
      ]
     },
     "execution_count": 9,
     "metadata": {},
     "output_type": "execute_result"
    }
   ],
   "source": [
    "a"
   ]
  },
  {
   "cell_type": "code",
   "execution_count": 10,
   "id": "43314bd0",
   "metadata": {},
   "outputs": [
    {
     "data": {
      "text/plain": [
       "tuple"
      ]
     },
     "execution_count": 10,
     "metadata": {},
     "output_type": "execute_result"
    }
   ],
   "source": [
    "type(a)"
   ]
  },
  {
   "cell_type": "code",
   "execution_count": 13,
   "id": "8c6a558c",
   "metadata": {},
   "outputs": [],
   "source": [
    "a =() #empty tuple"
   ]
  },
  {
   "cell_type": "code",
   "execution_count": 14,
   "id": "2d645de9",
   "metadata": {},
   "outputs": [
    {
     "data": {
      "text/plain": [
       "tuple"
      ]
     },
     "execution_count": 14,
     "metadata": {},
     "output_type": "execute_result"
    }
   ],
   "source": [
    "type(a)"
   ]
  },
  {
   "cell_type": "code",
   "execution_count": null,
   "id": "a6f84101",
   "metadata": {},
   "outputs": [],
   "source": [
    "# unpacking code"
   ]
  },
  {
   "cell_type": "code",
   "execution_count": 15,
   "id": "b56b36d2",
   "metadata": {},
   "outputs": [],
   "source": [
    "a, b, c = [1, 2, 3]"
   ]
  },
  {
   "cell_type": "code",
   "execution_count": 16,
   "id": "fd53f1dc",
   "metadata": {},
   "outputs": [
    {
     "data": {
      "text/plain": [
       "1"
      ]
     },
     "execution_count": 16,
     "metadata": {},
     "output_type": "execute_result"
    }
   ],
   "source": [
    "a"
   ]
  },
  {
   "cell_type": "code",
   "execution_count": 17,
   "id": "1fbdc8b7",
   "metadata": {},
   "outputs": [
    {
     "data": {
      "text/plain": [
       "2"
      ]
     },
     "execution_count": 17,
     "metadata": {},
     "output_type": "execute_result"
    }
   ],
   "source": [
    "b"
   ]
  },
  {
   "cell_type": "code",
   "execution_count": 18,
   "id": "615678bf",
   "metadata": {},
   "outputs": [
    {
     "data": {
      "text/plain": [
       "3"
      ]
     },
     "execution_count": 18,
     "metadata": {},
     "output_type": "execute_result"
    }
   ],
   "source": [
    "c"
   ]
  },
  {
   "cell_type": "code",
   "execution_count": 19,
   "id": "4231c2ac",
   "metadata": {},
   "outputs": [],
   "source": [
    "a,b = (1,2)"
   ]
  },
  {
   "cell_type": "code",
   "execution_count": 20,
   "id": "8771117c",
   "metadata": {},
   "outputs": [
    {
     "data": {
      "text/plain": [
       "1"
      ]
     },
     "execution_count": 20,
     "metadata": {},
     "output_type": "execute_result"
    }
   ],
   "source": [
    "a"
   ]
  },
  {
   "cell_type": "code",
   "execution_count": 21,
   "id": "913abeb1",
   "metadata": {},
   "outputs": [
    {
     "data": {
      "text/plain": [
       "2"
      ]
     },
     "execution_count": 21,
     "metadata": {},
     "output_type": "execute_result"
    }
   ],
   "source": [
    "b"
   ]
  },
  {
   "cell_type": "markdown",
   "id": "ef342904",
   "metadata": {},
   "source": [
    "# *args"
   ]
  },
  {
   "cell_type": "code",
   "execution_count": null,
   "id": "e64d5f2d",
   "metadata": {},
   "outputs": [],
   "source": [
    "#### NOTES ####\n",
    "def func1(a,b,*c):\n",
    "    # code\n",
    "    \n",
    "func1(10,20,'a','b')\n",
    "\n",
    "a = 10, b = 20 , c = ('a','b')\n",
    "\n",
    "\n",
    "#*args exhaust the positional argument\n"
   ]
  },
  {
   "cell_type": "code",
   "execution_count": 29,
   "id": "0762a165",
   "metadata": {},
   "outputs": [],
   "source": [
    "def avg(*args):\n",
    "    count = len(args)\n",
    "    total = sum(args)\n",
    "    if count==0:\n",
    "       return 0\n",
    "    else:\n",
    "       return total/count"
   ]
  },
  {
   "cell_type": "code",
   "execution_count": 30,
   "id": "4aaec7c6",
   "metadata": {},
   "outputs": [
    {
     "data": {
      "text/plain": [
       "3.0"
      ]
     },
     "execution_count": 30,
     "metadata": {},
     "output_type": "execute_result"
    }
   ],
   "source": [
    "avg(2,2,4,4)"
   ]
  },
  {
   "cell_type": "code",
   "execution_count": 31,
   "id": "1c1be121",
   "metadata": {},
   "outputs": [
    {
     "data": {
      "text/plain": [
       "0"
      ]
     },
     "execution_count": 31,
     "metadata": {},
     "output_type": "execute_result"
    }
   ],
   "source": [
    "avg()"
   ]
  },
  {
   "cell_type": "code",
   "execution_count": 32,
   "id": "ccc50614",
   "metadata": {},
   "outputs": [],
   "source": [
    "def avg(*args):\n",
    "    count = len(args)\n",
    "    total = sum(args)\n",
    "    \n",
    "    return count and total/count"
   ]
  },
  {
   "cell_type": "code",
   "execution_count": 33,
   "id": "b8af4f60",
   "metadata": {},
   "outputs": [
    {
     "data": {
      "text/plain": [
       "0"
      ]
     },
     "execution_count": 33,
     "metadata": {},
     "output_type": "execute_result"
    }
   ],
   "source": [
    "avg()"
   ]
  },
  {
   "cell_type": "code",
   "execution_count": 34,
   "id": "cc5c53b6",
   "metadata": {},
   "outputs": [
    {
     "data": {
      "text/plain": [
       "2.5"
      ]
     },
     "execution_count": 34,
     "metadata": {},
     "output_type": "execute_result"
    }
   ],
   "source": [
    "avg(1,2,3,4)"
   ]
  },
  {
   "cell_type": "code",
   "execution_count": 36,
   "id": "b5d4efd6",
   "metadata": {},
   "outputs": [],
   "source": [
    "def avg(a, *args):\n",
    "    count = len(args)+1\n",
    "    total = sum(args)+a\n",
    "    \n",
    "    return total/count"
   ]
  },
  {
   "cell_type": "code",
   "execution_count": 37,
   "id": "f24468e6",
   "metadata": {},
   "outputs": [
    {
     "data": {
      "text/plain": [
       "1.0"
      ]
     },
     "execution_count": 37,
     "metadata": {},
     "output_type": "execute_result"
    }
   ],
   "source": [
    "avg(1)"
   ]
  },
  {
   "cell_type": "code",
   "execution_count": 38,
   "id": "7f3afdfd",
   "metadata": {},
   "outputs": [],
   "source": [
    "def func1(a,b,c):\n",
    "    print(a)\n",
    "    print(b)\n",
    "    print(c)"
   ]
  },
  {
   "cell_type": "code",
   "execution_count": 39,
   "id": "fc2faf5a",
   "metadata": {},
   "outputs": [],
   "source": [
    "l = [10,20,30]"
   ]
  },
  {
   "cell_type": "code",
   "execution_count": 40,
   "id": "6cd77d3b",
   "metadata": {},
   "outputs": [
    {
     "name": "stdout",
     "output_type": "stream",
     "text": [
      "10\n",
      "20\n",
      "30\n"
     ]
    }
   ],
   "source": [
    "func1(*l) # unpack l in argument"
   ]
  },
  {
   "cell_type": "markdown",
   "id": "d772788e",
   "metadata": {},
   "source": [
    "# Keyword arguments"
   ]
  },
  {
   "cell_type": "code",
   "execution_count": 41,
   "id": "cf72c7dc",
   "metadata": {},
   "outputs": [],
   "source": [
    "def func1(a, b, **kwargs):\n",
    "    print(a)\n",
    "    print(b)\n",
    "    print(kwargs)"
   ]
  },
  {
   "cell_type": "code",
   "execution_count": 42,
   "id": "0ff06271",
   "metadata": {},
   "outputs": [
    {
     "name": "stdout",
     "output_type": "stream",
     "text": [
      "10\n",
      "20\n",
      "{'c': 30, 'd': 40}\n"
     ]
    }
   ],
   "source": [
    "func1(10,20,c = 30, d = 40)"
   ]
  },
  {
   "cell_type": "code",
   "execution_count": 46,
   "id": "6d7f726f",
   "metadata": {},
   "outputs": [],
   "source": [
    "def func2(*, d):\n",
    "    pass\n",
    "    #* indicates end of positional arguments"
   ]
  },
  {
   "cell_type": "code",
   "execution_count": 47,
   "id": "23f24134",
   "metadata": {},
   "outputs": [
    {
     "ename": "TypeError",
     "evalue": "func2() takes 0 positional arguments but 3 positional arguments (and 1 keyword-only argument) were given",
     "output_type": "error",
     "traceback": [
      "\u001b[0;31m---------------------------------------------------------------------------\u001b[0m",
      "\u001b[0;31mTypeError\u001b[0m                                 Traceback (most recent call last)",
      "Cell \u001b[0;32mIn[47], line 1\u001b[0m\n\u001b[0;32m----> 1\u001b[0m func2(\u001b[38;5;241m1\u001b[39m,\u001b[38;5;241m2\u001b[39m,\u001b[38;5;241m3\u001b[39m,d\u001b[38;5;241m=\u001b[39m\u001b[38;5;241m100\u001b[39m)\n",
      "\u001b[0;31mTypeError\u001b[0m: func2() takes 0 positional arguments but 3 positional arguments (and 1 keyword-only argument) were given"
     ]
    }
   ],
   "source": [
    "func2(1,2,3,d=100) # fails as * indicates end of position arguments and no positional arguments were expected there"
   ]
  },
  {
   "cell_type": "code",
   "execution_count": 48,
   "id": "32ccedf1",
   "metadata": {},
   "outputs": [],
   "source": [
    "func2(d=100) # works as no positional arguments were passed"
   ]
  },
  {
   "cell_type": "code",
   "execution_count": 50,
   "id": "1f85e7e8",
   "metadata": {},
   "outputs": [],
   "source": [
    "def func1(a,b,c):\n",
    "    print(a,b,c)"
   ]
  },
  {
   "cell_type": "code",
   "execution_count": 51,
   "id": "31ca44ec",
   "metadata": {},
   "outputs": [
    {
     "name": "stdout",
     "output_type": "stream",
     "text": [
      "1 2 3\n"
     ]
    }
   ],
   "source": [
    "func1(1,2,3)"
   ]
  },
  {
   "cell_type": "code",
   "execution_count": 52,
   "id": "d3118314",
   "metadata": {},
   "outputs": [
    {
     "name": "stdout",
     "output_type": "stream",
     "text": [
      "1 2 3\n"
     ]
    }
   ],
   "source": [
    "func1(1, c = 3, b = 2)"
   ]
  },
  {
   "cell_type": "code",
   "execution_count": 53,
   "id": "99ece652",
   "metadata": {},
   "outputs": [],
   "source": [
    "def func1(a, b, *args):\n",
    "    print(a,b,args)"
   ]
  },
  {
   "cell_type": "code",
   "execution_count": 54,
   "id": "e8169741",
   "metadata": {},
   "outputs": [
    {
     "name": "stdout",
     "output_type": "stream",
     "text": [
      "1 2 (3, 4)\n"
     ]
    }
   ],
   "source": [
    "func1(1,2,3,4)"
   ]
  },
  {
   "cell_type": "code",
   "execution_count": 55,
   "id": "c0cf088e",
   "metadata": {},
   "outputs": [],
   "source": [
    "def func1(a, b, *args, d):\n",
    "    print(a,b,args,d)"
   ]
  },
  {
   "cell_type": "code",
   "execution_count": 57,
   "id": "3f4c6349",
   "metadata": {},
   "outputs": [
    {
     "name": "stdout",
     "output_type": "stream",
     "text": [
      "1 2 (3, 4) 5\n"
     ]
    }
   ],
   "source": [
    "func1(1,2,3,4, d= 5)"
   ]
  },
  {
   "cell_type": "code",
   "execution_count": 58,
   "id": "b8f505b8",
   "metadata": {},
   "outputs": [],
   "source": [
    "def func1(*args,d):\n",
    "    print(args, d)"
   ]
  },
  {
   "cell_type": "code",
   "execution_count": 59,
   "id": "6bba2554",
   "metadata": {},
   "outputs": [
    {
     "name": "stdout",
     "output_type": "stream",
     "text": [
      "(1, 2, 3) 4\n"
     ]
    }
   ],
   "source": [
    "func1(1,2,3, d = 4)"
   ]
  },
  {
   "cell_type": "code",
   "execution_count": 60,
   "id": "7d4f7c55",
   "metadata": {},
   "outputs": [
    {
     "name": "stdout",
     "output_type": "stream",
     "text": [
      "() 4\n"
     ]
    }
   ],
   "source": [
    "func1(d = 4)"
   ]
  },
  {
   "cell_type": "code",
   "execution_count": 62,
   "id": "37ef4104",
   "metadata": {},
   "outputs": [],
   "source": [
    "def func(*, d):\n",
    "    print(d)"
   ]
  },
  {
   "cell_type": "code",
   "execution_count": 63,
   "id": "c93c9d5c",
   "metadata": {},
   "outputs": [
    {
     "name": "stdout",
     "output_type": "stream",
     "text": [
      "4\n"
     ]
    }
   ],
   "source": [
    "func(d = 4)"
   ]
  },
  {
   "cell_type": "code",
   "execution_count": 64,
   "id": "3e22cbd2",
   "metadata": {},
   "outputs": [],
   "source": [
    "def func2(a, b, *args, d = 0, e):\n",
    "    print(a,b,args,d,e)"
   ]
  },
  {
   "cell_type": "code",
   "execution_count": 65,
   "id": "fb723766",
   "metadata": {},
   "outputs": [
    {
     "name": "stdout",
     "output_type": "stream",
     "text": [
      "1 2 (7, 89) 0 9\n"
     ]
    }
   ],
   "source": [
    "func2(1,2,7,89, e = 9)"
   ]
  },
  {
   "cell_type": "code",
   "execution_count": null,
   "id": "93f8de61",
   "metadata": {},
   "outputs": [],
   "source": []
  }
 ],
 "metadata": {
  "kernelspec": {
   "display_name": "Python 3 (ipykernel)",
   "language": "python",
   "name": "python3"
  },
  "language_info": {
   "codemirror_mode": {
    "name": "ipython",
    "version": 3
   },
   "file_extension": ".py",
   "mimetype": "text/x-python",
   "name": "python",
   "nbconvert_exporter": "python",
   "pygments_lexer": "ipython3",
   "version": "3.11.4"
  }
 },
 "nbformat": 4,
 "nbformat_minor": 5
}
