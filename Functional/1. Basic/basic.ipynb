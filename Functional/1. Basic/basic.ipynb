{
 "cells": [
  {
   "cell_type": "markdown",
   "id": "51895197",
   "metadata": {},
   "source": [
    "# Python type Hierarchy"
   ]
  },
  {
   "cell_type": "raw",
   "id": "30406707",
   "metadata": {},
   "source": [
    "Numbers - Integral & Non-integral"
   ]
  },
  {
   "cell_type": "raw",
   "id": "2b354338",
   "metadata": {},
   "source": [
    "Integral - Integers, Booleans\n",
    "\n",
    "Non-Integral - Float, Complex, Decimals, Fractions"
   ]
  },
  {
   "cell_type": "markdown",
   "id": "1372281a",
   "metadata": {},
   "source": [
    "# Collections "
   ]
  },
  {
   "cell_type": "raw",
   "id": "3a63f179",
   "metadata": {},
   "source": [
    "Sequences Sets Mappings\n",
    "\n",
    "Sequences :\n",
    "    Mutable - Lists\n",
    "    Immutable - Tuple, strings\n",
    "\n",
    "Sets :\n",
    "    Mutable - Sets\n",
    "    Immutable - Frozen Sets\n",
    "\n",
    "Mappings:\n",
    "    Dictionaries"
   ]
  },
  {
   "cell_type": "raw",
   "id": "37769c12",
   "metadata": {},
   "source": [
    "Callables:\n",
    "    User Defined Functions\n",
    "    Generators\n",
    "    Classes\n",
    "    Instance Methods\n",
    "    class instances(__call__())\n",
    "    Built-in functions\n",
    "    Built-in methods"
   ]
  },
  {
   "cell_type": "raw",
   "id": "ba9c20f0",
   "metadata": {},
   "source": [
    "Singletons:\n",
    "    None\n",
    "    NotImplemented\n",
    "    Ellipsis"
   ]
  },
  {
   "cell_type": "markdown",
   "id": "cd677111",
   "metadata": {},
   "source": [
    "# Multiline statement & strings"
   ]
  },
  {
   "cell_type": "raw",
   "id": "562a6c49",
   "metadata": {},
   "source": [
    "Python Program:\n",
    "    Physical line of code\n",
    "        logical line of code\n",
    "            Tokenized"
   ]
  },
  {
   "cell_type": "raw",
   "id": "ccec0fe6",
   "metadata": {},
   "source": [
    "Implicit & Explicit\n",
    "\n",
    "Implicit:\n",
    "    [] used for list\n",
    "    () used for tuple\n",
    "    {} used for dictionary\n",
    "    \n",
    "    function arguments/paramters\n",
    "    \n",
    "\n",
    "Explicit:\n",
    "    \\ backslash \n",
    "    "
   ]
  },
  {
   "cell_type": "markdown",
   "id": "d0babf5b",
   "metadata": {},
   "source": [
    "# Variable names"
   ]
  },
  {
   "cell_type": "raw",
   "id": "3a7eaa8b",
   "metadata": {},
   "source": [
    "\n",
    "Identifier name - case sensitive\n",
    "\n",
    "Rules for identifiers:\n",
    "        1. start with _ or letter[a-z A-Z]\n",
    "        2. can't be reserved words like None, True etc.\n",
    "        \n",
    "     conventions:\n",
    "         '_var' as first character to indicate private objects\n",
    "         '__var' mangle class attributes. Used in inheritance chains\n",
    "         '__var__' system defined names\n",
    "         \n",
    "\n",
    "Other naming conventions \n",
    "\n",
    "        Packages - Short, all-lowercase names. Preferably no userscores\n",
    "        Modules - shot, all-lowercase names. can have underscores\n",
    "        classes - capWords(upper camel case) convention\n",
    "        functions, variables - lowercase, words separated by underscores\n",
    "        Constants - all-uppercase, words separated by underscores\n"
   ]
  },
  {
   "cell_type": "markdown",
   "id": "5e70e849",
   "metadata": {},
   "source": [
    "# Conditionals"
   ]
  },
  {
   "cell_type": "markdown",
   "id": "bd5fc599",
   "metadata": {},
   "source": [
    "# Functions"
   ]
  },
  {
   "cell_type": "raw",
   "id": "532f1517",
   "metadata": {},
   "source": [
    "built-in - len(), sqrt()\n",
    "user defined functions"
   ]
  },
  {
   "cell_type": "code",
   "execution_count": 1,
   "id": "b2a712e5",
   "metadata": {},
   "outputs": [],
   "source": [
    "def func1():\n",
    "    print('func1 running..')"
   ]
  },
  {
   "cell_type": "code",
   "execution_count": 2,
   "id": "fcfa74fa",
   "metadata": {},
   "outputs": [
    {
     "data": {
      "text/plain": [
       "<function __main__.func1()>"
      ]
     },
     "execution_count": 2,
     "metadata": {},
     "output_type": "execute_result"
    }
   ],
   "source": [
    "func1"
   ]
  },
  {
   "cell_type": "code",
   "execution_count": 4,
   "id": "523facc5",
   "metadata": {},
   "outputs": [],
   "source": [
    "def func2(a:int, b:int):\n",
    "    return a + b"
   ]
  },
  {
   "cell_type": "code",
   "execution_count": 6,
   "id": "b424d090",
   "metadata": {},
   "outputs": [
    {
     "data": {
      "text/plain": [
       "3"
      ]
     },
     "execution_count": 6,
     "metadata": {},
     "output_type": "execute_result"
    }
   ],
   "source": [
    "func2(1,2)"
   ]
  },
  {
   "cell_type": "code",
   "execution_count": 8,
   "id": "a22bc322",
   "metadata": {},
   "outputs": [
    {
     "data": {
      "text/plain": [
       "'ab'"
      ]
     },
     "execution_count": 8,
     "metadata": {},
     "output_type": "execute_result"
    }
   ],
   "source": [
    "func2('a','b')"
   ]
  },
  {
   "cell_type": "markdown",
   "id": "69aefe44",
   "metadata": {},
   "source": [
    "# While loop"
   ]
  },
  {
   "cell_type": "code",
   "execution_count": 9,
   "id": "a6f42617",
   "metadata": {},
   "outputs": [
    {
     "name": "stdout",
     "output_type": "stream",
     "text": [
      "0\n",
      "1\n",
      "2\n",
      "3\n",
      "4\n"
     ]
    }
   ],
   "source": [
    "i = 0 \n",
    "while i<5:\n",
    "    print(i)\n",
    "    i+=1"
   ]
  },
  {
   "cell_type": "code",
   "execution_count": 11,
   "id": "3b1b53df",
   "metadata": {},
   "outputs": [
    {
     "name": "stdout",
     "output_type": "stream",
     "text": [
      "Please enter your name: Sid\n",
      "Hello Sid\n"
     ]
    }
   ],
   "source": [
    "min_length = 2\n",
    "while True:\n",
    "    name = input('Please enter your name: ')\n",
    "    if len(name)>=min_length and name.isalpha() and name.isprintable():\n",
    "        break\n",
    "        \n",
    "print('Hello {0}'.format(name))        "
   ]
  },
  {
   "cell_type": "markdown",
   "id": "1f8c790b",
   "metadata": {},
   "source": [
    "# Break, Continue and Try statement"
   ]
  },
  {
   "cell_type": "code",
   "execution_count": 14,
   "id": "70371ec9",
   "metadata": {},
   "outputs": [
    {
     "name": "stdout",
     "output_type": "stream",
     "text": [
      "1,1 -finally clause\n",
      "1,1 -main clause\n",
      "---------------------\n",
      "2,0 -except clause\n",
      "2,0 -finally clause\n",
      "3,-1 -finally clause\n",
      "3,-1 -main clause\n",
      "---------------------\n",
      "4,-2 -finally clause\n",
      "4,-2 -main clause\n",
      "---------------------\n",
      "-else clause\n"
     ]
    }
   ],
   "source": [
    "a = 0 \n",
    "b = 2 \n",
    "#while loop also has else clause\n",
    "\n",
    "while a<4:\n",
    "        a+=1\n",
    "        b-=1\n",
    "        \n",
    "        try:\n",
    "            a/b\n",
    "        except  ZeroDivisionError:\n",
    "            print(\"{0},{1} -except clause\".format(a,b))\n",
    "            continue\n",
    "            \n",
    "        finally:\n",
    "            print(\"{0},{1} -finally clause\".format(a,b))\n",
    "            \n",
    "        print(\"{0},{1} -main clause\".format(a,b))\n",
    "        print('---------------------')\n",
    "else:\n",
    "    \n",
    "     print(\"-else clause\")   \n",
    "        "
   ]
  },
  {
   "cell_type": "markdown",
   "id": "fa84188f",
   "metadata": {},
   "source": [
    "# For Loop"
   ]
  },
  {
   "cell_type": "markdown",
   "id": "4be808ee",
   "metadata": {},
   "source": [
    "# Classes"
   ]
  },
  {
   "cell_type": "raw",
   "id": "1d1a94b7",
   "metadata": {},
   "source": [
    "1. overwrite\n",
    "2. __repr__ used to indicate how to represent class\n",
    "3. Getter/setter"
   ]
  }
 ],
 "metadata": {
  "kernelspec": {
   "display_name": "Python 3 (ipykernel)",
   "language": "python",
   "name": "python3"
  },
  "language_info": {
   "codemirror_mode": {
    "name": "ipython",
    "version": 3
   },
   "file_extension": ".py",
   "mimetype": "text/x-python",
   "name": "python",
   "nbconvert_exporter": "python",
   "pygments_lexer": "ipython3",
   "version": "3.11.4"
  }
 },
 "nbformat": 4,
 "nbformat_minor": 5
}
