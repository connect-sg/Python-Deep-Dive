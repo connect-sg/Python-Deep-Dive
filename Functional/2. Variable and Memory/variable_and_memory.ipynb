{
 "cells": [
  {
   "cell_type": "markdown",
   "id": "e22f88e3",
   "metadata": {},
   "source": [
    "# Variables and memory references"
   ]
  },
  {
   "cell_type": "raw",
   "id": "8d51882c",
   "metadata": {},
   "source": [
    "Python memory manager - storing and retrieving object from heap\n",
    "variable is reference to the object at the address\n",
    "\n",
    "id() - to find memory address referred by a variable\n",
    "hex() - to convert to hexadecimal"
   ]
  },
  {
   "cell_type": "code",
   "execution_count": 2,
   "id": "998ab57c",
   "metadata": {},
   "outputs": [],
   "source": [
    "my_var = 10 "
   ]
  },
  {
   "cell_type": "code",
   "execution_count": 3,
   "id": "ccf80663",
   "metadata": {},
   "outputs": [
    {
     "name": "stdout",
     "output_type": "stream",
     "text": [
      "10\n"
     ]
    }
   ],
   "source": [
    "print(my_var)"
   ]
  },
  {
   "cell_type": "code",
   "execution_count": 4,
   "id": "024b00a0",
   "metadata": {},
   "outputs": [
    {
     "name": "stdout",
     "output_type": "stream",
     "text": [
      "4465057096\n"
     ]
    }
   ],
   "source": [
    "print(id(my_var))"
   ]
  },
  {
   "cell_type": "code",
   "execution_count": 5,
   "id": "9e29e670",
   "metadata": {},
   "outputs": [
    {
     "name": "stdout",
     "output_type": "stream",
     "text": [
      "0x10a235d48\n"
     ]
    }
   ],
   "source": [
    "print(hex(id(my_var)))"
   ]
  },
  {
   "cell_type": "code",
   "execution_count": 6,
   "id": "808269d3",
   "metadata": {},
   "outputs": [],
   "source": [
    "g = 'hello'"
   ]
  },
  {
   "cell_type": "code",
   "execution_count": 7,
   "id": "991bca3d",
   "metadata": {},
   "outputs": [
    {
     "name": "stdout",
     "output_type": "stream",
     "text": [
      "hello\n"
     ]
    }
   ],
   "source": [
    "print(g)"
   ]
  },
  {
   "cell_type": "code",
   "execution_count": 8,
   "id": "e61d2517",
   "metadata": {},
   "outputs": [
    {
     "name": "stdout",
     "output_type": "stream",
     "text": [
      "4508698864\n"
     ]
    }
   ],
   "source": [
    "print(id(g))"
   ]
  },
  {
   "cell_type": "code",
   "execution_count": 9,
   "id": "b95a2a7d",
   "metadata": {},
   "outputs": [
    {
     "name": "stdout",
     "output_type": "stream",
     "text": [
      "0x10cbd48f0\n"
     ]
    }
   ],
   "source": [
    "print(hex(id(g)))"
   ]
  },
  {
   "cell_type": "markdown",
   "id": "95c25453",
   "metadata": {},
   "source": [
    "# Reference counting"
   ]
  },
  {
   "cell_type": "raw",
   "id": "cc486162",
   "metadata": {},
   "source": [
    "When the object is not available any longer python memory manager throws it away"
   ]
  },
  {
   "cell_type": "code",
   "execution_count": 17,
   "id": "cdee4188",
   "metadata": {},
   "outputs": [],
   "source": [
    "import sys\n",
    "a = [1,2,3]"
   ]
  },
  {
   "cell_type": "code",
   "execution_count": 18,
   "id": "2b1ca4a7",
   "metadata": {},
   "outputs": [
    {
     "data": {
      "text/plain": [
       "4513545984"
      ]
     },
     "execution_count": 18,
     "metadata": {},
     "output_type": "execute_result"
    }
   ],
   "source": [
    "id(a)"
   ]
  },
  {
   "cell_type": "code",
   "execution_count": 19,
   "id": "ecd9df03",
   "metadata": {},
   "outputs": [
    {
     "data": {
      "text/plain": [
       "2"
      ]
     },
     "execution_count": 19,
     "metadata": {},
     "output_type": "execute_result"
    }
   ],
   "source": [
    "sys.getrefcount(a) \n",
    "#it creates another reference in memory for same variable i.e. increases count of reference. \n",
    "# Additional object pointing to memory"
   ]
  },
  {
   "cell_type": "code",
   "execution_count": 20,
   "id": "01dc5624",
   "metadata": {},
   "outputs": [],
   "source": [
    "# to avoid creating additional reference for same variable\n",
    "import ctypes\n",
    "\n",
    "def ref_count(address):\n",
    "     return ctypes.c_long.from_address(address).value"
   ]
  },
  {
   "cell_type": "code",
   "execution_count": 21,
   "id": "0b949852",
   "metadata": {},
   "outputs": [
    {
     "data": {
      "text/plain": [
       "1"
      ]
     },
     "execution_count": 21,
     "metadata": {},
     "output_type": "execute_result"
    }
   ],
   "source": [
    "ref_count(id(a))\n",
    "# id of a is evaluated first. After id finishes running and it released the pointer \n",
    "# therefore it just has ref count of 1"
   ]
  },
  {
   "cell_type": "code",
   "execution_count": 22,
   "id": "efac586a",
   "metadata": {},
   "outputs": [],
   "source": [
    "b = a"
   ]
  },
  {
   "cell_type": "code",
   "execution_count": 23,
   "id": "a637798a",
   "metadata": {},
   "outputs": [
    {
     "data": {
      "text/plain": [
       "4513545984"
      ]
     },
     "execution_count": 23,
     "metadata": {},
     "output_type": "execute_result"
    }
   ],
   "source": [
    "id(b) # pointing to same location as a "
   ]
  },
  {
   "cell_type": "code",
   "execution_count": 24,
   "id": "f80dc501",
   "metadata": {},
   "outputs": [
    {
     "data": {
      "text/plain": [
       "2"
      ]
     },
     "execution_count": 24,
     "metadata": {},
     "output_type": "execute_result"
    }
   ],
   "source": [
    "ref_count(id(a)) # 2 because both a and b points to same memory"
   ]
  },
  {
   "cell_type": "code",
   "execution_count": 25,
   "id": "e8a291e5",
   "metadata": {},
   "outputs": [],
   "source": [
    " c= a"
   ]
  },
  {
   "cell_type": "code",
   "execution_count": 26,
   "id": "5d0169aa",
   "metadata": {},
   "outputs": [
    {
     "data": {
      "text/plain": [
       "3"
      ]
     },
     "execution_count": 26,
     "metadata": {},
     "output_type": "execute_result"
    }
   ],
   "source": [
    "ref_count(id(a))"
   ]
  },
  {
   "cell_type": "code",
   "execution_count": 27,
   "id": "d6d21fef",
   "metadata": {},
   "outputs": [],
   "source": [
    "c = 10"
   ]
  },
  {
   "cell_type": "code",
   "execution_count": 28,
   "id": "e0eeb903",
   "metadata": {},
   "outputs": [
    {
     "data": {
      "text/plain": [
       "2"
      ]
     },
     "execution_count": 28,
     "metadata": {},
     "output_type": "execute_result"
    }
   ],
   "source": [
    "ref_count(id(a)) # it changes to 2 again as c is now referring new memory address and not to memory as a "
   ]
  },
  {
   "cell_type": "code",
   "execution_count": 29,
   "id": "52e13ee6",
   "metadata": {},
   "outputs": [],
   "source": [
    "b = None"
   ]
  },
  {
   "cell_type": "code",
   "execution_count": 30,
   "id": "5ce54a8c",
   "metadata": {},
   "outputs": [
    {
     "data": {
      "text/plain": [
       "1"
      ]
     },
     "execution_count": 30,
     "metadata": {},
     "output_type": "execute_result"
    }
   ],
   "source": [
    "ref_count(id(a))"
   ]
  },
  {
   "cell_type": "code",
   "execution_count": 36,
   "id": "acfab205",
   "metadata": {},
   "outputs": [
    {
     "data": {
      "text/plain": [
       "1"
      ]
     },
     "execution_count": 36,
     "metadata": {},
     "output_type": "execute_result"
    }
   ],
   "source": [
    "a_id = id(a)\n",
    "a = None\n",
    "ref_count(id(a_id)) # still has reference even when a is pointing to None"
   ]
  },
  {
   "cell_type": "markdown",
   "id": "a7f3138b",
   "metadata": {},
   "source": [
    "# Garbage Collection"
   ]
  },
  {
   "cell_type": "raw",
   "id": "ed3a4072",
   "metadata": {},
   "source": [
    "Circular references - \n",
    "my_var points to object A--> instance var var_1 that points to Object B. Object A reference count goes down to 0.\n",
    "\n",
    "object A(var_1)--->object B(var_2)\n",
    "               <---\n",
    "               \n",
    "In circular reference, references can't be cleaned and garbage collector can be used to clean it up\n",
    "\n",
    "gc module is used for it\n",
    "\n",
    "By default garbage collector is turned on\n",
    "\n",
    "garbage collector runs periodically\n",
    "\n",
    "Can also call it manually and do own cleanup setup\n",
    "\n",
    "CAVIATE - doesn't always work for python<3.4\n",
    "        If even one of the object in circular ref has destructor then order in which it destroys objects matters.    Garbage collector doesn't know how to destroy object and object might not get cleaned up"
   ]
  },
  {
   "cell_type": "code",
   "execution_count": 41,
   "id": "f80da5a9",
   "metadata": {},
   "outputs": [],
   "source": [
    "import ctypes\n",
    "import gc"
   ]
  },
  {
   "cell_type": "code",
   "execution_count": 42,
   "id": "34f7ca22",
   "metadata": {},
   "outputs": [],
   "source": [
    "def ref_count(address):\n",
    "     return ctypes.c_long.from_address(address).value"
   ]
  },
  {
   "cell_type": "code",
   "execution_count": 43,
   "id": "41cb22f9",
   "metadata": {},
   "outputs": [],
   "source": [
    "def object_by_id(object_id):\n",
    "    for obj in gc.get_objects():\n",
    "        if  id(obj)==object_id:\n",
    "            return \"object exists\"\n",
    "    return \"Not found\"    "
   ]
  },
  {
   "cell_type": "code",
   "execution_count": 49,
   "id": "83ea98f9",
   "metadata": {},
   "outputs": [],
   "source": [
    "class A:\n",
    "    def __init__(self):\n",
    "        self.b = B(self)\n",
    "        print('A:self:{0}, b:{1}'.format(hex(id(self)),hex(id(self.b))))"
   ]
  },
  {
   "cell_type": "code",
   "execution_count": 50,
   "id": "496b1f97",
   "metadata": {},
   "outputs": [],
   "source": [
    "class B:\n",
    "    def __init__(self,a):\n",
    "        self.a = a\n",
    "        print('B:self:{0}, a:{1}'.format(hex(id(self)),hex(id(self.a))))\n",
    "        \n",
    "        "
   ]
  },
  {
   "cell_type": "code",
   "execution_count": 51,
   "id": "eee1a53c",
   "metadata": {},
   "outputs": [],
   "source": [
    "gc.disable()"
   ]
  },
  {
   "cell_type": "code",
   "execution_count": 52,
   "id": "7eecffbb",
   "metadata": {},
   "outputs": [
    {
     "name": "stdout",
     "output_type": "stream",
     "text": [
      "B:self:0x10e001b10, a:0x10d32fd90\n",
      "A:self:0x10d32fd90, b:0x10e001b10\n"
     ]
    }
   ],
   "source": [
    "my_var = A()"
   ]
  },
  {
   "cell_type": "code",
   "execution_count": 53,
   "id": "f3c2b62b",
   "metadata": {},
   "outputs": [
    {
     "data": {
      "text/plain": [
       "'0x10d32fd90'"
      ]
     },
     "execution_count": 53,
     "metadata": {},
     "output_type": "execute_result"
    }
   ],
   "source": [
    "hex(id(my_var))"
   ]
  },
  {
   "cell_type": "code",
   "execution_count": 54,
   "id": "88c073db",
   "metadata": {},
   "outputs": [
    {
     "name": "stdout",
     "output_type": "stream",
     "text": [
      "0x10e001b10\n"
     ]
    }
   ],
   "source": [
    "print(hex(id(my_var.b)))"
   ]
  },
  {
   "cell_type": "code",
   "execution_count": 55,
   "id": "b1b107c7",
   "metadata": {},
   "outputs": [
    {
     "name": "stdout",
     "output_type": "stream",
     "text": [
      "0x10d32fd90\n"
     ]
    }
   ],
   "source": [
    "print(hex(id(my_var.b.a)))"
   ]
  },
  {
   "cell_type": "code",
   "execution_count": 64,
   "id": "ad85eab0",
   "metadata": {},
   "outputs": [
    {
     "name": "stdout",
     "output_type": "stream",
     "text": [
      "4516412816 4529855248\n"
     ]
    }
   ],
   "source": [
    "a_id = id(my_var)\n",
    "b_id = id(my_var.b)\n",
    "print(a_id,b_id)"
   ]
  },
  {
   "cell_type": "raw",
   "id": "6a9dbb98",
   "metadata": {},
   "source": [
    "print(ref_count(a_id))"
   ]
  },
  {
   "cell_type": "code",
   "execution_count": 65,
   "id": "788a59a1",
   "metadata": {},
   "outputs": [
    {
     "data": {
      "text/plain": [
       "'object exists'"
      ]
     },
     "execution_count": 65,
     "metadata": {},
     "output_type": "execute_result"
    }
   ],
   "source": [
    "object_by_id(a_id)"
   ]
  },
  {
   "cell_type": "code",
   "execution_count": 66,
   "id": "192b630d",
   "metadata": {},
   "outputs": [
    {
     "data": {
      "text/plain": [
       "'object exists'"
      ]
     },
     "execution_count": 66,
     "metadata": {},
     "output_type": "execute_result"
    }
   ],
   "source": [
    "object_by_id(b_id)"
   ]
  },
  {
   "cell_type": "code",
   "execution_count": 67,
   "id": "64a3a744",
   "metadata": {},
   "outputs": [],
   "source": [
    "my_var =None # removing reference to A"
   ]
  },
  {
   "cell_type": "code",
   "execution_count": 68,
   "id": "af2df8cc",
   "metadata": {},
   "outputs": [
    {
     "data": {
      "text/plain": [
       "'object exists'"
      ]
     },
     "execution_count": 68,
     "metadata": {},
     "output_type": "execute_result"
    }
   ],
   "source": [
    "object_by_id(a_id) #object was destroyed but still exists. Because gc was diabled"
   ]
  },
  {
   "cell_type": "code",
   "execution_count": 69,
   "id": "1087a484",
   "metadata": {},
   "outputs": [
    {
     "data": {
      "text/plain": [
       "'object exists'"
      ]
     },
     "execution_count": 69,
     "metadata": {},
     "output_type": "execute_result"
    }
   ],
   "source": [
    "object_by_id(b_id) #object was destroyed but still exists. Because gc was diabled"
   ]
  },
  {
   "cell_type": "code",
   "execution_count": 70,
   "id": "5f07d54d",
   "metadata": {},
   "outputs": [
    {
     "data": {
      "text/plain": [
       "2752"
      ]
     },
     "execution_count": 70,
     "metadata": {},
     "output_type": "execute_result"
    }
   ],
   "source": [
    "gc.collect() # run gc manually"
   ]
  },
  {
   "cell_type": "code",
   "execution_count": 71,
   "id": "3058eaaa",
   "metadata": {},
   "outputs": [
    {
     "data": {
      "text/plain": [
       "'Not found'"
      ]
     },
     "execution_count": 71,
     "metadata": {},
     "output_type": "execute_result"
    }
   ],
   "source": [
    "object_by_id(a_id) # gc destroyed the reference pointer"
   ]
  },
  {
   "cell_type": "code",
   "execution_count": 72,
   "id": "ab91b4fa",
   "metadata": {},
   "outputs": [
    {
     "data": {
      "text/plain": [
       "'Not found'"
      ]
     },
     "execution_count": 72,
     "metadata": {},
     "output_type": "execute_result"
    }
   ],
   "source": [
    "object_by_id(b_id)"
   ]
  },
  {
   "cell_type": "raw",
   "id": "6f09ead5",
   "metadata": {},
   "source": [
    "Object was destroyed but references to memory address a_id & b_id might still exist.\n",
    "It is because memory is reclaimed and now used for something else. Therefore memory object reference can be tricky"
   ]
  },
  {
   "cell_type": "markdown",
   "id": "facaa9ea",
   "metadata": {},
   "source": [
    "# Dynamic and static typing"
   ]
  },
  {
   "cell_type": "raw",
   "id": "69d62ba5",
   "metadata": {},
   "source": [
    "Python is dynamically typed"
   ]
  },
  {
   "cell_type": "code",
   "execution_count": 73,
   "id": "f3674853",
   "metadata": {},
   "outputs": [],
   "source": [
    "my_var = 'hello'# my_var is reference to string object in memory"
   ]
  },
  {
   "cell_type": "code",
   "execution_count": 74,
   "id": "896a490c",
   "metadata": {},
   "outputs": [],
   "source": [
    "my_var = 10 # my_var is reference to int object in memory"
   ]
  },
  {
   "cell_type": "raw",
   "id": "6557500d",
   "metadata": {},
   "source": [
    "my_var is just reference and not static to any data type i.e. can refer to any data type"
   ]
  }
 ],
 "metadata": {
  "kernelspec": {
   "display_name": "Python 3 (ipykernel)",
   "language": "python",
   "name": "python3"
  },
  "language_info": {
   "codemirror_mode": {
    "name": "ipython",
    "version": 3
   },
   "file_extension": ".py",
   "mimetype": "text/x-python",
   "name": "python",
   "nbconvert_exporter": "python",
   "pygments_lexer": "ipython3",
   "version": "3.11.4"
  }
 },
 "nbformat": 4,
 "nbformat_minor": 5
}
