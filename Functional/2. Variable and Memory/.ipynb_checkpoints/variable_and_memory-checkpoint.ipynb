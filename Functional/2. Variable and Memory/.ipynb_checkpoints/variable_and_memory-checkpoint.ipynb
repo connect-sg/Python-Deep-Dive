{
 "cells": [
  {
   "cell_type": "markdown",
   "id": "e22f88e3",
   "metadata": {},
   "source": [
    "# Variables and memory references"
   ]
  },
  {
   "cell_type": "raw",
   "id": "7334e469",
   "metadata": {},
   "source": [
    "Python memory manager - storing and retrieving object from heap\n",
    "variable is reference to the object at the address\n",
    "\n",
    "id() - to find memory address referred by a variable\n",
    "hex() - to convert to hexadecimal"
   ]
  },
  {
   "cell_type": "code",
   "execution_count": 2,
   "id": "54247f54",
   "metadata": {},
   "outputs": [],
   "source": [
    "my_var = 10 "
   ]
  },
  {
   "cell_type": "code",
   "execution_count": 3,
   "id": "a539f667",
   "metadata": {},
   "outputs": [
    {
     "name": "stdout",
     "output_type": "stream",
     "text": [
      "10\n"
     ]
    }
   ],
   "source": [
    "print(my_var)"
   ]
  },
  {
   "cell_type": "code",
   "execution_count": 4,
   "id": "76c13bd2",
   "metadata": {},
   "outputs": [
    {
     "name": "stdout",
     "output_type": "stream",
     "text": [
      "4465057096\n"
     ]
    }
   ],
   "source": [
    "print(id(my_var))"
   ]
  },
  {
   "cell_type": "code",
   "execution_count": 5,
   "id": "53c7ae32",
   "metadata": {},
   "outputs": [
    {
     "name": "stdout",
     "output_type": "stream",
     "text": [
      "0x10a235d48\n"
     ]
    }
   ],
   "source": [
    "print(hex(id(my_var)))"
   ]
  },
  {
   "cell_type": "code",
   "execution_count": 6,
   "id": "48e4fd21",
   "metadata": {},
   "outputs": [],
   "source": [
    "g = 'hello'"
   ]
  },
  {
   "cell_type": "code",
   "execution_count": 7,
   "id": "e17a0a5e",
   "metadata": {},
   "outputs": [
    {
     "name": "stdout",
     "output_type": "stream",
     "text": [
      "hello\n"
     ]
    }
   ],
   "source": [
    "print(g)"
   ]
  },
  {
   "cell_type": "code",
   "execution_count": 8,
   "id": "2a3e02d0",
   "metadata": {},
   "outputs": [
    {
     "name": "stdout",
     "output_type": "stream",
     "text": [
      "4508698864\n"
     ]
    }
   ],
   "source": [
    "print(id(g))"
   ]
  },
  {
   "cell_type": "code",
   "execution_count": 9,
   "id": "ae68e413",
   "metadata": {},
   "outputs": [
    {
     "name": "stdout",
     "output_type": "stream",
     "text": [
      "0x10cbd48f0\n"
     ]
    }
   ],
   "source": [
    "print(hex(id(g)))"
   ]
  },
  {
   "cell_type": "markdown",
   "id": "72b15a35",
   "metadata": {},
   "source": [
    "# Reference counting"
   ]
  },
  {
   "cell_type": "raw",
   "id": "fb64c326",
   "metadata": {},
   "source": [
    "When the object is not available any longer python memory manager throws it away"
   ]
  },
  {
   "cell_type": "code",
   "execution_count": 17,
   "id": "b0fecfd7",
   "metadata": {},
   "outputs": [],
   "source": [
    "import sys\n",
    "a = [1,2,3]"
   ]
  },
  {
   "cell_type": "code",
   "execution_count": 18,
   "id": "7771e91c",
   "metadata": {},
   "outputs": [
    {
     "data": {
      "text/plain": [
       "4513545984"
      ]
     },
     "execution_count": 18,
     "metadata": {},
     "output_type": "execute_result"
    }
   ],
   "source": [
    "id(a)"
   ]
  },
  {
   "cell_type": "code",
   "execution_count": 19,
   "id": "eee8f55e",
   "metadata": {},
   "outputs": [
    {
     "data": {
      "text/plain": [
       "2"
      ]
     },
     "execution_count": 19,
     "metadata": {},
     "output_type": "execute_result"
    }
   ],
   "source": [
    "sys.getrefcount(a) \n",
    "#it creates another reference in memory for same variable i.e. increases count of reference. \n",
    "# Additional object pointing to memory"
   ]
  },
  {
   "cell_type": "code",
   "execution_count": 20,
   "id": "b5f27225",
   "metadata": {},
   "outputs": [],
   "source": [
    "# to avoid creating additional reference for same variable\n",
    "import ctypes\n",
    "\n",
    "def ref_count(address):\n",
    "     return ctypes.c_long.from_address(address).value"
   ]
  },
  {
   "cell_type": "code",
   "execution_count": 21,
   "id": "af28d625",
   "metadata": {},
   "outputs": [
    {
     "data": {
      "text/plain": [
       "1"
      ]
     },
     "execution_count": 21,
     "metadata": {},
     "output_type": "execute_result"
    }
   ],
   "source": [
    "ref_count(id(a))\n",
    "# id of a is evaluated first. After id finishes running and it released the pointer \n",
    "# therefore it just has ref count of 1"
   ]
  },
  {
   "cell_type": "code",
   "execution_count": 22,
   "id": "151726fa",
   "metadata": {},
   "outputs": [],
   "source": [
    "b = a"
   ]
  },
  {
   "cell_type": "code",
   "execution_count": 23,
   "id": "2d4ce422",
   "metadata": {},
   "outputs": [
    {
     "data": {
      "text/plain": [
       "4513545984"
      ]
     },
     "execution_count": 23,
     "metadata": {},
     "output_type": "execute_result"
    }
   ],
   "source": [
    "id(b) # pointing to same location as a "
   ]
  },
  {
   "cell_type": "code",
   "execution_count": 24,
   "id": "9d039b84",
   "metadata": {},
   "outputs": [
    {
     "data": {
      "text/plain": [
       "2"
      ]
     },
     "execution_count": 24,
     "metadata": {},
     "output_type": "execute_result"
    }
   ],
   "source": [
    "ref_count(id(a)) # 2 because both a and b points to same memory"
   ]
  },
  {
   "cell_type": "code",
   "execution_count": 25,
   "id": "8b5b87b7",
   "metadata": {},
   "outputs": [],
   "source": [
    " c= a"
   ]
  },
  {
   "cell_type": "code",
   "execution_count": 26,
   "id": "637b4ebd",
   "metadata": {},
   "outputs": [
    {
     "data": {
      "text/plain": [
       "3"
      ]
     },
     "execution_count": 26,
     "metadata": {},
     "output_type": "execute_result"
    }
   ],
   "source": [
    "ref_count(id(a))"
   ]
  },
  {
   "cell_type": "code",
   "execution_count": 27,
   "id": "c6f9829c",
   "metadata": {},
   "outputs": [],
   "source": [
    "c = 10"
   ]
  },
  {
   "cell_type": "code",
   "execution_count": 28,
   "id": "5fa12535",
   "metadata": {},
   "outputs": [
    {
     "data": {
      "text/plain": [
       "2"
      ]
     },
     "execution_count": 28,
     "metadata": {},
     "output_type": "execute_result"
    }
   ],
   "source": [
    "ref_count(id(a)) # it changes to 2 again as c is now referring new memory address and not to memory as a "
   ]
  },
  {
   "cell_type": "code",
   "execution_count": 29,
   "id": "dade8d3f",
   "metadata": {},
   "outputs": [],
   "source": [
    "b = None"
   ]
  },
  {
   "cell_type": "code",
   "execution_count": 30,
   "id": "d6f11eca",
   "metadata": {},
   "outputs": [
    {
     "data": {
      "text/plain": [
       "1"
      ]
     },
     "execution_count": 30,
     "metadata": {},
     "output_type": "execute_result"
    }
   ],
   "source": [
    "ref_count(id(a))"
   ]
  },
  {
   "cell_type": "code",
   "execution_count": 36,
   "id": "7abe5e80",
   "metadata": {},
   "outputs": [
    {
     "data": {
      "text/plain": [
       "1"
      ]
     },
     "execution_count": 36,
     "metadata": {},
     "output_type": "execute_result"
    }
   ],
   "source": [
    "a_id = id(a)\n",
    "a = None\n",
    "ref_count(id(a_id)) # still has reference even when a is pointing to None"
   ]
  },
  {
   "cell_type": "markdown",
   "id": "4642da85",
   "metadata": {},
   "source": [
    "# Garbage Collection"
   ]
  },
  {
   "cell_type": "raw",
   "id": "a09817a1",
   "metadata": {},
   "source": [
    "Circular references - \n",
    "my_var points to object A--> instance var var_1 that points to Object B. Object A reference count goes down to 0.\n",
    "\n",
    "object A(var_1)--->object B(var_2)\n",
    "               <---\n",
    "               \n",
    "In circular reference, references can't be cleaned and garbage collector can be used to clean it up\n",
    "\n",
    "gc module is used for it\n",
    "\n",
    "By default garbage collector is turned on\n",
    "\n",
    "garbage collector runs periodically\n",
    "\n",
    "Can also call it manually and do own cleanup setup\n",
    "\n",
    "CAVIATE - doesn't always work for python<3.4\n",
    "        If even one of the object in circular ref has destructor then order in which it destroys objects matters.    Garbage collector doesn't know how to destroy object and object might not get cleaned up"
   ]
  },
  {
   "cell_type": "code",
   "execution_count": 41,
   "id": "0f2c76c1",
   "metadata": {},
   "outputs": [],
   "source": [
    "import ctypes\n",
    "import gc"
   ]
  },
  {
   "cell_type": "code",
   "execution_count": 42,
   "id": "e067c3ac",
   "metadata": {},
   "outputs": [],
   "source": [
    "def ref_count(address):\n",
    "     return ctypes.c_long.from_address(address).value"
   ]
  },
  {
   "cell_type": "code",
   "execution_count": 43,
   "id": "a832f20e",
   "metadata": {},
   "outputs": [],
   "source": [
    "def object_by_id(object_id):\n",
    "    for obj in gc.get_objects():\n",
    "        if  id(obj)==object_id:\n",
    "            return \"object exists\"\n",
    "    return \"Not found\"    "
   ]
  },
  {
   "cell_type": "code",
   "execution_count": 49,
   "id": "0565bfb5",
   "metadata": {},
   "outputs": [],
   "source": [
    "class A:\n",
    "    def __init__(self):\n",
    "        self.b = B(self)\n",
    "        print('A:self:{0}, b:{1}'.format(hex(id(self)),hex(id(self.b))))"
   ]
  },
  {
   "cell_type": "code",
   "execution_count": 50,
   "id": "db2557e8",
   "metadata": {},
   "outputs": [],
   "source": [
    "class B:\n",
    "    def __init__(self,a):\n",
    "        self.a = a\n",
    "        print('B:self:{0}, a:{1}'.format(hex(id(self)),hex(id(self.a))))\n",
    "        \n",
    "        "
   ]
  },
  {
   "cell_type": "code",
   "execution_count": 51,
   "id": "9ac04732",
   "metadata": {},
   "outputs": [],
   "source": [
    "gc.disable()"
   ]
  },
  {
   "cell_type": "code",
   "execution_count": 52,
   "id": "2a950963",
   "metadata": {},
   "outputs": [
    {
     "name": "stdout",
     "output_type": "stream",
     "text": [
      "B:self:0x10e001b10, a:0x10d32fd90\n",
      "A:self:0x10d32fd90, b:0x10e001b10\n"
     ]
    }
   ],
   "source": [
    "my_var = A()"
   ]
  },
  {
   "cell_type": "code",
   "execution_count": 53,
   "id": "305c320f",
   "metadata": {},
   "outputs": [
    {
     "data": {
      "text/plain": [
       "'0x10d32fd90'"
      ]
     },
     "execution_count": 53,
     "metadata": {},
     "output_type": "execute_result"
    }
   ],
   "source": [
    "hex(id(my_var))"
   ]
  },
  {
   "cell_type": "code",
   "execution_count": 54,
   "id": "6ca7e5bc",
   "metadata": {},
   "outputs": [
    {
     "name": "stdout",
     "output_type": "stream",
     "text": [
      "0x10e001b10\n"
     ]
    }
   ],
   "source": [
    "print(hex(id(my_var.b)))"
   ]
  },
  {
   "cell_type": "code",
   "execution_count": 55,
   "id": "ef8b9aca",
   "metadata": {},
   "outputs": [
    {
     "name": "stdout",
     "output_type": "stream",
     "text": [
      "0x10d32fd90\n"
     ]
    }
   ],
   "source": [
    "print(hex(id(my_var.b.a)))"
   ]
  },
  {
   "cell_type": "code",
   "execution_count": 64,
   "id": "78778774",
   "metadata": {},
   "outputs": [
    {
     "name": "stdout",
     "output_type": "stream",
     "text": [
      "4516412816 4529855248\n"
     ]
    }
   ],
   "source": [
    "a_id = id(my_var)\n",
    "b_id = id(my_var.b)\n",
    "print(a_id,b_id)"
   ]
  },
  {
   "cell_type": "raw",
   "id": "3309922a",
   "metadata": {},
   "source": [
    "print(ref_count(a_id))"
   ]
  },
  {
   "cell_type": "code",
   "execution_count": 65,
   "id": "6ab85298",
   "metadata": {},
   "outputs": [
    {
     "data": {
      "text/plain": [
       "'object exists'"
      ]
     },
     "execution_count": 65,
     "metadata": {},
     "output_type": "execute_result"
    }
   ],
   "source": [
    "object_by_id(a_id)"
   ]
  },
  {
   "cell_type": "code",
   "execution_count": 66,
   "id": "ce29408a",
   "metadata": {},
   "outputs": [
    {
     "data": {
      "text/plain": [
       "'object exists'"
      ]
     },
     "execution_count": 66,
     "metadata": {},
     "output_type": "execute_result"
    }
   ],
   "source": [
    "object_by_id(b_id)"
   ]
  },
  {
   "cell_type": "code",
   "execution_count": 67,
   "id": "76f58b49",
   "metadata": {},
   "outputs": [],
   "source": [
    "my_var =None # removing reference to A"
   ]
  },
  {
   "cell_type": "code",
   "execution_count": 68,
   "id": "1260e181",
   "metadata": {},
   "outputs": [
    {
     "data": {
      "text/plain": [
       "'object exists'"
      ]
     },
     "execution_count": 68,
     "metadata": {},
     "output_type": "execute_result"
    }
   ],
   "source": [
    "object_by_id(a_id) #object was destroyed but still exists. Because gc was diabled"
   ]
  },
  {
   "cell_type": "code",
   "execution_count": 69,
   "id": "8e3b86a0",
   "metadata": {},
   "outputs": [
    {
     "data": {
      "text/plain": [
       "'object exists'"
      ]
     },
     "execution_count": 69,
     "metadata": {},
     "output_type": "execute_result"
    }
   ],
   "source": [
    "object_by_id(b_id) #object was destroyed but still exists. Because gc was diabled"
   ]
  },
  {
   "cell_type": "code",
   "execution_count": 70,
   "id": "5fe11931",
   "metadata": {},
   "outputs": [
    {
     "data": {
      "text/plain": [
       "2752"
      ]
     },
     "execution_count": 70,
     "metadata": {},
     "output_type": "execute_result"
    }
   ],
   "source": [
    "gc.collect() # run gc manually"
   ]
  },
  {
   "cell_type": "code",
   "execution_count": 71,
   "id": "8b782f5f",
   "metadata": {},
   "outputs": [
    {
     "data": {
      "text/plain": [
       "'Not found'"
      ]
     },
     "execution_count": 71,
     "metadata": {},
     "output_type": "execute_result"
    }
   ],
   "source": [
    "object_by_id(a_id) # gc destroyed the reference pointer"
   ]
  },
  {
   "cell_type": "code",
   "execution_count": 72,
   "id": "3ed90f0e",
   "metadata": {},
   "outputs": [
    {
     "data": {
      "text/plain": [
       "'Not found'"
      ]
     },
     "execution_count": 72,
     "metadata": {},
     "output_type": "execute_result"
    }
   ],
   "source": [
    "object_by_id(b_id)"
   ]
  },
  {
   "cell_type": "raw",
   "id": "7eac8c7f",
   "metadata": {},
   "source": [
    "Object was destroyed but references to memory address a_id & b_id might still exist.\n",
    "It is because memory is reclaimed and now used for something else. Therefore memory object reference can be tricky"
   ]
  },
  {
   "cell_type": "markdown",
   "id": "5dbeb616",
   "metadata": {},
   "source": [
    "# Dynamic and static typing"
   ]
  },
  {
   "cell_type": "raw",
   "id": "834517fd",
   "metadata": {},
   "source": [
    "Python is dynamically typed"
   ]
  },
  {
   "cell_type": "code",
   "execution_count": 73,
   "id": "e4970418",
   "metadata": {},
   "outputs": [],
   "source": [
    "my_var = 'hello'# my_var is reference to string object in memory"
   ]
  },
  {
   "cell_type": "code",
   "execution_count": 74,
   "id": "ba7e3c34",
   "metadata": {},
   "outputs": [],
   "source": [
    "my_var = 10 # my_var is reference to int object in memory"
   ]
  },
  {
   "cell_type": "raw",
   "id": "76047f4b",
   "metadata": {},
   "source": [
    "my_var is just reference and not static to any data type i.e. can refer to any data type"
   ]
  },
  {
   "cell_type": "markdown",
   "id": "e9ec52d4",
   "metadata": {},
   "source": [
    "# Variable re-assignment"
   ]
  },
  {
   "cell_type": "code",
   "execution_count": 75,
   "id": "d12fc9d1",
   "metadata": {},
   "outputs": [],
   "source": [
    "my_var = my_var+5\n",
    "# python first evalutate RHS\n",
    "# after adding the value it points to new memory address. The value inside the int objects can never be changed"
   ]
  },
  {
   "cell_type": "code",
   "execution_count": 76,
   "id": "32ab19ca",
   "metadata": {},
   "outputs": [],
   "source": [
    " a = 10"
   ]
  },
  {
   "cell_type": "code",
   "execution_count": 77,
   "id": "aba09644",
   "metadata": {},
   "outputs": [
    {
     "data": {
      "text/plain": [
       "'0x10a235d48'"
      ]
     },
     "execution_count": 77,
     "metadata": {},
     "output_type": "execute_result"
    }
   ],
   "source": [
    "hex(id(a))"
   ]
  },
  {
   "cell_type": "code",
   "execution_count": 78,
   "id": "4ea4d5ea",
   "metadata": {},
   "outputs": [
    {
     "data": {
      "text/plain": [
       "int"
      ]
     },
     "execution_count": 78,
     "metadata": {},
     "output_type": "execute_result"
    }
   ],
   "source": [
    "type(a)"
   ]
  },
  {
   "cell_type": "code",
   "execution_count": 79,
   "id": "bc51ae2b",
   "metadata": {},
   "outputs": [],
   "source": [
    "a = 15"
   ]
  },
  {
   "cell_type": "code",
   "execution_count": 80,
   "id": "5b5beceb",
   "metadata": {},
   "outputs": [
    {
     "data": {
      "text/plain": [
       "'0x10a235de8'"
      ]
     },
     "execution_count": 80,
     "metadata": {},
     "output_type": "execute_result"
    }
   ],
   "source": [
    "hex(id(a)) # memory address of a changed i.e. different object"
   ]
  },
  {
   "cell_type": "code",
   "execution_count": 81,
   "id": "5a922e97",
   "metadata": {},
   "outputs": [],
   "source": [
    "a = a+1"
   ]
  },
  {
   "cell_type": "code",
   "execution_count": 82,
   "id": "9c850b63",
   "metadata": {},
   "outputs": [
    {
     "data": {
      "text/plain": [
       "'0x10a235e08'"
      ]
     },
     "execution_count": 82,
     "metadata": {},
     "output_type": "execute_result"
    }
   ],
   "source": [
    "hex(id(a)) # memory ref changed yet again"
   ]
  },
  {
   "cell_type": "code",
   "execution_count": 83,
   "id": "a316ed78",
   "metadata": {},
   "outputs": [],
   "source": [
    "a = 10\n",
    "b = 10"
   ]
  },
  {
   "cell_type": "code",
   "execution_count": 84,
   "id": "bbb88855",
   "metadata": {},
   "outputs": [
    {
     "data": {
      "text/plain": [
       "'0x10a235d48'"
      ]
     },
     "execution_count": 84,
     "metadata": {},
     "output_type": "execute_result"
    }
   ],
   "source": [
    "hex(id(a)) # a & b points to same object"
   ]
  },
  {
   "cell_type": "code",
   "execution_count": 85,
   "id": "34163750",
   "metadata": {},
   "outputs": [
    {
     "data": {
      "text/plain": [
       "'0x10a235d48'"
      ]
     },
     "execution_count": 85,
     "metadata": {},
     "output_type": "execute_result"
    }
   ],
   "source": [
    "hex(id(b)) # a & b points to same object"
   ]
  },
  {
   "cell_type": "markdown",
   "id": "b82c56d5",
   "metadata": {},
   "source": [
    "# Object mutability and immutability"
   ]
  }
 ],
 "metadata": {
  "kernelspec": {
   "display_name": "Python 3 (ipykernel)",
   "language": "python",
   "name": "python3"
  },
  "language_info": {
   "codemirror_mode": {
    "name": "ipython",
    "version": 3
   },
   "file_extension": ".py",
   "mimetype": "text/x-python",
   "name": "python",
   "nbconvert_exporter": "python",
   "pygments_lexer": "ipython3",
   "version": "3.11.4"
  }
 },
 "nbformat": 4,
 "nbformat_minor": 5
}
