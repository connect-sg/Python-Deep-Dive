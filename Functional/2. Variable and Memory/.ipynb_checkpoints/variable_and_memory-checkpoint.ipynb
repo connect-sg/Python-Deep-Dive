{
 "cells": [
  {
   "cell_type": "markdown",
   "id": "e22f88e3",
   "metadata": {},
   "source": [
    "# Variables and memory references"
   ]
  },
  {
   "cell_type": "raw",
   "id": "7334e469",
   "metadata": {},
   "source": [
    "Python memory manager - storing and retrieving object from heap\n",
    "variable is reference to the object at the address\n",
    "\n",
    "id() - to find memory address referred by a variable\n",
    "hex() - to convert to hexadecimal"
   ]
  },
  {
   "cell_type": "code",
   "execution_count": 2,
   "id": "54247f54",
   "metadata": {},
   "outputs": [],
   "source": [
    "my_var = 10 "
   ]
  },
  {
   "cell_type": "code",
   "execution_count": 3,
   "id": "a539f667",
   "metadata": {},
   "outputs": [
    {
     "name": "stdout",
     "output_type": "stream",
     "text": [
      "10\n"
     ]
    }
   ],
   "source": [
    "print(my_var)"
   ]
  },
  {
   "cell_type": "code",
   "execution_count": 4,
   "id": "76c13bd2",
   "metadata": {},
   "outputs": [
    {
     "name": "stdout",
     "output_type": "stream",
     "text": [
      "4465057096\n"
     ]
    }
   ],
   "source": [
    "print(id(my_var))"
   ]
  },
  {
   "cell_type": "code",
   "execution_count": 5,
   "id": "53c7ae32",
   "metadata": {},
   "outputs": [
    {
     "name": "stdout",
     "output_type": "stream",
     "text": [
      "0x10a235d48\n"
     ]
    }
   ],
   "source": [
    "print(hex(id(my_var)))"
   ]
  },
  {
   "cell_type": "code",
   "execution_count": 6,
   "id": "48e4fd21",
   "metadata": {},
   "outputs": [],
   "source": [
    "g = 'hello'"
   ]
  },
  {
   "cell_type": "code",
   "execution_count": 7,
   "id": "e17a0a5e",
   "metadata": {},
   "outputs": [
    {
     "name": "stdout",
     "output_type": "stream",
     "text": [
      "hello\n"
     ]
    }
   ],
   "source": [
    "print(g)"
   ]
  },
  {
   "cell_type": "code",
   "execution_count": 8,
   "id": "2a3e02d0",
   "metadata": {},
   "outputs": [
    {
     "name": "stdout",
     "output_type": "stream",
     "text": [
      "4508698864\n"
     ]
    }
   ],
   "source": [
    "print(id(g))"
   ]
  },
  {
   "cell_type": "code",
   "execution_count": 9,
   "id": "ae68e413",
   "metadata": {},
   "outputs": [
    {
     "name": "stdout",
     "output_type": "stream",
     "text": [
      "0x10cbd48f0\n"
     ]
    }
   ],
   "source": [
    "print(hex(id(g)))"
   ]
  },
  {
   "cell_type": "markdown",
   "id": "72b15a35",
   "metadata": {},
   "source": [
    "# Reference counting"
   ]
  },
  {
   "cell_type": "raw",
   "id": "fb64c326",
   "metadata": {},
   "source": [
    "When the object is not available any longer python memory manager throws it away"
   ]
  },
  {
   "cell_type": "code",
   "execution_count": 17,
   "id": "b0fecfd7",
   "metadata": {},
   "outputs": [],
   "source": [
    "import sys\n",
    "a = [1,2,3]"
   ]
  },
  {
   "cell_type": "code",
   "execution_count": 18,
   "id": "7771e91c",
   "metadata": {},
   "outputs": [
    {
     "data": {
      "text/plain": [
       "4513545984"
      ]
     },
     "execution_count": 18,
     "metadata": {},
     "output_type": "execute_result"
    }
   ],
   "source": [
    "id(a)"
   ]
  },
  {
   "cell_type": "code",
   "execution_count": 19,
   "id": "eee8f55e",
   "metadata": {},
   "outputs": [
    {
     "data": {
      "text/plain": [
       "2"
      ]
     },
     "execution_count": 19,
     "metadata": {},
     "output_type": "execute_result"
    }
   ],
   "source": [
    "sys.getrefcount(a) \n",
    "#it creates another reference in memory for same variable i.e. increases count of reference. \n",
    "# Additional object pointing to memory"
   ]
  },
  {
   "cell_type": "code",
   "execution_count": 20,
   "id": "b5f27225",
   "metadata": {},
   "outputs": [],
   "source": [
    "# to avoid creating additional reference for same variable\n",
    "import ctypes\n",
    "\n",
    "def ref_count(address):\n",
    "     return ctypes.c_long.from_address(address).value"
   ]
  },
  {
   "cell_type": "code",
   "execution_count": 21,
   "id": "af28d625",
   "metadata": {},
   "outputs": [
    {
     "data": {
      "text/plain": [
       "1"
      ]
     },
     "execution_count": 21,
     "metadata": {},
     "output_type": "execute_result"
    }
   ],
   "source": [
    "ref_count(id(a))\n",
    "# id of a is evaluated first. After id finishes running and it released the pointer \n",
    "# therefore it just has ref count of 1"
   ]
  },
  {
   "cell_type": "code",
   "execution_count": 22,
   "id": "151726fa",
   "metadata": {},
   "outputs": [],
   "source": [
    "b = a"
   ]
  },
  {
   "cell_type": "code",
   "execution_count": 23,
   "id": "2d4ce422",
   "metadata": {},
   "outputs": [
    {
     "data": {
      "text/plain": [
       "4513545984"
      ]
     },
     "execution_count": 23,
     "metadata": {},
     "output_type": "execute_result"
    }
   ],
   "source": [
    "id(b) # pointing to same location as a "
   ]
  },
  {
   "cell_type": "code",
   "execution_count": 24,
   "id": "9d039b84",
   "metadata": {},
   "outputs": [
    {
     "data": {
      "text/plain": [
       "2"
      ]
     },
     "execution_count": 24,
     "metadata": {},
     "output_type": "execute_result"
    }
   ],
   "source": [
    "ref_count(id(a)) # 2 because both a and b points to same memory"
   ]
  },
  {
   "cell_type": "code",
   "execution_count": 25,
   "id": "8b5b87b7",
   "metadata": {},
   "outputs": [],
   "source": [
    " c= a"
   ]
  },
  {
   "cell_type": "code",
   "execution_count": 26,
   "id": "637b4ebd",
   "metadata": {},
   "outputs": [
    {
     "data": {
      "text/plain": [
       "3"
      ]
     },
     "execution_count": 26,
     "metadata": {},
     "output_type": "execute_result"
    }
   ],
   "source": [
    "ref_count(id(a))"
   ]
  },
  {
   "cell_type": "code",
   "execution_count": 27,
   "id": "c6f9829c",
   "metadata": {},
   "outputs": [],
   "source": [
    "c = 10"
   ]
  },
  {
   "cell_type": "code",
   "execution_count": 28,
   "id": "5fa12535",
   "metadata": {},
   "outputs": [
    {
     "data": {
      "text/plain": [
       "2"
      ]
     },
     "execution_count": 28,
     "metadata": {},
     "output_type": "execute_result"
    }
   ],
   "source": [
    "ref_count(id(a)) # it changes to 2 again as c is now referring new memory address and not to memory as a "
   ]
  },
  {
   "cell_type": "code",
   "execution_count": 29,
   "id": "dade8d3f",
   "metadata": {},
   "outputs": [],
   "source": [
    "b = None"
   ]
  },
  {
   "cell_type": "code",
   "execution_count": 30,
   "id": "d6f11eca",
   "metadata": {},
   "outputs": [
    {
     "data": {
      "text/plain": [
       "1"
      ]
     },
     "execution_count": 30,
     "metadata": {},
     "output_type": "execute_result"
    }
   ],
   "source": [
    "ref_count(id(a))"
   ]
  },
  {
   "cell_type": "code",
   "execution_count": 36,
   "id": "7abe5e80",
   "metadata": {},
   "outputs": [
    {
     "data": {
      "text/plain": [
       "1"
      ]
     },
     "execution_count": 36,
     "metadata": {},
     "output_type": "execute_result"
    }
   ],
   "source": [
    "a_id = id(a)\n",
    "a = None\n",
    "ref_count(id(a_id)) # still has reference even when a is pointing to None"
   ]
  },
  {
   "cell_type": "markdown",
   "id": "4642da85",
   "metadata": {},
   "source": [
    "# Garbage Collection"
   ]
  },
  {
   "cell_type": "raw",
   "id": "a09817a1",
   "metadata": {},
   "source": [
    "Circular references - \n",
    "my_var points to object A--> instance var var_1 that points to Object B. Object A reference count goes down to 0.\n",
    "\n",
    "object A(var_1)--->object B(var_2)\n",
    "               <---\n",
    "               \n",
    "In circular reference, references can't be cleaned and garbage collector can be used to clean it up\n",
    "\n",
    "gc module is used for it\n",
    "\n",
    "By default garbage collector is turned on\n",
    "\n",
    "garbage collector runs periodically\n",
    "\n",
    "Can also call it manually and do own cleanup setup\n",
    "\n",
    "CAVIATE - doesn't always work for python<3.4\n",
    "        If even one of the object in circular ref has destructor then order in which it destroys objects matters.    Garbage collector doesn't know how to destroy object and object might not get cleaned up"
   ]
  },
  {
   "cell_type": "code",
   "execution_count": 41,
   "id": "0f2c76c1",
   "metadata": {},
   "outputs": [],
   "source": [
    "import ctypes\n",
    "import gc"
   ]
  },
  {
   "cell_type": "code",
   "execution_count": 42,
   "id": "e067c3ac",
   "metadata": {},
   "outputs": [],
   "source": [
    "def ref_count(address):\n",
    "     return ctypes.c_long.from_address(address).value"
   ]
  },
  {
   "cell_type": "code",
   "execution_count": 43,
   "id": "a832f20e",
   "metadata": {},
   "outputs": [],
   "source": [
    "def object_by_id(object_id):\n",
    "    for obj in gc.get_objects():\n",
    "        if  id(obj)==object_id:\n",
    "            return \"object exists\"\n",
    "    return \"Not found\"    "
   ]
  },
  {
   "cell_type": "code",
   "execution_count": 49,
   "id": "0565bfb5",
   "metadata": {},
   "outputs": [],
   "source": [
    "class A:\n",
    "    def __init__(self):\n",
    "        self.b = B(self)\n",
    "        print('A:self:{0}, b:{1}'.format(hex(id(self)),hex(id(self.b))))"
   ]
  },
  {
   "cell_type": "code",
   "execution_count": 50,
   "id": "db2557e8",
   "metadata": {},
   "outputs": [],
   "source": [
    "class B:\n",
    "    def __init__(self,a):\n",
    "        self.a = a\n",
    "        print('B:self:{0}, a:{1}'.format(hex(id(self)),hex(id(self.a))))\n",
    "        \n",
    "        "
   ]
  },
  {
   "cell_type": "code",
   "execution_count": 51,
   "id": "9ac04732",
   "metadata": {},
   "outputs": [],
   "source": [
    "gc.disable()"
   ]
  },
  {
   "cell_type": "code",
   "execution_count": 52,
   "id": "2a950963",
   "metadata": {},
   "outputs": [
    {
     "name": "stdout",
     "output_type": "stream",
     "text": [
      "B:self:0x10e001b10, a:0x10d32fd90\n",
      "A:self:0x10d32fd90, b:0x10e001b10\n"
     ]
    }
   ],
   "source": [
    "my_var = A()"
   ]
  },
  {
   "cell_type": "code",
   "execution_count": 53,
   "id": "305c320f",
   "metadata": {},
   "outputs": [
    {
     "data": {
      "text/plain": [
       "'0x10d32fd90'"
      ]
     },
     "execution_count": 53,
     "metadata": {},
     "output_type": "execute_result"
    }
   ],
   "source": [
    "hex(id(my_var))"
   ]
  },
  {
   "cell_type": "code",
   "execution_count": 54,
   "id": "6ca7e5bc",
   "metadata": {},
   "outputs": [
    {
     "name": "stdout",
     "output_type": "stream",
     "text": [
      "0x10e001b10\n"
     ]
    }
   ],
   "source": [
    "print(hex(id(my_var.b)))"
   ]
  },
  {
   "cell_type": "code",
   "execution_count": 55,
   "id": "ef8b9aca",
   "metadata": {},
   "outputs": [
    {
     "name": "stdout",
     "output_type": "stream",
     "text": [
      "0x10d32fd90\n"
     ]
    }
   ],
   "source": [
    "print(hex(id(my_var.b.a)))"
   ]
  },
  {
   "cell_type": "code",
   "execution_count": 64,
   "id": "78778774",
   "metadata": {},
   "outputs": [
    {
     "name": "stdout",
     "output_type": "stream",
     "text": [
      "4516412816 4529855248\n"
     ]
    }
   ],
   "source": [
    "a_id = id(my_var)\n",
    "b_id = id(my_var.b)\n",
    "print(a_id,b_id)"
   ]
  },
  {
   "cell_type": "raw",
   "id": "3309922a",
   "metadata": {},
   "source": [
    "print(ref_count(a_id))"
   ]
  },
  {
   "cell_type": "code",
   "execution_count": 65,
   "id": "6ab85298",
   "metadata": {},
   "outputs": [
    {
     "data": {
      "text/plain": [
       "'object exists'"
      ]
     },
     "execution_count": 65,
     "metadata": {},
     "output_type": "execute_result"
    }
   ],
   "source": [
    "object_by_id(a_id)"
   ]
  },
  {
   "cell_type": "code",
   "execution_count": 66,
   "id": "ce29408a",
   "metadata": {},
   "outputs": [
    {
     "data": {
      "text/plain": [
       "'object exists'"
      ]
     },
     "execution_count": 66,
     "metadata": {},
     "output_type": "execute_result"
    }
   ],
   "source": [
    "object_by_id(b_id)"
   ]
  },
  {
   "cell_type": "code",
   "execution_count": 67,
   "id": "76f58b49",
   "metadata": {},
   "outputs": [],
   "source": [
    "my_var =None # removing reference to A"
   ]
  },
  {
   "cell_type": "code",
   "execution_count": 68,
   "id": "1260e181",
   "metadata": {},
   "outputs": [
    {
     "data": {
      "text/plain": [
       "'object exists'"
      ]
     },
     "execution_count": 68,
     "metadata": {},
     "output_type": "execute_result"
    }
   ],
   "source": [
    "object_by_id(a_id) #object was destroyed but still exists. Because gc was diabled"
   ]
  },
  {
   "cell_type": "code",
   "execution_count": 69,
   "id": "8e3b86a0",
   "metadata": {},
   "outputs": [
    {
     "data": {
      "text/plain": [
       "'object exists'"
      ]
     },
     "execution_count": 69,
     "metadata": {},
     "output_type": "execute_result"
    }
   ],
   "source": [
    "object_by_id(b_id) #object was destroyed but still exists. Because gc was diabled"
   ]
  },
  {
   "cell_type": "code",
   "execution_count": 70,
   "id": "5fe11931",
   "metadata": {},
   "outputs": [
    {
     "data": {
      "text/plain": [
       "2752"
      ]
     },
     "execution_count": 70,
     "metadata": {},
     "output_type": "execute_result"
    }
   ],
   "source": [
    "gc.collect() # run gc manually"
   ]
  },
  {
   "cell_type": "code",
   "execution_count": 71,
   "id": "8b782f5f",
   "metadata": {},
   "outputs": [
    {
     "data": {
      "text/plain": [
       "'Not found'"
      ]
     },
     "execution_count": 71,
     "metadata": {},
     "output_type": "execute_result"
    }
   ],
   "source": [
    "object_by_id(a_id) # gc destroyed the reference pointer"
   ]
  },
  {
   "cell_type": "code",
   "execution_count": 72,
   "id": "3ed90f0e",
   "metadata": {},
   "outputs": [
    {
     "data": {
      "text/plain": [
       "'Not found'"
      ]
     },
     "execution_count": 72,
     "metadata": {},
     "output_type": "execute_result"
    }
   ],
   "source": [
    "object_by_id(b_id)"
   ]
  },
  {
   "cell_type": "raw",
   "id": "7eac8c7f",
   "metadata": {},
   "source": [
    "Object was destroyed but references to memory address a_id & b_id might still exist.\n",
    "It is because memory is reclaimed and now used for something else. Therefore memory object reference can be tricky"
   ]
  },
  {
   "cell_type": "markdown",
   "id": "5dbeb616",
   "metadata": {},
   "source": [
    "# Dynamic and static typing"
   ]
  },
  {
   "cell_type": "raw",
   "id": "834517fd",
   "metadata": {},
   "source": [
    "Python is dynamically typed"
   ]
  },
  {
   "cell_type": "code",
   "execution_count": 73,
   "id": "e4970418",
   "metadata": {},
   "outputs": [],
   "source": [
    "my_var = 'hello'# my_var is reference to string object in memory"
   ]
  },
  {
   "cell_type": "code",
   "execution_count": 74,
   "id": "ba7e3c34",
   "metadata": {},
   "outputs": [],
   "source": [
    "my_var = 10 # my_var is reference to int object in memory"
   ]
  },
  {
   "cell_type": "raw",
   "id": "76047f4b",
   "metadata": {},
   "source": [
    "my_var is just reference and not static to any data type i.e. can refer to any data type"
   ]
  },
  {
   "cell_type": "markdown",
   "id": "e9ec52d4",
   "metadata": {},
   "source": [
    "# Variable re-assignment"
   ]
  },
  {
   "cell_type": "code",
   "execution_count": 75,
   "id": "d12fc9d1",
   "metadata": {},
   "outputs": [],
   "source": [
    "my_var = my_var+5\n",
    "# python first evalutate RHS\n",
    "# after adding the value it points to new memory address. The value inside the int objects can never be changed"
   ]
  },
  {
   "cell_type": "code",
   "execution_count": 76,
   "id": "32ab19ca",
   "metadata": {},
   "outputs": [],
   "source": [
    " a = 10"
   ]
  },
  {
   "cell_type": "code",
   "execution_count": 77,
   "id": "aba09644",
   "metadata": {},
   "outputs": [
    {
     "data": {
      "text/plain": [
       "'0x10a235d48'"
      ]
     },
     "execution_count": 77,
     "metadata": {},
     "output_type": "execute_result"
    }
   ],
   "source": [
    "hex(id(a))"
   ]
  },
  {
   "cell_type": "code",
   "execution_count": 78,
   "id": "4ea4d5ea",
   "metadata": {},
   "outputs": [
    {
     "data": {
      "text/plain": [
       "int"
      ]
     },
     "execution_count": 78,
     "metadata": {},
     "output_type": "execute_result"
    }
   ],
   "source": [
    "type(a)"
   ]
  },
  {
   "cell_type": "code",
   "execution_count": 79,
   "id": "bc51ae2b",
   "metadata": {},
   "outputs": [],
   "source": [
    "a = 15"
   ]
  },
  {
   "cell_type": "code",
   "execution_count": 80,
   "id": "5b5beceb",
   "metadata": {},
   "outputs": [
    {
     "data": {
      "text/plain": [
       "'0x10a235de8'"
      ]
     },
     "execution_count": 80,
     "metadata": {},
     "output_type": "execute_result"
    }
   ],
   "source": [
    "hex(id(a)) # memory address of a changed i.e. different object"
   ]
  },
  {
   "cell_type": "code",
   "execution_count": 81,
   "id": "5a922e97",
   "metadata": {},
   "outputs": [],
   "source": [
    "a = a+1"
   ]
  },
  {
   "cell_type": "code",
   "execution_count": 82,
   "id": "9c850b63",
   "metadata": {},
   "outputs": [
    {
     "data": {
      "text/plain": [
       "'0x10a235e08'"
      ]
     },
     "execution_count": 82,
     "metadata": {},
     "output_type": "execute_result"
    }
   ],
   "source": [
    "hex(id(a)) # memory ref changed yet again"
   ]
  },
  {
   "cell_type": "code",
   "execution_count": 83,
   "id": "a316ed78",
   "metadata": {},
   "outputs": [],
   "source": [
    "a = 10\n",
    "b = 10"
   ]
  },
  {
   "cell_type": "code",
   "execution_count": 84,
   "id": "bbb88855",
   "metadata": {},
   "outputs": [
    {
     "data": {
      "text/plain": [
       "'0x10a235d48'"
      ]
     },
     "execution_count": 84,
     "metadata": {},
     "output_type": "execute_result"
    }
   ],
   "source": [
    "hex(id(a)) # a & b points to same object"
   ]
  },
  {
   "cell_type": "code",
   "execution_count": 85,
   "id": "34163750",
   "metadata": {},
   "outputs": [
    {
     "data": {
      "text/plain": [
       "'0x10a235d48'"
      ]
     },
     "execution_count": 85,
     "metadata": {},
     "output_type": "execute_result"
    }
   ],
   "source": [
    "hex(id(b)) # a & b points to same object"
   ]
  },
  {
   "cell_type": "markdown",
   "id": "b82c56d5",
   "metadata": {},
   "source": [
    "# Object mutability and immutability"
   ]
  },
  {
   "cell_type": "raw",
   "id": "54cad6a6",
   "metadata": {},
   "source": [
    "An object whose internal state can be changed are called mutable\n",
    "An object whose internal state can't be changed are called immutable"
   ]
  },
  {
   "cell_type": "code",
   "execution_count": null,
   "id": "15fcf1c9",
   "metadata": {},
   "outputs": [],
   "source": [
    "Immutable - Numbers, strings, Tuples, Frozen sets, User defined classes\n",
    "Mutable - Lists, Sets, Dictionaries, User defined classes\n",
    "\n",
    "Tuple is immutable but if the elements it contains are mutable then elements in tuple can change."
   ]
  },
  {
   "cell_type": "code",
   "execution_count": 86,
   "id": "79fa7059",
   "metadata": {},
   "outputs": [],
   "source": [
    "my_list = [1,2,3]"
   ]
  },
  {
   "cell_type": "code",
   "execution_count": 88,
   "id": "7a96d059",
   "metadata": {},
   "outputs": [
    {
     "data": {
      "text/plain": [
       "list"
      ]
     },
     "execution_count": 88,
     "metadata": {},
     "output_type": "execute_result"
    }
   ],
   "source": [
    "type(my_list)"
   ]
  },
  {
   "cell_type": "code",
   "execution_count": 89,
   "id": "fa2ef163",
   "metadata": {},
   "outputs": [
    {
     "data": {
      "text/plain": [
       "4529686272"
      ]
     },
     "execution_count": 89,
     "metadata": {},
     "output_type": "execute_result"
    }
   ],
   "source": [
    "id(my_list)"
   ]
  },
  {
   "cell_type": "code",
   "execution_count": 91,
   "id": "76d29c9f",
   "metadata": {},
   "outputs": [],
   "source": [
    "my_list.append(4)"
   ]
  },
  {
   "cell_type": "code",
   "execution_count": 92,
   "id": "4b064fcb",
   "metadata": {},
   "outputs": [
    {
     "data": {
      "text/plain": [
       "4529686272"
      ]
     },
     "execution_count": 92,
     "metadata": {},
     "output_type": "execute_result"
    }
   ],
   "source": [
    "id(my_list) # same address after modification"
   ]
  },
  {
   "cell_type": "code",
   "execution_count": 93,
   "id": "9613e06d",
   "metadata": {},
   "outputs": [],
   "source": [
    "my_list_1 = [1,2,3]"
   ]
  },
  {
   "cell_type": "code",
   "execution_count": 94,
   "id": "40b859a9",
   "metadata": {},
   "outputs": [
    {
     "data": {
      "text/plain": [
       "4529585536"
      ]
     },
     "execution_count": 94,
     "metadata": {},
     "output_type": "execute_result"
    }
   ],
   "source": [
    "id(my_list_1)"
   ]
  },
  {
   "cell_type": "code",
   "execution_count": 95,
   "id": "e0e7e816",
   "metadata": {},
   "outputs": [],
   "source": [
    "my_list_1 = my_list_1+[4]"
   ]
  },
  {
   "cell_type": "code",
   "execution_count": 96,
   "id": "33e1455a",
   "metadata": {},
   "outputs": [
    {
     "data": {
      "text/plain": [
       "4529541888"
      ]
     },
     "execution_count": 96,
     "metadata": {},
     "output_type": "execute_result"
    }
   ],
   "source": [
    "id(my_list_1) # as an element was added to the list instead of append the list address changed"
   ]
  },
  {
   "cell_type": "code",
   "execution_count": 97,
   "id": "fefe9387",
   "metadata": {},
   "outputs": [],
   "source": [
    "t = (1,2,3)"
   ]
  },
  {
   "cell_type": "code",
   "execution_count": 99,
   "id": "1345d6db",
   "metadata": {},
   "outputs": [
    {
     "data": {
      "text/plain": [
       "4529253824"
      ]
     },
     "execution_count": 99,
     "metadata": {},
     "output_type": "execute_result"
    }
   ],
   "source": [
    "id(t)"
   ]
  },
  {
   "cell_type": "code",
   "execution_count": 101,
   "id": "d9c2d8a7",
   "metadata": {},
   "outputs": [
    {
     "data": {
      "text/plain": [
       "1"
      ]
     },
     "execution_count": 101,
     "metadata": {},
     "output_type": "execute_result"
    }
   ],
   "source": [
    "t[0]"
   ]
  },
  {
   "cell_type": "code",
   "execution_count": 102,
   "id": "58e59617",
   "metadata": {},
   "outputs": [
    {
     "data": {
      "text/plain": [
       "4465056808"
      ]
     },
     "execution_count": 102,
     "metadata": {},
     "output_type": "execute_result"
    }
   ],
   "source": [
    "id(t[0])"
   ]
  },
  {
   "cell_type": "code",
   "execution_count": 103,
   "id": "f7d16681",
   "metadata": {},
   "outputs": [
    {
     "data": {
      "text/plain": [
       "4465056840"
      ]
     },
     "execution_count": 103,
     "metadata": {},
     "output_type": "execute_result"
    }
   ],
   "source": [
    "id(t[1]) # address of each element of tuple is different"
   ]
  },
  {
   "cell_type": "code",
   "execution_count": 104,
   "id": "bb707e57",
   "metadata": {},
   "outputs": [],
   "source": [
    "t=([1,2],[3,4])"
   ]
  },
  {
   "cell_type": "code",
   "execution_count": 105,
   "id": "3a015bf6",
   "metadata": {},
   "outputs": [
    {
     "data": {
      "text/plain": [
       "[1, 2]"
      ]
     },
     "execution_count": 105,
     "metadata": {},
     "output_type": "execute_result"
    }
   ],
   "source": [
    "t[0]"
   ]
  },
  {
   "cell_type": "code",
   "execution_count": 106,
   "id": "47317369",
   "metadata": {},
   "outputs": [],
   "source": [
    "t[0].append(3)"
   ]
  },
  {
   "cell_type": "code",
   "execution_count": 107,
   "id": "fc3a61b3",
   "metadata": {},
   "outputs": [
    {
     "data": {
      "text/plain": [
       "([1, 2, 3], [3, 4])"
      ]
     },
     "execution_count": 107,
     "metadata": {},
     "output_type": "execute_result"
    }
   ],
   "source": [
    "t # tuples are immutable but elements can change"
   ]
  },
  {
   "cell_type": "markdown",
   "id": "2ff19f88",
   "metadata": {},
   "source": [
    "# Function Arguments and Mutability"
   ]
  },
  {
   "cell_type": "raw",
   "id": "9ac8aa40",
   "metadata": {},
   "source": [
    "Only way to change value of immutable is to change the address of reference.\n",
    "\n",
    "Scope: \n",
    "\n",
    "    Scope of module\n",
    "    Scope of process\n",
    "    \n",
    "    "
   ]
  },
  {
   "cell_type": "code",
   "execution_count": 108,
   "id": "ec0cfeed",
   "metadata": {},
   "outputs": [],
   "source": [
    "def process(s): # mutable object\n",
    "    print('Initial memory address = {0}'.format(id(s)))\n",
    "    s = s+'world'\n",
    "    print('final memory address = {0}'.format(id(s))) "
   ]
  },
  {
   "cell_type": "code",
   "execution_count": 109,
   "id": "f1cf78ae",
   "metadata": {},
   "outputs": [
    {
     "name": "stdout",
     "output_type": "stream",
     "text": [
      "my_var memory address 4529221808\n"
     ]
    }
   ],
   "source": [
    "my_var = 'Hello'\n",
    "print('my_var memory address {0}'.format(id(my_var)))"
   ]
  },
  {
   "cell_type": "code",
   "execution_count": 110,
   "id": "d8385583",
   "metadata": {},
   "outputs": [
    {
     "name": "stdout",
     "output_type": "stream",
     "text": [
      "Initial memory address = 4529221808\n",
      "final memory address = 4529231216\n"
     ]
    }
   ],
   "source": [
    "process(my_var)"
   ]
  },
  {
   "cell_type": "code",
   "execution_count": 111,
   "id": "d0f71a98",
   "metadata": {},
   "outputs": [
    {
     "data": {
      "text/plain": [
       "'Hello'"
      ]
     },
     "execution_count": 111,
     "metadata": {},
     "output_type": "execute_result"
    }
   ],
   "source": [
    "my_var"
   ]
  },
  {
   "cell_type": "code",
   "execution_count": 113,
   "id": "db6577ed",
   "metadata": {},
   "outputs": [],
   "source": [
    "def modify_list(lst):\n",
    "    print('Initial memory address = {0}'.format(id(lst)))\n",
    "    lst.append(100)\n",
    "    print('final memory address = {0}'.format(id(lst))) "
   ]
  },
  {
   "cell_type": "code",
   "execution_count": 114,
   "id": "90ddb014",
   "metadata": {},
   "outputs": [],
   "source": [
    "my_lst = [1,2,3]"
   ]
  },
  {
   "cell_type": "code",
   "execution_count": 116,
   "id": "5e799ea2",
   "metadata": {},
   "outputs": [
    {
     "data": {
      "text/plain": [
       "4529292160"
      ]
     },
     "execution_count": 116,
     "metadata": {},
     "output_type": "execute_result"
    }
   ],
   "source": [
    "id(my_lst)"
   ]
  },
  {
   "cell_type": "code",
   "execution_count": 117,
   "id": "56c888aa",
   "metadata": {},
   "outputs": [
    {
     "name": "stdout",
     "output_type": "stream",
     "text": [
      "Initial memory address = 4529292160\n",
      "final memory address = 4529292160\n"
     ]
    }
   ],
   "source": [
    "modify_list(my_lst) # memory address of mutable object is same i.e. its same object"
   ]
  },
  {
   "cell_type": "code",
   "execution_count": 119,
   "id": "ecfd6652",
   "metadata": {},
   "outputs": [
    {
     "data": {
      "text/plain": [
       "[1, 2, 3, 100]"
      ]
     },
     "execution_count": 119,
     "metadata": {},
     "output_type": "execute_result"
    }
   ],
   "source": [
    "my_lst"
   ]
  },
  {
   "cell_type": "markdown",
   "id": "a0c04722",
   "metadata": {},
   "source": [
    "# Shared references and mutability"
   ]
  },
  {
   "cell_type": "raw",
   "id": "bc9ed1d0",
   "metadata": {},
   "source": [
    "The shared references is the concept of 2 variables referencing the same object in memory i.e. having same memory address"
   ]
  },
  {
   "cell_type": "code",
   "execution_count": 120,
   "id": "8003fff9",
   "metadata": {},
   "outputs": [],
   "source": [
    "a = \"hello\"\n",
    "b = a"
   ]
  },
  {
   "cell_type": "code",
   "execution_count": 121,
   "id": "4b311ec3",
   "metadata": {},
   "outputs": [
    {
     "data": {
      "text/plain": [
       "'0x10cbd48f0'"
      ]
     },
     "execution_count": 121,
     "metadata": {},
     "output_type": "execute_result"
    }
   ],
   "source": [
    "hex(id(a))"
   ]
  },
  {
   "cell_type": "code",
   "execution_count": 122,
   "id": "a33f58aa",
   "metadata": {},
   "outputs": [
    {
     "data": {
      "text/plain": [
       "'0x10cbd48f0'"
      ]
     },
     "execution_count": 122,
     "metadata": {},
     "output_type": "execute_result"
    }
   ],
   "source": [
    "hex(id(b))"
   ]
  },
  {
   "cell_type": "code",
   "execution_count": 123,
   "id": "de70253f",
   "metadata": {},
   "outputs": [],
   "source": [
    "a = \"hello\""
   ]
  },
  {
   "cell_type": "code",
   "execution_count": 124,
   "id": "6cbb91d2",
   "metadata": {},
   "outputs": [],
   "source": [
    "b = \"hello\""
   ]
  },
  {
   "cell_type": "code",
   "execution_count": 125,
   "id": "fde08605",
   "metadata": {},
   "outputs": [
    {
     "data": {
      "text/plain": [
       "'0x10cbd48f0'"
      ]
     },
     "execution_count": 125,
     "metadata": {},
     "output_type": "execute_result"
    }
   ],
   "source": [
    "hex(id(a))"
   ]
  },
  {
   "cell_type": "code",
   "execution_count": 126,
   "id": "a5910b0e",
   "metadata": {},
   "outputs": [
    {
     "data": {
      "text/plain": [
       "'0x10cbd48f0'"
      ]
     },
     "execution_count": 126,
     "metadata": {},
     "output_type": "execute_result"
    }
   ],
   "source": [
    "hex(id(b))"
   ]
  },
  {
   "cell_type": "code",
   "execution_count": 127,
   "id": "5dad728b",
   "metadata": {},
   "outputs": [],
   "source": [
    "b= \"Hello world\""
   ]
  },
  {
   "cell_type": "code",
   "execution_count": 129,
   "id": "b27e0ce0",
   "metadata": {},
   "outputs": [
    {
     "data": {
      "text/plain": [
       "'0x10d317d30'"
      ]
     },
     "execution_count": 129,
     "metadata": {},
     "output_type": "execute_result"
    }
   ],
   "source": [
    "hex(id(b)) # b pointing to different memory address"
   ]
  },
  {
   "cell_type": "code",
   "execution_count": 130,
   "id": "86d78029",
   "metadata": {},
   "outputs": [],
   "source": [
    "# in case of mutable object its different"
   ]
  },
  {
   "cell_type": "code",
   "execution_count": 131,
   "id": "13b201e0",
   "metadata": {},
   "outputs": [],
   "source": [
    "a =[1,2,3]"
   ]
  },
  {
   "cell_type": "code",
   "execution_count": 132,
   "id": "42305189",
   "metadata": {},
   "outputs": [],
   "source": [
    "b=a"
   ]
  },
  {
   "cell_type": "code",
   "execution_count": 133,
   "id": "49d1396a",
   "metadata": {},
   "outputs": [
    {
     "data": {
      "text/plain": [
       "'0x10de8e840'"
      ]
     },
     "execution_count": 133,
     "metadata": {},
     "output_type": "execute_result"
    }
   ],
   "source": [
    "hex(id(a))"
   ]
  },
  {
   "cell_type": "code",
   "execution_count": 134,
   "id": "f4995490",
   "metadata": {},
   "outputs": [
    {
     "data": {
      "text/plain": [
       "'0x10de8e840'"
      ]
     },
     "execution_count": 134,
     "metadata": {},
     "output_type": "execute_result"
    }
   ],
   "source": [
    "hex(id(b))"
   ]
  },
  {
   "cell_type": "code",
   "execution_count": 135,
   "id": "26f0fa44",
   "metadata": {},
   "outputs": [],
   "source": [
    "b.append(100)"
   ]
  },
  {
   "cell_type": "code",
   "execution_count": 136,
   "id": "37a0007f",
   "metadata": {},
   "outputs": [
    {
     "data": {
      "text/plain": [
       "'0x10de8e840'"
      ]
     },
     "execution_count": 136,
     "metadata": {},
     "output_type": "execute_result"
    }
   ],
   "source": [
    "hex(id(a))"
   ]
  },
  {
   "cell_type": "code",
   "execution_count": 137,
   "id": "de68d141",
   "metadata": {},
   "outputs": [
    {
     "data": {
      "text/plain": [
       "'0x10de8e840'"
      ]
     },
     "execution_count": 137,
     "metadata": {},
     "output_type": "execute_result"
    }
   ],
   "source": [
    "hex(id(b))"
   ]
  },
  {
   "cell_type": "code",
   "execution_count": 138,
   "id": "02a2aa10",
   "metadata": {},
   "outputs": [
    {
     "data": {
      "text/plain": [
       "[1, 2, 3, 100]"
      ]
     },
     "execution_count": 138,
     "metadata": {},
     "output_type": "execute_result"
    }
   ],
   "source": [
    "a      #by modifying b, a was modified as well"
   ]
  },
  {
   "cell_type": "code",
   "execution_count": 139,
   "id": "1f8c23b3",
   "metadata": {},
   "outputs": [
    {
     "data": {
      "text/plain": [
       "[1, 2, 3, 100]"
      ]
     },
     "execution_count": 139,
     "metadata": {},
     "output_type": "execute_result"
    }
   ],
   "source": [
    "b"
   ]
  },
  {
   "cell_type": "markdown",
   "id": "b7ef64c4",
   "metadata": {},
   "source": [
    "# Variable Equality"
   ]
  },
  {
   "cell_type": "raw",
   "id": "2b392599",
   "metadata": {},
   "source": [
    "2 fundamental ways:\n",
    "    compare memory address\n",
    "        - 'is'(identity operator) to compare memory address\n",
    "        - 'is not'\n",
    "    Object state(data)\n",
    "        - '=='(equality operator)\n",
    "        - '!='"
   ]
  },
  {
   "cell_type": "code",
   "execution_count": 141,
   "id": "c0cf780d",
   "metadata": {},
   "outputs": [],
   "source": [
    "a = 10\n",
    "b = a"
   ]
  },
  {
   "cell_type": "code",
   "execution_count": 142,
   "id": "d6cbbaf2",
   "metadata": {},
   "outputs": [
    {
     "data": {
      "text/plain": [
       "True"
      ]
     },
     "execution_count": 142,
     "metadata": {},
     "output_type": "execute_result"
    }
   ],
   "source": [
    "a is b # shared reference"
   ]
  },
  {
   "cell_type": "code",
   "execution_count": 144,
   "id": "8141b940",
   "metadata": {},
   "outputs": [
    {
     "data": {
      "text/plain": [
       "True"
      ]
     },
     "execution_count": 144,
     "metadata": {},
     "output_type": "execute_result"
    }
   ],
   "source": [
    "a == b # same value stored for a & b"
   ]
  },
  {
   "cell_type": "code",
   "execution_count": 145,
   "id": "31f6951d",
   "metadata": {},
   "outputs": [],
   "source": [
    "# mutable object\n",
    "a = [1,2,3]\n",
    "b = [1,2,3]"
   ]
  },
  {
   "cell_type": "code",
   "execution_count": 146,
   "id": "74b0372d",
   "metadata": {},
   "outputs": [
    {
     "data": {
      "text/plain": [
       "False"
      ]
     },
     "execution_count": 146,
     "metadata": {},
     "output_type": "execute_result"
    }
   ],
   "source": [
    "a is b # memory address of mutable object are different"
   ]
  },
  {
   "cell_type": "code",
   "execution_count": 147,
   "id": "a7d2950c",
   "metadata": {},
   "outputs": [
    {
     "data": {
      "text/plain": [
       "True"
      ]
     },
     "execution_count": 147,
     "metadata": {},
     "output_type": "execute_result"
    }
   ],
   "source": [
    "a==b # value of a & b are same"
   ]
  },
  {
   "cell_type": "code",
   "execution_count": 148,
   "id": "bd878c6e",
   "metadata": {},
   "outputs": [],
   "source": [
    "a= 10\n",
    "b = 10.0"
   ]
  },
  {
   "cell_type": "code",
   "execution_count": 149,
   "id": "b570af36",
   "metadata": {},
   "outputs": [
    {
     "data": {
      "text/plain": [
       "False"
      ]
     },
     "execution_count": 149,
     "metadata": {},
     "output_type": "execute_result"
    }
   ],
   "source": [
    "a is b # memory address different"
   ]
  },
  {
   "cell_type": "code",
   "execution_count": 150,
   "id": "6c332fbb",
   "metadata": {},
   "outputs": [
    {
     "data": {
      "text/plain": [
       "True"
      ]
     },
     "execution_count": 150,
     "metadata": {},
     "output_type": "execute_result"
    }
   ],
   "source": [
    "a == b # value is same"
   ]
  },
  {
   "cell_type": "code",
   "execution_count": 152,
   "id": "10678c32",
   "metadata": {},
   "outputs": [],
   "source": [
    "#The None Object\n",
    "\n",
    "#None is like null pointer\n",
    "# None is an actual object i.e. its not nothing\n",
    "a = None\n",
    "b = None\n",
    "c = None"
   ]
  },
  {
   "cell_type": "code",
   "execution_count": 153,
   "id": "e8002561",
   "metadata": {},
   "outputs": [
    {
     "data": {
      "text/plain": [
       "4465055288"
      ]
     },
     "execution_count": 153,
     "metadata": {},
     "output_type": "execute_result"
    }
   ],
   "source": [
    "id (a)"
   ]
  },
  {
   "cell_type": "code",
   "execution_count": 154,
   "id": "df2567af",
   "metadata": {},
   "outputs": [
    {
     "data": {
      "text/plain": [
       "4465055288"
      ]
     },
     "execution_count": 154,
     "metadata": {},
     "output_type": "execute_result"
    }
   ],
   "source": [
    "id(b)"
   ]
  },
  {
   "cell_type": "code",
   "execution_count": 155,
   "id": "b4869622",
   "metadata": {},
   "outputs": [
    {
     "data": {
      "text/plain": [
       "4465055288"
      ]
     },
     "execution_count": 155,
     "metadata": {},
     "output_type": "execute_result"
    }
   ],
   "source": [
    "id(c)"
   ]
  },
  {
   "cell_type": "code",
   "execution_count": 156,
   "id": "0f400d9c",
   "metadata": {},
   "outputs": [
    {
     "data": {
      "text/plain": [
       "True"
      ]
     },
     "execution_count": 156,
     "metadata": {},
     "output_type": "execute_result"
    }
   ],
   "source": [
    "a is None"
   ]
  },
  {
   "cell_type": "code",
   "execution_count": 158,
   "id": "3b757d1d",
   "metadata": {},
   "outputs": [
    {
     "data": {
      "text/plain": [
       "True"
      ]
     },
     "execution_count": 158,
     "metadata": {},
     "output_type": "execute_result"
    }
   ],
   "source": [
    "a == b"
   ]
  },
  {
   "cell_type": "markdown",
   "id": "de80fbea",
   "metadata": {},
   "source": [
    "# Everything is an object"
   ]
  },
  {
   "cell_type": "code",
   "execution_count": 159,
   "id": "9157b046",
   "metadata": {},
   "outputs": [],
   "source": [
    "a = 10"
   ]
  },
  {
   "cell_type": "code",
   "execution_count": 160,
   "id": "5095d5af",
   "metadata": {},
   "outputs": [
    {
     "name": "stdout",
     "output_type": "stream",
     "text": [
      "<class 'int'>\n"
     ]
    }
   ],
   "source": [
    "print(type(a))"
   ]
  },
  {
   "cell_type": "code",
   "execution_count": 161,
   "id": "8e8c90ae",
   "metadata": {},
   "outputs": [
    {
     "name": "stdout",
     "output_type": "stream",
     "text": [
      "Help on class int in module builtins:\n",
      "\n",
      "class int(object)\n",
      " |  int([x]) -> integer\n",
      " |  int(x, base=10) -> integer\n",
      " |  \n",
      " |  Convert a number or string to an integer, or return 0 if no arguments\n",
      " |  are given.  If x is a number, return x.__int__().  For floating point\n",
      " |  numbers, this truncates towards zero.\n",
      " |  \n",
      " |  If x is not a number or if base is given, then x must be a string,\n",
      " |  bytes, or bytearray instance representing an integer literal in the\n",
      " |  given base.  The literal can be preceded by '+' or '-' and be surrounded\n",
      " |  by whitespace.  The base defaults to 10.  Valid bases are 0 and 2-36.\n",
      " |  Base 0 means to interpret the base from the string as an integer literal.\n",
      " |  >>> int('0b100', base=0)\n",
      " |  4\n",
      " |  \n",
      " |  Built-in subclasses:\n",
      " |      bool\n",
      " |  \n",
      " |  Methods defined here:\n",
      " |  \n",
      " |  __abs__(self, /)\n",
      " |      abs(self)\n",
      " |  \n",
      " |  __add__(self, value, /)\n",
      " |      Return self+value.\n",
      " |  \n",
      " |  __and__(self, value, /)\n",
      " |      Return self&value.\n",
      " |  \n",
      " |  __bool__(self, /)\n",
      " |      True if self else False\n",
      " |  \n",
      " |  __ceil__(...)\n",
      " |      Ceiling of an Integral returns itself.\n",
      " |  \n",
      " |  __divmod__(self, value, /)\n",
      " |      Return divmod(self, value).\n",
      " |  \n",
      " |  __eq__(self, value, /)\n",
      " |      Return self==value.\n",
      " |  \n",
      " |  __float__(self, /)\n",
      " |      float(self)\n",
      " |  \n",
      " |  __floor__(...)\n",
      " |      Flooring an Integral returns itself.\n",
      " |  \n",
      " |  __floordiv__(self, value, /)\n",
      " |      Return self//value.\n",
      " |  \n",
      " |  __format__(self, format_spec, /)\n",
      " |      Default object formatter.\n",
      " |  \n",
      " |  __ge__(self, value, /)\n",
      " |      Return self>=value.\n",
      " |  \n",
      " |  __getattribute__(self, name, /)\n",
      " |      Return getattr(self, name).\n",
      " |  \n",
      " |  __getnewargs__(self, /)\n",
      " |  \n",
      " |  __gt__(self, value, /)\n",
      " |      Return self>value.\n",
      " |  \n",
      " |  __hash__(self, /)\n",
      " |      Return hash(self).\n",
      " |  \n",
      " |  __index__(self, /)\n",
      " |      Return self converted to an integer, if self is suitable for use as an index into a list.\n",
      " |  \n",
      " |  __int__(self, /)\n",
      " |      int(self)\n",
      " |  \n",
      " |  __invert__(self, /)\n",
      " |      ~self\n",
      " |  \n",
      " |  __le__(self, value, /)\n",
      " |      Return self<=value.\n",
      " |  \n",
      " |  __lshift__(self, value, /)\n",
      " |      Return self<<value.\n",
      " |  \n",
      " |  __lt__(self, value, /)\n",
      " |      Return self<value.\n",
      " |  \n",
      " |  __mod__(self, value, /)\n",
      " |      Return self%value.\n",
      " |  \n",
      " |  __mul__(self, value, /)\n",
      " |      Return self*value.\n",
      " |  \n",
      " |  __ne__(self, value, /)\n",
      " |      Return self!=value.\n",
      " |  \n",
      " |  __neg__(self, /)\n",
      " |      -self\n",
      " |  \n",
      " |  __or__(self, value, /)\n",
      " |      Return self|value.\n",
      " |  \n",
      " |  __pos__(self, /)\n",
      " |      +self\n",
      " |  \n",
      " |  __pow__(self, value, mod=None, /)\n",
      " |      Return pow(self, value, mod).\n",
      " |  \n",
      " |  __radd__(self, value, /)\n",
      " |      Return value+self.\n",
      " |  \n",
      " |  __rand__(self, value, /)\n",
      " |      Return value&self.\n",
      " |  \n",
      " |  __rdivmod__(self, value, /)\n",
      " |      Return divmod(value, self).\n",
      " |  \n",
      " |  __repr__(self, /)\n",
      " |      Return repr(self).\n",
      " |  \n",
      " |  __rfloordiv__(self, value, /)\n",
      " |      Return value//self.\n",
      " |  \n",
      " |  __rlshift__(self, value, /)\n",
      " |      Return value<<self.\n",
      " |  \n",
      " |  __rmod__(self, value, /)\n",
      " |      Return value%self.\n",
      " |  \n",
      " |  __rmul__(self, value, /)\n",
      " |      Return value*self.\n",
      " |  \n",
      " |  __ror__(self, value, /)\n",
      " |      Return value|self.\n",
      " |  \n",
      " |  __round__(...)\n",
      " |      Rounding an Integral returns itself.\n",
      " |      \n",
      " |      Rounding with an ndigits argument also returns an integer.\n",
      " |  \n",
      " |  __rpow__(self, value, mod=None, /)\n",
      " |      Return pow(value, self, mod).\n",
      " |  \n",
      " |  __rrshift__(self, value, /)\n",
      " |      Return value>>self.\n",
      " |  \n",
      " |  __rshift__(self, value, /)\n",
      " |      Return self>>value.\n",
      " |  \n",
      " |  __rsub__(self, value, /)\n",
      " |      Return value-self.\n",
      " |  \n",
      " |  __rtruediv__(self, value, /)\n",
      " |      Return value/self.\n",
      " |  \n",
      " |  __rxor__(self, value, /)\n",
      " |      Return value^self.\n",
      " |  \n",
      " |  __sizeof__(self, /)\n",
      " |      Returns size in memory, in bytes.\n",
      " |  \n",
      " |  __sub__(self, value, /)\n",
      " |      Return self-value.\n",
      " |  \n",
      " |  __truediv__(self, value, /)\n",
      " |      Return self/value.\n",
      " |  \n",
      " |  __trunc__(...)\n",
      " |      Truncating an Integral returns itself.\n",
      " |  \n",
      " |  __xor__(self, value, /)\n",
      " |      Return self^value.\n",
      " |  \n",
      " |  as_integer_ratio(self, /)\n",
      " |      Return integer ratio.\n",
      " |      \n",
      " |      Return a pair of integers, whose ratio is exactly equal to the original int\n",
      " |      and with a positive denominator.\n",
      " |      \n",
      " |      >>> (10).as_integer_ratio()\n",
      " |      (10, 1)\n",
      " |      >>> (-10).as_integer_ratio()\n",
      " |      (-10, 1)\n",
      " |      >>> (0).as_integer_ratio()\n",
      " |      (0, 1)\n",
      " |  \n",
      " |  bit_count(self, /)\n",
      " |      Number of ones in the binary representation of the absolute value of self.\n",
      " |      \n",
      " |      Also known as the population count.\n",
      " |      \n",
      " |      >>> bin(13)\n",
      " |      '0b1101'\n",
      " |      >>> (13).bit_count()\n",
      " |      3\n",
      " |  \n",
      " |  bit_length(self, /)\n",
      " |      Number of bits necessary to represent self in binary.\n",
      " |      \n",
      " |      >>> bin(37)\n",
      " |      '0b100101'\n",
      " |      >>> (37).bit_length()\n",
      " |      6\n",
      " |  \n",
      " |  conjugate(...)\n",
      " |      Returns self, the complex conjugate of any int.\n",
      " |  \n",
      " |  to_bytes(self, /, length=1, byteorder='big', *, signed=False)\n",
      " |      Return an array of bytes representing an integer.\n",
      " |      \n",
      " |      length\n",
      " |        Length of bytes object to use.  An OverflowError is raised if the\n",
      " |        integer is not representable with the given number of bytes.  Default\n",
      " |        is length 1.\n",
      " |      byteorder\n",
      " |        The byte order used to represent the integer.  If byteorder is 'big',\n",
      " |        the most significant byte is at the beginning of the byte array.  If\n",
      " |        byteorder is 'little', the most significant byte is at the end of the\n",
      " |        byte array.  To request the native byte order of the host system, use\n",
      " |        `sys.byteorder' as the byte order value.  Default is to use 'big'.\n",
      " |      signed\n",
      " |        Determines whether two's complement is used to represent the integer.\n",
      " |        If signed is False and a negative integer is given, an OverflowError\n",
      " |        is raised.\n",
      " |  \n",
      " |  ----------------------------------------------------------------------\n",
      " |  Class methods defined here:\n",
      " |  \n",
      " |  from_bytes(bytes, byteorder='big', *, signed=False) from builtins.type\n",
      " |      Return the integer represented by the given array of bytes.\n",
      " |      \n",
      " |      bytes\n",
      " |        Holds the array of bytes to convert.  The argument must either\n",
      " |        support the buffer protocol or be an iterable object producing bytes.\n",
      " |        Bytes and bytearray are examples of built-in objects that support the\n",
      " |        buffer protocol.\n",
      " |      byteorder\n",
      " |        The byte order used to represent the integer.  If byteorder is 'big',\n",
      " |        the most significant byte is at the beginning of the byte array.  If\n",
      " |        byteorder is 'little', the most significant byte is at the end of the\n",
      " |        byte array.  To request the native byte order of the host system, use\n",
      " |        `sys.byteorder' as the byte order value.  Default is to use 'big'.\n",
      " |      signed\n",
      " |        Indicates whether two's complement is used to represent the integer.\n",
      " |  \n",
      " |  ----------------------------------------------------------------------\n",
      " |  Static methods defined here:\n",
      " |  \n",
      " |  __new__(*args, **kwargs) from builtins.type\n",
      " |      Create and return a new object.  See help(type) for accurate signature.\n",
      " |  \n",
      " |  ----------------------------------------------------------------------\n",
      " |  Data descriptors defined here:\n",
      " |  \n",
      " |  denominator\n",
      " |      the denominator of a rational number in lowest terms\n",
      " |  \n",
      " |  imag\n",
      " |      the imaginary part of a complex number\n",
      " |  \n",
      " |  numerator\n",
      " |      the numerator of a rational number in lowest terms\n",
      " |  \n",
      " |  real\n",
      " |      the real part of a complex number\n",
      "\n"
     ]
    }
   ],
   "source": [
    "help(int)"
   ]
  },
  {
   "cell_type": "markdown",
   "id": "874123e0",
   "metadata": {},
   "source": [
    "# Python optimizations: interning"
   ]
  },
  {
   "cell_type": "raw",
   "id": "e20405c3",
   "metadata": {},
   "source": [
    "interning is reusing object on demand"
   ]
  },
  {
   "cell_type": "code",
   "execution_count": 162,
   "id": "337aa470",
   "metadata": {},
   "outputs": [
    {
     "data": {
      "text/plain": [
       "[-5, 256]"
      ]
     },
     "execution_count": 162,
     "metadata": {},
     "output_type": "execute_result"
    }
   ],
   "source": [
    "[-5,256]"
   ]
  },
  {
   "cell_type": "code",
   "execution_count": 163,
   "id": "b6abbd7a",
   "metadata": {},
   "outputs": [],
   "source": [
    "a = 10"
   ]
  },
  {
   "cell_type": "code",
   "execution_count": 164,
   "id": "0db912ed",
   "metadata": {},
   "outputs": [],
   "source": [
    "b = 10"
   ]
  },
  {
   "cell_type": "code",
   "execution_count": 165,
   "id": "09304ae9",
   "metadata": {},
   "outputs": [
    {
     "data": {
      "text/plain": [
       "4465057096"
      ]
     },
     "execution_count": 165,
     "metadata": {},
     "output_type": "execute_result"
    }
   ],
   "source": [
    "id(a)"
   ]
  },
  {
   "cell_type": "code",
   "execution_count": 166,
   "id": "3cf4947f",
   "metadata": {},
   "outputs": [
    {
     "data": {
      "text/plain": [
       "4465057096"
      ]
     },
     "execution_count": 166,
     "metadata": {},
     "output_type": "execute_result"
    }
   ],
   "source": [
    "id(b)"
   ]
  },
  {
   "cell_type": "code",
   "execution_count": 167,
   "id": "5ae397bf",
   "metadata": {},
   "outputs": [],
   "source": [
    "a = -5\n",
    "b = -5"
   ]
  },
  {
   "cell_type": "code",
   "execution_count": 168,
   "id": "a58ab5b3",
   "metadata": {},
   "outputs": [
    {
     "name": "stdout",
     "output_type": "stream",
     "text": [
      "4465056616 4465056616\n"
     ]
    }
   ],
   "source": [
    "print(id(a), id(b))"
   ]
  },
  {
   "cell_type": "code",
   "execution_count": 169,
   "id": "cf3d8e0c",
   "metadata": {},
   "outputs": [
    {
     "data": {
      "text/plain": [
       "True"
      ]
     },
     "execution_count": 169,
     "metadata": {},
     "output_type": "execute_result"
    }
   ],
   "source": [
    "a is b"
   ]
  },
  {
   "cell_type": "code",
   "execution_count": 170,
   "id": "d0c80489",
   "metadata": {},
   "outputs": [],
   "source": [
    "a = 256"
   ]
  },
  {
   "cell_type": "code",
   "execution_count": 171,
   "id": "15d933c5",
   "metadata": {},
   "outputs": [],
   "source": [
    "b = 256"
   ]
  },
  {
   "cell_type": "code",
   "execution_count": 173,
   "id": "0bd862b0",
   "metadata": {},
   "outputs": [
    {
     "data": {
      "text/plain": [
       "True"
      ]
     },
     "execution_count": 173,
     "metadata": {},
     "output_type": "execute_result"
    }
   ],
   "source": [
    "a is b "
   ]
  },
  {
   "cell_type": "code",
   "execution_count": 174,
   "id": "2c4e30ea",
   "metadata": {},
   "outputs": [],
   "source": [
    "a = 257"
   ]
  },
  {
   "cell_type": "code",
   "execution_count": 175,
   "id": "b1550df4",
   "metadata": {},
   "outputs": [],
   "source": [
    "b= 257"
   ]
  },
  {
   "cell_type": "code",
   "execution_count": 176,
   "id": "2173c770",
   "metadata": {},
   "outputs": [
    {
     "data": {
      "text/plain": [
       "False"
      ]
     },
     "execution_count": 176,
     "metadata": {},
     "output_type": "execute_result"
    }
   ],
   "source": [
    "a is b # no longer using singleton collection"
   ]
  },
  {
   "cell_type": "code",
   "execution_count": 177,
   "id": "23d10d50",
   "metadata": {},
   "outputs": [],
   "source": [
    "a =10 "
   ]
  },
  {
   "cell_type": "code",
   "execution_count": 178,
   "id": "e6d9860b",
   "metadata": {},
   "outputs": [],
   "source": [
    "b = int(10)"
   ]
  },
  {
   "cell_type": "code",
   "execution_count": 179,
   "id": "76d634cd",
   "metadata": {},
   "outputs": [],
   "source": [
    "c = int('10')"
   ]
  },
  {
   "cell_type": "code",
   "execution_count": 180,
   "id": "197cf4f3",
   "metadata": {},
   "outputs": [],
   "source": [
    "d  = int('1010',2)"
   ]
  },
  {
   "cell_type": "code",
   "execution_count": 181,
   "id": "24e8ae34",
   "metadata": {},
   "outputs": [
    {
     "name": "stdout",
     "output_type": "stream",
     "text": [
      "10 10 10 10\n"
     ]
    }
   ],
   "source": [
    "print(a,b,c,d)"
   ]
  },
  {
   "cell_type": "code",
   "execution_count": 182,
   "id": "bcc81b82",
   "metadata": {},
   "outputs": [
    {
     "name": "stdout",
     "output_type": "stream",
     "text": [
      "4465057096 4465057096 4465057096 4465057096\n"
     ]
    }
   ],
   "source": [
    "print(id(a), id(b), id(c), id(d))"
   ]
  },
  {
   "cell_type": "markdown",
   "id": "290a28d3",
   "metadata": {},
   "source": [
    "# String interning"
   ]
  },
  {
   "cell_type": "raw",
   "id": "ba8a0700",
   "metadata": {},
   "source": [
    "variable name, function name, class name etc.\n",
    "\n",
    "any object that is like identifier will be interned by default"
   ]
  },
  {
   "cell_type": "code",
   "execution_count": 183,
   "id": "b9b24b94",
   "metadata": {},
   "outputs": [],
   "source": [
    "a = 'hello'\n",
    "b = 'hello'"
   ]
  },
  {
   "cell_type": "code",
   "execution_count": 184,
   "id": "f28d8db7",
   "metadata": {},
   "outputs": [
    {
     "name": "stdout",
     "output_type": "stream",
     "text": [
      "4508698864 4508698864\n"
     ]
    }
   ],
   "source": [
    "print(id(a), id(b))"
   ]
  },
  {
   "cell_type": "code",
   "execution_count": 187,
   "id": "d5bd4ca2",
   "metadata": {},
   "outputs": [],
   "source": [
    "# a & b don't look like an identifier i.e. naming convention not like identifier - have an space in it\n",
    "a = 'hello world'\n",
    "b = 'hello world'"
   ]
  },
  {
   "cell_type": "code",
   "execution_count": 188,
   "id": "d9a6374b",
   "metadata": {},
   "outputs": [
    {
     "name": "stdout",
     "output_type": "stream",
     "text": [
      "4530144816 4530143920\n"
     ]
    }
   ],
   "source": [
    "print(id(a), id(b))"
   ]
  },
  {
   "cell_type": "code",
   "execution_count": 189,
   "id": "2a7eb2f6",
   "metadata": {},
   "outputs": [
    {
     "data": {
      "text/plain": [
       "True"
      ]
     },
     "execution_count": 189,
     "metadata": {},
     "output_type": "execute_result"
    }
   ],
   "source": [
    " a==b"
   ]
  },
  {
   "cell_type": "code",
   "execution_count": 190,
   "id": "493ece9a",
   "metadata": {},
   "outputs": [
    {
     "data": {
      "text/plain": [
       "False"
      ]
     },
     "execution_count": 190,
     "metadata": {},
     "output_type": "execute_result"
    }
   ],
   "source": [
    "a is b"
   ]
  },
  {
   "cell_type": "code",
   "execution_count": 191,
   "id": "1fa4e786",
   "metadata": {},
   "outputs": [],
   "source": [
    "a = '_this_is_a_sample_string_looks_like_identifier'"
   ]
  },
  {
   "cell_type": "code",
   "execution_count": 192,
   "id": "4c10319a",
   "metadata": {},
   "outputs": [],
   "source": [
    "b = '_this_is_a_sample_string_looks_like_identifier'"
   ]
  },
  {
   "cell_type": "code",
   "execution_count": 193,
   "id": "6b8389f7",
   "metadata": {},
   "outputs": [
    {
     "data": {
      "text/plain": [
       "True"
      ]
     },
     "execution_count": 193,
     "metadata": {},
     "output_type": "execute_result"
    }
   ],
   "source": [
    "a is b #a & b looks like identifier and are interned i.e. use same memroy address"
   ]
  },
  {
   "cell_type": "code",
   "execution_count": 194,
   "id": "acd5b979",
   "metadata": {},
   "outputs": [],
   "source": [
    "import sys"
   ]
  },
  {
   "cell_type": "code",
   "execution_count": 195,
   "id": "59ed7706",
   "metadata": {},
   "outputs": [],
   "source": [
    "a = sys.intern('hello world')"
   ]
  },
  {
   "cell_type": "code",
   "execution_count": 196,
   "id": "82523724",
   "metadata": {},
   "outputs": [],
   "source": [
    "b = sys.intern('hello world')"
   ]
  },
  {
   "cell_type": "code",
   "execution_count": 197,
   "id": "92ffee9f",
   "metadata": {},
   "outputs": [],
   "source": [
    "c = 'hello world'"
   ]
  },
  {
   "cell_type": "code",
   "execution_count": 198,
   "id": "81fa549a",
   "metadata": {},
   "outputs": [
    {
     "name": "stdout",
     "output_type": "stream",
     "text": [
      "4530105136 4530105136 4530099440\n"
     ]
    }
   ],
   "source": [
    "print(id(a), id(b), id(c)) # a & b are interned using sys but c was not interned and using different memory address"
   ]
  },
  {
   "cell_type": "code",
   "execution_count": 199,
   "id": "a82d6c5f",
   "metadata": {},
   "outputs": [
    {
     "data": {
      "text/plain": [
       "True"
      ]
     },
     "execution_count": 199,
     "metadata": {},
     "output_type": "execute_result"
    }
   ],
   "source": [
    "a is b"
   ]
  },
  {
   "cell_type": "code",
   "execution_count": 200,
   "id": "d600f038",
   "metadata": {},
   "outputs": [
    {
     "data": {
      "text/plain": [
       "True"
      ]
     },
     "execution_count": 200,
     "metadata": {},
     "output_type": "execute_result"
    }
   ],
   "source": [
    "a == b"
   ]
  },
  {
   "cell_type": "code",
   "execution_count": 201,
   "id": "8805d1ac",
   "metadata": {},
   "outputs": [],
   "source": [
    "def compare_using_eq(n):\n",
    "    a = 'a string which is not interned'*200\n",
    "    b = 'a string which is not interned'*200\n",
    "    \n",
    "    for i in range(n):\n",
    "        if a==b:\n",
    "            pass"
   ]
  },
  {
   "cell_type": "code",
   "execution_count": 202,
   "id": "bf275b94",
   "metadata": {},
   "outputs": [],
   "source": [
    "def compare_using_interning(n):\n",
    "    a = sys.intern('a string which is not interned'*200)\n",
    "    b = sys.intern('a string which is not interned'*200)\n",
    "    \n",
    "    for i in range(n):\n",
    "        if a is b:\n",
    "            pass"
   ]
  },
  {
   "cell_type": "code",
   "execution_count": 203,
   "id": "3acb4fd6",
   "metadata": {},
   "outputs": [],
   "source": [
    "import time"
   ]
  },
  {
   "cell_type": "code",
   "execution_count": 204,
   "id": "136318c4",
   "metadata": {},
   "outputs": [
    {
     "name": "stdout",
     "output_type": "stream",
     "text": [
      "2.255619786999887\n"
     ]
    }
   ],
   "source": [
    "start = time.perf_counter()\n",
    "compare_using_eq(10000000)\n",
    "end = time.perf_counter()\n",
    "\n",
    "print(end-start)"
   ]
  },
  {
   "cell_type": "code",
   "execution_count": 205,
   "id": "5bcd67d7",
   "metadata": {},
   "outputs": [
    {
     "name": "stdout",
     "output_type": "stream",
     "text": [
      "0.3169836460001534\n"
     ]
    }
   ],
   "source": [
    "start = time.perf_counter()\n",
    "compare_using_interning(10000000)\n",
    "end = time.perf_counter()\n",
    "\n",
    "print(end-start)"
   ]
  },
  {
   "cell_type": "raw",
   "id": "3a01a863",
   "metadata": {},
   "source": [
    "# interning saves a lot of time as shown in example above"
   ]
  },
  {
   "cell_type": "markdown",
   "id": "1328743c",
   "metadata": {},
   "source": [
    "# Python Optimizations"
   ]
  },
  {
   "cell_type": "raw",
   "id": "1deedbdc",
   "metadata": {},
   "source": [
    "optimization at compile time"
   ]
  },
  {
   "cell_type": "raw",
   "id": "b25e2e3b",
   "metadata": {},
   "source": [
    "#Constant expression\n",
    "# numeric calculations \n",
    "    #In case of numeric calc needs to be done multiple time in code eg - 24*60\n",
    "    # python precalculate it and store it\n",
    "    # everytime 24*60 runs, it takes value from precalculated value    "
   ]
  },
  {
   "cell_type": "raw",
   "id": "e451ece2",
   "metadata": {},
   "source": [
    "Membership test\n",
    "    if e in [1,2,3]:\n",
    "    [1,2,3] is constant here\n",
    "    Python will replace mutable to immutable counter part \n",
    "    i.e. change it to tuple (1,2,3)\n",
    "    \n",
    "    list -> tuple\n",
    "    sets -> frozen sets\n",
    "    \n",
    "    set are faster then list or tuple\n",
    "    \n",
    "    if e in {1,2,3} is better option than if e in [1,2,3] or if e in (1,2,3)"
   ]
  },
  {
   "cell_type": "code",
   "execution_count": 206,
   "id": "2e17eac2",
   "metadata": {},
   "outputs": [],
   "source": [
    "def my_func():\n",
    "    a = 24*60\n",
    "    b = (1,2) * 5\n",
    "    c = 'abc' * 3\n",
    "    d = 'ab' *11\n",
    "    e = 'the quick fox' * 5\n",
    "    f = ['a','b'] * 3"
   ]
  },
  {
   "cell_type": "code",
   "execution_count": 208,
   "id": "6dd00ab0",
   "metadata": {},
   "outputs": [
    {
     "data": {
      "text/plain": [
       "(None,\n",
       " 1440,\n",
       " (1, 2, 1, 2, 1, 2, 1, 2, 1, 2),\n",
       " 'abcabcabc',\n",
       " 'ababababababababababab',\n",
       " 'the quick foxthe quick foxthe quick foxthe quick foxthe quick fox',\n",
       " 'a',\n",
       " 'b',\n",
       " 3)"
      ]
     },
     "execution_count": 208,
     "metadata": {},
     "output_type": "execute_result"
    }
   ],
   "source": [
    "my_func.__code__.co_consts # look for constants in function\n",
    "\n",
    "# it do have pre calculated values i.e. 1440 etc."
   ]
  },
  {
   "cell_type": "code",
   "execution_count": 214,
   "id": "a06aa399",
   "metadata": {},
   "outputs": [],
   "source": [
    "import string\n",
    "import time"
   ]
  },
  {
   "cell_type": "code",
   "execution_count": 219,
   "id": "f0fdfd77",
   "metadata": {},
   "outputs": [
    {
     "data": {
      "text/plain": [
       "'abcdefghijklmnopqrstuvwxyzABCDEFGHIJKLMNOPQRSTUVWXYZ'"
      ]
     },
     "execution_count": 219,
     "metadata": {},
     "output_type": "execute_result"
    }
   ],
   "source": [
    "string.ascii_letters"
   ]
  },
  {
   "cell_type": "code",
   "execution_count": 222,
   "id": "47999883",
   "metadata": {},
   "outputs": [],
   "source": [
    "char_list = list(string.ascii_letters)"
   ]
  },
  {
   "cell_type": "code",
   "execution_count": 223,
   "id": "07001b86",
   "metadata": {},
   "outputs": [],
   "source": [
    "char_tuple = tuple(string.ascii_letters)"
   ]
  },
  {
   "cell_type": "code",
   "execution_count": 224,
   "id": "638fe058",
   "metadata": {},
   "outputs": [],
   "source": [
    "char_set = set(string.ascii_letters)"
   ]
  },
  {
   "cell_type": "code",
   "execution_count": 226,
   "id": "f54f8af9",
   "metadata": {},
   "outputs": [
    {
     "name": "stdout",
     "output_type": "stream",
     "text": [
      "['a', 'b', 'c', 'd', 'e', 'f', 'g', 'h', 'i', 'j', 'k', 'l', 'm', 'n', 'o', 'p', 'q', 'r', 's', 't', 'u', 'v', 'w', 'x', 'y', 'z', 'A', 'B', 'C', 'D', 'E', 'F', 'G', 'H', 'I', 'J', 'K', 'L', 'M', 'N', 'O', 'P', 'Q', 'R', 'S', 'T', 'U', 'V', 'W', 'X', 'Y', 'Z']\n"
     ]
    }
   ],
   "source": [
    "print(char_list)"
   ]
  },
  {
   "cell_type": "code",
   "execution_count": 227,
   "id": "8fb3b979",
   "metadata": {},
   "outputs": [
    {
     "name": "stdout",
     "output_type": "stream",
     "text": [
      "('a', 'b', 'c', 'd', 'e', 'f', 'g', 'h', 'i', 'j', 'k', 'l', 'm', 'n', 'o', 'p', 'q', 'r', 's', 't', 'u', 'v', 'w', 'x', 'y', 'z', 'A', 'B', 'C', 'D', 'E', 'F', 'G', 'H', 'I', 'J', 'K', 'L', 'M', 'N', 'O', 'P', 'Q', 'R', 'S', 'T', 'U', 'V', 'W', 'X', 'Y', 'Z')\n"
     ]
    }
   ],
   "source": [
    "print(char_tuple)# list & tuple are ordered sequences"
   ]
  },
  {
   "cell_type": "code",
   "execution_count": 228,
   "id": "30e9803a",
   "metadata": {},
   "outputs": [
    {
     "name": "stdout",
     "output_type": "stream",
     "text": [
      "{'B', 'f', 'i', 'U', 's', 'Q', 'y', 'c', 'x', 'M', 'E', 'h', 'k', 'q', 'L', 'Z', 'N', 'o', 'V', 'F', 't', 'g', 'b', 'l', 'u', 'n', 'v', 'Y', 'K', 'e', 'd', 'A', 'I', 'P', 'w', 'G', 'r', 'O', 'p', 'S', 'j', 'm', 'H', 'R', 'W', 'C', 'a', 'J', 'T', 'z', 'D', 'X'}\n"
     ]
    }
   ],
   "source": [
    "print(char_set)# set is not ordered sequence"
   ]
  },
  {
   "cell_type": "code",
   "execution_count": 229,
   "id": "c91c322e",
   "metadata": {},
   "outputs": [],
   "source": [
    "def membership_test(n, obj):\n",
    "    for i in range(n):\n",
    "        if 'z' in obj:\n",
    "            pass\n",
    "     "
   ]
  },
  {
   "cell_type": "code",
   "execution_count": 231,
   "id": "5b62e3e0",
   "metadata": {},
   "outputs": [
    {
     "name": "stdout",
     "output_type": "stream",
     "text": [
      "3.524710536999919\n"
     ]
    }
   ],
   "source": [
    "start = time.perf_counter()\n",
    "membership_test(10000000, char_list)\n",
    "end = time.perf_counter()\n",
    "print(end-start)"
   ]
  },
  {
   "cell_type": "code",
   "execution_count": 232,
   "id": "d495b504",
   "metadata": {},
   "outputs": [
    {
     "name": "stdout",
     "output_type": "stream",
     "text": [
      "3.2688919699976395\n"
     ]
    }
   ],
   "source": [
    "start = time.perf_counter()\n",
    "membership_test(10000000, char_tuple)\n",
    "end = time.perf_counter()\n",
    "print(end-start)"
   ]
  },
  {
   "cell_type": "code",
   "execution_count": 233,
   "id": "2b520ce1",
   "metadata": {},
   "outputs": [
    {
     "name": "stdout",
     "output_type": "stream",
     "text": [
      "0.3555753009968612\n"
     ]
    }
   ],
   "source": [
    "start = time.perf_counter()\n",
    "membership_test(10000000, char_set)\n",
    "end = time.perf_counter()\n",
    "print(end-start)"
   ]
  },
  {
   "cell_type": "code",
   "execution_count": null,
   "id": "74c985fc",
   "metadata": {},
   "outputs": [],
   "source": [
    "#sets are faster than list or tuple"
   ]
  }
 ],
 "metadata": {
  "kernelspec": {
   "display_name": "Python 3 (ipykernel)",
   "language": "python",
   "name": "python3"
  },
  "language_info": {
   "codemirror_mode": {
    "name": "ipython",
    "version": 3
   },
   "file_extension": ".py",
   "mimetype": "text/x-python",
   "name": "python",
   "nbconvert_exporter": "python",
   "pygments_lexer": "ipython3",
   "version": "3.11.4"
  }
 },
 "nbformat": 4,
 "nbformat_minor": 5
}
