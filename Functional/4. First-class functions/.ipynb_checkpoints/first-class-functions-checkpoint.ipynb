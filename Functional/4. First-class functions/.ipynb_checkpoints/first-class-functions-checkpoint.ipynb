{
 "cells": [
  {
   "cell_type": "markdown",
   "id": "2814ad7c",
   "metadata": {},
   "source": [
    "# First class function"
   ]
  },
  {
   "cell_type": "code",
   "execution_count": 1,
   "id": "90014edc",
   "metadata": {},
   "outputs": [],
   "source": [
    "# first class object\n",
    "        # can be passed to a function as an argument\n",
    "        # can be returned from a function\n",
    "        # can be assigned to a variable\n",
    "        # can be stored in data structure\n",
    "        \n",
    "        # int, float, string, tuple, list are first class object\n",
    "        \n",
    "        # Functions(function) are also frist class object\n",
    "\n",
    "# Higher order functions\n",
    "    # take a function as an argument\n",
    "    #    and/or\n",
    "    # return a function"
   ]
  },
  {
   "cell_type": "markdown",
   "id": "649ef31c",
   "metadata": {},
   "source": [
    "# Docstrings and annotations"
   ]
  },
  {
   "cell_type": "code",
   "execution_count": 4,
   "id": "04ea7c02",
   "metadata": {},
   "outputs": [],
   "source": [
    "# help(x) -> returns some doc for x(if available)\n",
    "# if the first line in function body id a string, it will be interpreted as a docstring\n",
    "\n",
    "def my_func(a: int):\n",
    "    \"documentation for my_func\"\n",
    "    return a "
   ]
  },
  {
   "cell_type": "code",
   "execution_count": 5,
   "id": "21943b05",
   "metadata": {},
   "outputs": [
    {
     "name": "stdout",
     "output_type": "stream",
     "text": [
      "Help on function my_func in module __main__:\n",
      "\n",
      "my_func(a: int)\n",
      "    documentation for my_func\n",
      "\n"
     ]
    }
   ],
   "source": [
    "help(my_func)"
   ]
  },
  {
   "cell_type": "code",
   "execution_count": 6,
   "id": "98981ea0",
   "metadata": {},
   "outputs": [],
   "source": [
    "def fact(n):\n",
    "    \"\"\"\n",
    "    Calculations n!(factorial function)\n",
    "    \n",
    "    Inputs:\n",
    "       n: non_negative Integer\n",
    "    Returns:\n",
    "       the factorial of n\n",
    "    \"\"\""
   ]
  },
  {
   "cell_type": "code",
   "execution_count": 7,
   "id": "d9d035ad",
   "metadata": {},
   "outputs": [
    {
     "data": {
      "text/plain": [
       "'\\n    Calculations n!(factorial function)\\n    \\n    Inputs:\\n       n: non_negative Integer\\n    Returns:\\n       the factorial of n\\n    '"
      ]
     },
     "execution_count": 7,
     "metadata": {},
     "output_type": "execute_result"
    }
   ],
   "source": [
    "fact.__doc__"
   ]
  },
  {
   "cell_type": "code",
   "execution_count": 8,
   "id": "77634a27",
   "metadata": {},
   "outputs": [
    {
     "name": "stdout",
     "output_type": "stream",
     "text": [
      "Help on function fact in module __main__:\n",
      "\n",
      "fact(n)\n",
      "    Calculations n!(factorial function)\n",
      "    \n",
      "    Inputs:\n",
      "       n: non_negative Integer\n",
      "    Returns:\n",
      "       the factorial of n\n",
      "\n"
     ]
    }
   ],
   "source": [
    "help(fact)"
   ]
  },
  {
   "cell_type": "code",
   "execution_count": 10,
   "id": "7dca9059",
   "metadata": {},
   "outputs": [],
   "source": [
    "# Function annotation \n",
    "\n",
    "# Function annotation gives us an additional way to document our functions\n",
    "\n",
    "'''\n",
    "def my_function(a: expression, b:expression) -> expression:\n",
    "    pass\n",
    "'''    \n",
    "\n",
    "def my_function(a: 'string', b: 'positive integer') -> 'a string':\n",
    "    return a * b"
   ]
  },
  {
   "cell_type": "code",
   "execution_count": 11,
   "id": "ce686972",
   "metadata": {},
   "outputs": [
    {
     "name": "stdout",
     "output_type": "stream",
     "text": [
      "Help on function my_function in module __main__:\n",
      "\n",
      "my_function(a: 'string', b: 'positive integer') -> 'a string'\n",
      "\n"
     ]
    }
   ],
   "source": [
    "help(my_function)"
   ]
  },
  {
   "cell_type": "code",
   "execution_count": 12,
   "id": "d1086289",
   "metadata": {},
   "outputs": [],
   "source": [
    "my_function.__doc__"
   ]
  },
  {
   "cell_type": "code",
   "execution_count": 13,
   "id": "e8f1c443",
   "metadata": {},
   "outputs": [],
   "source": [
    "# Annotation can be any expression\n",
    "\n",
    "def my_func(a: str, b: 'int>0') -> str:\n",
    "    return a * b"
   ]
  },
  {
   "cell_type": "code",
   "execution_count": 14,
   "id": "318035c7",
   "metadata": {},
   "outputs": [
    {
     "name": "stdout",
     "output_type": "stream",
     "text": [
      "Help on function my_func in module __main__:\n",
      "\n",
      "my_func(a: str, b: 'int>0') -> str\n",
      "\n"
     ]
    }
   ],
   "source": [
    "help(my_func)"
   ]
  },
  {
   "cell_type": "code",
   "execution_count": 15,
   "id": "01f8334a",
   "metadata": {},
   "outputs": [],
   "source": [
    "x = 5\n",
    "y = 3\n",
    "def my_func(a: str)-> 'a repeated ' + str(max(x,y)) + ' times':\n",
    "    return a*max(x,y)"
   ]
  },
  {
   "cell_type": "code",
   "execution_count": 16,
   "id": "da3f7eb9",
   "metadata": {},
   "outputs": [
    {
     "name": "stdout",
     "output_type": "stream",
     "text": [
      "Help on function my_func in module __main__:\n",
      "\n",
      "my_func(a: str) -> 'a repeated 5 times'\n",
      "\n"
     ]
    }
   ],
   "source": [
    "help(my_func) # annotation is variable "
   ]
  },
  {
   "cell_type": "code",
   "execution_count": 17,
   "id": "88c322d3",
   "metadata": {},
   "outputs": [],
   "source": [
    "# default values \n",
    "def my_func(a: str = 'xyz', b: int = 1) -> str:\n",
    "    pass"
   ]
  },
  {
   "cell_type": "code",
   "execution_count": 18,
   "id": "997a00d0",
   "metadata": {},
   "outputs": [
    {
     "name": "stdout",
     "output_type": "stream",
     "text": [
      "Help on function my_func in module __main__:\n",
      "\n",
      "my_func(a: str = 'xyz', b: int = 1) -> str\n",
      "    # default values\n",
      "\n"
     ]
    }
   ],
   "source": [
    "help(my_func)"
   ]
  },
  {
   "cell_type": "code",
   "execution_count": 19,
   "id": "691cc7d6",
   "metadata": {},
   "outputs": [],
   "source": [
    "# annotation are stored in __annotations__ properties of the function"
   ]
  },
  {
   "cell_type": "code",
   "execution_count": 21,
   "id": "69f53d4e",
   "metadata": {},
   "outputs": [
    {
     "data": {
      "text/plain": [
       "{'a': str, 'b': int, 'return': str}"
      ]
     },
     "execution_count": 21,
     "metadata": {},
     "output_type": "execute_result"
    }
   ],
   "source": [
    "my_func.__annotations__ # dictionary"
   ]
  },
  {
   "cell_type": "code",
   "execution_count": 24,
   "id": "454bc3bd",
   "metadata": {},
   "outputs": [],
   "source": [
    "def meta_data(func):\n",
    "    \"meta data function\"\n",
    "    return func.__annotations__"
   ]
  },
  {
   "cell_type": "code",
   "execution_count": 25,
   "id": "f4501d49",
   "metadata": {},
   "outputs": [
    {
     "data": {
      "text/plain": [
       "{'a': str, 'b': int, 'return': str}"
      ]
     },
     "execution_count": 25,
     "metadata": {},
     "output_type": "execute_result"
    }
   ],
   "source": [
    "meta_data(my_func)"
   ]
  },
  {
   "cell_type": "code",
   "execution_count": 26,
   "id": "08fd9a44",
   "metadata": {},
   "outputs": [
    {
     "name": "stdout",
     "output_type": "stream",
     "text": [
      "Help on function meta_data in module __main__:\n",
      "\n",
      "meta_data(func)\n",
      "    meta data function\n",
      "\n"
     ]
    }
   ],
   "source": [
    "help(meta_data)"
   ]
  },
  {
   "cell_type": "code",
   "execution_count": 27,
   "id": "a1df6f53",
   "metadata": {},
   "outputs": [
    {
     "name": "stdout",
     "output_type": "stream",
     "text": [
      "Help on class int in module builtins:\n",
      "\n",
      "class int(object)\n",
      " |  int([x]) -> integer\n",
      " |  int(x, base=10) -> integer\n",
      " |  \n",
      " |  Convert a number or string to an integer, or return 0 if no arguments\n",
      " |  are given.  If x is a number, return x.__int__().  For floating point\n",
      " |  numbers, this truncates towards zero.\n",
      " |  \n",
      " |  If x is not a number or if base is given, then x must be a string,\n",
      " |  bytes, or bytearray instance representing an integer literal in the\n",
      " |  given base.  The literal can be preceded by '+' or '-' and be surrounded\n",
      " |  by whitespace.  The base defaults to 10.  Valid bases are 0 and 2-36.\n",
      " |  Base 0 means to interpret the base from the string as an integer literal.\n",
      " |  >>> int('0b100', base=0)\n",
      " |  4\n",
      " |  \n",
      " |  Built-in subclasses:\n",
      " |      bool\n",
      " |  \n",
      " |  Methods defined here:\n",
      " |  \n",
      " |  __abs__(self, /)\n",
      " |      abs(self)\n",
      " |  \n",
      " |  __add__(self, value, /)\n",
      " |      Return self+value.\n",
      " |  \n",
      " |  __and__(self, value, /)\n",
      " |      Return self&value.\n",
      " |  \n",
      " |  __bool__(self, /)\n",
      " |      True if self else False\n",
      " |  \n",
      " |  __ceil__(...)\n",
      " |      Ceiling of an Integral returns itself.\n",
      " |  \n",
      " |  __divmod__(self, value, /)\n",
      " |      Return divmod(self, value).\n",
      " |  \n",
      " |  __eq__(self, value, /)\n",
      " |      Return self==value.\n",
      " |  \n",
      " |  __float__(self, /)\n",
      " |      float(self)\n",
      " |  \n",
      " |  __floor__(...)\n",
      " |      Flooring an Integral returns itself.\n",
      " |  \n",
      " |  __floordiv__(self, value, /)\n",
      " |      Return self//value.\n",
      " |  \n",
      " |  __format__(self, format_spec, /)\n",
      " |      Default object formatter.\n",
      " |  \n",
      " |  __ge__(self, value, /)\n",
      " |      Return self>=value.\n",
      " |  \n",
      " |  __getattribute__(self, name, /)\n",
      " |      Return getattr(self, name).\n",
      " |  \n",
      " |  __getnewargs__(self, /)\n",
      " |  \n",
      " |  __gt__(self, value, /)\n",
      " |      Return self>value.\n",
      " |  \n",
      " |  __hash__(self, /)\n",
      " |      Return hash(self).\n",
      " |  \n",
      " |  __index__(self, /)\n",
      " |      Return self converted to an integer, if self is suitable for use as an index into a list.\n",
      " |  \n",
      " |  __int__(self, /)\n",
      " |      int(self)\n",
      " |  \n",
      " |  __invert__(self, /)\n",
      " |      ~self\n",
      " |  \n",
      " |  __le__(self, value, /)\n",
      " |      Return self<=value.\n",
      " |  \n",
      " |  __lshift__(self, value, /)\n",
      " |      Return self<<value.\n",
      " |  \n",
      " |  __lt__(self, value, /)\n",
      " |      Return self<value.\n",
      " |  \n",
      " |  __mod__(self, value, /)\n",
      " |      Return self%value.\n",
      " |  \n",
      " |  __mul__(self, value, /)\n",
      " |      Return self*value.\n",
      " |  \n",
      " |  __ne__(self, value, /)\n",
      " |      Return self!=value.\n",
      " |  \n",
      " |  __neg__(self, /)\n",
      " |      -self\n",
      " |  \n",
      " |  __or__(self, value, /)\n",
      " |      Return self|value.\n",
      " |  \n",
      " |  __pos__(self, /)\n",
      " |      +self\n",
      " |  \n",
      " |  __pow__(self, value, mod=None, /)\n",
      " |      Return pow(self, value, mod).\n",
      " |  \n",
      " |  __radd__(self, value, /)\n",
      " |      Return value+self.\n",
      " |  \n",
      " |  __rand__(self, value, /)\n",
      " |      Return value&self.\n",
      " |  \n",
      " |  __rdivmod__(self, value, /)\n",
      " |      Return divmod(value, self).\n",
      " |  \n",
      " |  __repr__(self, /)\n",
      " |      Return repr(self).\n",
      " |  \n",
      " |  __rfloordiv__(self, value, /)\n",
      " |      Return value//self.\n",
      " |  \n",
      " |  __rlshift__(self, value, /)\n",
      " |      Return value<<self.\n",
      " |  \n",
      " |  __rmod__(self, value, /)\n",
      " |      Return value%self.\n",
      " |  \n",
      " |  __rmul__(self, value, /)\n",
      " |      Return value*self.\n",
      " |  \n",
      " |  __ror__(self, value, /)\n",
      " |      Return value|self.\n",
      " |  \n",
      " |  __round__(...)\n",
      " |      Rounding an Integral returns itself.\n",
      " |      \n",
      " |      Rounding with an ndigits argument also returns an integer.\n",
      " |  \n",
      " |  __rpow__(self, value, mod=None, /)\n",
      " |      Return pow(value, self, mod).\n",
      " |  \n",
      " |  __rrshift__(self, value, /)\n",
      " |      Return value>>self.\n",
      " |  \n",
      " |  __rshift__(self, value, /)\n",
      " |      Return self>>value.\n",
      " |  \n",
      " |  __rsub__(self, value, /)\n",
      " |      Return value-self.\n",
      " |  \n",
      " |  __rtruediv__(self, value, /)\n",
      " |      Return value/self.\n",
      " |  \n",
      " |  __rxor__(self, value, /)\n",
      " |      Return value^self.\n",
      " |  \n",
      " |  __sizeof__(self, /)\n",
      " |      Returns size in memory, in bytes.\n",
      " |  \n",
      " |  __sub__(self, value, /)\n",
      " |      Return self-value.\n",
      " |  \n",
      " |  __truediv__(self, value, /)\n",
      " |      Return self/value.\n",
      " |  \n",
      " |  __trunc__(...)\n",
      " |      Truncating an Integral returns itself.\n",
      " |  \n",
      " |  __xor__(self, value, /)\n",
      " |      Return self^value.\n",
      " |  \n",
      " |  as_integer_ratio(self, /)\n",
      " |      Return integer ratio.\n",
      " |      \n",
      " |      Return a pair of integers, whose ratio is exactly equal to the original int\n",
      " |      and with a positive denominator.\n",
      " |      \n",
      " |      >>> (10).as_integer_ratio()\n",
      " |      (10, 1)\n",
      " |      >>> (-10).as_integer_ratio()\n",
      " |      (-10, 1)\n",
      " |      >>> (0).as_integer_ratio()\n",
      " |      (0, 1)\n",
      " |  \n",
      " |  bit_count(self, /)\n",
      " |      Number of ones in the binary representation of the absolute value of self.\n",
      " |      \n",
      " |      Also known as the population count.\n",
      " |      \n",
      " |      >>> bin(13)\n",
      " |      '0b1101'\n",
      " |      >>> (13).bit_count()\n",
      " |      3\n",
      " |  \n",
      " |  bit_length(self, /)\n",
      " |      Number of bits necessary to represent self in binary.\n",
      " |      \n",
      " |      >>> bin(37)\n",
      " |      '0b100101'\n",
      " |      >>> (37).bit_length()\n",
      " |      6\n",
      " |  \n",
      " |  conjugate(...)\n",
      " |      Returns self, the complex conjugate of any int.\n",
      " |  \n",
      " |  to_bytes(self, /, length=1, byteorder='big', *, signed=False)\n",
      " |      Return an array of bytes representing an integer.\n",
      " |      \n",
      " |      length\n",
      " |        Length of bytes object to use.  An OverflowError is raised if the\n",
      " |        integer is not representable with the given number of bytes.  Default\n",
      " |        is length 1.\n",
      " |      byteorder\n",
      " |        The byte order used to represent the integer.  If byteorder is 'big',\n",
      " |        the most significant byte is at the beginning of the byte array.  If\n",
      " |        byteorder is 'little', the most significant byte is at the end of the\n",
      " |        byte array.  To request the native byte order of the host system, use\n",
      " |        `sys.byteorder' as the byte order value.  Default is to use 'big'.\n",
      " |      signed\n",
      " |        Determines whether two's complement is used to represent the integer.\n",
      " |        If signed is False and a negative integer is given, an OverflowError\n",
      " |        is raised.\n",
      " |  \n",
      " |  ----------------------------------------------------------------------\n",
      " |  Class methods defined here:\n",
      " |  \n",
      " |  from_bytes(bytes, byteorder='big', *, signed=False) from builtins.type\n",
      " |      Return the integer represented by the given array of bytes.\n",
      " |      \n",
      " |      bytes\n",
      " |        Holds the array of bytes to convert.  The argument must either\n",
      " |        support the buffer protocol or be an iterable object producing bytes.\n",
      " |        Bytes and bytearray are examples of built-in objects that support the\n",
      " |        buffer protocol.\n",
      " |      byteorder\n",
      " |        The byte order used to represent the integer.  If byteorder is 'big',\n",
      " |        the most significant byte is at the beginning of the byte array.  If\n",
      " |        byteorder is 'little', the most significant byte is at the end of the\n",
      " |        byte array.  To request the native byte order of the host system, use\n",
      " |        `sys.byteorder' as the byte order value.  Default is to use 'big'.\n",
      " |      signed\n",
      " |        Indicates whether two's complement is used to represent the integer.\n",
      " |  \n",
      " |  ----------------------------------------------------------------------\n",
      " |  Static methods defined here:\n",
      " |  \n",
      " |  __new__(*args, **kwargs) from builtins.type\n",
      " |      Create and return a new object.  See help(type) for accurate signature.\n",
      " |  \n",
      " |  ----------------------------------------------------------------------\n",
      " |  Data descriptors defined here:\n",
      " |  \n",
      " |  denominator\n",
      " |      the denominator of a rational number in lowest terms\n",
      " |  \n",
      " |  imag\n",
      " |      the imaginary part of a complex number\n",
      " |  \n",
      " |  numerator\n",
      " |      the numerator of a rational number in lowest terms\n",
      " |  \n",
      " |  real\n",
      " |      the real part of a complex number\n",
      "\n"
     ]
    }
   ],
   "source": [
    "help(int)"
   ]
  },
  {
   "cell_type": "markdown",
   "id": "e0647fde",
   "metadata": {},
   "source": [
    "# Lambda expressions"
   ]
  },
  {
   "cell_type": "code",
   "execution_count": 31,
   "id": "6b492b82",
   "metadata": {},
   "outputs": [],
   "source": [
    "sq= lambda x: x**2"
   ]
  },
  {
   "cell_type": "code",
   "execution_count": 32,
   "id": "d8180422",
   "metadata": {},
   "outputs": [
    {
     "data": {
      "text/plain": [
       "9"
      ]
     },
     "execution_count": 32,
     "metadata": {},
     "output_type": "execute_result"
    }
   ],
   "source": [
    "sq(3)"
   ]
  },
  {
   "cell_type": "code",
   "execution_count": 33,
   "id": "c067f731",
   "metadata": {},
   "outputs": [],
   "source": [
    "s = lambda x,y =10:x+y"
   ]
  },
  {
   "cell_type": "code",
   "execution_count": 34,
   "id": "37a9bbd0",
   "metadata": {},
   "outputs": [
    {
     "data": {
      "text/plain": [
       "20"
      ]
     },
     "execution_count": 34,
     "metadata": {},
     "output_type": "execute_result"
    }
   ],
   "source": [
    "s(10)"
   ]
  },
  {
   "cell_type": "code",
   "execution_count": 35,
   "id": "842a3536",
   "metadata": {},
   "outputs": [
    {
     "data": {
      "text/plain": [
       "3"
      ]
     },
     "execution_count": 35,
     "metadata": {},
     "output_type": "execute_result"
    }
   ],
   "source": [
    "s(1,2)"
   ]
  },
  {
   "cell_type": "code",
   "execution_count": 40,
   "id": "5d5cc97f",
   "metadata": {},
   "outputs": [],
   "source": [
    "f = lambda x, *args, y,**kwargs: (x, args, y, kwargs)"
   ]
  },
  {
   "cell_type": "code",
   "execution_count": 41,
   "id": "f74130ee",
   "metadata": {},
   "outputs": [
    {
     "data": {
      "text/plain": [
       "(1, (), 2, {'c': 3})"
      ]
     },
     "execution_count": 41,
     "metadata": {},
     "output_type": "execute_result"
    }
   ],
   "source": [
    "f(1, y=2,c=3)"
   ]
  },
  {
   "cell_type": "markdown",
   "id": "067c5a9d",
   "metadata": {},
   "source": [
    "# Lambda and sorting"
   ]
  },
  {
   "cell_type": "code",
   "execution_count": 44,
   "id": "7d182473",
   "metadata": {},
   "outputs": [
    {
     "data": {
      "text/plain": [
       "['a', 'b', 'c', 'd']"
      ]
     },
     "execution_count": 44,
     "metadata": {},
     "output_type": "execute_result"
    }
   ],
   "source": [
    "l = ['a','b','d','c']\n",
    "sorted(l, key = lambda s:s.upper())"
   ]
  },
  {
   "cell_type": "code",
   "execution_count": 45,
   "id": "bd4ed67c",
   "metadata": {},
   "outputs": [],
   "source": [
    "import random"
   ]
  },
  {
   "cell_type": "code",
   "execution_count": 46,
   "id": "ba1d9e11",
   "metadata": {},
   "outputs": [
    {
     "name": "stdout",
     "output_type": "stream",
     "text": [
      "Help on built-in function random:\n",
      "\n",
      "random() method of random.Random instance\n",
      "    random() -> x in the interval [0, 1).\n",
      "\n"
     ]
    }
   ],
   "source": [
    "help(random.random)"
   ]
  },
  {
   "cell_type": "code",
   "execution_count": 47,
   "id": "e0acec6e",
   "metadata": {},
   "outputs": [
    {
     "data": {
      "text/plain": [
       "0.13356448325613302"
      ]
     },
     "execution_count": 47,
     "metadata": {},
     "output_type": "execute_result"
    }
   ],
   "source": [
    "random.random()"
   ]
  },
  {
   "cell_type": "code",
   "execution_count": 48,
   "id": "c0532e88",
   "metadata": {},
   "outputs": [],
   "source": [
    " l = [1,2,3,4,5,6,7,8,9,10]"
   ]
  },
  {
   "cell_type": "code",
   "execution_count": 50,
   "id": "e3463bda",
   "metadata": {},
   "outputs": [
    {
     "data": {
      "text/plain": [
       "[5, 1, 8, 7, 9, 3, 4, 2, 6, 10]"
      ]
     },
     "execution_count": 50,
     "metadata": {},
     "output_type": "execute_result"
    }
   ],
   "source": [
    "sorted(l, key = lambda x : random.random())"
   ]
  },
  {
   "cell_type": "markdown",
   "id": "7f7a10b4",
   "metadata": {},
   "source": [
    "# Funtion introspection"
   ]
  },
  {
   "cell_type": "code",
   "execution_count": 51,
   "id": "27e96976",
   "metadata": {},
   "outputs": [],
   "source": [
    "# dir() function\n",
    "\n",
    "# Function attributes - __name__, __defaults__, __kwdefaults__"
   ]
  },
  {
   "cell_type": "code",
   "execution_count": 52,
   "id": "68d872aa",
   "metadata": {},
   "outputs": [],
   "source": [
    "def my_func(a, b = 2, c=3, *, kw1, kw2 = 2):\n",
    "    pass"
   ]
  },
  {
   "cell_type": "code",
   "execution_count": 53,
   "id": "323efd0d",
   "metadata": {},
   "outputs": [
    {
     "data": {
      "text/plain": [
       "'my_func'"
      ]
     },
     "execution_count": 53,
     "metadata": {},
     "output_type": "execute_result"
    }
   ],
   "source": [
    "my_func.__name__"
   ]
  },
  {
   "cell_type": "code",
   "execution_count": 54,
   "id": "31aa00b0",
   "metadata": {},
   "outputs": [
    {
     "data": {
      "text/plain": [
       "(2, 3)"
      ]
     },
     "execution_count": 54,
     "metadata": {},
     "output_type": "execute_result"
    }
   ],
   "source": [
    "my_func.__defaults__"
   ]
  },
  {
   "cell_type": "code",
   "execution_count": 55,
   "id": "15dfcf52",
   "metadata": {},
   "outputs": [
    {
     "data": {
      "text/plain": [
       "{'kw2': 2}"
      ]
     },
     "execution_count": 55,
     "metadata": {},
     "output_type": "execute_result"
    }
   ],
   "source": [
    "my_func.__kwdefaults__"
   ]
  },
  {
   "cell_type": "code",
   "execution_count": 58,
   "id": "e85a3031",
   "metadata": {},
   "outputs": [],
   "source": [
    "\n",
    "def my_func(a, b= 1):\n",
    "     i = 10\n",
    "     b = min(i,b)\n",
    "     return a * b"
   ]
  },
  {
   "cell_type": "code",
   "execution_count": 59,
   "id": "7cfe2d8f",
   "metadata": {},
   "outputs": [
    {
     "data": {
      "text/plain": [
       "<code object my_func at 0x108370990, file \"/var/folders/9b/5mv6x5b9487b5w_pbfdxbx5w0000gn/T/ipykernel_19081/13958043.py\", line 1>"
      ]
     },
     "execution_count": 59,
     "metadata": {},
     "output_type": "execute_result"
    }
   ],
   "source": [
    "my_func.__code__"
   ]
  },
  {
   "cell_type": "code",
   "execution_count": 60,
   "id": "5b28bbe0",
   "metadata": {},
   "outputs": [
    {
     "data": {
      "text/plain": [
       "('a', 'b', 'i')"
      ]
     },
     "execution_count": 60,
     "metadata": {},
     "output_type": "execute_result"
    }
   ],
   "source": [
    "my_func.__code__.co_varnames"
   ]
  },
  {
   "cell_type": "code",
   "execution_count": 61,
   "id": "540dd5a3",
   "metadata": {},
   "outputs": [
    {
     "data": {
      "text/plain": [
       "2"
      ]
     },
     "execution_count": 61,
     "metadata": {},
     "output_type": "execute_result"
    }
   ],
   "source": [
    "my_func.__code__.co_argcount # inclue only positional and keyword arguments"
   ]
  },
  {
   "cell_type": "code",
   "execution_count": 62,
   "id": "781a03a7",
   "metadata": {},
   "outputs": [],
   "source": [
    "# inspect module"
   ]
  },
  {
   "cell_type": "code",
   "execution_count": 63,
   "id": "9308278b",
   "metadata": {},
   "outputs": [],
   "source": [
    "import inspect"
   ]
  },
  {
   "cell_type": "code",
   "execution_count": null,
   "id": "0b5a3cdb",
   "metadata": {},
   "outputs": [],
   "source": [
    "# inspect.getcomments(my_func)\n",
    "# inspect.signature(my_func)\n",
    "#inspect.getsource() # to get entire code of function\n",
    "\n",
    "\n",
    "\n",
    "# sig = inspect.signature(my_func)\n",
    "# sig.parameters\n",
    "# sig.parameters.items()"
   ]
  },
  {
   "cell_type": "code",
   "execution_count": null,
   "id": "58fba8c1",
   "metadata": {},
   "outputs": [],
   "source": [
    "my_func.__doc__\n",
    "my_func.__annotations__\n",
    "my_func.short_description =''\n",
    "dir(my_func)"
   ]
  },
  {
   "cell_type": "code",
   "execution_count": null,
   "id": "93277cac",
   "metadata": {},
   "outputs": [],
   "source": [
    "isfunction()\n",
    "ismethod()\n",
    "isroutine()"
   ]
  },
  {
   "cell_type": "markdown",
   "id": "8a7caac0",
   "metadata": {},
   "source": [
    "# Callables\n",
    "Any object that can be called using () operator"
   ]
  },
  {
   "cell_type": "code",
   "execution_count": 1,
   "id": "d43bb8fe",
   "metadata": {},
   "outputs": [
    {
     "data": {
      "text/plain": [
       "True"
      ]
     },
     "execution_count": 1,
     "metadata": {},
     "output_type": "execute_result"
    }
   ],
   "source": [
    "callable(print)"
   ]
  },
  {
   "cell_type": "code",
   "execution_count": null,
   "id": "5907d2bb",
   "metadata": {},
   "outputs": [],
   "source": [
    "# callables always return a value\n",
    "# funcitons & methods\n",
    "# many others object that are callable"
   ]
  },
  {
   "cell_type": "code",
   "execution_count": 2,
   "id": "35920b54",
   "metadata": {},
   "outputs": [
    {
     "data": {
      "text/plain": [
       "True"
      ]
     },
     "execution_count": 2,
     "metadata": {},
     "output_type": "execute_result"
    }
   ],
   "source": [
    "callable('abc'.upper)"
   ]
  },
  {
   "cell_type": "code",
   "execution_count": 3,
   "id": "966cc916",
   "metadata": {},
   "outputs": [
    {
     "data": {
      "text/plain": [
       "True"
      ]
     },
     "execution_count": 3,
     "metadata": {},
     "output_type": "execute_result"
    }
   ],
   "source": [
    "callable(str.upper)"
   ]
  },
  {
   "cell_type": "code",
   "execution_count": 4,
   "id": "e55e0129",
   "metadata": {},
   "outputs": [
    {
     "data": {
      "text/plain": [
       "False"
      ]
     },
     "execution_count": 4,
     "metadata": {},
     "output_type": "execute_result"
    }
   ],
   "source": [
    "callable(10) # 10 is not callable"
   ]
  },
  {
   "cell_type": "code",
   "execution_count": 6,
   "id": "045b09d7",
   "metadata": {},
   "outputs": [],
   "source": [
    "# Different types of callables\n",
    "# built-in functions\n",
    "# built-in methods\n",
    "# UDF\n",
    "# methods\n",
    "# classes\n",
    "# class instances\n",
    "# generators, coroutines etc."
   ]
  },
  {
   "cell_type": "markdown",
   "id": "c80323e7",
   "metadata": {},
   "source": [
    "# Map, filter, zip & list comprehension"
   ]
  },
  {
   "cell_type": "code",
   "execution_count": null,
   "id": "a11dde88",
   "metadata": {},
   "outputs": [],
   "source": [
    "# Higher order function - function that can take another function as parameter"
   ]
  },
  {
   "cell_type": "code",
   "execution_count": null,
   "id": "d0f0958f",
   "metadata": {},
   "outputs": [],
   "source": [
    "# map(func, *iterables) -> returns a iterator"
   ]
  },
  {
   "cell_type": "code",
   "execution_count": 7,
   "id": "a8e005e5",
   "metadata": {},
   "outputs": [
    {
     "data": {
      "text/plain": [
       "[1, 4, 9]"
      ]
     },
     "execution_count": 7,
     "metadata": {},
     "output_type": "execute_result"
    }
   ],
   "source": [
    "l = [1,2,3]\n",
    "def sq(x):\n",
    "    return x**2\n",
    "list(map(sq,l))"
   ]
  },
  {
   "cell_type": "code",
   "execution_count": 9,
   "id": "9b7645d0",
   "metadata": {},
   "outputs": [
    {
     "data": {
      "text/plain": [
       "[22, 33, 44]"
      ]
     },
     "execution_count": 9,
     "metadata": {},
     "output_type": "execute_result"
    }
   ],
   "source": [
    "l1 = [2,3,4]\n",
    "l2 = [20,30,40]\n",
    "\n",
    "def add(x,y):\n",
    "    return x+y\n",
    "\n",
    "list(map(add,l1,l2))"
   ]
  },
  {
   "cell_type": "code",
   "execution_count": 10,
   "id": "e3aa17bc",
   "metadata": {},
   "outputs": [
    {
     "data": {
      "text/plain": [
       "[22, 33]"
      ]
     },
     "execution_count": 10,
     "metadata": {},
     "output_type": "execute_result"
    }
   ],
   "source": [
    "l1 = [2,3,4]\n",
    "l2 = [20,30]\n",
    "\n",
    "def add(x,y):\n",
    "    return x+y\n",
    "\n",
    "list(map(add,l1,l2))"
   ]
  },
  {
   "cell_type": "code",
   "execution_count": 11,
   "id": "f5886ab5",
   "metadata": {},
   "outputs": [
    {
     "data": {
      "text/plain": [
       "[22, 33]"
      ]
     },
     "execution_count": 11,
     "metadata": {},
     "output_type": "execute_result"
    }
   ],
   "source": [
    "list(map(lambda x,y:x+y,l1,l2))"
   ]
  },
  {
   "cell_type": "code",
   "execution_count": null,
   "id": "436d4977",
   "metadata": {},
   "outputs": [],
   "source": [
    "# filter \n",
    "# filter(func, iterable) -> takes single iterable unlike map which can take multiple iterables"
   ]
  },
  {
   "cell_type": "code",
   "execution_count": 12,
   "id": "2caa4918",
   "metadata": {},
   "outputs": [
    {
     "data": {
      "text/plain": [
       "[1, 2, 3, 4]"
      ]
     },
     "execution_count": 12,
     "metadata": {},
     "output_type": "execute_result"
    }
   ],
   "source": [
    "l =[0,1,2,3,4]\n",
    "list(filter(None,l)) # 0 is false "
   ]
  },
  {
   "cell_type": "code",
   "execution_count": 14,
   "id": "d6b3bc54",
   "metadata": {},
   "outputs": [
    {
     "data": {
      "text/plain": [
       "[0, 2, 4]"
      ]
     },
     "execution_count": 14,
     "metadata": {},
     "output_type": "execute_result"
    }
   ],
   "source": [
    "def is_even(n):\n",
    "    return n%2==0\n",
    "list(filter(is_even,l))"
   ]
  },
  {
   "cell_type": "code",
   "execution_count": 17,
   "id": "815c992b",
   "metadata": {},
   "outputs": [
    {
     "data": {
      "text/plain": [
       "[(1, 5), (2, 6), (3, 7), (4, 8)]"
      ]
     },
     "execution_count": 17,
     "metadata": {},
     "output_type": "execute_result"
    }
   ],
   "source": [
    "# zip function\n",
    "# zip(*iterables)\n",
    "\n",
    "l1 = [1,2,3,4]\n",
    "l2 = [5,6,7,8]\n",
    "list(zip(l1,l2))"
   ]
  },
  {
   "cell_type": "code",
   "execution_count": 18,
   "id": "ac7fc9d2",
   "metadata": {},
   "outputs": [
    {
     "data": {
      "text/plain": [
       "[0, 1, 4, 9, 16]"
      ]
     },
     "execution_count": 18,
     "metadata": {},
     "output_type": "execute_result"
    }
   ],
   "source": [
    "[x**2 for x in l] # list comprehension"
   ]
  },
  {
   "cell_type": "markdown",
   "id": "c5409d35",
   "metadata": {},
   "source": [
    "# Reducing functions"
   ]
  },
  {
   "cell_type": "code",
   "execution_count": 19,
   "id": "6344b15d",
   "metadata": {},
   "outputs": [],
   "source": [
    "from functools import reduce"
   ]
  },
  {
   "cell_type": "code",
   "execution_count": 21,
   "id": "f0c689b9",
   "metadata": {},
   "outputs": [
    {
     "data": {
      "text/plain": [
       "76"
      ]
     },
     "execution_count": 21,
     "metadata": {},
     "output_type": "execute_result"
    }
   ],
   "source": [
    "l = [76,6,7,8,9]\n",
    "reduce(lambda a,b: a if a>b else b,l)"
   ]
  },
  {
   "cell_type": "code",
   "execution_count": null,
   "id": "04e7e7bb",
   "metadata": {},
   "outputs": [],
   "source": [
    "# built in reducing functions\n",
    "# join\n",
    "# min\n",
    "# max\n",
    "# sum\n",
    "# any\n",
    "# all"
   ]
  },
  {
   "cell_type": "markdown",
   "id": "95989ede",
   "metadata": {},
   "source": [
    "# Partial functions"
   ]
  },
  {
   "cell_type": "code",
   "execution_count": null,
   "id": "a0802ac6",
   "metadata": {},
   "outputs": [],
   "source": [
    "# reduce the number of arguments that functions takes"
   ]
  },
  {
   "cell_type": "code",
   "execution_count": 22,
   "id": "84455cbd",
   "metadata": {},
   "outputs": [],
   "source": [
    "def my_func(a,b,c):\n",
    "    print(a,b,c)\n",
    "    \n",
    "def func(b,c):   # reduce number of arguments\n",
    "    return my_func(10,b,c)"
   ]
  },
  {
   "cell_type": "code",
   "execution_count": 23,
   "id": "664698db",
   "metadata": {},
   "outputs": [
    {
     "name": "stdout",
     "output_type": "stream",
     "text": [
      "10 1 2\n"
     ]
    }
   ],
   "source": [
    "func(1,2)"
   ]
  },
  {
   "cell_type": "code",
   "execution_count": 24,
   "id": "3a8d45e9",
   "metadata": {},
   "outputs": [],
   "source": [
    "from functools import partial"
   ]
  },
  {
   "cell_type": "code",
   "execution_count": 25,
   "id": "3293fe7d",
   "metadata": {},
   "outputs": [],
   "source": [
    "f = partial(my_func, 10)"
   ]
  },
  {
   "cell_type": "code",
   "execution_count": 26,
   "id": "5e52ffb2",
   "metadata": {},
   "outputs": [
    {
     "name": "stdout",
     "output_type": "stream",
     "text": [
      "10 1 2\n"
     ]
    }
   ],
   "source": [
    "f(1,2)"
   ]
  },
  {
   "cell_type": "code",
   "execution_count": 27,
   "id": "fb393b9e",
   "metadata": {},
   "outputs": [],
   "source": [
    "def pow(base, exponent):\n",
    "    return base** exponent"
   ]
  },
  {
   "cell_type": "code",
   "execution_count": 31,
   "id": "3501a830",
   "metadata": {},
   "outputs": [],
   "source": [
    "sq = partial(pow, exponent = 2)\n",
    "cb = partial(pow, exponent = 3)"
   ]
  },
  {
   "cell_type": "code",
   "execution_count": 30,
   "id": "46c2f673",
   "metadata": {},
   "outputs": [
    {
     "data": {
      "text/plain": [
       "9"
      ]
     },
     "execution_count": 30,
     "metadata": {},
     "output_type": "execute_result"
    }
   ],
   "source": [
    "sq(3)"
   ]
  },
  {
   "cell_type": "code",
   "execution_count": 32,
   "id": "8419b2d5",
   "metadata": {},
   "outputs": [
    {
     "data": {
      "text/plain": [
       "27"
      ]
     },
     "execution_count": 32,
     "metadata": {},
     "output_type": "execute_result"
    }
   ],
   "source": [
    "cb(3)"
   ]
  },
  {
   "cell_type": "markdown",
   "id": "48840a31",
   "metadata": {},
   "source": [
    "# Operator module"
   ]
  },
  {
   "cell_type": "code",
   "execution_count": 39,
   "id": "a155a946",
   "metadata": {},
   "outputs": [],
   "source": [
    "# arithmetic function\n",
    "\n",
    "\n",
    "from operator import add, mul, pow, mod, floordiv, neg"
   ]
  },
  {
   "cell_type": "code",
   "execution_count": 34,
   "id": "d62f4b2b",
   "metadata": {},
   "outputs": [
    {
     "data": {
      "text/plain": [
       "3"
      ]
     },
     "execution_count": 34,
     "metadata": {},
     "output_type": "execute_result"
    }
   ],
   "source": [
    "add(1,2)"
   ]
  },
  {
   "cell_type": "code",
   "execution_count": 37,
   "id": "096ad25b",
   "metadata": {},
   "outputs": [
    {
     "data": {
      "text/plain": [
       "6"
      ]
     },
     "execution_count": 37,
     "metadata": {},
     "output_type": "execute_result"
    }
   ],
   "source": [
    "mul(2,3)"
   ]
  },
  {
   "cell_type": "code",
   "execution_count": 48,
   "id": "b7f75c21",
   "metadata": {},
   "outputs": [],
   "source": [
    "# comparison and boolean operator\n",
    "\n",
    "\n",
    "from operator import lt, le, is_"
   ]
  },
  {
   "cell_type": "code",
   "execution_count": 43,
   "id": "f04c97fd",
   "metadata": {},
   "outputs": [
    {
     "data": {
      "text/plain": [
       "True"
      ]
     },
     "execution_count": 43,
     "metadata": {},
     "output_type": "execute_result"
    }
   ],
   "source": [
    "lt(1,3)"
   ]
  },
  {
   "cell_type": "code",
   "execution_count": 45,
   "id": "6e11f654",
   "metadata": {},
   "outputs": [
    {
     "data": {
      "text/plain": [
       "True"
      ]
     },
     "execution_count": 45,
     "metadata": {},
     "output_type": "execute_result"
    }
   ],
   "source": [
    "is_(1,1)"
   ]
  },
  {
   "cell_type": "code",
   "execution_count": 46,
   "id": "e5a5dd06",
   "metadata": {},
   "outputs": [
    {
     "data": {
      "text/plain": [
       "False"
      ]
     },
     "execution_count": 46,
     "metadata": {},
     "output_type": "execute_result"
    }
   ],
   "source": [
    "is_(1,2)"
   ]
  },
  {
   "cell_type": "code",
   "execution_count": 49,
   "id": "973d2609",
   "metadata": {},
   "outputs": [],
   "source": [
    "# sequence/mapping operators"
   ]
  },
  {
   "cell_type": "code",
   "execution_count": 62,
   "id": "246a12f5",
   "metadata": {},
   "outputs": [],
   "source": [
    "from operator import concat, contains, countOf, getitem, setitem, delitem, itemgetter, attrgetter"
   ]
  },
  {
   "cell_type": "code",
   "execution_count": 53,
   "id": "f52680cc",
   "metadata": {},
   "outputs": [
    {
     "data": {
      "text/plain": [
       "True"
      ]
     },
     "execution_count": 53,
     "metadata": {},
     "output_type": "execute_result"
    }
   ],
   "source": [
    "contains('python', 't')"
   ]
  },
  {
   "cell_type": "code",
   "execution_count": 55,
   "id": "b80f07dd",
   "metadata": {},
   "outputs": [
    {
     "data": {
      "text/plain": [
       "'t'"
      ]
     },
     "execution_count": 55,
     "metadata": {},
     "output_type": "execute_result"
    }
   ],
   "source": [
    "getitem('python',2)"
   ]
  },
  {
   "cell_type": "code",
   "execution_count": 59,
   "id": "13cd9a95",
   "metadata": {},
   "outputs": [
    {
     "data": {
      "text/plain": [
       "'t'"
      ]
     },
     "execution_count": 59,
     "metadata": {},
     "output_type": "execute_result"
    }
   ],
   "source": [
    "# itemgetter  returns callable\n",
    "\n",
    "f = itemgetter(2)\n",
    "f('python')   "
   ]
  },
  {
   "cell_type": "code",
   "execution_count": 60,
   "id": "ec74008c",
   "metadata": {},
   "outputs": [
    {
     "data": {
      "text/plain": [
       "('p', 'y', 't')"
      ]
     },
     "execution_count": 60,
     "metadata": {},
     "output_type": "execute_result"
    }
   ],
   "source": [
    "f = itemgetter(0,1,2)\n",
    "f('python') "
   ]
  },
  {
   "cell_type": "code",
   "execution_count": 63,
   "id": "e4b40392",
   "metadata": {},
   "outputs": [
    {
     "data": {
      "text/plain": [
       "<function str.upper()>"
      ]
     },
     "execution_count": 63,
     "metadata": {},
     "output_type": "execute_result"
    }
   ],
   "source": [
    "# attrgetter return callable\n",
    "\n",
    "s = 'python'\n",
    "f = attrgetter('upper')\n",
    "f(s) # just returns callable"
   ]
  },
  {
   "cell_type": "code",
   "execution_count": 64,
   "id": "916e1fd4",
   "metadata": {},
   "outputs": [
    {
     "data": {
      "text/plain": [
       "'PYTHON'"
      ]
     },
     "execution_count": 64,
     "metadata": {},
     "output_type": "execute_result"
    }
   ],
   "source": [
    "f(s)() # call the method to get upper of s"
   ]
  },
  {
   "cell_type": "code",
   "execution_count": 65,
   "id": "13723c3f",
   "metadata": {},
   "outputs": [
    {
     "data": {
      "text/plain": [
       "'PYTHON'"
      ]
     },
     "execution_count": 65,
     "metadata": {},
     "output_type": "execute_result"
    }
   ],
   "source": [
    "attrgetter('upper')(s)() # call in one line"
   ]
  },
  {
   "cell_type": "code",
   "execution_count": null,
   "id": "c4926421",
   "metadata": {},
   "outputs": [],
   "source": []
  }
 ],
 "metadata": {
  "kernelspec": {
   "display_name": "Python 3 (ipykernel)",
   "language": "python",
   "name": "python3"
  },
  "language_info": {
   "codemirror_mode": {
    "name": "ipython",
    "version": 3
   },
   "file_extension": ".py",
   "mimetype": "text/x-python",
   "name": "python",
   "nbconvert_exporter": "python",
   "pygments_lexer": "ipython3",
   "version": "3.11.4"
  }
 },
 "nbformat": 4,
 "nbformat_minor": 5
}
