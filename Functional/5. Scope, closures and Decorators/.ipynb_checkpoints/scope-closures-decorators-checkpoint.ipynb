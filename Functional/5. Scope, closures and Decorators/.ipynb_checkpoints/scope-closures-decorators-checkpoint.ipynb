{
 "cells": [
  {
   "cell_type": "markdown",
   "id": "174ad192",
   "metadata": {},
   "source": [
    "# Scope"
   ]
  },
  {
   "cell_type": "code",
   "execution_count": null,
   "id": "0b1697c7",
   "metadata": {},
   "outputs": [],
   "source": [
    "# Global and local scope\n",
    "# name and object are bound to only certain section of code\n",
    "# binding -> lexical scope\n",
    "# binding are stored in namespaces"
   ]
  },
  {
   "cell_type": "code",
   "execution_count": null,
   "id": "5336e2f3",
   "metadata": {},
   "outputs": [],
   "source": [
    "#Global scope \n",
    "    # module scope\n",
    "    # span to single file only\n",
    "    # built-in globally available object - True, False, print etc.\n",
    "    \n",
    "    "
   ]
  },
  {
   "cell_type": "code",
   "execution_count": 6,
   "id": "0527886d",
   "metadata": {},
   "outputs": [
    {
     "name": "stdout",
     "output_type": "stream",
     "text": [
      "out of function 0\n"
     ]
    }
   ],
   "source": [
    "a = 0\n",
    "def my_func():\n",
    "    a = 100\n",
    "    print('in function ',a)\n",
    "print('out of function',a) "
   ]
  },
  {
   "cell_type": "code",
   "execution_count": 7,
   "id": "3c884578",
   "metadata": {},
   "outputs": [
    {
     "name": "stdout",
     "output_type": "stream",
     "text": [
      "in function  100\n"
     ]
    }
   ],
   "source": [
    "my_func()"
   ]
  },
  {
   "cell_type": "code",
   "execution_count": 8,
   "id": "4d80f2d6",
   "metadata": {},
   "outputs": [
    {
     "name": "stdout",
     "output_type": "stream",
     "text": [
      "0\n"
     ]
    }
   ],
   "source": [
    "print(a)"
   ]
  },
  {
   "cell_type": "code",
   "execution_count": null,
   "id": "9cf6e7fd",
   "metadata": {},
   "outputs": [],
   "source": [
    "# global keyword"
   ]
  },
  {
   "cell_type": "code",
   "execution_count": 1,
   "id": "65478a84",
   "metadata": {},
   "outputs": [
    {
     "name": "stdout",
     "output_type": "stream",
     "text": [
      "out of function 0\n"
     ]
    }
   ],
   "source": [
    "a = 0\n",
    "def my_func():\n",
    "    global a # to refer global variable\n",
    "    a = 100\n",
    "    print('in function ',a)\n",
    "print('out of function',a)    "
   ]
  },
  {
   "cell_type": "code",
   "execution_count": 2,
   "id": "d1ab9bcd",
   "metadata": {},
   "outputs": [
    {
     "name": "stdout",
     "output_type": "stream",
     "text": [
      "in function  100\n"
     ]
    }
   ],
   "source": [
    "my_func()"
   ]
  },
  {
   "cell_type": "code",
   "execution_count": 3,
   "id": "b444832d",
   "metadata": {},
   "outputs": [
    {
     "name": "stdout",
     "output_type": "stream",
     "text": [
      "100\n"
     ]
    }
   ],
   "source": [
    "print(a)"
   ]
  },
  {
   "cell_type": "markdown",
   "id": "99ef6014",
   "metadata": {},
   "source": [
    "# NonLocal funciton"
   ]
  },
  {
   "cell_type": "code",
   "execution_count": 9,
   "id": "aa8ef660",
   "metadata": {},
   "outputs": [
    {
     "name": "stdout",
     "output_type": "stream",
     "text": [
      "10\n"
     ]
    }
   ],
   "source": [
    "a = 10 \n",
    "def outer_func():\n",
    "    print(a)\n",
    "    \n",
    "outer_func()    "
   ]
  },
  {
   "cell_type": "code",
   "execution_count": 10,
   "id": "b2389f69",
   "metadata": {},
   "outputs": [
    {
     "name": "stdout",
     "output_type": "stream",
     "text": [
      "10\n"
     ]
    }
   ],
   "source": [
    "a = 10 \n",
    "def outer_func():\n",
    "    a = 10 \n",
    "    def inner_func():\n",
    "        print(a)\n",
    "        \n",
    "    inner_func()\n",
    "    \n",
    "outer_func()    "
   ]
  },
  {
   "cell_type": "code",
   "execution_count": 11,
   "id": "b09a8739",
   "metadata": {},
   "outputs": [
    {
     "name": "stdout",
     "output_type": "stream",
     "text": [
      "1000\n",
      "1000\n"
     ]
    }
   ],
   "source": [
    "a = 10 \n",
    "def outer_func():\n",
    "    global a\n",
    "    a = 1000\n",
    "    print(a)\n",
    "    \n",
    "outer_func()\n",
    "print(a)"
   ]
  },
  {
   "cell_type": "code",
   "execution_count": 14,
   "id": "bd54e061",
   "metadata": {},
   "outputs": [
    {
     "name": "stdout",
     "output_type": "stream",
     "text": [
      "10\n",
      "hello\n",
      "hello\n"
     ]
    }
   ],
   "source": [
    "a = 10 \n",
    "def outer_func():\n",
    "    a = 10 \n",
    "    print(a)\n",
    "    def inner_func():\n",
    "        global a \n",
    "        a = 'hello'\n",
    "        print(a)\n",
    "        \n",
    "    inner_func()\n",
    "    \n",
    "outer_func()\n",
    "print(a)"
   ]
  },
  {
   "cell_type": "code",
   "execution_count": 16,
   "id": "70a6f1e3",
   "metadata": {},
   "outputs": [
    {
     "name": "stdout",
     "output_type": "stream",
     "text": [
      "hello\n"
     ]
    }
   ],
   "source": [
    "def outer_func():\n",
    "    x = 'hello'\n",
    "    \n",
    "    def inner_func():\n",
    "        x = 'python' \n",
    "        \n",
    "    inner_func()\n",
    "    print(x)\n",
    "    \n",
    "outer_func()\n"
   ]
  },
  {
   "cell_type": "code",
   "execution_count": 19,
   "id": "e334d657",
   "metadata": {},
   "outputs": [
    {
     "name": "stdout",
     "output_type": "stream",
     "text": [
      "python\n"
     ]
    }
   ],
   "source": [
    "def outer():\n",
    "    x = 'hello'\n",
    "    \n",
    "    def inner1():\n",
    "        def inner2():\n",
    "            nonlocal x\n",
    "            x = 'python'\n",
    "        inner2()\n",
    "    inner1()\n",
    "    print(x)\n",
    "outer()    "
   ]
  },
  {
   "cell_type": "code",
   "execution_count": 20,
   "id": "0196565e",
   "metadata": {},
   "outputs": [
    {
     "name": "stdout",
     "output_type": "stream",
     "text": [
      "inner(before) python\n",
      "inner(before) language\n",
      "hello\n"
     ]
    }
   ],
   "source": [
    "def outer():\n",
    "    x = 'hello'\n",
    "    \n",
    "    def inner1():\n",
    "        x = 'python'\n",
    "        def inner2():\n",
    "            nonlocal x\n",
    "            x = 'language'\n",
    "        print('inner(before)',x)    \n",
    "        inner2()\n",
    "        print('inner(before)',x) \n",
    "    inner1()\n",
    "    print(x)\n",
    "outer() "
   ]
  },
  {
   "cell_type": "markdown",
   "id": "bd73dac0",
   "metadata": {},
   "source": [
    "# Closures"
   ]
  },
  {
   "cell_type": "code",
   "execution_count": 23,
   "id": "9f5c3df2",
   "metadata": {},
   "outputs": [],
   "source": [
    "def outer():\n",
    "    \n",
    "####################################  \n",
    "## this is closure\n",
    "\n",
    "\n",
    "##  x is free variable in inner it is bound to the variable x \n",
    "## in outer this happens when outer runs (i.e. when inner is created)\n",
    "## this the closure\n",
    "    x = 'python'\n",
    "    \n",
    "    def inner():\n",
    "        print(\"{0} rocks!\".format(x))\n",
    "        \n",
    "        \n",
    "####################################        \n",
    "        \n",
    "    \n",
    "    \n",
    "    return inner # when we return inner, we are actually returning the closure"
   ]
  },
  {
   "cell_type": "code",
   "execution_count": 24,
   "id": "c393a1c3",
   "metadata": {},
   "outputs": [],
   "source": [
    "fn = outer()"
   ]
  },
  {
   "cell_type": "code",
   "execution_count": 25,
   "id": "5f425470",
   "metadata": {},
   "outputs": [
    {
     "name": "stdout",
     "output_type": "stream",
     "text": [
      "python rocks!\n"
     ]
    }
   ],
   "source": [
    "fn() # when we called fn at that time python determine the value of x in the extended scope\n",
    "# but notice that outer had finished running before we called fn - its scope was \"gone\""
   ]
  },
  {
   "cell_type": "code",
   "execution_count": 26,
   "id": "d6b468d6",
   "metadata": {},
   "outputs": [],
   "source": [
    "# python cells and multi-scoped variables\n",
    "\n",
    "\n",
    "def outer():\n",
    "    x = 'python' \n",
    "    # here the value of x is shared between 2 scopes - outer function & closure i.e. inner function\n",
    "    # label x is in 2 different scope but always reference the same \"value\"\n",
    "    # python does this by creating a cell as an intermediary object\n",
    "    # outer and inner scope x points to intermidiate cell which further points to str object of 'python'\n",
    "    # when requesting the value of variable, Python will \"double-hop\" to get to final value\n",
    "    \n",
    "    def inner():\n",
    "        print(x)\n",
    "    return inner     "
   ]
  },
  {
   "cell_type": "code",
   "execution_count": null,
   "id": "f2e20ef9",
   "metadata": {},
   "outputs": [],
   "source": [
    "# can think of closures as a function plus an extended scope that contains the free variables\n",
    "# free variable's value is the object the cell points to - so that could change over time.\n",
    "# everytime the funciton in the closure is called and the free variable is refernced.\n"
   ]
  },
  {
   "cell_type": "code",
   "execution_count": 28,
   "id": "303fd6d8",
   "metadata": {},
   "outputs": [],
   "source": [
    "# introspection"
   ]
  },
  {
   "cell_type": "code",
   "execution_count": 29,
   "id": "a411a546",
   "metadata": {},
   "outputs": [],
   "source": [
    "def outer():\n",
    "    a = 100\n",
    "    x = 'python'\n",
    "    \n",
    "    def inner():\n",
    "        a = 10\n",
    "        print(\"{0} rocks!\".format(x))\n",
    "        \n",
    "    return inner\n",
    "\n",
    "fn = outer()\n",
    "\n"
   ]
  },
  {
   "cell_type": "code",
   "execution_count": 30,
   "id": "3c5eaa75",
   "metadata": {},
   "outputs": [
    {
     "data": {
      "text/plain": [
       "('x',)"
      ]
     },
     "execution_count": 30,
     "metadata": {},
     "output_type": "execute_result"
    }
   ],
   "source": [
    "fn.__code__.co_freevars # a is not free variable "
   ]
  },
  {
   "cell_type": "code",
   "execution_count": 31,
   "id": "41a31652",
   "metadata": {},
   "outputs": [
    {
     "data": {
      "text/plain": [
       "(<cell at 0x1114dada0: str object at 0x10f722030>,)"
      ]
     },
     "execution_count": 31,
     "metadata": {},
     "output_type": "execute_result"
    }
   ],
   "source": [
    "fn.__closure__ # cel object at memory address i.e. intermidiate cell object"
   ]
  },
  {
   "cell_type": "code",
   "execution_count": 33,
   "id": "0c0acb36",
   "metadata": {},
   "outputs": [
    {
     "name": "stdout",
     "output_type": "stream",
     "text": [
      "0x10f722030\n",
      "0x10f722030\n",
      "python rocks!\n"
     ]
    }
   ],
   "source": [
    "def outer():\n",
    "    x = 'python'\n",
    "    print(hex(id(x))) # indirect reference\n",
    "    def inner():\n",
    "        print(hex(id(x))) # indirect reference\n",
    "        print(\"{0} rocks!\".format(x))\n",
    "    return inner\n",
    "fn = outer()\n",
    "fn() # scope of x is different but points to same address as it created intermidiate cell \n",
    "     # which further points to object with string in x"
   ]
  },
  {
   "cell_type": "code",
   "execution_count": 34,
   "id": "8450c1e1",
   "metadata": {},
   "outputs": [
    {
     "data": {
      "text/plain": [
       "1"
      ]
     },
     "execution_count": 34,
     "metadata": {},
     "output_type": "execute_result"
    }
   ],
   "source": [
    "# modifying free variables\n",
    "\n",
    "def counter():\n",
    "    \n",
    "    count = 0\n",
    "    def inc():\n",
    "        nonlocal count\n",
    "        count+=1\n",
    "        return count\n",
    "    \n",
    "    \n",
    "    return inc\n",
    "\n",
    "\n",
    "fn = counter()\n",
    "fn() # count indirect refernce change from 0 to 1"
   ]
  },
  {
   "cell_type": "code",
   "execution_count": 35,
   "id": "e207f178",
   "metadata": {},
   "outputs": [],
   "source": [
    "# mutliple instances of closures\n",
    "\n",
    "# everytime we run a funciton, a new scope is created\n",
    "# if that function generates a closure, a new closure is created every time as well"
   ]
  },
  {
   "cell_type": "code",
   "execution_count": 36,
   "id": "0fa1ea1e",
   "metadata": {},
   "outputs": [],
   "source": [
    "f1 = counter()\n",
    "f2 = counter()"
   ]
  },
  {
   "cell_type": "code",
   "execution_count": 37,
   "id": "fc6d2770",
   "metadata": {},
   "outputs": [
    {
     "data": {
      "text/plain": [
       "1"
      ]
     },
     "execution_count": 37,
     "metadata": {},
     "output_type": "execute_result"
    }
   ],
   "source": [
    "f1()"
   ]
  },
  {
   "cell_type": "code",
   "execution_count": 38,
   "id": "49c1b356",
   "metadata": {},
   "outputs": [
    {
     "data": {
      "text/plain": [
       "2"
      ]
     },
     "execution_count": 38,
     "metadata": {},
     "output_type": "execute_result"
    }
   ],
   "source": [
    "f1()"
   ]
  },
  {
   "cell_type": "code",
   "execution_count": 39,
   "id": "963b26ca",
   "metadata": {},
   "outputs": [
    {
     "data": {
      "text/plain": [
       "1"
      ]
     },
     "execution_count": 39,
     "metadata": {},
     "output_type": "execute_result"
    }
   ],
   "source": [
    "f2()"
   ]
  },
  {
   "cell_type": "code",
   "execution_count": 40,
   "id": "85948c30",
   "metadata": {},
   "outputs": [],
   "source": [
    "# shared free variable\n",
    "# shared extended scope\n",
    "\n",
    "def outer():\n",
    "    \n",
    "    count = 0\n",
    "    \n",
    "    def inc1():\n",
    "        nonlocal count\n",
    "        count+=1\n",
    "        return count\n",
    "    \n",
    "    def inc2():\n",
    "        nonlocal count\n",
    "        count+=1\n",
    "        return count\n",
    "    \n",
    "    return inc1,inc2"
   ]
  },
  {
   "cell_type": "code",
   "execution_count": 41,
   "id": "65eee7af",
   "metadata": {},
   "outputs": [],
   "source": [
    "f1, f2 = outer()"
   ]
  },
  {
   "cell_type": "code",
   "execution_count": 42,
   "id": "978443f8",
   "metadata": {},
   "outputs": [
    {
     "data": {
      "text/plain": [
       "1"
      ]
     },
     "execution_count": 42,
     "metadata": {},
     "output_type": "execute_result"
    }
   ],
   "source": [
    "f1()"
   ]
  },
  {
   "cell_type": "code",
   "execution_count": 43,
   "id": "8c1e50c5",
   "metadata": {},
   "outputs": [
    {
     "data": {
      "text/plain": [
       "2"
      ]
     },
     "execution_count": 43,
     "metadata": {},
     "output_type": "execute_result"
    }
   ],
   "source": [
    "f2()"
   ]
  },
  {
   "cell_type": "code",
   "execution_count": 44,
   "id": "d6ea74b5",
   "metadata": {},
   "outputs": [],
   "source": [
    "# nested closures\n",
    "\n",
    "def incrementer(n):\n",
    "    \n",
    "    def inner(start):\n",
    "        \n",
    "        current = start\n",
    "        \n",
    "        def inc():\n",
    "            nonlocal current\n",
    "            current+=n\n",
    "            return current\n",
    "        \n",
    "        return inc\n",
    "    return inner\n",
    "\n",
    "fn = incrementer(2)"
   ]
  },
  {
   "cell_type": "code",
   "execution_count": 45,
   "id": "81c4877e",
   "metadata": {},
   "outputs": [
    {
     "data": {
      "text/plain": [
       "('n',)"
      ]
     },
     "execution_count": 45,
     "metadata": {},
     "output_type": "execute_result"
    }
   ],
   "source": [
    "fn.__code__.co_freevars"
   ]
  },
  {
   "cell_type": "code",
   "execution_count": 46,
   "id": "63b8efcb",
   "metadata": {},
   "outputs": [],
   "source": [
    "inc_2 = fn(100)"
   ]
  },
  {
   "cell_type": "code",
   "execution_count": 47,
   "id": "c799de97",
   "metadata": {},
   "outputs": [
    {
     "data": {
      "text/plain": [
       "('current', 'n')"
      ]
     },
     "execution_count": 47,
     "metadata": {},
     "output_type": "execute_result"
    }
   ],
   "source": [
    "inc_2.__code__.co_freevars"
   ]
  },
  {
   "cell_type": "code",
   "execution_count": 48,
   "id": "e6acf294",
   "metadata": {},
   "outputs": [
    {
     "data": {
      "text/plain": [
       "102"
      ]
     },
     "execution_count": 48,
     "metadata": {},
     "output_type": "execute_result"
    }
   ],
   "source": [
    "inc_2() # current = 100 n = 2"
   ]
  },
  {
   "cell_type": "code",
   "execution_count": 49,
   "id": "d07721b7",
   "metadata": {},
   "outputs": [
    {
     "data": {
      "text/plain": [
       "104"
      ]
     },
     "execution_count": 49,
     "metadata": {},
     "output_type": "execute_result"
    }
   ],
   "source": [
    "inc_2() # current = 102 n = 2"
   ]
  },
  {
   "cell_type": "markdown",
   "id": "1a45df97",
   "metadata": {},
   "source": [
    "# Closure application"
   ]
  },
  {
   "cell_type": "code",
   "execution_count": 54,
   "id": "97841e85",
   "metadata": {},
   "outputs": [],
   "source": [
    "class Averager:\n",
    "    def __init__(self):\n",
    "        self.numbers = []\n",
    "        \n",
    "    def add(self, number):\n",
    "        self.numbers.append(number)\n",
    "        \n",
    "        total = sum(self.numbers)\n",
    "        count = len(self.numbers)\n",
    "        \n",
    "        return total/count"
   ]
  },
  {
   "cell_type": "code",
   "execution_count": 55,
   "id": "9b388890",
   "metadata": {},
   "outputs": [],
   "source": [
    "a = Averager()"
   ]
  },
  {
   "cell_type": "code",
   "execution_count": 56,
   "id": "be5fb569",
   "metadata": {},
   "outputs": [
    {
     "data": {
      "text/plain": [
       "10.0"
      ]
     },
     "execution_count": 56,
     "metadata": {},
     "output_type": "execute_result"
    }
   ],
   "source": [
    "a.add(10)"
   ]
  },
  {
   "cell_type": "code",
   "execution_count": 57,
   "id": "bba9f24d",
   "metadata": {},
   "outputs": [
    {
     "data": {
      "text/plain": [
       "15.0"
      ]
     },
     "execution_count": 57,
     "metadata": {},
     "output_type": "execute_result"
    }
   ],
   "source": [
    "a.add(20)"
   ]
  },
  {
   "cell_type": "code",
   "execution_count": 58,
   "id": "9af10da6",
   "metadata": {},
   "outputs": [],
   "source": [
    "# instead of class, do it using closure"
   ]
  },
  {
   "cell_type": "code",
   "execution_count": 62,
   "id": "f181765c",
   "metadata": {},
   "outputs": [],
   "source": [
    "def averager():\n",
    "    \n",
    "    numbers = []\n",
    "    \n",
    "    def add(number):\n",
    "        numbers.append(number)\n",
    "        \n",
    "        total = sum(numbers)\n",
    "        count = len(numbers)\n",
    "        \n",
    "        return total/count\n",
    "    return add"
   ]
  },
  {
   "cell_type": "code",
   "execution_count": 63,
   "id": "5f81c52f",
   "metadata": {},
   "outputs": [],
   "source": [
    "a = averager()\n"
   ]
  },
  {
   "cell_type": "code",
   "execution_count": 64,
   "id": "52cc4a0c",
   "metadata": {},
   "outputs": [
    {
     "data": {
      "text/plain": [
       "10.0"
      ]
     },
     "execution_count": 64,
     "metadata": {},
     "output_type": "execute_result"
    }
   ],
   "source": [
    "a(10)"
   ]
  },
  {
   "cell_type": "code",
   "execution_count": 65,
   "id": "20422981",
   "metadata": {},
   "outputs": [
    {
     "data": {
      "text/plain": [
       "15.0"
      ]
     },
     "execution_count": 65,
     "metadata": {},
     "output_type": "execute_result"
    }
   ],
   "source": [
    "a(20)"
   ]
  },
  {
   "cell_type": "code",
   "execution_count": 66,
   "id": "0cb8df46",
   "metadata": {},
   "outputs": [],
   "source": [
    "def averager():\n",
    "    \n",
    "    total = 0\n",
    "    count = 0\n",
    "    \n",
    "    \n",
    "    def add(number):\n",
    "        nonlocal total\n",
    "        nonlocal count\n",
    "        total = total + number\n",
    "        count = count + 1\n",
    "        \n",
    "        return total/count\n",
    "    return add"
   ]
  },
  {
   "cell_type": "code",
   "execution_count": 67,
   "id": "f77e4431",
   "metadata": {},
   "outputs": [],
   "source": [
    "a = averager()"
   ]
  },
  {
   "cell_type": "code",
   "execution_count": 68,
   "id": "839e9e40",
   "metadata": {},
   "outputs": [
    {
     "data": {
      "text/plain": [
       "10.0"
      ]
     },
     "execution_count": 68,
     "metadata": {},
     "output_type": "execute_result"
    }
   ],
   "source": [
    "a(10)"
   ]
  },
  {
   "cell_type": "code",
   "execution_count": 69,
   "id": "f8d758d9",
   "metadata": {},
   "outputs": [
    {
     "data": {
      "text/plain": [
       "(<cell at 0x11162f850: int object at 0x10e40cc28>,\n",
       " <cell at 0x11162f310: int object at 0x10e40cd48>)"
      ]
     },
     "execution_count": 69,
     "metadata": {},
     "output_type": "execute_result"
    }
   ],
   "source": [
    "a.__closure__ # 2 cells for count and total"
   ]
  },
  {
   "cell_type": "code",
   "execution_count": 70,
   "id": "109cb069",
   "metadata": {},
   "outputs": [
    {
     "data": {
      "text/plain": [
       "('count', 'total')"
      ]
     },
     "execution_count": 70,
     "metadata": {},
     "output_type": "execute_result"
    }
   ],
   "source": [
    "a.__code__.co_freevars"
   ]
  },
  {
   "cell_type": "code",
   "execution_count": 71,
   "id": "960648d7",
   "metadata": {},
   "outputs": [
    {
     "data": {
      "text/plain": [
       "15.0"
      ]
     },
     "execution_count": 71,
     "metadata": {},
     "output_type": "execute_result"
    }
   ],
   "source": [
    "a(20)"
   ]
  },
  {
   "cell_type": "code",
   "execution_count": 72,
   "id": "c0209fe5",
   "metadata": {},
   "outputs": [],
   "source": [
    "class Averager:\n",
    "    def __init__(self):\n",
    "        self.total = 0\n",
    "        self.count = 0 \n",
    "        \n",
    "    def add(self, number):\n",
    "       \n",
    "        \n",
    "        self.total = self.total + number\n",
    "        self.count = self.count + 1\n",
    "        \n",
    "        return self.total/self.count"
   ]
  },
  {
   "cell_type": "code",
   "execution_count": 73,
   "id": "bf78d306",
   "metadata": {},
   "outputs": [],
   "source": [
    "a = Averager()"
   ]
  },
  {
   "cell_type": "code",
   "execution_count": 75,
   "id": "3a898490",
   "metadata": {},
   "outputs": [
    {
     "data": {
      "text/plain": [
       "10.0"
      ]
     },
     "execution_count": 75,
     "metadata": {},
     "output_type": "execute_result"
    }
   ],
   "source": [
    "a.add(10)"
   ]
  },
  {
   "cell_type": "code",
   "execution_count": 76,
   "id": "77f20c03",
   "metadata": {},
   "outputs": [
    {
     "data": {
      "text/plain": [
       "15.0"
      ]
     },
     "execution_count": 76,
     "metadata": {},
     "output_type": "execute_result"
    }
   ],
   "source": [
    "a.add(20)"
   ]
  },
  {
   "cell_type": "code",
   "execution_count": 78,
   "id": "8b4b4511",
   "metadata": {},
   "outputs": [],
   "source": [
    "from time import perf_counter"
   ]
  },
  {
   "cell_type": "code",
   "execution_count": 85,
   "id": "4db66138",
   "metadata": {},
   "outputs": [],
   "source": [
    "class Timer:\n",
    "    def __init__(self):\n",
    "        self.start = perf_counter()\n",
    "        \n",
    "    def __call__(self):\n",
    "        return perf_counter()-self.start"
   ]
  },
  {
   "cell_type": "code",
   "execution_count": 86,
   "id": "afbfd050",
   "metadata": {},
   "outputs": [],
   "source": [
    "t1 = Timer()"
   ]
  },
  {
   "cell_type": "code",
   "execution_count": 88,
   "id": "bbcde293",
   "metadata": {},
   "outputs": [
    {
     "data": {
      "text/plain": [
       "27.052945250004996"
      ]
     },
     "execution_count": 88,
     "metadata": {},
     "output_type": "execute_result"
    }
   ],
   "source": [
    "t1()"
   ]
  },
  {
   "cell_type": "code",
   "execution_count": 89,
   "id": "a4d75858",
   "metadata": {},
   "outputs": [
    {
     "data": {
      "text/plain": [
       "32.510944562003715"
      ]
     },
     "execution_count": 89,
     "metadata": {},
     "output_type": "execute_result"
    }
   ],
   "source": [
    "t1()"
   ]
  },
  {
   "cell_type": "code",
   "execution_count": 90,
   "id": "f78f962d",
   "metadata": {},
   "outputs": [],
   "source": [
    "def timer():\n",
    "    \n",
    "    start = perf_counter()\n",
    "    \n",
    "    def poll():\n",
    "        return perf_counter()-start\n",
    "    \n",
    "    return poll\n",
    "\n",
    "\n",
    "\n",
    "t2 = timer()   "
   ]
  },
  {
   "cell_type": "code",
   "execution_count": 91,
   "id": "340e94db",
   "metadata": {},
   "outputs": [
    {
     "data": {
      "text/plain": [
       "4.132125803997042"
      ]
     },
     "execution_count": 91,
     "metadata": {},
     "output_type": "execute_result"
    }
   ],
   "source": [
    "t2()"
   ]
  },
  {
   "cell_type": "code",
   "execution_count": 95,
   "id": "cfbe2c32",
   "metadata": {},
   "outputs": [],
   "source": [
    "def counter(inital_val = 0):\n",
    "    \n",
    "    def inc(increment = 1):\n",
    "        nonlocal inital_val\n",
    "        inital_val += increment \n",
    "        return inital_val\n",
    "    \n",
    "    return inc"
   ]
  },
  {
   "cell_type": "code",
   "execution_count": 96,
   "id": "84d64f60",
   "metadata": {},
   "outputs": [],
   "source": [
    "counter1 = counter()"
   ]
  },
  {
   "cell_type": "code",
   "execution_count": 97,
   "id": "2d07ed2a",
   "metadata": {},
   "outputs": [
    {
     "data": {
      "text/plain": [
       "1"
      ]
     },
     "execution_count": 97,
     "metadata": {},
     "output_type": "execute_result"
    }
   ],
   "source": [
    "counter1()"
   ]
  },
  {
   "cell_type": "code",
   "execution_count": 98,
   "id": "b67ed37b",
   "metadata": {},
   "outputs": [
    {
     "data": {
      "text/plain": [
       "2"
      ]
     },
     "execution_count": 98,
     "metadata": {},
     "output_type": "execute_result"
    }
   ],
   "source": [
    "counter1()"
   ]
  },
  {
   "cell_type": "code",
   "execution_count": 104,
   "id": "88c62628",
   "metadata": {},
   "outputs": [],
   "source": [
    "# calc number of times a function ran\n",
    "def counter(fn):\n",
    "    \n",
    "    cnt = 0\n",
    "    \n",
    "    def inner(*args, **kwargs):\n",
    "        nonlocal cnt\n",
    "        cnt+=1\n",
    "        \n",
    "        print('{0} has been called {1} times'.format(fn.__name__, cnt))\n",
    "        return fn(*args, **kwargs)\n",
    "    \n",
    "    return inner"
   ]
  },
  {
   "cell_type": "code",
   "execution_count": 105,
   "id": "b4b780d8",
   "metadata": {},
   "outputs": [],
   "source": [
    "def add(a,b):\n",
    "    return a+b"
   ]
  },
  {
   "cell_type": "code",
   "execution_count": 106,
   "id": "a48fe431",
   "metadata": {},
   "outputs": [],
   "source": [
    "counter_add = counter(add)"
   ]
  },
  {
   "cell_type": "code",
   "execution_count": 107,
   "id": "d9cbe02c",
   "metadata": {},
   "outputs": [
    {
     "data": {
      "text/plain": [
       "(<cell at 0x111630310: int object at 0x10e40cc08>,\n",
       " <cell at 0x111630490: function object at 0x11154b740>)"
      ]
     },
     "execution_count": 107,
     "metadata": {},
     "output_type": "execute_result"
    }
   ],
   "source": [
    "counter_add.__closure__"
   ]
  },
  {
   "cell_type": "code",
   "execution_count": 108,
   "id": "6f01a461",
   "metadata": {},
   "outputs": [
    {
     "name": "stdout",
     "output_type": "stream",
     "text": [
      "add has been called 1 times\n"
     ]
    },
    {
     "data": {
      "text/plain": [
       "3"
      ]
     },
     "execution_count": 108,
     "metadata": {},
     "output_type": "execute_result"
    }
   ],
   "source": [
    "counter_add(1,2)"
   ]
  },
  {
   "cell_type": "code",
   "execution_count": 109,
   "id": "740b7784",
   "metadata": {},
   "outputs": [
    {
     "name": "stdout",
     "output_type": "stream",
     "text": [
      "add has been called 2 times\n"
     ]
    },
    {
     "data": {
      "text/plain": [
       "8"
      ]
     },
     "execution_count": 109,
     "metadata": {},
     "output_type": "execute_result"
    }
   ],
   "source": [
    "counter_add(4,4)"
   ]
  },
  {
   "cell_type": "markdown",
   "id": "b8ee7635",
   "metadata": {},
   "source": [
    "# Decorators"
   ]
  },
  {
   "cell_type": "code",
   "execution_count": null,
   "id": "bb7ce347",
   "metadata": {},
   "outputs": [],
   "source": [
    "# in general decorator function:\n",
    "\n",
    "    # takes a function as an argument\n",
    "    # returns a closure\n",
    "    # the closure usually accepts any combination of parameters\n",
    "    # runs same code in the inner function(closure)\n",
    "    # the closure function calls the original function using the arguments passed to the closure\n",
    "    # returns whatever is returned by that function call    "
   ]
  },
  {
   "cell_type": "code",
   "execution_count": null,
   "id": "ebcdae6c",
   "metadata": {},
   "outputs": [],
   "source": [
    "#function.wrap can be used to fix the metadata of inner function in decorator"
   ]
  },
  {
   "cell_type": "code",
   "execution_count": null,
   "id": "866c02d9",
   "metadata": {},
   "outputs": [],
   "source": [
    "#using closure"
   ]
  },
  {
   "cell_type": "code",
   "execution_count": 130,
   "id": "e9bb7dbb",
   "metadata": {},
   "outputs": [],
   "source": [
    "def counter(fn):\n",
    "    \n",
    "    count = 0\n",
    "    \n",
    "    def inner(*args, **kwargs):\n",
    "        nonlocal count \n",
    "        count+=1\n",
    "        print('Function {0} was called {1} times'.format(fn.__name__,count))\n",
    "        return fn(*args, **kwargs)\n",
    "    \n",
    "    return inner"
   ]
  },
  {
   "cell_type": "code",
   "execution_count": 131,
   "id": "ad67df66",
   "metadata": {},
   "outputs": [],
   "source": [
    "def add(a,b=0):\n",
    "    return a+b"
   ]
  },
  {
   "cell_type": "code",
   "execution_count": 132,
   "id": "94ad4126",
   "metadata": {},
   "outputs": [],
   "source": [
    "counter_add = counter(add)"
   ]
  },
  {
   "cell_type": "code",
   "execution_count": 133,
   "id": "dc9192f9",
   "metadata": {},
   "outputs": [
    {
     "name": "stdout",
     "output_type": "stream",
     "text": [
      "Function add was called 1 times\n"
     ]
    },
    {
     "data": {
      "text/plain": [
       "3"
      ]
     },
     "execution_count": 133,
     "metadata": {},
     "output_type": "execute_result"
    }
   ],
   "source": [
    "counter_add(1,2)"
   ]
  },
  {
   "cell_type": "code",
   "execution_count": null,
   "id": "00e3dc6d",
   "metadata": {},
   "outputs": [],
   "source": [
    "#using decorator"
   ]
  },
  {
   "cell_type": "code",
   "execution_count": 139,
   "id": "1d3dac0d",
   "metadata": {},
   "outputs": [],
   "source": [
    "def counter(fn):\n",
    "    \n",
    "    count = 0\n",
    "    \n",
    "    def inner(*args, **kwargs):\n",
    "        nonlocal count \n",
    "        count+=1\n",
    "        print('Function {0} was called {1} times'.format(fn.__name__,count))\n",
    "        return fn(*args, **kwargs)\n",
    "    # inner.__name__ = fn.__name__\n",
    "    # inner.__doc__ = fn.__doc__\n",
    "    \n",
    "    return inner"
   ]
  },
  {
   "cell_type": "code",
   "execution_count": 140,
   "id": "2e3a2c20",
   "metadata": {},
   "outputs": [],
   "source": [
    "@counter\n",
    "def add(a,b=0):\n",
    "    return a+b"
   ]
  },
  {
   "cell_type": "code",
   "execution_count": 141,
   "id": "b9f7e00d",
   "metadata": {},
   "outputs": [
    {
     "name": "stdout",
     "output_type": "stream",
     "text": [
      "Function add was called 1 times\n"
     ]
    },
    {
     "data": {
      "text/plain": [
       "3"
      ]
     },
     "execution_count": 141,
     "metadata": {},
     "output_type": "execute_result"
    }
   ],
   "source": [
    "add(1,2)"
   ]
  },
  {
   "cell_type": "code",
   "execution_count": 142,
   "id": "27913b33",
   "metadata": {},
   "outputs": [
    {
     "name": "stdout",
     "output_type": "stream",
     "text": [
      "Help on function inner in module __main__:\n",
      "\n",
      "inner(*args, **kwargs)\n",
      "\n"
     ]
    }
   ],
   "source": [
    "help(add) # inner "
   ]
  },
  {
   "cell_type": "code",
   "execution_count": 136,
   "id": "c2dbd464",
   "metadata": {},
   "outputs": [],
   "source": [
    "from functools import wraps"
   ]
  },
  {
   "cell_type": "code",
   "execution_count": 143,
   "id": "0a79ab3a",
   "metadata": {},
   "outputs": [],
   "source": [
    "def counter(fn):\n",
    "    \n",
    "    count = 0\n",
    "    @wraps(fn)\n",
    "    def inner(*args, **kwargs):\n",
    "        nonlocal count \n",
    "        count+=1\n",
    "        print('Function {0} was called {1} times'.format(fn.__name__,count))\n",
    "        return fn(*args, **kwargs)\n",
    "    \n",
    "    \n",
    "    return inner"
   ]
  },
  {
   "cell_type": "code",
   "execution_count": 144,
   "id": "b68c6cc8",
   "metadata": {},
   "outputs": [],
   "source": [
    "@counter\n",
    "def add(a,b=0):\n",
    "    return a+b"
   ]
  },
  {
   "cell_type": "code",
   "execution_count": 145,
   "id": "22f84776",
   "metadata": {},
   "outputs": [
    {
     "name": "stdout",
     "output_type": "stream",
     "text": [
      "Help on function add in module __main__:\n",
      "\n",
      "add(a, b=0)\n",
      "\n"
     ]
    }
   ],
   "source": [
    "help(add) # add "
   ]
  },
  {
   "cell_type": "code",
   "execution_count": null,
   "id": "62f97730",
   "metadata": {},
   "outputs": [],
   "source": [
    "## OR same can be done as follows "
   ]
  },
  {
   "cell_type": "code",
   "execution_count": 146,
   "id": "d2142f10",
   "metadata": {},
   "outputs": [],
   "source": [
    "def counter(fn):\n",
    "    \n",
    "    count = 0\n",
    "    \n",
    "    def inner(*args, **kwargs):\n",
    "        nonlocal count \n",
    "        count+=1\n",
    "        print('Function {0} was called {1} times'.format(fn.__name__,count))\n",
    "        return fn(*args, **kwargs)\n",
    "    \n",
    "    inner = wraps(fn)(inner)\n",
    "    return inner"
   ]
  },
  {
   "cell_type": "code",
   "execution_count": 147,
   "id": "94b69d99",
   "metadata": {},
   "outputs": [],
   "source": [
    "@counter\n",
    "def add(a,b=0):\n",
    "    return a+b"
   ]
  },
  {
   "cell_type": "code",
   "execution_count": 148,
   "id": "74c59640",
   "metadata": {},
   "outputs": [
    {
     "name": "stdout",
     "output_type": "stream",
     "text": [
      "Help on function add in module __main__:\n",
      "\n",
      "add(a, b=0)\n",
      "\n"
     ]
    }
   ],
   "source": [
    "help(add)"
   ]
  },
  {
   "cell_type": "code",
   "execution_count": null,
   "id": "e64992e2",
   "metadata": {},
   "outputs": [],
   "source": [
    "### timer using decorator###"
   ]
  },
  {
   "cell_type": "code",
   "execution_count": 161,
   "id": "b8461269",
   "metadata": {},
   "outputs": [],
   "source": [
    "def timed(fn):\n",
    "    from time import perf_counter\n",
    "    from functools import wraps\n",
    "    \n",
    "    @wraps(fn)\n",
    "    def inner(*args, **kwargs):\n",
    "        start = perf_counter()\n",
    "        result = fn(*args, **kwargs)\n",
    "        end = perf_counter()\n",
    "        elapsed = start - end\n",
    "        \n",
    "        args_ = [str(a) for a in args]\n",
    "        kwargs_ = ['{0} = {1}'.format(k,v) for (k,v) in kwargs.items()]\n",
    "        all_args = args_ + kwargs_\n",
    "        \n",
    "        args_str = ','.join(all_args)\n",
    "        \n",
    "        print('{0}({1}) took {2:.6f}s to run'.format(fn.__name__,args_str, elapsed ))\n",
    "        \n",
    "        return result\n",
    "    return inner\n",
    "        \n",
    "        "
   ]
  },
  {
   "cell_type": "code",
   "execution_count": 175,
   "id": "dbf5513e",
   "metadata": {},
   "outputs": [],
   "source": [
    "# @timed\n",
    "def calc_fib(n):\n",
    "    if n <= 2:\n",
    "        return 1\n",
    "    else:\n",
    "        return calc_fib(n-1)+calc_fib(n-2)"
   ]
  },
  {
   "cell_type": "code",
   "execution_count": 172,
   "id": "3b86ca74",
   "metadata": {},
   "outputs": [
    {
     "data": {
      "text/plain": [
       "55"
      ]
     },
     "execution_count": 172,
     "metadata": {},
     "output_type": "execute_result"
    }
   ],
   "source": [
    "calc_fib(10)"
   ]
  },
  {
   "cell_type": "code",
   "execution_count": 164,
   "id": "80834385",
   "metadata": {},
   "outputs": [],
   "source": [
    "@timed\n",
    "def add(a,b):\n",
    "    return a+b"
   ]
  },
  {
   "cell_type": "code",
   "execution_count": 165,
   "id": "6aca46e2",
   "metadata": {},
   "outputs": [
    {
     "name": "stdout",
     "output_type": "stream",
     "text": [
      "add(1,2) took -0.000001s to run\n"
     ]
    },
    {
     "data": {
      "text/plain": [
       "3"
      ]
     },
     "execution_count": 165,
     "metadata": {},
     "output_type": "execute_result"
    }
   ],
   "source": [
    "add(1,2)"
   ]
  },
  {
   "cell_type": "code",
   "execution_count": 173,
   "id": "0937aff9",
   "metadata": {},
   "outputs": [],
   "source": [
    "@timed\n",
    "def fib_rec(n):\n",
    "    return calc_fib(n)"
   ]
  },
  {
   "cell_type": "code",
   "execution_count": 174,
   "id": "5b6142ad",
   "metadata": {},
   "outputs": [
    {
     "name": "stdout",
     "output_type": "stream",
     "text": [
      "fib_rec(10) took -0.000012s to run\n"
     ]
    },
    {
     "data": {
      "text/plain": [
       "55"
      ]
     },
     "execution_count": 174,
     "metadata": {},
     "output_type": "execute_result"
    }
   ],
   "source": [
    "fib_rec(10)"
   ]
  },
  {
   "cell_type": "code",
   "execution_count": null,
   "id": "ca5ce8d9",
   "metadata": {},
   "outputs": [],
   "source": [
    "# decorator - logger"
   ]
  },
  {
   "cell_type": "code",
   "execution_count": 179,
   "id": "eaa80959",
   "metadata": {},
   "outputs": [],
   "source": [
    "def logged(fn):\n",
    "    from functools import wraps\n",
    "    from datetime import datetime, timezone\n",
    "    \n",
    "    \n",
    "    def inner(*args, **kwargs):\n",
    "        run_dt = datetime.now(timezone.utc)\n",
    "        result = fn(*args, **kwargs)\n",
    "        print('{0} :called {1}'.format(run_dt, fn.__name__))\n",
    "        \n",
    "        return result\n",
    "        \n",
    "    return inner    "
   ]
  },
  {
   "cell_type": "code",
   "execution_count": 180,
   "id": "58d6a323",
   "metadata": {},
   "outputs": [],
   "source": [
    "@logged\n",
    "def func_1():\n",
    "    pass"
   ]
  },
  {
   "cell_type": "code",
   "execution_count": 181,
   "id": "0c4ebb4f",
   "metadata": {},
   "outputs": [],
   "source": [
    "@logged\n",
    "def func_2():\n",
    "    pass"
   ]
  },
  {
   "cell_type": "code",
   "execution_count": 182,
   "id": "7e82a35f",
   "metadata": {},
   "outputs": [
    {
     "name": "stdout",
     "output_type": "stream",
     "text": [
      "2024-09-08 23:57:10.997492+00:00 :called func_1\n"
     ]
    }
   ],
   "source": [
    "func_1()"
   ]
  },
  {
   "cell_type": "code",
   "execution_count": 183,
   "id": "45eb1f64",
   "metadata": {},
   "outputs": [
    {
     "name": "stdout",
     "output_type": "stream",
     "text": [
      "2024-09-08 23:57:19.735093+00:00 :called func_2\n"
     ]
    }
   ],
   "source": [
    "func_2()"
   ]
  },
  {
   "cell_type": "code",
   "execution_count": 184,
   "id": "b7707841",
   "metadata": {},
   "outputs": [],
   "source": [
    "@logged\n",
    "@timed\n",
    "def func_1():\n",
    "    pass\n",
    "\n",
    "\n",
    "# same as logged(timed(func_1()))"
   ]
  },
  {
   "cell_type": "code",
   "execution_count": 185,
   "id": "d809e9db",
   "metadata": {},
   "outputs": [
    {
     "name": "stdout",
     "output_type": "stream",
     "text": [
      "func_1() took -0.000001s to run\n",
      "2024-09-09 00:01:31.334522+00:00 :called func_1\n"
     ]
    }
   ],
   "source": [
    "func_1() "
   ]
  },
  {
   "cell_type": "code",
   "execution_count": 191,
   "id": "251fa541",
   "metadata": {},
   "outputs": [],
   "source": [
    "def dec_1(fn):\n",
    "    \n",
    "    def inner():\n",
    "        print('running dec_1')\n",
    "        return fn()\n",
    "    return inner\n"
   ]
  },
  {
   "cell_type": "code",
   "execution_count": 192,
   "id": "23626f60",
   "metadata": {},
   "outputs": [],
   "source": [
    "def dec_2(fn):\n",
    "    \n",
    "    def inner():\n",
    "        print('running dec_2')\n",
    "        return fn()\n",
    "    return inner"
   ]
  },
  {
   "cell_type": "code",
   "execution_count": 195,
   "id": "a8169c5f",
   "metadata": {},
   "outputs": [],
   "source": [
    "@dec_1\n",
    "@dec_2\n",
    "def my_func():\n",
    "    print('running my_func')\n",
    "    \n",
    "# my_func  = dec_1(dec_2(my_func))    "
   ]
  },
  {
   "cell_type": "code",
   "execution_count": 196,
   "id": "7926002e",
   "metadata": {},
   "outputs": [
    {
     "name": "stdout",
     "output_type": "stream",
     "text": [
      "running dec_1\n",
      "running dec_2\n",
      "running my_func\n"
     ]
    }
   ],
   "source": [
    "my_func()"
   ]
  },
  {
   "cell_type": "code",
   "execution_count": null,
   "id": "2609ba91",
   "metadata": {},
   "outputs": [],
   "source": [
    "##### call function first then print in decorator"
   ]
  },
  {
   "cell_type": "code",
   "execution_count": 200,
   "id": "2f6d1e5e",
   "metadata": {},
   "outputs": [],
   "source": [
    "def dec_1(fn):\n",
    "    \n",
    "    def inner():\n",
    "        result = fn()\n",
    "        print('running dec_1')\n",
    "        return result\n",
    "    return inner\n"
   ]
  },
  {
   "cell_type": "code",
   "execution_count": 201,
   "id": "78a621d3",
   "metadata": {},
   "outputs": [],
   "source": [
    "def dec_2(fn):\n",
    "    \n",
    "    def inner():\n",
    "        result = fn()\n",
    "        print('running dec_2')\n",
    "        return result\n",
    "    return inner\n"
   ]
  },
  {
   "cell_type": "code",
   "execution_count": 202,
   "id": "b3b222ed",
   "metadata": {},
   "outputs": [],
   "source": [
    "@dec_1\n",
    "@dec_2\n",
    "def my_func():\n",
    "    print('running my_func')"
   ]
  },
  {
   "cell_type": "code",
   "execution_count": 203,
   "id": "a57640a1",
   "metadata": {},
   "outputs": [
    {
     "name": "stdout",
     "output_type": "stream",
     "text": [
      "running my_func\n",
      "running dec_2\n",
      "running dec_1\n"
     ]
    }
   ],
   "source": [
    "my_func()"
   ]
  },
  {
   "cell_type": "code",
   "execution_count": null,
   "id": "1cf6aa28",
   "metadata": {},
   "outputs": [],
   "source": [
    "# Decorators for memoization"
   ]
  },
  {
   "cell_type": "code",
   "execution_count": 204,
   "id": "8338c5a8",
   "metadata": {},
   "outputs": [],
   "source": [
    "def fib(n):\n",
    "    print('calc fib({0})'.format(n))\n",
    "    \n",
    "    return 1 if n<3 else fib(n-1)+fib(n-2)"
   ]
  },
  {
   "cell_type": "code",
   "execution_count": 206,
   "id": "468b4ab2",
   "metadata": {},
   "outputs": [
    {
     "name": "stdout",
     "output_type": "stream",
     "text": [
      "calc fib(10)\n",
      "calc fib(9)\n",
      "calc fib(8)\n",
      "calc fib(7)\n",
      "calc fib(6)\n",
      "calc fib(5)\n",
      "calc fib(4)\n",
      "calc fib(3)\n",
      "calc fib(2)\n",
      "calc fib(1)\n",
      "calc fib(2)\n",
      "calc fib(3)\n",
      "calc fib(2)\n",
      "calc fib(1)\n",
      "calc fib(4)\n",
      "calc fib(3)\n",
      "calc fib(2)\n",
      "calc fib(1)\n",
      "calc fib(2)\n",
      "calc fib(5)\n",
      "calc fib(4)\n",
      "calc fib(3)\n",
      "calc fib(2)\n",
      "calc fib(1)\n",
      "calc fib(2)\n",
      "calc fib(3)\n",
      "calc fib(2)\n",
      "calc fib(1)\n",
      "calc fib(6)\n",
      "calc fib(5)\n",
      "calc fib(4)\n",
      "calc fib(3)\n",
      "calc fib(2)\n",
      "calc fib(1)\n",
      "calc fib(2)\n",
      "calc fib(3)\n",
      "calc fib(2)\n",
      "calc fib(1)\n",
      "calc fib(4)\n",
      "calc fib(3)\n",
      "calc fib(2)\n",
      "calc fib(1)\n",
      "calc fib(2)\n",
      "calc fib(7)\n",
      "calc fib(6)\n",
      "calc fib(5)\n",
      "calc fib(4)\n",
      "calc fib(3)\n",
      "calc fib(2)\n",
      "calc fib(1)\n",
      "calc fib(2)\n",
      "calc fib(3)\n",
      "calc fib(2)\n",
      "calc fib(1)\n",
      "calc fib(4)\n",
      "calc fib(3)\n",
      "calc fib(2)\n",
      "calc fib(1)\n",
      "calc fib(2)\n",
      "calc fib(5)\n",
      "calc fib(4)\n",
      "calc fib(3)\n",
      "calc fib(2)\n",
      "calc fib(1)\n",
      "calc fib(2)\n",
      "calc fib(3)\n",
      "calc fib(2)\n",
      "calc fib(1)\n",
      "calc fib(8)\n",
      "calc fib(7)\n",
      "calc fib(6)\n",
      "calc fib(5)\n",
      "calc fib(4)\n",
      "calc fib(3)\n",
      "calc fib(2)\n",
      "calc fib(1)\n",
      "calc fib(2)\n",
      "calc fib(3)\n",
      "calc fib(2)\n",
      "calc fib(1)\n",
      "calc fib(4)\n",
      "calc fib(3)\n",
      "calc fib(2)\n",
      "calc fib(1)\n",
      "calc fib(2)\n",
      "calc fib(5)\n",
      "calc fib(4)\n",
      "calc fib(3)\n",
      "calc fib(2)\n",
      "calc fib(1)\n",
      "calc fib(2)\n",
      "calc fib(3)\n",
      "calc fib(2)\n",
      "calc fib(1)\n",
      "calc fib(6)\n",
      "calc fib(5)\n",
      "calc fib(4)\n",
      "calc fib(3)\n",
      "calc fib(2)\n",
      "calc fib(1)\n",
      "calc fib(2)\n",
      "calc fib(3)\n",
      "calc fib(2)\n",
      "calc fib(1)\n",
      "calc fib(4)\n",
      "calc fib(3)\n",
      "calc fib(2)\n",
      "calc fib(1)\n",
      "calc fib(2)\n"
     ]
    },
    {
     "data": {
      "text/plain": [
       "55"
      ]
     },
     "execution_count": 206,
     "metadata": {},
     "output_type": "execute_result"
    }
   ],
   "source": [
    "fib(10) # calculated the fib of 1,2,3,4.... to get fib of 10 so its ineffcient"
   ]
  },
  {
   "cell_type": "code",
   "execution_count": 207,
   "id": "5739869e",
   "metadata": {},
   "outputs": [],
   "source": [
    "class Fib:\n",
    "    \n",
    "    def __init__(self):\n",
    "        self.cache = {1:1, 2:1}\n",
    "        \n",
    "    def fib(self,n):\n",
    "        if n not in self.cache:\n",
    "            print('calc fib({0})'.format(n))\n",
    "            self.cache[n] = self.fib(n-1)+self.fib(n-2)\n",
    "        return self.cache[n]    \n",
    "            "
   ]
  },
  {
   "cell_type": "code",
   "execution_count": 208,
   "id": "09d5c16d",
   "metadata": {},
   "outputs": [],
   "source": [
    "f = Fib()"
   ]
  },
  {
   "cell_type": "code",
   "execution_count": 209,
   "id": "04b5db3f",
   "metadata": {},
   "outputs": [
    {
     "name": "stdout",
     "output_type": "stream",
     "text": [
      "calc fib(10)\n",
      "calc fib(9)\n",
      "calc fib(8)\n",
      "calc fib(7)\n",
      "calc fib(6)\n",
      "calc fib(5)\n",
      "calc fib(4)\n",
      "calc fib(3)\n"
     ]
    },
    {
     "data": {
      "text/plain": [
       "55"
      ]
     },
     "execution_count": 209,
     "metadata": {},
     "output_type": "execute_result"
    }
   ],
   "source": [
    "f.fib(10) # calc becasue initially values not in self.cache"
   ]
  },
  {
   "cell_type": "code",
   "execution_count": 210,
   "id": "5161348b",
   "metadata": {},
   "outputs": [
    {
     "data": {
      "text/plain": [
       "21"
      ]
     },
     "execution_count": 210,
     "metadata": {},
     "output_type": "execute_result"
    }
   ],
   "source": [
    "f.fib(8) # once value is there it just retrieves it"
   ]
  },
  {
   "cell_type": "code",
   "execution_count": 217,
   "id": "3121a7cd",
   "metadata": {},
   "outputs": [],
   "source": [
    "def fib():\n",
    "    cache = {1:1, 2:1}\n",
    "    \n",
    "    def calc_fib(n):\n",
    "        if n not in cache:\n",
    "            print('calc fib({0})'.format(n))\n",
    "            cache[n] = calc_fib(n-1)+ calc_fib(n-2)\n",
    "        return cache[n]\n",
    "    return calc_fib"
   ]
  },
  {
   "cell_type": "code",
   "execution_count": 218,
   "id": "85f172cd",
   "metadata": {},
   "outputs": [],
   "source": [
    "f = fib()\n"
   ]
  },
  {
   "cell_type": "code",
   "execution_count": 219,
   "id": "6973407b",
   "metadata": {},
   "outputs": [
    {
     "name": "stdout",
     "output_type": "stream",
     "text": [
      "calc fib(10)\n",
      "calc fib(9)\n",
      "calc fib(8)\n",
      "calc fib(7)\n",
      "calc fib(6)\n",
      "calc fib(5)\n",
      "calc fib(4)\n",
      "calc fib(3)\n"
     ]
    },
    {
     "data": {
      "text/plain": [
       "55"
      ]
     },
     "execution_count": 219,
     "metadata": {},
     "output_type": "execute_result"
    }
   ],
   "source": [
    "f(10)"
   ]
  },
  {
   "cell_type": "code",
   "execution_count": 220,
   "id": "2a98b90a",
   "metadata": {},
   "outputs": [
    {
     "data": {
      "text/plain": [
       "34"
      ]
     },
     "execution_count": 220,
     "metadata": {},
     "output_type": "execute_result"
    }
   ],
   "source": [
    "f(9)"
   ]
  },
  {
   "cell_type": "code",
   "execution_count": 227,
   "id": "3b40a836",
   "metadata": {},
   "outputs": [],
   "source": [
    "# decorator\n",
    "\n",
    "def memoize_fib(fib):\n",
    "    cache = {1:1, 2:1}\n",
    "    \n",
    "    def inner(n):\n",
    "        if n not in cache:\n",
    "            cache[n] = fib(n)\n",
    "        return cache[n]\n",
    "    return inner"
   ]
  },
  {
   "cell_type": "code",
   "execution_count": 228,
   "id": "554b3714",
   "metadata": {},
   "outputs": [],
   "source": [
    "@memoize_fib\n",
    "def fib(n):\n",
    "    print('calc fib({0})'.format(n))\n",
    "    \n",
    "    return 1 if n<3 else fib(n-1)+fib(n-2)"
   ]
  },
  {
   "cell_type": "code",
   "execution_count": 229,
   "id": "c4d5ef5b",
   "metadata": {},
   "outputs": [
    {
     "name": "stdout",
     "output_type": "stream",
     "text": [
      "calc fib(10)\n",
      "calc fib(9)\n",
      "calc fib(8)\n",
      "calc fib(7)\n",
      "calc fib(6)\n",
      "calc fib(5)\n",
      "calc fib(4)\n",
      "calc fib(3)\n"
     ]
    },
    {
     "data": {
      "text/plain": [
       "55"
      ]
     },
     "execution_count": 229,
     "metadata": {},
     "output_type": "execute_result"
    }
   ],
   "source": [
    "fib(10)"
   ]
  },
  {
   "cell_type": "code",
   "execution_count": 230,
   "id": "208d7775",
   "metadata": {},
   "outputs": [
    {
     "data": {
      "text/plain": [
       "34"
      ]
     },
     "execution_count": 230,
     "metadata": {},
     "output_type": "execute_result"
    }
   ],
   "source": [
    "fib(9)"
   ]
  },
  {
   "cell_type": "code",
   "execution_count": 241,
   "id": "3307dffa",
   "metadata": {},
   "outputs": [],
   "source": [
    "# more generic decorator\n",
    "\n",
    "def memoize(fn):\n",
    "    cache = dict()\n",
    "    \n",
    "    def inner(n):\n",
    "        if n not in cache:\n",
    "            cache[n] = fn(n)\n",
    "        return cache[n]\n",
    "    return inner"
   ]
  },
  {
   "cell_type": "code",
   "execution_count": 242,
   "id": "5b220b10",
   "metadata": {},
   "outputs": [],
   "source": [
    "@memoize\n",
    "def fib(n):\n",
    "    print('calc fib({0})'.format(n))\n",
    "    \n",
    "    return 1 if n<3 else fib(n-1)+fib(n-2)"
   ]
  },
  {
   "cell_type": "code",
   "execution_count": 243,
   "id": "24c45881",
   "metadata": {},
   "outputs": [
    {
     "name": "stdout",
     "output_type": "stream",
     "text": [
      "calc fib(10)\n",
      "calc fib(9)\n",
      "calc fib(8)\n",
      "calc fib(7)\n",
      "calc fib(6)\n",
      "calc fib(5)\n",
      "calc fib(4)\n",
      "calc fib(3)\n",
      "calc fib(2)\n",
      "calc fib(1)\n"
     ]
    },
    {
     "data": {
      "text/plain": [
       "55"
      ]
     },
     "execution_count": 243,
     "metadata": {},
     "output_type": "execute_result"
    }
   ],
   "source": [
    "fib(10)"
   ]
  },
  {
   "cell_type": "code",
   "execution_count": 244,
   "id": "3050468b",
   "metadata": {},
   "outputs": [
    {
     "data": {
      "text/plain": [
       "5"
      ]
     },
     "execution_count": 244,
     "metadata": {},
     "output_type": "execute_result"
    }
   ],
   "source": [
    "f(5)"
   ]
  },
  {
   "cell_type": "code",
   "execution_count": 245,
   "id": "e7da3058",
   "metadata": {},
   "outputs": [
    {
     "data": {
      "text/plain": [
       "55"
      ]
     },
     "execution_count": 245,
     "metadata": {},
     "output_type": "execute_result"
    }
   ],
   "source": [
    "f(10)"
   ]
  },
  {
   "cell_type": "code",
   "execution_count": 246,
   "id": "c548060e",
   "metadata": {},
   "outputs": [
    {
     "data": {
      "text/plain": [
       "89"
      ]
     },
     "execution_count": 246,
     "metadata": {},
     "output_type": "execute_result"
    }
   ],
   "source": [
    "f(11)"
   ]
  },
  {
   "cell_type": "code",
   "execution_count": 248,
   "id": "01159e47",
   "metadata": {},
   "outputs": [],
   "source": [
    "@memoize\n",
    "def fact(n):\n",
    "    print('calc fib({0})'.format(n))\n",
    "    \n",
    "    return 1 if n<2 else  n*fact(n-1)"
   ]
  },
  {
   "cell_type": "code",
   "execution_count": 249,
   "id": "3db3b05f",
   "metadata": {},
   "outputs": [
    {
     "name": "stdout",
     "output_type": "stream",
     "text": [
      "calc fib(10)\n",
      "calc fib(9)\n",
      "calc fib(8)\n",
      "calc fib(7)\n",
      "calc fib(6)\n",
      "calc fib(5)\n",
      "calc fib(4)\n",
      "calc fib(3)\n",
      "calc fib(2)\n",
      "calc fib(1)\n"
     ]
    },
    {
     "data": {
      "text/plain": [
       "3628800"
      ]
     },
     "execution_count": 249,
     "metadata": {},
     "output_type": "execute_result"
    }
   ],
   "source": [
    "fact(10)"
   ]
  },
  {
   "cell_type": "code",
   "execution_count": 250,
   "id": "d67137f9",
   "metadata": {},
   "outputs": [
    {
     "data": {
      "text/plain": [
       "720"
      ]
     },
     "execution_count": 250,
     "metadata": {},
     "output_type": "execute_result"
    }
   ],
   "source": [
    "fact(6)"
   ]
  },
  {
   "cell_type": "code",
   "execution_count": null,
   "id": "870dba24",
   "metadata": {},
   "outputs": [],
   "source": [
    "# using lru_cache for cache "
   ]
  },
  {
   "cell_type": "code",
   "execution_count": 251,
   "id": "a3d627f0",
   "metadata": {},
   "outputs": [],
   "source": [
    "from functools import lru_cache"
   ]
  },
  {
   "cell_type": "code",
   "execution_count": 252,
   "id": "3e1f636d",
   "metadata": {},
   "outputs": [],
   "source": [
    "@lru_cache\n",
    "def fact(n):\n",
    "    print('calc fib({0})'.format(n))\n",
    "    \n",
    "    return 1 if n<2 else  n*fact(n-1)"
   ]
  },
  {
   "cell_type": "code",
   "execution_count": 253,
   "id": "7eb8d065",
   "metadata": {},
   "outputs": [
    {
     "name": "stdout",
     "output_type": "stream",
     "text": [
      "calc fib(10)\n",
      "calc fib(9)\n",
      "calc fib(8)\n",
      "calc fib(7)\n",
      "calc fib(6)\n",
      "calc fib(5)\n",
      "calc fib(4)\n",
      "calc fib(3)\n",
      "calc fib(2)\n",
      "calc fib(1)\n"
     ]
    },
    {
     "data": {
      "text/plain": [
       "3628800"
      ]
     },
     "execution_count": 253,
     "metadata": {},
     "output_type": "execute_result"
    }
   ],
   "source": [
    "fact(10)"
   ]
  },
  {
   "cell_type": "code",
   "execution_count": 254,
   "id": "42386fe2",
   "metadata": {},
   "outputs": [
    {
     "data": {
      "text/plain": [
       "3628800"
      ]
     },
     "execution_count": 254,
     "metadata": {},
     "output_type": "execute_result"
    }
   ],
   "source": [
    "fact(10)"
   ]
  },
  {
   "cell_type": "code",
   "execution_count": 255,
   "id": "8d746499",
   "metadata": {},
   "outputs": [
    {
     "name": "stdout",
     "output_type": "stream",
     "text": [
      "calc fib(11)\n"
     ]
    },
    {
     "data": {
      "text/plain": [
       "39916800"
      ]
     },
     "execution_count": 255,
     "metadata": {},
     "output_type": "execute_result"
    }
   ],
   "source": [
    "fact(11)"
   ]
  },
  {
   "cell_type": "code",
   "execution_count": 256,
   "id": "ed8e58ff",
   "metadata": {},
   "outputs": [],
   "source": [
    "@lru_cache(maxsize = 8) # stores only 8 items in cache and discard older items\n",
    "def fact(n):\n",
    "    print('calc fib({0})'.format(n))\n",
    "    \n",
    "    return 1 if n<2 else  n*fact(n-1)"
   ]
  },
  {
   "cell_type": "code",
   "execution_count": 258,
   "id": "c8f92358",
   "metadata": {},
   "outputs": [
    {
     "name": "stdout",
     "output_type": "stream",
     "text": [
      "calc fib(10)\n",
      "calc fib(9)\n",
      "calc fib(8)\n",
      "calc fib(7)\n",
      "calc fib(6)\n",
      "calc fib(5)\n",
      "calc fib(4)\n",
      "calc fib(3)\n",
      "calc fib(2)\n",
      "calc fib(1)\n"
     ]
    },
    {
     "data": {
      "text/plain": [
       "3628800"
      ]
     },
     "execution_count": 258,
     "metadata": {},
     "output_type": "execute_result"
    }
   ],
   "source": [
    "fact(10)"
   ]
  },
  {
   "cell_type": "code",
   "execution_count": 259,
   "id": "33d823d8",
   "metadata": {},
   "outputs": [
    {
     "name": "stdout",
     "output_type": "stream",
     "text": [
      "calc fib(12)\n",
      "calc fib(11)\n"
     ]
    },
    {
     "data": {
      "text/plain": [
       "479001600"
      ]
     },
     "execution_count": 259,
     "metadata": {},
     "output_type": "execute_result"
    }
   ],
   "source": [
    "fact(12)"
   ]
  },
  {
   "cell_type": "code",
   "execution_count": 260,
   "id": "27291a5d",
   "metadata": {},
   "outputs": [
    {
     "name": "stdout",
     "output_type": "stream",
     "text": [
      "calc fib(3)\n",
      "calc fib(2)\n",
      "calc fib(1)\n"
     ]
    },
    {
     "data": {
      "text/plain": [
       "6"
      ]
     },
     "execution_count": 260,
     "metadata": {},
     "output_type": "execute_result"
    }
   ],
   "source": [
    "fact(3)"
   ]
  },
  {
   "cell_type": "code",
   "execution_count": 261,
   "id": "f6b3da1b",
   "metadata": {},
   "outputs": [
    {
     "name": "stdout",
     "output_type": "stream",
     "text": [
      "calc fib(4)\n"
     ]
    },
    {
     "data": {
      "text/plain": [
       "24"
      ]
     },
     "execution_count": 261,
     "metadata": {},
     "output_type": "execute_result"
    }
   ],
   "source": [
    "fact(4)"
   ]
  },
  {
   "cell_type": "code",
   "execution_count": 262,
   "id": "88f26d36",
   "metadata": {},
   "outputs": [
    {
     "data": {
      "text/plain": [
       "362880"
      ]
     },
     "execution_count": 262,
     "metadata": {},
     "output_type": "execute_result"
    }
   ],
   "source": [
    "fact(9)"
   ]
  },
  {
   "cell_type": "markdown",
   "id": "6eead677",
   "metadata": {},
   "source": [
    "# Decorator factory"
   ]
  },
  {
   "cell_type": "code",
   "execution_count": 268,
   "id": "f75c1482",
   "metadata": {},
   "outputs": [],
   "source": [
    "# Decorator parameters\n",
    "\n",
    "def timed(fn):\n",
    "    \n",
    "    from time import perf_counter\n",
    "    \n",
    "    def inner(*args, **kwargs):\n",
    "        total_elapsed = 0\n",
    "        for i in range(10):\n",
    "            start = perf_counter()\n",
    "            result = fn(*args, **kwargs)\n",
    "            total_elapsed += (perf_counter() - start)\n",
    "        avg_elapsed = total_elapsed/10\n",
    "        print(avg_elapsed)\n",
    "        return result\n",
    "    return inner"
   ]
  },
  {
   "cell_type": "code",
   "execution_count": 269,
   "id": "0cb10026",
   "metadata": {},
   "outputs": [],
   "source": [
    "@timed\n",
    "def my_func():\n",
    "    pass"
   ]
  },
  {
   "cell_type": "code",
   "execution_count": 270,
   "id": "38a9d6de",
   "metadata": {},
   "outputs": [
    {
     "name": "stdout",
     "output_type": "stream",
     "text": [
      "2.701039193198085e-07\n"
     ]
    }
   ],
   "source": [
    "my_func()"
   ]
  },
  {
   "cell_type": "code",
   "execution_count": 271,
   "id": "615f80cc",
   "metadata": {},
   "outputs": [],
   "source": [
    "def timed(fn,reps):\n",
    "    \n",
    "    from time import perf_counter\n",
    "    \n",
    "    def inner(*args, **kwargs):\n",
    "        total_elapsed = 0\n",
    "        for i in range(reps):\n",
    "            start = perf_counter()\n",
    "            result = fn(*args, **kwargs)\n",
    "            total_elapsed += (perf_counter() - start)\n",
    "        avg_elapsed = total_elapsed/reps\n",
    "        print(avg_elapsed)\n",
    "        return result\n",
    "    return inner"
   ]
  },
  {
   "cell_type": "code",
   "execution_count": 275,
   "id": "1249c792",
   "metadata": {},
   "outputs": [],
   "source": [
    "my_func = timed(my_func,10)"
   ]
  },
  {
   "cell_type": "code",
   "execution_count": 276,
   "id": "4ade6a8a",
   "metadata": {},
   "outputs": [
    {
     "name": "stdout",
     "output_type": "stream",
     "text": [
      "2.436019713059068e-07\n",
      "2.0500156097114087e-07\n",
      "2.048996975645423e-07\n",
      "1.910957507789135e-07\n",
      "1.9220460671931506e-07\n",
      "2.0450097508728505e-07\n",
      "1.922977389767766e-07\n",
      "1.9500148482620716e-07\n",
      "1.9809813238680364e-07\n",
      "1.9050203263759614e-07\n",
      "1.0590307647362352e-05\n"
     ]
    }
   ],
   "source": [
    "my_func()"
   ]
  },
  {
   "cell_type": "code",
   "execution_count": 277,
   "id": "88f5efdc",
   "metadata": {},
   "outputs": [
    {
     "ename": "SyntaxError",
     "evalue": "invalid syntax (1119250012.py, line 2)",
     "output_type": "error",
     "traceback": [
      "\u001b[0;36m  Cell \u001b[0;32mIn[277], line 2\u001b[0;36m\u001b[0m\n\u001b[0;31m    my_func():\u001b[0m\n\u001b[0m    ^\u001b[0m\n\u001b[0;31mSyntaxError\u001b[0m\u001b[0;31m:\u001b[0m invalid syntax\n"
     ]
    }
   ],
   "source": [
    "@timed(10)# will not work \n",
    "my_func():\n",
    "    pass"
   ]
  },
  {
   "cell_type": "code",
   "execution_count": 279,
   "id": "d738ab5f",
   "metadata": {},
   "outputs": [],
   "source": [
    "# decorator factory\n",
    "def outer(reps):\n",
    "    def timed(fn):\n",
    "    \n",
    "        from time import perf_counter\n",
    "    \n",
    "        def inner(*args, **kwargs):\n",
    "            total_elapsed = 0\n",
    "            for i in range(reps):\n",
    "                start = perf_counter()\n",
    "                result = fn(*args, **kwargs)\n",
    "                total_elapsed += (perf_counter() - start)\n",
    "            avg_elapsed = total_elapsed/reps\n",
    "            print(avg_elapsed)\n",
    "            return result\n",
    "        return inner\n",
    "    return timed\n"
   ]
  },
  {
   "cell_type": "code",
   "execution_count": 280,
   "id": "88baea00",
   "metadata": {},
   "outputs": [],
   "source": [
    "my_func = outer(10)(my_func)"
   ]
  },
  {
   "cell_type": "code",
   "execution_count": 281,
   "id": "7e737ffb",
   "metadata": {},
   "outputs": [],
   "source": [
    "@outer(10)\n",
    "def my_func():\n",
    "    pass"
   ]
  },
  {
   "cell_type": "code",
   "execution_count": 282,
   "id": "f1334b1c",
   "metadata": {},
   "outputs": [
    {
     "name": "stdout",
     "output_type": "stream",
     "text": [
      "2.756074536591768e-07\n"
     ]
    }
   ],
   "source": [
    "my_func()"
   ]
  },
  {
   "cell_type": "markdown",
   "id": "7a6a5deb",
   "metadata": {},
   "source": [
    "# Decorator classes"
   ]
  },
  {
   "cell_type": "code",
   "execution_count": 286,
   "id": "97afe569",
   "metadata": {},
   "outputs": [],
   "source": [
    "def my_dec(a, b):\n",
    "    \n",
    "    def dec(fn):\n",
    "        \n",
    "        def inner(*args, **kwargs):\n",
    "            print(\"decorated function called:a ={0}, b = {1}\".format(a,b))\n",
    "            return fn(*args, **kwargs)\n",
    "        \n",
    "        return inner\n",
    "    return dec"
   ]
  },
  {
   "cell_type": "code",
   "execution_count": 288,
   "id": "8ca9a29c",
   "metadata": {},
   "outputs": [],
   "source": [
    "@my_dec(10,20)\n",
    "def my_func(s):\n",
    "    print('hello', s)"
   ]
  },
  {
   "cell_type": "code",
   "execution_count": 289,
   "id": "a7af22e9",
   "metadata": {},
   "outputs": [
    {
     "name": "stdout",
     "output_type": "stream",
     "text": [
      "decorated function called:a =10, b = 20\n",
      "hello test\n"
     ]
    }
   ],
   "source": [
    "my_func('test')"
   ]
  },
  {
   "cell_type": "code",
   "execution_count": 290,
   "id": "13a51d8a",
   "metadata": {},
   "outputs": [],
   "source": [
    "class MyClass:\n",
    "    \n",
    "    def __init__(self, a,b):\n",
    "        self.a = a\n",
    "        self.b = b\n",
    "        \n",
    "    def __call__(self,c):\n",
    "        print('called', self.a, self.b, c)\n",
    "        "
   ]
  },
  {
   "cell_type": "code",
   "execution_count": 291,
   "id": "1610ea70",
   "metadata": {},
   "outputs": [],
   "source": [
    "obj = MyClass(10,20)"
   ]
  },
  {
   "cell_type": "code",
   "execution_count": 292,
   "id": "38d7f3f6",
   "metadata": {},
   "outputs": [
    {
     "name": "stdout",
     "output_type": "stream",
     "text": [
      "called 10 20 100\n"
     ]
    }
   ],
   "source": [
    "obj(100)"
   ]
  },
  {
   "cell_type": "code",
   "execution_count": 300,
   "id": "05d11d4d",
   "metadata": {},
   "outputs": [],
   "source": [
    "class MyClass:\n",
    "    \n",
    "    def __init__(self, a,b):\n",
    "        self.a = a\n",
    "        self.b = b\n",
    "        \n",
    "    def __call__(self,fn):\n",
    "        def inner(*args, **kwargs):\n",
    "            \n",
    "              print('called', self.a, self.b)\n",
    "              return fn(*args, **kwargs)\n",
    "        return inner\n",
    "        "
   ]
  },
  {
   "cell_type": "code",
   "execution_count": 301,
   "id": "746f882b",
   "metadata": {},
   "outputs": [],
   "source": [
    "@MyClass(10,20)\n",
    "def my_func(s):\n",
    "        print('Hello {0}'.format(s))\n",
    "    "
   ]
  },
  {
   "cell_type": "code",
   "execution_count": 302,
   "id": "3d5044f2",
   "metadata": {},
   "outputs": [
    {
     "name": "stdout",
     "output_type": "stream",
     "text": [
      "called 10 20\n",
      "Hello world\n"
     ]
    }
   ],
   "source": [
    "my_func('world')"
   ]
  },
  {
   "cell_type": "markdown",
   "id": "c38e7003",
   "metadata": {},
   "source": [
    "# Decorating classes"
   ]
  },
  {
   "cell_type": "code",
   "execution_count": 303,
   "id": "6a219a9e",
   "metadata": {},
   "outputs": [],
   "source": [
    "from fractions import Fraction"
   ]
  },
  {
   "cell_type": "code",
   "execution_count": 304,
   "id": "efa8530c",
   "metadata": {},
   "outputs": [],
   "source": [
    "f = Fraction(2,3)"
   ]
  },
  {
   "cell_type": "code",
   "execution_count": 305,
   "id": "15e53bd2",
   "metadata": {},
   "outputs": [
    {
     "data": {
      "text/plain": [
       "3"
      ]
     },
     "execution_count": 305,
     "metadata": {},
     "output_type": "execute_result"
    }
   ],
   "source": [
    "f.denominator"
   ]
  },
  {
   "cell_type": "code",
   "execution_count": 306,
   "id": "a74ff185",
   "metadata": {},
   "outputs": [
    {
     "data": {
      "text/plain": [
       "2"
      ]
     },
     "execution_count": 306,
     "metadata": {},
     "output_type": "execute_result"
    }
   ],
   "source": [
    "f.numerator"
   ]
  },
  {
   "cell_type": "code",
   "execution_count": 308,
   "id": "bf9c7204",
   "metadata": {},
   "outputs": [],
   "source": [
    "Fraction.speak = 100 # adding  a new function in Fraction class"
   ]
  },
  {
   "cell_type": "code",
   "execution_count": 309,
   "id": "d0909f3c",
   "metadata": {},
   "outputs": [
    {
     "data": {
      "text/plain": [
       "100"
      ]
     },
     "execution_count": 309,
     "metadata": {},
     "output_type": "execute_result"
    }
   ],
   "source": [
    "f.speak"
   ]
  },
  {
   "cell_type": "code",
   "execution_count": 310,
   "id": "77ddaa4b",
   "metadata": {},
   "outputs": [],
   "source": [
    "Fraction.speak = lambda self, message: 'speak the message {0}'.format(message)"
   ]
  },
  {
   "cell_type": "code",
   "execution_count": 311,
   "id": "00975784",
   "metadata": {},
   "outputs": [
    {
     "data": {
      "text/plain": [
       "'speak the message this is new function'"
      ]
     },
     "execution_count": 311,
     "metadata": {},
     "output_type": "execute_result"
    }
   ],
   "source": [
    "f.speak('this is new function')"
   ]
  },
  {
   "cell_type": "code",
   "execution_count": 313,
   "id": "ac360d56",
   "metadata": {},
   "outputs": [],
   "source": [
    "# decorating class\n",
    "def dec_speak(cls):\n",
    "    cls.speak = lambda self, message: '{0} says: {1}'.format(self.__class__.__name__, message)\n",
    "    return cls"
   ]
  },
  {
   "cell_type": "code",
   "execution_count": 314,
   "id": "7e9141b5",
   "metadata": {},
   "outputs": [],
   "source": [
    "Fraction = dec_speak(Fraction)"
   ]
  },
  {
   "cell_type": "code",
   "execution_count": 315,
   "id": "de13d6a1",
   "metadata": {},
   "outputs": [],
   "source": [
    "f1 = Fraction(2,3)"
   ]
  },
  {
   "cell_type": "code",
   "execution_count": 316,
   "id": "314d6def",
   "metadata": {},
   "outputs": [
    {
     "data": {
      "text/plain": [
       "'Fraction says: hello'"
      ]
     },
     "execution_count": 316,
     "metadata": {},
     "output_type": "execute_result"
    }
   ],
   "source": [
    "f1.speak('hello')"
   ]
  },
  {
   "cell_type": "code",
   "execution_count": 317,
   "id": "72814e7d",
   "metadata": {},
   "outputs": [],
   "source": [
    "class Person:\n",
    "    pass"
   ]
  },
  {
   "cell_type": "code",
   "execution_count": 318,
   "id": "2cd01138",
   "metadata": {},
   "outputs": [],
   "source": [
    "Person = dec_speak(Person)"
   ]
  },
  {
   "cell_type": "code",
   "execution_count": 319,
   "id": "22dd7b54",
   "metadata": {},
   "outputs": [],
   "source": [
    "p = Person()"
   ]
  },
  {
   "cell_type": "code",
   "execution_count": 320,
   "id": "cf5a3095",
   "metadata": {},
   "outputs": [
    {
     "data": {
      "text/plain": [
       "'Person says: Hello'"
      ]
     },
     "execution_count": 320,
     "metadata": {},
     "output_type": "execute_result"
    }
   ],
   "source": [
    "p.speak('Hello')"
   ]
  },
  {
   "cell_type": "code",
   "execution_count": 321,
   "id": "c5acbcfd",
   "metadata": {},
   "outputs": [],
   "source": [
    "from datetime import datetime, timezone"
   ]
  },
  {
   "cell_type": "code",
   "execution_count": 334,
   "id": "20bb9857",
   "metadata": {},
   "outputs": [],
   "source": [
    "def info(self):\n",
    "        results = []\n",
    "        results.append('time:{0}'.format(datetime.now(timezone.utc)))\n",
    "        results.append('id:{0}'.format(hex(id(self))))\n",
    "        results.append('class:{0}'.format(self.__class__.__name__))\n",
    "        for k, v in vars(self).items():\n",
    "            results.append('{0}:{1}'.format(k,v))\n",
    "        return results    \n",
    "    \n",
    "    \n",
    "def debug_info(cls):\n",
    "    cls.debug = info\n",
    "    return cls \n",
    "    "
   ]
  },
  {
   "cell_type": "code",
   "execution_count": 335,
   "id": "a43675b6",
   "metadata": {},
   "outputs": [],
   "source": [
    "#Person = debug_info(Person)\n",
    "@debug_info\n",
    "class Person:\n",
    "    def __init__(self, name, birth_year):\n",
    "        self.name = name\n",
    "        self.birth_year = birth_year\n",
    "        \n",
    "    def say_hi():\n",
    "        return 'Hello there'"
   ]
  },
  {
   "cell_type": "code",
   "execution_count": 336,
   "id": "2519395c",
   "metadata": {},
   "outputs": [],
   "source": [
    "p = Person('John', 1939)"
   ]
  },
  {
   "cell_type": "code",
   "execution_count": 337,
   "id": "40970b29",
   "metadata": {},
   "outputs": [
    {
     "data": {
      "text/plain": [
       "['time:2024-09-13 20:42:11.967972+00:00',\n",
       " 'id:0x111547590',\n",
       " 'class:Person',\n",
       " 'name:John',\n",
       " 'birth_year:1939']"
      ]
     },
     "execution_count": 337,
     "metadata": {},
     "output_type": "execute_result"
    }
   ],
   "source": [
    "p.debug()"
   ]
  },
  {
   "cell_type": "code",
   "execution_count": 342,
   "id": "1fc31d70",
   "metadata": {},
   "outputs": [],
   "source": [
    "@debug_info\n",
    "class Automobile:\n",
    "    def __init__(self, make, model, year, top_speed):\n",
    "        self.make = make\n",
    "        self.model = model\n",
    "        self.year = year \n",
    "        self.top_speed = top_speed\n",
    "        self._speed = 0\n",
    "        \n",
    "        \n",
    "    @property\n",
    "    def speed(self):\n",
    "      return self._speed \n",
    "\n",
    "    @speed.setter\n",
    "    def speed(self, new_speed):\n",
    "        if new_speed > self.top_speed:\n",
    "            raise ValueError('Speed cannot exceed top_speed')\n",
    "        else:\n",
    "            self._speed = new_speed"
   ]
  },
  {
   "cell_type": "code",
   "execution_count": 343,
   "id": "c228f39a",
   "metadata": {},
   "outputs": [],
   "source": [
    "favorite = Automobile('Audi', 'Q5', 2022, 100)"
   ]
  },
  {
   "cell_type": "code",
   "execution_count": 344,
   "id": "bb5ca9f4",
   "metadata": {},
   "outputs": [
    {
     "data": {
      "text/plain": [
       "['time:2024-09-13 20:49:43.839963+00:00',\n",
       " 'id:0x11241c210',\n",
       " 'class:Automobile',\n",
       " 'make:Audi',\n",
       " 'model:Q5',\n",
       " 'year:2022',\n",
       " 'top_speed:100',\n",
       " '_speed:0']"
      ]
     },
     "execution_count": 344,
     "metadata": {},
     "output_type": "execute_result"
    }
   ],
   "source": [
    "favorite.debug()"
   ]
  },
  {
   "cell_type": "code",
   "execution_count": 346,
   "id": "98a3218a",
   "metadata": {},
   "outputs": [
    {
     "ename": "ValueError",
     "evalue": "Speed cannot exceed top_speed",
     "output_type": "error",
     "traceback": [
      "\u001b[0;31m---------------------------------------------------------------------------\u001b[0m",
      "\u001b[0;31mValueError\u001b[0m                                Traceback (most recent call last)",
      "Cell \u001b[0;32mIn[346], line 1\u001b[0m\n\u001b[0;32m----> 1\u001b[0m favorite\u001b[38;5;241m.\u001b[39mspeed \u001b[38;5;241m=\u001b[39m \u001b[38;5;241m110\u001b[39m\n",
      "Cell \u001b[0;32mIn[342], line 18\u001b[0m, in \u001b[0;36mAutomobile.speed\u001b[0;34m(self, new_speed)\u001b[0m\n\u001b[1;32m     15\u001b[0m \u001b[38;5;129m@speed\u001b[39m\u001b[38;5;241m.\u001b[39msetter\n\u001b[1;32m     16\u001b[0m \u001b[38;5;28;01mdef\u001b[39;00m \u001b[38;5;21mspeed\u001b[39m(\u001b[38;5;28mself\u001b[39m, new_speed):\n\u001b[1;32m     17\u001b[0m     \u001b[38;5;28;01mif\u001b[39;00m new_speed \u001b[38;5;241m>\u001b[39m \u001b[38;5;28mself\u001b[39m\u001b[38;5;241m.\u001b[39mtop_speed:\n\u001b[0;32m---> 18\u001b[0m         \u001b[38;5;28;01mraise\u001b[39;00m \u001b[38;5;167;01mValueError\u001b[39;00m(\u001b[38;5;124m'\u001b[39m\u001b[38;5;124mSpeed cannot exceed top_speed\u001b[39m\u001b[38;5;124m'\u001b[39m)\n\u001b[1;32m     19\u001b[0m     \u001b[38;5;28;01melse\u001b[39;00m:\n\u001b[1;32m     20\u001b[0m         \u001b[38;5;28mself\u001b[39m\u001b[38;5;241m.\u001b[39m_speed \u001b[38;5;241m=\u001b[39m new_speed\n",
      "\u001b[0;31mValueError\u001b[0m: Speed cannot exceed top_speed"
     ]
    }
   ],
   "source": [
    "favorite.speed = 110"
   ]
  },
  {
   "cell_type": "code",
   "execution_count": 347,
   "id": "00525705",
   "metadata": {},
   "outputs": [],
   "source": [
    "favorite.speed = 90"
   ]
  },
  {
   "cell_type": "code",
   "execution_count": 348,
   "id": "848db70a",
   "metadata": {},
   "outputs": [],
   "source": [
    "from math import sqrt"
   ]
  },
  {
   "cell_type": "code",
   "execution_count": 413,
   "id": "cd8f3027",
   "metadata": {},
   "outputs": [],
   "source": [
    "class Point:\n",
    "    def __init__(self, x, y):\n",
    "        self.x = x\n",
    "        self.y = y \n",
    "        \n",
    "    def __abs__(self):\n",
    "        return sqrt(self.x**2 + self.y**2)\n",
    "    \n",
    "    def __repr__(self):\n",
    "        return 'Point({0}, {1})'.format(self.x,self.y)\n",
    "    \n",
    "    def __eq__(self, other):\n",
    "        if isinstance(other, Point):\n",
    "            return self.x == other.x and self.y == other.y\n",
    "        else:\n",
    "            return False\n",
    "        \n",
    "    def __lt__(self, other):\n",
    "        if isinstance(other, Point):\n",
    "            return abs(self)<abs(other)\n",
    "        else:\n",
    "            return NotImplemented\n",
    "        \n",
    "   \n",
    "        "
   ]
  },
  {
   "cell_type": "code",
   "execution_count": 414,
   "id": "83dfddd0",
   "metadata": {},
   "outputs": [],
   "source": [
    "p1,p2,p3 = Point(2,3), Point(2,3),Point(0,0)"
   ]
  },
  {
   "cell_type": "code",
   "execution_count": 415,
   "id": "711e1c47",
   "metadata": {},
   "outputs": [
    {
     "data": {
      "text/plain": [
       "3.605551275463989"
      ]
     },
     "execution_count": 415,
     "metadata": {},
     "output_type": "execute_result"
    }
   ],
   "source": [
    "abs(p1)"
   ]
  },
  {
   "cell_type": "code",
   "execution_count": 416,
   "id": "d4b04e6a",
   "metadata": {},
   "outputs": [
    {
     "data": {
      "text/plain": [
       "Point(2, 3)"
      ]
     },
     "execution_count": 416,
     "metadata": {},
     "output_type": "execute_result"
    }
   ],
   "source": [
    "p1"
   ]
  },
  {
   "cell_type": "code",
   "execution_count": 417,
   "id": "a50d03de",
   "metadata": {},
   "outputs": [
    {
     "data": {
      "text/plain": [
       "True"
      ]
     },
     "execution_count": 417,
     "metadata": {},
     "output_type": "execute_result"
    }
   ],
   "source": [
    "p1 == p2"
   ]
  },
  {
   "cell_type": "code",
   "execution_count": 418,
   "id": "17e19023",
   "metadata": {
    "scrolled": true
   },
   "outputs": [
    {
     "data": {
      "text/plain": [
       "False"
      ]
     },
     "execution_count": 418,
     "metadata": {},
     "output_type": "execute_result"
    }
   ],
   "source": [
    "p1 < p2"
   ]
  },
  {
   "cell_type": "code",
   "execution_count": 391,
   "id": "cb265852",
   "metadata": {},
   "outputs": [],
   "source": [
    "def complete_ordering(cls):\n",
    "    if '__eq__' in dir(cls) and '__lt__' in dir(cls):\n",
    "        cls.__le__ = lambda self, other: self < other or self == other\n",
    "        cls.__gt__ = lambda self, other: not self < other and not self == other \n",
    "        cls.__ge__ = lambda self, other: not self < other\n",
    "        \n",
    "    return cls    "
   ]
  },
  {
   "cell_type": "code",
   "execution_count": 412,
   "id": "8f58edf1",
   "metadata": {},
   "outputs": [],
   "source": [
    "@complete_ordering\n",
    "class Point:\n",
    "    def __init__(self, x, y):\n",
    "        self.x = x\n",
    "        self.y = y \n",
    "        \n",
    "    def __abs__(self):\n",
    "        return sqrt(self.x**2 + self.y**2)\n",
    "    \n",
    "    def __repr__(self):\n",
    "        return 'Point({0}, {1})'.format(self.x,self.y)\n",
    "    \n",
    "    def __eq__(self, other):\n",
    "        if isinstance(other, Point):\n",
    "            return self.x == other.x and self.y == other.y\n",
    "        else:\n",
    "            return False\n",
    "        \n",
    "    def __lt__(self, other):\n",
    "        if isinstance(other, Point):\n",
    "            return abs(self)<abs(other)\n",
    "        else:\n",
    "            return NotImplemented\n",
    "        \n",
    "   \n",
    "        "
   ]
  },
  {
   "cell_type": "code",
   "execution_count": 393,
   "id": "bd8bbdf8",
   "metadata": {},
   "outputs": [],
   "source": [
    "p1,p2,p3 = Point(2,3), Point(2,3),Point(0,0)"
   ]
  },
  {
   "cell_type": "code",
   "execution_count": 394,
   "id": "70d7b00f",
   "metadata": {},
   "outputs": [
    {
     "data": {
      "text/plain": [
       "False"
      ]
     },
     "execution_count": 394,
     "metadata": {},
     "output_type": "execute_result"
    }
   ],
   "source": [
    "p1 == p2"
   ]
  },
  {
   "cell_type": "code",
   "execution_count": 395,
   "id": "5d6ad7d9",
   "metadata": {},
   "outputs": [
    {
     "data": {
      "text/plain": [
       "True"
      ]
     },
     "execution_count": 395,
     "metadata": {},
     "output_type": "execute_result"
    }
   ],
   "source": [
    "p1>p2"
   ]
  },
  {
   "cell_type": "code",
   "execution_count": 396,
   "id": "805cd844",
   "metadata": {},
   "outputs": [
    {
     "data": {
      "text/plain": [
       "False"
      ]
     },
     "execution_count": 396,
     "metadata": {},
     "output_type": "execute_result"
    }
   ],
   "source": [
    "p1<p2"
   ]
  },
  {
   "cell_type": "code",
   "execution_count": 397,
   "id": "f3a4a97a",
   "metadata": {},
   "outputs": [],
   "source": [
    "from functools import total_ordering"
   ]
  },
  {
   "cell_type": "code",
   "execution_count": 408,
   "id": "1cc84dd2",
   "metadata": {},
   "outputs": [],
   "source": [
    "@total_ordering\n",
    "class Point:\n",
    "    def __init__(self, x, y):\n",
    "        self.x = x\n",
    "        self.y = y \n",
    "        \n",
    "    def __abs__(self):\n",
    "        return sqrt(self.x**2 + self.y**2)\n",
    "    \n",
    "    def __repr__(self):\n",
    "        return 'Point({0}, {1})'.format(self.x,self.y)\n",
    "    \n",
    "    def __eq__(self, other):\n",
    "        if isinstance(other, Point):\n",
    "            return self.x == other.x and self.y == other.y\n",
    "        else:\n",
    "            return False\n",
    "        \n",
    "    def __lt__(self, other):\n",
    "        if isinstance(other, Point):\n",
    "            return abs(self)<abs(other)\n",
    "        else:\n",
    "            return NotImplemented\n",
    "        \n",
    "   \n",
    "        "
   ]
  },
  {
   "cell_type": "code",
   "execution_count": 409,
   "id": "017f1341",
   "metadata": {},
   "outputs": [],
   "source": [
    "p1,p2,p3 = Point(2,3), Point(2,3),Point(0,0)"
   ]
  },
  {
   "cell_type": "code",
   "execution_count": 410,
   "id": "c811ac6a",
   "metadata": {},
   "outputs": [
    {
     "data": {
      "text/plain": [
       "False"
      ]
     },
     "execution_count": 410,
     "metadata": {},
     "output_type": "execute_result"
    }
   ],
   "source": [
    "p1<p2"
   ]
  },
  {
   "cell_type": "code",
   "execution_count": 411,
   "id": "696629c7",
   "metadata": {},
   "outputs": [
    {
     "data": {
      "text/plain": [
       "True"
      ]
     },
     "execution_count": 411,
     "metadata": {},
     "output_type": "execute_result"
    }
   ],
   "source": [
    "p1 <= p2"
   ]
  },
  {
   "cell_type": "markdown",
   "id": "6937ad51",
   "metadata": {},
   "source": [
    "# Decorator application - Single Dispatch Generic function"
   ]
  },
  {
   "cell_type": "code",
   "execution_count": 419,
   "id": "aea9f096",
   "metadata": {},
   "outputs": [],
   "source": [
    "from html import escape"
   ]
  },
  {
   "cell_type": "code",
   "execution_count": 427,
   "id": "a9fe8cea",
   "metadata": {},
   "outputs": [],
   "source": [
    "def html_escape(arg):\n",
    "    return escape(str(arg))\n",
    "\n",
    "def html_int(a):\n",
    "    return '{0}(<i>{1}</i>)'.format(a, str(hex(a)))\n",
    "\n",
    "def html_real(a):\n",
    "    return '{0:2f}'.format(reound(a,2))\n",
    "\n",
    "def html_str(s):\n",
    "    return html_escape(s).replace('\\n','<br/>\\n')\n",
    "\n",
    "def html_list(l):\n",
    "    items = ('<li>{0}</li>'.format(html_escape(item)) for item in l)\n",
    "    return '<ul>\\n' + '\\n'.join(items) +'\\n</ul>'\n",
    "\n",
    "\n",
    "def html_dict(d):\n",
    "    items = ('<li>{0}={1}</li>'.format(k,v) for k,v in d.items())\n",
    "    \n",
    "    return '<ul>\\n' + '\\n'.join(items) +'\\n</ul>'"
   ]
  },
  {
   "cell_type": "code",
   "execution_count": 428,
   "id": "fc0b7896",
   "metadata": {},
   "outputs": [
    {
     "name": "stdout",
     "output_type": "stream",
     "text": [
      "this is <br/>\n",
      "a multi line string <br/>\n",
      "with special characters: 10&lt;100<br/>\n",
      "\n"
     ]
    }
   ],
   "source": [
    "print(html_str(\"\"\"this is \n",
    "a multi line string \n",
    "with special characters: 10<100\n",
    "\"\"\"))"
   ]
  },
  {
   "cell_type": "code",
   "execution_count": 429,
   "id": "05ae8747",
   "metadata": {},
   "outputs": [],
   "source": [
    "from decimal import Decimal"
   ]
  },
  {
   "cell_type": "code",
   "execution_count": 430,
   "id": "260b765b",
   "metadata": {},
   "outputs": [],
   "source": [
    "def htmlize(arg):\n",
    "    if isinstance(arg, int):\n",
    "        return html_int(arg)\n",
    "    elif isinstance(arg, float) or isinstance(arg, Decimal):\n",
    "        return html_real(arg)\n",
    "    elif isinstance(arg, str):\n",
    "        return html_str(arg)\n",
    "    elif isinstance(arg, list) or isinstance(arg, tuple):\n",
    "        return html_list(arg)\n",
    "    elif isinstance(arg, dict):\n",
    "        return html_dict(arg)\n",
    "    else:\n",
    "        return html_escape(arg)"
   ]
  },
  {
   "cell_type": "code",
   "execution_count": 431,
   "id": "655e4cfc",
   "metadata": {},
   "outputs": [
    {
     "data": {
      "text/plain": [
       "'100(<i>0x64</i>)'"
      ]
     },
     "execution_count": 431,
     "metadata": {},
     "output_type": "execute_result"
    }
   ],
   "source": [
    "htmlize(100)"
   ]
  },
  {
   "cell_type": "code",
   "execution_count": 433,
   "id": "49429863",
   "metadata": {},
   "outputs": [
    {
     "data": {
      "text/plain": [
       "'python <br/>\\n        rocks!'"
      ]
     },
     "execution_count": 433,
     "metadata": {},
     "output_type": "execute_result"
    }
   ],
   "source": [
    "htmlize(\"\"\"python \n",
    "        rocks!\"\"\")"
   ]
  },
  {
   "cell_type": "code",
   "execution_count": 436,
   "id": "7f5cc5b4",
   "metadata": {},
   "outputs": [
    {
     "name": "stdout",
     "output_type": "stream",
     "text": [
      "<ul>\n",
      "<li>1</li>\n",
      "<li>2</li>\n",
      "<li>3</li>\n",
      "</ul>\n"
     ]
    }
   ],
   "source": [
    "print(htmlize([1,2,3]))"
   ]
  },
  {
   "cell_type": "code",
   "execution_count": 440,
   "id": "5d90da4c",
   "metadata": {},
   "outputs": [
    {
     "name": "stdout",
     "output_type": "stream",
     "text": [
      "<ul>\n",
      "<li>python \n",
      "        rocks!</li>\n",
      "<li>100</li>\n",
      "<li>(1, 2, 3)</li>\n",
      "</ul>\n"
     ]
    }
   ],
   "source": [
    "print(htmlize([\"\"\"python \n",
    "        rocks!\"\"\",100,(1,2,3)]))\n",
    "\n",
    "# doesn't htmlize string i.e. <br> is missing\n",
    "# list is not htmlized"
   ]
  },
  {
   "cell_type": "code",
   "execution_count": null,
   "id": "c90f9b55",
   "metadata": {},
   "outputs": [],
   "source": [
    "# restart kernel"
   ]
  },
  {
   "cell_type": "code",
   "execution_count": 1,
   "id": "00a3a080",
   "metadata": {},
   "outputs": [],
   "source": [
    "from decimal import Decimal\n",
    "from html import escape"
   ]
  },
  {
   "cell_type": "code",
   "execution_count": 9,
   "id": "d474b34d",
   "metadata": {},
   "outputs": [],
   "source": [
    "def htmlize(arg):\n",
    "    if isinstance(arg, int):\n",
    "        return html_int(arg)\n",
    "    elif isinstance(arg, float) or isinstance(arg, Decimal):\n",
    "        return html_real(arg)\n",
    "    elif isinstance(arg, str):\n",
    "        return html_str(arg)\n",
    "    elif isinstance(arg, list) or isinstance(arg, tuple):\n",
    "        return html_list(arg)\n",
    "    elif isinstance(arg, dict):\n",
    "        return html_dict(arg)\n",
    "    elif isinstance(arg, set):\n",
    "        return html_set(arg)\n",
    "    else:\n",
    "        return html_escape(arg)"
   ]
  },
  {
   "cell_type": "code",
   "execution_count": 10,
   "id": "e0ec4719",
   "metadata": {},
   "outputs": [],
   "source": [
    "def html_escape(arg):\n",
    "    return escape(str(arg))\n",
    "\n",
    "def html_int(a):\n",
    "    return '{0}(<i>{1}</i>)'.format(a, str(hex(a)))\n",
    "\n",
    "def html_real(a):\n",
    "    return '{0:2f}'.format(reound(a,2))\n",
    "\n",
    "def html_str(s):\n",
    "    return html_escape(s).replace('\\n','<br/>\\n')\n",
    "\n",
    "def html_list(l):\n",
    "    items = ('<li>{0}</li>'.format(htmlize(item)) for item in l)\n",
    "    return '<ul>\\n' + '\\n'.join(items) +'\\n</ul>'\n",
    "\n",
    "\n",
    "def html_dict(d):\n",
    "    items = ('<li>{0}={1}</li>'.format(html_escape(k),htmlize(v)) for k,v in d.items())\n",
    "    \n",
    "    return '<ul>\\n' + '\\n'.join(items) +'\\n</ul>'\n",
    "\n",
    "\n",
    "# if need new type then need to write a new function for it. so this is not a good approach\n",
    "\n",
    "# eg for set \n",
    "def html_set(arg):\n",
    "    return html_list(arg)"
   ]
  },
  {
   "cell_type": "code",
   "execution_count": 11,
   "id": "3f4a48d8",
   "metadata": {},
   "outputs": [
    {
     "data": {
      "text/plain": [
       "'100(<i>0x64</i>)'"
      ]
     },
     "execution_count": 11,
     "metadata": {},
     "output_type": "execute_result"
    }
   ],
   "source": [
    "htmlize(100)"
   ]
  },
  {
   "cell_type": "code",
   "execution_count": 12,
   "id": "db139d22",
   "metadata": {},
   "outputs": [
    {
     "name": "stdout",
     "output_type": "stream",
     "text": [
      "<ul>\n",
      "<li>python <br/>\n",
      "        rocks!</li>\n",
      "<li>100(<i>0x64</i>)</li>\n",
      "<li><ul>\n",
      "<li>1(<i>0x1</i>)</li>\n",
      "<li>2(<i>0x2</i>)</li>\n",
      "<li>3(<i>0x3</i>)</li>\n",
      "</ul></li>\n",
      "</ul>\n"
     ]
    }
   ],
   "source": [
    "print(htmlize([\"\"\"python \n",
    "        rocks!\"\"\",100,(1,2,3)]))\n",
    "\n",
    "# this htmlizes all values now"
   ]
  },
  {
   "cell_type": "code",
   "execution_count": 13,
   "id": "374da1da",
   "metadata": {},
   "outputs": [],
   "source": [
    "# this have hard coded registry\n",
    "def htmlize(arg):\n",
    "    \n",
    "    registry = {\n",
    "       object: html_escape,\n",
    "       int: html_int,\n",
    "       float: html_real,\n",
    "       Decimal: html_real,\n",
    "       str: html_str,\n",
    "       list: html_list,\n",
    "       tuple: html_list,\n",
    "       dict: html_dict,\n",
    "       set: html_set \n",
    "    }\n",
    "    \n",
    "    \n",
    "    \n",
    "    fn = registry.get(type(arg), registry[object])\n",
    "    \n",
    "    return fn(arg)\n",
    "    "
   ]
  },
  {
   "cell_type": "code",
   "execution_count": 14,
   "id": "70576097",
   "metadata": {},
   "outputs": [
    {
     "data": {
      "text/plain": [
       "'100(<i>0x64</i>)'"
      ]
     },
     "execution_count": 14,
     "metadata": {},
     "output_type": "execute_result"
    }
   ],
   "source": [
    "htmlize(100)"
   ]
  },
  {
   "cell_type": "code",
   "execution_count": null,
   "id": "749794a4",
   "metadata": {},
   "outputs": [],
   "source": [
    "# add to registry from outside"
   ]
  },
  {
   "cell_type": "code",
   "execution_count": 21,
   "id": "4fbf0662",
   "metadata": {},
   "outputs": [],
   "source": [
    "def htmlize(arg):\n",
    "    \n",
    "    registry = {\n",
    "       object: html_escape,\n",
    "       int: html_int,\n",
    "       float: html_real,\n",
    "       Decimal: html_real,\n",
    "       str: html_str,\n",
    "       list: html_list,\n",
    "       tuple: html_list,\n",
    "       dict: html_dict,\n",
    "       set: html_set \n",
    "    }\n",
    "    \n",
    "    \n",
    "    \n",
    "    fn = registry.get(type(arg), registry[object])\n",
    "    \n",
    "    return fn(arg)\n",
    "    "
   ]
  },
  {
   "cell_type": "code",
   "execution_count": 22,
   "id": "4c0bc6d9",
   "metadata": {},
   "outputs": [],
   "source": [
    "def singledispatch(fn):\n",
    "    registry ={}\n",
    "    \n",
    "    registry[object] = fn\n",
    "    def inner(arg):\n",
    "        return registry[object](arg)\n",
    "        \n",
    "    return inner    "
   ]
  },
  {
   "cell_type": "code",
   "execution_count": 23,
   "id": "38ced100",
   "metadata": {},
   "outputs": [],
   "source": [
    "@singledispatch\n",
    "def htmlize(arg):\n",
    "    return escape(str(arg))"
   ]
  },
  {
   "cell_type": "code",
   "execution_count": 25,
   "id": "2f263f82",
   "metadata": {},
   "outputs": [
    {
     "data": {
      "text/plain": [
       "'1 &lt; 100'"
      ]
     },
     "execution_count": 25,
     "metadata": {},
     "output_type": "execute_result"
    }
   ],
   "source": [
    "htmlize('1 < 100')"
   ]
  },
  {
   "cell_type": "code",
   "execution_count": 29,
   "id": "36637002",
   "metadata": {},
   "outputs": [],
   "source": [
    "def singledispatch(fn):\n",
    "    registry ={}\n",
    "    \n",
    "    registry[object] = fn\n",
    "    registry[int] = lambda a: '{0}(<i>{1}</i>)'.format(a, str(hex(a)))\n",
    "    registry[str] = lambda s: escape(s).replace('\\n','<br/>\\n')\n",
    "    \n",
    "    def inner(arg):\n",
    "        return registry.get(type(arg), registry[object])(arg)\n",
    "        \n",
    "        \n",
    "    return inner    "
   ]
  },
  {
   "cell_type": "code",
   "execution_count": 30,
   "id": "54a819b1",
   "metadata": {},
   "outputs": [],
   "source": [
    "@singledispatch\n",
    "def htmlize(a):\n",
    "    return escape(str(a))"
   ]
  },
  {
   "cell_type": "code",
   "execution_count": 31,
   "id": "880e18c5",
   "metadata": {},
   "outputs": [
    {
     "data": {
      "text/plain": [
       "'1 &lt; 100'"
      ]
     },
     "execution_count": 31,
     "metadata": {},
     "output_type": "execute_result"
    }
   ],
   "source": [
    "htmlize('1 < 100')"
   ]
  },
  {
   "cell_type": "code",
   "execution_count": 32,
   "id": "f875f051",
   "metadata": {},
   "outputs": [
    {
     "data": {
      "text/plain": [
       "'100(<i>0x64</i>)'"
      ]
     },
     "execution_count": 32,
     "metadata": {},
     "output_type": "execute_result"
    }
   ],
   "source": [
    "htmlize(100)"
   ]
  },
  {
   "cell_type": "code",
   "execution_count": 81,
   "id": "f9ba5cf3",
   "metadata": {},
   "outputs": [],
   "source": [
    "def singledispatch(fn):\n",
    "    registry ={}\n",
    "    \n",
    "    registry[object] = fn\n",
    "\n",
    "    \n",
    "    def decorated(arg):\n",
    "        return registry.get(type(arg), registry[object])(arg)\n",
    "        \n",
    "    def register(type_):\n",
    "        \n",
    "        def inner(fn):\n",
    "            registry[type_]  = fn\n",
    "            return fn\n",
    "        \n",
    "        return inner\n",
    "    \n",
    "    def dispatch(type_):\n",
    "        return registry.get(type_, registry[object])\n",
    "            \n",
    "        registry[type_] = fn\n",
    "    decorated.register = register\n",
    "    decorated.registry = registry\n",
    "    decorated.dispatch = dispatch\n",
    "        \n",
    "    return decorated    "
   ]
  },
  {
   "cell_type": "code",
   "execution_count": 82,
   "id": "095b3e9b",
   "metadata": {},
   "outputs": [],
   "source": [
    "@singledispatch\n",
    "def htmlize(a):\n",
    "    return escape(str(a))"
   ]
  },
  {
   "cell_type": "code",
   "execution_count": 83,
   "id": "cea2dbf2",
   "metadata": {},
   "outputs": [
    {
     "data": {
      "text/plain": [
       "<function __main__.singledispatch.<locals>.register(type_)>"
      ]
     },
     "execution_count": 83,
     "metadata": {},
     "output_type": "execute_result"
    }
   ],
   "source": [
    "htmlize.register # handle to register function"
   ]
  },
  {
   "cell_type": "code",
   "execution_count": 84,
   "id": "a7e80b7c",
   "metadata": {},
   "outputs": [],
   "source": [
    "@htmlize.register(int)\n",
    "def html_int(a):\n",
    "    return '{0}(<i>{1}</i>)'.format(a, str(hex(a)))"
   ]
  },
  {
   "cell_type": "code",
   "execution_count": 85,
   "id": "99a9c241",
   "metadata": {},
   "outputs": [
    {
     "data": {
      "text/plain": [
       "'100(<i>0x64</i>)'"
      ]
     },
     "execution_count": 85,
     "metadata": {},
     "output_type": "execute_result"
    }
   ],
   "source": [
    "htmlize(100)"
   ]
  },
  {
   "cell_type": "code",
   "execution_count": 86,
   "id": "18ef11cb",
   "metadata": {},
   "outputs": [],
   "source": [
    "@htmlize.register(tuple)\n",
    "@htmlize.register(list)\n",
    "def html_seq(l):\n",
    "    items = ('<li>{0}</li>'.format(htmlize(item)) for item in l)\n",
    "    return '<ul>\\n' + '\\n'.join(items) +'\\n</ul>'"
   ]
  },
  {
   "cell_type": "code",
   "execution_count": 87,
   "id": "434100be",
   "metadata": {},
   "outputs": [
    {
     "data": {
      "text/plain": [
       "'<ul>\\n<li>1(<i>0x1</i>)</li>\\n<li>2(<i>0x2</i>)</li>\\n<li>3(<i>0x3</i>)</li>\\n</ul>'"
      ]
     },
     "execution_count": 87,
     "metadata": {},
     "output_type": "execute_result"
    }
   ],
   "source": [
    "html_seq([1,2,3])"
   ]
  },
  {
   "cell_type": "code",
   "execution_count": 88,
   "id": "8de5bfda",
   "metadata": {},
   "outputs": [
    {
     "data": {
      "text/plain": [
       "'<ul>\\n<li>1(<i>0x1</i>)</li>\\n<li>2(<i>0x2</i>)</li>\\n<li>3(<i>0x3</i>)</li>\\n</ul>'"
      ]
     },
     "execution_count": 88,
     "metadata": {},
     "output_type": "execute_result"
    }
   ],
   "source": [
    "htmlize([1,2,3])"
   ]
  },
  {
   "cell_type": "code",
   "execution_count": 89,
   "id": "a0f7f47e",
   "metadata": {},
   "outputs": [
    {
     "data": {
      "text/plain": [
       "{object: <function __main__.htmlize(a)>,\n",
       " int: <function __main__.html_int(a)>,\n",
       " list: <function __main__.html_seq(l)>,\n",
       " tuple: <function __main__.html_seq(l)>}"
      ]
     },
     "execution_count": 89,
     "metadata": {},
     "output_type": "execute_result"
    }
   ],
   "source": [
    "htmlize.registry"
   ]
  },
  {
   "cell_type": "code",
   "execution_count": 90,
   "id": "34caa650",
   "metadata": {},
   "outputs": [
    {
     "data": {
      "text/plain": [
       "<function __main__.html_int(a)>"
      ]
     },
     "execution_count": 90,
     "metadata": {},
     "output_type": "execute_result"
    }
   ],
   "source": [
    "htmlize.dispatch(int)"
   ]
  },
  {
   "cell_type": "code",
   "execution_count": 95,
   "id": "a4e278c0",
   "metadata": {},
   "outputs": [],
   "source": [
    "from collections.abc import Sequence"
   ]
  },
  {
   "cell_type": "code",
   "execution_count": 96,
   "id": "cec2c62e",
   "metadata": {},
   "outputs": [
    {
     "data": {
      "text/plain": [
       "True"
      ]
     },
     "execution_count": 96,
     "metadata": {},
     "output_type": "execute_result"
    }
   ],
   "source": [
    "isinstance([1,2,3], Sequence)"
   ]
  },
  {
   "cell_type": "code",
   "execution_count": null,
   "id": "925168eb",
   "metadata": {},
   "outputs": [],
   "source": [
    "# Problem with above decorator \n",
    "# int & Integral are not htmlized i.e. doesn't identify subclass because the code is based on type oo object\n",
    "# similarly for Sequence"
   ]
  },
  {
   "cell_type": "markdown",
   "id": "b3cd5947",
   "metadata": {},
   "source": [
    "# Resolve of above issue"
   ]
  },
  {
   "cell_type": "code",
   "execution_count": 97,
   "id": "26e76ce0",
   "metadata": {},
   "outputs": [],
   "source": [
    "from functools import singledispatch"
   ]
  },
  {
   "cell_type": "code",
   "execution_count": 98,
   "id": "c89e3b77",
   "metadata": {},
   "outputs": [],
   "source": [
    "from numbers import Integral\n",
    "from collections.abc import Sequence"
   ]
  },
  {
   "cell_type": "code",
   "execution_count": 99,
   "id": "f8635490",
   "metadata": {},
   "outputs": [],
   "source": [
    "@singledispatch\n",
    "def htmlize(a):\n",
    "    return escape(str(a))"
   ]
  },
  {
   "cell_type": "code",
   "execution_count": 100,
   "id": "555b5616",
   "metadata": {},
   "outputs": [
    {
     "data": {
      "text/plain": [
       "mappingproxy({object: <function __main__.htmlize(a)>})"
      ]
     },
     "execution_count": 100,
     "metadata": {},
     "output_type": "execute_result"
    }
   ],
   "source": [
    "htmlize.registry"
   ]
  },
  {
   "cell_type": "code",
   "execution_count": 101,
   "id": "c3e91917",
   "metadata": {},
   "outputs": [
    {
     "data": {
      "text/plain": [
       "<function __main__.htmlize(a)>"
      ]
     },
     "execution_count": 101,
     "metadata": {},
     "output_type": "execute_result"
    }
   ],
   "source": [
    "htmlize.dispatch(str)"
   ]
  },
  {
   "cell_type": "code",
   "execution_count": 102,
   "id": "03ac811f",
   "metadata": {},
   "outputs": [],
   "source": [
    "@htmlize.register(Integral)\n",
    "def htmlize_integral_number(a):\n",
    "    return '{0}(<i>{1}</i>)'.format(a, str(hex(a)))"
   ]
  },
  {
   "cell_type": "code",
   "execution_count": 103,
   "id": "c3064929",
   "metadata": {},
   "outputs": [
    {
     "data": {
      "text/plain": [
       "mappingproxy({object: <function __main__.htmlize(a)>,\n",
       "              numbers.Integral: <function __main__.htmlize_integral_number(a)>})"
      ]
     },
     "execution_count": 103,
     "metadata": {},
     "output_type": "execute_result"
    }
   ],
   "source": [
    "htmlize.registry"
   ]
  },
  {
   "cell_type": "code",
   "execution_count": 104,
   "id": "15f30f95",
   "metadata": {},
   "outputs": [
    {
     "data": {
      "text/plain": [
       "<function __main__.htmlize_integral_number(a)>"
      ]
     },
     "execution_count": 104,
     "metadata": {},
     "output_type": "execute_result"
    }
   ],
   "source": [
    "htmlize.dispatch(int) # now it identifies the subclass i.e. int as integral number"
   ]
  },
  {
   "cell_type": "code",
   "execution_count": 105,
   "id": "f8d66a39",
   "metadata": {},
   "outputs": [
    {
     "data": {
      "text/plain": [
       "'10(<i>0xa</i>)'"
      ]
     },
     "execution_count": 105,
     "metadata": {},
     "output_type": "execute_result"
    }
   ],
   "source": [
    "htmlize(10)"
   ]
  },
  {
   "cell_type": "code",
   "execution_count": 106,
   "id": "687de43a",
   "metadata": {},
   "outputs": [],
   "source": [
    "@htmlize.register(Sequence)\n",
    "def html_seq(l):\n",
    "    items = ('<li>{0}</li>'.format(htmlize(item)) for item in l)\n",
    "    return '<ul>\\n' + '\\n'.join(items) +'\\n</ul>'"
   ]
  },
  {
   "cell_type": "code",
   "execution_count": 107,
   "id": "13fa8dc1",
   "metadata": {},
   "outputs": [
    {
     "data": {
      "text/plain": [
       "'<ul>\\n<li>1(<i>0x1</i>)</li>\\n<li>2(<i>0x2</i>)</li>\\n<li>3(<i>0x3</i>)</li>\\n</ul>'"
      ]
     },
     "execution_count": 107,
     "metadata": {},
     "output_type": "execute_result"
    }
   ],
   "source": [
    "htmlize([1,2,3])"
   ]
  },
  {
   "cell_type": "code",
   "execution_count": 108,
   "id": "b16d4133",
   "metadata": {},
   "outputs": [
    {
     "data": {
      "text/plain": [
       "'<ul>\\n<li>1(<i>0x1</i>)</li>\\n<li>2(<i>0x2</i>)</li>\\n<li>3(<i>0x3</i>)</li>\\n</ul>'"
      ]
     },
     "execution_count": 108,
     "metadata": {},
     "output_type": "execute_result"
    }
   ],
   "source": [
    "htmlize((1,2,3))"
   ]
  },
  {
   "cell_type": "code",
   "execution_count": 109,
   "id": "2a13d968",
   "metadata": {},
   "outputs": [
    {
     "ename": "RecursionError",
     "evalue": "maximum recursion depth exceeded while calling a Python object",
     "output_type": "error",
     "traceback": [
      "\u001b[0;31m---------------------------------------------------------------------------\u001b[0m",
      "\u001b[0;31mRecursionError\u001b[0m                            Traceback (most recent call last)",
      "Cell \u001b[0;32mIn[109], line 1\u001b[0m\n\u001b[0;32m----> 1\u001b[0m htmlize(\u001b[38;5;124m'\u001b[39m\u001b[38;5;124mpython\u001b[39m\u001b[38;5;124m'\u001b[39m)\n",
      "File \u001b[0;32m~/anaconda3/lib/python3.11/functools.py:909\u001b[0m, in \u001b[0;36msingledispatch.<locals>.wrapper\u001b[0;34m(*args, **kw)\u001b[0m\n\u001b[1;32m    905\u001b[0m \u001b[38;5;28;01mif\u001b[39;00m \u001b[38;5;129;01mnot\u001b[39;00m args:\n\u001b[1;32m    906\u001b[0m     \u001b[38;5;28;01mraise\u001b[39;00m \u001b[38;5;167;01mTypeError\u001b[39;00m(\u001b[38;5;124mf\u001b[39m\u001b[38;5;124m'\u001b[39m\u001b[38;5;132;01m{\u001b[39;00mfuncname\u001b[38;5;132;01m}\u001b[39;00m\u001b[38;5;124m requires at least \u001b[39m\u001b[38;5;124m'\u001b[39m\n\u001b[1;32m    907\u001b[0m                     \u001b[38;5;124m'\u001b[39m\u001b[38;5;124m1 positional argument\u001b[39m\u001b[38;5;124m'\u001b[39m)\n\u001b[0;32m--> 909\u001b[0m \u001b[38;5;28;01mreturn\u001b[39;00m dispatch(args[\u001b[38;5;241m0\u001b[39m]\u001b[38;5;241m.\u001b[39m\u001b[38;5;18m__class__\u001b[39m)(\u001b[38;5;241m*\u001b[39margs, \u001b[38;5;241m*\u001b[39m\u001b[38;5;241m*\u001b[39mkw)\n",
      "Cell \u001b[0;32mIn[106], line 4\u001b[0m, in \u001b[0;36mhtml_seq\u001b[0;34m(l)\u001b[0m\n\u001b[1;32m      1\u001b[0m \u001b[38;5;129m@htmlize\u001b[39m\u001b[38;5;241m.\u001b[39mregister(Sequence)\n\u001b[1;32m      2\u001b[0m \u001b[38;5;28;01mdef\u001b[39;00m \u001b[38;5;21mhtml_seq\u001b[39m(l):\n\u001b[1;32m      3\u001b[0m     items \u001b[38;5;241m=\u001b[39m (\u001b[38;5;124m'\u001b[39m\u001b[38;5;124m<li>\u001b[39m\u001b[38;5;132;01m{0}\u001b[39;00m\u001b[38;5;124m</li>\u001b[39m\u001b[38;5;124m'\u001b[39m\u001b[38;5;241m.\u001b[39mformat(htmlize(item)) \u001b[38;5;28;01mfor\u001b[39;00m item \u001b[38;5;129;01min\u001b[39;00m l)\n\u001b[0;32m----> 4\u001b[0m     \u001b[38;5;28;01mreturn\u001b[39;00m \u001b[38;5;124m'\u001b[39m\u001b[38;5;124m<ul>\u001b[39m\u001b[38;5;130;01m\\n\u001b[39;00m\u001b[38;5;124m'\u001b[39m \u001b[38;5;241m+\u001b[39m \u001b[38;5;124m'\u001b[39m\u001b[38;5;130;01m\\n\u001b[39;00m\u001b[38;5;124m'\u001b[39m\u001b[38;5;241m.\u001b[39mjoin(items) \u001b[38;5;241m+\u001b[39m\u001b[38;5;124m'\u001b[39m\u001b[38;5;130;01m\\n\u001b[39;00m\u001b[38;5;124m</ul>\u001b[39m\u001b[38;5;124m'\u001b[39m\n",
      "Cell \u001b[0;32mIn[106], line 3\u001b[0m, in \u001b[0;36m<genexpr>\u001b[0;34m(.0)\u001b[0m\n\u001b[1;32m      1\u001b[0m \u001b[38;5;129m@htmlize\u001b[39m\u001b[38;5;241m.\u001b[39mregister(Sequence)\n\u001b[1;32m      2\u001b[0m \u001b[38;5;28;01mdef\u001b[39;00m \u001b[38;5;21mhtml_seq\u001b[39m(l):\n\u001b[0;32m----> 3\u001b[0m     items \u001b[38;5;241m=\u001b[39m (\u001b[38;5;124m'\u001b[39m\u001b[38;5;124m<li>\u001b[39m\u001b[38;5;132;01m{0}\u001b[39;00m\u001b[38;5;124m</li>\u001b[39m\u001b[38;5;124m'\u001b[39m\u001b[38;5;241m.\u001b[39mformat(htmlize(item)) \u001b[38;5;28;01mfor\u001b[39;00m item \u001b[38;5;129;01min\u001b[39;00m l)\n\u001b[1;32m      4\u001b[0m     \u001b[38;5;28;01mreturn\u001b[39;00m \u001b[38;5;124m'\u001b[39m\u001b[38;5;124m<ul>\u001b[39m\u001b[38;5;130;01m\\n\u001b[39;00m\u001b[38;5;124m'\u001b[39m \u001b[38;5;241m+\u001b[39m \u001b[38;5;124m'\u001b[39m\u001b[38;5;130;01m\\n\u001b[39;00m\u001b[38;5;124m'\u001b[39m\u001b[38;5;241m.\u001b[39mjoin(items) \u001b[38;5;241m+\u001b[39m\u001b[38;5;124m'\u001b[39m\u001b[38;5;130;01m\\n\u001b[39;00m\u001b[38;5;124m</ul>\u001b[39m\u001b[38;5;124m'\u001b[39m\n",
      "File \u001b[0;32m~/anaconda3/lib/python3.11/functools.py:909\u001b[0m, in \u001b[0;36msingledispatch.<locals>.wrapper\u001b[0;34m(*args, **kw)\u001b[0m\n\u001b[1;32m    905\u001b[0m \u001b[38;5;28;01mif\u001b[39;00m \u001b[38;5;129;01mnot\u001b[39;00m args:\n\u001b[1;32m    906\u001b[0m     \u001b[38;5;28;01mraise\u001b[39;00m \u001b[38;5;167;01mTypeError\u001b[39;00m(\u001b[38;5;124mf\u001b[39m\u001b[38;5;124m'\u001b[39m\u001b[38;5;132;01m{\u001b[39;00mfuncname\u001b[38;5;132;01m}\u001b[39;00m\u001b[38;5;124m requires at least \u001b[39m\u001b[38;5;124m'\u001b[39m\n\u001b[1;32m    907\u001b[0m                     \u001b[38;5;124m'\u001b[39m\u001b[38;5;124m1 positional argument\u001b[39m\u001b[38;5;124m'\u001b[39m)\n\u001b[0;32m--> 909\u001b[0m \u001b[38;5;28;01mreturn\u001b[39;00m dispatch(args[\u001b[38;5;241m0\u001b[39m]\u001b[38;5;241m.\u001b[39m\u001b[38;5;18m__class__\u001b[39m)(\u001b[38;5;241m*\u001b[39margs, \u001b[38;5;241m*\u001b[39m\u001b[38;5;241m*\u001b[39mkw)\n",
      "Cell \u001b[0;32mIn[106], line 4\u001b[0m, in \u001b[0;36mhtml_seq\u001b[0;34m(l)\u001b[0m\n\u001b[1;32m      1\u001b[0m \u001b[38;5;129m@htmlize\u001b[39m\u001b[38;5;241m.\u001b[39mregister(Sequence)\n\u001b[1;32m      2\u001b[0m \u001b[38;5;28;01mdef\u001b[39;00m \u001b[38;5;21mhtml_seq\u001b[39m(l):\n\u001b[1;32m      3\u001b[0m     items \u001b[38;5;241m=\u001b[39m (\u001b[38;5;124m'\u001b[39m\u001b[38;5;124m<li>\u001b[39m\u001b[38;5;132;01m{0}\u001b[39;00m\u001b[38;5;124m</li>\u001b[39m\u001b[38;5;124m'\u001b[39m\u001b[38;5;241m.\u001b[39mformat(htmlize(item)) \u001b[38;5;28;01mfor\u001b[39;00m item \u001b[38;5;129;01min\u001b[39;00m l)\n\u001b[0;32m----> 4\u001b[0m     \u001b[38;5;28;01mreturn\u001b[39;00m \u001b[38;5;124m'\u001b[39m\u001b[38;5;124m<ul>\u001b[39m\u001b[38;5;130;01m\\n\u001b[39;00m\u001b[38;5;124m'\u001b[39m \u001b[38;5;241m+\u001b[39m \u001b[38;5;124m'\u001b[39m\u001b[38;5;130;01m\\n\u001b[39;00m\u001b[38;5;124m'\u001b[39m\u001b[38;5;241m.\u001b[39mjoin(items) \u001b[38;5;241m+\u001b[39m\u001b[38;5;124m'\u001b[39m\u001b[38;5;130;01m\\n\u001b[39;00m\u001b[38;5;124m</ul>\u001b[39m\u001b[38;5;124m'\u001b[39m\n",
      "Cell \u001b[0;32mIn[106], line 3\u001b[0m, in \u001b[0;36m<genexpr>\u001b[0;34m(.0)\u001b[0m\n\u001b[1;32m      1\u001b[0m \u001b[38;5;129m@htmlize\u001b[39m\u001b[38;5;241m.\u001b[39mregister(Sequence)\n\u001b[1;32m      2\u001b[0m \u001b[38;5;28;01mdef\u001b[39;00m \u001b[38;5;21mhtml_seq\u001b[39m(l):\n\u001b[0;32m----> 3\u001b[0m     items \u001b[38;5;241m=\u001b[39m (\u001b[38;5;124m'\u001b[39m\u001b[38;5;124m<li>\u001b[39m\u001b[38;5;132;01m{0}\u001b[39;00m\u001b[38;5;124m</li>\u001b[39m\u001b[38;5;124m'\u001b[39m\u001b[38;5;241m.\u001b[39mformat(htmlize(item)) \u001b[38;5;28;01mfor\u001b[39;00m item \u001b[38;5;129;01min\u001b[39;00m l)\n\u001b[1;32m      4\u001b[0m     \u001b[38;5;28;01mreturn\u001b[39;00m \u001b[38;5;124m'\u001b[39m\u001b[38;5;124m<ul>\u001b[39m\u001b[38;5;130;01m\\n\u001b[39;00m\u001b[38;5;124m'\u001b[39m \u001b[38;5;241m+\u001b[39m \u001b[38;5;124m'\u001b[39m\u001b[38;5;130;01m\\n\u001b[39;00m\u001b[38;5;124m'\u001b[39m\u001b[38;5;241m.\u001b[39mjoin(items) \u001b[38;5;241m+\u001b[39m\u001b[38;5;124m'\u001b[39m\u001b[38;5;130;01m\\n\u001b[39;00m\u001b[38;5;124m</ul>\u001b[39m\u001b[38;5;124m'\u001b[39m\n",
      "    \u001b[0;31m[... skipping similar frames: singledispatch.<locals>.wrapper at line 909 (741 times), <genexpr> at line 3 (740 times), html_seq at line 4 (740 times)]\u001b[0m\n",
      "Cell \u001b[0;32mIn[106], line 4\u001b[0m, in \u001b[0;36mhtml_seq\u001b[0;34m(l)\u001b[0m\n\u001b[1;32m      1\u001b[0m \u001b[38;5;129m@htmlize\u001b[39m\u001b[38;5;241m.\u001b[39mregister(Sequence)\n\u001b[1;32m      2\u001b[0m \u001b[38;5;28;01mdef\u001b[39;00m \u001b[38;5;21mhtml_seq\u001b[39m(l):\n\u001b[1;32m      3\u001b[0m     items \u001b[38;5;241m=\u001b[39m (\u001b[38;5;124m'\u001b[39m\u001b[38;5;124m<li>\u001b[39m\u001b[38;5;132;01m{0}\u001b[39;00m\u001b[38;5;124m</li>\u001b[39m\u001b[38;5;124m'\u001b[39m\u001b[38;5;241m.\u001b[39mformat(htmlize(item)) \u001b[38;5;28;01mfor\u001b[39;00m item \u001b[38;5;129;01min\u001b[39;00m l)\n\u001b[0;32m----> 4\u001b[0m     \u001b[38;5;28;01mreturn\u001b[39;00m \u001b[38;5;124m'\u001b[39m\u001b[38;5;124m<ul>\u001b[39m\u001b[38;5;130;01m\\n\u001b[39;00m\u001b[38;5;124m'\u001b[39m \u001b[38;5;241m+\u001b[39m \u001b[38;5;124m'\u001b[39m\u001b[38;5;130;01m\\n\u001b[39;00m\u001b[38;5;124m'\u001b[39m\u001b[38;5;241m.\u001b[39mjoin(items) \u001b[38;5;241m+\u001b[39m\u001b[38;5;124m'\u001b[39m\u001b[38;5;130;01m\\n\u001b[39;00m\u001b[38;5;124m</ul>\u001b[39m\u001b[38;5;124m'\u001b[39m\n",
      "Cell \u001b[0;32mIn[106], line 3\u001b[0m, in \u001b[0;36m<genexpr>\u001b[0;34m(.0)\u001b[0m\n\u001b[1;32m      1\u001b[0m \u001b[38;5;129m@htmlize\u001b[39m\u001b[38;5;241m.\u001b[39mregister(Sequence)\n\u001b[1;32m      2\u001b[0m \u001b[38;5;28;01mdef\u001b[39;00m \u001b[38;5;21mhtml_seq\u001b[39m(l):\n\u001b[0;32m----> 3\u001b[0m     items \u001b[38;5;241m=\u001b[39m (\u001b[38;5;124m'\u001b[39m\u001b[38;5;124m<li>\u001b[39m\u001b[38;5;132;01m{0}\u001b[39;00m\u001b[38;5;124m</li>\u001b[39m\u001b[38;5;124m'\u001b[39m\u001b[38;5;241m.\u001b[39mformat(htmlize(item)) \u001b[38;5;28;01mfor\u001b[39;00m item \u001b[38;5;129;01min\u001b[39;00m l)\n\u001b[1;32m      4\u001b[0m     \u001b[38;5;28;01mreturn\u001b[39;00m \u001b[38;5;124m'\u001b[39m\u001b[38;5;124m<ul>\u001b[39m\u001b[38;5;130;01m\\n\u001b[39;00m\u001b[38;5;124m'\u001b[39m \u001b[38;5;241m+\u001b[39m \u001b[38;5;124m'\u001b[39m\u001b[38;5;130;01m\\n\u001b[39;00m\u001b[38;5;124m'\u001b[39m\u001b[38;5;241m.\u001b[39mjoin(items) \u001b[38;5;241m+\u001b[39m\u001b[38;5;124m'\u001b[39m\u001b[38;5;130;01m\\n\u001b[39;00m\u001b[38;5;124m</ul>\u001b[39m\u001b[38;5;124m'\u001b[39m\n",
      "File \u001b[0;32m~/anaconda3/lib/python3.11/functools.py:909\u001b[0m, in \u001b[0;36msingledispatch.<locals>.wrapper\u001b[0;34m(*args, **kw)\u001b[0m\n\u001b[1;32m    905\u001b[0m \u001b[38;5;28;01mif\u001b[39;00m \u001b[38;5;129;01mnot\u001b[39;00m args:\n\u001b[1;32m    906\u001b[0m     \u001b[38;5;28;01mraise\u001b[39;00m \u001b[38;5;167;01mTypeError\u001b[39;00m(\u001b[38;5;124mf\u001b[39m\u001b[38;5;124m'\u001b[39m\u001b[38;5;132;01m{\u001b[39;00mfuncname\u001b[38;5;132;01m}\u001b[39;00m\u001b[38;5;124m requires at least \u001b[39m\u001b[38;5;124m'\u001b[39m\n\u001b[1;32m    907\u001b[0m                     \u001b[38;5;124m'\u001b[39m\u001b[38;5;124m1 positional argument\u001b[39m\u001b[38;5;124m'\u001b[39m)\n\u001b[0;32m--> 909\u001b[0m \u001b[38;5;28;01mreturn\u001b[39;00m dispatch(args[\u001b[38;5;241m0\u001b[39m]\u001b[38;5;241m.\u001b[39m\u001b[38;5;18m__class__\u001b[39m)(\u001b[38;5;241m*\u001b[39margs, \u001b[38;5;241m*\u001b[39m\u001b[38;5;241m*\u001b[39mkw)\n",
      "File \u001b[0;32m~/anaconda3/lib/python3.11/functools.py:827\u001b[0m, in \u001b[0;36msingledispatch.<locals>.dispatch\u001b[0;34m(cls)\u001b[0m\n\u001b[1;32m    825\u001b[0m \u001b[38;5;28;01mnonlocal\u001b[39;00m cache_token\n\u001b[1;32m    826\u001b[0m \u001b[38;5;28;01mif\u001b[39;00m cache_token \u001b[38;5;129;01mis\u001b[39;00m \u001b[38;5;129;01mnot\u001b[39;00m \u001b[38;5;28;01mNone\u001b[39;00m:\n\u001b[0;32m--> 827\u001b[0m     current_token \u001b[38;5;241m=\u001b[39m get_cache_token()\n\u001b[1;32m    828\u001b[0m     \u001b[38;5;28;01mif\u001b[39;00m cache_token \u001b[38;5;241m!=\u001b[39m current_token:\n\u001b[1;32m    829\u001b[0m         dispatch_cache\u001b[38;5;241m.\u001b[39mclear()\n",
      "\u001b[0;31mRecursionError\u001b[0m: maximum recursion depth exceeded while calling a Python object"
     ]
    }
   ],
   "source": [
    "htmlize('python') # this is string as well as sequence which is causing the error\n",
    "                  # need to register htmlize for str separately(cell below)\n",
    "                  "
   ]
  },
  {
   "cell_type": "code",
   "execution_count": 110,
   "id": "fa3da91e",
   "metadata": {},
   "outputs": [],
   "source": [
    "@htmlize.register(str)\n",
    "def html_str(s):\n",
    "    return html_escape(s).replace('\\n','<br/>\\n')"
   ]
  },
  {
   "cell_type": "code",
   "execution_count": 111,
   "id": "a16a2e84",
   "metadata": {},
   "outputs": [
    {
     "data": {
      "text/plain": [
       "'python'"
      ]
     },
     "execution_count": 111,
     "metadata": {},
     "output_type": "execute_result"
    }
   ],
   "source": [
    "htmlize('python') # now it works as expected"
   ]
  },
  {
   "cell_type": "code",
   "execution_count": 112,
   "id": "be9a2624",
   "metadata": {},
   "outputs": [],
   "source": [
    "# no name given to the function \n",
    "\n",
    "@htmlize.register(Integral)\n",
    "def _(a):\n",
    "    return '{0}(<i>{1}</i>)'.format(a, str(hex(a)))\n",
    "\n",
    "@htmlize.register(str)\n",
    "def _(s):\n",
    "    return html_escape(s).replace('\\n','<br/>\\n')"
   ]
  },
  {
   "cell_type": "code",
   "execution_count": 113,
   "id": "49b1db5b",
   "metadata": {},
   "outputs": [
    {
     "data": {
      "text/plain": [
       "mappingproxy({object: <function __main__.htmlize(a)>,\n",
       "              numbers.Integral: <function __main__._(a)>,\n",
       "              collections.abc.Sequence: <function __main__.html_seq(l)>,\n",
       "              str: <function __main__._(s)>})"
      ]
     },
     "execution_count": 113,
     "metadata": {},
     "output_type": "execute_result"
    }
   ],
   "source": [
    "htmlize.registry"
   ]
  },
  {
   "cell_type": "code",
   "execution_count": 114,
   "id": "c85dc091",
   "metadata": {},
   "outputs": [
    {
     "data": {
      "text/plain": [
       "'100(<i>0x64</i>)'"
      ]
     },
     "execution_count": 114,
     "metadata": {},
     "output_type": "execute_result"
    }
   ],
   "source": [
    "htmlize(100)"
   ]
  },
  {
   "cell_type": "code",
   "execution_count": 115,
   "id": "79933e09",
   "metadata": {},
   "outputs": [
    {
     "data": {
      "text/plain": [
       "<function __main__._(a)>"
      ]
     },
     "execution_count": 115,
     "metadata": {},
     "output_type": "execute_result"
    }
   ],
   "source": [
    "htmlize.dispatch(Integral)"
   ]
  },
  {
   "cell_type": "code",
   "execution_count": null,
   "id": "2b845c80",
   "metadata": {},
   "outputs": [],
   "source": []
  }
 ],
 "metadata": {
  "kernelspec": {
   "display_name": "Python 3 (ipykernel)",
   "language": "python",
   "name": "python3"
  },
  "language_info": {
   "codemirror_mode": {
    "name": "ipython",
    "version": 3
   },
   "file_extension": ".py",
   "mimetype": "text/x-python",
   "name": "python",
   "nbconvert_exporter": "python",
   "pygments_lexer": "ipython3",
   "version": "3.11.4"
  }
 },
 "nbformat": 4,
 "nbformat_minor": 5
}
