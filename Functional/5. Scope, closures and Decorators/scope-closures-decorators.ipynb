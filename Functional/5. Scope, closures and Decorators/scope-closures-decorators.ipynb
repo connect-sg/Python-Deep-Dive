{
 "cells": [
  {
   "cell_type": "code",
   "execution_count": null,
   "id": "8f8825ed",
   "metadata": {},
   "outputs": [],
   "source": []
  }
 ],
 "metadata": {
  "language_info": {
   "name": "python"
  }
 },
 "nbformat": 4,
 "nbformat_minor": 2
}
