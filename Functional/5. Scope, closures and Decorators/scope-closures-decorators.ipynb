{
 "cells": [
  {
   "cell_type": "markdown",
   "id": "eebaf3a3",
   "metadata": {},
   "source": [
    "# Scope"
   ]
  },
  {
   "cell_type": "code",
   "execution_count": null,
   "id": "29bba92e",
   "metadata": {},
   "outputs": [],
   "source": [
    "# Global and local scope\n",
    "# name and object are bound to only certain section of code\n",
    "# binding -> lexical scope\n",
    "# binding are stored in namespaces"
   ]
  },
  {
   "cell_type": "code",
   "execution_count": null,
   "id": "4f1dab05",
   "metadata": {},
   "outputs": [],
   "source": [
    "#Global scope \n",
    "    # module scope\n",
    "    # span to single file only\n",
    "    # built-in globally available object - True, False, print etc.\n",
    "    \n",
    "    "
   ]
  },
  {
   "cell_type": "code",
   "execution_count": 6,
   "id": "555a1863",
   "metadata": {},
   "outputs": [
    {
     "name": "stdout",
     "output_type": "stream",
     "text": [
      "out of function 0\n"
     ]
    }
   ],
   "source": [
    "a = 0\n",
    "def my_func():\n",
    "    a = 100\n",
    "    print('in function ',a)\n",
    "print('out of function',a) "
   ]
  },
  {
   "cell_type": "code",
   "execution_count": 7,
   "id": "9d133ed4",
   "metadata": {},
   "outputs": [
    {
     "name": "stdout",
     "output_type": "stream",
     "text": [
      "in function  100\n"
     ]
    }
   ],
   "source": [
    "my_func()"
   ]
  },
  {
   "cell_type": "code",
   "execution_count": 8,
   "id": "d1d795bd",
   "metadata": {},
   "outputs": [
    {
     "name": "stdout",
     "output_type": "stream",
     "text": [
      "0\n"
     ]
    }
   ],
   "source": [
    "print(a)"
   ]
  },
  {
   "cell_type": "code",
   "execution_count": null,
   "id": "7c559d5e",
   "metadata": {},
   "outputs": [],
   "source": [
    "# global keyword"
   ]
  },
  {
   "cell_type": "code",
   "execution_count": 1,
   "id": "03158d74",
   "metadata": {},
   "outputs": [
    {
     "name": "stdout",
     "output_type": "stream",
     "text": [
      "out of function 0\n"
     ]
    }
   ],
   "source": [
    "a = 0\n",
    "def my_func():\n",
    "    global a # to refer global variable\n",
    "    a = 100\n",
    "    print('in function ',a)\n",
    "print('out of function',a)    "
   ]
  },
  {
   "cell_type": "code",
   "execution_count": 2,
   "id": "e07b147a",
   "metadata": {},
   "outputs": [
    {
     "name": "stdout",
     "output_type": "stream",
     "text": [
      "in function  100\n"
     ]
    }
   ],
   "source": [
    "my_func()"
   ]
  },
  {
   "cell_type": "code",
   "execution_count": 3,
   "id": "de0d4bfb",
   "metadata": {},
   "outputs": [
    {
     "name": "stdout",
     "output_type": "stream",
     "text": [
      "100\n"
     ]
    }
   ],
   "source": [
    "print(a)"
   ]
  },
  {
   "cell_type": "markdown",
   "id": "b5d26fde",
   "metadata": {},
   "source": [
    "# NonLocal funciton"
   ]
  },
  {
   "cell_type": "code",
   "execution_count": 9,
   "id": "835651ef",
   "metadata": {},
   "outputs": [
    {
     "name": "stdout",
     "output_type": "stream",
     "text": [
      "10\n"
     ]
    }
   ],
   "source": [
    "a = 10 \n",
    "def outer_func():\n",
    "    print(a)\n",
    "    \n",
    "outer_func()    "
   ]
  },
  {
   "cell_type": "code",
   "execution_count": 10,
   "id": "d6eb74ec",
   "metadata": {},
   "outputs": [
    {
     "name": "stdout",
     "output_type": "stream",
     "text": [
      "10\n"
     ]
    }
   ],
   "source": [
    "a = 10 \n",
    "def outer_func():\n",
    "    a = 10 \n",
    "    def inner_func():\n",
    "        print(a)\n",
    "        \n",
    "    inner_func()\n",
    "    \n",
    "outer_func()    "
   ]
  },
  {
   "cell_type": "code",
   "execution_count": 11,
   "id": "73bc5537",
   "metadata": {},
   "outputs": [
    {
     "name": "stdout",
     "output_type": "stream",
     "text": [
      "1000\n",
      "1000\n"
     ]
    }
   ],
   "source": [
    "a = 10 \n",
    "def outer_func():\n",
    "    global a\n",
    "    a = 1000\n",
    "    print(a)\n",
    "    \n",
    "outer_func()\n",
    "print(a)"
   ]
  },
  {
   "cell_type": "code",
   "execution_count": 14,
   "id": "85201720",
   "metadata": {},
   "outputs": [
    {
     "name": "stdout",
     "output_type": "stream",
     "text": [
      "10\n",
      "hello\n",
      "hello\n"
     ]
    }
   ],
   "source": [
    "a = 10 \n",
    "def outer_func():\n",
    "    a = 10 \n",
    "    print(a)\n",
    "    def inner_func():\n",
    "        global a \n",
    "        a = 'hello'\n",
    "        print(a)\n",
    "        \n",
    "    inner_func()\n",
    "    \n",
    "outer_func()\n",
    "print(a)"
   ]
  },
  {
   "cell_type": "code",
   "execution_count": 16,
   "id": "5fda3ee9",
   "metadata": {},
   "outputs": [
    {
     "name": "stdout",
     "output_type": "stream",
     "text": [
      "hello\n"
     ]
    }
   ],
   "source": [
    "def outer_func():\n",
    "    x = 'hello'\n",
    "    \n",
    "    def inner_func():\n",
    "        x = 'python' \n",
    "        \n",
    "    inner_func()\n",
    "    print(x)\n",
    "    \n",
    "outer_func()\n"
   ]
  },
  {
   "cell_type": "code",
   "execution_count": 19,
   "id": "4e176656",
   "metadata": {},
   "outputs": [
    {
     "name": "stdout",
     "output_type": "stream",
     "text": [
      "python\n"
     ]
    }
   ],
   "source": [
    "def outer():\n",
    "    x = 'hello'\n",
    "    \n",
    "    def inner1():\n",
    "        def inner2():\n",
    "            nonlocal x\n",
    "            x = 'python'\n",
    "        inner2()\n",
    "    inner1()\n",
    "    print(x)\n",
    "outer()    "
   ]
  },
  {
   "cell_type": "code",
   "execution_count": 20,
   "id": "bcfd31af",
   "metadata": {},
   "outputs": [
    {
     "name": "stdout",
     "output_type": "stream",
     "text": [
      "inner(before) python\n",
      "inner(before) language\n",
      "hello\n"
     ]
    }
   ],
   "source": [
    "def outer():\n",
    "    x = 'hello'\n",
    "    \n",
    "    def inner1():\n",
    "        x = 'python'\n",
    "        def inner2():\n",
    "            nonlocal x\n",
    "            x = 'language'\n",
    "        print('inner(before)',x)    \n",
    "        inner2()\n",
    "        print('inner(before)',x) \n",
    "    inner1()\n",
    "    print(x)\n",
    "outer() "
   ]
  },
  {
   "cell_type": "markdown",
   "id": "e49e2802",
   "metadata": {},
   "source": [
    "# Closures"
   ]
  },
  {
   "cell_type": "code",
   "execution_count": 23,
   "id": "a9d9cbba",
   "metadata": {},
   "outputs": [],
   "source": [
    "def outer():\n",
    "    \n",
    "####################################  \n",
    "## this is closure\n",
    "\n",
    "\n",
    "##  x is free variable in inner it is bound to the variable x \n",
    "## in outer this happens when outer runs (i.e. when inner is created)\n",
    "## this the closure\n",
    "    x = 'python'\n",
    "    \n",
    "    def inner():\n",
    "        print(\"{0} rocks!\".format(x))\n",
    "        \n",
    "        \n",
    "####################################        \n",
    "        \n",
    "    \n",
    "    \n",
    "    return inner # when we return inner, we are actually returning the closure"
   ]
  },
  {
   "cell_type": "code",
   "execution_count": 24,
   "id": "effad38b",
   "metadata": {},
   "outputs": [],
   "source": [
    "fn = outer()"
   ]
  },
  {
   "cell_type": "code",
   "execution_count": 25,
   "id": "279624ef",
   "metadata": {},
   "outputs": [
    {
     "name": "stdout",
     "output_type": "stream",
     "text": [
      "python rocks!\n"
     ]
    }
   ],
   "source": [
    "fn() # when we called fn at that time python determine the value of x in the extended scope\n",
    "# but notice that outer had finished running before we called fn - its scope was \"gone\""
   ]
  },
  {
   "cell_type": "code",
   "execution_count": 26,
   "id": "3d9c6548",
   "metadata": {},
   "outputs": [],
   "source": [
    "# python cells and multi-scoped variables\n",
    "\n",
    "\n",
    "def outer():\n",
    "    x = 'python' \n",
    "    # here the value of x is shared between 2 scopes - outer function & closure i.e. inner function\n",
    "    # label x is in 2 different scope but always reference the same \"value\"\n",
    "    # python does this by creating a cell as an intermediary object\n",
    "    # outer and inner scope x points to intermidiate cell which further points to str object of 'python'\n",
    "    # when requesting the value of variable, Python will \"double-hop\" to get to final value\n",
    "    \n",
    "    def inner():\n",
    "        print(x)\n",
    "    return inner     "
   ]
  },
  {
   "cell_type": "code",
   "execution_count": null,
   "id": "f00dcb75",
   "metadata": {},
   "outputs": [],
   "source": [
    "# can think of closures as a function plus an extended scope that contains the free variables\n",
    "# free variable's value is the object the cell points to - so that could change over time.\n",
    "# everytime the funciton in the closure is called and the free variable is refernced.\n"
   ]
  },
  {
   "cell_type": "code",
   "execution_count": 28,
   "id": "7c6a4a6e",
   "metadata": {},
   "outputs": [],
   "source": [
    "# introspection"
   ]
  },
  {
   "cell_type": "code",
   "execution_count": 29,
   "id": "cbda7488",
   "metadata": {},
   "outputs": [],
   "source": [
    "def outer():\n",
    "    a = 100\n",
    "    x = 'python'\n",
    "    \n",
    "    def inner():\n",
    "        a = 10\n",
    "        print(\"{0} rocks!\".format(x))\n",
    "        \n",
    "    return inner\n",
    "\n",
    "fn = outer()\n",
    "\n"
   ]
  },
  {
   "cell_type": "code",
   "execution_count": 30,
   "id": "563bf041",
   "metadata": {},
   "outputs": [
    {
     "data": {
      "text/plain": [
       "('x',)"
      ]
     },
     "execution_count": 30,
     "metadata": {},
     "output_type": "execute_result"
    }
   ],
   "source": [
    "fn.__code__.co_freevars # a is not free variable "
   ]
  },
  {
   "cell_type": "code",
   "execution_count": 31,
   "id": "552aadf9",
   "metadata": {},
   "outputs": [
    {
     "data": {
      "text/plain": [
       "(<cell at 0x1114dada0: str object at 0x10f722030>,)"
      ]
     },
     "execution_count": 31,
     "metadata": {},
     "output_type": "execute_result"
    }
   ],
   "source": [
    "fn.__closure__ # cel object at memory address i.e. intermidiate cell object"
   ]
  },
  {
   "cell_type": "code",
   "execution_count": 33,
   "id": "22a31f94",
   "metadata": {},
   "outputs": [
    {
     "name": "stdout",
     "output_type": "stream",
     "text": [
      "0x10f722030\n",
      "0x10f722030\n",
      "python rocks!\n"
     ]
    }
   ],
   "source": [
    "def outer():\n",
    "    x = 'python'\n",
    "    print(hex(id(x))) # indirect reference\n",
    "    def inner():\n",
    "        print(hex(id(x))) # indirect reference\n",
    "        print(\"{0} rocks!\".format(x))\n",
    "    return inner\n",
    "fn = outer()\n",
    "fn() # scope of x is different but points to same address as it created intermidiate cell \n",
    "     # which further points to object with string in x"
   ]
  },
  {
   "cell_type": "code",
   "execution_count": 34,
   "id": "d18fd4ae",
   "metadata": {},
   "outputs": [
    {
     "data": {
      "text/plain": [
       "1"
      ]
     },
     "execution_count": 34,
     "metadata": {},
     "output_type": "execute_result"
    }
   ],
   "source": [
    "# modifying free variables\n",
    "\n",
    "def counter():\n",
    "    \n",
    "    count = 0\n",
    "    def inc():\n",
    "        nonlocal count\n",
    "        count+=1\n",
    "        return count\n",
    "    \n",
    "    \n",
    "    return inc\n",
    "\n",
    "\n",
    "fn = counter()\n",
    "fn() # count indirect refernce change from 0 to 1"
   ]
  },
  {
   "cell_type": "code",
   "execution_count": 35,
   "id": "5d210aa8",
   "metadata": {},
   "outputs": [],
   "source": [
    "# mutliple instances of closures\n",
    "\n",
    "# everytime we run a funciton, a new scope is created\n",
    "# if that function generates a closure, a new closure is created every time as well"
   ]
  },
  {
   "cell_type": "code",
   "execution_count": 36,
   "id": "e2a26ad0",
   "metadata": {},
   "outputs": [],
   "source": [
    "f1 = counter()\n",
    "f2 = counter()"
   ]
  },
  {
   "cell_type": "code",
   "execution_count": 37,
   "id": "3dca28c9",
   "metadata": {},
   "outputs": [
    {
     "data": {
      "text/plain": [
       "1"
      ]
     },
     "execution_count": 37,
     "metadata": {},
     "output_type": "execute_result"
    }
   ],
   "source": [
    "f1()"
   ]
  },
  {
   "cell_type": "code",
   "execution_count": 38,
   "id": "4a441e76",
   "metadata": {},
   "outputs": [
    {
     "data": {
      "text/plain": [
       "2"
      ]
     },
     "execution_count": 38,
     "metadata": {},
     "output_type": "execute_result"
    }
   ],
   "source": [
    "f1()"
   ]
  },
  {
   "cell_type": "code",
   "execution_count": 39,
   "id": "8494fd9f",
   "metadata": {},
   "outputs": [
    {
     "data": {
      "text/plain": [
       "1"
      ]
     },
     "execution_count": 39,
     "metadata": {},
     "output_type": "execute_result"
    }
   ],
   "source": [
    "f2()"
   ]
  },
  {
   "cell_type": "code",
   "execution_count": 40,
   "id": "2a644399",
   "metadata": {},
   "outputs": [],
   "source": [
    "# shared free variable\n",
    "# shared extended scope\n",
    "\n",
    "def outer():\n",
    "    \n",
    "    count = 0\n",
    "    \n",
    "    def inc1():\n",
    "        nonlocal count\n",
    "        count+=1\n",
    "        return count\n",
    "    \n",
    "    def inc2():\n",
    "        nonlocal count\n",
    "        count+=1\n",
    "        return count\n",
    "    \n",
    "    return inc1,inc2"
   ]
  },
  {
   "cell_type": "code",
   "execution_count": 41,
   "id": "3309069f",
   "metadata": {},
   "outputs": [],
   "source": [
    "f1, f2 = outer()"
   ]
  },
  {
   "cell_type": "code",
   "execution_count": 42,
   "id": "435412cb",
   "metadata": {},
   "outputs": [
    {
     "data": {
      "text/plain": [
       "1"
      ]
     },
     "execution_count": 42,
     "metadata": {},
     "output_type": "execute_result"
    }
   ],
   "source": [
    "f1()"
   ]
  },
  {
   "cell_type": "code",
   "execution_count": 43,
   "id": "041c6672",
   "metadata": {},
   "outputs": [
    {
     "data": {
      "text/plain": [
       "2"
      ]
     },
     "execution_count": 43,
     "metadata": {},
     "output_type": "execute_result"
    }
   ],
   "source": [
    "f2()"
   ]
  },
  {
   "cell_type": "code",
   "execution_count": 44,
   "id": "b79d6a63",
   "metadata": {},
   "outputs": [],
   "source": [
    "# nested closures\n",
    "\n",
    "def incrementer(n):\n",
    "    \n",
    "    def inner(start):\n",
    "        \n",
    "        current = start\n",
    "        \n",
    "        def inc():\n",
    "            nonlocal current\n",
    "            current+=n\n",
    "            return current\n",
    "        \n",
    "        return inc\n",
    "    return inner\n",
    "\n",
    "fn = incrementer(2)"
   ]
  },
  {
   "cell_type": "code",
   "execution_count": 45,
   "id": "0fdfe73c",
   "metadata": {},
   "outputs": [
    {
     "data": {
      "text/plain": [
       "('n',)"
      ]
     },
     "execution_count": 45,
     "metadata": {},
     "output_type": "execute_result"
    }
   ],
   "source": [
    "fn.__code__.co_freevars"
   ]
  },
  {
   "cell_type": "code",
   "execution_count": 46,
   "id": "f081bf2d",
   "metadata": {},
   "outputs": [],
   "source": [
    "inc_2 = fn(100)"
   ]
  },
  {
   "cell_type": "code",
   "execution_count": 47,
   "id": "b196af3a",
   "metadata": {},
   "outputs": [
    {
     "data": {
      "text/plain": [
       "('current', 'n')"
      ]
     },
     "execution_count": 47,
     "metadata": {},
     "output_type": "execute_result"
    }
   ],
   "source": [
    "inc_2.__code__.co_freevars"
   ]
  },
  {
   "cell_type": "code",
   "execution_count": 48,
   "id": "c5408413",
   "metadata": {},
   "outputs": [
    {
     "data": {
      "text/plain": [
       "102"
      ]
     },
     "execution_count": 48,
     "metadata": {},
     "output_type": "execute_result"
    }
   ],
   "source": [
    "inc_2() # current = 100 n = 2"
   ]
  },
  {
   "cell_type": "code",
   "execution_count": 49,
   "id": "ac5e7e37",
   "metadata": {},
   "outputs": [
    {
     "data": {
      "text/plain": [
       "104"
      ]
     },
     "execution_count": 49,
     "metadata": {},
     "output_type": "execute_result"
    }
   ],
   "source": [
    "inc_2() # current = 102 n = 2"
   ]
  },
  {
   "cell_type": "code",
   "execution_count": null,
   "id": "7ae69604",
   "metadata": {},
   "outputs": [],
   "source": []
  }
 ],
 "metadata": {
  "kernelspec": {
   "display_name": "Python 3 (ipykernel)",
   "language": "python",
   "name": "python3"
  },
  "language_info": {
   "codemirror_mode": {
    "name": "ipython",
    "version": 3
   },
   "file_extension": ".py",
   "mimetype": "text/x-python",
   "name": "python",
   "nbconvert_exporter": "python",
   "pygments_lexer": "ipython3",
   "version": "3.11.4"
  }
 },
 "nbformat": 4,
 "nbformat_minor": 5
}
