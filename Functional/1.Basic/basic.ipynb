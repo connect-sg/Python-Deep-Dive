{
 "cells": [
  {
   "cell_type": "markdown",
   "id": "68d90dc7",
   "metadata": {},
   "source": [
    "# Python type Hierarchy"
   ]
  },
  {
   "cell_type": "raw",
   "id": "5dae4ee6",
   "metadata": {},
   "source": [
    "Numbers - Integral & Non-integral"
   ]
  },
  {
   "cell_type": "raw",
   "id": "84f4abe6",
   "metadata": {},
   "source": [
    "Integral - Integers, Booleans\n",
    "\n",
    "Non-Integral - Float, Complex, Decimals, Fractions"
   ]
  },
  {
   "cell_type": "raw",
   "id": "d06bda9a",
   "metadata": {},
   "source": [
    "## Collections \n",
    "\n",
    "Sequences Sets Mappings\n",
    "\n",
    "Sequences :\n",
    "    Mutable - Lists\n",
    "    Immutable - Tuple, strings\n",
    "\n",
    "Sets :\n",
    "    Mutable - Sets\n",
    "    Immutable - Frozen Sets\n",
    "\n",
    "Mappings:\n",
    "    Dictionaries"
   ]
  },
  {
   "cell_type": "raw",
   "id": "44d48556",
   "metadata": {},
   "source": [
    "Callables:\n",
    "    User Defined Functions\n",
    "    Generators\n",
    "    Classes\n",
    "    Instance Methods\n",
    "    class instances(__call__())\n",
    "    Built-in functions\n",
    "    Built-in methods"
   ]
  },
  {
   "cell_type": "raw",
   "id": "f535e460",
   "metadata": {},
   "source": [
    "Singletons:\n",
    "    None\n",
    "    NotImplemented\n",
    "    Ellipsis"
   ]
  },
  {
   "cell_type": "markdown",
   "id": "932a3c93",
   "metadata": {},
   "source": [
    "# Multiline statement & strings"
   ]
  },
  {
   "cell_type": "raw",
   "id": "536a97a8",
   "metadata": {},
   "source": [
    "Python Program:\n",
    "    Physical line of code\n",
    "        logical line of code\n",
    "            Tokenized"
   ]
  },
  {
   "cell_type": "raw",
   "id": "a5ca2183",
   "metadata": {},
   "source": [
    "Implicit & Explicit\n",
    "\n",
    "Implicit:\n",
    "    [] used for list\n",
    "    () used for tuple\n",
    "    {} used for dictionary\n",
    "    \n",
    "    function arguments/paramters\n",
    "    \n",
    "\n",
    "Explicit:\n",
    "    \\ backslash \n",
    "    "
   ]
  },
  {
   "cell_type": "markdown",
   "id": "1af641ad",
   "metadata": {},
   "source": [
    "# Variable names"
   ]
  },
  {
   "cell_type": "raw",
   "id": "75664f81",
   "metadata": {},
   "source": [
    "\n",
    "Identifier name - case sensitive\n",
    "\n",
    "rules for identifiers:\n",
    "        1. start with _ or letter[a-z A-Z]\n",
    "        2. can't be reserved words like None, True etc.\n",
    "        \n",
    "     conventions:\n",
    "         '_' as first character to indicate private objects\n",
    "         '__' mangle class attributes. Used in inheritance chains\n",
    "         \n"
   ]
  }
 ],
 "metadata": {
  "kernelspec": {
   "display_name": "Python 3 (ipykernel)",
   "language": "python",
   "name": "python3"
  },
  "language_info": {
   "codemirror_mode": {
    "name": "ipython",
    "version": 3
   },
   "file_extension": ".py",
   "mimetype": "text/x-python",
   "name": "python",
   "nbconvert_exporter": "python",
   "pygments_lexer": "ipython3",
   "version": "3.11.4"
  }
 },
 "nbformat": 4,
 "nbformat_minor": 5
}
