{
 "cells": [
  {
   "cell_type": "markdown",
   "id": "a78b3e98",
   "metadata": {},
   "source": [
    "# Python type Hierarchy"
   ]
  },
  {
   "cell_type": "markdown",
   "id": "98a08e58",
   "metadata": {},
   "source": [
    "Numbers - Integral & Non-integral"
   ]
  },
  {
   "cell_type": "markdown",
   "id": "a8b17dbf",
   "metadata": {},
   "source": [
    "Integral - Integers, Booleans\n",
    "\n",
    "Non-Integral - Float, Complex, Decimals, Fractions"
   ]
  },
  {
   "cell_type": "markdown",
   "id": "fe1da8a8",
   "metadata": {},
   "source": [
    "# Collections \n",
    "\n",
    "Sequences Sets Mappings\n",
    "\n",
    "Sequences :\n",
    "    Mutable - Lists\n",
    "    Immutable - Tuple, strings\n",
    "\n",
    "Sets :\n",
    "    Mutable - Sets\n",
    "    Immutable - Frozen Sets\n",
    "\n",
    "Mappings:\n",
    "    Dictionaries"
   ]
  },
  {
   "cell_type": "markdown",
   "id": "e2a2cbec",
   "metadata": {},
   "source": [
    "Callables:\n",
    "    User Defined Functions\n",
    "    Generators\n",
    "    Classes\n",
    "    Instance Methods\n",
    "    class instances(__call__())\n",
    "    Built-in functions\n",
    "    Built-in methods"
   ]
  },
  {
   "cell_type": "markdown",
   "id": "5131472e",
   "metadata": {},
   "source": [
    "Singletons:\n",
    "    None\n",
    "    NotImplemented\n",
    "    Ellipsis"
   ]
  },
  {
   "cell_type": "markdown",
   "id": "d37ef243",
   "metadata": {},
   "source": [
    "# Multiline statement & strings"
   ]
  },
  {
   "cell_type": "markdown",
   "id": "a5984548",
   "metadata": {},
   "source": [
    "Python Program:\n",
    "    Physical line of code\n",
    "        logical line of code\n",
    "            Tokenized"
   ]
  },
  {
   "cell_type": "markdown",
   "id": "e14bc9b4",
   "metadata": {},
   "source": [
    "Implicit & Explicit\n",
    "\n",
    "Implicit:\n",
    "    [] used for list\n",
    "    () used for tuple\n",
    "    {} used for dictionary\n",
    "    \n",
    "    function arguments/paramters\n",
    "    \n",
    "\n",
    "Explicit:\n",
    "    \\ backslash \n",
    "    "
   ]
  },
  {
   "cell_type": "markdown",
   "id": "a41e8579",
   "metadata": {},
   "source": [
    "# Variable names"
   ]
  },
  {
   "cell_type": "markdown",
   "id": "fde902f3",
   "metadata": {},
   "source": [
    "\n",
    "Identifier name - case sensitive\n",
    "\n",
    "rules for identifiers:\n",
    "        1. start with _ or letter[a-z A-Z]\n",
    "        2. can't be reserved words like None, True etc.\n",
    "        \n",
    "     conventions:\n",
    "         '_var' as first character to indicate private objects\n",
    "         '__var' mangle class attributes. Used in inheritance chains\n",
    "         '__var__' system defined names\n",
    "         \n"
   ]
  }
 ],
 "metadata": {
  "kernelspec": {
   "display_name": "Python 3 (ipykernel)",
   "language": "python",
   "name": "python3"
  },
  "language_info": {
   "codemirror_mode": {
    "name": "ipython",
    "version": 3
   },
   "file_extension": ".py",
   "mimetype": "text/x-python",
   "name": "python",
   "nbconvert_exporter": "python",
   "pygments_lexer": "ipython3",
   "version": "3.11.4"
  }
 },
 "nbformat": 4,
 "nbformat_minor": 5
}
