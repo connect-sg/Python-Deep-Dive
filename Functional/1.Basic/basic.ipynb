{
 "cells": [
  {
   "cell_type": "markdown",
   "id": "65b41e9f",
   "metadata": {},
   "source": [
    "# Python type Hierarchy"
   ]
  },
  {
   "cell_type": "raw",
   "id": "2bfa5956",
   "metadata": {},
   "source": [
    "Numbers - Integral & Non-integral"
   ]
  },
  {
   "cell_type": "raw",
   "id": "e666487b",
   "metadata": {},
   "source": [
    "Integral - Integers, Booleans\n",
    "\n",
    "Non-Integral - Float, Complex, Decimals, Fractions"
   ]
  },
  {
   "cell_type": "markdown",
   "id": "1e48cce7",
   "metadata": {},
   "source": [
    "# Collections \n",
    "\n",
    "Sequences Sets Mappings\n",
    "\n",
    "Sequences :\n",
    "    Mutable - Lists\n",
    "    Immutable - Tuple, strings\n",
    "\n",
    "Sets :\n",
    "    Mutable - Sets\n",
    "    Immutable - Frozen Sets\n",
    "\n",
    "Mappings:\n",
    "    Dictionaries"
   ]
  },
  {
   "cell_type": "raw",
   "id": "bd9a9689",
   "metadata": {},
   "source": [
    "Callables:\n",
    "    User Defined Functions\n",
    "    Generators\n",
    "    Classes\n",
    "    Instance Methods\n",
    "    class instances(__call__())\n",
    "    Built-in functions\n",
    "    Built-in methods"
   ]
  },
  {
   "cell_type": "raw",
   "id": "a8466e3d",
   "metadata": {},
   "source": [
    "Singletons:\n",
    "    None\n",
    "    NotImplemented\n",
    "    Ellipsis"
   ]
  },
  {
   "cell_type": "markdown",
   "id": "aeff80fe",
   "metadata": {},
   "source": [
    "# Multiline statement & strings"
   ]
  },
  {
   "cell_type": "raw",
   "id": "12d818a2",
   "metadata": {},
   "source": [
    "Python Program:\n",
    "    Physical line of code\n",
    "        logical line of code\n",
    "            Tokenized"
   ]
  },
  {
   "cell_type": "raw",
   "id": "8554c153",
   "metadata": {},
   "source": [
    "Implicit & Explicit\n",
    "\n",
    "Implicit:\n",
    "    [] used for list\n",
    "    () used for tuple\n",
    "    {} used for dictionary\n",
    "    \n",
    "    function arguments/paramters\n",
    "    \n",
    "\n",
    "Explicit:\n",
    "    \\ backslash \n",
    "    "
   ]
  },
  {
   "cell_type": "markdown",
   "id": "5ea25053",
   "metadata": {},
   "source": [
    "# Variable names"
   ]
  },
  {
   "cell_type": "raw",
   "id": "cf229a6f",
   "metadata": {},
   "source": [
    "\n",
    "Identifier name - case sensitive\n",
    "\n",
    "Rules for identifiers:\n",
    "        1. start with _ or letter[a-z A-Z]\n",
    "        2. can't be reserved words like None, True etc.\n",
    "        \n",
    "     conventions:\n",
    "         '_var' as first character to indicate private objects\n",
    "         '__var' mangle class attributes. Used in inheritance chains\n",
    "         '__var__' system defined names\n",
    "         \n",
    "\n",
    "\n"
   ]
  }
 ],
 "metadata": {
  "kernelspec": {
   "display_name": "Python 3 (ipykernel)",
   "language": "python",
   "name": "python3"
  },
  "language_info": {
   "codemirror_mode": {
    "name": "ipython",
    "version": 3
   },
   "file_extension": ".py",
   "mimetype": "text/x-python",
   "name": "python",
   "nbconvert_exporter": "python",
   "pygments_lexer": "ipython3",
   "version": "3.11.4"
  }
 },
 "nbformat": 4,
 "nbformat_minor": 5
}
